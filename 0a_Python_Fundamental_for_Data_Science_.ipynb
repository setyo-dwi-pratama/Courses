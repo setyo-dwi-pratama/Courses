{
  "nbformat": 4,
  "nbformat_minor": 0,
  "metadata": {
    "colab": {
      "name": "0a_Python Fundamental for Data Science .ipynb",
      "provenance": [],
      "authorship_tag": "ABX9TyNiA21PV/bTxU3fxPACiTD0",
      "include_colab_link": true
    },
    "kernelspec": {
      "name": "python3",
      "display_name": "Python 3"
    }
  },
  "cells": [
    {
      "cell_type": "markdown",
      "metadata": {
        "id": "view-in-github",
        "colab_type": "text"
      },
      "source": [
        "<a href=\"https://colab.research.google.com/github/setyo-dwi-pratama/Courses/blob/main/0a_Python_Fundamental_for_Data_Science_.ipynb\" target=\"_parent\"><img src=\"https://colab.research.google.com/assets/colab-badge.svg\" alt=\"Open In Colab\"/></a>"
      ]
    },
    {
      "cell_type": "markdown",
      "metadata": {
        "id": "Ly6azyjB1VY-"
      },
      "source": [
        "# **Python Fundamental for Data Science**"
      ]
    },
    {
      "cell_type": "markdown",
      "metadata": {
        "id": "OiKHo70p1Zh1"
      },
      "source": [
        "## **What's Python**"
      ]
    },
    {
      "cell_type": "markdown",
      "metadata": {
        "id": "nVdJRz_Z1ecs"
      },
      "source": [
        "### **Pendahuluan Tentang Python**\r\n",
        "Python merupakan bahasa pemrograman yag diciptakan pada tahun 1991 oleh Guido van Russom, seorang matematikawan.\r\n",
        "\r\n",
        "Python mulai beranjak naik dan populer. Pada beberapa survey terkait bahasa pemrograman yang sering dicari di google, Python berhasil melonjak tajam bahkan mengungguli Java. Bahkan dari insight developer survey dari stackoverflow pada tahun 2018, Python berhasil naik pada TOP 10 programming language yang paling dicari menggungguli seniornya, C, PHP, dan C#. Python merupakan programming language yang memiliki peningkatan pencarian yang sangat tajam dalam setahun terakhir. Python mengklaim dirinya adalah programming language dengan perkembangan tercepat. Selain dari perkembangan library yang semakin kuat, kontributor dari python juga sangat banyak yang akhirnya membuat python menjadi salah satu programming language yang solid dan berkembang pesat."
      ]
    },
    {
      "cell_type": "markdown",
      "metadata": {
        "id": "04mlc2RE1meV"
      },
      "source": [
        "Python sendiri berguna dalam berbagai aspek :\r\n",
        "\r\n",
        "* Web Development (Server – Side)\r\n",
        "* Software Development\r\n",
        "* Mathematics\r\n",
        "* Scripting\r\n",
        "* Data Science\r\n",
        "* Bisa mengelola Big Data dan Rumus matematika yang complex\r\n",
        "* Cocok untuk riset dan rapid prototype suatu product dan launch hingga produksi\r\n",
        "* CRUD sebuah file dan database"
      ]
    },
    {
      "cell_type": "markdown",
      "metadata": {
        "id": "Fdop1XpS1rl1"
      },
      "source": [
        "Kepopuleran python sendiri sekarang ada pada track data science. Banyaknya library dan framework seperti scikit-learn dan tensorflow membuat para pecinta data mining, AI, dan Machine learning menyukai python dalam pengembangan riset dan penelitian mereka. Berkembangnya dunia data science didunia ini juga salah satu alasan kenapa python menjadi begitu populer sekarang."
      ]
    },
    {
      "cell_type": "markdown",
      "metadata": {
        "id": "prFNI34z14m_"
      },
      "source": [
        "### **Mengapa Python Populer**\r\n",
        "Selain aspek dari meningkatnya minat masyarakat dunia terhadap data science, ada banyak hal yang membuat Python populer. Python merupakan salah satu programming language yang cocok untuk scripting dan bisa bergerak dalam berbagai platform OS dan IoT. Python sangat mirip English language. Meskipun tergolong sebagai high level programming language, python sangat mudah dimengerti karena syntaxnya yang sederhana. Python bisa bergerak dalam dalam berbagai fungsional programming dan OOP.  Python berjalan pada intepreter system, artinya code yang sudah ditulis bisa dijalankan sesegera mungkin."
      ]
    },
    {
      "cell_type": "markdown",
      "metadata": {
        "id": "1CwjVVes16gQ"
      },
      "source": [
        "Beberapa hal yang mungkin kelebihan dari python:\r\n",
        "\r\n",
        "* Python dirancang untuk mudah dibaca, dan memiliki beberapa kesamaan dengan bahasa Inggris dengan pengaruh dari matematika.\r\n",
        "* Python menggunakan baris baru untuk mengakhiri perintah, dibandingkan dengan bahasa pemrograman lain yang sering menggunakan titik koma atau tanda kurung.\r\n",
        "* Python bergantung pada indentasi, menggunakan spasi, untuk mendefinisikan ruang lingkup; seperti lingkup loop, fungsi, dan kelas. Bahasa pemrograman lainnya sering menggunakan kurung kurawal untuk tujuan ini\r\n",
        "* Jika kalian mencari di internet tentang programming python, biasanya akan ada 2 jenis python, python 2 dan python 3. versi utama Python yang paling baru adalah Python 3, yang akan kami gunakan dalam platform ini. Meskipun begitu, Python 2. Python 2 masih banyak digunakan karena versi python2 ini dianggap sudah stable dan masih bisa digunakan untuk production level. Berbeda dengan python3 yang masih berkembang terus menerus."
      ]
    },
    {
      "cell_type": "markdown",
      "metadata": {
        "id": "lldiGd3d2L_s"
      },
      "source": [
        "### **Code Hello World**\r\n",
        "Struktur code pada Python relatif sangat sederhana dan tidak terlalu rumit seperti pada Java ataupun C. Selain karena memang mudah dibaca, python juga termasuk pada high level programming language. Sebagai contoh, cobalah ketik coding pada Code Editor dengan perintah berikut untuk mengeluarkan kata-kata yang diperintahkan."
      ]
    },
    {
      "cell_type": "code",
      "metadata": {
        "colab": {
          "base_uri": "https://localhost:8080/"
        },
        "id": "YaPpOws_1Y_N",
        "outputId": "d9747a5e-8347-4939-b3fd-ba45490cd8c4"
      },
      "source": [
        "print (\"Hello World\")"
      ],
      "execution_count": 1,
      "outputs": [
        {
          "output_type": "stream",
          "text": [
            "Hello World\n"
          ],
          "name": "stdout"
        }
      ]
    },
    {
      "cell_type": "code",
      "metadata": {
        "id": "8BjNXX2U2QtH"
      },
      "source": [
        " "
      ],
      "execution_count": null,
      "outputs": []
    }
  ]
}