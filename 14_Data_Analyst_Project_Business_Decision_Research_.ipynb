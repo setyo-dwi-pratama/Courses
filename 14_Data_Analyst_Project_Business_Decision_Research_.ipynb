{
  "nbformat": 4,
  "nbformat_minor": 0,
  "metadata": {
    "colab": {
      "name": "14_Data Analyst Project: Business Decision Research .ipynb",
      "provenance": [],
      "authorship_tag": "ABX9TyNZghuV1bln2rY5SlBUFzun",
      "include_colab_link": true
    },
    "kernelspec": {
      "name": "python3",
      "display_name": "Python 3"
    },
    "accelerator": "GPU"
  },
  "cells": [
    {
      "cell_type": "markdown",
      "metadata": {
        "id": "view-in-github",
        "colab_type": "text"
      },
      "source": [
        "<a href=\"https://colab.research.google.com/github/setyo-dwi-pratama/Courses/blob/main/14_Data_Analyst_Project_Business_Decision_Research_.ipynb\" target=\"_parent\"><img src=\"https://colab.research.google.com/assets/colab-badge.svg\" alt=\"Open In Colab\"/></a>"
      ]
    },
    {
      "cell_type": "markdown",
      "metadata": {
        "id": "FDM2-_BF4vLf"
      },
      "source": [
        "# **Data Analyst Project: Business Decision Research** "
      ]
    },
    {
      "cell_type": "markdown",
      "metadata": {
        "id": "jbyw4jhU45VX"
      },
      "source": [
        "## **Pendahuluan**"
      ]
    },
    {
      "cell_type": "markdown",
      "metadata": {
        "id": "xNi0xjW048Vz"
      },
      "source": [
        "### **Proyek dari Kroma**\r\n",
        "“Aksara, revisi dari Kroma sudah beres? Soalnya kamu dipanggil lagi sekarang ke ruangannya,” ujar Senja.\r\n",
        "\r\n",
        " \r\n",
        "\r\n",
        "Aku melangkah menuju ruangan Kroma dengan perasaan campur aduk. Apakah ada revisi lagi? Sesampaiku di sana, Kroma sudah menantiku dengan senyum lebarnya. “Kita akan ada proyek baru. Saya memercayakan kamu untuk menanganinya. Ini sekaligus ujian pertama saya untukmu. Siap?”\r\n",
        "\r\n",
        " \r\n",
        "\r\n",
        "Tidak mungkin aku menjawab tidak bukan? Kukumpulkan kepercayaan diriku dan mengangguk mantap."
      ]
    },
    {
      "cell_type": "markdown",
      "metadata": {
        "id": "8XyINxWm7k11"
      },
      "source": [
        "### **Data Analytics Test**\r\n",
        "Data analytics test ini berisi 2 bagian, teori dan test coding yang masing-masing terdiri dari:\r\n",
        "\r\n",
        "1. Teori \r\n",
        "  * Konsep Dasar Data Analytics: Tes ini dimaksudkan untuk menguji pemahaman tentang data analytics.\r\n",
        "\r\n",
        "2. Coding Test\r\n",
        "  * Data preparation test: Tes ini dimaksudkan untuk menguji kemampuan dalam melakukan ETL data.\r\n",
        "  * Data visualization test: Tes ini dimaksudkan untuk menguji kemampuan  dalam hal visualisasi data.\r\n",
        "  * Basic Stats Method test: Tes ini dimaksudkan untuk menguji kemampuan  dalam melakukan modeling data menggunakan statistika dasar."
      ]
    },
    {
      "cell_type": "markdown",
      "metadata": {
        "id": "AdaKCrU38InF"
      },
      "source": [
        "## **Theoritical Test**"
      ]
    },
    {
      "cell_type": "markdown",
      "metadata": {
        "id": "YaJDtSUf8K02"
      },
      "source": [
        "### **Pengantar**\r\n",
        "Jumat pagi, aku diundang oleh Senja untuk rapat kerja bersama Kroma. Rapat berlangsung cepat, kurang dari satu jam dan aku mendapat kepercayaan dari Kroma untuk menangani proyek market research. Jujur saja, ini tantangan baru buatku. Terlebih pekerjaan ini adalah rikues langsung dari Kroma.\r\n",
        "\r\n",
        " \r\n",
        "\r\n",
        "“Sebelumnya, apakah kamu sudah di-brief oleh Senja terkait proyek ini? Apakah Senja sudah sempat membagikan padamu contoh yang pernah dilakukan senior tim terdahulu?” tanya Kroma saat rapat baru berakhir.\r\n",
        "\r\n",
        " \r\n",
        "\r\n",
        "Aku mengangguk. “Sudah. Saya juga sudah mempelajari cara untuk coding-nya hingga penyajian visualisasi data di slide presentasi maupun dijadikan dashboard.”\r\n",
        "\r\n",
        " \r\n",
        "\r\n",
        "“Baik, sepertinya sudah banyak yang sudah kamu pelajari di sini bersama Senja. Jadi, sudah siap untuk menangani proyek yang tadi saya sebutkan di rapat bukan? Saya ingin kamu melakukan **churn analysis** terhadap produk di salah satu cabang kita. **Harapan saya adalah kamu bisa memberikan rekomendasi dan strategi untuk menurunkan churn dari pelanggan kita**,” tukas Kroma seakan menguji kesiapanku.\r\n",
        "\r\n",
        " \r\n",
        "\r\n",
        "“Pasti akan saya kerjakan dan berikan yang terbaik,” jawabku mantap."
      ]
    },
    {
      "cell_type": "markdown",
      "metadata": {
        "id": "l5YPAUOA8tXv"
      },
      "source": [
        "## **Coding Test: Data Preparation**"
      ]
    },
    {
      "cell_type": "markdown",
      "metadata": {
        "id": "iS0cEylY8wBC"
      },
      "source": [
        "### **Market Research and Recommendation and Visualization Technique for Business Decision Making - Part 1**\r\n",
        "\r\n",
        "“Aksara, tadi saya forward studi kasus untuk proyek market research dari Kroma. Sudah masuk?” tanya Senja padaku begitu aku sampai di meja.\r\n",
        "\r\n",
        " \r\n",
        "\r\n",
        "“Iya, notifikasinya sudah masuk. Segera kukerjakan ya.”\r\n",
        "\r\n",
        " \r\n",
        "\r\n",
        "Aku pun membuka isi email yang dimaksud:\r\n",
        "\r\n"
      ]
    },
    {
      "cell_type": "markdown",
      "metadata": {
        "id": "HWaYH4nh9XR1"
      },
      "source": [
        "**DQLab sport center** adalah toko yang menjual berbagai kebutuhan olahraga seperti Jaket, Baju, Tas, dan Sepatu. Toko ini mulai berjualan **sejak tahun 2013**, sehingga sudah memiliki pelanggan tetap sejak lama, dan tetap berusaha untuk mendapatkan pelanggan baru sampai saat ini.\r\n",
        "\r\n",
        " \r\n",
        "\r\n",
        "Di **awal tahun 2019**,   manajer toko tersebut merekrut junior DA untuk membantu  memecahkan masalah yang ada di tokonya, yaitu **menurunnya pelanggan yang membeli kembali ke tokonya**.  Junior DA tersebut pun diberi kepercayaan mengolah data transaksi toko tersebut. **Manajer toko mendefinisikan bahwa customer termasuk sudah bukan disebut pelanggan lagi (churn) ketika dia sudah tidak bertransaksi ke tokonya lagi sampai dengan 6 bulan terakhir dari update data terakhir yang tersedia**.  \r\n",
        "\r\n",
        "Manajer toko pun memberikan data transaksi dari tahun 2013 sampai dengan 2019 dalam bentuk csv (comma separated value) dengan **data_retail.csv** dengan jumlah baris **100.000 baris data**."
      ]
    },
    {
      "cell_type": "markdown",
      "metadata": {
        "id": "Hh6s1rl68-sN"
      },
      "source": [
        "Berikut tampilan datanya:"
      ]
    },
    {
      "cell_type": "markdown",
      "metadata": {
        "id": "tIJsfCFP9AiT"
      },
      "source": [
        "![image.png](data:image/png;base64,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)"
      ]
    },
    {
      "cell_type": "markdown",
      "metadata": {
        "id": "Phpbsz3M9DnY"
      },
      "source": [
        "Field yang ada pada data tersebut antara lain:\r\n",
        "\r\n",
        "1. No\r\n",
        "2. Row_Num\r\n",
        "3. Customer_ID\r\n",
        "4. Product\r\n",
        "5. First_Transaction\r\n",
        "6. Last_Transaction\r\n",
        "7. Average_Transaction_Amount\r\n",
        "8. Count_Transaction"
      ]
    },
    {
      "cell_type": "markdown",
      "metadata": {
        "id": "0qRQIXT894Q8"
      },
      "source": [
        "### **Market Research and Recommendation and Visualization Technique for Business Decision Making - Part 2**\r\n",
        "“Sudah kamu baca?” tanya Senja lagi.\r\n",
        "\r\n",
        "Aku mengangguk seraya menyimak kembali isi studi kasus yang perlu kudapatkan solusinya.  \r\n",
        "\r\n",
        "“Jadi, manajer toko dan junior DA di salah satu cabang kita minta bantuan kamu untuk mengurusi riset pasar mereka dengan data dan persoalan tadi. Ada baiknya sembari kamu mengerjakan, buat laporan kerjamu langkah per langkah agar bisa diketahui proses analisis datanya untuk mengatasi kasus ini.”"
      ]
    },
    {
      "cell_type": "markdown",
      "metadata": {
        "id": "lwxbKRiG99gT"
      },
      "source": [
        "“Siap!” Dengan saran dari Senja, aku pun membuat catatan dari awal pengerjaan hingga selesai agar lebih sistematis untuk dilaporkan pada Kroma nanti, seperti ini:\r\n",
        "\r\n",
        "1. **Data preparation test**\r\n",
        "  * Importing data: Melakukan import data_retail.csv ke python environment.\r\n",
        "  * Cleansing data: Melakukan pembersihan dan modifikasi data sehingga siap digunakan untuk analisis lebih lanjut.\r\n",
        "2. **Data visualization test**: Mendapatkan insight dari hasil visualisasi yang telah dibuat.\r\n",
        "3. **Basic stats method test**: Mendapatkan insight dari model dan evaluasi model yang sudah dibuat dan diuji."
      ]
    },
    {
      "cell_type": "markdown",
      "metadata": {
        "id": "yZJiii1H-Vl7"
      },
      "source": [
        "### **Importing Data dan Inspection**\r\n",
        "Importlah dataset dari https://dqlab-dataset.s3-ap-southeast-1.amazonaws.com/data_retail.csv dan kemudian inspeksilah dataset tersebut dengan\r\n",
        "\r\n",
        "1. mencetak lima data teratas saja,\r\n",
        "2. mencetak info dataset."
      ]
    },
    {
      "cell_type": "code",
      "metadata": {
        "colab": {
          "base_uri": "https://localhost:8080/"
        },
        "id": "i6lr3jp24y_7",
        "outputId": "68dbfb71-eeaf-4455-992f-df13fdab9fc5"
      },
      "source": [
        "import pandas as pd\r\n",
        "\r\n",
        "df = pd.read_csv('https://dqlab-dataset.s3-ap-southeast-1.amazonaws.com/data_retail.csv', sep=';')\r\n",
        "\r\n",
        "print('Lima data teratas:')\r\n",
        "print(df.head())\r\n",
        "\r\n",
        "print('\\nInfo dataset:')\r\n",
        "print(df.info())"
      ],
      "execution_count": 11,
      "outputs": [
        {
          "output_type": "stream",
          "text": [
            "Lima data teratas:\n",
            "   no  Row_Num  ...  Average_Transaction_Amount Count_Transaction\n",
            "0   1        1  ...                     1467681                22\n",
            "1   2        2  ...                     1269337                41\n",
            "2   3        3  ...                      310915                30\n",
            "3   4        4  ...                      722632                27\n",
            "4   5        5  ...                     1775036                25\n",
            "\n",
            "[5 rows x 8 columns]\n",
            "\n",
            "Info dataset:\n",
            "<class 'pandas.core.frame.DataFrame'>\n",
            "RangeIndex: 100000 entries, 0 to 99999\n",
            "Data columns (total 8 columns):\n",
            " #   Column                      Non-Null Count   Dtype \n",
            "---  ------                      --------------   ----- \n",
            " 0   no                          100000 non-null  int64 \n",
            " 1   Row_Num                     100000 non-null  int64 \n",
            " 2   Customer_ID                 100000 non-null  int64 \n",
            " 3   Product                     100000 non-null  object\n",
            " 4   First_Transaction           100000 non-null  int64 \n",
            " 5   Last_Transaction            100000 non-null  int64 \n",
            " 6   Average_Transaction_Amount  100000 non-null  int64 \n",
            " 7   Count_Transaction           100000 non-null  int64 \n",
            "dtypes: int64(7), object(1)\n",
            "memory usage: 6.1+ MB\n",
            "None\n"
          ],
          "name": "stdout"
        }
      ]
    },
    {
      "cell_type": "code",
      "metadata": {
        "colab": {
          "base_uri": "https://localhost:8080/",
          "height": 419
        },
        "id": "IgLACmHi_EN7",
        "outputId": "bfa6cb30-7449-469e-c737-f6a9a734f0e8"
      },
      "source": [
        "df"
      ],
      "execution_count": 12,
      "outputs": [
        {
          "output_type": "execute_result",
          "data": {
            "text/html": [
              "<div>\n",
              "<style scoped>\n",
              "    .dataframe tbody tr th:only-of-type {\n",
              "        vertical-align: middle;\n",
              "    }\n",
              "\n",
              "    .dataframe tbody tr th {\n",
              "        vertical-align: top;\n",
              "    }\n",
              "\n",
              "    .dataframe thead th {\n",
              "        text-align: right;\n",
              "    }\n",
              "</style>\n",
              "<table border=\"1\" class=\"dataframe\">\n",
              "  <thead>\n",
              "    <tr style=\"text-align: right;\">\n",
              "      <th></th>\n",
              "      <th>no</th>\n",
              "      <th>Row_Num</th>\n",
              "      <th>Customer_ID</th>\n",
              "      <th>Product</th>\n",
              "      <th>First_Transaction</th>\n",
              "      <th>Last_Transaction</th>\n",
              "      <th>Average_Transaction_Amount</th>\n",
              "      <th>Count_Transaction</th>\n",
              "    </tr>\n",
              "  </thead>\n",
              "  <tbody>\n",
              "    <tr>\n",
              "      <th>0</th>\n",
              "      <td>1</td>\n",
              "      <td>1</td>\n",
              "      <td>29531</td>\n",
              "      <td>Jaket</td>\n",
              "      <td>1466304274396</td>\n",
              "      <td>1538718482608</td>\n",
              "      <td>1467681</td>\n",
              "      <td>22</td>\n",
              "    </tr>\n",
              "    <tr>\n",
              "      <th>1</th>\n",
              "      <td>2</td>\n",
              "      <td>2</td>\n",
              "      <td>29531</td>\n",
              "      <td>Sepatu</td>\n",
              "      <td>1406077331494</td>\n",
              "      <td>1545735761270</td>\n",
              "      <td>1269337</td>\n",
              "      <td>41</td>\n",
              "    </tr>\n",
              "    <tr>\n",
              "      <th>2</th>\n",
              "      <td>3</td>\n",
              "      <td>3</td>\n",
              "      <td>141526</td>\n",
              "      <td>Tas</td>\n",
              "      <td>1493349147000</td>\n",
              "      <td>1548322802000</td>\n",
              "      <td>310915</td>\n",
              "      <td>30</td>\n",
              "    </tr>\n",
              "    <tr>\n",
              "      <th>3</th>\n",
              "      <td>4</td>\n",
              "      <td>4</td>\n",
              "      <td>141526</td>\n",
              "      <td>Jaket</td>\n",
              "      <td>1493362372547</td>\n",
              "      <td>1547643603911</td>\n",
              "      <td>722632</td>\n",
              "      <td>27</td>\n",
              "    </tr>\n",
              "    <tr>\n",
              "      <th>4</th>\n",
              "      <td>5</td>\n",
              "      <td>5</td>\n",
              "      <td>37545</td>\n",
              "      <td>Sepatu</td>\n",
              "      <td>1429178498531</td>\n",
              "      <td>1542891221530</td>\n",
              "      <td>1775036</td>\n",
              "      <td>25</td>\n",
              "    </tr>\n",
              "    <tr>\n",
              "      <th>...</th>\n",
              "      <td>...</td>\n",
              "      <td>...</td>\n",
              "      <td>...</td>\n",
              "      <td>...</td>\n",
              "      <td>...</td>\n",
              "      <td>...</td>\n",
              "      <td>...</td>\n",
              "      <td>...</td>\n",
              "    </tr>\n",
              "    <tr>\n",
              "      <th>99995</th>\n",
              "      <td>99996</td>\n",
              "      <td>99996</td>\n",
              "      <td>56249</td>\n",
              "      <td>Jaket</td>\n",
              "      <td>1464780939092</td>\n",
              "      <td>1464780939092</td>\n",
              "      <td>298662</td>\n",
              "      <td>1</td>\n",
              "    </tr>\n",
              "    <tr>\n",
              "      <th>99996</th>\n",
              "      <td>99997</td>\n",
              "      <td>99997</td>\n",
              "      <td>56249</td>\n",
              "      <td>Sepatu</td>\n",
              "      <td>1486619170763</td>\n",
              "      <td>1486619170763</td>\n",
              "      <td>349556</td>\n",
              "      <td>1</td>\n",
              "    </tr>\n",
              "    <tr>\n",
              "      <th>99997</th>\n",
              "      <td>99998</td>\n",
              "      <td>99998</td>\n",
              "      <td>34157</td>\n",
              "      <td>Jaket</td>\n",
              "      <td>1440924860706</td>\n",
              "      <td>1440924860706</td>\n",
              "      <td>598013</td>\n",
              "      <td>1</td>\n",
              "    </tr>\n",
              "    <tr>\n",
              "      <th>99998</th>\n",
              "      <td>99999</td>\n",
              "      <td>99999</td>\n",
              "      <td>34157</td>\n",
              "      <td>Sepatu</td>\n",
              "      <td>1415932948026</td>\n",
              "      <td>1415932948026</td>\n",
              "      <td>1208591</td>\n",
              "      <td>1</td>\n",
              "    </tr>\n",
              "    <tr>\n",
              "      <th>99999</th>\n",
              "      <td>100000</td>\n",
              "      <td>100000</td>\n",
              "      <td>188822</td>\n",
              "      <td>Jaket</td>\n",
              "      <td>1540373764125</td>\n",
              "      <td>1540373764125</td>\n",
              "      <td>486710</td>\n",
              "      <td>1</td>\n",
              "    </tr>\n",
              "  </tbody>\n",
              "</table>\n",
              "<p>100000 rows × 8 columns</p>\n",
              "</div>"
            ],
            "text/plain": [
              "           no  Row_Num  ...  Average_Transaction_Amount Count_Transaction\n",
              "0           1        1  ...                     1467681                22\n",
              "1           2        2  ...                     1269337                41\n",
              "2           3        3  ...                      310915                30\n",
              "3           4        4  ...                      722632                27\n",
              "4           5        5  ...                     1775036                25\n",
              "...       ...      ...  ...                         ...               ...\n",
              "99995   99996    99996  ...                      298662                 1\n",
              "99996   99997    99997  ...                      349556                 1\n",
              "99997   99998    99998  ...                      598013                 1\n",
              "99998   99999    99999  ...                     1208591                 1\n",
              "99999  100000   100000  ...                      486710                 1\n",
              "\n",
              "[100000 rows x 8 columns]"
            ]
          },
          "metadata": {
            "tags": []
          },
          "execution_count": 12
        }
      ]
    },
    {
      "cell_type": "markdown",
      "metadata": {
        "id": "sVtDZkWx_58F"
      },
      "source": [
        "### **Data Cleansing**\r\n",
        "**Dua kolom yang menunjukkan terjadinya transaksi tidak bertipe datetime**, maka **ubahlah kedua kolom tersebut ke tipe data datetime**. Kemudian cetaklah kembali 5 data teratas dari dataframe **df** dan juga tipe data masing-masing kolomnya."
      ]
    },
    {
      "cell_type": "code",
      "metadata": {
        "colab": {
          "base_uri": "https://localhost:8080/"
        },
        "id": "kmyQtm65_isM",
        "outputId": "55590c9d-abc4-40ba-c1ca-46f271b0d753"
      },
      "source": [
        "# Kolom First_Transaction\r\n",
        "df['First_Transaction'] = pd.to_datetime(df['First_Transaction']/1000, unit='s', origin='1970-01-01')\r\n",
        "# Kolom Last_Transaction\r\n",
        "df['Last_Transaction'] = pd.to_datetime(df['Last_Transaction']/1000, unit='s', origin='1970-01-01')\r\n",
        "\r\n",
        "print('Lima data teratas:')\r\n",
        "print(df.head())\r\n",
        "\r\n",
        "print('\\nInfo dataset:')\r\n",
        "print(df.info())"
      ],
      "execution_count": 13,
      "outputs": [
        {
          "output_type": "stream",
          "text": [
            "Lima data teratas:\n",
            "   no  Row_Num  ...  Average_Transaction_Amount Count_Transaction\n",
            "0   1        1  ...                     1467681                22\n",
            "1   2        2  ...                     1269337                41\n",
            "2   3        3  ...                      310915                30\n",
            "3   4        4  ...                      722632                27\n",
            "4   5        5  ...                     1775036                25\n",
            "\n",
            "[5 rows x 8 columns]\n",
            "\n",
            "Info dataset:\n",
            "<class 'pandas.core.frame.DataFrame'>\n",
            "RangeIndex: 100000 entries, 0 to 99999\n",
            "Data columns (total 8 columns):\n",
            " #   Column                      Non-Null Count   Dtype         \n",
            "---  ------                      --------------   -----         \n",
            " 0   no                          100000 non-null  int64         \n",
            " 1   Row_Num                     100000 non-null  int64         \n",
            " 2   Customer_ID                 100000 non-null  int64         \n",
            " 3   Product                     100000 non-null  object        \n",
            " 4   First_Transaction           100000 non-null  datetime64[ns]\n",
            " 5   Last_Transaction            100000 non-null  datetime64[ns]\n",
            " 6   Average_Transaction_Amount  100000 non-null  int64         \n",
            " 7   Count_Transaction           100000 non-null  int64         \n",
            "dtypes: datetime64[ns](2), int64(5), object(1)\n",
            "memory usage: 6.1+ MB\n",
            "None\n"
          ],
          "name": "stdout"
        }
      ]
    },
    {
      "cell_type": "code",
      "metadata": {
        "colab": {
          "base_uri": "https://localhost:8080/",
          "height": 419
        },
        "id": "QNbzu7AYBAEl",
        "outputId": "8fb3a2cf-3e59-4c41-8ce5-6a4b9d22871a"
      },
      "source": [
        "df"
      ],
      "execution_count": 14,
      "outputs": [
        {
          "output_type": "execute_result",
          "data": {
            "text/html": [
              "<div>\n",
              "<style scoped>\n",
              "    .dataframe tbody tr th:only-of-type {\n",
              "        vertical-align: middle;\n",
              "    }\n",
              "\n",
              "    .dataframe tbody tr th {\n",
              "        vertical-align: top;\n",
              "    }\n",
              "\n",
              "    .dataframe thead th {\n",
              "        text-align: right;\n",
              "    }\n",
              "</style>\n",
              "<table border=\"1\" class=\"dataframe\">\n",
              "  <thead>\n",
              "    <tr style=\"text-align: right;\">\n",
              "      <th></th>\n",
              "      <th>no</th>\n",
              "      <th>Row_Num</th>\n",
              "      <th>Customer_ID</th>\n",
              "      <th>Product</th>\n",
              "      <th>First_Transaction</th>\n",
              "      <th>Last_Transaction</th>\n",
              "      <th>Average_Transaction_Amount</th>\n",
              "      <th>Count_Transaction</th>\n",
              "    </tr>\n",
              "  </thead>\n",
              "  <tbody>\n",
              "    <tr>\n",
              "      <th>0</th>\n",
              "      <td>1</td>\n",
              "      <td>1</td>\n",
              "      <td>29531</td>\n",
              "      <td>Jaket</td>\n",
              "      <td>2016-06-19 02:44:34.395999908</td>\n",
              "      <td>2018-10-05 05:48:02.608000040</td>\n",
              "      <td>1467681</td>\n",
              "      <td>22</td>\n",
              "    </tr>\n",
              "    <tr>\n",
              "      <th>1</th>\n",
              "      <td>2</td>\n",
              "      <td>2</td>\n",
              "      <td>29531</td>\n",
              "      <td>Sepatu</td>\n",
              "      <td>2014-07-23 01:02:11.493999958</td>\n",
              "      <td>2018-12-25 11:02:41.269999981</td>\n",
              "      <td>1269337</td>\n",
              "      <td>41</td>\n",
              "    </tr>\n",
              "    <tr>\n",
              "      <th>2</th>\n",
              "      <td>3</td>\n",
              "      <td>3</td>\n",
              "      <td>141526</td>\n",
              "      <td>Tas</td>\n",
              "      <td>2017-04-28 03:12:27.000000000</td>\n",
              "      <td>2019-01-24 09:40:02.000000000</td>\n",
              "      <td>310915</td>\n",
              "      <td>30</td>\n",
              "    </tr>\n",
              "    <tr>\n",
              "      <th>3</th>\n",
              "      <td>4</td>\n",
              "      <td>4</td>\n",
              "      <td>141526</td>\n",
              "      <td>Jaket</td>\n",
              "      <td>2017-04-28 06:52:52.546999931</td>\n",
              "      <td>2019-01-16 13:00:03.911000013</td>\n",
              "      <td>722632</td>\n",
              "      <td>27</td>\n",
              "    </tr>\n",
              "    <tr>\n",
              "      <th>4</th>\n",
              "      <td>5</td>\n",
              "      <td>5</td>\n",
              "      <td>37545</td>\n",
              "      <td>Sepatu</td>\n",
              "      <td>2015-04-16 10:01:38.530999899</td>\n",
              "      <td>2018-11-22 12:53:41.529999970</td>\n",
              "      <td>1775036</td>\n",
              "      <td>25</td>\n",
              "    </tr>\n",
              "    <tr>\n",
              "      <th>...</th>\n",
              "      <td>...</td>\n",
              "      <td>...</td>\n",
              "      <td>...</td>\n",
              "      <td>...</td>\n",
              "      <td>...</td>\n",
              "      <td>...</td>\n",
              "      <td>...</td>\n",
              "      <td>...</td>\n",
              "    </tr>\n",
              "    <tr>\n",
              "      <th>99995</th>\n",
              "      <td>99996</td>\n",
              "      <td>99996</td>\n",
              "      <td>56249</td>\n",
              "      <td>Jaket</td>\n",
              "      <td>2016-06-01 11:35:39.092000008</td>\n",
              "      <td>2016-06-01 11:35:39.092000008</td>\n",
              "      <td>298662</td>\n",
              "      <td>1</td>\n",
              "    </tr>\n",
              "    <tr>\n",
              "      <th>99996</th>\n",
              "      <td>99997</td>\n",
              "      <td>99997</td>\n",
              "      <td>56249</td>\n",
              "      <td>Sepatu</td>\n",
              "      <td>2017-02-09 05:46:10.763000011</td>\n",
              "      <td>2017-02-09 05:46:10.763000011</td>\n",
              "      <td>349556</td>\n",
              "      <td>1</td>\n",
              "    </tr>\n",
              "    <tr>\n",
              "      <th>99997</th>\n",
              "      <td>99998</td>\n",
              "      <td>99998</td>\n",
              "      <td>34157</td>\n",
              "      <td>Jaket</td>\n",
              "      <td>2015-08-30 08:54:20.706000090</td>\n",
              "      <td>2015-08-30 08:54:20.706000090</td>\n",
              "      <td>598013</td>\n",
              "      <td>1</td>\n",
              "    </tr>\n",
              "    <tr>\n",
              "      <th>99998</th>\n",
              "      <td>99999</td>\n",
              "      <td>99999</td>\n",
              "      <td>34157</td>\n",
              "      <td>Sepatu</td>\n",
              "      <td>2014-11-14 02:42:28.026000023</td>\n",
              "      <td>2014-11-14 02:42:28.026000023</td>\n",
              "      <td>1208591</td>\n",
              "      <td>1</td>\n",
              "    </tr>\n",
              "    <tr>\n",
              "      <th>99999</th>\n",
              "      <td>100000</td>\n",
              "      <td>100000</td>\n",
              "      <td>188822</td>\n",
              "      <td>Jaket</td>\n",
              "      <td>2018-10-24 09:36:04.125000000</td>\n",
              "      <td>2018-10-24 09:36:04.125000000</td>\n",
              "      <td>486710</td>\n",
              "      <td>1</td>\n",
              "    </tr>\n",
              "  </tbody>\n",
              "</table>\n",
              "<p>100000 rows × 8 columns</p>\n",
              "</div>"
            ],
            "text/plain": [
              "           no  Row_Num  ...  Average_Transaction_Amount Count_Transaction\n",
              "0           1        1  ...                     1467681                22\n",
              "1           2        2  ...                     1269337                41\n",
              "2           3        3  ...                      310915                30\n",
              "3           4        4  ...                      722632                27\n",
              "4           5        5  ...                     1775036                25\n",
              "...       ...      ...  ...                         ...               ...\n",
              "99995   99996    99996  ...                      298662                 1\n",
              "99996   99997    99997  ...                      349556                 1\n",
              "99997   99998    99998  ...                      598013                 1\n",
              "99998   99999    99999  ...                     1208591                 1\n",
              "99999  100000   100000  ...                      486710                 1\n",
              "\n",
              "[100000 rows x 8 columns]"
            ]
          },
          "metadata": {
            "tags": []
          },
          "execution_count": 14
        }
      ]
    },
    {
      "cell_type": "markdown",
      "metadata": {
        "id": "FbWPs0sICBct"
      },
      "source": [
        "### **Churn Customers**\r\n",
        "Untuk menentukan churn customers sesuai definisi yang telah diberikan, carilah\r\n",
        "\r\n",
        "1. transaksi paling terakhir kapan dilakukan\r\n",
        "2. klasifikasikanlah mana customer yang berstatus churn dan mana yang tidak.\r\n",
        "\r\n",
        "Setelah itu cetak lima data teratas dan informasi dataset."
      ]
    },
    {
      "cell_type": "code",
      "metadata": {
        "colab": {
          "base_uri": "https://localhost:8080/"
        },
        "id": "4KIZ1EPCBsKt",
        "outputId": "1ba78483-32f4-47cd-88de-2563d25a8d79"
      },
      "source": [
        "# Pengecekan transaksaksi terakhir dalam dataset\r\n",
        "print(max(df['Last_Transaction']))"
      ],
      "execution_count": 18,
      "outputs": [
        {
          "output_type": "stream",
          "text": [
            "2019-02-01 23:57:57.286000013\n"
          ],
          "name": "stdout"
        }
      ]
    },
    {
      "cell_type": "code",
      "metadata": {
        "id": "JdCISWsVDONS"
      },
      "source": [
        "# Klasifikasikan customer yang berstatus churn atau tidak\r\n",
        "# berdasarkan Manajer toko mendefinisikan bahwa customer termasuk sudah bukan disebut pelanggan lagi (churn) ketika dia sudah tidak bertransaksi ke tokonya lagi sampai dengan 6 bulan terakhir dari update data terakhir\r\n",
        "df.loc[df['Last_Transaction'] <= '2018-08-01', 'is_churn'] = True\r\n",
        "df.loc[df['Last_Transaction'] > '2018-08-01', 'is_churn'] = False"
      ],
      "execution_count": 19,
      "outputs": []
    },
    {
      "cell_type": "code",
      "metadata": {
        "colab": {
          "base_uri": "https://localhost:8080/",
          "height": 419
        },
        "id": "5m2k2HL_Cv6R",
        "outputId": "0d838498-a6d6-4be9-af0a-e82e5874061a"
      },
      "source": [
        "df"
      ],
      "execution_count": 20,
      "outputs": [
        {
          "output_type": "execute_result",
          "data": {
            "text/html": [
              "<div>\n",
              "<style scoped>\n",
              "    .dataframe tbody tr th:only-of-type {\n",
              "        vertical-align: middle;\n",
              "    }\n",
              "\n",
              "    .dataframe tbody tr th {\n",
              "        vertical-align: top;\n",
              "    }\n",
              "\n",
              "    .dataframe thead th {\n",
              "        text-align: right;\n",
              "    }\n",
              "</style>\n",
              "<table border=\"1\" class=\"dataframe\">\n",
              "  <thead>\n",
              "    <tr style=\"text-align: right;\">\n",
              "      <th></th>\n",
              "      <th>no</th>\n",
              "      <th>Row_Num</th>\n",
              "      <th>Customer_ID</th>\n",
              "      <th>Product</th>\n",
              "      <th>First_Transaction</th>\n",
              "      <th>Last_Transaction</th>\n",
              "      <th>Average_Transaction_Amount</th>\n",
              "      <th>Count_Transaction</th>\n",
              "      <th>is_churn</th>\n",
              "    </tr>\n",
              "  </thead>\n",
              "  <tbody>\n",
              "    <tr>\n",
              "      <th>0</th>\n",
              "      <td>1</td>\n",
              "      <td>1</td>\n",
              "      <td>29531</td>\n",
              "      <td>Jaket</td>\n",
              "      <td>2016-06-19 02:44:34.395999908</td>\n",
              "      <td>2018-10-05 05:48:02.608000040</td>\n",
              "      <td>1467681</td>\n",
              "      <td>22</td>\n",
              "      <td>False</td>\n",
              "    </tr>\n",
              "    <tr>\n",
              "      <th>1</th>\n",
              "      <td>2</td>\n",
              "      <td>2</td>\n",
              "      <td>29531</td>\n",
              "      <td>Sepatu</td>\n",
              "      <td>2014-07-23 01:02:11.493999958</td>\n",
              "      <td>2018-12-25 11:02:41.269999981</td>\n",
              "      <td>1269337</td>\n",
              "      <td>41</td>\n",
              "      <td>False</td>\n",
              "    </tr>\n",
              "    <tr>\n",
              "      <th>2</th>\n",
              "      <td>3</td>\n",
              "      <td>3</td>\n",
              "      <td>141526</td>\n",
              "      <td>Tas</td>\n",
              "      <td>2017-04-28 03:12:27.000000000</td>\n",
              "      <td>2019-01-24 09:40:02.000000000</td>\n",
              "      <td>310915</td>\n",
              "      <td>30</td>\n",
              "      <td>False</td>\n",
              "    </tr>\n",
              "    <tr>\n",
              "      <th>3</th>\n",
              "      <td>4</td>\n",
              "      <td>4</td>\n",
              "      <td>141526</td>\n",
              "      <td>Jaket</td>\n",
              "      <td>2017-04-28 06:52:52.546999931</td>\n",
              "      <td>2019-01-16 13:00:03.911000013</td>\n",
              "      <td>722632</td>\n",
              "      <td>27</td>\n",
              "      <td>False</td>\n",
              "    </tr>\n",
              "    <tr>\n",
              "      <th>4</th>\n",
              "      <td>5</td>\n",
              "      <td>5</td>\n",
              "      <td>37545</td>\n",
              "      <td>Sepatu</td>\n",
              "      <td>2015-04-16 10:01:38.530999899</td>\n",
              "      <td>2018-11-22 12:53:41.529999970</td>\n",
              "      <td>1775036</td>\n",
              "      <td>25</td>\n",
              "      <td>False</td>\n",
              "    </tr>\n",
              "    <tr>\n",
              "      <th>...</th>\n",
              "      <td>...</td>\n",
              "      <td>...</td>\n",
              "      <td>...</td>\n",
              "      <td>...</td>\n",
              "      <td>...</td>\n",
              "      <td>...</td>\n",
              "      <td>...</td>\n",
              "      <td>...</td>\n",
              "      <td>...</td>\n",
              "    </tr>\n",
              "    <tr>\n",
              "      <th>99995</th>\n",
              "      <td>99996</td>\n",
              "      <td>99996</td>\n",
              "      <td>56249</td>\n",
              "      <td>Jaket</td>\n",
              "      <td>2016-06-01 11:35:39.092000008</td>\n",
              "      <td>2016-06-01 11:35:39.092000008</td>\n",
              "      <td>298662</td>\n",
              "      <td>1</td>\n",
              "      <td>True</td>\n",
              "    </tr>\n",
              "    <tr>\n",
              "      <th>99996</th>\n",
              "      <td>99997</td>\n",
              "      <td>99997</td>\n",
              "      <td>56249</td>\n",
              "      <td>Sepatu</td>\n",
              "      <td>2017-02-09 05:46:10.763000011</td>\n",
              "      <td>2017-02-09 05:46:10.763000011</td>\n",
              "      <td>349556</td>\n",
              "      <td>1</td>\n",
              "      <td>True</td>\n",
              "    </tr>\n",
              "    <tr>\n",
              "      <th>99997</th>\n",
              "      <td>99998</td>\n",
              "      <td>99998</td>\n",
              "      <td>34157</td>\n",
              "      <td>Jaket</td>\n",
              "      <td>2015-08-30 08:54:20.706000090</td>\n",
              "      <td>2015-08-30 08:54:20.706000090</td>\n",
              "      <td>598013</td>\n",
              "      <td>1</td>\n",
              "      <td>True</td>\n",
              "    </tr>\n",
              "    <tr>\n",
              "      <th>99998</th>\n",
              "      <td>99999</td>\n",
              "      <td>99999</td>\n",
              "      <td>34157</td>\n",
              "      <td>Sepatu</td>\n",
              "      <td>2014-11-14 02:42:28.026000023</td>\n",
              "      <td>2014-11-14 02:42:28.026000023</td>\n",
              "      <td>1208591</td>\n",
              "      <td>1</td>\n",
              "      <td>True</td>\n",
              "    </tr>\n",
              "    <tr>\n",
              "      <th>99999</th>\n",
              "      <td>100000</td>\n",
              "      <td>100000</td>\n",
              "      <td>188822</td>\n",
              "      <td>Jaket</td>\n",
              "      <td>2018-10-24 09:36:04.125000000</td>\n",
              "      <td>2018-10-24 09:36:04.125000000</td>\n",
              "      <td>486710</td>\n",
              "      <td>1</td>\n",
              "      <td>False</td>\n",
              "    </tr>\n",
              "  </tbody>\n",
              "</table>\n",
              "<p>100000 rows × 9 columns</p>\n",
              "</div>"
            ],
            "text/plain": [
              "           no  Row_Num  ...  Count_Transaction is_churn\n",
              "0           1        1  ...                 22    False\n",
              "1           2        2  ...                 41    False\n",
              "2           3        3  ...                 30    False\n",
              "3           4        4  ...                 27    False\n",
              "4           5        5  ...                 25    False\n",
              "...       ...      ...  ...                ...      ...\n",
              "99995   99996    99996  ...                  1     True\n",
              "99996   99997    99997  ...                  1     True\n",
              "99997   99998    99998  ...                  1     True\n",
              "99998   99999    99999  ...                  1     True\n",
              "99999  100000   100000  ...                  1    False\n",
              "\n",
              "[100000 rows x 9 columns]"
            ]
          },
          "metadata": {
            "tags": []
          },
          "execution_count": 20
        }
      ]
    },
    {
      "cell_type": "code",
      "metadata": {
        "colab": {
          "base_uri": "https://localhost:8080/"
        },
        "id": "CjRm8e6ZDBQl",
        "outputId": "68e32241-ce46-4336-a41a-e6a217d89186"
      },
      "source": [
        "print('Lima data teratas:')\r\n",
        "print(df.head())\r\n",
        "\r\n",
        "print('\\nInfo dataset:')\r\n",
        "print(df.info())"
      ],
      "execution_count": 21,
      "outputs": [
        {
          "output_type": "stream",
          "text": [
            "Lima data teratas:\n",
            "   no  Row_Num  ...  Count_Transaction is_churn\n",
            "0   1        1  ...                 22    False\n",
            "1   2        2  ...                 41    False\n",
            "2   3        3  ...                 30    False\n",
            "3   4        4  ...                 27    False\n",
            "4   5        5  ...                 25    False\n",
            "\n",
            "[5 rows x 9 columns]\n",
            "\n",
            "Info dataset:\n",
            "<class 'pandas.core.frame.DataFrame'>\n",
            "RangeIndex: 100000 entries, 0 to 99999\n",
            "Data columns (total 9 columns):\n",
            " #   Column                      Non-Null Count   Dtype         \n",
            "---  ------                      --------------   -----         \n",
            " 0   no                          100000 non-null  int64         \n",
            " 1   Row_Num                     100000 non-null  int64         \n",
            " 2   Customer_ID                 100000 non-null  int64         \n",
            " 3   Product                     100000 non-null  object        \n",
            " 4   First_Transaction           100000 non-null  datetime64[ns]\n",
            " 5   Last_Transaction            100000 non-null  datetime64[ns]\n",
            " 6   Average_Transaction_Amount  100000 non-null  int64         \n",
            " 7   Count_Transaction           100000 non-null  int64         \n",
            " 8   is_churn                    100000 non-null  object        \n",
            "dtypes: datetime64[ns](2), int64(5), object(2)\n",
            "memory usage: 6.9+ MB\n",
            "None\n"
          ],
          "name": "stdout"
        }
      ]
    },
    {
      "cell_type": "code",
      "metadata": {
        "id": "n9Hi_75aDUnm"
      },
      "source": [
        ""
      ],
      "execution_count": null,
      "outputs": []
    }
  ]
}