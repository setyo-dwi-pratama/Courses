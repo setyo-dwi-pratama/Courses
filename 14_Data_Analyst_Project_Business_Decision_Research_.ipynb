{
  "nbformat": 4,
  "nbformat_minor": 0,
  "metadata": {
    "colab": {
      "name": "14_Data Analyst Project: Business Decision Research .ipynb",
      "provenance": [],
      "authorship_tag": "ABX9TyPwGKrKr9Jz0UKv6XGvqWYL",
      "include_colab_link": true
    },
    "kernelspec": {
      "name": "python3",
      "display_name": "Python 3"
    },
    "accelerator": "GPU"
  },
  "cells": [
    {
      "cell_type": "markdown",
      "metadata": {
        "id": "view-in-github",
        "colab_type": "text"
      },
      "source": [
        "<a href=\"https://colab.research.google.com/github/setyo-dwi-pratama/Courses/blob/main/14_Data_Analyst_Project_Business_Decision_Research_.ipynb\" target=\"_parent\"><img src=\"https://colab.research.google.com/assets/colab-badge.svg\" alt=\"Open In Colab\"/></a>"
      ]
    },
    {
      "cell_type": "markdown",
      "metadata": {
        "id": "FDM2-_BF4vLf"
      },
      "source": [
        "# **Data Analyst Project: Business Decision Research** "
      ]
    },
    {
      "cell_type": "markdown",
      "metadata": {
        "id": "jbyw4jhU45VX"
      },
      "source": [
        "## **Pendahuluan**"
      ]
    },
    {
      "cell_type": "markdown",
      "metadata": {
        "id": "xNi0xjW048Vz"
      },
      "source": [
        "### **Proyek dari Kroma**\r\n",
        "“Aksara, revisi dari Kroma sudah beres? Soalnya kamu dipanggil lagi sekarang ke ruangannya,” ujar Senja.\r\n",
        "\r\n",
        " \r\n",
        "\r\n",
        "Aku melangkah menuju ruangan Kroma dengan perasaan campur aduk. Apakah ada revisi lagi? Sesampaiku di sana, Kroma sudah menantiku dengan senyum lebarnya. “Kita akan ada proyek baru. Saya memercayakan kamu untuk menanganinya. Ini sekaligus ujian pertama saya untukmu. Siap?”\r\n",
        "\r\n",
        " \r\n",
        "\r\n",
        "Tidak mungkin aku menjawab tidak bukan? Kukumpulkan kepercayaan diriku dan mengangguk mantap."
      ]
    },
    {
      "cell_type": "markdown",
      "metadata": {
        "id": "8XyINxWm7k11"
      },
      "source": [
        "### **Data Analytics Test**\r\n",
        "Data analytics test ini berisi 2 bagian, teori dan test coding yang masing-masing terdiri dari:\r\n",
        "\r\n",
        "1. Teori \r\n",
        "  * Konsep Dasar Data Analytics: Tes ini dimaksudkan untuk menguji pemahaman tentang data analytics.\r\n",
        "\r\n",
        "2. Coding Test\r\n",
        "  * Data preparation test: Tes ini dimaksudkan untuk menguji kemampuan dalam melakukan ETL data.\r\n",
        "  * Data visualization test: Tes ini dimaksudkan untuk menguji kemampuan  dalam hal visualisasi data.\r\n",
        "  * Basic Stats Method test: Tes ini dimaksudkan untuk menguji kemampuan  dalam melakukan modeling data menggunakan statistika dasar."
      ]
    },
    {
      "cell_type": "markdown",
      "metadata": {
        "id": "AdaKCrU38InF"
      },
      "source": [
        "## **Theoritical Test**"
      ]
    },
    {
      "cell_type": "markdown",
      "metadata": {
        "id": "YaJDtSUf8K02"
      },
      "source": [
        "### **Pengantar**\r\n",
        "Jumat pagi, aku diundang oleh Senja untuk rapat kerja bersama Kroma. Rapat berlangsung cepat, kurang dari satu jam dan aku mendapat kepercayaan dari Kroma untuk menangani proyek market research. Jujur saja, ini tantangan baru buatku. Terlebih pekerjaan ini adalah rikues langsung dari Kroma.\r\n",
        "\r\n",
        " \r\n",
        "\r\n",
        "“Sebelumnya, apakah kamu sudah di-brief oleh Senja terkait proyek ini? Apakah Senja sudah sempat membagikan padamu contoh yang pernah dilakukan senior tim terdahulu?” tanya Kroma saat rapat baru berakhir.\r\n",
        "\r\n",
        " \r\n",
        "\r\n",
        "Aku mengangguk. “Sudah. Saya juga sudah mempelajari cara untuk coding-nya hingga penyajian visualisasi data di slide presentasi maupun dijadikan dashboard.”\r\n",
        "\r\n",
        " \r\n",
        "\r\n",
        "“Baik, sepertinya sudah banyak yang sudah kamu pelajari di sini bersama Senja. Jadi, sudah siap untuk menangani proyek yang tadi saya sebutkan di rapat bukan? Saya ingin kamu melakukan **churn analysis** terhadap produk di salah satu cabang kita. **Harapan saya adalah kamu bisa memberikan rekomendasi dan strategi untuk menurunkan churn dari pelanggan kita**,” tukas Kroma seakan menguji kesiapanku.\r\n",
        "\r\n",
        " \r\n",
        "\r\n",
        "“Pasti akan saya kerjakan dan berikan yang terbaik,” jawabku mantap."
      ]
    },
    {
      "cell_type": "markdown",
      "metadata": {
        "id": "l5YPAUOA8tXv"
      },
      "source": [
        "## **Coding Test: Data Preparation**"
      ]
    },
    {
      "cell_type": "markdown",
      "metadata": {
        "id": "iS0cEylY8wBC"
      },
      "source": [
        "### **Market Research and Recommendation and Visualization Technique for Business Decision Making - Part 1**\r\n",
        "\r\n",
        "“Aksara, tadi saya forward studi kasus untuk proyek market research dari Kroma. Sudah masuk?” tanya Senja padaku begitu aku sampai di meja.\r\n",
        "\r\n",
        " \r\n",
        "\r\n",
        "“Iya, notifikasinya sudah masuk. Segera kukerjakan ya.”\r\n",
        "\r\n",
        " \r\n",
        "\r\n",
        "Aku pun membuka isi email yang dimaksud:\r\n",
        "\r\n"
      ]
    },
    {
      "cell_type": "markdown",
      "metadata": {
        "id": "HWaYH4nh9XR1"
      },
      "source": [
        "**DQLab sport center** adalah toko yang menjual berbagai kebutuhan olahraga seperti Jaket, Baju, Tas, dan Sepatu. Toko ini mulai berjualan **sejak tahun 2013**, sehingga sudah memiliki pelanggan tetap sejak lama, dan tetap berusaha untuk mendapatkan pelanggan baru sampai saat ini.\r\n",
        "\r\n",
        " \r\n",
        "\r\n",
        "Di **awal tahun 2019**,   manajer toko tersebut merekrut junior DA untuk membantu  memecahkan masalah yang ada di tokonya, yaitu **menurunnya pelanggan yang membeli kembali ke tokonya**.  Junior DA tersebut pun diberi kepercayaan mengolah data transaksi toko tersebut. **Manajer toko mendefinisikan bahwa customer termasuk sudah bukan disebut pelanggan lagi (churn) ketika dia sudah tidak bertransaksi ke tokonya lagi sampai dengan 6 bulan terakhir dari update data terakhir yang tersedia**.  \r\n",
        "\r\n",
        "Manajer toko pun memberikan data transaksi dari tahun 2013 sampai dengan 2019 dalam bentuk csv (comma separated value) dengan **data_retail.csv** dengan jumlah baris **100.000 baris data**."
      ]
    },
    {
      "cell_type": "markdown",
      "metadata": {
        "id": "Hh6s1rl68-sN"
      },
      "source": [
        "Berikut tampilan datanya:"
      ]
    },
    {
      "cell_type": "markdown",
      "metadata": {
        "id": "tIJsfCFP9AiT"
      },
      "source": [
        "![image.png](data:image/png;base64,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)"
      ]
    },
    {
      "cell_type": "markdown",
      "metadata": {
        "id": "Phpbsz3M9DnY"
      },
      "source": [
        "Field yang ada pada data tersebut antara lain:\r\n",
        "\r\n",
        "1. No\r\n",
        "2. Row_Num\r\n",
        "3. Customer_ID\r\n",
        "4. Product\r\n",
        "5. First_Transaction\r\n",
        "6. Last_Transaction\r\n",
        "7. Average_Transaction_Amount\r\n",
        "8. Count_Transaction"
      ]
    },
    {
      "cell_type": "markdown",
      "metadata": {
        "id": "0qRQIXT894Q8"
      },
      "source": [
        "### **Market Research and Recommendation and Visualization Technique for Business Decision Making - Part 2**\r\n",
        "“Sudah kamu baca?” tanya Senja lagi.\r\n",
        "\r\n",
        "Aku mengangguk seraya menyimak kembali isi studi kasus yang perlu kudapatkan solusinya.  \r\n",
        "\r\n",
        "“Jadi, manajer toko dan junior DA di salah satu cabang kita minta bantuan kamu untuk mengurusi riset pasar mereka dengan data dan persoalan tadi. Ada baiknya sembari kamu mengerjakan, buat laporan kerjamu langkah per langkah agar bisa diketahui proses analisis datanya untuk mengatasi kasus ini.”"
      ]
    },
    {
      "cell_type": "markdown",
      "metadata": {
        "id": "lwxbKRiG99gT"
      },
      "source": [
        "“Siap!” Dengan saran dari Senja, aku pun membuat catatan dari awal pengerjaan hingga selesai agar lebih sistematis untuk dilaporkan pada Kroma nanti, seperti ini:\r\n",
        "\r\n",
        "1. **Data preparation test**\r\n",
        "  * Importing data: Melakukan import data_retail.csv ke python environment.\r\n",
        "  * Cleansing data: Melakukan pembersihan dan modifikasi data sehingga siap digunakan untuk analisis lebih lanjut.\r\n",
        "2. **Data visualization test**: Mendapatkan insight dari hasil visualisasi yang telah dibuat.\r\n",
        "3. **Basic stats method test**: Mendapatkan insight dari model dan evaluasi model yang sudah dibuat dan diuji."
      ]
    },
    {
      "cell_type": "markdown",
      "metadata": {
        "id": "yZJiii1H-Vl7"
      },
      "source": [
        "### **Importing Data dan Inspection**\r\n",
        "Importlah dataset dari https://dqlab-dataset.s3-ap-southeast-1.amazonaws.com/data_retail.csv dan kemudian inspeksilah dataset tersebut dengan\r\n",
        "\r\n",
        "1. mencetak lima data teratas saja,\r\n",
        "2. mencetak info dataset."
      ]
    },
    {
      "cell_type": "code",
      "metadata": {
        "colab": {
          "base_uri": "https://localhost:8080/"
        },
        "id": "i6lr3jp24y_7",
        "outputId": "5ff845f5-4a2e-4f7d-adea-6c3f3f18676e"
      },
      "source": [
        "import pandas as pd\r\n",
        "\r\n",
        "df = pd.read_csv('https://dqlab-dataset.s3-ap-southeast-1.amazonaws.com/data_retail.csv', sep=';')\r\n",
        "\r\n",
        "print('Lima data teratas:')\r\n",
        "print(df.head())\r\n",
        "\r\n",
        "print('\\nInfo dataset:')\r\n",
        "print(df.info())"
      ],
      "execution_count": 161,
      "outputs": [
        {
          "output_type": "stream",
          "text": [
            "Lima data teratas:\n",
            "   no  Row_Num  ...  Average_Transaction_Amount Count_Transaction\n",
            "0   1        1  ...                     1467681                22\n",
            "1   2        2  ...                     1269337                41\n",
            "2   3        3  ...                      310915                30\n",
            "3   4        4  ...                      722632                27\n",
            "4   5        5  ...                     1775036                25\n",
            "\n",
            "[5 rows x 8 columns]\n",
            "\n",
            "Info dataset:\n",
            "<class 'pandas.core.frame.DataFrame'>\n",
            "RangeIndex: 100000 entries, 0 to 99999\n",
            "Data columns (total 8 columns):\n",
            " #   Column                      Non-Null Count   Dtype \n",
            "---  ------                      --------------   ----- \n",
            " 0   no                          100000 non-null  int64 \n",
            " 1   Row_Num                     100000 non-null  int64 \n",
            " 2   Customer_ID                 100000 non-null  int64 \n",
            " 3   Product                     100000 non-null  object\n",
            " 4   First_Transaction           100000 non-null  int64 \n",
            " 5   Last_Transaction            100000 non-null  int64 \n",
            " 6   Average_Transaction_Amount  100000 non-null  int64 \n",
            " 7   Count_Transaction           100000 non-null  int64 \n",
            "dtypes: int64(7), object(1)\n",
            "memory usage: 6.1+ MB\n",
            "None\n"
          ],
          "name": "stdout"
        }
      ]
    },
    {
      "cell_type": "code",
      "metadata": {
        "colab": {
          "base_uri": "https://localhost:8080/",
          "height": 419
        },
        "id": "IgLACmHi_EN7",
        "outputId": "39eef192-453e-45d8-dff3-df22dc8bac89"
      },
      "source": [
        "df"
      ],
      "execution_count": 162,
      "outputs": [
        {
          "output_type": "execute_result",
          "data": {
            "text/html": [
              "<div>\n",
              "<style scoped>\n",
              "    .dataframe tbody tr th:only-of-type {\n",
              "        vertical-align: middle;\n",
              "    }\n",
              "\n",
              "    .dataframe tbody tr th {\n",
              "        vertical-align: top;\n",
              "    }\n",
              "\n",
              "    .dataframe thead th {\n",
              "        text-align: right;\n",
              "    }\n",
              "</style>\n",
              "<table border=\"1\" class=\"dataframe\">\n",
              "  <thead>\n",
              "    <tr style=\"text-align: right;\">\n",
              "      <th></th>\n",
              "      <th>no</th>\n",
              "      <th>Row_Num</th>\n",
              "      <th>Customer_ID</th>\n",
              "      <th>Product</th>\n",
              "      <th>First_Transaction</th>\n",
              "      <th>Last_Transaction</th>\n",
              "      <th>Average_Transaction_Amount</th>\n",
              "      <th>Count_Transaction</th>\n",
              "    </tr>\n",
              "  </thead>\n",
              "  <tbody>\n",
              "    <tr>\n",
              "      <th>0</th>\n",
              "      <td>1</td>\n",
              "      <td>1</td>\n",
              "      <td>29531</td>\n",
              "      <td>Jaket</td>\n",
              "      <td>1466304274396</td>\n",
              "      <td>1538718482608</td>\n",
              "      <td>1467681</td>\n",
              "      <td>22</td>\n",
              "    </tr>\n",
              "    <tr>\n",
              "      <th>1</th>\n",
              "      <td>2</td>\n",
              "      <td>2</td>\n",
              "      <td>29531</td>\n",
              "      <td>Sepatu</td>\n",
              "      <td>1406077331494</td>\n",
              "      <td>1545735761270</td>\n",
              "      <td>1269337</td>\n",
              "      <td>41</td>\n",
              "    </tr>\n",
              "    <tr>\n",
              "      <th>2</th>\n",
              "      <td>3</td>\n",
              "      <td>3</td>\n",
              "      <td>141526</td>\n",
              "      <td>Tas</td>\n",
              "      <td>1493349147000</td>\n",
              "      <td>1548322802000</td>\n",
              "      <td>310915</td>\n",
              "      <td>30</td>\n",
              "    </tr>\n",
              "    <tr>\n",
              "      <th>3</th>\n",
              "      <td>4</td>\n",
              "      <td>4</td>\n",
              "      <td>141526</td>\n",
              "      <td>Jaket</td>\n",
              "      <td>1493362372547</td>\n",
              "      <td>1547643603911</td>\n",
              "      <td>722632</td>\n",
              "      <td>27</td>\n",
              "    </tr>\n",
              "    <tr>\n",
              "      <th>4</th>\n",
              "      <td>5</td>\n",
              "      <td>5</td>\n",
              "      <td>37545</td>\n",
              "      <td>Sepatu</td>\n",
              "      <td>1429178498531</td>\n",
              "      <td>1542891221530</td>\n",
              "      <td>1775036</td>\n",
              "      <td>25</td>\n",
              "    </tr>\n",
              "    <tr>\n",
              "      <th>...</th>\n",
              "      <td>...</td>\n",
              "      <td>...</td>\n",
              "      <td>...</td>\n",
              "      <td>...</td>\n",
              "      <td>...</td>\n",
              "      <td>...</td>\n",
              "      <td>...</td>\n",
              "      <td>...</td>\n",
              "    </tr>\n",
              "    <tr>\n",
              "      <th>99995</th>\n",
              "      <td>99996</td>\n",
              "      <td>99996</td>\n",
              "      <td>56249</td>\n",
              "      <td>Jaket</td>\n",
              "      <td>1464780939092</td>\n",
              "      <td>1464780939092</td>\n",
              "      <td>298662</td>\n",
              "      <td>1</td>\n",
              "    </tr>\n",
              "    <tr>\n",
              "      <th>99996</th>\n",
              "      <td>99997</td>\n",
              "      <td>99997</td>\n",
              "      <td>56249</td>\n",
              "      <td>Sepatu</td>\n",
              "      <td>1486619170763</td>\n",
              "      <td>1486619170763</td>\n",
              "      <td>349556</td>\n",
              "      <td>1</td>\n",
              "    </tr>\n",
              "    <tr>\n",
              "      <th>99997</th>\n",
              "      <td>99998</td>\n",
              "      <td>99998</td>\n",
              "      <td>34157</td>\n",
              "      <td>Jaket</td>\n",
              "      <td>1440924860706</td>\n",
              "      <td>1440924860706</td>\n",
              "      <td>598013</td>\n",
              "      <td>1</td>\n",
              "    </tr>\n",
              "    <tr>\n",
              "      <th>99998</th>\n",
              "      <td>99999</td>\n",
              "      <td>99999</td>\n",
              "      <td>34157</td>\n",
              "      <td>Sepatu</td>\n",
              "      <td>1415932948026</td>\n",
              "      <td>1415932948026</td>\n",
              "      <td>1208591</td>\n",
              "      <td>1</td>\n",
              "    </tr>\n",
              "    <tr>\n",
              "      <th>99999</th>\n",
              "      <td>100000</td>\n",
              "      <td>100000</td>\n",
              "      <td>188822</td>\n",
              "      <td>Jaket</td>\n",
              "      <td>1540373764125</td>\n",
              "      <td>1540373764125</td>\n",
              "      <td>486710</td>\n",
              "      <td>1</td>\n",
              "    </tr>\n",
              "  </tbody>\n",
              "</table>\n",
              "<p>100000 rows × 8 columns</p>\n",
              "</div>"
            ],
            "text/plain": [
              "           no  Row_Num  ...  Average_Transaction_Amount Count_Transaction\n",
              "0           1        1  ...                     1467681                22\n",
              "1           2        2  ...                     1269337                41\n",
              "2           3        3  ...                      310915                30\n",
              "3           4        4  ...                      722632                27\n",
              "4           5        5  ...                     1775036                25\n",
              "...       ...      ...  ...                         ...               ...\n",
              "99995   99996    99996  ...                      298662                 1\n",
              "99996   99997    99997  ...                      349556                 1\n",
              "99997   99998    99998  ...                      598013                 1\n",
              "99998   99999    99999  ...                     1208591                 1\n",
              "99999  100000   100000  ...                      486710                 1\n",
              "\n",
              "[100000 rows x 8 columns]"
            ]
          },
          "metadata": {
            "tags": []
          },
          "execution_count": 162
        }
      ]
    },
    {
      "cell_type": "markdown",
      "metadata": {
        "id": "sVtDZkWx_58F"
      },
      "source": [
        "### **Data Cleansing**\r\n",
        "**Dua kolom yang menunjukkan terjadinya transaksi tidak bertipe datetime**, maka **ubahlah kedua kolom tersebut ke tipe data datetime**. Kemudian cetaklah kembali 5 data teratas dari dataframe **df** dan juga tipe data masing-masing kolomnya."
      ]
    },
    {
      "cell_type": "code",
      "metadata": {
        "colab": {
          "base_uri": "https://localhost:8080/"
        },
        "id": "kmyQtm65_isM",
        "outputId": "25f67ace-d4a5-4b4d-a9b0-944fcec36889"
      },
      "source": [
        "# Kolom First_Transaction\r\n",
        "df['First_Transaction'] = pd.to_datetime(df['First_Transaction']/1000, unit='s', origin='1970-01-01')\r\n",
        "# Kolom Last_Transaction\r\n",
        "df['Last_Transaction'] = pd.to_datetime(df['Last_Transaction']/1000, unit='s', origin='1970-01-01')\r\n",
        "\r\n",
        "print('Lima data teratas:')\r\n",
        "print(df.head())\r\n",
        "\r\n",
        "print('\\nInfo dataset:')\r\n",
        "print(df.info())"
      ],
      "execution_count": 163,
      "outputs": [
        {
          "output_type": "stream",
          "text": [
            "Lima data teratas:\n",
            "   no  Row_Num  ...  Average_Transaction_Amount Count_Transaction\n",
            "0   1        1  ...                     1467681                22\n",
            "1   2        2  ...                     1269337                41\n",
            "2   3        3  ...                      310915                30\n",
            "3   4        4  ...                      722632                27\n",
            "4   5        5  ...                     1775036                25\n",
            "\n",
            "[5 rows x 8 columns]\n",
            "\n",
            "Info dataset:\n",
            "<class 'pandas.core.frame.DataFrame'>\n",
            "RangeIndex: 100000 entries, 0 to 99999\n",
            "Data columns (total 8 columns):\n",
            " #   Column                      Non-Null Count   Dtype         \n",
            "---  ------                      --------------   -----         \n",
            " 0   no                          100000 non-null  int64         \n",
            " 1   Row_Num                     100000 non-null  int64         \n",
            " 2   Customer_ID                 100000 non-null  int64         \n",
            " 3   Product                     100000 non-null  object        \n",
            " 4   First_Transaction           100000 non-null  datetime64[ns]\n",
            " 5   Last_Transaction            100000 non-null  datetime64[ns]\n",
            " 6   Average_Transaction_Amount  100000 non-null  int64         \n",
            " 7   Count_Transaction           100000 non-null  int64         \n",
            "dtypes: datetime64[ns](2), int64(5), object(1)\n",
            "memory usage: 6.1+ MB\n",
            "None\n"
          ],
          "name": "stdout"
        }
      ]
    },
    {
      "cell_type": "code",
      "metadata": {
        "colab": {
          "base_uri": "https://localhost:8080/",
          "height": 419
        },
        "id": "QNbzu7AYBAEl",
        "outputId": "8b241886-fea1-4ca8-ca9f-d9ec445c8024"
      },
      "source": [
        "df"
      ],
      "execution_count": 164,
      "outputs": [
        {
          "output_type": "execute_result",
          "data": {
            "text/html": [
              "<div>\n",
              "<style scoped>\n",
              "    .dataframe tbody tr th:only-of-type {\n",
              "        vertical-align: middle;\n",
              "    }\n",
              "\n",
              "    .dataframe tbody tr th {\n",
              "        vertical-align: top;\n",
              "    }\n",
              "\n",
              "    .dataframe thead th {\n",
              "        text-align: right;\n",
              "    }\n",
              "</style>\n",
              "<table border=\"1\" class=\"dataframe\">\n",
              "  <thead>\n",
              "    <tr style=\"text-align: right;\">\n",
              "      <th></th>\n",
              "      <th>no</th>\n",
              "      <th>Row_Num</th>\n",
              "      <th>Customer_ID</th>\n",
              "      <th>Product</th>\n",
              "      <th>First_Transaction</th>\n",
              "      <th>Last_Transaction</th>\n",
              "      <th>Average_Transaction_Amount</th>\n",
              "      <th>Count_Transaction</th>\n",
              "    </tr>\n",
              "  </thead>\n",
              "  <tbody>\n",
              "    <tr>\n",
              "      <th>0</th>\n",
              "      <td>1</td>\n",
              "      <td>1</td>\n",
              "      <td>29531</td>\n",
              "      <td>Jaket</td>\n",
              "      <td>2016-06-19 02:44:34.395999908</td>\n",
              "      <td>2018-10-05 05:48:02.608000040</td>\n",
              "      <td>1467681</td>\n",
              "      <td>22</td>\n",
              "    </tr>\n",
              "    <tr>\n",
              "      <th>1</th>\n",
              "      <td>2</td>\n",
              "      <td>2</td>\n",
              "      <td>29531</td>\n",
              "      <td>Sepatu</td>\n",
              "      <td>2014-07-23 01:02:11.493999958</td>\n",
              "      <td>2018-12-25 11:02:41.269999981</td>\n",
              "      <td>1269337</td>\n",
              "      <td>41</td>\n",
              "    </tr>\n",
              "    <tr>\n",
              "      <th>2</th>\n",
              "      <td>3</td>\n",
              "      <td>3</td>\n",
              "      <td>141526</td>\n",
              "      <td>Tas</td>\n",
              "      <td>2017-04-28 03:12:27.000000000</td>\n",
              "      <td>2019-01-24 09:40:02.000000000</td>\n",
              "      <td>310915</td>\n",
              "      <td>30</td>\n",
              "    </tr>\n",
              "    <tr>\n",
              "      <th>3</th>\n",
              "      <td>4</td>\n",
              "      <td>4</td>\n",
              "      <td>141526</td>\n",
              "      <td>Jaket</td>\n",
              "      <td>2017-04-28 06:52:52.546999931</td>\n",
              "      <td>2019-01-16 13:00:03.911000013</td>\n",
              "      <td>722632</td>\n",
              "      <td>27</td>\n",
              "    </tr>\n",
              "    <tr>\n",
              "      <th>4</th>\n",
              "      <td>5</td>\n",
              "      <td>5</td>\n",
              "      <td>37545</td>\n",
              "      <td>Sepatu</td>\n",
              "      <td>2015-04-16 10:01:38.530999899</td>\n",
              "      <td>2018-11-22 12:53:41.529999970</td>\n",
              "      <td>1775036</td>\n",
              "      <td>25</td>\n",
              "    </tr>\n",
              "    <tr>\n",
              "      <th>...</th>\n",
              "      <td>...</td>\n",
              "      <td>...</td>\n",
              "      <td>...</td>\n",
              "      <td>...</td>\n",
              "      <td>...</td>\n",
              "      <td>...</td>\n",
              "      <td>...</td>\n",
              "      <td>...</td>\n",
              "    </tr>\n",
              "    <tr>\n",
              "      <th>99995</th>\n",
              "      <td>99996</td>\n",
              "      <td>99996</td>\n",
              "      <td>56249</td>\n",
              "      <td>Jaket</td>\n",
              "      <td>2016-06-01 11:35:39.092000008</td>\n",
              "      <td>2016-06-01 11:35:39.092000008</td>\n",
              "      <td>298662</td>\n",
              "      <td>1</td>\n",
              "    </tr>\n",
              "    <tr>\n",
              "      <th>99996</th>\n",
              "      <td>99997</td>\n",
              "      <td>99997</td>\n",
              "      <td>56249</td>\n",
              "      <td>Sepatu</td>\n",
              "      <td>2017-02-09 05:46:10.763000011</td>\n",
              "      <td>2017-02-09 05:46:10.763000011</td>\n",
              "      <td>349556</td>\n",
              "      <td>1</td>\n",
              "    </tr>\n",
              "    <tr>\n",
              "      <th>99997</th>\n",
              "      <td>99998</td>\n",
              "      <td>99998</td>\n",
              "      <td>34157</td>\n",
              "      <td>Jaket</td>\n",
              "      <td>2015-08-30 08:54:20.706000090</td>\n",
              "      <td>2015-08-30 08:54:20.706000090</td>\n",
              "      <td>598013</td>\n",
              "      <td>1</td>\n",
              "    </tr>\n",
              "    <tr>\n",
              "      <th>99998</th>\n",
              "      <td>99999</td>\n",
              "      <td>99999</td>\n",
              "      <td>34157</td>\n",
              "      <td>Sepatu</td>\n",
              "      <td>2014-11-14 02:42:28.026000023</td>\n",
              "      <td>2014-11-14 02:42:28.026000023</td>\n",
              "      <td>1208591</td>\n",
              "      <td>1</td>\n",
              "    </tr>\n",
              "    <tr>\n",
              "      <th>99999</th>\n",
              "      <td>100000</td>\n",
              "      <td>100000</td>\n",
              "      <td>188822</td>\n",
              "      <td>Jaket</td>\n",
              "      <td>2018-10-24 09:36:04.125000000</td>\n",
              "      <td>2018-10-24 09:36:04.125000000</td>\n",
              "      <td>486710</td>\n",
              "      <td>1</td>\n",
              "    </tr>\n",
              "  </tbody>\n",
              "</table>\n",
              "<p>100000 rows × 8 columns</p>\n",
              "</div>"
            ],
            "text/plain": [
              "           no  Row_Num  ...  Average_Transaction_Amount Count_Transaction\n",
              "0           1        1  ...                     1467681                22\n",
              "1           2        2  ...                     1269337                41\n",
              "2           3        3  ...                      310915                30\n",
              "3           4        4  ...                      722632                27\n",
              "4           5        5  ...                     1775036                25\n",
              "...       ...      ...  ...                         ...               ...\n",
              "99995   99996    99996  ...                      298662                 1\n",
              "99996   99997    99997  ...                      349556                 1\n",
              "99997   99998    99998  ...                      598013                 1\n",
              "99998   99999    99999  ...                     1208591                 1\n",
              "99999  100000   100000  ...                      486710                 1\n",
              "\n",
              "[100000 rows x 8 columns]"
            ]
          },
          "metadata": {
            "tags": []
          },
          "execution_count": 164
        }
      ]
    },
    {
      "cell_type": "markdown",
      "metadata": {
        "id": "FbWPs0sICBct"
      },
      "source": [
        "### **Churn Customers**\r\n",
        "Untuk menentukan churn customers sesuai definisi yang telah diberikan, carilah\r\n",
        "\r\n",
        "1. transaksi paling terakhir kapan dilakukan\r\n",
        "2. klasifikasikanlah mana customer yang berstatus churn dan mana yang tidak.\r\n",
        "\r\n",
        "Setelah itu cetak lima data teratas dan informasi dataset."
      ]
    },
    {
      "cell_type": "code",
      "metadata": {
        "colab": {
          "base_uri": "https://localhost:8080/"
        },
        "id": "4KIZ1EPCBsKt",
        "outputId": "3dd401db-0a05-4e04-f486-97cbf6c27a79"
      },
      "source": [
        "# Pengecekan transaksaksi terakhir dalam dataset\r\n",
        "print(max(df['Last_Transaction']))"
      ],
      "execution_count": 165,
      "outputs": [
        {
          "output_type": "stream",
          "text": [
            "2019-02-01 23:57:57.286000013\n"
          ],
          "name": "stdout"
        }
      ]
    },
    {
      "cell_type": "code",
      "metadata": {
        "id": "JdCISWsVDONS"
      },
      "source": [
        "# Klasifikasikan customer yang berstatus churn atau tidak\r\n",
        "# berdasarkan Manajer toko mendefinisikan bahwa customer termasuk sudah bukan disebut pelanggan lagi (churn) ketika dia sudah tidak bertransaksi ke tokonya lagi sampai dengan 6 bulan terakhir dari update data terakhir\r\n",
        "df.loc[df['Last_Transaction'] <= '2018-08-01', 'is_churn'] = True\r\n",
        "df.loc[df['Last_Transaction'] > '2018-08-01', 'is_churn'] = False"
      ],
      "execution_count": 166,
      "outputs": []
    },
    {
      "cell_type": "code",
      "metadata": {
        "colab": {
          "base_uri": "https://localhost:8080/",
          "height": 419
        },
        "id": "5m2k2HL_Cv6R",
        "outputId": "dac59cf8-cafa-4125-89a5-4655ca019a5d"
      },
      "source": [
        "df"
      ],
      "execution_count": 167,
      "outputs": [
        {
          "output_type": "execute_result",
          "data": {
            "text/html": [
              "<div>\n",
              "<style scoped>\n",
              "    .dataframe tbody tr th:only-of-type {\n",
              "        vertical-align: middle;\n",
              "    }\n",
              "\n",
              "    .dataframe tbody tr th {\n",
              "        vertical-align: top;\n",
              "    }\n",
              "\n",
              "    .dataframe thead th {\n",
              "        text-align: right;\n",
              "    }\n",
              "</style>\n",
              "<table border=\"1\" class=\"dataframe\">\n",
              "  <thead>\n",
              "    <tr style=\"text-align: right;\">\n",
              "      <th></th>\n",
              "      <th>no</th>\n",
              "      <th>Row_Num</th>\n",
              "      <th>Customer_ID</th>\n",
              "      <th>Product</th>\n",
              "      <th>First_Transaction</th>\n",
              "      <th>Last_Transaction</th>\n",
              "      <th>Average_Transaction_Amount</th>\n",
              "      <th>Count_Transaction</th>\n",
              "      <th>is_churn</th>\n",
              "    </tr>\n",
              "  </thead>\n",
              "  <tbody>\n",
              "    <tr>\n",
              "      <th>0</th>\n",
              "      <td>1</td>\n",
              "      <td>1</td>\n",
              "      <td>29531</td>\n",
              "      <td>Jaket</td>\n",
              "      <td>2016-06-19 02:44:34.395999908</td>\n",
              "      <td>2018-10-05 05:48:02.608000040</td>\n",
              "      <td>1467681</td>\n",
              "      <td>22</td>\n",
              "      <td>False</td>\n",
              "    </tr>\n",
              "    <tr>\n",
              "      <th>1</th>\n",
              "      <td>2</td>\n",
              "      <td>2</td>\n",
              "      <td>29531</td>\n",
              "      <td>Sepatu</td>\n",
              "      <td>2014-07-23 01:02:11.493999958</td>\n",
              "      <td>2018-12-25 11:02:41.269999981</td>\n",
              "      <td>1269337</td>\n",
              "      <td>41</td>\n",
              "      <td>False</td>\n",
              "    </tr>\n",
              "    <tr>\n",
              "      <th>2</th>\n",
              "      <td>3</td>\n",
              "      <td>3</td>\n",
              "      <td>141526</td>\n",
              "      <td>Tas</td>\n",
              "      <td>2017-04-28 03:12:27.000000000</td>\n",
              "      <td>2019-01-24 09:40:02.000000000</td>\n",
              "      <td>310915</td>\n",
              "      <td>30</td>\n",
              "      <td>False</td>\n",
              "    </tr>\n",
              "    <tr>\n",
              "      <th>3</th>\n",
              "      <td>4</td>\n",
              "      <td>4</td>\n",
              "      <td>141526</td>\n",
              "      <td>Jaket</td>\n",
              "      <td>2017-04-28 06:52:52.546999931</td>\n",
              "      <td>2019-01-16 13:00:03.911000013</td>\n",
              "      <td>722632</td>\n",
              "      <td>27</td>\n",
              "      <td>False</td>\n",
              "    </tr>\n",
              "    <tr>\n",
              "      <th>4</th>\n",
              "      <td>5</td>\n",
              "      <td>5</td>\n",
              "      <td>37545</td>\n",
              "      <td>Sepatu</td>\n",
              "      <td>2015-04-16 10:01:38.530999899</td>\n",
              "      <td>2018-11-22 12:53:41.529999970</td>\n",
              "      <td>1775036</td>\n",
              "      <td>25</td>\n",
              "      <td>False</td>\n",
              "    </tr>\n",
              "    <tr>\n",
              "      <th>...</th>\n",
              "      <td>...</td>\n",
              "      <td>...</td>\n",
              "      <td>...</td>\n",
              "      <td>...</td>\n",
              "      <td>...</td>\n",
              "      <td>...</td>\n",
              "      <td>...</td>\n",
              "      <td>...</td>\n",
              "      <td>...</td>\n",
              "    </tr>\n",
              "    <tr>\n",
              "      <th>99995</th>\n",
              "      <td>99996</td>\n",
              "      <td>99996</td>\n",
              "      <td>56249</td>\n",
              "      <td>Jaket</td>\n",
              "      <td>2016-06-01 11:35:39.092000008</td>\n",
              "      <td>2016-06-01 11:35:39.092000008</td>\n",
              "      <td>298662</td>\n",
              "      <td>1</td>\n",
              "      <td>True</td>\n",
              "    </tr>\n",
              "    <tr>\n",
              "      <th>99996</th>\n",
              "      <td>99997</td>\n",
              "      <td>99997</td>\n",
              "      <td>56249</td>\n",
              "      <td>Sepatu</td>\n",
              "      <td>2017-02-09 05:46:10.763000011</td>\n",
              "      <td>2017-02-09 05:46:10.763000011</td>\n",
              "      <td>349556</td>\n",
              "      <td>1</td>\n",
              "      <td>True</td>\n",
              "    </tr>\n",
              "    <tr>\n",
              "      <th>99997</th>\n",
              "      <td>99998</td>\n",
              "      <td>99998</td>\n",
              "      <td>34157</td>\n",
              "      <td>Jaket</td>\n",
              "      <td>2015-08-30 08:54:20.706000090</td>\n",
              "      <td>2015-08-30 08:54:20.706000090</td>\n",
              "      <td>598013</td>\n",
              "      <td>1</td>\n",
              "      <td>True</td>\n",
              "    </tr>\n",
              "    <tr>\n",
              "      <th>99998</th>\n",
              "      <td>99999</td>\n",
              "      <td>99999</td>\n",
              "      <td>34157</td>\n",
              "      <td>Sepatu</td>\n",
              "      <td>2014-11-14 02:42:28.026000023</td>\n",
              "      <td>2014-11-14 02:42:28.026000023</td>\n",
              "      <td>1208591</td>\n",
              "      <td>1</td>\n",
              "      <td>True</td>\n",
              "    </tr>\n",
              "    <tr>\n",
              "      <th>99999</th>\n",
              "      <td>100000</td>\n",
              "      <td>100000</td>\n",
              "      <td>188822</td>\n",
              "      <td>Jaket</td>\n",
              "      <td>2018-10-24 09:36:04.125000000</td>\n",
              "      <td>2018-10-24 09:36:04.125000000</td>\n",
              "      <td>486710</td>\n",
              "      <td>1</td>\n",
              "      <td>False</td>\n",
              "    </tr>\n",
              "  </tbody>\n",
              "</table>\n",
              "<p>100000 rows × 9 columns</p>\n",
              "</div>"
            ],
            "text/plain": [
              "           no  Row_Num  ...  Count_Transaction is_churn\n",
              "0           1        1  ...                 22    False\n",
              "1           2        2  ...                 41    False\n",
              "2           3        3  ...                 30    False\n",
              "3           4        4  ...                 27    False\n",
              "4           5        5  ...                 25    False\n",
              "...       ...      ...  ...                ...      ...\n",
              "99995   99996    99996  ...                  1     True\n",
              "99996   99997    99997  ...                  1     True\n",
              "99997   99998    99998  ...                  1     True\n",
              "99998   99999    99999  ...                  1     True\n",
              "99999  100000   100000  ...                  1    False\n",
              "\n",
              "[100000 rows x 9 columns]"
            ]
          },
          "metadata": {
            "tags": []
          },
          "execution_count": 167
        }
      ]
    },
    {
      "cell_type": "code",
      "metadata": {
        "colab": {
          "base_uri": "https://localhost:8080/"
        },
        "id": "CjRm8e6ZDBQl",
        "outputId": "52987aad-ba39-496b-df62-80a31ee9b130"
      },
      "source": [
        "print('Lima data teratas:')\r\n",
        "print(df.head())\r\n",
        "\r\n",
        "print('\\nInfo dataset:')\r\n",
        "print(df.info())"
      ],
      "execution_count": 168,
      "outputs": [
        {
          "output_type": "stream",
          "text": [
            "Lima data teratas:\n",
            "   no  Row_Num  ...  Count_Transaction is_churn\n",
            "0   1        1  ...                 22    False\n",
            "1   2        2  ...                 41    False\n",
            "2   3        3  ...                 30    False\n",
            "3   4        4  ...                 27    False\n",
            "4   5        5  ...                 25    False\n",
            "\n",
            "[5 rows x 9 columns]\n",
            "\n",
            "Info dataset:\n",
            "<class 'pandas.core.frame.DataFrame'>\n",
            "RangeIndex: 100000 entries, 0 to 99999\n",
            "Data columns (total 9 columns):\n",
            " #   Column                      Non-Null Count   Dtype         \n",
            "---  ------                      --------------   -----         \n",
            " 0   no                          100000 non-null  int64         \n",
            " 1   Row_Num                     100000 non-null  int64         \n",
            " 2   Customer_ID                 100000 non-null  int64         \n",
            " 3   Product                     100000 non-null  object        \n",
            " 4   First_Transaction           100000 non-null  datetime64[ns]\n",
            " 5   Last_Transaction            100000 non-null  datetime64[ns]\n",
            " 6   Average_Transaction_Amount  100000 non-null  int64         \n",
            " 7   Count_Transaction           100000 non-null  int64         \n",
            " 8   is_churn                    100000 non-null  object        \n",
            "dtypes: datetime64[ns](2), int64(5), object(2)\n",
            "memory usage: 6.9+ MB\n",
            "None\n"
          ],
          "name": "stdout"
        }
      ]
    },
    {
      "cell_type": "markdown",
      "metadata": {
        "id": "hujtdV1mFS6c"
      },
      "source": [
        "### **Menghapus kolom yang tidak diperlukan**\r\n",
        "Hapuslah kolom-kolom yang dimaksud dengan melengkapi code pada live code editor."
      ]
    },
    {
      "cell_type": "code",
      "metadata": {
        "id": "n9Hi_75aDUnm",
        "colab": {
          "base_uri": "https://localhost:8080/"
        },
        "outputId": "52e8c1a0-83a2-4020-98d7-209f33f1dec6"
      },
      "source": [
        "# Hapus kolom-kolom yang tidak diperlukan\r\n",
        "del df['no']\r\n",
        "del df['Row_Num']\r\n",
        "\r\n",
        "# Cetak lima data teratas\r\n",
        "print(df.head())"
      ],
      "execution_count": 169,
      "outputs": [
        {
          "output_type": "stream",
          "text": [
            "   Customer_ID Product  ... Count_Transaction is_churn\n",
            "0        29531   Jaket  ...                22    False\n",
            "1        29531  Sepatu  ...                41    False\n",
            "2       141526     Tas  ...                30    False\n",
            "3       141526   Jaket  ...                27    False\n",
            "4        37545  Sepatu  ...                25    False\n",
            "\n",
            "[5 rows x 7 columns]\n"
          ],
          "name": "stdout"
        }
      ]
    },
    {
      "cell_type": "markdown",
      "metadata": {
        "id": "pUJekRfmHhR4"
      },
      "source": [
        "## **Coding Test: Data Visualization**"
      ]
    },
    {
      "cell_type": "markdown",
      "metadata": {
        "id": "8Kb07UGhHj_e"
      },
      "source": [
        "### **Customer acquisition by year**\r\n",
        "Setelah semuanya lancar, langkah berikutnya adalah membuat visualisasi data berupa **trend of customer acquisition by year** dengan meggunakan **bar chart**. \r\n",
        "\r\n",
        "Untuk itu **buatlah feature/kolom tambahan** yang merupakan tahun dari **First_Transaction** dan tahun dari **Last_Transaction** masing-masingnya dengan nama **Year_First_Transaction** dan **Year_Last_Transaction** sebelum melakukan visualisasi."
      ]
    },
    {
      "cell_type": "code",
      "metadata": {
        "id": "ochNGElCLcyO"
      },
      "source": [
        "import matplotlib.pyplot as plt\r\n",
        "\r\n",
        "# Kolom tahun transaksi pertama\r\n",
        "df['Year_First_Transaction'] = df['First_Transaction'].dt.year\r\n",
        "# Kolom tahun transaksi terakhir\r\n",
        "df['Year_Last_Transaction'] = df['Last_Transaction'].dt.year"
      ],
      "execution_count": 170,
      "outputs": []
    },
    {
      "cell_type": "code",
      "metadata": {
        "colab": {
          "base_uri": "https://localhost:8080/",
          "height": 609
        },
        "id": "ca8hgtptLgkO",
        "outputId": "b46bfea5-c71e-46c1-83c3-546364919ade"
      },
      "source": [
        "df"
      ],
      "execution_count": 171,
      "outputs": [
        {
          "output_type": "execute_result",
          "data": {
            "text/html": [
              "<div>\n",
              "<style scoped>\n",
              "    .dataframe tbody tr th:only-of-type {\n",
              "        vertical-align: middle;\n",
              "    }\n",
              "\n",
              "    .dataframe tbody tr th {\n",
              "        vertical-align: top;\n",
              "    }\n",
              "\n",
              "    .dataframe thead th {\n",
              "        text-align: right;\n",
              "    }\n",
              "</style>\n",
              "<table border=\"1\" class=\"dataframe\">\n",
              "  <thead>\n",
              "    <tr style=\"text-align: right;\">\n",
              "      <th></th>\n",
              "      <th>Customer_ID</th>\n",
              "      <th>Product</th>\n",
              "      <th>First_Transaction</th>\n",
              "      <th>Last_Transaction</th>\n",
              "      <th>Average_Transaction_Amount</th>\n",
              "      <th>Count_Transaction</th>\n",
              "      <th>is_churn</th>\n",
              "      <th>Year_First_Transaction</th>\n",
              "      <th>Year_Last_Transaction</th>\n",
              "    </tr>\n",
              "  </thead>\n",
              "  <tbody>\n",
              "    <tr>\n",
              "      <th>0</th>\n",
              "      <td>29531</td>\n",
              "      <td>Jaket</td>\n",
              "      <td>2016-06-19 02:44:34.395999908</td>\n",
              "      <td>2018-10-05 05:48:02.608000040</td>\n",
              "      <td>1467681</td>\n",
              "      <td>22</td>\n",
              "      <td>False</td>\n",
              "      <td>2016</td>\n",
              "      <td>2018</td>\n",
              "    </tr>\n",
              "    <tr>\n",
              "      <th>1</th>\n",
              "      <td>29531</td>\n",
              "      <td>Sepatu</td>\n",
              "      <td>2014-07-23 01:02:11.493999958</td>\n",
              "      <td>2018-12-25 11:02:41.269999981</td>\n",
              "      <td>1269337</td>\n",
              "      <td>41</td>\n",
              "      <td>False</td>\n",
              "      <td>2014</td>\n",
              "      <td>2018</td>\n",
              "    </tr>\n",
              "    <tr>\n",
              "      <th>2</th>\n",
              "      <td>141526</td>\n",
              "      <td>Tas</td>\n",
              "      <td>2017-04-28 03:12:27.000000000</td>\n",
              "      <td>2019-01-24 09:40:02.000000000</td>\n",
              "      <td>310915</td>\n",
              "      <td>30</td>\n",
              "      <td>False</td>\n",
              "      <td>2017</td>\n",
              "      <td>2019</td>\n",
              "    </tr>\n",
              "    <tr>\n",
              "      <th>3</th>\n",
              "      <td>141526</td>\n",
              "      <td>Jaket</td>\n",
              "      <td>2017-04-28 06:52:52.546999931</td>\n",
              "      <td>2019-01-16 13:00:03.911000013</td>\n",
              "      <td>722632</td>\n",
              "      <td>27</td>\n",
              "      <td>False</td>\n",
              "      <td>2017</td>\n",
              "      <td>2019</td>\n",
              "    </tr>\n",
              "    <tr>\n",
              "      <th>4</th>\n",
              "      <td>37545</td>\n",
              "      <td>Sepatu</td>\n",
              "      <td>2015-04-16 10:01:38.530999899</td>\n",
              "      <td>2018-11-22 12:53:41.529999970</td>\n",
              "      <td>1775036</td>\n",
              "      <td>25</td>\n",
              "      <td>False</td>\n",
              "      <td>2015</td>\n",
              "      <td>2018</td>\n",
              "    </tr>\n",
              "    <tr>\n",
              "      <th>...</th>\n",
              "      <td>...</td>\n",
              "      <td>...</td>\n",
              "      <td>...</td>\n",
              "      <td>...</td>\n",
              "      <td>...</td>\n",
              "      <td>...</td>\n",
              "      <td>...</td>\n",
              "      <td>...</td>\n",
              "      <td>...</td>\n",
              "    </tr>\n",
              "    <tr>\n",
              "      <th>99995</th>\n",
              "      <td>56249</td>\n",
              "      <td>Jaket</td>\n",
              "      <td>2016-06-01 11:35:39.092000008</td>\n",
              "      <td>2016-06-01 11:35:39.092000008</td>\n",
              "      <td>298662</td>\n",
              "      <td>1</td>\n",
              "      <td>True</td>\n",
              "      <td>2016</td>\n",
              "      <td>2016</td>\n",
              "    </tr>\n",
              "    <tr>\n",
              "      <th>99996</th>\n",
              "      <td>56249</td>\n",
              "      <td>Sepatu</td>\n",
              "      <td>2017-02-09 05:46:10.763000011</td>\n",
              "      <td>2017-02-09 05:46:10.763000011</td>\n",
              "      <td>349556</td>\n",
              "      <td>1</td>\n",
              "      <td>True</td>\n",
              "      <td>2017</td>\n",
              "      <td>2017</td>\n",
              "    </tr>\n",
              "    <tr>\n",
              "      <th>99997</th>\n",
              "      <td>34157</td>\n",
              "      <td>Jaket</td>\n",
              "      <td>2015-08-30 08:54:20.706000090</td>\n",
              "      <td>2015-08-30 08:54:20.706000090</td>\n",
              "      <td>598013</td>\n",
              "      <td>1</td>\n",
              "      <td>True</td>\n",
              "      <td>2015</td>\n",
              "      <td>2015</td>\n",
              "    </tr>\n",
              "    <tr>\n",
              "      <th>99998</th>\n",
              "      <td>34157</td>\n",
              "      <td>Sepatu</td>\n",
              "      <td>2014-11-14 02:42:28.026000023</td>\n",
              "      <td>2014-11-14 02:42:28.026000023</td>\n",
              "      <td>1208591</td>\n",
              "      <td>1</td>\n",
              "      <td>True</td>\n",
              "      <td>2014</td>\n",
              "      <td>2014</td>\n",
              "    </tr>\n",
              "    <tr>\n",
              "      <th>99999</th>\n",
              "      <td>188822</td>\n",
              "      <td>Jaket</td>\n",
              "      <td>2018-10-24 09:36:04.125000000</td>\n",
              "      <td>2018-10-24 09:36:04.125000000</td>\n",
              "      <td>486710</td>\n",
              "      <td>1</td>\n",
              "      <td>False</td>\n",
              "      <td>2018</td>\n",
              "      <td>2018</td>\n",
              "    </tr>\n",
              "  </tbody>\n",
              "</table>\n",
              "<p>100000 rows × 9 columns</p>\n",
              "</div>"
            ],
            "text/plain": [
              "       Customer_ID Product  ... Year_First_Transaction Year_Last_Transaction\n",
              "0            29531   Jaket  ...                   2016                  2018\n",
              "1            29531  Sepatu  ...                   2014                  2018\n",
              "2           141526     Tas  ...                   2017                  2019\n",
              "3           141526   Jaket  ...                   2017                  2019\n",
              "4            37545  Sepatu  ...                   2015                  2018\n",
              "...            ...     ...  ...                    ...                   ...\n",
              "99995        56249   Jaket  ...                   2016                  2016\n",
              "99996        56249  Sepatu  ...                   2017                  2017\n",
              "99997        34157   Jaket  ...                   2015                  2015\n",
              "99998        34157  Sepatu  ...                   2014                  2014\n",
              "99999       188822   Jaket  ...                   2018                  2018\n",
              "\n",
              "[100000 rows x 9 columns]"
            ]
          },
          "metadata": {
            "tags": []
          },
          "execution_count": 171
        }
      ]
    },
    {
      "cell_type": "code",
      "metadata": {
        "colab": {
          "base_uri": "https://localhost:8080/"
        },
        "id": "wT2DaVelLlei",
        "outputId": "d79ee577-1f84-43f7-af3e-bdd08913c5ac"
      },
      "source": [
        "# Melihat banyaknya Customer_ID berdasarkan Year_First_Transaction \r\n",
        "df_year = df.groupby(['Year_First_Transaction'])['Customer_ID'].count()\r\n",
        "df_year"
      ],
      "execution_count": 172,
      "outputs": [
        {
          "output_type": "execute_result",
          "data": {
            "text/plain": [
              "Year_First_Transaction\n",
              "2013     1007\n",
              "2014     4954\n",
              "2015    11235\n",
              "2016    17656\n",
              "2017    31828\n",
              "2018    30327\n",
              "2019     2993\n",
              "Name: Customer_ID, dtype: int64"
            ]
          },
          "metadata": {
            "tags": []
          },
          "execution_count": 172
        }
      ]
    },
    {
      "cell_type": "code",
      "metadata": {
        "colab": {
          "base_uri": "https://localhost:8080/",
          "height": 297
        },
        "id": "IlQ_UvtjFksz",
        "outputId": "6a9189c5-45a9-41d2-a057-00373654b7bb"
      },
      "source": [
        "# Visualisasi\r\n",
        "df_year.plot(x='Year_First_Transaction', y='Customer_ID', kind='bar', title='Graph of Customer Acquisition')\r\n",
        "plt.xlabel('Year_First_Transaction')\r\n",
        "plt.ylabel('Num_of_Customer')\r\n",
        "plt.tight_layout()\r\n",
        "plt.show()"
      ],
      "execution_count": 173,
      "outputs": [
        {
          "output_type": "display_data",
          "data": {
            "image/png": "[encoded data removed]",
            "text/plain": [
              "<Figure size 432x288 with 1 Axes>"
            ]
          },
          "metadata": {
            "tags": [],
            "needs_background": "light"
          }
        }
      ]
    },
    {
      "cell_type": "markdown",
      "metadata": {
        "id": "qi29KdVoNrM2"
      },
      "source": [
        "### **Transaction by year**\r\n",
        "Visualisasikanlah trend jumlah transaksi per tahunnya dengan menggunakan bar chart."
      ]
    },
    {
      "cell_type": "code",
      "metadata": {
        "colab": {
          "base_uri": "https://localhost:8080/"
        },
        "id": "Xp9fD-BePFR7",
        "outputId": "746ee776-1d85-4a2b-8272-9a24035623bd"
      },
      "source": [
        "# Jumlah Count_Transaction berdasarkan Year_First_Transaction\r\n",
        "df_year = df.groupby(['Year_First_Transaction'])['Count_Transaction'].sum()\r\n",
        "df_year"
      ],
      "execution_count": 174,
      "outputs": [
        {
          "output_type": "execute_result",
          "data": {
            "text/plain": [
              "Year_First_Transaction\n",
              "2013     23154\n",
              "2014    165494\n",
              "2015    297445\n",
              "2016    278707\n",
              "2017    299199\n",
              "2018     99989\n",
              "2019      5862\n",
              "Name: Count_Transaction, dtype: int64"
            ]
          },
          "metadata": {
            "tags": []
          },
          "execution_count": 174
        }
      ]
    },
    {
      "cell_type": "code",
      "metadata": {
        "colab": {
          "base_uri": "https://localhost:8080/",
          "height": 297
        },
        "id": "WpmyYIyvLTmb",
        "outputId": "158a7671-d69c-46e2-b14d-bc67501f6d65"
      },
      "source": [
        "import matplotlib.pyplot as plt\r\n",
        "\r\n",
        "plt.clf()\r\n",
        "df_year.plot(x='Year_First_Transaction', y='Count_Transaction', kind='bar', title='Graph of Transaction Customer')\r\n",
        "plt.xlabel('Year_First_Transaction')\r\n",
        "plt.ylabel('Num_of_Transaction')\r\n",
        "plt.tight_layout()\r\n",
        "plt.show()"
      ],
      "execution_count": 175,
      "outputs": [
        {
          "output_type": "display_data",
          "data": {
            "image/png": "[encoded data removed]",
            "text/plain": [
              "<Figure size 432x288 with 1 Axes>"
            ]
          },
          "metadata": {
            "tags": [],
            "needs_background": "light"
          }
        }
      ]
    },
    {
      "cell_type": "markdown",
      "metadata": {
        "id": "TOE6E8ufP2Ob"
      },
      "source": [
        "### **Average transaction amount by year**\r\n",
        "Dengan menggunakan seaborn pointplot, visualisasikanlah tren dari tahun ke tahun rata-rata jumlah transaksi untuk tiap-tiap produknya."
      ]
    },
    {
      "cell_type": "code",
      "metadata": {
        "colab": {
          "base_uri": "https://localhost:8080/",
          "height": 638
        },
        "id": "CEqvYqD_RmyG",
        "outputId": "6759619c-575a-44f4-fc9d-ce61073a89b4"
      },
      "source": [
        "data = df.groupby(['Product', 'Year_First_Transaction']).mean().reset_index()\r\n",
        "data"
      ],
      "execution_count": 176,
      "outputs": [
        {
          "output_type": "execute_result",
          "data": {
            "text/html": [
              "<div>\n",
              "<style scoped>\n",
              "    .dataframe tbody tr th:only-of-type {\n",
              "        vertical-align: middle;\n",
              "    }\n",
              "\n",
              "    .dataframe tbody tr th {\n",
              "        vertical-align: top;\n",
              "    }\n",
              "\n",
              "    .dataframe thead th {\n",
              "        text-align: right;\n",
              "    }\n",
              "</style>\n",
              "<table border=\"1\" class=\"dataframe\">\n",
              "  <thead>\n",
              "    <tr style=\"text-align: right;\">\n",
              "      <th></th>\n",
              "      <th>Product</th>\n",
              "      <th>Year_First_Transaction</th>\n",
              "      <th>Customer_ID</th>\n",
              "      <th>Average_Transaction_Amount</th>\n",
              "      <th>Count_Transaction</th>\n",
              "      <th>Year_Last_Transaction</th>\n",
              "    </tr>\n",
              "  </thead>\n",
              "  <tbody>\n",
              "    <tr>\n",
              "      <th>0</th>\n",
              "      <td>Baju</td>\n",
              "      <td>2017</td>\n",
              "      <td>99973.327529</td>\n",
              "      <td>1.490890e+06</td>\n",
              "      <td>3.157546</td>\n",
              "      <td>2017.151741</td>\n",
              "    </tr>\n",
              "    <tr>\n",
              "      <th>1</th>\n",
              "      <td>Baju</td>\n",
              "      <td>2018</td>\n",
              "      <td>188857.666496</td>\n",
              "      <td>1.570201e+06</td>\n",
              "      <td>2.175475</td>\n",
              "      <td>2018.026167</td>\n",
              "    </tr>\n",
              "    <tr>\n",
              "      <th>2</th>\n",
              "      <td>Baju</td>\n",
              "      <td>2019</td>\n",
              "      <td>281390.361868</td>\n",
              "      <td>1.383645e+06</td>\n",
              "      <td>1.871595</td>\n",
              "      <td>2019.000000</td>\n",
              "    </tr>\n",
              "    <tr>\n",
              "      <th>3</th>\n",
              "      <td>Jaket</td>\n",
              "      <td>2014</td>\n",
              "      <td>30906.745455</td>\n",
              "      <td>1.467937e+06</td>\n",
              "      <td>22.747727</td>\n",
              "      <td>2015.827273</td>\n",
              "    </tr>\n",
              "    <tr>\n",
              "      <th>4</th>\n",
              "      <td>Jaket</td>\n",
              "      <td>2015</td>\n",
              "      <td>43482.506832</td>\n",
              "      <td>1.296265e+06</td>\n",
              "      <td>21.789130</td>\n",
              "      <td>2016.603106</td>\n",
              "    </tr>\n",
              "    <tr>\n",
              "      <th>5</th>\n",
              "      <td>Jaket</td>\n",
              "      <td>2016</td>\n",
              "      <td>76570.356631</td>\n",
              "      <td>1.317344e+06</td>\n",
              "      <td>11.341306</td>\n",
              "      <td>2016.681180</td>\n",
              "    </tr>\n",
              "    <tr>\n",
              "      <th>6</th>\n",
              "      <td>Jaket</td>\n",
              "      <td>2017</td>\n",
              "      <td>138036.387196</td>\n",
              "      <td>1.369034e+06</td>\n",
              "      <td>6.292709</td>\n",
              "      <td>2017.265146</td>\n",
              "    </tr>\n",
              "    <tr>\n",
              "      <th>7</th>\n",
              "      <td>Jaket</td>\n",
              "      <td>2018</td>\n",
              "      <td>374795.205008</td>\n",
              "      <td>1.419074e+06</td>\n",
              "      <td>2.830617</td>\n",
              "      <td>2018.034700</td>\n",
              "    </tr>\n",
              "    <tr>\n",
              "      <th>8</th>\n",
              "      <td>Jaket</td>\n",
              "      <td>2019</td>\n",
              "      <td>542531.441905</td>\n",
              "      <td>1.447536e+06</td>\n",
              "      <td>1.999048</td>\n",
              "      <td>2019.000000</td>\n",
              "    </tr>\n",
              "    <tr>\n",
              "      <th>9</th>\n",
              "      <td>Sepatu</td>\n",
              "      <td>2013</td>\n",
              "      <td>7534.270109</td>\n",
              "      <td>1.396499e+06</td>\n",
              "      <td>22.993049</td>\n",
              "      <td>2014.892751</td>\n",
              "    </tr>\n",
              "    <tr>\n",
              "      <th>10</th>\n",
              "      <td>Sepatu</td>\n",
              "      <td>2014</td>\n",
              "      <td>29113.134471</td>\n",
              "      <td>1.427063e+06</td>\n",
              "      <td>34.445060</td>\n",
              "      <td>2016.230173</td>\n",
              "    </tr>\n",
              "    <tr>\n",
              "      <th>11</th>\n",
              "      <td>Sepatu</td>\n",
              "      <td>2015</td>\n",
              "      <td>46516.566937</td>\n",
              "      <td>1.428235e+06</td>\n",
              "      <td>28.357330</td>\n",
              "      <td>2016.611978</td>\n",
              "    </tr>\n",
              "    <tr>\n",
              "      <th>12</th>\n",
              "      <td>Sepatu</td>\n",
              "      <td>2016</td>\n",
              "      <td>82167.792674</td>\n",
              "      <td>1.425938e+06</td>\n",
              "      <td>18.692337</td>\n",
              "      <td>2016.844482</td>\n",
              "    </tr>\n",
              "    <tr>\n",
              "      <th>13</th>\n",
              "      <td>Sepatu</td>\n",
              "      <td>2017</td>\n",
              "      <td>148189.343671</td>\n",
              "      <td>1.407275e+06</td>\n",
              "      <td>11.378145</td>\n",
              "      <td>2017.383532</td>\n",
              "    </tr>\n",
              "    <tr>\n",
              "      <th>14</th>\n",
              "      <td>Sepatu</td>\n",
              "      <td>2018</td>\n",
              "      <td>432510.260492</td>\n",
              "      <td>1.346824e+06</td>\n",
              "      <td>3.718432</td>\n",
              "      <td>2018.053152</td>\n",
              "    </tr>\n",
              "    <tr>\n",
              "      <th>15</th>\n",
              "      <td>Sepatu</td>\n",
              "      <td>2019</td>\n",
              "      <td>657597.546419</td>\n",
              "      <td>1.338180e+06</td>\n",
              "      <td>1.843501</td>\n",
              "      <td>2019.000000</td>\n",
              "    </tr>\n",
              "    <tr>\n",
              "      <th>16</th>\n",
              "      <td>Tas</td>\n",
              "      <td>2017</td>\n",
              "      <td>113059.338861</td>\n",
              "      <td>1.109583e+06</td>\n",
              "      <td>12.130761</td>\n",
              "      <td>2017.447457</td>\n",
              "    </tr>\n",
              "    <tr>\n",
              "      <th>17</th>\n",
              "      <td>Tas</td>\n",
              "      <td>2018</td>\n",
              "      <td>310500.010428</td>\n",
              "      <td>1.337614e+06</td>\n",
              "      <td>3.858784</td>\n",
              "      <td>2018.053199</td>\n",
              "    </tr>\n",
              "    <tr>\n",
              "      <th>18</th>\n",
              "      <td>Tas</td>\n",
              "      <td>2019</td>\n",
              "      <td>465109.549550</td>\n",
              "      <td>1.287529e+06</td>\n",
              "      <td>2.156757</td>\n",
              "      <td>2019.000000</td>\n",
              "    </tr>\n",
              "  </tbody>\n",
              "</table>\n",
              "</div>"
            ],
            "text/plain": [
              "   Product  Year_First_Transaction  ...  Count_Transaction  Year_Last_Transaction\n",
              "0     Baju                    2017  ...           3.157546            2017.151741\n",
              "1     Baju                    2018  ...           2.175475            2018.026167\n",
              "2     Baju                    2019  ...           1.871595            2019.000000\n",
              "3    Jaket                    2014  ...          22.747727            2015.827273\n",
              "4    Jaket                    2015  ...          21.789130            2016.603106\n",
              "5    Jaket                    2016  ...          11.341306            2016.681180\n",
              "6    Jaket                    2017  ...           6.292709            2017.265146\n",
              "7    Jaket                    2018  ...           2.830617            2018.034700\n",
              "8    Jaket                    2019  ...           1.999048            2019.000000\n",
              "9   Sepatu                    2013  ...          22.993049            2014.892751\n",
              "10  Sepatu                    2014  ...          34.445060            2016.230173\n",
              "11  Sepatu                    2015  ...          28.357330            2016.611978\n",
              "12  Sepatu                    2016  ...          18.692337            2016.844482\n",
              "13  Sepatu                    2017  ...          11.378145            2017.383532\n",
              "14  Sepatu                    2018  ...           3.718432            2018.053152\n",
              "15  Sepatu                    2019  ...           1.843501            2019.000000\n",
              "16     Tas                    2017  ...          12.130761            2017.447457\n",
              "17     Tas                    2018  ...           3.858784            2018.053199\n",
              "18     Tas                    2019  ...           2.156757            2019.000000\n",
              "\n",
              "[19 rows x 6 columns]"
            ]
          },
          "metadata": {
            "tags": []
          },
          "execution_count": 176
        }
      ]
    },
    {
      "cell_type": "code",
      "metadata": {
        "colab": {
          "base_uri": "https://localhost:8080/",
          "height": 297
        },
        "id": "GJ0CLI6-Ov_2",
        "outputId": "bc094f16-1230-4e3d-dc1a-d5eceeb4525a"
      },
      "source": [
        "import matplotlib.pyplot as plt\r\n",
        "import seaborn as sns\r\n",
        "\r\n",
        "plt.clf()\r\n",
        "sns.pointplot(data = data,\r\n",
        "x='Year_First_Transaction',\r\n",
        "y='Average_Transaction_Amount',\r\n",
        "hue='Product')\r\n",
        "plt.tight_layout()\r\n",
        "plt.show()"
      ],
      "execution_count": 177,
      "outputs": [
        {
          "output_type": "display_data",
          "data": {
            "image/png": "[encoded data removed]",
            "text/plain": [
              "<Figure size 432x288 with 1 Axes>"
            ]
          },
          "metadata": {
            "tags": [],
            "needs_background": "light"
          }
        }
      ]
    },
    {
      "cell_type": "markdown",
      "metadata": {
        "id": "FKIxBl38S1ts"
      },
      "source": [
        "### **Proporsi churned customer untuk setiap produk**\r\n",
        "Dari sisi churned customer, khususnya untuk melihat seberapa besar proporsi churned customer untuk tiap-tiap produk dapat diketahui insight-nya melalui pie chart. Visualisasikan pie chartnya untuk keempat produk yang dimaksudkan."
      ]
    },
    {
      "cell_type": "code",
      "metadata": {
        "colab": {
          "base_uri": "https://localhost:8080/",
          "height": 159
        },
        "id": "YS3DGP1YnT6Y",
        "outputId": "27afff2b-f8c4-44f2-b11b-a883c4c6c07e"
      },
      "source": [
        "import matplotlib.pyplot as plt\r\n",
        "\r\n",
        "plt.clf()\r\n",
        "\r\n",
        "# Melakukan pivot data\r\n",
        "df_piv = df.pivot_table(index='is_churn',\r\n",
        "                        columns='Product',\r\n",
        "                        values='Customer_ID',\r\n",
        "                        aggfunc='count',\r\n",
        "                        fill_value=0)\r\n",
        "df_piv"
      ],
      "execution_count": 178,
      "outputs": [
        {
          "output_type": "execute_result",
          "data": {
            "text/html": [
              "<div>\n",
              "<style scoped>\n",
              "    .dataframe tbody tr th:only-of-type {\n",
              "        vertical-align: middle;\n",
              "    }\n",
              "\n",
              "    .dataframe tbody tr th {\n",
              "        vertical-align: top;\n",
              "    }\n",
              "\n",
              "    .dataframe thead th {\n",
              "        text-align: right;\n",
              "    }\n",
              "</style>\n",
              "<table border=\"1\" class=\"dataframe\">\n",
              "  <thead>\n",
              "    <tr style=\"text-align: right;\">\n",
              "      <th>Product</th>\n",
              "      <th>Baju</th>\n",
              "      <th>Jaket</th>\n",
              "      <th>Sepatu</th>\n",
              "      <th>Tas</th>\n",
              "    </tr>\n",
              "    <tr>\n",
              "      <th>is_churn</th>\n",
              "      <th></th>\n",
              "      <th></th>\n",
              "      <th></th>\n",
              "      <th></th>\n",
              "    </tr>\n",
              "  </thead>\n",
              "  <tbody>\n",
              "    <tr>\n",
              "      <th>False</th>\n",
              "      <td>1268</td>\n",
              "      <td>11123</td>\n",
              "      <td>16064</td>\n",
              "      <td>4976</td>\n",
              "    </tr>\n",
              "    <tr>\n",
              "      <th>True</th>\n",
              "      <td>2144</td>\n",
              "      <td>23827</td>\n",
              "      <td>33090</td>\n",
              "      <td>7508</td>\n",
              "    </tr>\n",
              "  </tbody>\n",
              "</table>\n",
              "</div>"
            ],
            "text/plain": [
              "Product   Baju  Jaket  Sepatu   Tas\n",
              "is_churn                           \n",
              "False     1268  11123   16064  4976\n",
              "True      2144  23827   33090  7508"
            ]
          },
          "metadata": {
            "tags": []
          },
          "execution_count": 178
        },
        {
          "output_type": "display_data",
          "data": {
            "text/plain": [
              "<Figure size 432x288 with 0 Axes>"
            ]
          },
          "metadata": {
            "tags": []
          }
        }
      ]
    },
    {
      "cell_type": "code",
      "metadata": {
        "colab": {
          "base_uri": "https://localhost:8080/"
        },
        "id": "5B8nV6IOnYhG",
        "outputId": "2bb04d67-acdc-4587-c313-cca04ed699f5"
      },
      "source": [
        "# Mendapatkan Proportion Churn by Product\r\n",
        "plot_product = df_piv.count().sort_values(ascending=False).head(5).index\r\n",
        "plot_product"
      ],
      "execution_count": 179,
      "outputs": [
        {
          "output_type": "execute_result",
          "data": {
            "text/plain": [
              "Index(['Tas', 'Sepatu', 'Jaket', 'Baju'], dtype='object', name='Product')"
            ]
          },
          "metadata": {
            "tags": []
          },
          "execution_count": 179
        }
      ]
    },
    {
      "cell_type": "code",
      "metadata": {
        "colab": {
          "base_uri": "https://localhost:8080/",
          "height": 142
        },
        "id": "o-Gtb8GPndUU",
        "outputId": "9979984a-a68e-43c4-97b5-b19af731ce53"
      },
      "source": [
        "df_piv = df_piv.reindex(columns=plot_product)\r\n",
        "df_piv"
      ],
      "execution_count": 180,
      "outputs": [
        {
          "output_type": "execute_result",
          "data": {
            "text/html": [
              "<div>\n",
              "<style scoped>\n",
              "    .dataframe tbody tr th:only-of-type {\n",
              "        vertical-align: middle;\n",
              "    }\n",
              "\n",
              "    .dataframe tbody tr th {\n",
              "        vertical-align: top;\n",
              "    }\n",
              "\n",
              "    .dataframe thead th {\n",
              "        text-align: right;\n",
              "    }\n",
              "</style>\n",
              "<table border=\"1\" class=\"dataframe\">\n",
              "  <thead>\n",
              "    <tr style=\"text-align: right;\">\n",
              "      <th>Product</th>\n",
              "      <th>Tas</th>\n",
              "      <th>Sepatu</th>\n",
              "      <th>Jaket</th>\n",
              "      <th>Baju</th>\n",
              "    </tr>\n",
              "    <tr>\n",
              "      <th>is_churn</th>\n",
              "      <th></th>\n",
              "      <th></th>\n",
              "      <th></th>\n",
              "      <th></th>\n",
              "    </tr>\n",
              "  </thead>\n",
              "  <tbody>\n",
              "    <tr>\n",
              "      <th>False</th>\n",
              "      <td>4976</td>\n",
              "      <td>16064</td>\n",
              "      <td>11123</td>\n",
              "      <td>1268</td>\n",
              "    </tr>\n",
              "    <tr>\n",
              "      <th>True</th>\n",
              "      <td>7508</td>\n",
              "      <td>33090</td>\n",
              "      <td>23827</td>\n",
              "      <td>2144</td>\n",
              "    </tr>\n",
              "  </tbody>\n",
              "</table>\n",
              "</div>"
            ],
            "text/plain": [
              "Product    Tas  Sepatu  Jaket  Baju\n",
              "is_churn                           \n",
              "False     4976   16064  11123  1268\n",
              "True      7508   33090  23827  2144"
            ]
          },
          "metadata": {
            "tags": []
          },
          "execution_count": 180
        }
      ]
    },
    {
      "cell_type": "code",
      "metadata": {
        "colab": {
          "base_uri": "https://localhost:8080/",
          "height": 514
        },
        "id": "qzZ5TAOPSbk1",
        "outputId": "1b76362f-e156-43a6-caf9-152df723b889"
      },
      "source": [
        "# Plot pie chartnya\r\n",
        "df_piv.plot.pie(subplots=True,\r\n",
        "                figsize=(10, 7),\r\n",
        "                layout=(-1, 2),\r\n",
        "                autopct='%1.0f%%',\r\n",
        "                title='Proportion Churn by Product')\r\n",
        "plt.tight_layout()\r\n",
        "plt.show()"
      ],
      "execution_count": 181,
      "outputs": [
        {
          "output_type": "display_data",
          "data": {
            "image/png": "[encoded data removed]",
            "text/plain": [
              "<Figure size 720x504 with 4 Axes>"
            ]
          },
          "metadata": {
            "tags": []
          }
        }
      ]
    },
    {
      "cell_type": "markdown",
      "metadata": {
        "id": "nUW7-pfuqBPa"
      },
      "source": [
        "### **Distribusi kategorisasi count transaction**\r\n",
        "Selanjutnya akan melakukan visualisasi dari distribusi kategorisasi **count transaction**. Kategorisasi ini dilakukan dengan mengelompokkan jumlah transaksi seperti yang diperlihatkan oleh tabel berikut:"
      ]
    },
    {
      "cell_type": "markdown",
      "metadata": {
        "id": "MHkpb-jWqJmR"
      },
      "source": [
        "![image.png](data:image/png;base64,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)"
      ]
    },
    {
      "cell_type": "markdown",
      "metadata": {
        "id": "VynEVB3QqOTD"
      },
      "source": [
        "Setelah menambahkan kolom baru untuk kategori ini dengan nama **Count_Transaction_Group**, maka visualisasikanlah dengan bar chart. "
      ]
    },
    {
      "cell_type": "code",
      "metadata": {
        "colab": {
          "base_uri": "https://localhost:8080/",
          "height": 34
        },
        "id": "MV4FulUtqrrA",
        "outputId": "8fe9f891-d51f-4233-bb7e-0eeca9aba56e"
      },
      "source": [
        "import matplotlib.pyplot as plt\r\n",
        "\r\n",
        "plt.clf()\r\n",
        "# Kategorisasi jumlah transaksi\r\n",
        "def func(row):\r\n",
        "  if row['Count_Transaction'] == 1:\r\n",
        "    val = '1. 1'\r\n",
        "  elif (row['Count_Transaction'] >1 and row['Count_Transaction'] <= 3):\r\n",
        "    val ='2. 2 - 3'\r\n",
        "  elif (row['Count_Transaction'] >3 and row['Count_Transaction'] <= 6):\r\n",
        "    val ='3. 4 - 6'\r\n",
        "  elif (row['Count_Transaction'] >6 and row['Count_Transaction'] <= 10):\r\n",
        "    val ='4. 7 - 10'\r\n",
        "  else:\r\n",
        "    val ='5. >10'\r\n",
        "  return val\r\n",
        "\r\n",
        "# Tambahkan kolom baru\r\n",
        "df['Count_Transaction_Group'] = df.apply(func, axis=1)"
      ],
      "execution_count": 182,
      "outputs": [
        {
          "output_type": "display_data",
          "data": {
            "text/plain": [
              "<Figure size 432x288 with 0 Axes>"
            ]
          },
          "metadata": {
            "tags": []
          }
        }
      ]
    },
    {
      "cell_type": "code",
      "metadata": {
        "colab": {
          "base_uri": "https://localhost:8080/",
          "height": 609
        },
        "id": "kKnRGX-zrcgz",
        "outputId": "e2675caa-67de-476b-f590-a3defc1b857d"
      },
      "source": [
        "df"
      ],
      "execution_count": 183,
      "outputs": [
        {
          "output_type": "execute_result",
          "data": {
            "text/html": [
              "<div>\n",
              "<style scoped>\n",
              "    .dataframe tbody tr th:only-of-type {\n",
              "        vertical-align: middle;\n",
              "    }\n",
              "\n",
              "    .dataframe tbody tr th {\n",
              "        vertical-align: top;\n",
              "    }\n",
              "\n",
              "    .dataframe thead th {\n",
              "        text-align: right;\n",
              "    }\n",
              "</style>\n",
              "<table border=\"1\" class=\"dataframe\">\n",
              "  <thead>\n",
              "    <tr style=\"text-align: right;\">\n",
              "      <th></th>\n",
              "      <th>Customer_ID</th>\n",
              "      <th>Product</th>\n",
              "      <th>First_Transaction</th>\n",
              "      <th>Last_Transaction</th>\n",
              "      <th>Average_Transaction_Amount</th>\n",
              "      <th>Count_Transaction</th>\n",
              "      <th>is_churn</th>\n",
              "      <th>Year_First_Transaction</th>\n",
              "      <th>Year_Last_Transaction</th>\n",
              "      <th>Count_Transaction_Group</th>\n",
              "    </tr>\n",
              "  </thead>\n",
              "  <tbody>\n",
              "    <tr>\n",
              "      <th>0</th>\n",
              "      <td>29531</td>\n",
              "      <td>Jaket</td>\n",
              "      <td>2016-06-19 02:44:34.395999908</td>\n",
              "      <td>2018-10-05 05:48:02.608000040</td>\n",
              "      <td>1467681</td>\n",
              "      <td>22</td>\n",
              "      <td>False</td>\n",
              "      <td>2016</td>\n",
              "      <td>2018</td>\n",
              "      <td>5. &gt;10</td>\n",
              "    </tr>\n",
              "    <tr>\n",
              "      <th>1</th>\n",
              "      <td>29531</td>\n",
              "      <td>Sepatu</td>\n",
              "      <td>2014-07-23 01:02:11.493999958</td>\n",
              "      <td>2018-12-25 11:02:41.269999981</td>\n",
              "      <td>1269337</td>\n",
              "      <td>41</td>\n",
              "      <td>False</td>\n",
              "      <td>2014</td>\n",
              "      <td>2018</td>\n",
              "      <td>5. &gt;10</td>\n",
              "    </tr>\n",
              "    <tr>\n",
              "      <th>2</th>\n",
              "      <td>141526</td>\n",
              "      <td>Tas</td>\n",
              "      <td>2017-04-28 03:12:27.000000000</td>\n",
              "      <td>2019-01-24 09:40:02.000000000</td>\n",
              "      <td>310915</td>\n",
              "      <td>30</td>\n",
              "      <td>False</td>\n",
              "      <td>2017</td>\n",
              "      <td>2019</td>\n",
              "      <td>5. &gt;10</td>\n",
              "    </tr>\n",
              "    <tr>\n",
              "      <th>3</th>\n",
              "      <td>141526</td>\n",
              "      <td>Jaket</td>\n",
              "      <td>2017-04-28 06:52:52.546999931</td>\n",
              "      <td>2019-01-16 13:00:03.911000013</td>\n",
              "      <td>722632</td>\n",
              "      <td>27</td>\n",
              "      <td>False</td>\n",
              "      <td>2017</td>\n",
              "      <td>2019</td>\n",
              "      <td>5. &gt;10</td>\n",
              "    </tr>\n",
              "    <tr>\n",
              "      <th>4</th>\n",
              "      <td>37545</td>\n",
              "      <td>Sepatu</td>\n",
              "      <td>2015-04-16 10:01:38.530999899</td>\n",
              "      <td>2018-11-22 12:53:41.529999970</td>\n",
              "      <td>1775036</td>\n",
              "      <td>25</td>\n",
              "      <td>False</td>\n",
              "      <td>2015</td>\n",
              "      <td>2018</td>\n",
              "      <td>5. &gt;10</td>\n",
              "    </tr>\n",
              "    <tr>\n",
              "      <th>...</th>\n",
              "      <td>...</td>\n",
              "      <td>...</td>\n",
              "      <td>...</td>\n",
              "      <td>...</td>\n",
              "      <td>...</td>\n",
              "      <td>...</td>\n",
              "      <td>...</td>\n",
              "      <td>...</td>\n",
              "      <td>...</td>\n",
              "      <td>...</td>\n",
              "    </tr>\n",
              "    <tr>\n",
              "      <th>99995</th>\n",
              "      <td>56249</td>\n",
              "      <td>Jaket</td>\n",
              "      <td>2016-06-01 11:35:39.092000008</td>\n",
              "      <td>2016-06-01 11:35:39.092000008</td>\n",
              "      <td>298662</td>\n",
              "      <td>1</td>\n",
              "      <td>True</td>\n",
              "      <td>2016</td>\n",
              "      <td>2016</td>\n",
              "      <td>1. 1</td>\n",
              "    </tr>\n",
              "    <tr>\n",
              "      <th>99996</th>\n",
              "      <td>56249</td>\n",
              "      <td>Sepatu</td>\n",
              "      <td>2017-02-09 05:46:10.763000011</td>\n",
              "      <td>2017-02-09 05:46:10.763000011</td>\n",
              "      <td>349556</td>\n",
              "      <td>1</td>\n",
              "      <td>True</td>\n",
              "      <td>2017</td>\n",
              "      <td>2017</td>\n",
              "      <td>1. 1</td>\n",
              "    </tr>\n",
              "    <tr>\n",
              "      <th>99997</th>\n",
              "      <td>34157</td>\n",
              "      <td>Jaket</td>\n",
              "      <td>2015-08-30 08:54:20.706000090</td>\n",
              "      <td>2015-08-30 08:54:20.706000090</td>\n",
              "      <td>598013</td>\n",
              "      <td>1</td>\n",
              "      <td>True</td>\n",
              "      <td>2015</td>\n",
              "      <td>2015</td>\n",
              "      <td>1. 1</td>\n",
              "    </tr>\n",
              "    <tr>\n",
              "      <th>99998</th>\n",
              "      <td>34157</td>\n",
              "      <td>Sepatu</td>\n",
              "      <td>2014-11-14 02:42:28.026000023</td>\n",
              "      <td>2014-11-14 02:42:28.026000023</td>\n",
              "      <td>1208591</td>\n",
              "      <td>1</td>\n",
              "      <td>True</td>\n",
              "      <td>2014</td>\n",
              "      <td>2014</td>\n",
              "      <td>1. 1</td>\n",
              "    </tr>\n",
              "    <tr>\n",
              "      <th>99999</th>\n",
              "      <td>188822</td>\n",
              "      <td>Jaket</td>\n",
              "      <td>2018-10-24 09:36:04.125000000</td>\n",
              "      <td>2018-10-24 09:36:04.125000000</td>\n",
              "      <td>486710</td>\n",
              "      <td>1</td>\n",
              "      <td>False</td>\n",
              "      <td>2018</td>\n",
              "      <td>2018</td>\n",
              "      <td>1. 1</td>\n",
              "    </tr>\n",
              "  </tbody>\n",
              "</table>\n",
              "<p>100000 rows × 10 columns</p>\n",
              "</div>"
            ],
            "text/plain": [
              "       Customer_ID Product  ... Year_Last_Transaction Count_Transaction_Group\n",
              "0            29531   Jaket  ...                  2018                  5. >10\n",
              "1            29531  Sepatu  ...                  2018                  5. >10\n",
              "2           141526     Tas  ...                  2019                  5. >10\n",
              "3           141526   Jaket  ...                  2019                  5. >10\n",
              "4            37545  Sepatu  ...                  2018                  5. >10\n",
              "...            ...     ...  ...                   ...                     ...\n",
              "99995        56249   Jaket  ...                  2016                    1. 1\n",
              "99996        56249  Sepatu  ...                  2017                    1. 1\n",
              "99997        34157   Jaket  ...                  2015                    1. 1\n",
              "99998        34157  Sepatu  ...                  2014                    1. 1\n",
              "99999       188822   Jaket  ...                  2018                    1. 1\n",
              "\n",
              "[100000 rows x 10 columns]"
            ]
          },
          "metadata": {
            "tags": []
          },
          "execution_count": 183
        }
      ]
    },
    {
      "cell_type": "code",
      "metadata": {
        "colab": {
          "base_uri": "https://localhost:8080/"
        },
        "id": "9-jiTUGNsI_V",
        "outputId": "30b2a313-8cfa-4659-a1c1-9cdecbb2b892"
      },
      "source": [
        "# Groupby banyaknya kategori transaksi gtup dengan customer\r\n",
        "df_year = df.groupby(['Count_Transaction_Group'])['Customer_ID'].count()\r\n",
        "df_year"
      ],
      "execution_count": 184,
      "outputs": [
        {
          "output_type": "execute_result",
          "data": {
            "text/plain": [
              "Count_Transaction_Group\n",
              "1. 1         49255\n",
              "2. 2 - 3     14272\n",
              "3. 4 - 6     12126\n",
              "4. 7 - 10     2890\n",
              "5. >10       21457\n",
              "Name: Customer_ID, dtype: int64"
            ]
          },
          "metadata": {
            "tags": []
          },
          "execution_count": 184
        }
      ]
    },
    {
      "cell_type": "code",
      "metadata": {
        "colab": {
          "base_uri": "https://localhost:8080/",
          "height": 297
        },
        "id": "ghaA_BUHsm7V",
        "outputId": "0361ba7a-ff5e-487d-e7da-f16916234fa6"
      },
      "source": [
        "# Plot bar\r\n",
        "df_year.plot(x='Count_Transaction_Group', y='Customer_ID', kind='bar', title='Customer Distribution by Count Transaction Group')\r\n",
        "plt.xlabel('Count_Transaction_Group')\r\n",
        "plt.ylabel('Num_of_Customer')\r\n",
        "plt.tight_layout()\r\n",
        "plt.show()"
      ],
      "execution_count": 185,
      "outputs": [
        {
          "output_type": "display_data",
          "data": {
            "image/png": "[encoded data removed]",
            "text/plain": [
              "<Figure size 432x288 with 1 Axes>"
            ]
          },
          "metadata": {
            "tags": [],
            "needs_background": "light"
          }
        }
      ]
    },
    {
      "cell_type": "markdown",
      "metadata": {
        "id": "p9A780jvtatk"
      },
      "source": [
        "### **Distribusi kategorisasi average transaction amount**\r\n",
        "Selanjutnya, akan melakukan visualisasi dari distribusi **kategorisasi average transaction amount**. Kategorisasi ini dilakukan dengan mengelompokkan rata-rata besar transaksi seperti yang diperlihatkan oleh tabel berikut:"
      ]
    },
    {
      "cell_type": "markdown",
      "metadata": {
        "id": "AnYszvBrth-p"
      },
      "source": [
        "![image.png](data:image/png;base64,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)"
      ]
    },
    {
      "cell_type": "markdown",
      "metadata": {
        "id": "P8qedLTUtprB"
      },
      "source": [
        "Setelah ditambahkan kolom baru untuk kategori ini dengan nama **Average_Transaction_Amount_Group**, maka visualisasikanlah dengan bar chart. "
      ]
    },
    {
      "cell_type": "code",
      "metadata": {
        "colab": {
          "base_uri": "https://localhost:8080/",
          "height": 297
        },
        "id": "b_d3296rtsax",
        "outputId": "df3db325-a34c-41a7-c223-ee3d91b967fa"
      },
      "source": [
        "import matplotlib.pyplot as plt\r\n",
        "\r\n",
        "plt.clf()\r\n",
        "# Kategorisasi rata-rata besar transaksi\r\n",
        "def f(row):\r\n",
        "  if (row['Average_Transaction_Amount'] >= 100000 and row['Average_Transaction_Amount'] <=200000):\r\n",
        "    val ='1. 100.000 - 250.000'\r\n",
        "  elif (row['Average_Transaction_Amount'] >250000 and row['Average_Transaction_Amount'] <= 500000):\r\n",
        "    val ='2. >250.000 - 500.000'\r\n",
        "  elif (row['Average_Transaction_Amount'] >500000 and row['Average_Transaction_Amount'] <= 750000):\r\n",
        "    val ='3. >500.000 - 750.000'\r\n",
        "  elif (row['Average_Transaction_Amount'] >750000 and row['Average_Transaction_Amount'] <= 1000000):\r\n",
        "    val ='4. >750.000 - 1.000.000'\r\n",
        "  elif (row['Average_Transaction_Amount'] >1000000 and row['Average_Transaction_Amount'] <= 2500000):\r\n",
        "    val ='5. >1.000.000 - 2.500.000'\r\n",
        "  elif (row['Average_Transaction_Amount'] >2500000 and row['Average_Transaction_Amount'] <= 5000000):\r\n",
        "    val ='6. >2.500.000 - 5.000.000'\r\n",
        "  elif (row['Average_Transaction_Amount'] >5000000 and row['Average_Transaction_Amount'] <= 10000000):\r\n",
        "    val ='7. >5.000.000 - 10.000.000'\r\n",
        "  else:\r\n",
        "    val ='8. >10.000.000'\r\n",
        "  return val\r\n",
        "  \r\n",
        "# Tambahkan kolom baru\r\n",
        "df['Average_Transaction_Amount_Group'] = df.apply(f, axis=1)\r\n",
        "\r\n",
        "df_year = df.groupby(['Average_Transaction_Amount_Group'])['Customer_ID'].count()\r\n",
        "df_year.plot(x='Average_Transaction_Amount_Group', y='Customer_ID',kind='bar', title='Customer Distribution by Average Transaction Amount Group')\r\n",
        "plt.xlabel('Average_Transaction_Amount_Group')\r\n",
        "plt.ylabel('Num_of_Customer')\r\n",
        "plt.tight_layout()\r\n",
        "plt.show()"
      ],
      "execution_count": 186,
      "outputs": [
        {
          "output_type": "display_data",
          "data": {
            "image/png": "[encoded data removed]",
            "text/plain": [
              "<Figure size 432x288 with 1 Axes>"
            ]
          },
          "metadata": {
            "tags": [],
            "needs_background": "light"
          }
        }
      ]
    },
    {
      "cell_type": "markdown",
      "metadata": {
        "id": "KE3yVtCUumbg"
      },
      "source": [
        "## **Coding Test: Modelling**"
      ]
    },
    {
      "cell_type": "markdown",
      "metadata": {
        "id": "UdPEC9h0uuTx"
      },
      "source": [
        "### **Feature Columns dan Target**\r\n",
        "Di bagian ini, selanjutnya akan menentukan **feature columns** dari dataset yang dimiliki, di sini dipilih kolom **Average_Transaction_Amount**, **Count_Transaction**, dan **Year_Diff**. Akan tetapi, kolom terakhir belum ada. Silakan **dicreate dahulu kolom Year_Diff ini** dan kemudian assign dataset dengan feature columns ini sebagai variabel independent **X**. \r\n",
        "\r\n",
        "Untuk target tentunya persoalan **costumer** dengan kondisi churn atau tidak, assign dataset untuk target ini ke dalam variabe dependent **y**."
      ]
    },
    {
      "cell_type": "code",
      "metadata": {
        "colab": {
          "base_uri": "https://localhost:8080/",
          "height": 609
        },
        "id": "R8-kar_buYxM",
        "outputId": "c13de367-e227-427b-c9d9-f100f04854e7"
      },
      "source": [
        "# Feature column: Year_Diff\r\n",
        "df['Year_Diff']=df['Year_Last_Transaction']-df['Year_First_Transaction']\r\n",
        "df "
      ],
      "execution_count": 187,
      "outputs": [
        {
          "output_type": "execute_result",
          "data": {
            "text/html": [
              "<div>\n",
              "<style scoped>\n",
              "    .dataframe tbody tr th:only-of-type {\n",
              "        vertical-align: middle;\n",
              "    }\n",
              "\n",
              "    .dataframe tbody tr th {\n",
              "        vertical-align: top;\n",
              "    }\n",
              "\n",
              "    .dataframe thead th {\n",
              "        text-align: right;\n",
              "    }\n",
              "</style>\n",
              "<table border=\"1\" class=\"dataframe\">\n",
              "  <thead>\n",
              "    <tr style=\"text-align: right;\">\n",
              "      <th></th>\n",
              "      <th>Customer_ID</th>\n",
              "      <th>Product</th>\n",
              "      <th>First_Transaction</th>\n",
              "      <th>Last_Transaction</th>\n",
              "      <th>Average_Transaction_Amount</th>\n",
              "      <th>Count_Transaction</th>\n",
              "      <th>is_churn</th>\n",
              "      <th>Year_First_Transaction</th>\n",
              "      <th>Year_Last_Transaction</th>\n",
              "      <th>Count_Transaction_Group</th>\n",
              "      <th>Average_Transaction_Amount_Group</th>\n",
              "      <th>Year_Diff</th>\n",
              "    </tr>\n",
              "  </thead>\n",
              "  <tbody>\n",
              "    <tr>\n",
              "      <th>0</th>\n",
              "      <td>29531</td>\n",
              "      <td>Jaket</td>\n",
              "      <td>2016-06-19 02:44:34.395999908</td>\n",
              "      <td>2018-10-05 05:48:02.608000040</td>\n",
              "      <td>1467681</td>\n",
              "      <td>22</td>\n",
              "      <td>False</td>\n",
              "      <td>2016</td>\n",
              "      <td>2018</td>\n",
              "      <td>5. &gt;10</td>\n",
              "      <td>5. &gt;1.000.000 - 2.500.000</td>\n",
              "      <td>2</td>\n",
              "    </tr>\n",
              "    <tr>\n",
              "      <th>1</th>\n",
              "      <td>29531</td>\n",
              "      <td>Sepatu</td>\n",
              "      <td>2014-07-23 01:02:11.493999958</td>\n",
              "      <td>2018-12-25 11:02:41.269999981</td>\n",
              "      <td>1269337</td>\n",
              "      <td>41</td>\n",
              "      <td>False</td>\n",
              "      <td>2014</td>\n",
              "      <td>2018</td>\n",
              "      <td>5. &gt;10</td>\n",
              "      <td>5. &gt;1.000.000 - 2.500.000</td>\n",
              "      <td>4</td>\n",
              "    </tr>\n",
              "    <tr>\n",
              "      <th>2</th>\n",
              "      <td>141526</td>\n",
              "      <td>Tas</td>\n",
              "      <td>2017-04-28 03:12:27.000000000</td>\n",
              "      <td>2019-01-24 09:40:02.000000000</td>\n",
              "      <td>310915</td>\n",
              "      <td>30</td>\n",
              "      <td>False</td>\n",
              "      <td>2017</td>\n",
              "      <td>2019</td>\n",
              "      <td>5. &gt;10</td>\n",
              "      <td>2. &gt;250.000 - 500.000</td>\n",
              "      <td>2</td>\n",
              "    </tr>\n",
              "    <tr>\n",
              "      <th>3</th>\n",
              "      <td>141526</td>\n",
              "      <td>Jaket</td>\n",
              "      <td>2017-04-28 06:52:52.546999931</td>\n",
              "      <td>2019-01-16 13:00:03.911000013</td>\n",
              "      <td>722632</td>\n",
              "      <td>27</td>\n",
              "      <td>False</td>\n",
              "      <td>2017</td>\n",
              "      <td>2019</td>\n",
              "      <td>5. &gt;10</td>\n",
              "      <td>3. &gt;500.000 - 750.000</td>\n",
              "      <td>2</td>\n",
              "    </tr>\n",
              "    <tr>\n",
              "      <th>4</th>\n",
              "      <td>37545</td>\n",
              "      <td>Sepatu</td>\n",
              "      <td>2015-04-16 10:01:38.530999899</td>\n",
              "      <td>2018-11-22 12:53:41.529999970</td>\n",
              "      <td>1775036</td>\n",
              "      <td>25</td>\n",
              "      <td>False</td>\n",
              "      <td>2015</td>\n",
              "      <td>2018</td>\n",
              "      <td>5. &gt;10</td>\n",
              "      <td>5. &gt;1.000.000 - 2.500.000</td>\n",
              "      <td>3</td>\n",
              "    </tr>\n",
              "    <tr>\n",
              "      <th>...</th>\n",
              "      <td>...</td>\n",
              "      <td>...</td>\n",
              "      <td>...</td>\n",
              "      <td>...</td>\n",
              "      <td>...</td>\n",
              "      <td>...</td>\n",
              "      <td>...</td>\n",
              "      <td>...</td>\n",
              "      <td>...</td>\n",
              "      <td>...</td>\n",
              "      <td>...</td>\n",
              "      <td>...</td>\n",
              "    </tr>\n",
              "    <tr>\n",
              "      <th>99995</th>\n",
              "      <td>56249</td>\n",
              "      <td>Jaket</td>\n",
              "      <td>2016-06-01 11:35:39.092000008</td>\n",
              "      <td>2016-06-01 11:35:39.092000008</td>\n",
              "      <td>298662</td>\n",
              "      <td>1</td>\n",
              "      <td>True</td>\n",
              "      <td>2016</td>\n",
              "      <td>2016</td>\n",
              "      <td>1. 1</td>\n",
              "      <td>2. &gt;250.000 - 500.000</td>\n",
              "      <td>0</td>\n",
              "    </tr>\n",
              "    <tr>\n",
              "      <th>99996</th>\n",
              "      <td>56249</td>\n",
              "      <td>Sepatu</td>\n",
              "      <td>2017-02-09 05:46:10.763000011</td>\n",
              "      <td>2017-02-09 05:46:10.763000011</td>\n",
              "      <td>349556</td>\n",
              "      <td>1</td>\n",
              "      <td>True</td>\n",
              "      <td>2017</td>\n",
              "      <td>2017</td>\n",
              "      <td>1. 1</td>\n",
              "      <td>2. &gt;250.000 - 500.000</td>\n",
              "      <td>0</td>\n",
              "    </tr>\n",
              "    <tr>\n",
              "      <th>99997</th>\n",
              "      <td>34157</td>\n",
              "      <td>Jaket</td>\n",
              "      <td>2015-08-30 08:54:20.706000090</td>\n",
              "      <td>2015-08-30 08:54:20.706000090</td>\n",
              "      <td>598013</td>\n",
              "      <td>1</td>\n",
              "      <td>True</td>\n",
              "      <td>2015</td>\n",
              "      <td>2015</td>\n",
              "      <td>1. 1</td>\n",
              "      <td>3. &gt;500.000 - 750.000</td>\n",
              "      <td>0</td>\n",
              "    </tr>\n",
              "    <tr>\n",
              "      <th>99998</th>\n",
              "      <td>34157</td>\n",
              "      <td>Sepatu</td>\n",
              "      <td>2014-11-14 02:42:28.026000023</td>\n",
              "      <td>2014-11-14 02:42:28.026000023</td>\n",
              "      <td>1208591</td>\n",
              "      <td>1</td>\n",
              "      <td>True</td>\n",
              "      <td>2014</td>\n",
              "      <td>2014</td>\n",
              "      <td>1. 1</td>\n",
              "      <td>5. &gt;1.000.000 - 2.500.000</td>\n",
              "      <td>0</td>\n",
              "    </tr>\n",
              "    <tr>\n",
              "      <th>99999</th>\n",
              "      <td>188822</td>\n",
              "      <td>Jaket</td>\n",
              "      <td>2018-10-24 09:36:04.125000000</td>\n",
              "      <td>2018-10-24 09:36:04.125000000</td>\n",
              "      <td>486710</td>\n",
              "      <td>1</td>\n",
              "      <td>False</td>\n",
              "      <td>2018</td>\n",
              "      <td>2018</td>\n",
              "      <td>1. 1</td>\n",
              "      <td>2. &gt;250.000 - 500.000</td>\n",
              "      <td>0</td>\n",
              "    </tr>\n",
              "  </tbody>\n",
              "</table>\n",
              "<p>100000 rows × 12 columns</p>\n",
              "</div>"
            ],
            "text/plain": [
              "       Customer_ID Product  ... Average_Transaction_Amount_Group Year_Diff\n",
              "0            29531   Jaket  ...        5. >1.000.000 - 2.500.000         2\n",
              "1            29531  Sepatu  ...        5. >1.000.000 - 2.500.000         4\n",
              "2           141526     Tas  ...            2. >250.000 - 500.000         2\n",
              "3           141526   Jaket  ...            3. >500.000 - 750.000         2\n",
              "4            37545  Sepatu  ...        5. >1.000.000 - 2.500.000         3\n",
              "...            ...     ...  ...                              ...       ...\n",
              "99995        56249   Jaket  ...            2. >250.000 - 500.000         0\n",
              "99996        56249  Sepatu  ...            2. >250.000 - 500.000         0\n",
              "99997        34157   Jaket  ...            3. >500.000 - 750.000         0\n",
              "99998        34157  Sepatu  ...        5. >1.000.000 - 2.500.000         0\n",
              "99999       188822   Jaket  ...            2. >250.000 - 500.000         0\n",
              "\n",
              "[100000 rows x 12 columns]"
            ]
          },
          "metadata": {
            "tags": []
          },
          "execution_count": 187
        }
      ]
    },
    {
      "cell_type": "code",
      "metadata": {
        "colab": {
          "base_uri": "https://localhost:8080/"
        },
        "id": "5733EETe95VG",
        "outputId": "472c93a0-f295-468f-f000-736f5e01301d"
      },
      "source": [
        "df['is_churn'] = df['is_churn'].astype(bool)\r\n",
        "df.info()"
      ],
      "execution_count": 192,
      "outputs": [
        {
          "output_type": "stream",
          "text": [
            "<class 'pandas.core.frame.DataFrame'>\n",
            "RangeIndex: 100000 entries, 0 to 99999\n",
            "Data columns (total 12 columns):\n",
            " #   Column                            Non-Null Count   Dtype         \n",
            "---  ------                            --------------   -----         \n",
            " 0   Customer_ID                       100000 non-null  int64         \n",
            " 1   Product                           100000 non-null  object        \n",
            " 2   First_Transaction                 100000 non-null  datetime64[ns]\n",
            " 3   Last_Transaction                  100000 non-null  datetime64[ns]\n",
            " 4   Average_Transaction_Amount        100000 non-null  int64         \n",
            " 5   Count_Transaction                 100000 non-null  int64         \n",
            " 6   is_churn                          100000 non-null  bool          \n",
            " 7   Year_First_Transaction            100000 non-null  int64         \n",
            " 8   Year_Last_Transaction             100000 non-null  int64         \n",
            " 9   Count_Transaction_Group           100000 non-null  object        \n",
            " 10  Average_Transaction_Amount_Group  100000 non-null  object        \n",
            " 11  Year_Diff                         100000 non-null  int64         \n",
            "dtypes: bool(1), datetime64[ns](2), int64(6), object(3)\n",
            "memory usage: 8.5+ MB\n"
          ],
          "name": "stdout"
        }
      ]
    },
    {
      "cell_type": "code",
      "metadata": {
        "id": "5N5oihxZvmtp"
      },
      "source": [
        "# Nama-nama feature columns\r\n",
        "feature_columns = ['Average_Transaction_Amount', 'Count_Transaction', 'Year_Diff']\r\n",
        "\r\n",
        "# Features variable\r\n",
        "X = df[feature_columns]\r\n",
        "\r\n",
        "# Target variable\r\n",
        "y = df['is_churn']"
      ],
      "execution_count": 193,
      "outputs": []
    },
    {
      "cell_type": "markdown",
      "metadata": {
        "id": "gHuReiVmv_0p"
      },
      "source": [
        "### **Split X dan y ke dalam bagian training dan testing**\r\n",
        "Setelah variabel independent X dan variabel dependent y selesai dilakukan, maka pecahlah X dan y ke dalam bagian **training dan testing**. Bagian **testing 25%** dari jumlah entri data."
      ]
    },
    {
      "cell_type": "code",
      "metadata": {
        "colab": {
          "base_uri": "https://localhost:8080/"
        },
        "id": "ZGD470GO0r-U",
        "outputId": "6d5a1f92-2b7d-4341-ea79-a4798fe2435b"
      },
      "source": [
        "from sklearn.model_selection import train_test_split\r\n",
        "\r\n",
        "X_train, X_test, y_train, y_test = train_test_split(X, y, test_size = 0.25, random_state=0)\r\n",
        "# checking the shapes\r\n",
        "print('Shape of X_train :', X_train.shape)\r\n",
        "print('Shape of y_train :', y_train.shape)\r\n",
        "print('Shape of X_test :', X_test.shape)\r\n",
        "print('Shape of y_test :', y_test.shape)"
      ],
      "execution_count": 194,
      "outputs": [
        {
          "output_type": "stream",
          "text": [
            "Shape of X_train : (75000, 3)\n",
            "Shape of y_train : (75000,)\n",
            "Shape of X_test : (25000, 3)\n",
            "Shape of y_test : (25000,)\n"
          ],
          "name": "stdout"
        }
      ]
    },
    {
      "cell_type": "markdown",
      "metadata": {
        "id": "IBxtU3fQx_3M"
      },
      "source": [
        "### **Train, predict dan evaluate**\r\n",
        "Langkah selanjutnya akan membuat model menggunakan **Logistic Regression**, **inisialisasilah model, fit**, dan kemudian **evaluasi model** dengan menggunakan **confusion matrix**."
      ]
    },
    {
      "cell_type": "code",
      "metadata": {
        "colab": {
          "base_uri": "https://localhost:8080/"
        },
        "id": "RW7-KSvjzhij",
        "outputId": "28cf484c-1468-4d72-f726-fc27925ced41"
      },
      "source": [
        "from sklearn.linear_model import LogisticRegression\r\n",
        "from sklearn.metrics import confusion_matrix\r\n",
        "\r\n",
        "# Inisiasi model logreg\r\n",
        "logreg = LogisticRegression()\r\n",
        "\r\n",
        "# fit the model with data\r\n",
        "logreg.fit(X_train, y_train)\r\n",
        "\r\n",
        "# Predict model\r\n",
        "y_pred=logreg.predict(X_test)\r\n",
        "\r\n",
        "# Evaluasi model menggunakan confusion matrix\r\n",
        "cnf_matrix = confusion_matrix(y_test, y_pred)\r\n",
        "print('Confusion Matrix:\\n', cnf_matrix)"
      ],
      "execution_count": 196,
      "outputs": [
        {
          "output_type": "stream",
          "text": [
            "Confusion Matrix:\n",
            " [[    1  8330]\n",
            " [    3 16666]]\n"
          ],
          "name": "stdout"
        }
      ]
    },
    {
      "cell_type": "markdown",
      "metadata": {
        "id": "XEshHQiE_64v"
      },
      "source": [
        "### **Visualisasi Confusion Matrix**\r\n",
        "Confusion matrix yang telah dihitung sebelumnya dapat divisualisasikan dengan menggunakan **heatmap dari seaborn**. Untuk itu tampilkanlah visualisasi dari **confusion matrix** ini."
      ]
    },
    {
      "cell_type": "code",
      "metadata": {
        "colab": {
          "base_uri": "https://localhost:8080/",
          "height": 314
        },
        "id": "CRzPiSOp500x",
        "outputId": "9951b489-f7c3-4a32-bdc1-299f6b989a79"
      },
      "source": [
        "# import required modules\r\n",
        "import numpy as np\r\n",
        "import matplotlib.pyplot as plt\r\n",
        "import seaborn as sns\r\n",
        "\r\n",
        "plt.clf()\r\n",
        "# name of classes\r\n",
        "class_names = [0, 1]\r\n",
        "fig, ax = plt.subplots()\r\n",
        "\r\n",
        "tick_marks = np.arange(len(class_names))\r\n",
        "plt.xticks(tick_marks, class_names)\r\n",
        "plt.yticks(tick_marks, class_names)\r\n",
        "\r\n",
        "# create heatmap\r\n",
        "sns.heatmap(pd.DataFrame(cnf_matrix), annot=True, cmap='YlGnBu', fmt='g')\r\n",
        "ax.xaxis.set_label_position('top')\r\n",
        "plt.title('Confusion matrix', y=1.1)\r\n",
        "plt.ylabel('Actual')\r\n",
        "plt.xlabel('Predicted')\r\n",
        "plt.tight_layout()\r\n",
        "plt.show()"
      ],
      "execution_count": 197,
      "outputs": [
        {
          "output_type": "display_data",
          "data": {
            "text/plain": [
              "<Figure size 432x288 with 0 Axes>"
            ]
          },
          "metadata": {
            "tags": []
          }
        },
        {
          "output_type": "display_data",
          "data": {
            "image/png": "[encoded data removed]",
            "text/plain": [
              "<Figure size 432x288 with 2 Axes>"
            ]
          },
          "metadata": {
            "tags": [],
            "needs_background": "light"
          }
        }
      ]
    },
    {
      "cell_type": "code",
      "metadata": {
        "id": "zGeZsbXHARLl"
      },
      "source": [
        ""
      ],
      "execution_count": null,
      "outputs": []
    }
  ]
}