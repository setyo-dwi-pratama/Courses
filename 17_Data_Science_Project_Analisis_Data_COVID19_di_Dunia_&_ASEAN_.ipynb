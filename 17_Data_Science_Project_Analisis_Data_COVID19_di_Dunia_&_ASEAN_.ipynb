{
  "nbformat": 4,
  "nbformat_minor": 0,
  "metadata": {
    "colab": {
      "name": "17_Data Science Project: Analisis Data COVID19 di Dunia & ASEAN .ipynb",
      "provenance": [],
      "authorship_tag": "ABX9TyNGCokdaKVE5V7EoTLduHu2",
      "include_colab_link": true
    },
    "kernelspec": {
      "name": "python3",
      "display_name": "Python 3"
    },
    "accelerator": "GPU"
  },
  "cells": [
    {
      "cell_type": "markdown",
      "metadata": {
        "id": "view-in-github",
        "colab_type": "text"
      },
      "source": [
        "<a href=\"https://colab.research.google.com/github/setyo-dwi-pratama/Courses/blob/main/17_Data_Science_Project_Analisis_Data_COVID19_di_Dunia_%26_ASEAN_.ipynb\" target=\"_parent\"><img src=\"https://colab.research.google.com/assets/colab-badge.svg\" alt=\"Open In Colab\"/></a>"
      ]
    },
    {
      "cell_type": "markdown",
      "metadata": {
        "id": "P0PWXrWMhD-4"
      },
      "source": [
        "# **Data Science Project: Analisis Data COVID19 di Dunia & ASEAN**"
      ]
    },
    {
      "cell_type": "markdown",
      "metadata": {
        "id": "6qscs19zhIC8"
      },
      "source": [
        "### **Pendahuluan**"
      ]
    },
    {
      "cell_type": "markdown",
      "metadata": {
        "id": "hhnnXOtFhNqc"
      },
      "source": [
        "### **Pendahuluan**\r\n",
        "Covid19 adalah pandemi yang sudah mewabah ke seluruh dunia. Sebagian besar negara-negara di dunia sudah terjangkit. Penanganan tiap-tiap negara pun berbeda, sesuai dengan kebijakan pemerintah. Hal ini mengakibatkan perbedaan trend kenaikan atau penurunan kasus covid berbeda-beda tiap negara.\r\n",
        "\r\n",
        "Pada kasus kali ini, kita akan mencoba menggali data covid19 dari salah satu open api yang tersedia yaitu https://covid19-api.org/."
      ]
    },
    {
      "cell_type": "markdown",
      "metadata": {
        "id": "9_7tMXCshaB4"
      },
      "source": [
        "### **Library yang dibutuhkan**\r\n",
        "Pertama-tama, import terlebih dahulu library yang dibutuhkan, antara lain secara berurutan adalah\r\n",
        "\r\n",
        "**json**,\r\n",
        "\r\n",
        "**numpy**,\r\n",
        "\r\n",
        "**pandas**, dan\r\n",
        "\r\n",
        "**requests**.\r\n",
        "\r\n",
        "Library numpy dan pandas diimport sebagai aliasnya."
      ]
    },
    {
      "cell_type": "code",
      "metadata": {
        "id": "aPFKnD_dhGqs"
      },
      "source": [
        "import json\r\n",
        "import numpy as np\r\n",
        "import pandas as pd\r\n",
        "import requests"
      ],
      "execution_count": 1,
      "outputs": []
    },
    {
      "cell_type": "markdown",
      "metadata": {
        "id": "7ir3_nyymA5y"
      },
      "source": [
        "## **Mengakses Data Covid-19 Dari https://covid19-api.org**"
      ]
    },
    {
      "cell_type": "markdown",
      "metadata": {
        "id": "n-Zy8cxQkxpp"
      },
      "source": [
        "### **Membuat Fungsi get API**\r\n",
        "Buat fungsi python **get_json** dengan parameter **api_url**. fungsi ini akan mengembalikan value berupa python dictionary jika **status_code** yang dihasilkan adalah 200. Jika tidak, maka value yang dikembalikan adalah **None**."
      ]
    },
    {
      "cell_type": "code",
      "metadata": {
        "id": "1DkNEpNrlAUJ"
      },
      "source": [
        "def get_json(api_url):\r\n",
        "\tresponse = requests.get(api_url)\r\n",
        "\tif response.status_code == 200:\r\n",
        "\t\treturn json.loads(response.content.decode('utf-8'))\r\n",
        "\telse:\r\n",
        "\t\treturn None"
      ],
      "execution_count": 3,
      "outputs": []
    },
    {
      "cell_type": "markdown",
      "metadata": {
        "id": "1uJ1mKwSl1G9"
      },
      "source": [
        "### **Memanggil API Covid19**\r\n",
        "Rekapitulasi data COVID-19 global berada di https://covid19-api.org/. Gunakan parameter **record_date** untuk mengambil data covid19 di seluruh negara pada tanggal tertentu. Untuk kasus ini, gunakan record_date **'2020-08-17'**, dan masukkan hasil respon api ke variable **df_covid_worldwide**.\r\n",
        "\r\n",
        "Untuk mendapatkan dataframe covid19, gunakan fungsi **pd.io.json**.**json_normalize** dan panggil function yang sudah dibuat sebelumnya, yaitu **get_json()** Print sample data covid dengan menggunakan **head()** function."
      ]
    },
    {
      "cell_type": "code",
      "metadata": {
        "colab": {
          "base_uri": "https://localhost:8080/",
          "height": 453
        },
        "id": "6Z-k5KyPlxbv",
        "outputId": "211118d6-8400-46e1-971c-f253a7b56a7d"
      },
      "source": [
        "record_date = '2020-08-17'\r\n",
        "covid_url = 'https://covid19-api.org/api/status?date='+record_date\r\n",
        "df_covid_worldwide = pd.io.json.json_normalize(get_json(covid_url))\r\n",
        "\r\n",
        "df_covid_worldwide"
      ],
      "execution_count": 12,
      "outputs": [
        {
          "output_type": "stream",
          "text": [
            "/usr/local/lib/python3.6/dist-packages/ipykernel_launcher.py:3: FutureWarning: pandas.io.json.json_normalize is deprecated, use pandas.json_normalize instead\n",
            "  This is separate from the ipykernel package so we can avoid doing imports until\n"
          ],
          "name": "stderr"
        },
        {
          "output_type": "execute_result",
          "data": {
            "text/html": [
              "<div>\n",
              "<style scoped>\n",
              "    .dataframe tbody tr th:only-of-type {\n",
              "        vertical-align: middle;\n",
              "    }\n",
              "\n",
              "    .dataframe tbody tr th {\n",
              "        vertical-align: top;\n",
              "    }\n",
              "\n",
              "    .dataframe thead th {\n",
              "        text-align: right;\n",
              "    }\n",
              "</style>\n",
              "<table border=\"1\" class=\"dataframe\">\n",
              "  <thead>\n",
              "    <tr style=\"text-align: right;\">\n",
              "      <th></th>\n",
              "      <th>country</th>\n",
              "      <th>last_update</th>\n",
              "      <th>cases</th>\n",
              "      <th>deaths</th>\n",
              "      <th>recovered</th>\n",
              "    </tr>\n",
              "  </thead>\n",
              "  <tbody>\n",
              "    <tr>\n",
              "      <th>0</th>\n",
              "      <td>US</td>\n",
              "      <td>2020-08-16T23:27:50</td>\n",
              "      <td>5401167</td>\n",
              "      <td>170019</td>\n",
              "      <td>1833067</td>\n",
              "    </tr>\n",
              "    <tr>\n",
              "      <th>1</th>\n",
              "      <td>BR</td>\n",
              "      <td>2020-08-16T23:27:50</td>\n",
              "      <td>3340197</td>\n",
              "      <td>107852</td>\n",
              "      <td>2655017</td>\n",
              "    </tr>\n",
              "    <tr>\n",
              "      <th>2</th>\n",
              "      <td>IN</td>\n",
              "      <td>2020-08-16T23:27:50</td>\n",
              "      <td>2589682</td>\n",
              "      <td>49980</td>\n",
              "      <td>1862258</td>\n",
              "    </tr>\n",
              "    <tr>\n",
              "      <th>3</th>\n",
              "      <td>RU</td>\n",
              "      <td>2020-08-16T23:27:50</td>\n",
              "      <td>920719</td>\n",
              "      <td>15653</td>\n",
              "      <td>731444</td>\n",
              "    </tr>\n",
              "    <tr>\n",
              "      <th>4</th>\n",
              "      <td>ZA</td>\n",
              "      <td>2020-08-16T23:27:50</td>\n",
              "      <td>587345</td>\n",
              "      <td>11839</td>\n",
              "      <td>472377</td>\n",
              "    </tr>\n",
              "    <tr>\n",
              "      <th>...</th>\n",
              "      <td>...</td>\n",
              "      <td>...</td>\n",
              "      <td>...</td>\n",
              "      <td>...</td>\n",
              "      <td>...</td>\n",
              "    </tr>\n",
              "    <tr>\n",
              "      <th>201</th>\n",
              "      <td>GG</td>\n",
              "      <td>2020-03-17T18:33:03</td>\n",
              "      <td>0</td>\n",
              "      <td>0</td>\n",
              "      <td>0</td>\n",
              "    </tr>\n",
              "    <tr>\n",
              "      <th>202</th>\n",
              "      <td>GL</td>\n",
              "      <td>2020-03-19T09:33:04</td>\n",
              "      <td>0</td>\n",
              "      <td>0</td>\n",
              "      <td>0</td>\n",
              "    </tr>\n",
              "    <tr>\n",
              "      <th>203</th>\n",
              "      <td>GU</td>\n",
              "      <td>2020-03-18T19:14:33</td>\n",
              "      <td>0</td>\n",
              "      <td>0</td>\n",
              "      <td>0</td>\n",
              "    </tr>\n",
              "    <tr>\n",
              "      <th>204</th>\n",
              "      <td>JE</td>\n",
              "      <td>2020-03-17T18:33:03</td>\n",
              "      <td>0</td>\n",
              "      <td>0</td>\n",
              "      <td>0</td>\n",
              "    </tr>\n",
              "    <tr>\n",
              "      <th>205</th>\n",
              "      <td>PR</td>\n",
              "      <td>2020-03-17T16:13:14</td>\n",
              "      <td>0</td>\n",
              "      <td>0</td>\n",
              "      <td>0</td>\n",
              "    </tr>\n",
              "  </tbody>\n",
              "</table>\n",
              "<p>206 rows × 5 columns</p>\n",
              "</div>"
            ],
            "text/plain": [
              "    country          last_update    cases  deaths  recovered\n",
              "0        US  2020-08-16T23:27:50  5401167  170019    1833067\n",
              "1        BR  2020-08-16T23:27:50  3340197  107852    2655017\n",
              "2        IN  2020-08-16T23:27:50  2589682   49980    1862258\n",
              "3        RU  2020-08-16T23:27:50   920719   15653     731444\n",
              "4        ZA  2020-08-16T23:27:50   587345   11839     472377\n",
              "..      ...                  ...      ...     ...        ...\n",
              "201      GG  2020-03-17T18:33:03        0       0          0\n",
              "202      GL  2020-03-19T09:33:04        0       0          0\n",
              "203      GU  2020-03-18T19:14:33        0       0          0\n",
              "204      JE  2020-03-17T18:33:03        0       0          0\n",
              "205      PR  2020-03-17T16:13:14        0       0          0\n",
              "\n",
              "[206 rows x 5 columns]"
            ]
          },
          "metadata": {
            "tags": []
          },
          "execution_count": 12
        }
      ]
    },
    {
      "cell_type": "code",
      "metadata": {
        "colab": {
          "base_uri": "https://localhost:8080/"
        },
        "id": "JlzR3V1sqeRC",
        "outputId": "4f305845-b5f0-4ed2-bb75-630e2323a558"
      },
      "source": [
        "df_covid_worldwide.info()"
      ],
      "execution_count": 13,
      "outputs": [
        {
          "output_type": "stream",
          "text": [
            "<class 'pandas.core.frame.DataFrame'>\n",
            "RangeIndex: 206 entries, 0 to 205\n",
            "Data columns (total 5 columns):\n",
            " #   Column       Non-Null Count  Dtype \n",
            "---  ------       --------------  ----- \n",
            " 0   country      206 non-null    object\n",
            " 1   last_update  206 non-null    object\n",
            " 2   cases        206 non-null    int64 \n",
            " 3   deaths       206 non-null    int64 \n",
            " 4   recovered    206 non-null    int64 \n",
            "dtypes: int64(3), object(2)\n",
            "memory usage: 8.2+ KB\n"
          ],
          "name": "stdout"
        }
      ]
    },
    {
      "cell_type": "markdown",
      "metadata": {
        "id": "yr3pY9pgqITf"
      },
      "source": [
        "### **Merubah Format date**\r\n",
        "Ubah format kolom 'last_update' menggunakan fungsi to_datetime dengan format **YYYY-mm-dd HH:MM:SS**. Lalu ubah bentuk datetime ke bentuk date dengan fungsi date() melalui fungsi lambda untuk mengubah setiap row-nya."
      ]
    },
    {
      "cell_type": "code",
      "metadata": {
        "id": "d1H09GVTp42E"
      },
      "source": [
        "df_covid_worldwide['last_update'] = pd.to_datetime(df_covid_worldwide['last_update'], format='%Y-%m-%d %H:%M:%S')\r\n",
        "df_covid_worldwide['last_update'] = df_covid_worldwide['last_update'].apply(lambda x: x.date())"
      ],
      "execution_count": 14,
      "outputs": []
    },
    {
      "cell_type": "markdown",
      "metadata": {
        "id": "07cjZUs4rosh"
      },
      "source": [
        "### **Mengambil Data Countries**\r\n",
        "Buatlah dataframe countries dengan memanggil variable **countries_url** ke api covid19-api.org. Lalu ubah nama kolom alpha2 menjadi country, kemudian ambil hanya kolom name dan country saja untuk dataframe countries (**df_countries**) ini.\r\n",
        "\r\n",
        "Akhirnya cetaklah lima data teratas dari **dataframe countries** (df_countries)."
      ]
    },
    {
      "cell_type": "code",
      "metadata": {
        "colab": {
          "base_uri": "https://localhost:8080/"
        },
        "id": "t88bZ9vnrWrY",
        "outputId": "03877274-d291-440f-df1f-5980a9272380"
      },
      "source": [
        "countries_url = 'https://covid19-api.org/api/countries'\r\n",
        "df_countries = pd.io.json.json_normalize(get_json(countries_url))\r\n",
        "df_countries = df_countries.rename(columns={'alpha2': 'country'})\r\n",
        "print(df_countries.head())"
      ],
      "execution_count": 16,
      "outputs": [
        {
          "output_type": "stream",
          "text": [
            "          name country alpha3 numeric  latitude  longitude\n",
            "0  Afghanistan      AF    AFG     004      33.0       65.0\n",
            "1      Albania      AL    ALB     008      41.0       20.0\n",
            "2      Algeria      DZ    DZA     012      28.0        3.0\n",
            "3      Andorra      AD    AND     020      42.5        1.5\n",
            "4       Angola      AO    AGO     024     -12.5       18.5\n"
          ],
          "name": "stdout"
        },
        {
          "output_type": "stream",
          "text": [
            "/usr/local/lib/python3.6/dist-packages/ipykernel_launcher.py:2: FutureWarning: pandas.io.json.json_normalize is deprecated, use pandas.json_normalize instead\n",
            "  \n"
          ],
          "name": "stderr"
        }
      ]
    },
    {
      "cell_type": "code",
      "metadata": {
        "colab": {
          "base_uri": "https://localhost:8080/",
          "height": 419
        },
        "id": "47F0Lv0lsmXn",
        "outputId": "daee24a9-2bd5-4e6c-c9e3-9f79d01217ce"
      },
      "source": [
        "# Akses kolom name dan country\r\n",
        "df_countries = df_countries[['name','country']]\r\n",
        "df_countries"
      ],
      "execution_count": 21,
      "outputs": [
        {
          "output_type": "execute_result",
          "data": {
            "text/html": [
              "<div>\n",
              "<style scoped>\n",
              "    .dataframe tbody tr th:only-of-type {\n",
              "        vertical-align: middle;\n",
              "    }\n",
              "\n",
              "    .dataframe tbody tr th {\n",
              "        vertical-align: top;\n",
              "    }\n",
              "\n",
              "    .dataframe thead th {\n",
              "        text-align: right;\n",
              "    }\n",
              "</style>\n",
              "<table border=\"1\" class=\"dataframe\">\n",
              "  <thead>\n",
              "    <tr style=\"text-align: right;\">\n",
              "      <th></th>\n",
              "      <th>name</th>\n",
              "      <th>country</th>\n",
              "    </tr>\n",
              "  </thead>\n",
              "  <tbody>\n",
              "    <tr>\n",
              "      <th>0</th>\n",
              "      <td>Afghanistan</td>\n",
              "      <td>AF</td>\n",
              "    </tr>\n",
              "    <tr>\n",
              "      <th>1</th>\n",
              "      <td>Albania</td>\n",
              "      <td>AL</td>\n",
              "    </tr>\n",
              "    <tr>\n",
              "      <th>2</th>\n",
              "      <td>Algeria</td>\n",
              "      <td>DZ</td>\n",
              "    </tr>\n",
              "    <tr>\n",
              "      <th>3</th>\n",
              "      <td>Andorra</td>\n",
              "      <td>AD</td>\n",
              "    </tr>\n",
              "    <tr>\n",
              "      <th>4</th>\n",
              "      <td>Angola</td>\n",
              "      <td>AO</td>\n",
              "    </tr>\n",
              "    <tr>\n",
              "      <th>...</th>\n",
              "      <td>...</td>\n",
              "      <td>...</td>\n",
              "    </tr>\n",
              "    <tr>\n",
              "      <th>205</th>\n",
              "      <td>Viet Nam</td>\n",
              "      <td>VN</td>\n",
              "    </tr>\n",
              "    <tr>\n",
              "      <th>206</th>\n",
              "      <td>Western Sahara</td>\n",
              "      <td>EH</td>\n",
              "    </tr>\n",
              "    <tr>\n",
              "      <th>207</th>\n",
              "      <td>Yemen</td>\n",
              "      <td>YE</td>\n",
              "    </tr>\n",
              "    <tr>\n",
              "      <th>208</th>\n",
              "      <td>Zambia</td>\n",
              "      <td>ZM</td>\n",
              "    </tr>\n",
              "    <tr>\n",
              "      <th>209</th>\n",
              "      <td>Zimbabwe</td>\n",
              "      <td>ZW</td>\n",
              "    </tr>\n",
              "  </tbody>\n",
              "</table>\n",
              "<p>210 rows × 2 columns</p>\n",
              "</div>"
            ],
            "text/plain": [
              "               name country\n",
              "0       Afghanistan      AF\n",
              "1           Albania      AL\n",
              "2           Algeria      DZ\n",
              "3           Andorra      AD\n",
              "4            Angola      AO\n",
              "..              ...     ...\n",
              "205        Viet Nam      VN\n",
              "206  Western Sahara      EH\n",
              "207           Yemen      YE\n",
              "208          Zambia      ZM\n",
              "209        Zimbabwe      ZW\n",
              "\n",
              "[210 rows x 2 columns]"
            ]
          },
          "metadata": {
            "tags": []
          },
          "execution_count": 21
        }
      ]
    },
    {
      "cell_type": "markdown",
      "metadata": {
        "id": "DTIvJJFutd0T"
      },
      "source": [
        "## **Kasus Covid-19 di Dunia dan Negara Mana yang Tertinggi**"
      ]
    },
    {
      "cell_type": "markdown",
      "metadata": {
        "id": "WkpJBSvQtgWA"
      },
      "source": [
        "### **Merge Covid19 Data dan Countries**\r\n",
        "Selanjutnya adalah mapping data covid19 dan data country. Gunakan fungsi merge pada pandas untuk menggabungkan df_covid_worldwide dan df_countries. Untuk merge, gunakan kolom country. Lalu print sample data dengan menggunakan head()."
      ]
    },
    {
      "cell_type": "code",
      "metadata": {
        "colab": {
          "base_uri": "https://localhost:8080/"
        },
        "id": "bmH5lLNls47C",
        "outputId": "5ab55658-80bf-4801-a64c-09f2602eb735"
      },
      "source": [
        "df_covid_denormalized = pd.merge(df_covid_worldwide, df_countries, on='country')\r\n",
        "\r\n",
        "print(df_covid_denormalized.head())"
      ],
      "execution_count": 26,
      "outputs": [
        {
          "output_type": "stream",
          "text": [
            "  country last_update    cases  deaths  recovered                      name\n",
            "0      US  2020-08-16  5401167  170019    1833067  United States of America\n",
            "1      BR  2020-08-16  3340197  107852    2655017                    Brazil\n",
            "2      IN  2020-08-16  2589682   49980    1862258                     India\n",
            "3      RU  2020-08-16   920719   15653     731444        Russian Federation\n",
            "4      ZA  2020-08-16   587345   11839     472377              South Africa\n"
          ],
          "name": "stdout"
        }
      ]
    },
    {
      "cell_type": "markdown",
      "metadata": {
        "id": "51xnLB__urxX"
      },
      "source": [
        "### **Menghitung Fatality Ratio**\r\n",
        "Tambahkan satu kolom tambahan yaitu fatality_ratio, yang merupakan pembagian antara kolom deaths dan cases."
      ]
    },
    {
      "cell_type": "code",
      "metadata": {
        "colab": {
          "base_uri": "https://localhost:8080/",
          "height": 204
        },
        "id": "kxhwrrXEukUY",
        "outputId": "6d76b89a-ce6d-4330-f27a-90633148657b"
      },
      "source": [
        "df_covid_denormalized['fatality_ratio'] = df_covid_denormalized['deaths']/df_covid_denormalized['cases']\r\n",
        "df_covid_denormalized.head()"
      ],
      "execution_count": 28,
      "outputs": [
        {
          "output_type": "execute_result",
          "data": {
            "text/html": [
              "<div>\n",
              "<style scoped>\n",
              "    .dataframe tbody tr th:only-of-type {\n",
              "        vertical-align: middle;\n",
              "    }\n",
              "\n",
              "    .dataframe tbody tr th {\n",
              "        vertical-align: top;\n",
              "    }\n",
              "\n",
              "    .dataframe thead th {\n",
              "        text-align: right;\n",
              "    }\n",
              "</style>\n",
              "<table border=\"1\" class=\"dataframe\">\n",
              "  <thead>\n",
              "    <tr style=\"text-align: right;\">\n",
              "      <th></th>\n",
              "      <th>country</th>\n",
              "      <th>last_update</th>\n",
              "      <th>cases</th>\n",
              "      <th>deaths</th>\n",
              "      <th>recovered</th>\n",
              "      <th>name</th>\n",
              "      <th>fatality_ratio</th>\n",
              "    </tr>\n",
              "  </thead>\n",
              "  <tbody>\n",
              "    <tr>\n",
              "      <th>0</th>\n",
              "      <td>US</td>\n",
              "      <td>2020-08-16</td>\n",
              "      <td>5401167</td>\n",
              "      <td>170019</td>\n",
              "      <td>1833067</td>\n",
              "      <td>United States of America</td>\n",
              "      <td>0.031478</td>\n",
              "    </tr>\n",
              "    <tr>\n",
              "      <th>1</th>\n",
              "      <td>BR</td>\n",
              "      <td>2020-08-16</td>\n",
              "      <td>3340197</td>\n",
              "      <td>107852</td>\n",
              "      <td>2655017</td>\n",
              "      <td>Brazil</td>\n",
              "      <td>0.032289</td>\n",
              "    </tr>\n",
              "    <tr>\n",
              "      <th>2</th>\n",
              "      <td>IN</td>\n",
              "      <td>2020-08-16</td>\n",
              "      <td>2589682</td>\n",
              "      <td>49980</td>\n",
              "      <td>1862258</td>\n",
              "      <td>India</td>\n",
              "      <td>0.019300</td>\n",
              "    </tr>\n",
              "    <tr>\n",
              "      <th>3</th>\n",
              "      <td>RU</td>\n",
              "      <td>2020-08-16</td>\n",
              "      <td>920719</td>\n",
              "      <td>15653</td>\n",
              "      <td>731444</td>\n",
              "      <td>Russian Federation</td>\n",
              "      <td>0.017001</td>\n",
              "    </tr>\n",
              "    <tr>\n",
              "      <th>4</th>\n",
              "      <td>ZA</td>\n",
              "      <td>2020-08-16</td>\n",
              "      <td>587345</td>\n",
              "      <td>11839</td>\n",
              "      <td>472377</td>\n",
              "      <td>South Africa</td>\n",
              "      <td>0.020157</td>\n",
              "    </tr>\n",
              "  </tbody>\n",
              "</table>\n",
              "</div>"
            ],
            "text/plain": [
              "  country last_update  ...                      name  fatality_ratio\n",
              "0      US  2020-08-16  ...  United States of America        0.031478\n",
              "1      BR  2020-08-16  ...                    Brazil        0.032289\n",
              "2      IN  2020-08-16  ...                     India        0.019300\n",
              "3      RU  2020-08-16  ...        Russian Federation        0.017001\n",
              "4      ZA  2020-08-16  ...              South Africa        0.020157\n",
              "\n",
              "[5 rows x 7 columns]"
            ]
          },
          "metadata": {
            "tags": []
          },
          "execution_count": 28
        }
      ]
    },
    {
      "cell_type": "markdown",
      "metadata": {
        "id": "8K0Q0cvlvaHh"
      },
      "source": [
        "### **Negara-negara dengan Fatality Ratio Tertinggi**\r\n",
        "Ambil top 20 negara dengan value kolom fatality_ratio tertinggi dengan menggunakan fungsi sort_values."
      ]
    },
    {
      "cell_type": "code",
      "metadata": {
        "id": "6Yuiy1kJu9vq"
      },
      "source": [
        "df_top_20_fatality_rate = df_covid_denormalized.sort_values(by='fatality_ratio', ascending=False).head(20)"
      ],
      "execution_count": 35,
      "outputs": []
    },
    {
      "cell_type": "markdown",
      "metadata": {
        "id": "RICrbwIfyDLb"
      },
      "source": [
        "### **Import Library Visualisasi**\r\n",
        "Importlah library matplotlib.pyplot sebagai aliasnya plt."
      ]
    },
    {
      "cell_type": "code",
      "metadata": {
        "id": "xuRf_jU4vusB"
      },
      "source": [
        "import matplotlib.pyplot as plt"
      ],
      "execution_count": 36,
      "outputs": []
    },
    {
      "cell_type": "markdown",
      "metadata": {
        "id": "55DnTdCVyXl1"
      },
      "source": [
        "### **Visualisasi Negara dengan Fatality Ratio Tertinggi**\r\n",
        "Untuk memvisualisasikan negara-negara dengan kasus fatality rate tertinggi akibat covid-19 ini dapat dilakukan dengan menggunakan bar chart.  Di sini tentukan terlebih dahulu isi dari variable x axis dan y axis.\r\n",
        "\r\n",
        "Variabel x axis adalah kolom name, dan kolom y atau value nya adalah kolom **fatality_ratio** dan gunakan fungsi plt.bar([value x axis, value y axis]).\r\n",
        "\r\n",
        "Label sumbu x diputar 90 derajat untuk menghindari bertumpuknya nama-nama negara pada posisi 0 derajat."
      ]
    },
    {
      "cell_type": "code",
      "metadata": {
        "colab": {
          "base_uri": "https://localhost:8080/",
          "height": 605
        },
        "id": "J7UQHBdQyKIG",
        "outputId": "b91e3240-78c1-46d9-b43a-44a148183ffb"
      },
      "source": [
        "import matplotlib.pyplot as plt\r\n",
        "plt.figure(figsize=(20, 8))\r\n",
        "x = df_top_20_fatality_rate['name']\r\n",
        "y = df_top_20_fatality_rate['fatality_ratio']\r\n",
        "plt.bar(x,y)\r\n",
        "plt.xlabel('Country Name')\r\n",
        "plt.ylabel('Fatality Rate')\r\n",
        "plt.title('Top 20 Highest Fatality Rate Countries')\r\n",
        "plt.xticks(rotation=90)\r\n",
        "plt.tight_layout()\r\n",
        "plt.show()"
      ],
      "execution_count": 37,
      "outputs": [
        {
          "output_type": "display_data",
          "data": {
            "image/png": "[encoded data removed]",
            "text/plain": [
              "<Figure size 1440x576 with 1 Axes>"
            ]
          },
          "metadata": {
            "tags": [],
            "needs_background": "light"
          }
        }
      ]
    },
    {
      "cell_type": "markdown",
      "metadata": {
        "id": "pEFDrpCrzJs8"
      },
      "source": [
        "## **Kasus Covid-19 di ASEAN**"
      ]
    },
    {
      "cell_type": "markdown",
      "metadata": {
        "id": "7faXP1xWzLyc"
      },
      "source": [
        "### Menggabungkan Dataframe\r\n",
        "Selanjutnya adalah membandingkan kasus covid19 di Indonesia (ID) dengan negara-negara tetangga, yaitu:\r\n",
        "\r\n",
        "* MY -> Malaysia,\r\n",
        "* SG -> Singapure,\r\n",
        "* TH -> Thailand,\r\n",
        "* VN -> Vietnam."
      ]
    },
    {
      "cell_type": "markdown",
      "metadata": {
        "id": "RDHVuxwRzULE"
      },
      "source": [
        "Untuk itu, api country dipanggil berkali-kali sebanyak negara yang akan kita bandingkan.\r\n",
        "\r\n",
        "Gunakan fungsi pd.io.json.json_normalize dan panggil function yang sudah dibuat sebelumnya, yaitu get_json().\r\n",
        "\r\n",
        "Gunakan fungsi datetime untuk merubah string ke bentuk datetime (YYYY-mm-dd HH:MM:SS) yang selanjutnya diubah ke format date.\r\n",
        "\r\n",
        "Cetaklah lima data teratas dari dataframe yang telah dibentuk."
      ]
    },
    {
      "cell_type": "code",
      "metadata": {
        "colab": {
          "base_uri": "https://localhost:8080/",
          "height": 453
        },
        "id": "dbZTDTrty0RK",
        "outputId": "613eb7b1-0af0-45b5-e702-4b5efdd2065a"
      },
      "source": [
        "countries = ['ID','MY','SG','TH','VN']\r\n",
        "i = 0\r\n",
        "for country in countries:\r\n",
        "  covid_timeline_url = 'https://covid19-api.org/api/timeline/'+country\r\n",
        "  df_covid_timeline = pd.io.json.json_normalize(get_json(covid_timeline_url))\r\n",
        "  df_covid_timeline['last_update'] = pd.to_datetime(df_covid_timeline['last_update'], format='%Y-%m-%dT%H:%M:%S')\r\n",
        "  df_covid_timeline['last_update'] = df_covid_timeline['last_update'].apply(lambda x: x.date())\r\n",
        "  if i==0:\r\n",
        "    df_covid_timeline_merged = df_covid_timeline\r\n",
        "  else:\r\n",
        "    df_covid_timeline_merged = df_covid_timeline.append(df_covid_timeline_merged, ignore_index=True)\r\n",
        "  i=i+1\r\n",
        "\r\n",
        "df_covid_timeline_merged"
      ],
      "execution_count": 42,
      "outputs": [
        {
          "output_type": "stream",
          "text": [
            "/usr/local/lib/python3.6/dist-packages/ipykernel_launcher.py:5: FutureWarning: pandas.io.json.json_normalize is deprecated, use pandas.json_normalize instead\n",
            "  \"\"\"\n"
          ],
          "name": "stderr"
        },
        {
          "output_type": "execute_result",
          "data": {
            "text/html": [
              "<div>\n",
              "<style scoped>\n",
              "    .dataframe tbody tr th:only-of-type {\n",
              "        vertical-align: middle;\n",
              "    }\n",
              "\n",
              "    .dataframe tbody tr th {\n",
              "        vertical-align: top;\n",
              "    }\n",
              "\n",
              "    .dataframe thead th {\n",
              "        text-align: right;\n",
              "    }\n",
              "</style>\n",
              "<table border=\"1\" class=\"dataframe\">\n",
              "  <thead>\n",
              "    <tr style=\"text-align: right;\">\n",
              "      <th></th>\n",
              "      <th>country</th>\n",
              "      <th>last_update</th>\n",
              "      <th>cases</th>\n",
              "      <th>deaths</th>\n",
              "      <th>recovered</th>\n",
              "    </tr>\n",
              "  </thead>\n",
              "  <tbody>\n",
              "    <tr>\n",
              "      <th>0</th>\n",
              "      <td>VN</td>\n",
              "      <td>2021-02-19</td>\n",
              "      <td>2347</td>\n",
              "      <td>35</td>\n",
              "      <td>1605</td>\n",
              "    </tr>\n",
              "    <tr>\n",
              "      <th>1</th>\n",
              "      <td>VN</td>\n",
              "      <td>2021-02-18</td>\n",
              "      <td>2347</td>\n",
              "      <td>35</td>\n",
              "      <td>1605</td>\n",
              "    </tr>\n",
              "    <tr>\n",
              "      <th>2</th>\n",
              "      <td>VN</td>\n",
              "      <td>2021-02-17</td>\n",
              "      <td>2329</td>\n",
              "      <td>35</td>\n",
              "      <td>1574</td>\n",
              "    </tr>\n",
              "    <tr>\n",
              "      <th>3</th>\n",
              "      <td>VN</td>\n",
              "      <td>2021-02-16</td>\n",
              "      <td>2311</td>\n",
              "      <td>35</td>\n",
              "      <td>1573</td>\n",
              "    </tr>\n",
              "    <tr>\n",
              "      <th>4</th>\n",
              "      <td>VN</td>\n",
              "      <td>2021-02-15</td>\n",
              "      <td>2269</td>\n",
              "      <td>35</td>\n",
              "      <td>1541</td>\n",
              "    </tr>\n",
              "    <tr>\n",
              "      <th>...</th>\n",
              "      <td>...</td>\n",
              "      <td>...</td>\n",
              "      <td>...</td>\n",
              "      <td>...</td>\n",
              "      <td>...</td>\n",
              "    </tr>\n",
              "    <tr>\n",
              "      <th>1848</th>\n",
              "      <td>ID</td>\n",
              "      <td>2020-03-10</td>\n",
              "      <td>27</td>\n",
              "      <td>0</td>\n",
              "      <td>2</td>\n",
              "    </tr>\n",
              "    <tr>\n",
              "      <th>1849</th>\n",
              "      <td>ID</td>\n",
              "      <td>2020-03-09</td>\n",
              "      <td>19</td>\n",
              "      <td>0</td>\n",
              "      <td>0</td>\n",
              "    </tr>\n",
              "    <tr>\n",
              "      <th>1850</th>\n",
              "      <td>ID</td>\n",
              "      <td>2020-03-08</td>\n",
              "      <td>6</td>\n",
              "      <td>0</td>\n",
              "      <td>0</td>\n",
              "    </tr>\n",
              "    <tr>\n",
              "      <th>1851</th>\n",
              "      <td>ID</td>\n",
              "      <td>2020-03-06</td>\n",
              "      <td>4</td>\n",
              "      <td>0</td>\n",
              "      <td>0</td>\n",
              "    </tr>\n",
              "    <tr>\n",
              "      <th>1852</th>\n",
              "      <td>ID</td>\n",
              "      <td>2020-03-02</td>\n",
              "      <td>2</td>\n",
              "      <td>0</td>\n",
              "      <td>0</td>\n",
              "    </tr>\n",
              "  </tbody>\n",
              "</table>\n",
              "<p>1853 rows × 5 columns</p>\n",
              "</div>"
            ],
            "text/plain": [
              "     country last_update  cases  deaths  recovered\n",
              "0         VN  2021-02-19   2347      35       1605\n",
              "1         VN  2021-02-18   2347      35       1605\n",
              "2         VN  2021-02-17   2329      35       1574\n",
              "3         VN  2021-02-16   2311      35       1573\n",
              "4         VN  2021-02-15   2269      35       1541\n",
              "...      ...         ...    ...     ...        ...\n",
              "1848      ID  2020-03-10     27       0          2\n",
              "1849      ID  2020-03-09     19       0          0\n",
              "1850      ID  2020-03-08      6       0          0\n",
              "1851      ID  2020-03-06      4       0          0\n",
              "1852      ID  2020-03-02      2       0          0\n",
              "\n",
              "[1853 rows x 5 columns]"
            ]
          },
          "metadata": {
            "tags": []
          },
          "execution_count": 42
        }
      ]
    },
    {
      "cell_type": "code",
      "metadata": {
        "colab": {
          "base_uri": "https://localhost:8080/"
        },
        "id": "Z9UQKObk18zL",
        "outputId": "d2f2fdf6-82d6-4292-face-6a64ce5bc6c9"
      },
      "source": [
        "df_covid_timeline_merged.info()"
      ],
      "execution_count": 43,
      "outputs": [
        {
          "output_type": "stream",
          "text": [
            "<class 'pandas.core.frame.DataFrame'>\n",
            "RangeIndex: 1853 entries, 0 to 1852\n",
            "Data columns (total 5 columns):\n",
            " #   Column       Non-Null Count  Dtype \n",
            "---  ------       --------------  ----- \n",
            " 0   country      1853 non-null   object\n",
            " 1   last_update  1853 non-null   object\n",
            " 2   cases        1853 non-null   int64 \n",
            " 3   deaths       1853 non-null   int64 \n",
            " 4   recovered    1853 non-null   int64 \n",
            "dtypes: int64(3), object(2)\n",
            "memory usage: 72.5+ KB\n"
          ],
          "name": "stdout"
        }
      ]
    },
    {
      "cell_type": "markdown",
      "metadata": {
        "id": "GTq_bd7n0tzD"
      },
      "source": [
        "### **Merge Data Covid19 Dengan Data Country**\r\n",
        "Lalu gabungkan **df_covid_timeline_merged** dengan **df_countries** dengan kolom country sebagai **pivot**."
      ]
    },
    {
      "cell_type": "code",
      "metadata": {
        "colab": {
          "base_uri": "https://localhost:8080/",
          "height": 419
        },
        "id": "8whoxz8_0HNU",
        "outputId": "d147fc97-66bd-4f1f-ae32-662477d5af8d"
      },
      "source": [
        "df_covid_timeline_denormalized = pd.merge(df_covid_timeline_merged, df_countries, on='country')\r\n",
        "df_covid_timeline_denormalized"
      ],
      "execution_count": 44,
      "outputs": [
        {
          "output_type": "execute_result",
          "data": {
            "text/html": [
              "<div>\n",
              "<style scoped>\n",
              "    .dataframe tbody tr th:only-of-type {\n",
              "        vertical-align: middle;\n",
              "    }\n",
              "\n",
              "    .dataframe tbody tr th {\n",
              "        vertical-align: top;\n",
              "    }\n",
              "\n",
              "    .dataframe thead th {\n",
              "        text-align: right;\n",
              "    }\n",
              "</style>\n",
              "<table border=\"1\" class=\"dataframe\">\n",
              "  <thead>\n",
              "    <tr style=\"text-align: right;\">\n",
              "      <th></th>\n",
              "      <th>country</th>\n",
              "      <th>last_update</th>\n",
              "      <th>cases</th>\n",
              "      <th>deaths</th>\n",
              "      <th>recovered</th>\n",
              "      <th>name</th>\n",
              "    </tr>\n",
              "  </thead>\n",
              "  <tbody>\n",
              "    <tr>\n",
              "      <th>0</th>\n",
              "      <td>VN</td>\n",
              "      <td>2021-02-19</td>\n",
              "      <td>2347</td>\n",
              "      <td>35</td>\n",
              "      <td>1605</td>\n",
              "      <td>Viet Nam</td>\n",
              "    </tr>\n",
              "    <tr>\n",
              "      <th>1</th>\n",
              "      <td>VN</td>\n",
              "      <td>2021-02-18</td>\n",
              "      <td>2347</td>\n",
              "      <td>35</td>\n",
              "      <td>1605</td>\n",
              "      <td>Viet Nam</td>\n",
              "    </tr>\n",
              "    <tr>\n",
              "      <th>2</th>\n",
              "      <td>VN</td>\n",
              "      <td>2021-02-17</td>\n",
              "      <td>2329</td>\n",
              "      <td>35</td>\n",
              "      <td>1574</td>\n",
              "      <td>Viet Nam</td>\n",
              "    </tr>\n",
              "    <tr>\n",
              "      <th>3</th>\n",
              "      <td>VN</td>\n",
              "      <td>2021-02-16</td>\n",
              "      <td>2311</td>\n",
              "      <td>35</td>\n",
              "      <td>1573</td>\n",
              "      <td>Viet Nam</td>\n",
              "    </tr>\n",
              "    <tr>\n",
              "      <th>4</th>\n",
              "      <td>VN</td>\n",
              "      <td>2021-02-15</td>\n",
              "      <td>2269</td>\n",
              "      <td>35</td>\n",
              "      <td>1541</td>\n",
              "      <td>Viet Nam</td>\n",
              "    </tr>\n",
              "    <tr>\n",
              "      <th>...</th>\n",
              "      <td>...</td>\n",
              "      <td>...</td>\n",
              "      <td>...</td>\n",
              "      <td>...</td>\n",
              "      <td>...</td>\n",
              "      <td>...</td>\n",
              "    </tr>\n",
              "    <tr>\n",
              "      <th>1848</th>\n",
              "      <td>ID</td>\n",
              "      <td>2020-03-10</td>\n",
              "      <td>27</td>\n",
              "      <td>0</td>\n",
              "      <td>2</td>\n",
              "      <td>Indonesia</td>\n",
              "    </tr>\n",
              "    <tr>\n",
              "      <th>1849</th>\n",
              "      <td>ID</td>\n",
              "      <td>2020-03-09</td>\n",
              "      <td>19</td>\n",
              "      <td>0</td>\n",
              "      <td>0</td>\n",
              "      <td>Indonesia</td>\n",
              "    </tr>\n",
              "    <tr>\n",
              "      <th>1850</th>\n",
              "      <td>ID</td>\n",
              "      <td>2020-03-08</td>\n",
              "      <td>6</td>\n",
              "      <td>0</td>\n",
              "      <td>0</td>\n",
              "      <td>Indonesia</td>\n",
              "    </tr>\n",
              "    <tr>\n",
              "      <th>1851</th>\n",
              "      <td>ID</td>\n",
              "      <td>2020-03-06</td>\n",
              "      <td>4</td>\n",
              "      <td>0</td>\n",
              "      <td>0</td>\n",
              "      <td>Indonesia</td>\n",
              "    </tr>\n",
              "    <tr>\n",
              "      <th>1852</th>\n",
              "      <td>ID</td>\n",
              "      <td>2020-03-02</td>\n",
              "      <td>2</td>\n",
              "      <td>0</td>\n",
              "      <td>0</td>\n",
              "      <td>Indonesia</td>\n",
              "    </tr>\n",
              "  </tbody>\n",
              "</table>\n",
              "<p>1853 rows × 6 columns</p>\n",
              "</div>"
            ],
            "text/plain": [
              "     country last_update  cases  deaths  recovered       name\n",
              "0         VN  2021-02-19   2347      35       1605   Viet Nam\n",
              "1         VN  2021-02-18   2347      35       1605   Viet Nam\n",
              "2         VN  2021-02-17   2329      35       1574   Viet Nam\n",
              "3         VN  2021-02-16   2311      35       1573   Viet Nam\n",
              "4         VN  2021-02-15   2269      35       1541   Viet Nam\n",
              "...      ...         ...    ...     ...        ...        ...\n",
              "1848      ID  2020-03-10     27       0          2  Indonesia\n",
              "1849      ID  2020-03-09     19       0          0  Indonesia\n",
              "1850      ID  2020-03-08      6       0          0  Indonesia\n",
              "1851      ID  2020-03-06      4       0          0  Indonesia\n",
              "1852      ID  2020-03-02      2       0          0  Indonesia\n",
              "\n",
              "[1853 rows x 6 columns]"
            ]
          },
          "metadata": {
            "tags": []
          },
          "execution_count": 44
        }
      ]
    },
    {
      "cell_type": "markdown",
      "metadata": {
        "id": "jVkmbmsw21mM"
      },
      "source": [
        "### **Kasus Covid-19 di ASEAN pada Bulan Maret 2020**\r\n",
        "Filter kolom last_update dari data covid19 sehingga hanya data dari tanggal 1 Maret 2020 ke atas yangdiambil. Format datetime.date menggunakan format YYYY, mm, dd."
      ]
    },
    {
      "cell_type": "code",
      "metadata": {
        "id": "qWjMR6_t2fLi"
      },
      "source": [
        "import datetime\r\n",
        "df_covid_timeline_denormalized = df_covid_timeline_denormalized[(df_covid_timeline_denormalized['last_update'] >= datetime.date(2020, 3, 1))]"
      ],
      "execution_count": 45,
      "outputs": []
    },
    {
      "cell_type": "markdown",
      "metadata": {
        "id": "SV_OWAn63V80"
      },
      "source": [
        "### **Visualisasi Kasus Covid-19 di ASEAN**\r\n",
        "Buat variable x dan y dimana x adalah tanggal (last_update) pada tiap-tiap negara dan y adalah jumlah kasus (cases) pada tiap-tiap negara. Lalu plot x dan y untuk menggambar line chart."
      ]
    },
    {
      "cell_type": "code",
      "metadata": {
        "colab": {
          "base_uri": "https://localhost:8080/",
          "height": 295
        },
        "id": "mtAybEY03Hjb",
        "outputId": "31872b24-7922-4ffb-cbc4-8767c46474d3"
      },
      "source": [
        "import matplotlib.pyplot as plt\r\n",
        "plt.clf()\r\n",
        "countries = ['ID','MY','SG','TH','VN']\r\n",
        "for country in countries:\r\n",
        "\tcountry_data = df_covid_timeline_denormalized['country']==country\r\n",
        "\tx = df_covid_timeline_denormalized[country_data]['last_update']\r\n",
        "\ty = df_covid_timeline_denormalized[country_data]['cases']\r\n",
        "\tplt.plot(x, y, label = country)\r\n",
        "\r\n",
        "plt.legend()\r\n",
        "plt.xlabel('Record Date')\r\n",
        "plt.ylabel('Total Cases')\r\n",
        "plt.title('Asean Covid19 Cases Comparison')\r\n",
        "plt.show()"
      ],
      "execution_count": 47,
      "outputs": [
        {
          "output_type": "display_data",
          "data": {
            "image/png": "[encoded data removed]",
            "text/plain": [
              "<Figure size 432x288 with 1 Axes>"
            ]
          },
          "metadata": {
            "tags": [],
            "needs_background": "light"
          }
        }
      ]
    },
    {
      "cell_type": "markdown",
      "metadata": {
        "id": "pATK1hQr32Eo"
      },
      "source": [
        "## **Penutup/Kesimpulan**\r\n",
        "Selamat kamu telah menyelesaikan Project Visualisasi: Kasus Covid-19 di Dunia dan ASEAN."
      ]
    },
    {
      "cell_type": "code",
      "metadata": {
        "id": "BOBIrXeC3k3m"
      },
      "source": [
        ""
      ],
      "execution_count": null,
      "outputs": []
    }
  ]
}