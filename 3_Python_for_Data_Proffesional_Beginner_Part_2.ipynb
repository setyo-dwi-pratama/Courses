{
  "nbformat": 4,
  "nbformat_minor": 0,
  "metadata": {
    "colab": {
      "name": "3_Python for Data Proffesional Beginner_Part 2.ipynb",
      "provenance": [],
      "collapsed_sections": [
        "ChUEPIrdSFuz",
        "0jjGmEn6TMDV",
        "We1TS_i7WQIA",
        "6fcJsYPqXkC3",
        "L8sUyrGAjFI6",
        "-cgXpjGGlDN_"
      ],
      "authorship_tag": "ABX9TyOIviVYkMVCsTR3MSxYK2Gj",
      "include_colab_link": true
    },
    "kernelspec": {
      "name": "python3",
      "display_name": "Python 3"
    },
    "accelerator": "GPU"
  },
  "cells": [
    {
      "cell_type": "markdown",
      "metadata": {
        "id": "view-in-github",
        "colab_type": "text"
      },
      "source": [
        "<a href=\"https://colab.research.google.com/github/setyo-dwi-pratama/Courses/blob/main/3_Python_for_Data_Proffesional_Beginner_Part_2.ipynb\" target=\"_parent\"><img src=\"https://colab.research.google.com/assets/colab-badge.svg\" alt=\"Open In Colab\"/></a>"
      ]
    },
    {
      "cell_type": "markdown",
      "metadata": {
        "id": "X7fYJgnURvlW"
      },
      "source": [
        "# **Python for Data Proffesional Beginner - Part 2**"
      ]
    },
    {
      "cell_type": "markdown",
      "metadata": {
        "id": "ChUEPIrdSFuz"
      },
      "source": [
        "## Collection Manipulation\r\n",
        "\r\n",
        "Apa itu Collection Manipulation?\r\n",
        "\r\n",
        "Collections manipulation adalah salah satu teknik yang penting untuk dikuasai setiap programmer. Melalui penguasaan materi collections  manipulation kita dapat mengolah berbagai tipe data collections dalam Python yang meliputi:\r\n",
        "\r\n",
        "* list\r\n",
        "* tuple\r\n",
        "* set\r\n",
        "* Dictionary\r\n",
        "\r\n"
      ]
    },
    {
      "cell_type": "markdown",
      "metadata": {
        "id": "0jjGmEn6TMDV"
      },
      "source": [
        "### Mengakses List dan Tuple\r\n",
        "\r\n",
        "INDEKS\r\n",
        "\r\n",
        "Mengakses elemen pada suatu list ataupun tuple dengan menggunakan indeks atau semacam nomor urut dari list atau tuple tersebut. Indeks pada suatu tipe data list atau tuple dimulai dari angka 0."
      ]
    },
    {
      "cell_type": "code",
      "metadata": {
        "colab": {
          "base_uri": "https://localhost:8080/"
        },
        "id": "RpXbODCwRY8p",
        "outputId": "e37cf00b-4204-4f2c-ac9b-5d821289b330"
      },
      "source": [
        "#Tuple\r\n",
        "bulan_pembelian = ('Januari','Februari','Maret','April','Mei','Juni','Juli','Agustus','September','Oktober','November','Desember')\r\n",
        "\r\n",
        "print(bulan_pembelian[0])\r\n",
        "print(bulan_pembelian[5])\r\n",
        "print(bulan_pembelian[-1])\r\n",
        "print(bulan_pembelian[-2])"
      ],
      "execution_count": 2,
      "outputs": [
        {
          "output_type": "stream",
          "text": [
            "Januari\n",
            "Juni\n",
            "Desember\n",
            "November\n"
          ],
          "name": "stdout"
        }
      ]
    },
    {
      "cell_type": "code",
      "metadata": {
        "colab": {
          "base_uri": "https://localhost:8080/"
        },
        "id": "pcvAv19sUMfO",
        "outputId": "28f49acd-4eae-4881-eebe-6983443cc0da"
      },
      "source": [
        "print(bulan_pembelian[-0])"
      ],
      "execution_count": 4,
      "outputs": [
        {
          "output_type": "stream",
          "text": [
            "Januari\n"
          ],
          "name": "stdout"
        }
      ]
    },
    {
      "cell_type": "markdown",
      "metadata": {
        "id": "JwZ6kz8hVL4X"
      },
      "source": [
        "SLICING\r\n",
        "\r\n",
        "Slicing merupakan Cara collections manipulation untuk memotong (slicing) list/ tuple dengan menggunakan rentangan nilai indeks (range of index)"
      ]
    },
    {
      "cell_type": "code",
      "metadata": {
        "colab": {
          "base_uri": "https://localhost:8080/"
        },
        "id": "wHzvp9GbUcUV",
        "outputId": "9096035c-3ba1-429e-c4fa-48f9d16fee79"
      },
      "source": [
        "#Tuple\r\n",
        "bulan_pembelian = ('Januari','Februari','Maret','April','Mei','Juni','Juli','Agustus','September','Oktober','November','Desember')\r\n",
        "\r\n",
        "pertengahan_tahun = bulan_pembelian[4:8]\r\n",
        "print(pertengahan_tahun)\r\n",
        "\r\n",
        "awal_tahun = bulan_pembelian[:5]\r\n",
        "print(awal_tahun)\r\n",
        "\r\n",
        "akhir_tahun = bulan_pembelian[8:]\r\n",
        "print(akhir_tahun)\r\n",
        "\r\n",
        "print(bulan_pembelian[-4:-1])"
      ],
      "execution_count": 5,
      "outputs": [
        {
          "output_type": "stream",
          "text": [
            "('Mei', 'Juni', 'Juli', 'Agustus')\n",
            "('Januari', 'Februari', 'Maret', 'April', 'Mei')\n",
            "('September', 'Oktober', 'November', 'Desember')\n",
            "('September', 'Oktober', 'November')\n"
          ],
          "name": "stdout"
        }
      ]
    },
    {
      "cell_type": "markdown",
      "metadata": {
        "id": "We1TS_i7WQIA"
      },
      "source": [
        "### Penggabungan List/Tuple\r\n",
        "Selain dapat melakukan pemotongan terhadap tipe data list/ tuple, kita juga dapat menggabungkan isi dari suatu list (ataupun tuple) dengan list lainnya (dengan tuple lainnya) dengan menggunakan operator penambahan (+)"
      ]
    },
    {
      "cell_type": "code",
      "metadata": {
        "colab": {
          "base_uri": "https://localhost:8080/"
        },
        "id": "-_om09jfVuMc",
        "outputId": "7ee9bfe9-86de-4894-cac2-7d852c205eb8"
      },
      "source": [
        "list_makanan = ['Gado-gado','Ayam Goreng','Rendang']\r\n",
        "print(list_makanan)\r\n",
        "list_minuman = ['Es Teh','Es Jeruk','Es Campur']\r\n",
        "print(list_minuman)\r\n",
        "list_menu = list_makanan + list_minuman\r\n",
        "print(list_menu)"
      ],
      "execution_count": 7,
      "outputs": [
        {
          "output_type": "stream",
          "text": [
            "['Gado-gado', 'Ayam Goreng', 'Rendang']\n",
            "['Es Teh', 'Es Jeruk', 'Es Campur']\n",
            "['Gado-gado', 'Ayam Goreng', 'Rendang', 'Es Teh', 'Es Jeruk', 'Es Campur']\n"
          ],
          "name": "stdout"
        }
      ]
    },
    {
      "cell_type": "markdown",
      "metadata": {
        "id": "6fcJsYPqXkC3"
      },
      "source": [
        "### List Manipulation\r\n",
        "\r\n",
        "Untuk memanipulasi tipe data list, dapat menggunakan sekumpulan fitur yang telah tersedia dalam bahasa pemrograman Python. beberapa fitur untuk melakukan manipulasi data yang terdiri :\r\n",
        "\r\n",
        "* .append() : Menambahkan data sebagai elemen terakhir list\r\n",
        "* .clear()  : Menghapus semua list\r\n",
        "* .copy()   : Mengembalikan copy dari setiap elemen dalam list\r\n",
        "* .count()  : Mengembalikan banyaknya elemen pada list\r\n",
        "* .extend() : Menggabungkan dua buah list seperti penggunaan operator + untuk list"
      ]
    },
    {
      "cell_type": "code",
      "metadata": {
        "colab": {
          "base_uri": "https://localhost:8080/"
        },
        "id": "-Z_Nn_lKWut1",
        "outputId": "85b43b63-5055-4d47-a491-b1876c460b44"
      },
      "source": [
        "# .append()\r\n",
        "list_makanan = ['Gado-gado', 'Ayam Goreng', 'Rendang']\r\n",
        "list_makanan.append('Ketoprak')\r\n",
        "print(list_makanan)"
      ],
      "execution_count": 8,
      "outputs": [
        {
          "output_type": "stream",
          "text": [
            "['Gado-gado', 'Ayam Goreng', 'Rendang', 'Ketoprak']\n"
          ],
          "name": "stdout"
        }
      ]
    },
    {
      "cell_type": "code",
      "metadata": {
        "colab": {
          "base_uri": "https://localhost:8080/"
        },
        "id": "T6KKFtNNa-yr",
        "outputId": "675b4097-6034-408a-fa8f-7dfe299b5619"
      },
      "source": [
        "# Fitur .clear()\r\n",
        "list_makanan = ['Gado-gado', 'Ayam Goreng', 'Rendang']\r\n",
        "print(list_makanan)\r\n",
        "list_makanan.clear()\r\n",
        "print(list_makanan)"
      ],
      "execution_count": 13,
      "outputs": [
        {
          "output_type": "stream",
          "text": [
            "['Gado-gado', 'Ayam Goreng', 'Rendang']\n",
            "[]\n"
          ],
          "name": "stdout"
        }
      ]
    },
    {
      "cell_type": "code",
      "metadata": {
        "colab": {
          "base_uri": "https://localhost:8080/"
        },
        "id": "PMVdSEf1bDwG",
        "outputId": "f870e747-f3b8-421f-ca98-24b573650227"
      },
      "source": [
        "# Fitur .copy()\r\n",
        "list_makanan1 = ['Gado-gado', 'Ayam Goreng', 'Rendang']\r\n",
        "list_makanan2 = list_makanan1.copy()\r\n",
        "list_makanan3 = list_makanan1\r\n",
        "print(list_makanan1)\r\n",
        "print(list_makanan2)\r\n",
        "print(list_makanan3)\r\n",
        "\r\n",
        "print(\"----------------------------------------------------\")\r\n",
        "\r\n",
        "list_makanan2.append('Opor')\r\n",
        "list_makanan3.append('Ketoprak')\r\n",
        "print(list_makanan1)\r\n",
        "print(list_makanan2)"
      ],
      "execution_count": 18,
      "outputs": [
        {
          "output_type": "stream",
          "text": [
            "['Gado-gado', 'Ayam Goreng', 'Rendang']\n",
            "['Gado-gado', 'Ayam Goreng', 'Rendang']\n",
            "['Gado-gado', 'Ayam Goreng', 'Rendang']\n",
            "----------------------------------------------------\n",
            "['Gado-gado', 'Ayam Goreng', 'Rendang', 'Ketoprak']\n",
            "['Gado-gado', 'Ayam Goreng', 'Rendang', 'Opor']\n"
          ],
          "name": "stdout"
        }
      ]
    },
    {
      "cell_type": "code",
      "metadata": {
        "colab": {
          "base_uri": "https://localhost:8080/"
        },
        "id": "yQ8iA45DbKeJ",
        "outputId": "20cf2722-40b8-40ee-fa68-14e3a1c16f0d"
      },
      "source": [
        "# Fitur .count()\r\n",
        "list_score = ['Budi', 'Sud', 'Budi', 'Budi', 'Budi', 'Sud', 'Sud']\r\n",
        "score_budi = list_score.count('Budi')\r\n",
        "score_sud = list_score.count('Sud')\r\n",
        "print(score_budi) # akan menampilkan output 4\r\n",
        "print(score_sud) # akan menampilkan output 3"
      ],
      "execution_count": 19,
      "outputs": [
        {
          "output_type": "stream",
          "text": [
            "4\n",
            "3\n"
          ],
          "name": "stdout"
        }
      ]
    },
    {
      "cell_type": "code",
      "metadata": {
        "colab": {
          "base_uri": "https://localhost:8080/"
        },
        "id": "-el7O1BcbM6Z",
        "outputId": "1dc48838-706f-4b0b-caaf-88a7e3e1d728"
      },
      "source": [
        "# Fitur .extend()\r\n",
        "list_menu = ['Gado-gado', 'Ayam Goreng', 'Rendang']\r\n",
        "list_minuman = ['Es Teh', 'Es Jeruk', 'Es Campur']\r\n",
        "list_menu.extend(list_minuman)\r\n",
        "print(list_menu)"
      ],
      "execution_count": 24,
      "outputs": [
        {
          "output_type": "stream",
          "text": [
            "['Gado-gado', 'Ayam Goreng', 'Rendang', 'Es Teh', 'Es Jeruk', 'Es Campur']\n"
          ],
          "name": "stdout"
        }
      ]
    },
    {
      "cell_type": "code",
      "metadata": {
        "colab": {
          "base_uri": "https://localhost:8080/"
        },
        "id": "d341YP-fbN27",
        "outputId": "c5ce917e-39c5-4e40-ef28-1dc755b86feb"
      },
      "source": [
        "list_menu = ['Gado-gado', 'Ayam Goreng', 'Rendang']\r\n",
        "list_minuman = ['Es Teh', 'Es Jeruk', 'Es Campur']\r\n",
        "list_minuman.extend(list_menu)\r\n",
        "print(list_minuman)"
      ],
      "execution_count": 25,
      "outputs": [
        {
          "output_type": "stream",
          "text": [
            "['Es Teh', 'Es Jeruk', 'Es Campur', 'Gado-gado', 'Ayam Goreng', 'Rendang']\n"
          ],
          "name": "stdout"
        }
      ]
    },
    {
      "cell_type": "markdown",
      "metadata": {
        "id": "ANC7wyM1dYld"
      },
      "source": [
        "Manipulasi tipe data list selanjutnya:\r\n",
        "\r\n",
        "* .index()   : Mengembalikan indeks dari elemen pertama yang ditemukan dari awal sebuah list\r\n",
        "* .insert()  : Menyisipkan elemen pada indeks yang dispesifikasikan\r\n",
        "* .pop()     : Menghilangkan elemen pada posisi tertentu\r\n",
        "* .remove()  : Menghilangkan elemen dengan nilai tertentu\r\n",
        "* .reverse() : Membalik urutan elemen dari sebuah list\r\n",
        "* .sort()    : Mengurutkan elemen pada sebuah list, secara default dengan urutan dari kecil ke besar (ascending)"
      ]
    },
    {
      "cell_type": "code",
      "metadata": {
        "colab": {
          "base_uri": "https://localhost:8080/"
        },
        "id": "3bl5BaHAczA4",
        "outputId": "8c3fae8a-0d87-4661-8521-ef6dd57d6368"
      },
      "source": [
        "# Fitur .index()\r\n",
        "list_score = ['Budi','Sud','Budi','Budi','Budi','Sud','Sud']\r\n",
        "score_pertama_sud1 = list_score.index('Sud')\r\n",
        "score_pertama_sud = list_score.index('Sud') + 1\r\n",
        "print(score_pertama_sud1)\r\n",
        "print(score_pertama_sud) # akan menampilkan output 2"
      ],
      "execution_count": 26,
      "outputs": [
        {
          "output_type": "stream",
          "text": [
            "1\n",
            "2\n"
          ],
          "name": "stdout"
        }
      ]
    },
    {
      "cell_type": "code",
      "metadata": {
        "colab": {
          "base_uri": "https://localhost:8080/"
        },
        "id": "5Xhd2MKrgfbI",
        "outputId": "922f8ceb-3353-4aa2-9c96-a7cffacf01af"
      },
      "source": [
        "# Fitur .insert()\r\n",
        "list_score = ['Budi','Sud','Budi','Budi','Sud']\r\n",
        "print(list_score)\r\n",
        "list_score.insert(5,'Ahmad')\r\n",
        "print(list_score)"
      ],
      "execution_count": 29,
      "outputs": [
        {
          "output_type": "stream",
          "text": [
            "['Budi', 'Sud', 'Budi', 'Budi', 'Sud']\n",
            "['Budi', 'Sud', 'Budi', 'Budi', 'Sud', 'Ahmad']\n"
          ],
          "name": "stdout"
        }
      ]
    },
    {
      "cell_type": "code",
      "metadata": {
        "colab": {
          "base_uri": "https://localhost:8080/"
        },
        "id": "OEkX3NxNgoIu",
        "outputId": "1fa4c642-4e29-451b-b39e-79164cacc04e"
      },
      "source": [
        "# Fitur .pop()\r\n",
        "list_menu = ['Gado-gado', 'Ayam Goreng', 'Rendang']\r\n",
        "list_menu.pop(1)\r\n",
        "print(list_menu)"
      ],
      "execution_count": 30,
      "outputs": [
        {
          "output_type": "stream",
          "text": [
            "['Gado-gado', 'Rendang']\n"
          ],
          "name": "stdout"
        }
      ]
    },
    {
      "cell_type": "code",
      "metadata": {
        "colab": {
          "base_uri": "https://localhost:8080/"
        },
        "id": "Ed6x9z-_g1aB",
        "outputId": "8878349c-b68d-4bae-faac-d9e8c722faa6"
      },
      "source": [
        "# Fitur .remove()\r\n",
        "list_menu = ['Gado-gado', 'Ayam Goreng', 'Rendang', 'Ketoprak']\r\n",
        "list_menu.remove('Rendang')\r\n",
        "print(list_menu)"
      ],
      "execution_count": 31,
      "outputs": [
        {
          "output_type": "stream",
          "text": [
            "['Gado-gado', 'Ayam Goreng', 'Ketoprak']\n"
          ],
          "name": "stdout"
        }
      ]
    },
    {
      "cell_type": "code",
      "metadata": {
        "colab": {
          "base_uri": "https://localhost:8080/"
        },
        "id": "cJx-Bg7Pg8Ms",
        "outputId": "c29a952e-aab7-4f04-d21b-8142d1c5a89c"
      },
      "source": [
        "# Fitur .reverse()\r\n",
        "list_menu = ['Gado-gado', 'Ayam Goreng', 'Rendang', 'Ketoprak']\r\n",
        "list_menu.reverse()\r\n",
        "print(list_menu)"
      ],
      "execution_count": 32,
      "outputs": [
        {
          "output_type": "stream",
          "text": [
            "['Ketoprak', 'Rendang', 'Ayam Goreng', 'Gado-gado']\n"
          ],
          "name": "stdout"
        }
      ]
    },
    {
      "cell_type": "code",
      "metadata": {
        "colab": {
          "base_uri": "https://localhost:8080/"
        },
        "id": "2UdadYyChAoL",
        "outputId": "baae6e31-7d86-4acd-f2d5-4cbc0ad7e2ff"
      },
      "source": [
        "# Fitur .sort()\r\n",
        "list_menu = ['Gado-gado', 'Ayam Goreng', 'Rendang', 'Ketoprak']\r\n",
        "list_menu.sort() # Default: Ascending\r\n",
        "print(list_menu) \r\n",
        "list_menu.sort(reverse=True)# Descending\r\n",
        "print(list_menu)"
      ],
      "execution_count": 33,
      "outputs": [
        {
          "output_type": "stream",
          "text": [
            "['Ayam Goreng', 'Gado-gado', 'Ketoprak', 'Rendang']\n",
            "['Rendang', 'Ketoprak', 'Gado-gado', 'Ayam Goreng']\n"
          ],
          "name": "stdout"
        }
      ]
    },
    {
      "cell_type": "markdown",
      "metadata": {
        "id": "L8sUyrGAjFI6"
      },
      "source": [
        "### Tuple Manipulation\r\n",
        "* .count() : Mengembalikan jumlah kemunculan suatu elemen pada tuple\r\n",
        "* .index() : Mengembalikan indeks dari elemen pertama yang ditemukan dari awal sebuah tuple"
      ]
    },
    {
      "cell_type": "code",
      "metadata": {
        "colab": {
          "base_uri": "https://localhost:8080/"
        },
        "id": "eU73iv3OhEb5",
        "outputId": "920b5939-1822-4475-dfd5-f82917c6076a"
      },
      "source": [
        "# Fitur .count()\r\n",
        "tuple_score = ('Budi', 'Sud', 'Budi', 'Budi', 'Budi', 'Sud', 'Sud')\r\n",
        "score_budi = tuple_score.count('Budi')\r\n",
        "score_sud = tuple_score.count('Sud')\r\n",
        "print(score_budi) # akan menampilkan output 4\r\n",
        "print(score_sud) # akan menampilkan output 3"
      ],
      "execution_count": 34,
      "outputs": [
        {
          "output_type": "stream",
          "text": [
            "4\n",
            "3\n"
          ],
          "name": "stdout"
        }
      ]
    },
    {
      "cell_type": "code",
      "metadata": {
        "colab": {
          "base_uri": "https://localhost:8080/"
        },
        "id": "CPr8C7G8j2FM",
        "outputId": "da449c13-9965-401c-9847-0afae62d5cf1"
      },
      "source": [
        "# Fitur .index()\r\n",
        "tuple_score = ('Budi','Sud','Budi','Budi','Budi','Sud','Sud')\r\n",
        "score_pertama_sud = tuple_score.index('Sud')+1\r\n",
        "print(score_pertama_sud) # akan menampilkan output 2"
      ],
      "execution_count": 35,
      "outputs": [
        {
          "output_type": "stream",
          "text": [
            "2\n"
          ],
          "name": "stdout"
        }
      ]
    },
    {
      "cell_type": "markdown",
      "metadata": {
        "id": "-cgXpjGGlDN_"
      },
      "source": [
        "### Set Manipulation\r\n",
        "* .add() : Menambahkan data ke dalam set. Penting untuk kita ingat bahwa pada tipe data set tidak mengizinkan adanya duplikasi elemen di dalamnya\r\n",
        "* .clear() : Menghapus seluruh elemen dalam sebuah set\r\n",
        "* .copy() : Mengembalikan copy dari setiap elemen dalam set\r\n",
        "* .update() : Menambahkan elemen dari suatu set dengan set lainnya\r\n",
        "* .pop() : Menghilangkan elemen dari sebuah set secara acak\r\n",
        "* .remove() : Menghilangkan elemen dengan nilai tertentu\r\n",
        "* .union() : Mengembalikan hasil penggabungan (union) dari dua buah set\r\n",
        "* .isdisjoint() : Mengembalikan nilai kebenaran apakah suatu set disjoint (saling lepas/tidak mengandung elemen yang sama) dengan set lainnya\r\n",
        "* .issubset() : Mengembalikan nilai kebenaran apakah sebuah set merupakan subset dari set lainnya. Sebuah set A merupakan subset dari set B jika seluruh elemen dari set A merupakan bagian dari set B\r\n",
        "* .issuperset() : Mengembalikan nilai kebenaran apakah sebuah set merupakan superset dari set lainnya. Sebuah set A merupakan superset dari set B jika seluruh elemen dari set B terkandung dalam set A\r\n",
        "* .intersection() : Mengembalikan sebuah set yang merupakan intersection dari dua set lainnya\r\n",
        "* .difference() : Mengembalikan sebuah set yang berisikan difference dari dua set lainnya. Difference dari sebuah set A berdasarkan set B adalah setiap elemen yang terdapat di set A tetapi tidak terdapat di set B\r\n",
        "* .symmetric_difference() : Mengembalikan sebuah set yang berisikan symmetric difference dari dua set lainnya. Symmetric difference dari sebuah set A dan B adalah setiap elemen dari set A yang tidak terdapat di set B digabungkan dengan (union) setiap elemen dari set B yang tidak terdapat di set A"
      ]
    },
    {
      "cell_type": "code",
      "metadata": {
        "colab": {
          "base_uri": "https://localhost:8080/"
        },
        "id": "FAaxJtBMj54L",
        "outputId": "022ae5d6-e4a6-4767-ba45-5f883263f77d"
      },
      "source": [
        "# Fitur .add()\r\n",
        "set_buah = {'Jeruk','Apel','Anggur'}\r\n",
        "set_buah.add('Melon')\r\n",
        "print(set_buah)"
      ],
      "execution_count": 36,
      "outputs": [
        {
          "output_type": "stream",
          "text": [
            "{'Apel', 'Melon', 'Jeruk', 'Anggur'}\n"
          ],
          "name": "stdout"
        }
      ]
    },
    {
      "cell_type": "code",
      "metadata": {
        "colab": {
          "base_uri": "https://localhost:8080/"
        },
        "id": "4Z1WR1wgmv_h",
        "outputId": "a3f91b51-8623-42bd-bd38-13576cc585b8"
      },
      "source": [
        "# Fitur .clear()\r\n",
        "set_buah = {'Jeruk','Apel','Anggur'}\r\n",
        "set_buah.clear()\r\n",
        "print(set_buah)"
      ],
      "execution_count": 37,
      "outputs": [
        {
          "output_type": "stream",
          "text": [
            "set()\n"
          ],
          "name": "stdout"
        }
      ]
    },
    {
      "cell_type": "code",
      "metadata": {
        "colab": {
          "base_uri": "https://localhost:8080/"
        },
        "id": "MSMCOt-pm0BO",
        "outputId": "0e90e723-10a4-434b-ea06-341cc46b62fc"
      },
      "source": [
        "# Fitur .copy()\r\n",
        "set_buah1 = {'Jeruk','Apel','Anggur'}\r\n",
        "set_buah2 = set_buah1\r\n",
        "set_buah3 = set_buah1.copy()\r\n",
        "set_buah2.add('Melon')\r\n",
        "set_buah3.add('Kiwi')\r\n",
        "print(set_buah1)\r\n",
        "print(set_buah2)"
      ],
      "execution_count": 39,
      "outputs": [
        {
          "output_type": "stream",
          "text": [
            "{'Apel', 'Melon', 'Jeruk', 'Anggur'}\n",
            "{'Apel', 'Melon', 'Jeruk', 'Anggur'}\n"
          ],
          "name": "stdout"
        }
      ]
    },
    {
      "cell_type": "code",
      "metadata": {
        "colab": {
          "base_uri": "https://localhost:8080/"
        },
        "id": "b1ZqiCP8m3Wp",
        "outputId": "a5279eb2-6950-4fe3-eae9-b1b22ca10fec"
      },
      "source": [
        "# Fitur .update()\r\n",
        "parcel1 = {'Anggur','Apel','Jeruk'}\r\n",
        "parcel2 = {'Apel','Kiwi','Melon'}\r\n",
        "parcel1.update(parcel2)\r\n",
        "print(parcel1)"
      ],
      "execution_count": 40,
      "outputs": [
        {
          "output_type": "stream",
          "text": [
            "{'Jeruk', 'Anggur', 'Kiwi', 'Apel', 'Melon'}\n"
          ],
          "name": "stdout"
        }
      ]
    },
    {
      "cell_type": "code",
      "metadata": {
        "colab": {
          "base_uri": "https://localhost:8080/"
        },
        "id": "B4vTMMOknPQD",
        "outputId": "1919052f-a95f-4698-b81c-81f08201fb7e"
      },
      "source": [
        "# Fitur .pop()\r\n",
        "parcel = {'Anggur','Apel','Jeruk'}\r\n",
        "buah = parcel.pop()\r\n",
        "print(buah)\r\n",
        "print(parcel)"
      ],
      "execution_count": 42,
      "outputs": [
        {
          "output_type": "stream",
          "text": [
            "Apel\n",
            "{'Jeruk', 'Anggur'}\n"
          ],
          "name": "stdout"
        }
      ]
    },
    {
      "cell_type": "code",
      "metadata": {
        "colab": {
          "base_uri": "https://localhost:8080/"
        },
        "id": "MtdmrCo4nbcE",
        "outputId": "31553071-da4b-4255-e474-501fc36cfd8a"
      },
      "source": [
        "# Fitur .remove()\r\n",
        "parcel = {'Anggur','Apel','Jeruk'}\r\n",
        "parcel.remove('Apel')\r\n",
        "print(parcel)"
      ],
      "execution_count": 44,
      "outputs": [
        {
          "output_type": "stream",
          "text": [
            "{'Jeruk', 'Anggur'}\n"
          ],
          "name": "stdout"
        }
      ]
    },
    {
      "cell_type": "code",
      "metadata": {
        "colab": {
          "base_uri": "https://localhost:8080/"
        },
        "id": "VVp4U4M2nk-B",
        "outputId": "28eb2acb-e5a6-470f-c6ad-7aa01168fad1"
      },
      "source": [
        "# Fitur .union()\r\n",
        "parcel1 = {'Anggur','Apel','Jeruk'}\r\n",
        "parcel2 = {'Apel','Kiwi','Melon'}\r\n",
        "parcel3 = parcel1.union(parcel2)\r\n",
        "print(parcel1)\r\n",
        "print(parcel3)"
      ],
      "execution_count": 45,
      "outputs": [
        {
          "output_type": "stream",
          "text": [
            "{'Apel', 'Jeruk', 'Anggur'}\n",
            "{'Jeruk', 'Anggur', 'Kiwi', 'Apel', 'Melon'}\n"
          ],
          "name": "stdout"
        }
      ]
    },
    {
      "cell_type": "code",
      "metadata": {
        "colab": {
          "base_uri": "https://localhost:8080/"
        },
        "id": "H-I5-47iqrK_",
        "outputId": "6718e600-1360-4e1d-a8ea-0a80a104dd28"
      },
      "source": [
        "# Fitur .isdisjoint()\r\n",
        "parcel1 = {'Anggur','Apel','Jeruk'}\r\n",
        "parcel2 = {'Kiwi','Melon','Pisang'}\r\n",
        "parcel3 = {'Apel','Srikaya','Semangka'}\r\n",
        "parcel1_parcel2_disjoint = parcel1.isdisjoint(parcel2)\r\n",
        "print(parcel1_parcel2_disjoint)\r\n",
        "parcel1_parcel3_disjoint = parcel1.isdisjoint(parcel3)\r\n",
        "print(parcel1_parcel3_disjoint)"
      ],
      "execution_count": 46,
      "outputs": [
        {
          "output_type": "stream",
          "text": [
            "True\n",
            "False\n"
          ],
          "name": "stdout"
        }
      ]
    },
    {
      "cell_type": "code",
      "metadata": {
        "colab": {
          "base_uri": "https://localhost:8080/"
        },
        "id": "x_RcxzHxq4UD",
        "outputId": "20549ca8-f5f3-4ddb-df43-cd2e7f126e8f"
      },
      "source": [
        "# Fitur .issubset()\r\n",
        "parcel_A = {'Anggur', 'Apel'}\r\n",
        "parcel_B = {'Durian','Semangka','Apel'}\r\n",
        "parcel_C = {'Anggur', 'Kiwi', 'Apel', 'Jeruk', 'Melon'}\r\n",
        "parcel_A_dalam_C = parcel_A.issubset(parcel_C)\r\n",
        "parcel_B_dalam_C = parcel_B.issubset(parcel_C)\r\n",
        "print(parcel_A_dalam_C)\r\n",
        "print(parcel_B_dalam_C)"
      ],
      "execution_count": 47,
      "outputs": [
        {
          "output_type": "stream",
          "text": [
            "True\n",
            "False\n"
          ],
          "name": "stdout"
        }
      ]
    },
    {
      "cell_type": "code",
      "metadata": {
        "colab": {
          "base_uri": "https://localhost:8080/"
        },
        "id": "8AzRCItnrDpa",
        "outputId": "127185ec-c4c1-4cf6-db28-4964e96b1cb3"
      },
      "source": [
        "# Fitur .issuperset()\r\n",
        "parcel_C_mengandung_A = parcel_C.issuperset(parcel_A)\r\n",
        "parcel_C_mengandung_B = parcel_C.issuperset(parcel_B)\r\n",
        "print(parcel_C_mengandung_A)\r\n",
        "print(parcel_C_mengandung_B)"
      ],
      "execution_count": 49,
      "outputs": [
        {
          "output_type": "stream",
          "text": [
            "True\n",
            "False\n"
          ],
          "name": "stdout"
        }
      ]
    },
    {
      "cell_type": "code",
      "metadata": {
        "colab": {
          "base_uri": "https://localhost:8080/"
        },
        "id": "ZuZed1korIAc",
        "outputId": "586d0d85-a1b9-4292-b820-f108ed316589"
      },
      "source": [
        "# Fitur .intersection()\r\n",
        "parcel_A = {'Anggur', 'Kiwi', 'Apel', 'Jeruk', 'Melon'}\r\n",
        "parcel_B = {'Apel', 'Jeruk', 'Semangka', 'Durian', 'Tomat'}\r\n",
        "parcel_C = parcel_A.intersection(parcel_B)\r\n",
        "print(parcel_C)"
      ],
      "execution_count": 51,
      "outputs": [
        {
          "output_type": "stream",
          "text": [
            "{'Apel', 'Jeruk'}\n"
          ],
          "name": "stdout"
        }
      ]
    },
    {
      "cell_type": "code",
      "metadata": {
        "colab": {
          "base_uri": "https://localhost:8080/"
        },
        "id": "Niy7DsqzrMFE",
        "outputId": "bfe88296-18f0-4131-92da-dab5ac69226a"
      },
      "source": [
        "# Fitur .difference()\r\n",
        "parcel_C = parcel_A.difference(parcel_B)\r\n",
        "print(parcel_C)"
      ],
      "execution_count": 52,
      "outputs": [
        {
          "output_type": "stream",
          "text": [
            "{'Kiwi', 'Melon', 'Anggur'}\n"
          ],
          "name": "stdout"
        }
      ]
    },
    {
      "cell_type": "code",
      "metadata": {
        "colab": {
          "base_uri": "https://localhost:8080/"
        },
        "id": "irXkSnzrrTp_",
        "outputId": "9082030c-c69a-4b3e-a0ef-98e8d04d919d"
      },
      "source": [
        "# Fitur .symmetric_difference()\r\n",
        "parcel_A = {'Anggur', 'Apel', 'Jeruk', 'Melon'}\r\n",
        "parcel_B = {'Apel','Jeruk','Semangka','Leci'}\r\n",
        "parcel_C = parcel_A.symmetric_difference(parcel_B)\r\n",
        "print(parcel_C)"
      ],
      "execution_count": 53,
      "outputs": [
        {
          "output_type": "stream",
          "text": [
            "{'Anggur', 'Leci', 'Semangka', 'Melon'}\n"
          ],
          "name": "stdout"
        }
      ]
    },
    {
      "cell_type": "markdown",
      "metadata": {
        "id": "AbKbaEIYsE7J"
      },
      "source": [
        "### Dictonary Manipulation\r\n",
        "* .clear() : Menghapus seluruh elemen dalam sebuah dictionary\r\n",
        "* .copy() : Mengembalikan copy dari setiap elemen dalam set. Serupa dengan fitur copy() pada tipe data collections lainnya, fitur copy() tidak akan mengubah nilai dari elemen asal seperti fungsi assignment\r\n",
        "* .keys() : Mengembalikan list dari seluruh kunci akses (\"key\") dari setiap elemen dalam sebuah dictionary\r\n",
        "* .values() : Mengembalikan list dari seluruh nilai (\"value\") dari setiap elemen dalam sebuah dictionary\r\n",
        "* .update() : Menambahkan kunci akses (\"key\") dan nilai baru (\"value\") ke dalam sebuah dictionary"
      ]
    },
    {
      "cell_type": "code",
      "metadata": {
        "colab": {
          "base_uri": "https://localhost:8080/"
        },
        "id": "ROKAy1uQrdE2",
        "outputId": "c190b878-a905-4c70-8215-7d67dc692b24"
      },
      "source": [
        "# Fitur .clear()\r\n",
        "info_karyawan = {'nama' : 'Aksara',\r\n",
        "                 'nik' : '1211011',\r\n",
        "                 'pekerjaan' : 'Data Analyst'}\r\n",
        "info_karyawan.clear()\r\n",
        "print(info_karyawan)"
      ],
      "execution_count": 54,
      "outputs": [
        {
          "output_type": "stream",
          "text": [
            "{}\n"
          ],
          "name": "stdout"
        }
      ]
    },
    {
      "cell_type": "code",
      "metadata": {
        "colab": {
          "base_uri": "https://localhost:8080/"
        },
        "id": "Y7e767RzvOOU",
        "outputId": "08d97a41-b0d4-4f05-babb-05d905968a68"
      },
      "source": [
        "# Fitur .copy()\r\n",
        "info_karyawan1 = {'nama' : 'Aksara',\r\n",
        "                  'nik' : '1211011',\r\n",
        "                  'pekerjaan' : 'Data Analyst'}\r\n",
        "info_karyawan2 = info_karyawan1.copy()\r\n",
        "info_karyawan2['nama'] = 'Senja'\r\n",
        "info_karyawan2['nik'] = '1211056'\r\n",
        "print(info_karyawan1)\r\n",
        "print(info_karyawan2)"
      ],
      "execution_count": 55,
      "outputs": [
        {
          "output_type": "stream",
          "text": [
            "{'nama': 'Aksara', 'nik': '1211011', 'pekerjaan': 'Data Analyst'}\n",
            "{'nama': 'Senja', 'nik': '1211056', 'pekerjaan': 'Data Analyst'}\n"
          ],
          "name": "stdout"
        }
      ]
    },
    {
      "cell_type": "code",
      "metadata": {
        "colab": {
          "base_uri": "https://localhost:8080/"
        },
        "id": "ztEMObNZvS2Q",
        "outputId": "3e9a4baf-f616-428e-915c-65b47bd9b1db"
      },
      "source": [
        "# Fitur .keys()\r\n",
        "info_karyawan = {'nama' : 'Aksara',\r\n",
        "                 'nik' : '1211011',\r\n",
        "                 'pekerjaan' : 'Data Analyst'}\r\n",
        "kunci_akses = list(info_karyawan.keys())\r\n",
        "print(kunci_akses)"
      ],
      "execution_count": 56,
      "outputs": [
        {
          "output_type": "stream",
          "text": [
            "['nama', 'nik', 'pekerjaan']\n"
          ],
          "name": "stdout"
        }
      ]
    },
    {
      "cell_type": "code",
      "metadata": {
        "colab": {
          "base_uri": "https://localhost:8080/"
        },
        "id": "x7FJR_aVvWax",
        "outputId": "3c3f1a2e-5ce4-4886-f70d-537b459f6553"
      },
      "source": [
        "# Fitur .values()\r\n",
        "value_dict = list(info_karyawan.values())\r\n",
        "print(value_dict)"
      ],
      "execution_count": 57,
      "outputs": [
        {
          "output_type": "stream",
          "text": [
            "['Aksara', '1211011', 'Data Analyst']\n"
          ],
          "name": "stdout"
        }
      ]
    },
    {
      "cell_type": "code",
      "metadata": {
        "colab": {
          "base_uri": "https://localhost:8080/"
        },
        "id": "aIMoORjSvZnV",
        "outputId": "1ab189aa-fd11-4112-be22-c37979bace10"
      },
      "source": [
        "# Fitur .update()\r\n",
        "info_karyawan.update({'skillset':['Python', 'R']})\r\n",
        "print(info_karyawan)"
      ],
      "execution_count": 71,
      "outputs": [
        {
          "output_type": "stream",
          "text": [
            "{'nama': 'Aksara', 'nik': '1211011', 'pekerjaan': 'Data Analyst', 'skillset': ['Python', 'R']}\n"
          ],
          "name": "stdout"
        }
      ]
    },
    {
      "cell_type": "code",
      "metadata": {
        "id": "9itm6XMo1het"
      },
      "source": [
        ""
      ],
      "execution_count": null,
      "outputs": []
    },
    {
      "cell_type": "markdown",
      "metadata": {
        "id": "H6OXVy9F6hBa"
      },
      "source": [
        "## String Manipulation "
      ]
    },
    {
      "cell_type": "markdown",
      "metadata": {
        "id": "-VksaSUJ7TKe"
      },
      "source": [
        "Apa itu String Manipulation?\r\n",
        "\r\n",
        "String manipulation adalah teknik yang digunakan dalam memanipulasi data yang disimpan dalam tipe data str. Pada bahasa Python, untuk mempermudah proses pengolahan data, tipe data string dapat diperlakukan layaknya seperti tipe data list"
      ]
    },
    {
      "cell_type": "code",
      "metadata": {
        "colab": {
          "base_uri": "https://localhost:8080/"
        },
        "id": "ZO2qskJM6tic",
        "outputId": "c0271aff-c42e-4fe5-fd39-d484fba72f42"
      },
      "source": [
        "nama_produk = \"Sepatu Niko\"\r\n",
        "nama_produk = nama_produk[:2] + \"P\" + nama_produk[3:9] + \"K\" + nama_produk[-1]\r\n",
        "print(nama_produk)\r\n",
        "print(nama_produk[:7])\r\n",
        "print(nama_produk[7:])\r\n",
        "print(len(nama_produk))"
      ],
      "execution_count": 72,
      "outputs": [
        {
          "output_type": "stream",
          "text": [
            "SePatu NiKo\n",
            "SePatu \n",
            "NiKo\n",
            "11\n"
          ],
          "name": "stdout"
        }
      ]
    },
    {
      "cell_type": "markdown",
      "metadata": {
        "id": "awiLWsJ88MG_"
      },
      "source": [
        "### Operator Gabungan (+)"
      ]
    },
    {
      "cell_type": "code",
      "metadata": {
        "colab": {
          "base_uri": "https://localhost:8080/"
        },
        "id": "fGTmNl0m8AqU",
        "outputId": "6f78e9b1-cf56-48b2-b4da-e1fcd641c0eb"
      },
      "source": [
        "nama_depan = 'john'\r\n",
        "nama_belakang = 'Doee'\r\n",
        "nama_lengkap = nama_depan + ' ' + nama_belakang\r\n",
        "print(nama_lengkap)\r\n",
        "\r\n",
        "umur = '27 tahun'\r\n",
        "alamat = 'Jl. Anggrek No. 100'\r\n",
        "nama_umur_alamat = 'Hi, saya ' + nama_lengkap + 'umur' + umur + ', tinggal di ' + alamat + '.'\r\n",
        "print(nama_umur_alamat)"
      ],
      "execution_count": 74,
      "outputs": [
        {
          "output_type": "stream",
          "text": [
            "john Doee\n",
            "Hi, saya john Doeeumur27 tahun, tinggal di Jl. Anggrek No. 100.\n"
          ],
          "name": "stdout"
        }
      ]
    },
    {
      "cell_type": "markdown",
      "metadata": {
        "id": "rFKmtSSe9Ma4"
      },
      "source": [
        "### Menghilangkan Spasi di Awal dan/atau di Akhir\r\n",
        "* .strip() : Menghilangkan kelebihan spasi pada awal dan akhir string \r\n",
        "* lstrip() : Menghilangkan kelebihan spasi pada awal string\r\n",
        "* rstrip() : Menghilangkan kelebihan spasi pada akhir string"
      ]
    },
    {
      "cell_type": "code",
      "metadata": {
        "colab": {
          "base_uri": "https://localhost:8080/"
        },
        "id": "aRBAoauj8_tP",
        "outputId": "7b8ca7dc-76bb-4177-c6ed-d477970e8575"
      },
      "source": [
        "# Fitur .strip()\r\n",
        "kata_sambutan = ' halo, selamat siang!   '\r\n",
        "kata_sambutan = kata_sambutan.strip()\r\n",
        "print(kata_sambutan)"
      ],
      "execution_count": 75,
      "outputs": [
        {
          "output_type": "stream",
          "text": [
            "halo, selamat siang!\n"
          ],
          "name": "stdout"
        }
      ]
    },
    {
      "cell_type": "code",
      "metadata": {
        "colab": {
          "base_uri": "https://localhost:8080/"
        },
        "id": "8GJlIehx95v_",
        "outputId": "348f6bb1-a4d6-4a15-f3c4-c7c5bba70a06"
      },
      "source": [
        "# Fitur .lstrip()\r\n",
        "kata_sambutan = ' halo, selamat siang!   '\r\n",
        "kata_sambutan = kata_sambutan.lstrip()\r\n",
        "print(kata_sambutan)"
      ],
      "execution_count": 76,
      "outputs": [
        {
          "output_type": "stream",
          "text": [
            "halo, selamat siang!   \n"
          ],
          "name": "stdout"
        }
      ]
    },
    {
      "cell_type": "code",
      "metadata": {
        "colab": {
          "base_uri": "https://localhost:8080/"
        },
        "id": "3bna3sga9841",
        "outputId": "2fa3437f-b75b-45cd-a77e-d42e0e84649c"
      },
      "source": [
        "# Fitur .rstrip()\r\n",
        "kata_sambutan = ' halo, selamat siang!   '\r\n",
        "kata_sambutan = kata_sambutan.rstrip()\r\n",
        "print(kata_sambutan)"
      ],
      "execution_count": 77,
      "outputs": [
        {
          "output_type": "stream",
          "text": [
            " halo, selamat siang!\n"
          ],
          "name": "stdout"
        }
      ]
    },
    {
      "cell_type": "markdown",
      "metadata": {
        "id": "cbadVwS9-OuD"
      },
      "source": [
        "### Merubah Caps pada String\r\n",
        "Cara merubah caps (penggunaan huruf besar dan kecil). Jika diawal kalimat pada suatu string yang dimiliki belum berupa huruf kapital maka dengan menggunakan fitur .capitalize() kita dengan mudah merubah string tersebut menjadi kalimat yang benar secara bahasa\r\n",
        "\r\n",
        "* .capitalize() : Mengubah elemen pertama dari string menjadi huruf kapital\r\n",
        "* .lower() : Mengubah seluruh huruf dalam teks (string) menjadi huruf kecil\r\n",
        "* .upper() : Mengubah seluruh huruf dalam teks (string) menjadi huruf besar"
      ]
    },
    {
      "cell_type": "code",
      "metadata": {
        "colab": {
          "base_uri": "https://localhost:8080/"
        },
        "id": "9TZpx7hz9-lA",
        "outputId": "5a5b51ad-fae7-491b-cf10-e5410c3553fc"
      },
      "source": [
        "# Fitur .capitalize()\r\n",
        "print(\">>> Fitur .capitalize()\")\r\n",
        "judul_buku = 'belajar bahasa Python'\r\n",
        "print(judul_buku.capitalize())"
      ],
      "execution_count": 78,
      "outputs": [
        {
          "output_type": "stream",
          "text": [
            ">>> Fitur .capitalize()\n",
            "Belajar bahasa python\n"
          ],
          "name": "stdout"
        }
      ]
    },
    {
      "cell_type": "code",
      "metadata": {
        "colab": {
          "base_uri": "https://localhost:8080/"
        },
        "id": "gzJZB5jd-7FP",
        "outputId": "210c567d-a171-4de1-8e42-19ba17244bec"
      },
      "source": [
        "# Fitur .lower()\r\n",
        "print(\">>> Fitur .lower()\")\r\n",
        "judul_buku = 'Belajar Bahasa PYTHON.'\r\n",
        "print(judul_buku.lower())"
      ],
      "execution_count": 79,
      "outputs": [
        {
          "output_type": "stream",
          "text": [
            ">>> Fitur .lower()\n",
            "belajar bahasa python.\n"
          ],
          "name": "stdout"
        }
      ]
    },
    {
      "cell_type": "code",
      "metadata": {
        "colab": {
          "base_uri": "https://localhost:8080/"
        },
        "id": "jIZJgTVM-9KO",
        "outputId": "786cbadf-f959-4b7f-868f-ce29b2fab2ef"
      },
      "source": [
        "# Fitur .upper()\r\n",
        "print(\">>> Fitur .upper()\")\r\n",
        "judul_buku = 'Belajar Bahasa PYTHON.'\r\n",
        "print(judul_buku.upper())"
      ],
      "execution_count": 80,
      "outputs": [
        {
          "output_type": "stream",
          "text": [
            ">>> Fitur .upper()\n",
            "BELAJAR BAHASA PYTHON.\n"
          ],
          "name": "stdout"
        }
      ]
    },
    {
      "cell_type": "markdown",
      "metadata": {
        "id": "zxVua1h__M8E"
      },
      "source": [
        "### Pemecahan, Penggabungan, dan Penggantian String\r\n",
        "Cara memecah suatu string dengan kondisi tertentu sehingga menghasilkan list of string. Kemudian, akan dipelajari bagaimana cara menggabungkan beberapa list of string menjadi string saja dan mengganti sub-string tertentu dengan sub-string lainnya sehingga merubah string awalnya\r\n",
        "\r\n",
        "* .split() : Memecah sebuah string berdasarkan string lainnya ke dalam sebuah list\r\n",
        "* .join() : Menggabungkan sebuah list yang berisikan string berdasarkan sebuah string yang telah didefinisikan\r\n",
        "* .replace() : Menggantikan kemunculan suatu string tertentu dengan string lainnya dalam sebuah string"
      ]
    },
    {
      "cell_type": "code",
      "metadata": {
        "colab": {
          "base_uri": "https://localhost:8080/"
        },
        "id": "bA2C0AIM--_y",
        "outputId": "c6cf4260-2d5f-4402-8983-39425c71a640"
      },
      "source": [
        "# Fitur .split()\r\n",
        "print(\">>> Fitur .split()\")\r\n",
        "bilangan = \"ani dan budi dan wati dan johan\"\r\n",
        "karakter = bilangan.split(\"dan\")\r\n",
        "print(karakter)\r\n",
        "kata = bilangan.split(\" \")\r\n",
        "print(kata)"
      ],
      "execution_count": 81,
      "outputs": [
        {
          "output_type": "stream",
          "text": [
            ">>> Fitur .split()\n",
            "['ani ', ' budi ', ' wati ', ' johan']\n",
            "['ani', 'dan', 'budi', 'dan', 'wati', 'dan', 'johan']\n"
          ],
          "name": "stdout"
        }
      ]
    },
    {
      "cell_type": "code",
      "metadata": {
        "colab": {
          "base_uri": "https://localhost:8080/"
        },
        "id": "L_HVN_SQARsc",
        "outputId": "6f5d41f0-c427-4c21-951c-74ebb4b195e2"
      },
      "source": [
        "# Fitur .join()\r\n",
        "print(\">>> Fitur .join()\")\r\n",
        "pemisah = \" dan \"\r\n",
        "karakter = [\"Ricky\", \"Peter\", \"Jordan\"]\r\n",
        "kalimat = pemisah.join(karakter)\r\n",
        "print(kalimat)"
      ],
      "execution_count": 82,
      "outputs": [
        {
          "output_type": "stream",
          "text": [
            ">>> Fitur .join()\n",
            "Ricky dan Peter dan Jordan\n"
          ],
          "name": "stdout"
        }
      ]
    },
    {
      "cell_type": "code",
      "metadata": {
        "colab": {
          "base_uri": "https://localhost:8080/"
        },
        "id": "SSX66fxNAVVJ",
        "outputId": "3ebc8cf1-4ed0-4003-90e3-fb1249f86392"
      },
      "source": [
        "# Fitur .replace()\r\n",
        "print(\">>> Fitur .replace()\")\r\n",
        "kalimat = \"apel malang apel yang paling segar, apel sehat, apel nikmat\"\r\n",
        "kalimat = kalimat.replace(\"apel\", \"jeruk\")\r\n",
        "print(kalimat)"
      ],
      "execution_count": 84,
      "outputs": [
        {
          "output_type": "stream",
          "text": [
            ">>> Fitur .replace()\n",
            "jeruk malang jeruk yang paling segar, jeruk sehat, jeruk nikmat\n"
          ],
          "name": "stdout"
        }
      ]
    },
    {
      "cell_type": "markdown",
      "metadata": {
        "id": "P9kd_mquAykK"
      },
      "source": [
        "### Menentukan Posisi dan Jumlah Sub-string pada String\r\n",
        "\r\n",
        "* .find() : Mengembalikan posisi dari sebuah teks (sub-string) lainnya dalam sebuah string\r\n",
        "* .count() : Menghitung jumlah kemunculan sebuah teks (string) lainnya dalam suatu string (string yang dicari bersifat case sensitive"
      ]
    },
    {
      "cell_type": "code",
      "metadata": {
        "colab": {
          "base_uri": "https://localhost:8080/"
        },
        "id": "AdKTPUHvAYJ7",
        "outputId": "c8572567-b329-429a-ced0-da4d2d625b68"
      },
      "source": [
        "teks = \"Apel malang adalah apel termanis dibanding apel-apel lainnya\"\r\n",
        "# Fitur .find()\r\n",
        "print(\">>> Fitur .find()\")\r\n",
        "print(teks.find(\"Apel\"))\r\n",
        "print(teks.find(\"malang\"))\r\n",
        "# Fitur .count()\r\n",
        "print(\">>> Fitur .count()\")\r\n",
        "kemunculan_kata_apel = teks.count(\"apel\")\r\n",
        "print(kemunculan_kata_apel)"
      ],
      "execution_count": 87,
      "outputs": [
        {
          "output_type": "stream",
          "text": [
            ">>> Fitur .find()\n",
            "0\n",
            "5\n",
            ">>> Fitur .count()\n",
            "3\n"
          ],
          "name": "stdout"
        }
      ]
    },
    {
      "cell_type": "markdown",
      "metadata": {
        "id": "j-B7KOzOCb6Z"
      },
      "source": [
        "### Menentukan String Apakah Diawali/Diakhiri oleh Sub-string\r\n",
        "Cara menentukan apakah suatu string diawali atau diakhiri dengan suatu substring (teks) tertentu\r\n",
        "\r\n",
        "* .startswith() : Mengembalikan nilai kebenaran True ketika sebuah teks (string) diawali dengan sebuah teks lainnya\r\n",
        "* .endswith() : Mengembalikan nilai kebenaran True ketika sebuah teks (string) diakhiri dengan sebuah teks lainnya"
      ]
    },
    {
      "cell_type": "code",
      "metadata": {
        "colab": {
          "base_uri": "https://localhost:8080/"
        },
        "id": "JBlgYoorBReo",
        "outputId": "7624c9cb-7c26-44ca-ffda-7cc68cea2687"
      },
      "source": [
        "# Fitur .startswith()\r\n",
        "print(\">>> Fitur .startswith()\")\r\n",
        "teks = \"Apel malang adalah apel termanis dibanding apel-apel lainnya\"\r\n",
        "print(teks.startswith(\"Apel\"))\r\n",
        "print(teks.startswith(\"apel\"))\r\n",
        "# Fitur .endswith()\r\n",
        "print(\">>> Fitur .endswith()\")\r\n",
        "print(teks.endswith(\"lainnya\"))\r\n",
        "print(teks.endswith(\"apel\"))"
      ],
      "execution_count": 88,
      "outputs": [
        {
          "output_type": "stream",
          "text": [
            ">>> Fitur .startswith()\n",
            "True\n",
            "False\n",
            ">>> Fitur .endswith()\n",
            "True\n",
            "False\n"
          ],
          "name": "stdout"
        }
      ]
    },
    {
      "cell_type": "code",
      "metadata": {
        "colab": {
          "base_uri": "https://localhost:8080/"
        },
        "id": "pqm9a0ljDHrf",
        "outputId": "af9f9fbe-3fc5-4308-deb9-ee3c77efbde5"
      },
      "source": [
        "judul_artikel = [\r\n",
        "\"Buah Salak Baik untuk Mata\", \"Buah Salak Kaya Potasium\",\r\n",
        "\"Buah Jeruk Kaya Vitamin C\", \"Buah Salak Kaya Manfaat\",\r\n",
        "\"Salak Baik untuk Jantung\", \"Jeruk dapat Memperkuat Tulang\",\r\n",
        "\"Jeruk Mencegah Penyakit Asma\", \"Jeruk Memperkuat Gigi\",\r\n",
        "\"Jeruk Mencegah Kolesterol Jahat\", \"Salak Mencegah Diabetes\",\r\n",
        "\"Salak Memperkuat Dinding Usus\", \"Salak Baik untuk Darah\",\r\n",
        "\"Jeruk Kaya Manfaat untuk Jantung\", \"Salak si Kecil yang Baik\",\r\n",
        "\"Jeruk dan Salak Buah Kaya Manfaat\", \"Buah Jeruk Enak\",\r\n",
        "\"Tips Panen Jeruk Ribuan Kilo\", \"Tips Bertanam Salak\",\r\n",
        "\"Salak Manis untuk Berbuka\", \"Jeruk Baik untuk Wajah\"\r\n",
        "]\r\n",
        "jumlah_artikel_jeruk = 0\r\n",
        "jumlah_artikel_salak = 0\r\n",
        "for judul in judul_artikel:\r\n",
        "  if judul.count(\"Jeruk\") > 0:\r\n",
        "    jumlah_artikel_jeruk += 1\r\n",
        "  if judul.count(\"Salak\") > 0:\r\n",
        "    jumlah_artikel_salak += 1\r\n",
        "print(jumlah_artikel_jeruk)\r\n",
        "print(jumlah_artikel_salak)"
      ],
      "execution_count": 92,
      "outputs": [
        {
          "output_type": "stream",
          "text": [
            "10\n",
            "11\n"
          ],
          "name": "stdout"
        }
      ]
    },
    {
      "cell_type": "code",
      "metadata": {
        "colab": {
          "base_uri": "https://localhost:8080/"
        },
        "id": "9WitHl3aDl1Z",
        "outputId": "1b9dc62b-f840-4654-9670-c4a33e411d5a"
      },
      "source": [
        "\r\n",
        "judul_artikel = [\r\n",
        "\"Buah Salak Baik untuk Mata\", \"Buah Salak Kaya Potasium\",\r\n",
        "\"Buah Jeruk Kaya Vitamin C\", \"Buah Salak Kaya Manfaat\",\r\n",
        "\"Salak Baik untuk Jantung\", \"Jeruk dapat Memperkuat Tulang\",\r\n",
        "\"Jeruk Mencegah Penyakit Asma\", \"Jeruk Memperkuat Gigi\",\r\n",
        "\"Jeruk Mencegah Kolesterol Jahat\", \"Salak Mencegah Diabetes\",\r\n",
        "\"Salak Memperkuat Dinding Usus\", \"Salak Baik untuk Darah\",\r\n",
        "\"Jeruk Kaya Manfaat untuk Jantung\", \"Salak si Kecil yang Baik\",\r\n",
        "\"Jeruk dan Salak Buah Kaya Manfaat\", \"Buah Jeruk Enak\",\r\n",
        "\"Tips Panen Jeruk Ribuan Kilo\", \"Tips Bertanam Salak\",\r\n",
        "\"Salak Manis untuk Berbuka\", \"Jeruk Baik untuk Wajah\"\r\n",
        "]\r\n",
        "kata_positif = [\"Kaya\", \"Baik\", \"Mencegah\", \"Memperkuat\"]\r\n",
        "kata_positif_jeruk = 0\r\n",
        "kata_positif_salak = 0\r\n",
        "for judul in judul_artikel:\r\n",
        "  for kata in kata_positif:\r\n",
        "    if judul.count(\"Jeruk\") > 0 and judul.count(kata) > 0:\r\n",
        "      kata_positif_jeruk += 1\r\n",
        "    if judul.count(\"Salak\") > 0 and judul.count(kata) > 0:\r\n",
        "      kata_positif_salak += 1\r\n",
        "print(kata_positif_jeruk)\r\n",
        "print(kata_positif_salak)"
      ],
      "execution_count": 93,
      "outputs": [
        {
          "output_type": "stream",
          "text": [
            "8\n",
            "9\n"
          ],
          "name": "stdout"
        }
      ]
    },
    {
      "cell_type": "markdown",
      "metadata": {
        "id": "dMXG7jaEPzSa"
      },
      "source": [
        "## Functions\r\n",
        "\r\n",
        "Apa itu Functions?\r\n",
        "\r\n",
        "Function adalah sebuah blok statemen yang hanya akan dijalankan saat ia dipanggil.\r\n",
        "\r\n",
        "Fungsi len() untuk mengukur jumlah elemen dalam sebuah list dan fungsi print() untuk menampilkan pesan pada layar konsol merupakan contoh dari bentuk fungsi yang telah disediakan oleh bahasa pemrograman Python atau dengan kata lain built-in functions.\r\n",
        "\r\n",
        "Selain fungsi yang telah disediakan oleh Python, Python mengizinkan untuk mendeklarasikan fungsi dalam kode yang dituliskan yang dikenal dengan user defined function.\r\n",
        "\r\n",
        "def nama_fungsi(argument):\r\n",
        "    statement_1\r\n",
        "    …\r\n",
        "    statement_n\r\n",
        "    return returned_value\r\n",
        "\r\n",
        "* nama_fungsi adalah nama untuk fungsi yang Anda definisikan, memiliki aturan seperti penamaan variabel\r\n",
        "* argument adalah variabel masukan ke fungsi, bisa tanpa variabel, satu variabel atau lebih\r\n",
        "* statement_1 … statement_n adalah algoritma yang telah Anda transfer dalam bahasa Python yang merupakan inti dari fungsi yang Anda definisikan. Seluruh statement adalah menjorok (indent) ke dalam seperti yang pernah Anda pelajari pada conditioning dan looping\r\n",
        "* return_value adalah variabel output dari fungsi Anda, bisa tanpa variabel, satu variabel atau lebih."
      ]
    },
    {
      "cell_type": "markdown",
      "metadata": {
        "id": "GABFseeyQqM7"
      },
      "source": [
        "### Fungsi Pertama"
      ]
    },
    {
      "cell_type": "code",
      "metadata": {
        "colab": {
          "base_uri": "https://localhost:8080/"
        },
        "id": "VhSRUMpLQX9r",
        "outputId": "d95f0876-6cbe-43b2-a7f9-f743717d5220"
      },
      "source": [
        "# Definisikan fungsi\r\n",
        "def contoh_fungsi():\r\n",
        "    print(\"Hallo Dunia\")\r\n",
        "    print(\"Aku sedang belajar bahasa python\")\r\n",
        "# Panggil fungsi yang telah didefinisikan\r\n",
        "contoh_fungsi()"
      ],
      "execution_count": 94,
      "outputs": [
        {
          "output_type": "stream",
          "text": [
            "Hallo Dunia\n",
            "Aku sedang belajar bahasa python\n"
          ],
          "name": "stdout"
        }
      ]
    },
    {
      "cell_type": "markdown",
      "metadata": {
        "id": "k9SXhMpPRRkh"
      },
      "source": [
        "### Fungsi Kedua\r\n",
        "\r\n",
        "Sebuah fungsi dapat menerima serangkaian argumen pada bagian dalam kurung setelah nama fungsi telah didefinisikan.\r\n",
        "\r\n",
        "fungsi_dengan_argumen membutuhkan dua argumen (nama_depan, nama_belakang).\r\n",
        "Python akan menjalankan sebuah fungsi hanya ketika telah mensuplai jumlah argumen yang sesuai saat fungsi didefinisikan."
      ]
    },
    {
      "cell_type": "code",
      "metadata": {
        "colab": {
          "base_uri": "https://localhost:8080/"
        },
        "id": "zyekh4R-RCX-",
        "outputId": "b52d8306-4304-41c0-ec85-e608dfd23722"
      },
      "source": [
        "# Definsikan fungsi \r\n",
        "def fungsi_dengan_argumen(nama_depan, nama_belakang):\r\n",
        "    print(nama_depan+\" \"+nama_belakang)\r\n",
        "# Panggil fungsi dengan memasukkan argumen\r\n",
        "# nama_depan yaitu \"John\" dan nama_belakang \"Doe\"\r\n",
        "fungsi_dengan_argumen(\"John\", \"Doe\")"
      ],
      "execution_count": 95,
      "outputs": [
        {
          "output_type": "stream",
          "text": [
            "John Doe\n"
          ],
          "name": "stdout"
        }
      ]
    },
    {
      "cell_type": "markdown",
      "metadata": {
        "id": "ZE3dzJ9CR5Aq"
      },
      "source": [
        "### Fungsi Ketiga\r\n",
        "\r\n",
        "Saat melakukan pemanggilan fungsi dengan jumlah argumen yang tidak sesuai, Python akan mengembalikan pesan error yang menyatakan bahwa terdapat argumen yang belum disuplai agar fungsi dapat dijalankan dengan baik.\r\n",
        "\r\n",
        "Contoh berikut ini adalah contoh pesan error yang akan dikembalikan oleh Python saat mensuplai satu argumen saja untuk fungsi_dengan_argumen,\r\n",
        "\r\n",
        "Type Error: function fungsi_dengan_argumen() missing 1 required positional argument: nama_belakang\r\n",
        " \r\n",
        "\r\n",
        "Bahasa Python mengizinkan untuk memberikan suatu nilai default terkait dengan sebuah argumen dalam sebuah fungsi. Melalui fitur ini, suatu argumen dalam sebuah fungsi akan bersifat opsional"
      ]
    },
    {
      "cell_type": "code",
      "metadata": {
        "colab": {
          "base_uri": "https://localhost:8080/"
        },
        "id": "x4WF7QE_RzNS",
        "outputId": "b75e0de9-e029-4bad-8080-c3803a31810c"
      },
      "source": [
        "# Definsikan fungsi dengan nilai default argument kedua adalah \"\".\r\n",
        "def fungsi_dengan_argumen(nama_depan, nama_belakang= \"\"):\r\n",
        "\tprint(nama_depan+\" \"+nama_belakang)\r\n",
        " \r\n",
        "# Panggil fungsi dengan memasukkan argumen nama_depan \"John\"\r\n",
        "fungsi_dengan_argumen(\"John\")\r\n",
        "\r\n",
        "# Panggil fungsi dengan memasukkan argumen\r\n",
        "# nama_depan yaitu \"John\" dan nama_belakang \"Doe\"\r\n",
        "fungsi_dengan_argumen(\"John\", \"Doe\")"
      ],
      "execution_count": 97,
      "outputs": [
        {
          "output_type": "stream",
          "text": [
            "John \n",
            "John Doe\n"
          ],
          "name": "stdout"
        }
      ]
    },
    {
      "cell_type": "markdown",
      "metadata": {
        "id": "P5pL2vcpWo7q"
      },
      "source": [
        "### EX Fungsi"
      ]
    },
    {
      "cell_type": "code",
      "metadata": {
        "colab": {
          "base_uri": "https://localhost:8080/"
        },
        "id": "i1eS_7JBSqt2",
        "outputId": "b08b93c8-2c27-4b95-d2df-971ebac72d4a"
      },
      "source": [
        "# Dua buah data yang tersimpan dalam tipe list\r\n",
        "data1 = [70, 70, 70, 100, 100, 100, 120, 120, 150, 150]\r\n",
        "data2 = [50, 60, 60, 50, 70, 70, 100, 80, 100, 90]\r\n",
        "# Definisikan fungsi hitng_rata_rata\r\n",
        "def hitung_rata_rata(data):\r\n",
        "    jumlah = 0\r\n",
        "    for item in data:\r\n",
        "        jumlah += item\r\n",
        "    rata_rata = jumlah/len(data)\r\n",
        "    return rata_rata\r\n",
        "# Hitung nilai rata-rata dari kedua data yang dimiliki\r\n",
        "print('Rata-rata data1:')\r\n",
        "print(hitung_rata_rata(data1))\r\n",
        "print('Rata-rata data2:')\r\n",
        "print(hitung_rata_rata(data2))"
      ],
      "execution_count": 100,
      "outputs": [
        {
          "output_type": "stream",
          "text": [
            "Rata-rata data1:\n",
            "105.0\n",
            "Rata-rata data2:\n",
            "73.0\n"
          ],
          "name": "stdout"
        }
      ]
    },
    {
      "cell_type": "code",
      "metadata": {
        "colab": {
          "base_uri": "https://localhost:8080/"
        },
        "id": "k9X9gBZ_U6Ft",
        "outputId": "d504c6cf-c0d9-4ab5-acfb-fb4a1d9c1e94"
      },
      "source": [
        "# Dua buah data yang tersimpan dalam tipe list\r\n",
        "data1 = [70, 70, 70, 100, 100, 100, 120, 120, 150, 150]\r\n",
        "data2 = [50, 60, 60, 50, 70, 70, 100, 80, 100, 90]\r\n",
        "# Fungsi rata-rata data\r\n",
        "def hitung_rata_rata(data):\r\n",
        "  jumlah = 0\r\n",
        "  for item in data:\r\n",
        "    jumlah += item\r\n",
        "  rata_rata = jumlah/len(data)\r\n",
        "  return rata_rata\r\n",
        "# Definisikan fungsi hitung_standar_deviasi\r\n",
        "def hitung_standar_deviasi(data):\r\n",
        "  rata_rata_data = hitung_rata_rata(data)\r\n",
        "  varians = 0\r\n",
        "  for item in data:\r\n",
        "    varians += (item - rata_rata_data) ** 2\r\n",
        "    varians /= len(data)\r\n",
        "    standar_deviasi = varians ** (1/2)\r\n",
        "  return standar_deviasi\r\n",
        "# Hitung nilai standar deviasi dari kedua data yang dimiliki\r\n",
        "print('Standar deviasi data1:')\r\n",
        "print(hitung_standar_deviasi(data1))\r\n",
        "print('Standar deviasi data2:')\r\n",
        "print(hitung_standar_deviasi(data2))"
      ],
      "execution_count": 103,
      "outputs": [
        {
          "output_type": "stream",
          "text": [
            "Standar deviasi data1:\n",
            "14.93311056335886\n",
            "Standar deviasi data2:\n",
            "6.025948374480153\n"
          ],
          "name": "stdout"
        }
      ]
    },
    {
      "cell_type": "code",
      "metadata": {
        "colab": {
          "base_uri": "https://localhost:8080/"
        },
        "id": "cHfR0jnyV3OG",
        "outputId": "a8753bb7-9f91-4978-cbec-d658e15fb98c"
      },
      "source": [
        "# Data properti\r\n",
        "tabel_properti = {\r\n",
        "'luas_tanah': [70, 70, 70, 100, 100, 100, 120, 120, 150, 150],\r\n",
        "'luas_bangunan': [50, 60, 60, 50, 70, 70, 100, 80, 100, 90],\r\n",
        "'jarak': [15, 30, 55, 30, 25, 50, 20, 50, 50, 15],\r\n",
        "'harga': [500, 400, 300, 700, 1000, 650, 2000, 1200, 1800, 3000]\r\n",
        "}\r\n",
        "# Fungsi rata-rata data\r\n",
        "def hitung_rata_rata(data):\r\n",
        "    jumlah = 0\r\n",
        "    for item in data:\r\n",
        "        jumlah += item\r\n",
        "    rata_rata = jumlah/len(data)\r\n",
        "    return rata_rata\r\n",
        "# Fungsi hitung_standar_deviasi\r\n",
        "def hitung_standar_deviasi(data):\r\n",
        "    rata_rata_data = hitung_rata_rata(data)\r\n",
        "    varians = 0\r\n",
        "    for item in data:\r\n",
        "        varians += (item - rata_rata_data) ** 2\r\n",
        "        varians /= len(data)\r\n",
        "    standar_deviasi = varians ** (1/2)\r\n",
        "    return standar_deviasi\r\n",
        "# Definisikan fungsi untuk menghitung rata-rata dan standar deviasi\r\n",
        "# setiap kolom pada tabel_properti yang diberikan oleh key dict.\r\n",
        "def deskripsi_properti(tabel):\r\n",
        "    for key in tabel.keys():\r\n",
        "        print('Rata-rata ' + key + ':')\r\n",
        "        print(hitung_rata_rata(tabel[key])) \r\n",
        "        print('Standar deviasi ' + key + ':')\r\n",
        "        print(hitung_standar_deviasi(tabel[key]))\r\n",
        "        print('')\r\n",
        "# Panggil fungsi deskripsi_properti untuk menghitung rata-rata \r\n",
        "# dan standar deviasi setiap kolom pada tabel_properti\r\n",
        "deskripsi_properti(tabel_properti)"
      ],
      "execution_count": 104,
      "outputs": [
        {
          "output_type": "stream",
          "text": [
            "Rata-rata luas_tanah:\n",
            "105.0\n",
            "Standar deviasi luas_tanah:\n",
            "14.93311056335886\n",
            "\n",
            "Rata-rata luas_bangunan:\n",
            "73.0\n",
            "Standar deviasi luas_bangunan:\n",
            "6.025948374480153\n",
            "\n",
            "Rata-rata jarak:\n",
            "34.0\n",
            "Standar deviasi jarak:\n",
            "6.24005184770928\n",
            "\n",
            "Rata-rata harga:\n",
            "1155.0\n",
            "Standar deviasi harga:\n",
            "587.0594351517378\n",
            "\n"
          ],
          "name": "stdout"
        }
      ]
    },
    {
      "cell_type": "markdown",
      "metadata": {
        "id": "EhAf3p1Oclh5"
      },
      "source": [
        "## Manipulasi Berkas Teks dan Library Matematika pada Python"
      ]
    },
    {
      "cell_type": "markdown",
      "metadata": {
        "id": "7YmJzY6scvwD"
      },
      "source": [
        "### Manipulasi Berkas Teks\r\n",
        "\r\n",
        "Pengolahan berkas teks pada Python tidak membutuhkan proses import dependencies lainnya seperti pada bahasa-bahasa pemrograman lainnya. Untuk memanipulasi berkas teks pada bahasa pemrograman Python, pertama harus membuka/ membuat berkas teks yang diinginkan dengan menggunakan fungsi open(). Fungsi open() menerima 2 parameter, di mana parameter pertama merupakan nama dari file yang ingin dibuka/dibuat dan mode yang berkaitan dengan aksi yang ingin dilakukan terhadap file yang telah terbuka. Sebagai contoh,\r\n",
        "\r\n",
        "file = open(\"hello.txt\", \"r\")\r\n",
        "argumen/ parameter \"r\" mengartikan bahwa file yang akan dibuka berada dalam mode “read” sehingga nantinya aku tidak dapat menambahkan/ menuliskan ulang isi tulisan dari file “hello.txt”.\r\n",
        "\r\n",
        "Perintah ini dapat digunakan untuk menutup file yang telah aku buka.\r\n",
        "\r\n",
        "file.close()\r\n",
        " \r\n",
        "\r\n",
        "Selain mode \"r\" yang hanya digunakan untuk membaca file, terdapat juga mode lainnya seperti:\r\n",
        "\r\n",
        "* w: write, mode ini dapat digunakan untuk menulis ke dalam sebuah berkas teks, jika berkas tidak tersedia, maka Python akan secara otomatis membuat sebuah berkas baru dengan nama yang telah di spesifikasikan. Saat menulis dengan menggunakan mode ini, jika file semula tidak kosong, maka isi yang sebelumnya terdapat di dalam berkas akan terhapus.\r\n",
        "* a: append, mode ini dapat digunakan untuk menambahkan isi dari sebuah berkas teks. Mode ini juga akan membuat sebuah berkas teks baru dengan nama yang telah kita spesifikasikan jika berkas teks tidak tersedia.\r\n",
        "* w+: write+, mode ini dapat digunakan untuk membaca ataupun menuliskan isi dari sebuah berkas teks.\r\n",
        "* a+: append+, mode ini dapat digunakan untuk  membaca ataupun menambahkan isi dari sebuah berkas teks."
      ]
    },
    {
      "cell_type": "markdown",
      "metadata": {
        "id": "U5JTzUdIel8K"
      },
      "source": [
        "### Membaca Berkas Teks – Part 1\r\n",
        "\r\n",
        "Setelah mempelajari bagaimana membuka/ membuat sebuah berkas teks dalam Python, selanjutnya akan mempelajari sintaks untuk dapat membaca isi dari sebuah berkas. Untuk membaca isi dari sebuah teks, dapat menggunakan potongan kode berikut"
      ]
    },
    {
      "cell_type": "markdown",
      "metadata": {
        "id": "xWi6lGU5e1qQ"
      },
      "source": [
        "mengasumsikan baris-baris di bawah comment merupakan isi dari “hello.txt”"
      ]
    },
    {
      "cell_type": "markdown",
      "metadata": {
        "id": "5KELIg-5e7oz"
      },
      "source": [
        "Kita sedang belajar Python\r\n",
        "\r\n",
        "Tepatnya belajar memanipulasi berkas teks\r\n",
        "\r\n",
        "Memanipulasi berkas dengan Python sangatlah mudah!"
      ]
    },
    {
      "cell_type": "code",
      "metadata": {
        "colab": {
          "base_uri": "https://localhost:8080/",
          "height": 71
        },
        "id": "I3XZgMkme0Gs",
        "outputId": "16f1e161-d20b-4e7a-dbf6-285edd2c552c"
      },
      "source": [
        "\"\"\" # Membaca file hello.txt dengan fungsi read()\r\n",
        "print(\">>> Membaca file hello.txt dengan fungsi read()\")\r\n",
        "file = open(\"hello.txt\", \"r\")\r\n",
        "content = file.read()\r\n",
        "file.close()\r\n",
        "print(content)\r\n",
        "# Membaca file hello.txt dengan fungsi readline()\r\n",
        "print(\">>> Membaca file hello.txt dengan fungsi readline()\")\r\n",
        "file = open(\"hello.txt\", \"r\")\r\n",
        "first_line = file.readline()\r\n",
        "second_line = file.readline()\r\n",
        "file.close()\r\n",
        "print(first_line)\r\n",
        "print(second_line) \"\"\""
      ],
      "execution_count": 107,
      "outputs": [
        {
          "output_type": "execute_result",
          "data": {
            "application/vnd.google.colaboratory.intrinsic+json": {
              "type": "string"
            },
            "text/plain": [
              "' # Membaca file hello.txt dengan fungsi read()\\nprint(\">>> Membaca file hello.txt dengan fungsi read()\")\\nfile = open(\"hello.txt\", \"r\")\\ncontent = file.read()\\nfile.close()\\nprint(content)\\n# Membaca file hello.txt dengan fungsi readline()\\nprint(\">>> Membaca file hello.txt dengan fungsi readline()\")\\nfile = open(\"hello.txt\", \"r\")\\nfirst_line = file.readline()\\nsecond_line = file.readline()\\nfile.close()\\nprint(first_line)\\nprint(second_line) '"
            ]
          },
          "metadata": {
            "tags": []
          },
          "execution_count": 107
        }
      ]
    },
    {
      "cell_type": "markdown",
      "metadata": {
        "id": "R76Hep5xgPAo"
      },
      "source": [
        "Fungsi readlines() akan mengembalikan sebuah list yang setiap elemennya merupakan setiap baris dalam sebuah berkas teks."
      ]
    },
    {
      "cell_type": "code",
      "metadata": {
        "colab": {
          "base_uri": "https://localhost:8080/",
          "height": 71
        },
        "id": "_bGRLMq4fowI",
        "outputId": "1af2b688-97ff-4da5-edd8-ce2bf2ea9066"
      },
      "source": [
        "\"\"\" # Membaca file hello.txt dengan fungsi readlines()\r\n",
        "print(\">>> Membaca file hello.txt dengan fungsi readlines()\")\r\n",
        "file = open(\"hello.txt\", \"r\")\r\n",
        "all_lines = file.readlines()\r\n",
        "file.close()\r\n",
        "print(all_lines)\r\n",
        "# Membaca file hello.txt dengan menerapkan looping\r\n",
        "print(\">>> Membaca file hello.txt dengan menerapkan looping\")\r\n",
        "file = open(\"hello.txt\", \"r\")\r\n",
        "for line in file:\r\n",
        "    print(line) \"\"\""
      ],
      "execution_count": 109,
      "outputs": [
        {
          "output_type": "execute_result",
          "data": {
            "application/vnd.google.colaboratory.intrinsic+json": {
              "type": "string"
            },
            "text/plain": [
              "' # Membaca file hello.txt dengan fungsi readlines()\\nprint(\">>> Membaca file hello.txt dengan fungsi readlines()\")\\nfile = open(\"hello.txt\", \"r\")\\nall_lines = file.readlines()\\nfile.close()\\nprint(all_lines)\\n# Membaca file hello.txt dengan menerapkan looping\\nprint(\">>> Membaca file hello.txt dengan menerapkan looping\")\\nfile = open(\"hello.txt\", \"r\")\\nfor line in file:\\n    print(line) '"
            ]
          },
          "metadata": {
            "tags": []
          },
          "execution_count": 109
        }
      ]
    },
    {
      "cell_type": "markdown",
      "metadata": {
        "id": "9Lb33uYmhpa7"
      },
      "source": [
        "### Menulis Berkas Teks – Part 1\r\n",
        "\r\n",
        "Untuk menuliskan isi dari suatu berkas dapat menggunakan fungsi write() atau writelines() yang telah disediakan oleh Python. Sebelum masuk ke dalam contoh penggunaan fungsi write() atau writelines(), penting untuk mengingat bahwa mode yang dispesifikasikan pada fungsi open() akan mempengaruhi bagaimana Python menuliskan isi ke dalam berkas teks. Jika menggunakan mode \"w\", maka Python akan menghapus seluruh isi dalam berkas sebelum menuliskan konten yang telah di spesifikasikan.\r\n",
        "\r\n",
        "Asumsikan baris-baris di bawah comment ini merupakan isi dari “hello.txt”"
      ]
    },
    {
      "cell_type": "markdown",
      "metadata": {
        "id": "P5qP32jkh5-v"
      },
      "source": [
        "Kita sedang belajar Python\r\n",
        "\r\n",
        "Tepatnya belajar memanipulasi berkas teks\r\n",
        "\r\n",
        "Memanipulasi berkas dengan Python sangatlah mudah!"
      ]
    },
    {
      "cell_type": "code",
      "metadata": {
        "id": "EkP7C2E3h3qy"
      },
      "source": [
        "# Menulis ke file hello_write.txt\r\n",
        "file = open(\"hello.txt\", \"w\")\r\n",
        "file.write(\"Sekarang kita belajar menulis dengan menggunakan Python\")\r\n",
        "file.write(\"Menulis konten file dengan mode w (write).\")\r\n",
        "file.close()"
      ],
      "execution_count": 110,
      "outputs": []
    },
    {
      "cell_type": "markdown",
      "metadata": {
        "id": "jXUXn-RZjCof"
      },
      "source": [
        "### Menulis Berkas Teks – Part 2\r\n",
        "Ketika menulis pada berkas teks menggunakan mode \"a\", Python tidak akan menghapus isi dalam berkas dan hanya akan menambahkan konten. pelajari contoh berikut untuk memahami penggunaan fungsi write() dan writelines()"
      ]
    },
    {
      "cell_type": "markdown",
      "metadata": {
        "id": "0wVBUtbVjO2f"
      },
      "source": [
        "Pertama, mengasumsikan baris-baris di bawah comment ini merupakan isi dari “hello.txt”"
      ]
    },
    {
      "cell_type": "markdown",
      "metadata": {
        "id": "X8qPZ8hwjZLN"
      },
      "source": [
        "Kita sedang belajar Python\r\n",
        "\r\n",
        "Tepatnya belajar memanipulasi berkas teks\r\n",
        "\r\n",
        "Memanipulasi berkas dengan Python sangatlah mudah! "
      ]
    },
    {
      "cell_type": "markdown",
      "metadata": {
        "id": "uLpKAU4sjddd"
      },
      "source": [
        "Perintah ini di gunakan untuk membuka/membuat sebuah berkas teks dengan menggunakan mode “a”, untuk menambahkan beberapa baris pada berkas teks setelah isi dari berkas awalnya"
      ]
    },
    {
      "cell_type": "code",
      "metadata": {
        "id": "dPHJw4l3jUvE"
      },
      "source": [
        "# Menulis ke file dengan mode append\r\n",
        "file = open(\"hello.txt\", \"a\")\r\n",
        "file.writelines([\r\n",
        "\"Sekarang kita belajar menulis dengan menggunakan Python\", \r\n",
        "\"Menulis konten file dengan mode a (append).\"\r\n",
        "])\r\n",
        "file.close()"
      ],
      "execution_count": 112,
      "outputs": []
    },
    {
      "cell_type": "markdown",
      "metadata": {
        "id": "-FRbp6rCkDAd"
      },
      "source": [
        "### Library Matematika pada Python\r\n",
        "Salah satu keunikan Python adalah library yang dimilikinya karena dapat di-extend dengan library yang didefinisikan oleh pengguna Python, selain dari library bawaan (built-in) yang dimilikinya. Untuk membuat library yang didefinisikan oleh pengguna umumnya dilakukan dengan menggunakan teknik pemograman berorientasi obyek (object oriented programming).\r\n",
        "\r\n",
        "Tentunya secara dasar, Python tidak dapat digunakan untuk pengolahan data, komputasi saintifik, machine learning dan bahkan sistem cerdas. Melalui pengembang library tentunya dapat memiliki akses ke keperluan atau bidang tersebut. Library ini dapat diinstal melalui command pip yang bersumber dari webnya python package index.\r\n",
        "\r\n",
        "Bagi yang pernah menggunakan Matlab pasti tahu ada toolbox tertentu misal untuk optimasi, pengolahan sinyal, dll. Jadi toolbox di Matlab itu ekuivalen dengan library pada Python. Bahasa pemograman lain seperti R, PHP, GO, Java dsb tentu juga punya apakah namanya tetap library atau framework.\r\n",
        "\r\n",
        "Untuk memanggil library pada python, aku dapat menggunakan syntax:\r\n",
        "\r\n",
        "import \r\n",
        "\r\n",
        "adalah nama library yang akan diimport untuk dapat digunakan dalam kode program yang disusun, baik library bawaan (built-in), library yang tersedia di webnya python package index atau dikembangkan sendiri.\r\n",
        "\r\n",
        "Python adalah salah satu bahasa yang paling diminati untuk pengolahan data secara matematis. Untuk menggunakan fungsi-fungsi matematis yang telah disediakan oleh bahasa Python, dapat melakukan proses import library math seperti pada potongan kode berikut,\r\n",
        "\r\n",
        "import math"
      ]
    },
    {
      "cell_type": "markdown",
      "metadata": {
        "id": "zErcPgVDkhV9"
      },
      "source": [
        "### Fungsi dalam Library Matematika – Part 1\r\n",
        "\r\n",
        "* math.ceil() : Pembulatan ke atas\r\n",
        "* math.floor() : Pembulatan ke bawah\r\n",
        "* math.fabs() : Menerima input berupa bilangan dan mengembalikan hasil absolut dari bilangan input\r\n",
        "* math.factorial() : Menerima input berupa bilangan dan mengembalikan hasil faktorial dari bilangan input\r\n",
        "* math.fsum() : Menerima input berupa tipe data collection (tuple, list, etc.) dan mengembalikan hasil penjumlahan setiap elemennya\r\n",
        "* math.log() : Menerima input berupa dua buah bilangan (asumsikan x dan y) dan mengembalikan sebuah bilangan (z) di mana z merupakan hasil log basis y dari x (atau dengan kata lain x merupakan hasil pemangkatan dari z terhadap y)\r\n",
        "* math.sqrt() : Menerima input berupa sebuah bilangan dan mengembalikan hasil akar pangkat dua (akar kuadrat) dari bilangan tersebut\r\n",
        "* math.copysign() : Menerima input berupa dua buah bilangan dan mengembalikan tanda bilangan pertama yang dikalikan dengan tanda positif/ negatif dari bilangan kedua"
      ]
    },
    {
      "cell_type": "code",
      "metadata": {
        "colab": {
          "base_uri": "https://localhost:8080/"
        },
        "id": "yynhbnf6jj31",
        "outputId": "5ac41c9d-60bf-484c-aeab-f8bea536da72"
      },
      "source": [
        "# Import library math\r\n",
        "import math\r\n",
        "# Fungsi math.ceil()\r\n",
        "print(\">>> Fungsi math.ceil()\")\r\n",
        "x = 10.32\r\n",
        "y = 13.87\r\n",
        "x_ceil = math.ceil(x)\r\n",
        "y_ceil = math.ceil(y)\r\n",
        "print(x_ceil)\r\n",
        "print(y_ceil)\r\n",
        "\r\n",
        "# Fungsi math.floor()\r\n",
        "print(\">>> Fungsi math.floor()\")\r\n",
        "x_floor = math.floor(x)\r\n",
        "y_floor = math.floor(y)\r\n",
        "print(x_floor)\r\n",
        "print(y_floor)\r\n",
        "\r\n",
        "# Fungsi math.fabs()\r\n",
        "print(\">>> Fungsi math.fabs()\")\r\n",
        "x = 10.32\r\n",
        "y = -13.87\r\n",
        "x = math.fabs(x)\r\n",
        "y = math.fabs(y)\r\n",
        "print(x)\r\n",
        "print(y)\r\n",
        "\r\n",
        "# Fungsi math.factorial()\r\n",
        "print(\">>> Fungsi math.factorial()\")\r\n",
        "x_factorial = math.factorial(5)\r\n",
        "print(x_factorial)\r\n",
        "\r\n",
        "# Fungsi math.fsum()\r\n",
        "print(\">>> Fungsi math.fsum()\")\r\n",
        "x = [1, 2, 3, 4, 5, 6, -6, -5, -4]\r\n",
        "total = math.fsum(x)\r\n",
        "print(total)"
      ],
      "execution_count": 115,
      "outputs": [
        {
          "output_type": "stream",
          "text": [
            ">>> Fungsi math.ceil()\n",
            "11\n",
            "14\n",
            ">>> Fungsi math.floor()\n",
            "10\n",
            "13\n",
            ">>> Fungsi math.fabs()\n",
            "10.32\n",
            "13.87\n",
            ">>> Fungsi math.factorial()\n",
            "120\n",
            ">>> Fungsi math.fsum()\n",
            "6.0\n"
          ],
          "name": "stdout"
        }
      ]
    },
    {
      "cell_type": "code",
      "metadata": {
        "colab": {
          "base_uri": "https://localhost:8080/"
        },
        "id": "AtnDTH6LlkvV",
        "outputId": "190af4b9-5062-45ae-b852-d782853565ba"
      },
      "source": [
        "# Import library math\r\n",
        "import math\r\n",
        "\r\n",
        "# Fungsi math.log()\r\n",
        "print(\">>> Fungsi math.log()\")\r\n",
        "# x = log basis 2 dari 8\r\n",
        "x = math.log(8,2)\r\n",
        "# y = log basis 3 dari 81\r\n",
        "y = math.log(81,3)\r\n",
        "# z = log basis 10 dari 10000\r\n",
        "z = math.log(10000,10)\r\n",
        "print(x)\r\n",
        "print(y)\r\n",
        "print(z)\r\n",
        "\r\n",
        "# Fungsi math.sqrt()\r\n",
        "print(\">>> Fungsi math.sqrt()\")\r\n",
        "# akar kuadrat dari 100\r\n",
        "x = math.sqrt(100)\r\n",
        "print(x)\r\n",
        "# akar kuadrat dari 2\r\n",
        "y = math.sqrt(2)\r\n",
        "print(y)\r\n",
        "\r\n",
        "# Fungsi math.copysign()\r\n",
        "print(\">>> Fungsi math.copysign()\")\r\n",
        "x = 10.32\r\n",
        "y = -13.87\r\n",
        "z = -15\r\n",
        "x = math.copysign(x, z)\r\n",
        "y = math.copysign(y, z)\r\n",
        "z = math.copysign(z, 10)\r\n",
        "print(x)\r\n",
        "print(y)\r\n",
        "print(z)"
      ],
      "execution_count": 117,
      "outputs": [
        {
          "output_type": "stream",
          "text": [
            ">>> Fungsi math.log()\n",
            "3.0\n",
            "4.0\n",
            "4.0\n",
            ">>> Fungsi math.sqrt()\n",
            "10.0\n",
            "1.4142135623730951\n",
            ">>> Fungsi math.copysign()\n",
            "-10.32\n",
            "-13.87\n",
            "15.0\n"
          ],
          "name": "stdout"
        }
      ]
    },
    {
      "cell_type": "code",
      "metadata": {
        "id": "aw9weAkTmlVl"
      },
      "source": [
        ""
      ],
      "execution_count": null,
      "outputs": []
    }
  ]
}