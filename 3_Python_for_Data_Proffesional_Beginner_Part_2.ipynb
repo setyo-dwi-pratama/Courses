{
  "nbformat": 4,
  "nbformat_minor": 0,
  "metadata": {
    "colab": {
      "name": "3_Python for Data Proffesional Beginner_Part 2.ipynb",
      "provenance": [],
      "authorship_tag": "ABX9TyMuuZDGak9JiseuMseQfd8E",
      "include_colab_link": true
    },
    "kernelspec": {
      "name": "python3",
      "display_name": "Python 3"
    },
    "accelerator": "GPU"
  },
  "cells": [
    {
      "cell_type": "markdown",
      "metadata": {
        "id": "view-in-github",
        "colab_type": "text"
      },
      "source": [
        "<a href=\"https://colab.research.google.com/github/setyo-dwi-pratama/Courses/blob/main/3_Python_for_Data_Proffesional_Beginner_Part_2.ipynb\" target=\"_parent\"><img src=\"https://colab.research.google.com/assets/colab-badge.svg\" alt=\"Open In Colab\"/></a>"
      ]
    },
    {
      "cell_type": "markdown",
      "metadata": {
        "id": "X7fYJgnURvlW"
      },
      "source": [
        "# **Python for Data Proffesional Beginner - Part 2**"
      ]
    },
    {
      "cell_type": "markdown",
      "metadata": {
        "id": "ChUEPIrdSFuz"
      },
      "source": [
        "## Collection Manipulation\r\n",
        "\r\n",
        "Apa itu Collection Manipulation?\r\n",
        "\r\n",
        "Collections manipulation adalah salah satu teknik yang penting untuk dikuasai setiap programmer. Melalui penguasaan materi collections  manipulation kita dapat mengolah berbagai tipe data collections dalam Python yang meliputi:\r\n",
        "\r\n",
        "* list\r\n",
        "* tuple\r\n",
        "* set\r\n",
        "* Dictionary\r\n",
        "\r\n"
      ]
    },
    {
      "cell_type": "markdown",
      "metadata": {
        "id": "0jjGmEn6TMDV"
      },
      "source": [
        "### Mengakses List dan Tuple\r\n",
        "\r\n",
        "INDEKS\r\n",
        "\r\n",
        "Mengakses elemen pada suatu list ataupun tuple dengan menggunakan indeks atau semacam nomor urut dari list atau tuple tersebut. Indeks pada suatu tipe data list atau tuple dimulai dari angka 0."
      ]
    },
    {
      "cell_type": "code",
      "metadata": {
        "colab": {
          "base_uri": "https://localhost:8080/"
        },
        "id": "RpXbODCwRY8p",
        "outputId": "e37cf00b-4204-4f2c-ac9b-5d821289b330"
      },
      "source": [
        "#Tuple\r\n",
        "bulan_pembelian = ('Januari','Februari','Maret','April','Mei','Juni','Juli','Agustus','September','Oktober','November','Desember')\r\n",
        "\r\n",
        "print(bulan_pembelian[0])\r\n",
        "print(bulan_pembelian[5])\r\n",
        "print(bulan_pembelian[-1])\r\n",
        "print(bulan_pembelian[-2])"
      ],
      "execution_count": 2,
      "outputs": [
        {
          "output_type": "stream",
          "text": [
            "Januari\n",
            "Juni\n",
            "Desember\n",
            "November\n"
          ],
          "name": "stdout"
        }
      ]
    },
    {
      "cell_type": "code",
      "metadata": {
        "colab": {
          "base_uri": "https://localhost:8080/"
        },
        "id": "pcvAv19sUMfO",
        "outputId": "28f49acd-4eae-4881-eebe-6983443cc0da"
      },
      "source": [
        "print(bulan_pembelian[-0])"
      ],
      "execution_count": 4,
      "outputs": [
        {
          "output_type": "stream",
          "text": [
            "Januari\n"
          ],
          "name": "stdout"
        }
      ]
    },
    {
      "cell_type": "markdown",
      "metadata": {
        "id": "JwZ6kz8hVL4X"
      },
      "source": [
        "SLICING\r\n",
        "\r\n",
        "Slicing merupakan Cara collections manipulation untuk memotong (slicing) list/ tuple dengan menggunakan rentangan nilai indeks (range of index)"
      ]
    },
    {
      "cell_type": "code",
      "metadata": {
        "colab": {
          "base_uri": "https://localhost:8080/"
        },
        "id": "wHzvp9GbUcUV",
        "outputId": "9096035c-3ba1-429e-c4fa-48f9d16fee79"
      },
      "source": [
        "#Tuple\r\n",
        "bulan_pembelian = ('Januari','Februari','Maret','April','Mei','Juni','Juli','Agustus','September','Oktober','November','Desember')\r\n",
        "\r\n",
        "pertengahan_tahun = bulan_pembelian[4:8]\r\n",
        "print(pertengahan_tahun)\r\n",
        "\r\n",
        "awal_tahun = bulan_pembelian[:5]\r\n",
        "print(awal_tahun)\r\n",
        "\r\n",
        "akhir_tahun = bulan_pembelian[8:]\r\n",
        "print(akhir_tahun)\r\n",
        "\r\n",
        "print(bulan_pembelian[-4:-1])"
      ],
      "execution_count": 5,
      "outputs": [
        {
          "output_type": "stream",
          "text": [
            "('Mei', 'Juni', 'Juli', 'Agustus')\n",
            "('Januari', 'Februari', 'Maret', 'April', 'Mei')\n",
            "('September', 'Oktober', 'November', 'Desember')\n",
            "('September', 'Oktober', 'November')\n"
          ],
          "name": "stdout"
        }
      ]
    },
    {
      "cell_type": "markdown",
      "metadata": {
        "id": "We1TS_i7WQIA"
      },
      "source": [
        "### Penggabungan List/Tuple\r\n",
        "Selain dapat melakukan pemotongan terhadap tipe data list/ tuple, kita juga dapat menggabungkan isi dari suatu list (ataupun tuple) dengan list lainnya (dengan tuple lainnya) dengan menggunakan operator penambahan (+)"
      ]
    },
    {
      "cell_type": "code",
      "metadata": {
        "colab": {
          "base_uri": "https://localhost:8080/"
        },
        "id": "-_om09jfVuMc",
        "outputId": "7ee9bfe9-86de-4894-cac2-7d852c205eb8"
      },
      "source": [
        "list_makanan = ['Gado-gado','Ayam Goreng','Rendang']\r\n",
        "print(list_makanan)\r\n",
        "list_minuman = ['Es Teh','Es Jeruk','Es Campur']\r\n",
        "print(list_minuman)\r\n",
        "list_menu = list_makanan + list_minuman\r\n",
        "print(list_menu)"
      ],
      "execution_count": 7,
      "outputs": [
        {
          "output_type": "stream",
          "text": [
            "['Gado-gado', 'Ayam Goreng', 'Rendang']\n",
            "['Es Teh', 'Es Jeruk', 'Es Campur']\n",
            "['Gado-gado', 'Ayam Goreng', 'Rendang', 'Es Teh', 'Es Jeruk', 'Es Campur']\n"
          ],
          "name": "stdout"
        }
      ]
    },
    {
      "cell_type": "markdown",
      "metadata": {
        "id": "6fcJsYPqXkC3"
      },
      "source": [
        "### List Manipulation\r\n",
        "\r\n",
        "Untuk memanipulasi tipe data list, dapat menggunakan sekumpulan fitur yang telah tersedia dalam bahasa pemrograman Python. beberapa fitur untuk melakukan manipulasi data yang terdiri :\r\n",
        "\r\n",
        "* .append() : Menambahkan data sebagai elemen terakhir list\r\n",
        "* .clear()  : Menghapus semua list\r\n",
        "* .copy()   : Mengembalikan copy dari setiap elemen dalam list\r\n",
        "* .count()  : Mengembalikan banyaknya elemen pada list\r\n",
        "* .extend() : Menggabungkan dua buah list seperti penggunaan operator + untuk list"
      ]
    },
    {
      "cell_type": "code",
      "metadata": {
        "colab": {
          "base_uri": "https://localhost:8080/"
        },
        "id": "-Z_Nn_lKWut1",
        "outputId": "85b43b63-5055-4d47-a491-b1876c460b44"
      },
      "source": [
        "# .append()\r\n",
        "list_makanan = ['Gado-gado', 'Ayam Goreng', 'Rendang']\r\n",
        "list_makanan.append('Ketoprak')\r\n",
        "print(list_makanan)"
      ],
      "execution_count": 8,
      "outputs": [
        {
          "output_type": "stream",
          "text": [
            "['Gado-gado', 'Ayam Goreng', 'Rendang', 'Ketoprak']\n"
          ],
          "name": "stdout"
        }
      ]
    },
    {
      "cell_type": "code",
      "metadata": {
        "colab": {
          "base_uri": "https://localhost:8080/"
        },
        "id": "T6KKFtNNa-yr",
        "outputId": "675b4097-6034-408a-fa8f-7dfe299b5619"
      },
      "source": [
        "# Fitur .clear()\r\n",
        "list_makanan = ['Gado-gado', 'Ayam Goreng', 'Rendang']\r\n",
        "print(list_makanan)\r\n",
        "list_makanan.clear()\r\n",
        "print(list_makanan)"
      ],
      "execution_count": 13,
      "outputs": [
        {
          "output_type": "stream",
          "text": [
            "['Gado-gado', 'Ayam Goreng', 'Rendang']\n",
            "[]\n"
          ],
          "name": "stdout"
        }
      ]
    },
    {
      "cell_type": "code",
      "metadata": {
        "colab": {
          "base_uri": "https://localhost:8080/"
        },
        "id": "PMVdSEf1bDwG",
        "outputId": "f870e747-f3b8-421f-ca98-24b573650227"
      },
      "source": [
        "# Fitur .copy()\r\n",
        "list_makanan1 = ['Gado-gado', 'Ayam Goreng', 'Rendang']\r\n",
        "list_makanan2 = list_makanan1.copy()\r\n",
        "list_makanan3 = list_makanan1\r\n",
        "print(list_makanan1)\r\n",
        "print(list_makanan2)\r\n",
        "print(list_makanan3)\r\n",
        "\r\n",
        "print(\"----------------------------------------------------\")\r\n",
        "\r\n",
        "list_makanan2.append('Opor')\r\n",
        "list_makanan3.append('Ketoprak')\r\n",
        "print(list_makanan1)\r\n",
        "print(list_makanan2)"
      ],
      "execution_count": 18,
      "outputs": [
        {
          "output_type": "stream",
          "text": [
            "['Gado-gado', 'Ayam Goreng', 'Rendang']\n",
            "['Gado-gado', 'Ayam Goreng', 'Rendang']\n",
            "['Gado-gado', 'Ayam Goreng', 'Rendang']\n",
            "----------------------------------------------------\n",
            "['Gado-gado', 'Ayam Goreng', 'Rendang', 'Ketoprak']\n",
            "['Gado-gado', 'Ayam Goreng', 'Rendang', 'Opor']\n"
          ],
          "name": "stdout"
        }
      ]
    },
    {
      "cell_type": "code",
      "metadata": {
        "colab": {
          "base_uri": "https://localhost:8080/"
        },
        "id": "yQ8iA45DbKeJ",
        "outputId": "20cf2722-40b8-40ee-fa68-14e3a1c16f0d"
      },
      "source": [
        "# Fitur .count()\r\n",
        "list_score = ['Budi', 'Sud', 'Budi', 'Budi', 'Budi', 'Sud', 'Sud']\r\n",
        "score_budi = list_score.count('Budi')\r\n",
        "score_sud = list_score.count('Sud')\r\n",
        "print(score_budi) # akan menampilkan output 4\r\n",
        "print(score_sud) # akan menampilkan output 3"
      ],
      "execution_count": 19,
      "outputs": [
        {
          "output_type": "stream",
          "text": [
            "4\n",
            "3\n"
          ],
          "name": "stdout"
        }
      ]
    },
    {
      "cell_type": "code",
      "metadata": {
        "colab": {
          "base_uri": "https://localhost:8080/"
        },
        "id": "-el7O1BcbM6Z",
        "outputId": "1dc48838-706f-4b0b-caaf-88a7e3e1d728"
      },
      "source": [
        "# Fitur .extend()\r\n",
        "list_menu = ['Gado-gado', 'Ayam Goreng', 'Rendang']\r\n",
        "list_minuman = ['Es Teh', 'Es Jeruk', 'Es Campur']\r\n",
        "list_menu.extend(list_minuman)\r\n",
        "print(list_menu)"
      ],
      "execution_count": 24,
      "outputs": [
        {
          "output_type": "stream",
          "text": [
            "['Gado-gado', 'Ayam Goreng', 'Rendang', 'Es Teh', 'Es Jeruk', 'Es Campur']\n"
          ],
          "name": "stdout"
        }
      ]
    },
    {
      "cell_type": "code",
      "metadata": {
        "colab": {
          "base_uri": "https://localhost:8080/"
        },
        "id": "d341YP-fbN27",
        "outputId": "c5ce917e-39c5-4e40-ef28-1dc755b86feb"
      },
      "source": [
        "list_menu = ['Gado-gado', 'Ayam Goreng', 'Rendang']\r\n",
        "list_minuman = ['Es Teh', 'Es Jeruk', 'Es Campur']\r\n",
        "list_minuman.extend(list_menu)\r\n",
        "print(list_minuman)"
      ],
      "execution_count": 25,
      "outputs": [
        {
          "output_type": "stream",
          "text": [
            "['Es Teh', 'Es Jeruk', 'Es Campur', 'Gado-gado', 'Ayam Goreng', 'Rendang']\n"
          ],
          "name": "stdout"
        }
      ]
    },
    {
      "cell_type": "markdown",
      "metadata": {
        "id": "ANC7wyM1dYld"
      },
      "source": [
        "Manipulasi tipe data list selanjutnya:\r\n",
        "\r\n",
        "* .index()   : Mengembalikan indeks dari elemen pertama yang ditemukan dari awal sebuah list\r\n",
        "* .insert()  : Menyisipkan elemen pada indeks yang dispesifikasikan\r\n",
        "* .pop()     : Menghilangkan elemen pada posisi tertentu\r\n",
        "* .remove()  : Menghilangkan elemen dengan nilai tertentu\r\n",
        "* .reverse() : Membalik urutan elemen dari sebuah list\r\n",
        "* .sort()    : Mengurutkan elemen pada sebuah list, secara default dengan urutan dari kecil ke besar (ascending)"
      ]
    },
    {
      "cell_type": "code",
      "metadata": {
        "colab": {
          "base_uri": "https://localhost:8080/"
        },
        "id": "3bl5BaHAczA4",
        "outputId": "8c3fae8a-0d87-4661-8521-ef6dd57d6368"
      },
      "source": [
        "# Fitur .index()\r\n",
        "list_score = ['Budi','Sud','Budi','Budi','Budi','Sud','Sud']\r\n",
        "score_pertama_sud1 = list_score.index('Sud')\r\n",
        "score_pertama_sud = list_score.index('Sud') + 1\r\n",
        "print(score_pertama_sud1)\r\n",
        "print(score_pertama_sud) # akan menampilkan output 2"
      ],
      "execution_count": 26,
      "outputs": [
        {
          "output_type": "stream",
          "text": [
            "1\n",
            "2\n"
          ],
          "name": "stdout"
        }
      ]
    },
    {
      "cell_type": "code",
      "metadata": {
        "colab": {
          "base_uri": "https://localhost:8080/"
        },
        "id": "5Xhd2MKrgfbI",
        "outputId": "922f8ceb-3353-4aa2-9c96-a7cffacf01af"
      },
      "source": [
        "# Fitur .insert()\r\n",
        "list_score = ['Budi','Sud','Budi','Budi','Sud']\r\n",
        "print(list_score)\r\n",
        "list_score.insert(5,'Ahmad')\r\n",
        "print(list_score)"
      ],
      "execution_count": 29,
      "outputs": [
        {
          "output_type": "stream",
          "text": [
            "['Budi', 'Sud', 'Budi', 'Budi', 'Sud']\n",
            "['Budi', 'Sud', 'Budi', 'Budi', 'Sud', 'Ahmad']\n"
          ],
          "name": "stdout"
        }
      ]
    },
    {
      "cell_type": "code",
      "metadata": {
        "colab": {
          "base_uri": "https://localhost:8080/"
        },
        "id": "OEkX3NxNgoIu",
        "outputId": "1fa4c642-4e29-451b-b39e-79164cacc04e"
      },
      "source": [
        "# Fitur .pop()\r\n",
        "list_menu = ['Gado-gado', 'Ayam Goreng', 'Rendang']\r\n",
        "list_menu.pop(1)\r\n",
        "print(list_menu)"
      ],
      "execution_count": 30,
      "outputs": [
        {
          "output_type": "stream",
          "text": [
            "['Gado-gado', 'Rendang']\n"
          ],
          "name": "stdout"
        }
      ]
    },
    {
      "cell_type": "code",
      "metadata": {
        "colab": {
          "base_uri": "https://localhost:8080/"
        },
        "id": "Ed6x9z-_g1aB",
        "outputId": "8878349c-b68d-4bae-faac-d9e8c722faa6"
      },
      "source": [
        "# Fitur .remove()\r\n",
        "list_menu = ['Gado-gado', 'Ayam Goreng', 'Rendang', 'Ketoprak']\r\n",
        "list_menu.remove('Rendang')\r\n",
        "print(list_menu)"
      ],
      "execution_count": 31,
      "outputs": [
        {
          "output_type": "stream",
          "text": [
            "['Gado-gado', 'Ayam Goreng', 'Ketoprak']\n"
          ],
          "name": "stdout"
        }
      ]
    },
    {
      "cell_type": "code",
      "metadata": {
        "colab": {
          "base_uri": "https://localhost:8080/"
        },
        "id": "cJx-Bg7Pg8Ms",
        "outputId": "c29a952e-aab7-4f04-d21b-8142d1c5a89c"
      },
      "source": [
        "# Fitur .reverse()\r\n",
        "list_menu = ['Gado-gado', 'Ayam Goreng', 'Rendang', 'Ketoprak']\r\n",
        "list_menu.reverse()\r\n",
        "print(list_menu)"
      ],
      "execution_count": 32,
      "outputs": [
        {
          "output_type": "stream",
          "text": [
            "['Ketoprak', 'Rendang', 'Ayam Goreng', 'Gado-gado']\n"
          ],
          "name": "stdout"
        }
      ]
    },
    {
      "cell_type": "code",
      "metadata": {
        "colab": {
          "base_uri": "https://localhost:8080/"
        },
        "id": "2UdadYyChAoL",
        "outputId": "baae6e31-7d86-4acd-f2d5-4cbc0ad7e2ff"
      },
      "source": [
        "# Fitur .sort()\r\n",
        "list_menu = ['Gado-gado', 'Ayam Goreng', 'Rendang', 'Ketoprak']\r\n",
        "list_menu.sort() # Default: Ascending\r\n",
        "print(list_menu) \r\n",
        "list_menu.sort(reverse=True)# Descending\r\n",
        "print(list_menu)"
      ],
      "execution_count": 33,
      "outputs": [
        {
          "output_type": "stream",
          "text": [
            "['Ayam Goreng', 'Gado-gado', 'Ketoprak', 'Rendang']\n",
            "['Rendang', 'Ketoprak', 'Gado-gado', 'Ayam Goreng']\n"
          ],
          "name": "stdout"
        }
      ]
    },
    {
      "cell_type": "markdown",
      "metadata": {
        "id": "L8sUyrGAjFI6"
      },
      "source": [
        "### Tuple Manipulation\r\n",
        "* .count() : Mengembalikan jumlah kemunculan suatu elemen pada tuple\r\n",
        "* .index() : Mengembalikan indeks dari elemen pertama yang ditemukan dari awal sebuah tuple"
      ]
    },
    {
      "cell_type": "code",
      "metadata": {
        "colab": {
          "base_uri": "https://localhost:8080/"
        },
        "id": "eU73iv3OhEb5",
        "outputId": "920b5939-1822-4475-dfd5-f82917c6076a"
      },
      "source": [
        "# Fitur .count()\r\n",
        "tuple_score = ('Budi', 'Sud', 'Budi', 'Budi', 'Budi', 'Sud', 'Sud')\r\n",
        "score_budi = tuple_score.count('Budi')\r\n",
        "score_sud = tuple_score.count('Sud')\r\n",
        "print(score_budi) # akan menampilkan output 4\r\n",
        "print(score_sud) # akan menampilkan output 3"
      ],
      "execution_count": 34,
      "outputs": [
        {
          "output_type": "stream",
          "text": [
            "4\n",
            "3\n"
          ],
          "name": "stdout"
        }
      ]
    },
    {
      "cell_type": "code",
      "metadata": {
        "colab": {
          "base_uri": "https://localhost:8080/"
        },
        "id": "CPr8C7G8j2FM",
        "outputId": "da449c13-9965-401c-9847-0afae62d5cf1"
      },
      "source": [
        "# Fitur .index()\r\n",
        "tuple_score = ('Budi','Sud','Budi','Budi','Budi','Sud','Sud')\r\n",
        "score_pertama_sud = tuple_score.index('Sud')+1\r\n",
        "print(score_pertama_sud) # akan menampilkan output 2"
      ],
      "execution_count": 35,
      "outputs": [
        {
          "output_type": "stream",
          "text": [
            "2\n"
          ],
          "name": "stdout"
        }
      ]
    },
    {
      "cell_type": "markdown",
      "metadata": {
        "id": "-cgXpjGGlDN_"
      },
      "source": [
        "### Set Manipulation\r\n",
        "* .add() : Menambahkan data ke dalam set. Penting untuk kita ingat bahwa pada tipe data set tidak mengizinkan adanya duplikasi elemen di dalamnya\r\n",
        "* .clear() : Menghapus seluruh elemen dalam sebuah set\r\n",
        "* .copy() : Mengembalikan copy dari setiap elemen dalam set\r\n",
        "* .update() : Menambahkan elemen dari suatu set dengan set lainnya\r\n",
        "* .pop() : Menghilangkan elemen dari sebuah set secara acak\r\n",
        "* .remove() : Menghilangkan elemen dengan nilai tertentu\r\n",
        "* .union() : Mengembalikan hasil penggabungan (union) dari dua buah set\r\n",
        "* .isdisjoint() : Mengembalikan nilai kebenaran apakah suatu set disjoint (saling lepas/tidak mengandung elemen yang sama) dengan set lainnya\r\n",
        "* .issubset() : Mengembalikan nilai kebenaran apakah sebuah set merupakan subset dari set lainnya. Sebuah set A merupakan subset dari set B jika seluruh elemen dari set A merupakan bagian dari set B\r\n",
        "* .issuperset() : Mengembalikan nilai kebenaran apakah sebuah set merupakan superset dari set lainnya. Sebuah set A merupakan superset dari set B jika seluruh elemen dari set B terkandung dalam set A\r\n",
        "* .intersection() : Mengembalikan sebuah set yang merupakan intersection dari dua set lainnya\r\n",
        "* .difference() : Mengembalikan sebuah set yang berisikan difference dari dua set lainnya. Difference dari sebuah set A berdasarkan set B adalah setiap elemen yang terdapat di set A tetapi tidak terdapat di set B\r\n",
        "* .symmetric_difference() : Mengembalikan sebuah set yang berisikan symmetric difference dari dua set lainnya. Symmetric difference dari sebuah set A dan B adalah setiap elemen dari set A yang tidak terdapat di set B digabungkan dengan (union) setiap elemen dari set B yang tidak terdapat di set A"
      ]
    },
    {
      "cell_type": "code",
      "metadata": {
        "colab": {
          "base_uri": "https://localhost:8080/"
        },
        "id": "FAaxJtBMj54L",
        "outputId": "022ae5d6-e4a6-4767-ba45-5f883263f77d"
      },
      "source": [
        "# Fitur .add()\r\n",
        "set_buah = {'Jeruk','Apel','Anggur'}\r\n",
        "set_buah.add('Melon')\r\n",
        "print(set_buah)"
      ],
      "execution_count": 36,
      "outputs": [
        {
          "output_type": "stream",
          "text": [
            "{'Apel', 'Melon', 'Jeruk', 'Anggur'}\n"
          ],
          "name": "stdout"
        }
      ]
    },
    {
      "cell_type": "code",
      "metadata": {
        "colab": {
          "base_uri": "https://localhost:8080/"
        },
        "id": "4Z1WR1wgmv_h",
        "outputId": "a3f91b51-8623-42bd-bd38-13576cc585b8"
      },
      "source": [
        "# Fitur .clear()\r\n",
        "set_buah = {'Jeruk','Apel','Anggur'}\r\n",
        "set_buah.clear()\r\n",
        "print(set_buah)"
      ],
      "execution_count": 37,
      "outputs": [
        {
          "output_type": "stream",
          "text": [
            "set()\n"
          ],
          "name": "stdout"
        }
      ]
    },
    {
      "cell_type": "code",
      "metadata": {
        "colab": {
          "base_uri": "https://localhost:8080/"
        },
        "id": "MSMCOt-pm0BO",
        "outputId": "0e90e723-10a4-434b-ea06-341cc46b62fc"
      },
      "source": [
        "# Fitur .copy()\r\n",
        "set_buah1 = {'Jeruk','Apel','Anggur'}\r\n",
        "set_buah2 = set_buah1\r\n",
        "set_buah3 = set_buah1.copy()\r\n",
        "set_buah2.add('Melon')\r\n",
        "set_buah3.add('Kiwi')\r\n",
        "print(set_buah1)\r\n",
        "print(set_buah2)"
      ],
      "execution_count": 39,
      "outputs": [
        {
          "output_type": "stream",
          "text": [
            "{'Apel', 'Melon', 'Jeruk', 'Anggur'}\n",
            "{'Apel', 'Melon', 'Jeruk', 'Anggur'}\n"
          ],
          "name": "stdout"
        }
      ]
    },
    {
      "cell_type": "code",
      "metadata": {
        "colab": {
          "base_uri": "https://localhost:8080/"
        },
        "id": "b1ZqiCP8m3Wp",
        "outputId": "a5279eb2-6950-4fe3-eae9-b1b22ca10fec"
      },
      "source": [
        "# Fitur .update()\r\n",
        "parcel1 = {'Anggur','Apel','Jeruk'}\r\n",
        "parcel2 = {'Apel','Kiwi','Melon'}\r\n",
        "parcel1.update(parcel2)\r\n",
        "print(parcel1)"
      ],
      "execution_count": 40,
      "outputs": [
        {
          "output_type": "stream",
          "text": [
            "{'Jeruk', 'Anggur', 'Kiwi', 'Apel', 'Melon'}\n"
          ],
          "name": "stdout"
        }
      ]
    },
    {
      "cell_type": "code",
      "metadata": {
        "colab": {
          "base_uri": "https://localhost:8080/"
        },
        "id": "B4vTMMOknPQD",
        "outputId": "1919052f-a95f-4698-b81c-81f08201fb7e"
      },
      "source": [
        "# Fitur .pop()\r\n",
        "parcel = {'Anggur','Apel','Jeruk'}\r\n",
        "buah = parcel.pop()\r\n",
        "print(buah)\r\n",
        "print(parcel)"
      ],
      "execution_count": 42,
      "outputs": [
        {
          "output_type": "stream",
          "text": [
            "Apel\n",
            "{'Jeruk', 'Anggur'}\n"
          ],
          "name": "stdout"
        }
      ]
    },
    {
      "cell_type": "code",
      "metadata": {
        "colab": {
          "base_uri": "https://localhost:8080/"
        },
        "id": "MtdmrCo4nbcE",
        "outputId": "31553071-da4b-4255-e474-501fc36cfd8a"
      },
      "source": [
        "# Fitur .remove()\r\n",
        "parcel = {'Anggur','Apel','Jeruk'}\r\n",
        "parcel.remove('Apel')\r\n",
        "print(parcel)"
      ],
      "execution_count": 44,
      "outputs": [
        {
          "output_type": "stream",
          "text": [
            "{'Jeruk', 'Anggur'}\n"
          ],
          "name": "stdout"
        }
      ]
    },
    {
      "cell_type": "code",
      "metadata": {
        "colab": {
          "base_uri": "https://localhost:8080/"
        },
        "id": "VVp4U4M2nk-B",
        "outputId": "28eb2acb-e5a6-470f-c6ad-7aa01168fad1"
      },
      "source": [
        "# Fitur .union()\r\n",
        "parcel1 = {'Anggur','Apel','Jeruk'}\r\n",
        "parcel2 = {'Apel','Kiwi','Melon'}\r\n",
        "parcel3 = parcel1.union(parcel2)\r\n",
        "print(parcel1)\r\n",
        "print(parcel3)"
      ],
      "execution_count": 45,
      "outputs": [
        {
          "output_type": "stream",
          "text": [
            "{'Apel', 'Jeruk', 'Anggur'}\n",
            "{'Jeruk', 'Anggur', 'Kiwi', 'Apel', 'Melon'}\n"
          ],
          "name": "stdout"
        }
      ]
    },
    {
      "cell_type": "code",
      "metadata": {
        "colab": {
          "base_uri": "https://localhost:8080/"
        },
        "id": "H-I5-47iqrK_",
        "outputId": "6718e600-1360-4e1d-a8ea-0a80a104dd28"
      },
      "source": [
        "# Fitur .isdisjoint()\r\n",
        "parcel1 = {'Anggur','Apel','Jeruk'}\r\n",
        "parcel2 = {'Kiwi','Melon','Pisang'}\r\n",
        "parcel3 = {'Apel','Srikaya','Semangka'}\r\n",
        "parcel1_parcel2_disjoint = parcel1.isdisjoint(parcel2)\r\n",
        "print(parcel1_parcel2_disjoint)\r\n",
        "parcel1_parcel3_disjoint = parcel1.isdisjoint(parcel3)\r\n",
        "print(parcel1_parcel3_disjoint)"
      ],
      "execution_count": 46,
      "outputs": [
        {
          "output_type": "stream",
          "text": [
            "True\n",
            "False\n"
          ],
          "name": "stdout"
        }
      ]
    },
    {
      "cell_type": "code",
      "metadata": {
        "colab": {
          "base_uri": "https://localhost:8080/"
        },
        "id": "x_RcxzHxq4UD",
        "outputId": "20549ca8-f5f3-4ddb-df43-cd2e7f126e8f"
      },
      "source": [
        "# Fitur .issubset()\r\n",
        "parcel_A = {'Anggur', 'Apel'}\r\n",
        "parcel_B = {'Durian','Semangka','Apel'}\r\n",
        "parcel_C = {'Anggur', 'Kiwi', 'Apel', 'Jeruk', 'Melon'}\r\n",
        "parcel_A_dalam_C = parcel_A.issubset(parcel_C)\r\n",
        "parcel_B_dalam_C = parcel_B.issubset(parcel_C)\r\n",
        "print(parcel_A_dalam_C)\r\n",
        "print(parcel_B_dalam_C)"
      ],
      "execution_count": 47,
      "outputs": [
        {
          "output_type": "stream",
          "text": [
            "True\n",
            "False\n"
          ],
          "name": "stdout"
        }
      ]
    },
    {
      "cell_type": "code",
      "metadata": {
        "colab": {
          "base_uri": "https://localhost:8080/"
        },
        "id": "8AzRCItnrDpa",
        "outputId": "127185ec-c4c1-4cf6-db28-4964e96b1cb3"
      },
      "source": [
        "# Fitur .issuperset()\r\n",
        "parcel_C_mengandung_A = parcel_C.issuperset(parcel_A)\r\n",
        "parcel_C_mengandung_B = parcel_C.issuperset(parcel_B)\r\n",
        "print(parcel_C_mengandung_A)\r\n",
        "print(parcel_C_mengandung_B)"
      ],
      "execution_count": 49,
      "outputs": [
        {
          "output_type": "stream",
          "text": [
            "True\n",
            "False\n"
          ],
          "name": "stdout"
        }
      ]
    },
    {
      "cell_type": "code",
      "metadata": {
        "colab": {
          "base_uri": "https://localhost:8080/"
        },
        "id": "ZuZed1korIAc",
        "outputId": "586d0d85-a1b9-4292-b820-f108ed316589"
      },
      "source": [
        "# Fitur .intersection()\r\n",
        "parcel_A = {'Anggur', 'Kiwi', 'Apel', 'Jeruk', 'Melon'}\r\n",
        "parcel_B = {'Apel', 'Jeruk', 'Semangka', 'Durian', 'Tomat'}\r\n",
        "parcel_C = parcel_A.intersection(parcel_B)\r\n",
        "print(parcel_C)"
      ],
      "execution_count": 51,
      "outputs": [
        {
          "output_type": "stream",
          "text": [
            "{'Apel', 'Jeruk'}\n"
          ],
          "name": "stdout"
        }
      ]
    },
    {
      "cell_type": "code",
      "metadata": {
        "colab": {
          "base_uri": "https://localhost:8080/"
        },
        "id": "Niy7DsqzrMFE",
        "outputId": "bfe88296-18f0-4131-92da-dab5ac69226a"
      },
      "source": [
        "# Fitur .difference()\r\n",
        "parcel_C = parcel_A.difference(parcel_B)\r\n",
        "print(parcel_C)"
      ],
      "execution_count": 52,
      "outputs": [
        {
          "output_type": "stream",
          "text": [
            "{'Kiwi', 'Melon', 'Anggur'}\n"
          ],
          "name": "stdout"
        }
      ]
    },
    {
      "cell_type": "code",
      "metadata": {
        "colab": {
          "base_uri": "https://localhost:8080/"
        },
        "id": "irXkSnzrrTp_",
        "outputId": "9082030c-c69a-4b3e-a0ef-98e8d04d919d"
      },
      "source": [
        "# Fitur .symmetric_difference()\r\n",
        "parcel_A = {'Anggur', 'Apel', 'Jeruk', 'Melon'}\r\n",
        "parcel_B = {'Apel','Jeruk','Semangka','Leci'}\r\n",
        "parcel_C = parcel_A.symmetric_difference(parcel_B)\r\n",
        "print(parcel_C)"
      ],
      "execution_count": 53,
      "outputs": [
        {
          "output_type": "stream",
          "text": [
            "{'Anggur', 'Leci', 'Semangka', 'Melon'}\n"
          ],
          "name": "stdout"
        }
      ]
    },
    {
      "cell_type": "markdown",
      "metadata": {
        "id": "AbKbaEIYsE7J"
      },
      "source": [
        "### Dictonary Manipulation\r\n",
        "* .clear() : Menghapus seluruh elemen dalam sebuah dictionary\r\n",
        "* .copy() : Mengembalikan copy dari setiap elemen dalam set. Serupa dengan fitur copy() pada tipe data collections lainnya, fitur copy() tidak akan mengubah nilai dari elemen asal seperti fungsi assignment\r\n",
        "* .keys() : Mengembalikan list dari seluruh kunci akses (\"key\") dari setiap elemen dalam sebuah dictionary\r\n",
        "* .values() : Mengembalikan list dari seluruh nilai (\"value\") dari setiap elemen dalam sebuah dictionary\r\n",
        "* .update() : Menambahkan kunci akses (\"key\") dan nilai baru (\"value\") ke dalam sebuah dictionary"
      ]
    },
    {
      "cell_type": "code",
      "metadata": {
        "colab": {
          "base_uri": "https://localhost:8080/"
        },
        "id": "ROKAy1uQrdE2",
        "outputId": "c190b878-a905-4c70-8215-7d67dc692b24"
      },
      "source": [
        "# Fitur .clear()\r\n",
        "info_karyawan = {'nama' : 'Aksara',\r\n",
        "                 'nik' : '1211011',\r\n",
        "                 'pekerjaan' : 'Data Analyst'}\r\n",
        "info_karyawan.clear()\r\n",
        "print(info_karyawan)"
      ],
      "execution_count": 54,
      "outputs": [
        {
          "output_type": "stream",
          "text": [
            "{}\n"
          ],
          "name": "stdout"
        }
      ]
    },
    {
      "cell_type": "code",
      "metadata": {
        "colab": {
          "base_uri": "https://localhost:8080/"
        },
        "id": "Y7e767RzvOOU",
        "outputId": "08d97a41-b0d4-4f05-babb-05d905968a68"
      },
      "source": [
        "# Fitur .copy()\r\n",
        "info_karyawan1 = {'nama' : 'Aksara',\r\n",
        "                  'nik' : '1211011',\r\n",
        "                  'pekerjaan' : 'Data Analyst'}\r\n",
        "info_karyawan2 = info_karyawan1.copy()\r\n",
        "info_karyawan2['nama'] = 'Senja'\r\n",
        "info_karyawan2['nik'] = '1211056'\r\n",
        "print(info_karyawan1)\r\n",
        "print(info_karyawan2)"
      ],
      "execution_count": 55,
      "outputs": [
        {
          "output_type": "stream",
          "text": [
            "{'nama': 'Aksara', 'nik': '1211011', 'pekerjaan': 'Data Analyst'}\n",
            "{'nama': 'Senja', 'nik': '1211056', 'pekerjaan': 'Data Analyst'}\n"
          ],
          "name": "stdout"
        }
      ]
    },
    {
      "cell_type": "code",
      "metadata": {
        "colab": {
          "base_uri": "https://localhost:8080/"
        },
        "id": "ztEMObNZvS2Q",
        "outputId": "3e9a4baf-f616-428e-915c-65b47bd9b1db"
      },
      "source": [
        "# Fitur .keys()\r\n",
        "info_karyawan = {'nama' : 'Aksara',\r\n",
        "                 'nik' : '1211011',\r\n",
        "                 'pekerjaan' : 'Data Analyst'}\r\n",
        "kunci_akses = list(info_karyawan.keys())\r\n",
        "print(kunci_akses)"
      ],
      "execution_count": 56,
      "outputs": [
        {
          "output_type": "stream",
          "text": [
            "['nama', 'nik', 'pekerjaan']\n"
          ],
          "name": "stdout"
        }
      ]
    },
    {
      "cell_type": "code",
      "metadata": {
        "colab": {
          "base_uri": "https://localhost:8080/"
        },
        "id": "x7FJR_aVvWax",
        "outputId": "3c3f1a2e-5ce4-4886-f70d-537b459f6553"
      },
      "source": [
        "# Fitur .values()\r\n",
        "value_dict = list(info_karyawan.values())\r\n",
        "print(value_dict)"
      ],
      "execution_count": 57,
      "outputs": [
        {
          "output_type": "stream",
          "text": [
            "['Aksara', '1211011', 'Data Analyst']\n"
          ],
          "name": "stdout"
        }
      ]
    },
    {
      "cell_type": "code",
      "metadata": {
        "colab": {
          "base_uri": "https://localhost:8080/"
        },
        "id": "aIMoORjSvZnV",
        "outputId": "1ab189aa-fd11-4112-be22-c37979bace10"
      },
      "source": [
        "# Fitur .update()\r\n",
        "info_karyawan.update({'skillset':['Python', 'R']})\r\n",
        "print(info_karyawan)"
      ],
      "execution_count": 71,
      "outputs": [
        {
          "output_type": "stream",
          "text": [
            "{'nama': 'Aksara', 'nik': '1211011', 'pekerjaan': 'Data Analyst', 'skillset': ['Python', 'R']}\n"
          ],
          "name": "stdout"
        }
      ]
    },
    {
      "cell_type": "code",
      "metadata": {
        "id": "9itm6XMo1het"
      },
      "source": [
        ""
      ],
      "execution_count": null,
      "outputs": []
    }
  ]
}