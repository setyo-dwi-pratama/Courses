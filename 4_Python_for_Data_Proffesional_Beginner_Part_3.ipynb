{
  "nbformat": 4,
  "nbformat_minor": 0,
  "metadata": {
    "colab": {
      "name": "4_Python for Data Proffesional Beginner_Part_3.ipynb",
      "provenance": [],
      "authorship_tag": "ABX9TyPi7vRP0AhNRX5an/b9qIaL",
      "include_colab_link": true
    },
    "kernelspec": {
      "name": "python3",
      "display_name": "Python 3"
    },
    "accelerator": "GPU"
  },
  "cells": [
    {
      "cell_type": "markdown",
      "metadata": {
        "id": "view-in-github",
        "colab_type": "text"
      },
      "source": [
        "<a href=\"https://colab.research.google.com/github/setyo-dwi-pratama/Courses/blob/main/4_Python_for_Data_Proffesional_Beginner_Part_3.ipynb\" target=\"_parent\"><img src=\"https://colab.research.google.com/assets/colab-badge.svg\" alt=\"Open In Colab\"/></a>"
      ]
    },
    {
      "cell_type": "markdown",
      "metadata": {
        "id": "PdInk5PJwOgo"
      },
      "source": [
        "# **Python for Data Proffesional Beginner - Part 3**"
      ]
    },
    {
      "cell_type": "markdown",
      "metadata": {
        "id": "deTHkw_HwjUF"
      },
      "source": [
        "## Pengantar Object Oriented Programming"
      ]
    },
    {
      "cell_type": "markdown",
      "metadata": {
        "id": "C4x2VAyCxMLu"
      },
      "source": [
        "Pembelajaran modul ketiga berisi \r\n",
        "\r\n",
        "“Pengantar Object Oriented Programming” \r\n",
        "\r\n",
        "“Classes & Objects” \r\n",
        "\r\n",
        "“Encapsulation”\r\n",
        "\r\n",
        "“Polymorphism”"
      ]
    },
    {
      "cell_type": "markdown",
      "metadata": {
        "id": "0bYQHVguxoBL"
      },
      "source": [
        "### Apa itu Object Oriented Programming?\r\n",
        "\r\n",
        "Pemrograman Berbasis Objek (Object Oriented Programming - OOP) merupakan salah satu paradigma pemrograman yang cukup populer di antara paradigma-paradigma lainnya.\r\n",
        "\r\n",
        "Pada paradigma OOP, struktur dari sebuah program dikemas ke dalam sebuah objek yang memiliki serangkaian properti (properties) dan fungsi (behaviours). Sebagai contoh, dapat merepresentasikan seorang karyawan ke dalam sebuah program melalui konsep OOP.\r\n",
        "\r\n",
        "Seorang karyawan dapat memiliki serangkaian properti seperti nama, usia, keahlian, dll. Kemudian, seorang karyawan juga dapat memiliki fungsi-fungsi seperti hadir ke kantor, absen, lembur, tugas dinas, dll."
      ]
    },
    {
      "cell_type": "markdown",
      "metadata": {
        "id": "ukJPW6BByByK"
      },
      "source": [
        "### Konsep dalam Object Oriented Programming\r\n",
        "\r\n",
        "Sebagai salah satu bahasa pemrograman yang bersifat multi-purposive, Python juga mendukung paradigma Object Oriented (OO).\r\n",
        "\r\n",
        "Konsep OOP pada Python memiliki tujuan untuk menciptakan potongan-potongan kode yang bersifat reusable dan tidak redundan. Konsep ini dikenal dengan istilah konsep DRY - Don’t Repeat Yourself (berlawanan dengan konsep WET - Write Everything Twice).\r\n",
        "\r\n",
        "Dalam bahasa pemrograman Python, terdapat 3 konsep utama OOP yaitu.\r\n",
        "\r\n",
        "* Encapsulation: Menyembunyikan sebagian detail yang dimiliki oleh sebuah objek terhadap objek-objek lainnya.\r\n",
        "* Inheritance: Menurunkan serangkaian fungsi-fungsi yang dimiliki oleh sebuah objek ke sebuah objek baru tanpa mengubah makna dari objek acuan yang digunakan.\r\n",
        "* Polymorphism: Konsep untuk menggunakan fungsi-fungsi dengan nama/ tujuan yang sama dengan cara yang berbeda."
      ]
    },
    {
      "cell_type": "markdown",
      "metadata": {
        "id": "VaAx47AMy5hJ"
      },
      "source": [
        "## Class dan Object"
      ]
    },
    {
      "cell_type": "markdown",
      "metadata": {
        "id": "Z4lMDCi3y9bq"
      },
      "source": [
        "### Class dan Objek dalam Python - Part 1\r\n",
        "\r\n",
        "Setiap objek yang direpresentasikan dalam program berbasis OOP merupakan instansi/ bentuk nyata dari sebuah konsep yang disebut dengan class. Oleh karena itu, class dapat juga disebutkan sebagai kerangka utama (blueprint) dari objek. Untuk mempermudah pemahaman konsep OO, kita menggunakan contoh berikut:\r\n",
        "\r\n",
        "Asumsikan, kita ingin merepresentasikan Diriku dan Senja sebagai karyawan di suatu perusahaan X. Untuk merepresentasikan Diriku dan Senja, kita dapat membuat sebuah class yang nantinya akan mencakup properti-properti yang umumnya dimiliki oleh sebuah karyawan.\r\n",
        "\r\n",
        "Pada bahasa Python kita dapat membuat sebuah class dengan menggunakan syntax berikut."
      ]
    },
    {
      "cell_type": "code",
      "metadata": {
        "id": "3c8L_d4dwgp0"
      },
      "source": [
        "class karyawan:\r\n",
        "  pass"
      ],
      "execution_count": 2,
      "outputs": []
    },
    {
      "cell_type": "markdown",
      "metadata": {
        "id": "SDSPCRanz9a5"
      },
      "source": [
        "Kemudian, dari class yang telah di definisikan, kita dapat menciptakan objek (Diriku dan Senja) dari sebuah class dengan menggunakan Syntax berikut."
      ]
    },
    {
      "cell_type": "code",
      "metadata": {
        "id": "sVaAygqMz0Wg"
      },
      "source": [
        "aksara = karyawan()\r\n",
        "senja = karyawan()"
      ],
      "execution_count": 3,
      "outputs": []
    },
    {
      "cell_type": "markdown",
      "metadata": {
        "id": "pqjd6HnB0VBJ"
      },
      "source": [
        "Pada contoh di atas, Aku dan senja merupakan realisasi (objek) dari class Karyawan yang sebelumnya telah aku buat. Dari potongan kode ini, aksara dan senja adalah dua objek yang berbeda."
      ]
    },
    {
      "cell_type": "markdown",
      "metadata": {
        "id": "2Ib-ubGy0iOd"
      },
      "source": [
        "### Class dan Objek dalam Python - Part 2\r\n",
        "Pada bagian pertama, aku telah berhasil membuat sebuah class dan objek-objek sebagai bentuk realisasi dari sebuah class. Akan tetapi, class yang telah aku definisikan belum memiliki atribut ataupun fungsi-fungsi yang dapat merepresentasikan objek Karyawan dengan baik.\r\n",
        "\r\n",
        "Agar dapat membuat class Karyawan dengan baik, pertama, aku akan mempelajari cara merepresentasikan atribut/properti dalam sebuah class.  Dalam sebuah class, aku dapat mendefinisikan dua jenis atribut yaitu.\r\n",
        "\r\n",
        "* Class Attribute adalah properti/atribut yang bernilai sama untuk oleh seluruh objek dari sebuah\r\n",
        "* Instance Attribute adalah properti/atribut yang nilainya berbeda-beda untuk setiap objek dari sebuah class."
      ]
    },
    {
      "cell_type": "markdown",
      "metadata": {
        "id": "GSG7EcEC1aoS"
      },
      "source": [
        "### Class dan Objek dalam Python - Part 3\r\n",
        "\r\n",
        "Berkaitan dengan kedua jenis atribut yang telah aku pelajari, aku menggunakan contoh berikut untuk memperkuat pemahaman terkait dengan konsep class attribute.\r\n",
        "\r\n",
        "class Karyawan pada umumnya memiliki beberapa atribut seperti nama, usia, pendapatan serta nama perusahaan di mana karyawan tersebut bekerja. Untuk merepresentasikan diriku dan Senja sebagai karyawan yang bekerja di sebuah perusahaan yang sama (anggap saja perusahan ABC), aku dapat merepresentasikan dengan menggunakan konsep class attribute"
      ]
    },
    {
      "cell_type": "code",
      "metadata": {
        "id": "ZemJlnH40LwS"
      },
      "source": [
        "# Definisikan class Karyawan\r\n",
        "class karyawan:\r\n",
        "  nama_perusahan = 'ABC'\r\n",
        "# Inisiasi object yang dinyatakan dalam variabel aksara dan senja\r\n",
        "aksara = karyawan()\r\n",
        "senja = karyawan()"
      ],
      "execution_count": 14,
      "outputs": []
    },
    {
      "cell_type": "markdown",
      "metadata": {
        "id": "nDy0tFzq12FI"
      },
      "source": [
        "Menggunakan potongan kode di atas, nama_perusahaan sebagai class attribute dapat kita akses dengan menggunakan syntax:"
      ]
    },
    {
      "cell_type": "code",
      "metadata": {
        "colab": {
          "base_uri": "https://localhost:8080/"
        },
        "id": "BHkwYvox1zBd",
        "outputId": "7cbd1e35-6a22-44e8-d379-90c2ec4bb948"
      },
      "source": [
        "class karyawan:\r\n",
        "  nama_perusahan = 'ABC'\r\n",
        "aksara = karyawan()\r\n",
        "senja = karyawan()\r\n",
        "# Cetak nama perusahaan melalui penggunaan keyword __class__\r\n",
        "# pada class attribute nama_perusahaan\r\n",
        "print(aksara.__class__.nama_perusahan)"
      ],
      "execution_count": 15,
      "outputs": [
        {
          "output_type": "stream",
          "text": [
            "ABC\n"
          ],
          "name": "stdout"
        }
      ]
    },
    {
      "cell_type": "markdown",
      "metadata": {
        "id": "puuU6DCG2Jpr"
      },
      "source": [
        "Kemudian, sesuai dengan konsep yang telah aku pelajari sebelumnya, saat aku mengubah nilai atribut yang merupakan sebuah class attribute, nilai dari atribut akan berubah untuk seluruh objek.\r\n",
        "\r\n",
        "Saat perusahaan berubah nama, misalkan nama perusahaan berubah dari 'ABC' ke 'DEF', dikarenakan atribut nama_perusahaan merupakan sebuah class attribute, aku hanya cukup mengganti nama_perusahaan pada salah satu objek saja (tidak perlu mengganti nama_perusahaan milik seluruh objek). Contohnya:"
      ]
    },
    {
      "cell_type": "code",
      "metadata": {
        "colab": {
          "base_uri": "https://localhost:8080/"
        },
        "id": "EiG0Z-sW2FwD",
        "outputId": "e1f9b434-f3d4-4d6b-f723-85cb557d980b"
      },
      "source": [
        "class karyawan:\r\n",
        "  nama_perusahan = 'ABC'\r\n",
        "aksara = karyawan()\r\n",
        "senja = karyawan()\r\n",
        "# Ubah nama_perusahaan menjadi 'DEF'\r\n",
        "aksara.__class__.nama_perusahan = 'DEF'\r\n",
        "\r\n",
        "print(aksara.__class__.nama_perusahan)\r\n"
      ],
      "execution_count": 18,
      "outputs": [
        {
          "output_type": "stream",
          "text": [
            "DEF\n"
          ],
          "name": "stdout"
        }
      ]
    },
    {
      "cell_type": "markdown",
      "metadata": {
        "id": "-HibeqV72kGo"
      },
      "source": [
        "Dengan merubah nama perusahaan, maka nama perusahaan milik objek Senja juga secara otomatis berubah menjadi DEF"
      ]
    },
    {
      "cell_type": "code",
      "metadata": {
        "colab": {
          "base_uri": "https://localhost:8080/"
        },
        "id": "fT8VT_uj3c1c",
        "outputId": "cde1445f-8056-4c9a-ab85-f7240cd82547"
      },
      "source": [
        "class karyawan:\r\n",
        "  nama_perusahan = 'ABC'\r\n",
        "aksara = karyawan()\r\n",
        "senja = karyawan()\r\n",
        "# Ubah nama_perusahaan menjadi 'DEF'\r\n",
        "aksara.__class__.nama_perusahan = 'DEF'\r\n",
        "\r\n",
        "print(senja.__class__.nama_perusahan)"
      ],
      "execution_count": 19,
      "outputs": [
        {
          "output_type": "stream",
          "text": [
            "DEF\n"
          ],
          "name": "stdout"
        }
      ]
    },
    {
      "cell_type": "markdown",
      "metadata": {
        "id": "E4UiZXzi4fLu"
      },
      "source": [
        "### Class dan Objek dalam Python - Part 4\r\n",
        "Pada bagian sebelumnya aku telah mempelajari contoh deklarasi class Karyawan; nama, usia dan pendapatan karyawan adalah contoh dari konsep instance attribute. Hal ini dikarenakan setiap karyawan tentunya dapat memiliki nama, usia dan pendapatan yang berbeda."
      ]
    },
    {
      "cell_type": "markdown",
      "metadata": {
        "id": "X2WgnjDy4wdf"
      },
      "source": [
        "Tugas:\r\n",
        "\r\n",
        "Untuk merepresentasikan instance attribute milik Aksara, aku mengetik potongan kode berikut pada live code editor:"
      ]
    },
    {
      "cell_type": "code",
      "metadata": {
        "colab": {
          "base_uri": "https://localhost:8080/"
        },
        "id": "4CKtKX0S4OBD",
        "outputId": "985598c2-e1f8-4410-9c9f-a638fc0838bc"
      },
      "source": [
        "# Definisikan class Karyawan\r\n",
        "class karyawan:\r\n",
        "    nama_perusahaan = 'ABC'\r\n",
        "    def __init__(self, nama, usia, pendapatan):\r\n",
        "        self.nama = nama\r\n",
        "        self.usia = usia\r\n",
        "        self.pendapatan = pendapatan\r\n",
        "# Buat object bernama aksara dan senja\r\n",
        "aksara = karyawan('Aksara', 25, 8500000)\r\n",
        "senja = karyawan('Senja', 28, 12500000)\r\n",
        "# Cetak objek bernama aksara\r\n",
        "print(aksara.nama + ', Usia: ' + str(aksara.usia) + ', Pendapatan ' + str(aksara.pendapatan))"
      ],
      "execution_count": 20,
      "outputs": [
        {
          "output_type": "stream",
          "text": [
            "Aksara, Usia: 25, Pendapatan 8500000\n"
          ],
          "name": "stdout"
        }
      ]
    },
    {
      "cell_type": "markdown",
      "metadata": {
        "id": "7UiIdGAX5coi"
      },
      "source": [
        "Selanjutnya, untuk merepresentasikan instance attribute milik Senja, aku mengetik potongan kode berikut pada live code editor:"
      ]
    },
    {
      "cell_type": "code",
      "metadata": {
        "colab": {
          "base_uri": "https://localhost:8080/"
        },
        "id": "QXflAQ6F5vw_",
        "outputId": "78500280-9bad-4a25-84e9-f13f07e376da"
      },
      "source": [
        "# Definisikan class Karyawan\r\n",
        "class karyawan:\r\n",
        "    nama_perusahaan = 'ABC'\r\n",
        "    def __init__(self, nama, usia, pendapatan):\r\n",
        "        self.nama = nama\r\n",
        "        self.usia = usia\r\n",
        "        self.pendapatan = pendapatan\r\n",
        "# Buat object bernama aksara dan senja\r\n",
        "aksara = karyawan('Aksara', 25, 8500000)\r\n",
        "senja = karyawan('Senja', 28, 12500000)\r\n",
        "# Cetak objek bernama aksara\r\n",
        "print(senja.nama + ', Usia: ' + str(senja.usia) + ', Pendapatan ' + str(senja.pendapatan))"
      ],
      "execution_count": 22,
      "outputs": [
        {
          "output_type": "stream",
          "text": [
            "Senja, Usia: 28, Pendapatan 12500000\n"
          ],
          "name": "stdout"
        }
      ]
    },
    {
      "cell_type": "markdown",
      "metadata": {
        "id": "5tqdrf4R6Fi-"
      },
      "source": [
        "Penjelasan:\r\n",
        "\r\n",
        "Dari potongan kode di atas, atribut nama, usia dan pendapatan merupakan contoh dari instance variabel. Sebagai tambahan, fungsi __init__() di dalam class Karyawan secara khusus disebut sebagai constructor. Melalui sebuah constructor, aku dapat meng-assign (menginisialisasi) atribut-atribut milik sebuah objek.\r\n",
        "\r\n",
        "Pada bahasa pemrograman Python, setiap fungsi (termasuk constructor) akan menerima dirinya sendiri (self) sebagai parameter pertama dari fungsi. Kemudian, aku dapat menambahkan parameter-parameter lain setelah parameter self sesuai dengan kebutuhan. Seperti pada contoh di atas, saat objek dibuat (diinisialisasi), aku dapat melemparkan nama, usia dan pendapatan melalui syntax,\r\n",
        "\r\n",
        "Terakhir, aku belajar bahwa objek aksara dan senja diizinkan untuk memiliki nama, usia dan pendapatan yang berbeda. Untuk mengakses instance attribute dalam sebuah class, aku perlu menuliskan sintaks self diikuti dengan tanda titik (.) sebelum nama atribut."
      ]
    },
    {
      "cell_type": "markdown",
      "metadata": {
        "id": "vhDVlGFb7IMi"
      },
      "source": [
        "### QUIZ"
      ]
    },
    {
      "cell_type": "code",
      "metadata": {
        "colab": {
          "base_uri": "https://localhost:8080/"
        },
        "id": "abLsp2Pg6BF8",
        "outputId": "2469a9f9-67e7-44d3-a878-f0d6e6315078"
      },
      "source": [
        "class Karyawan: \r\n",
        "    nama_perusahaan = 'ABC'\r\n",
        "    def __init__(self, nama, usia, pendapatan):\r\n",
        "        self.nama = nama\r\n",
        "        self.usia = usia\r\n",
        "        self.pendapatan = pendapatan\r\n",
        "        if usia > 30:\r\n",
        "            self.pendapatan += 1500000\r\n",
        "\r\n",
        "karyawan_1 = Karyawan('Budi', 35, 7500000)\r\n",
        "karyawan_2 = Karyawan('Didi', 30, 8000000)\r\n",
        "\r\n",
        "total_pengeluaran = karyawan_1.pendapatan + karyawan_2.pendapatan \r\n",
        "print(total_pengeluaran)"
      ],
      "execution_count": 24,
      "outputs": [
        {
          "output_type": "stream",
          "text": [
            "17000000\n"
          ],
          "name": "stdout"
        }
      ]
    },
    {
      "cell_type": "code",
      "metadata": {
        "colab": {
          "base_uri": "https://localhost:8080/"
        },
        "id": "AoND-IH07Fy1",
        "outputId": "763e66f9-1f9f-4f1e-e2c2-33e5130ea860"
      },
      "source": [
        "class Karyawan:\r\n",
        "    nama_perusahaan = 'ABC'\r\n",
        "    tunjangan_transportasi = 500000\r\n",
        "    def __init__(self, nama, usia, pendapatan):\r\n",
        "        self.nama = nama\r\n",
        "        self.usia = usia\r\n",
        "        self.pendapatan = pendapatan\r\n",
        "\r\n",
        "karyawan_1 = Karyawan('Budi', 35, 5000000)\r\n",
        "karyawan_2 = Karyawan('Didi', 30, 5000000)\r\n",
        "karyawan_1.__class__.nama_perusahaan = 1000000\r\n",
        "\r\n",
        "total_pengeluaran = karyawan_1.__class__.tunjangan_transportasi\r\n",
        "total_pengeluaran += karyawan_2. __class__.tunjangan_transportasi\r\n",
        "total_pengeluaran += karyawan_1.pendapatan\r\n",
        "total_pengeluaran += karyawan_2.pendapatan\r\n",
        "print(total_pengeluaran)"
      ],
      "execution_count": 25,
      "outputs": [
        {
          "output_type": "stream",
          "text": [
            "11000000\n"
          ],
          "name": "stdout"
        }
      ]
    },
    {
      "cell_type": "markdown",
      "metadata": {
        "id": "KTpMxJ4R7b4M"
      },
      "source": [
        "### Behavior pada Class\r\n",
        "\r\n",
        "Selain dapat mendefinisikan atribut, dalam sebuah class, aku diperbolehkan untuk mendefinisikan fungsi-fungsi (behavior) dari sebuah class.\r\n",
        "\r\n",
        "Dari potongan kode yang telah aku gunakan, aku dapat menambahkan fungsi-fungsi berkaitan dengan class Karyawan. Sebagai contoh, seorang karyawan tentunya mungkin saja memiliki pendapatan tambahan berdasarkan banyaknya kerja lembur dan jumlah proyek yang telah diselesaikan."
      ]
    },
    {
      "cell_type": "markdown",
      "metadata": {
        "id": "G-X9zdKa7nmu"
      },
      "source": [
        "Tugas:\r\n",
        "\r\n",
        "Untuk menghitung pendapatan tambahan dari jumlah kerja lembur  dan jumlah proyek yang diselesaikan oleh seorang karyawan dan mengakses pendapatan total dari seorang karyawan, aku dapat menuliskan potongan kode berikut."
      ]
    },
    {
      "cell_type": "code",
      "metadata": {
        "colab": {
          "base_uri": "https://localhost:8080/"
        },
        "id": "2xW7d8Yc9CBv",
        "outputId": "1fb1fb9b-a3e8-4feb-9d3c-a5dec8a7ea0c"
      },
      "source": [
        "# Definisikan class Karyawan berikut dengan attribut dan fungsinya\r\n",
        "class Karyawan:\r\n",
        "    nama_perusahaan = 'ABC'\r\n",
        "    insentif_lembur = 250000\r\n",
        "    def __init__(self, nama, usia, pendapatan):\r\n",
        "        self.nama = nama\r\n",
        "        self.usia = usia\r\n",
        "        self.pendapatan = pendapatan\r\n",
        "        self.pendapatan_tambahan = 0\r\n",
        "    def lembur(self):\r\n",
        "        self.pendapatan_tambahan += self.insentif_lembur\r\n",
        "    def tambahan_proyek(self, insentif_proyek):\r\n",
        "    \tself.pendapatan_tambahan += insentif_proyek\r\n",
        "    def total_pendapatan(self):\r\n",
        "    \treturn self.pendapatan + self.pendapatan_tambahan\r\n",
        "# Buat object dari karwayan bernama Aksara dan Senja\r\n",
        "aksara = Karyawan('Aksara', 25, 8500000)\r\n",
        "senja = Karyawan('Senja', 28, 12500000)\r\n",
        "# Aksara melaksanakan lembur\r\n",
        "aksara.lembur()\r\n",
        "# Senja memiliki proyek tambahan\r\n",
        "senja.tambahan_proyek(2500000)\r\n",
        "# Cetak pendapatan total Aksara dan Senja\r\n",
        "print('Pendapatan Total Aksara: ' + str(aksara.total_pendapatan()))\r\n",
        "print('Pendapatan Total Senja: ' +str(senja.total_pendapatan()))"
      ],
      "execution_count": 34,
      "outputs": [
        {
          "output_type": "stream",
          "text": [
            "Pendapatan Total Aksara: 8750000\n",
            "Pendapatan Total Senja: 15000000\n"
          ],
          "name": "stdout"
        }
      ]
    },
    {
      "cell_type": "markdown",
      "metadata": {
        "id": "H5RuXXkX8JjM"
      },
      "source": [
        "Layaknya proses pendefinisian fungsi pada Python, fungsi-fungsi dalam sebuah class juga dapat memiliki parameter (seperti fungsi tambahan_proyek dalam contoh) ataupun mengembalikan sebuah nilai (seperti fungsi total_pendapatan dalam contoh)."
      ]
    },
    {
      "cell_type": "markdown",
      "metadata": {
        "id": "ssDqMybEAaxl"
      },
      "source": [
        "### Tugas Praktek\r\n",
        "Seperti biasa, aku selalu pusing setiap usai membaca teori data. “Gimana, Aksara?” tanya Senja tanpa memalingkan perhatian dari laptop.\r\n",
        "\r\n",
        "“Kayaknya butuh praktik deh,” sahutku.\r\n",
        "\r\n",
        "“Oke, ini coba kamu bikin sistem manajemen perusahaan sederhana pakai Object Oriented (OO) ya. Artinya dalam program ini kamu harus mampu memuat informasi nama, alamat, nomor telepon, dan daftar karyawan yang bekerja. Satu lagi, jangan lupa masukkan fungsi untuk mengaktifkan dan menonaktifkan karyawan.”\r\n",
        "\r\n",
        "“Siap. Ini aku masukkan informasi class karyawan juga kali yah?” tanyaku sembari bersiap-siap memasukkan kode dan mendaftar informasi karyawan secara lebih rapi, mulai dari nama, usia, pendapatan tetap, tambahan, dan insentif lembur.\r\n",
        "\r\n",
        "“Bagus juga itu. Bikin saja pendapatan mula-mula karyawannya bernilai 0, lalu bisa bertambah oleh fungsi lembur dan fungsi tambahan proyek sebagai parameter dan variabel pendapatan tambahan karyawan.”\r\n",
        "\r\n",
        "Aku mengangguk dan siap bertempur. Terakhir aku menyelipkan fungsi untuk menghitung total pendapatan. Ini paling penting, hehehe.\r\n",
        "\r\n",
        "Tugas:\r\n",
        "Lengkapi class Karyawan dan class Perusahaan menggunakan potongan kode pada Live Code Editor."
      ]
    },
    {
      "cell_type": "code",
      "metadata": {
        "id": "0E4DUo4g8TFx"
      },
      "source": [
        "# Definisikan class Karyawan\r\n",
        "class Karyawan:\r\n",
        "  def __init__(self, nama, usia, pendapatan, insentif_lembur):\r\n",
        "    self.nama = nama\r\n",
        "    self.usia = usia\r\n",
        "    self.pendapatan = pendapatan\r\n",
        "    self.pendapatan_tambahan = 0\r\n",
        "    self.insentif_lembur = insentif_lembur\r\n",
        "  def lembur(self):\r\n",
        "    self.pendapatan_tambahan += self.insentif_lembur\r\n",
        "  def tambahan_proyek(self, jumlah_tambahan):\r\n",
        "    self.pendapatan_tambahan += jumlah_tambahan\r\n",
        "  def total_pendapatan(self):\r\n",
        "    return self.pendapatan + self.pendapatan_tambahan\r\n",
        "# Definisikan class Perusahaan\r\n",
        "class Perusahaan:\r\n",
        "  def __init__(self, nama, alamat, nomor_telepon):\r\n",
        "    self.nama = nama\r\n",
        "    self.alamat = alamat\r\n",
        "    self.nomor_telepon = nomor_telepon\r\n",
        "    self.list_karyawan = []\r\n",
        "  def aktifkan_karyawan(self, karyawan):\r\n",
        "    self.list_karyawan.append(karyawan)\r\n",
        "  def nonaktifkan_karyawan(self, nama_karyawan):\r\n",
        "    karyawan_nonaktif = None\r\n",
        "    for karyawan in self.list_karyawan:\r\n",
        "      if karyawan.nama == nama_karyawan:\r\n",
        "        karyawan_nonaktif = karyawan\r\n",
        "        break\r\n",
        "    if karyawan_nonaktif is not None:\r\n",
        "      self.list_karyawan.remove(karyawan_nonaktif)"
      ],
      "execution_count": 37,
      "outputs": []
    },
    {
      "cell_type": "code",
      "metadata": {
        "id": "TvWXdzBRAgt-"
      },
      "source": [
        "# Definisikan perusahaan\r\n",
        "perusahaan = Perusahaan('ABC', 'Jl. Jendral Sudirman, Blok 11', '(021) 95205XX')\r\n",
        "# Definisikan nama-nama karyawan\r\n",
        "karyawan_1 = Karyawan('Ani', 25, 8500000, 100000)\r\n",
        "karyawan_2 = Karyawan('Budi', 28, 12000000, 150000)\r\n",
        "karyawan_3 = Karyawan('Cici', 30, 15000000, 200000)\r\n",
        "# Aktifkan karyawan di perusahaan ABC\r\n",
        "perusahaan.aktifkan_karyawan(karyawan_1)\r\n",
        "perusahaan.aktifkan_karyawan(karyawan_2)\r\n",
        "perusahaan.aktifkan_karyawan(karyawan_3)"
      ],
      "execution_count": 38,
      "outputs": []
    },
    {
      "cell_type": "markdown",
      "metadata": {
        "id": "mj3Z0JfeCRoc"
      },
      "source": [
        "## Encapsulation & Inheritance"
      ]
    },
    {
      "cell_type": "markdown",
      "metadata": {
        "id": "u0B6eB4tCbvx"
      },
      "source": [
        "### Encapsulation pada Python - Part 1\r\n",
        "\r\n",
        "Enkapsulasi (Encapsulation) adalah sebuah teknik dalam OOP yang mengizinkan untuk menyembunyikan detil dari sebuah atribut dalam sebuah class. Pada contoh-contoh sebelumnya, setiap atribut dan fungsi yang telah di definisikan belum menggunakan konsep enkapsulasi, yang mengartikan bahwa setiap atribut dan fungsi dapat diakses di luar class."
      ]
    },
    {
      "cell_type": "markdown",
      "metadata": {
        "id": "mEjok0VkDCFl"
      },
      "source": [
        "### Encapsulation pada Python - Part 2\r\n",
        "Pada contoh di atas, terlihat bahwa atribut nama pada setiap objek dapat diakses secara bebas di luar scope dari sebuah class. Agar suatu properti ataupun fungsi dari sebuah class tidak dapat diakses secara bebas di luar scope milik suatu class, aku dapat mendefinisikan access modifier (level akses) saat sebuah atribut/fungsi didefinisikan.\r\n",
        "\r\n",
        "Terdapat 2 macam access modifier dalam Python, yakni.\r\n",
        "\r\n",
        "* Public access: dapat aku definisikan dengan secara langsung menuliskan nama dari atribut/ fungsi. Dalam sebuah objek, atribut/fungsi yang bersifat public access dapat diakses di luar scope sebuah class\r\n",
        "* Private access: dapat aku definisikan dengan menambahkan double underscore (__) sebelum menuliskan nama dari atribut/fungsi. Dalam sebuah objek, atribut/fungsi yang bersifat private access hanya dapat diakses di dalam scope sebuah class."
      ]
    },
    {
      "cell_type": "markdown",
      "metadata": {
        "id": "Of8GmQqmD8Ko"
      },
      "source": [
        "Tugas:\r\n",
        "\r\n",
        "Untuk memperkuat pemahamanku terkait konsep enkapsulasi dalam paradigma OO, aku menggunakan contoh syntax dan mengetiknya pada live code editor:"
      ]
    },
    {
      "cell_type": "code",
      "metadata": {
        "id": "lcCa4y9oBvGZ"
      },
      "source": [
        "# Definisikan class Karyawan\r\n",
        "class Karyawan: \r\n",
        "    nama_perusahaan = 'ABC' \r\n",
        "    __insentif_lembur = 250000\r\n",
        "    def __init__(self, nama, usia, pendapatan): \r\n",
        "        self.__nama = nama\r\n",
        "        self.__usia = usia \r\n",
        "        self.__pendapatan = pendapatan \r\n",
        "        self.__pendapatan_tambahan = 0\r\n",
        "    def lembur(self):\r\n",
        "        self.__pendapatan_tambahan += self.__insentif_lembur \r\n",
        "    def tambahan_proyek(self, insentif_proyek):\r\n",
        "        self.__pendapatan_tambahan +=insentif_proyek \r\n",
        "    def total_pendapatan(self):\r\n",
        "        return self.__pendapatan + self.__pendapatan_tambahan\r\n",
        "# Buat objek karyawan bernama Aksara\r\n",
        "aksara = Karyawan('Aksara', 25, 8500000)"
      ],
      "execution_count": 39,
      "outputs": []
    },
    {
      "cell_type": "markdown",
      "metadata": {
        "id": "4Nx4LIo8EEk0"
      },
      "source": [
        "Pada potongan kode di atas, atribut nama_perusahaan bersifat public yang mengartikan bahwa aku dapat mengakses atribut ini di luar scope class Karyawan."
      ]
    },
    {
      "cell_type": "code",
      "metadata": {
        "colab": {
          "base_uri": "https://localhost:8080/"
        },
        "id": "tCjx4kkFECJz",
        "outputId": "e44021a7-26d9-488e-ad1e-dc8af81e1a40"
      },
      "source": [
        "# Akses ke attribute class Karyawan\r\n",
        "print(aksara.__class__.nama_perusahaan)"
      ],
      "execution_count": 40,
      "outputs": [
        {
          "output_type": "stream",
          "text": [
            "ABC\n"
          ],
          "name": "stdout"
        }
      ]
    },
    {
      "cell_type": "markdown",
      "metadata": {
        "id": "E_svzoo8EQWv"
      },
      "source": [
        "tidak akan menyebabkan error dan menghasilkan output: ABC"
      ]
    },
    {
      "cell_type": "markdown",
      "metadata": {
        "id": "PFHO3xXKETpB"
      },
      "source": [
        "Kemudian, atribut __nama, __usia, __pendapatan_tambahan, __insentif_lembur dan pendapatan bersifat private sehingga atribut ini hanya dapat diakses di dalam scope class Karyawan.\r\n",
        "\r\n",
        "Saat aku mencoba mengakses atribut-atribut ini di luar scope class Karyawan, Python akan mengembalikan error yang menyatakan bahwa class Karyawan tidak memiliki atribut tersebut. Sebagai contoh,"
      ]
    },
    {
      "cell_type": "code",
      "metadata": {
        "colab": {
          "base_uri": "https://localhost:8080/",
          "height": 185
        },
        "id": "ev6pDgcIENbH",
        "outputId": "07bd34b1-ad1b-4f5e-e073-d25a30864c86"
      },
      "source": [
        "# Akan menimbulkan error ketika di run\r\n",
        "print(aksara.__nama)"
      ],
      "execution_count": 41,
      "outputs": [
        {
          "output_type": "error",
          "ename": "AttributeError",
          "evalue": "ignored",
          "traceback": [
            "\u001b[0;31m---------------------------------------------------------------------------\u001b[0m",
            "\u001b[0;31mAttributeError\u001b[0m                            Traceback (most recent call last)",
            "\u001b[0;32m<ipython-input-41-0affa1880381>\u001b[0m in \u001b[0;36m<module>\u001b[0;34m()\u001b[0m\n\u001b[1;32m      1\u001b[0m \u001b[0;31m# Akan menimbulkan error ketika di run\u001b[0m\u001b[0;34m\u001b[0m\u001b[0;34m\u001b[0m\u001b[0;34m\u001b[0m\u001b[0m\n\u001b[0;32m----> 2\u001b[0;31m \u001b[0mprint\u001b[0m\u001b[0;34m(\u001b[0m\u001b[0maksara\u001b[0m\u001b[0;34m.\u001b[0m\u001b[0m__nama\u001b[0m\u001b[0;34m)\u001b[0m\u001b[0;34m\u001b[0m\u001b[0;34m\u001b[0m\u001b[0m\n\u001b[0m",
            "\u001b[0;31mAttributeError\u001b[0m: 'Karyawan' object has no attribute '__nama'"
          ]
        }
      ]
    },
    {
      "cell_type": "markdown",
      "metadata": {
        "id": "eGyNlAiaEmSI"
      },
      "source": [
        "### QUIZ"
      ]
    },
    {
      "cell_type": "code",
      "metadata": {
        "colab": {
          "base_uri": "https://localhost:8080/",
          "height": 238
        },
        "id": "MGxMZ5jsEbOG",
        "outputId": "396262a9-0ee2-4bbd-fbee-ddce9afdf5ad"
      },
      "source": [
        "class Karyawan:\r\n",
        "    nama_perusahaan = 'ABC'\r\n",
        "    __insentif_lembur = 250000\r\n",
        "    def __init__(self, nama, usia, pendapatan):\r\n",
        "        self.__nama = nama\r\n",
        "        self.__usia = usia\r\n",
        "        self.__pendapatan = pendapatan\r\n",
        "        self.__pendapatan_tambahan = 0\r\n",
        "    def lembur(self):\r\n",
        "        self.__pendapatan_tambahan += self.__insentif_lembur\r\n",
        "    def tambahan_proyek(self, insentif_proyek):\r\n",
        "        self.__pendapatan_tambahan += insentif_proyek\r\n",
        "    def total_pendapatan(self):\r\n",
        "        return self.__pendapatan + self.__pendapatan_tambahan\r\n",
        "\r\n",
        "aksara = Karyawan('Aksara', 25, 8500000)\r\n",
        "aksara.tambahan_proyek(aksara.__insentif_lembur)\r\n",
        "aksara.lembur()\r\n",
        "aksara.lembur() \r\n",
        "print(aksara.total_pendapatan())"
      ],
      "execution_count": 42,
      "outputs": [
        {
          "output_type": "error",
          "ename": "AttributeError",
          "evalue": "ignored",
          "traceback": [
            "\u001b[0;31m---------------------------------------------------------------------------\u001b[0m",
            "\u001b[0;31mAttributeError\u001b[0m                            Traceback (most recent call last)",
            "\u001b[0;32m<ipython-input-42-1b563901a66e>\u001b[0m in \u001b[0;36m<module>\u001b[0;34m()\u001b[0m\n\u001b[1;32m     15\u001b[0m \u001b[0;34m\u001b[0m\u001b[0m\n\u001b[1;32m     16\u001b[0m \u001b[0maksara\u001b[0m \u001b[0;34m=\u001b[0m \u001b[0mKaryawan\u001b[0m\u001b[0;34m(\u001b[0m\u001b[0;34m'Aksara'\u001b[0m\u001b[0;34m,\u001b[0m \u001b[0;36m25\u001b[0m\u001b[0;34m,\u001b[0m \u001b[0;36m8500000\u001b[0m\u001b[0;34m)\u001b[0m\u001b[0;34m\u001b[0m\u001b[0;34m\u001b[0m\u001b[0m\n\u001b[0;32m---> 17\u001b[0;31m \u001b[0maksara\u001b[0m\u001b[0;34m.\u001b[0m\u001b[0mtambahan_proyek\u001b[0m\u001b[0;34m(\u001b[0m\u001b[0maksara\u001b[0m\u001b[0;34m.\u001b[0m\u001b[0m__insentif_lembur\u001b[0m\u001b[0;34m)\u001b[0m\u001b[0;34m\u001b[0m\u001b[0;34m\u001b[0m\u001b[0m\n\u001b[0m\u001b[1;32m     18\u001b[0m \u001b[0maksara\u001b[0m\u001b[0;34m.\u001b[0m\u001b[0mlembur\u001b[0m\u001b[0;34m(\u001b[0m\u001b[0;34m)\u001b[0m\u001b[0;34m\u001b[0m\u001b[0;34m\u001b[0m\u001b[0m\n\u001b[1;32m     19\u001b[0m \u001b[0maksara\u001b[0m\u001b[0;34m.\u001b[0m\u001b[0mlembur\u001b[0m\u001b[0;34m(\u001b[0m\u001b[0;34m)\u001b[0m\u001b[0;34m\u001b[0m\u001b[0;34m\u001b[0m\u001b[0m\n",
            "\u001b[0;31mAttributeError\u001b[0m: 'Karyawan' object has no attribute '__insentif_lembur'"
          ]
        }
      ]
    },
    {
      "cell_type": "markdown",
      "metadata": {
        "id": "ZucNzC6REwiE"
      },
      "source": [
        "Akan menghasilkan error karena memanggil bersifat private"
      ]
    },
    {
      "cell_type": "code",
      "metadata": {
        "colab": {
          "base_uri": "https://localhost:8080/",
          "height": 363
        },
        "id": "2Wgn0NbkEnv3",
        "outputId": "067641ea-2fba-4d1a-8dd3-eb38dd2f3378"
      },
      "source": [
        "class Karyawan:\r\n",
        "    nama_perusahaan = 'ABC'\r\n",
        "    insentif_lembur = 250000\r\n",
        "    def __init__(self, nama, usia, pendapatan):\r\n",
        "        self.__nama = nama\r\n",
        "        self.__usia = usia\r\n",
        "        self.__pendapatan = pendapatan\r\n",
        "        self.__pendapatan_tambahan = 0\r\n",
        "    def lembur(self):\r\n",
        "        insentif_lembur = self.__insentif_lembur\r\n",
        "        if usia > 30:\r\n",
        "            insentif_lembur *= 2\r\n",
        "        self.__pendapatan_tambahan += insentif_lembur\r\n",
        "    def tambahan_proyek(self, insentif_proyek):\r\n",
        "        self.__pendapatan_tambahan += insentif_proyek\r\n",
        "    def total_pendapatan(self):\r\n",
        "        return self.__pendapatan + self.__pendapatan_tambahan\r\n",
        "\r\n",
        "karyawan_1 = Karyawan('Kiki', 35, 8000000)\r\n",
        "karyawan_1.lembur()\r\n",
        "karyawan_1.tambahan_proyek(karyawan_1.total_pendapatan())\r\n",
        "print(karyawan_1.total_pendapatan())"
      ],
      "execution_count": 43,
      "outputs": [
        {
          "output_type": "error",
          "ename": "AttributeError",
          "evalue": "ignored",
          "traceback": [
            "\u001b[0;31m---------------------------------------------------------------------------\u001b[0m",
            "\u001b[0;31mAttributeError\u001b[0m                            Traceback (most recent call last)",
            "\u001b[0;32m<ipython-input-43-bcaf61119241>\u001b[0m in \u001b[0;36m<module>\u001b[0;34m()\u001b[0m\n\u001b[1;32m     18\u001b[0m \u001b[0;34m\u001b[0m\u001b[0m\n\u001b[1;32m     19\u001b[0m \u001b[0mkaryawan_1\u001b[0m \u001b[0;34m=\u001b[0m \u001b[0mKaryawan\u001b[0m\u001b[0;34m(\u001b[0m\u001b[0;34m'Kiki'\u001b[0m\u001b[0;34m,\u001b[0m \u001b[0;36m35\u001b[0m\u001b[0;34m,\u001b[0m \u001b[0;36m8000000\u001b[0m\u001b[0;34m)\u001b[0m\u001b[0;34m\u001b[0m\u001b[0;34m\u001b[0m\u001b[0m\n\u001b[0;32m---> 20\u001b[0;31m \u001b[0mkaryawan_1\u001b[0m\u001b[0;34m.\u001b[0m\u001b[0mlembur\u001b[0m\u001b[0;34m(\u001b[0m\u001b[0;34m)\u001b[0m\u001b[0;34m\u001b[0m\u001b[0;34m\u001b[0m\u001b[0m\n\u001b[0m\u001b[1;32m     21\u001b[0m \u001b[0mkaryawan_1\u001b[0m\u001b[0;34m.\u001b[0m\u001b[0mtambahan_proyek\u001b[0m\u001b[0;34m(\u001b[0m\u001b[0mkaryawan_1\u001b[0m\u001b[0;34m.\u001b[0m\u001b[0mtotal_pendapatan\u001b[0m\u001b[0;34m(\u001b[0m\u001b[0;34m)\u001b[0m\u001b[0;34m)\u001b[0m\u001b[0;34m\u001b[0m\u001b[0;34m\u001b[0m\u001b[0m\n\u001b[1;32m     22\u001b[0m \u001b[0mprint\u001b[0m\u001b[0;34m(\u001b[0m\u001b[0mkaryawan_1\u001b[0m\u001b[0;34m.\u001b[0m\u001b[0mtotal_pendapatan\u001b[0m\u001b[0;34m(\u001b[0m\u001b[0;34m)\u001b[0m\u001b[0;34m)\u001b[0m\u001b[0;34m\u001b[0m\u001b[0;34m\u001b[0m\u001b[0m\n",
            "\u001b[0;32m<ipython-input-43-bcaf61119241>\u001b[0m in \u001b[0;36mlembur\u001b[0;34m(self)\u001b[0m\n\u001b[1;32m      8\u001b[0m         \u001b[0mself\u001b[0m\u001b[0;34m.\u001b[0m\u001b[0m__pendapatan_tambahan\u001b[0m \u001b[0;34m=\u001b[0m \u001b[0;36m0\u001b[0m\u001b[0;34m\u001b[0m\u001b[0;34m\u001b[0m\u001b[0m\n\u001b[1;32m      9\u001b[0m     \u001b[0;32mdef\u001b[0m \u001b[0mlembur\u001b[0m\u001b[0;34m(\u001b[0m\u001b[0mself\u001b[0m\u001b[0;34m)\u001b[0m\u001b[0;34m:\u001b[0m\u001b[0;34m\u001b[0m\u001b[0;34m\u001b[0m\u001b[0m\n\u001b[0;32m---> 10\u001b[0;31m         \u001b[0minsentif_lembur\u001b[0m \u001b[0;34m=\u001b[0m \u001b[0mself\u001b[0m\u001b[0;34m.\u001b[0m\u001b[0m__insentif_lembur\u001b[0m\u001b[0;34m\u001b[0m\u001b[0;34m\u001b[0m\u001b[0m\n\u001b[0m\u001b[1;32m     11\u001b[0m         \u001b[0;32mif\u001b[0m \u001b[0musia\u001b[0m \u001b[0;34m>\u001b[0m \u001b[0;36m30\u001b[0m\u001b[0;34m:\u001b[0m\u001b[0;34m\u001b[0m\u001b[0;34m\u001b[0m\u001b[0m\n\u001b[1;32m     12\u001b[0m             \u001b[0minsentif_lembur\u001b[0m \u001b[0;34m*=\u001b[0m \u001b[0;36m2\u001b[0m\u001b[0;34m\u001b[0m\u001b[0;34m\u001b[0m\u001b[0m\n",
            "\u001b[0;31mAttributeError\u001b[0m: 'Karyawan' object has no attribute '_Karyawan__insentif_lembur'"
          ]
        }
      ]
    },
    {
      "cell_type": "markdown",
      "metadata": {
        "id": "KFUD4KlsE-PZ"
      },
      "source": [
        "Akan menghasilkan error karena memanggil bersifat private"
      ]
    },
    {
      "cell_type": "markdown",
      "metadata": {
        "id": "W1-ryk-KGFGa"
      },
      "source": [
        "### Inheritance pada Python – Part 1\r\n",
        "Inheritance adalah salah satu mekanisme di konsep OO yang mengizinkan untuk mendefinisikan sebuah class baru berdasarkan class yang sebelumnya telah dideklarasikan.\r\n",
        "\r\n",
        "Melalui konsep inheritance, sebuah class baru dapat memiliki atribut dan fungsi pada class yang sebelumnya telah didefinisikan. Pada konsep inheritance, atribut/fungsi yang akan diwariskan hanyalah atribut/fungsi dengan access modifier public, atribut/fungsi dengan access modifier private tidak akan diturunkan."
      ]
    },
    {
      "cell_type": "code",
      "metadata": {
        "id": "1GUBXtkoHUOd"
      },
      "source": [
        "# Definisikan class Karyawan (sebagai base class)\r\n",
        "class Karyawan: \r\n",
        "    nama_perusahaan = 'ABC' \r\n",
        "    insentif_lembur = 250000\r\n",
        "    def __init__(self, nama, usia, pendapatan): \r\n",
        "        self.nama = nama\r\n",
        "        self.usia = usia \r\n",
        "        self.pendapatan = pendapatan \r\n",
        "        self.pendapatan_tambahan = 0\r\n",
        "    def lembur(self):\r\n",
        "        self.pendapatan_tambahan += self.insentif_lembur \r\n",
        "    def tambahan_proyek(self, insentif_proyek):\r\n",
        "        self.pendapatan_tambahan += insentif_proyek \r\n",
        "    def total_pendapatan(self):\r\n",
        "        return self.pendapatan + self.pendapatan_tambahan\r\n",
        "# Buat class turunan (sebagai inherit class) dari class karyawan, \r\n",
        "# yaitu class AnalisData\r\n",
        "class AnalisData(karyawan):\r\n",
        "    def __init__(self, nama, usia, pendapatan):\r\n",
        "    # melakukan pemanggilan konstruktur class Karyawan \r\n",
        "        super().__init__(nama, usia, pendapatan)\r\n",
        "# Buat kembali class turunan (sebagai inherit class) dari class karyawan,  \r\n",
        "# yaitu class IlmuwanData\r\n",
        "class IlmuwanData(karyawan):\r\n",
        "    def __init__(self, nama, usia, pendapatan):\r\n",
        "        # melakukan pemanggilan konstruktur class Karyawan \r\n",
        "        super().__init__(nama, usia, pendapatan)\r\n",
        "# Buat objek karyawan yang bekerja sebagai AnalisData\r\n",
        "aksara = AnalisData('Aksara', 25, 8500000)\r\n",
        "#aksara.lembur()\r\n",
        "#print(aksara.total_pendapatan())\r\n",
        "# Buat objek karyawan yang bekerja sebagai IlmuwanData\r\n",
        "senja = IlmuwanData('Senja', 28, 13000000)\r\n",
        "#senja.tambahan_proyek(2000000)\r\n",
        "#print(senja.total_pendapatan())"
      ],
      "execution_count": 60,
      "outputs": []
    },
    {
      "cell_type": "markdown",
      "metadata": {
        "id": "0wWS3JvPIGZV"
      },
      "source": [
        "Penjelasan:\r\n",
        "\r\n",
        "Melalui potongan kode di atas, aku telah menerapkan konsep inheritance. Melalui konsep inheritance class AnalisData dan IlmuwanData akan memiliki setiap atribut dan fungsi yang dimiliki oleh class Karyawan (Hal ini dikarenakan seluruh atribut dan fungsi dari class Karyawan bersifat public).\r\n",
        "\r\n",
        "Pada konsep inheritance, class AnalisData dan class IlmuwanData disebut sebagai child class dari class Karyawan; sehingga class Karyawan dapat disebut sebagai parent class dari class AnalisData dan IlmuwanData.\r\n",
        "\r\n",
        "Suatu child class dapat mengakses atribut ataupun fungsi yang dimiliki oleh parent class dengan menggunakan fungsi super(). Pada contoh di atas, fungsi super() digunakan oleh child class (AnalisData dan IlmuwanData) untuk mengakses constructor yang dimiliki oleh parent class (Karyawan).\r\n",
        "\r\n",
        "Catatan: Sebenarnya, aku tidak perlu mendefinisikan kembali fungsi (termasuk constructor) ataupun properti yang memiliki public access modifier di sebuah child class. Python akan secara otomatis mewariskan seluruh fungsi dan properti dengan public access modifier ke sebuah child class. Contoh potongan kode di atas hanya diperkenankan untuk mencontohkan penggunaan fungsi super()."
      ]
    },
    {
      "cell_type": "markdown",
      "metadata": {
        "id": "3ec7F_gCISDx"
      },
      "source": [
        "### Inheritance pada Python – Part 2\r\n",
        "Pada bagian pertama telah mempelajari bagaimana child class mewarisi fungsi/atribut dari parent class dengan menggunakan fungsi super(). Melalui konsep inheritance, child class dapat memodifikasi atribut/ fungsi yang diwarisi oleh sebuah parent class dengan mendefinisikan ulang atribut/ fungsi menggunakan nama yang sama. "
      ]
    },
    {
      "cell_type": "code",
      "metadata": {
        "colab": {
          "base_uri": "https://localhost:8080/"
        },
        "id": "AYFbMyTlH2G_",
        "outputId": "721da750-4d3a-49f8-e264-1569e36d1866"
      },
      "source": [
        "# Definisikan class Karyawan (sebagai base class)\r\n",
        "class Karyawan: \r\n",
        "    nama_perusahaan = 'ABC' \r\n",
        "    insentif_lembur = 250000\r\n",
        "    def __init__(self, nama, usia, pendapatan): \r\n",
        "        self.nama = nama\r\n",
        "        self.usia = usia \r\n",
        "        self.pendapatan = pendapatan \r\n",
        "        self.pendapatan_tambahan = 0\r\n",
        "    def lembur(self):\r\n",
        "        self.pendapatan_tambahan += self.insentif_lembur \r\n",
        "    def tambahan_proyek(self, insentif_proyek):\r\n",
        "        self.pendapatan_tambahan += insentif_proyek \r\n",
        "    def total_pendapatan(self):\r\n",
        "        return self.pendapatan + self.pendapatan_tambahan\r\n",
        "# Buat class turunan (sebagai inherit class) dari class karyawan, \r\n",
        "# yaitu class AnalisData\r\n",
        "class AnalisData(Karyawan):\r\n",
        "    def __init__(self, nama, usia, pendapatan):\r\n",
        "    # melakukan pemanggilan konstruktur class Karyawan \r\n",
        "        super().__init__(nama, usia, pendapatan)\r\n",
        "# Buat kembali class turunan (sebagai inherit class) dari class karyawan,  \r\n",
        "# yaitu class IlmuwanData\r\n",
        "class IlmuwanData(Karyawan):\r\n",
        "    # mengubah atribut insentif_lembur yang digunakan pada fungsi lembur()\r\n",
        "    insentif_lembur = 500000\r\n",
        "    def __init__(self, nama, usia, pendapatan): \r\n",
        "        super().__init__(nama, usia, pendapatan)\r\n",
        "# Buat objek karyawan yang bekerja sebagai AnalisData\r\n",
        "aksara = AnalisData('Aksara', 25, 8500000)\r\n",
        "aksara.lembur()\r\n",
        "print(aksara.total_pendapatan())\r\n",
        "# Buat objek karyawan yang bekerja sebagai IlmuwanData\r\n",
        "senja = IlmuwanData('Senja', 28, 13000000)\r\n",
        "senja.lembur()\r\n",
        "print(senja.total_pendapatan())"
      ],
      "execution_count": 61,
      "outputs": [
        {
          "output_type": "stream",
          "text": [
            "8750000\n",
            "13500000\n"
          ],
          "name": "stdout"
        }
      ]
    },
    {
      "cell_type": "markdown",
      "metadata": {
        "id": "6jk6dJqAI5dL"
      },
      "source": [
        "* fungsi lembur pada objek aksara sebagai bagian dari class AnalisData akan menambahkan total_pendapatan milik objek sebesar 250000 mengikuti insentif_lembur milik class Karyawan\r\n",
        "* fungsi lembur pada objek senja sebagai bagian dari class IlmuwanData akan menambahkan total_pendapatan milik objek sebesar 500000 dikarenakan class IlmuwanData telah mendefinisikan kembali nilai insentif lembur menjadi 500000"
      ]
    },
    {
      "cell_type": "markdown",
      "metadata": {
        "id": "cyhYe9sYJF_6"
      },
      "source": [
        "### QUIZ"
      ]
    },
    {
      "cell_type": "code",
      "metadata": {
        "colab": {
          "base_uri": "https://localhost:8080/"
        },
        "id": "k8YwUB80IzTd",
        "outputId": "c98c7430-5e9a-4af9-cd29-43937e7e7241"
      },
      "source": [
        "class Burung:\r\n",
        "    def __init__(self, nama):\r\n",
        "        self.nama = nama\r\n",
        "    def fly(self):\r\n",
        "        print(nama + ' sedang terbang')\r\n",
        "\r\n",
        "class Ayam(Burung):\r\n",
        "    def fly(self):\r\n",
        "        print(self.nama + ' tidak bisa terbang')\r\n",
        "\r\n",
        "anak_ayam = Ayam('Si Jago')\r\n",
        "anak_ayam.fly()"
      ],
      "execution_count": 62,
      "outputs": [
        {
          "output_type": "stream",
          "text": [
            "Si Jago tidak bisa terbang\n"
          ],
          "name": "stdout"
        }
      ]
    },
    {
      "cell_type": "code",
      "metadata": {
        "colab": {
          "base_uri": "https://localhost:8080/"
        },
        "id": "W-1QogunJIU_",
        "outputId": "88ae2c7b-e8d7-4392-972b-67efbb266e50"
      },
      "source": [
        "class Mamalia:\r\n",
        "    def __init__(self, nama):\r\n",
        "        self.__nama = nama\r\n",
        "    def interaksi(self):\r\n",
        "        print('Bersuara')\r\n",
        "\r\n",
        "class Anjing(Mamalia):\r\n",
        "    def interaksi(self):\r\n",
        "        print('Guk')\r\n",
        "\r\n",
        "class Manusia(Mamalia):\r\n",
        "    pass\r\n",
        "\r\n",
        "blacky = Anjing('Blacky')\r\n",
        "toni = Manusia('Toni')\r\n",
        "toni.interaksi()\r\n",
        "blacky.interaksi()"
      ],
      "execution_count": 63,
      "outputs": [
        {
          "output_type": "stream",
          "text": [
            "Bersuara\n",
            "Guk\n"
          ],
          "name": "stdout"
        }
      ]
    },
    {
      "cell_type": "markdown",
      "metadata": {
        "id": "976Q8rEyJjGy"
      },
      "source": [
        "## Polymorphism & Overloading"
      ]
    },
    {
      "cell_type": "markdown",
      "metadata": {
        "id": "xk22uaC6JacB"
      },
      "source": [
        "### Polymorphism pada Python - Part 1\r\n",
        "Selain dapat mendefinisikan ulang nilai dari atribut yang diwarisi oleh parent class seperti pada contoh di atas, dapat juga mendefinisikan ulang fungsi yang telah diwarisi oleh parent class.\r\n",
        "\r\n",
        "Saat mendefinisikan kembali fungsi yang telah diwarisi oleh parent class, secara tidak langsung telah menerapkan salah satu mekanisme yang secara khusus pada paradigma OO disebut dengan istilah polymorphism."
      ]
    },
    {
      "cell_type": "code",
      "metadata": {
        "colab": {
          "base_uri": "https://localhost:8080/"
        },
        "id": "Yw5L21oVJQVN",
        "outputId": "6794d9db-0ccf-4c1b-e527-0b1240caf82d"
      },
      "source": [
        "# Definisikan class Karyawan (sebagai base class)\r\n",
        "class Karyawan: \r\n",
        "    nama_perusahaan = 'ABC' \r\n",
        "    insentif_lembur = 250000\r\n",
        "    def __init__(self, nama, usia, pendapatan): \r\n",
        "        self.nama = nama\r\n",
        "        self.usia = usia \r\n",
        "        self.pendapatan = pendapatan \r\n",
        "        self.pendapatan_tambahan = 0\r\n",
        "    def lembur(self):\r\n",
        "        self.pendapatan_tambahan += self.insentif_lembur \r\n",
        "    def tambahan_proyek(self, insentif_proyek):\r\n",
        "        self.pendapatan_tambahan += insentif_proyek \r\n",
        "    def total_pendapatan(self):\r\n",
        "        return self.pendapatan + self.pendapatan_tambahan\r\n",
        "# Buat class turunan (sebagai inherit class) dari class karyawan, \r\n",
        "# yaitu class AnalisData\r\n",
        "class AnalisData(Karyawan):\r\n",
        "    def __init__(self, nama, usia, pendapatan):\r\n",
        "    # melakukan pemanggilan konstruktur class Karyawan \r\n",
        "        super().__init__(nama, usia, pendapatan)\r\n",
        "    # menerapkan polymorphism dengan mendefinisikan kembali fungsi \r\n",
        "    # lembur() pada class AnalisData \r\n",
        "    def lembur(self):\r\n",
        "        # pendapatan tambahan pada class AnalisData sebesar\r\n",
        "        # 10 % dari pendapatannya.\r\n",
        "        self.pendapatan_tambahan += int(self.pendapatan * 0.1)\r\n",
        "# Buat objek karyawan yang bekerja sebagai AnalisData\r\n",
        "aksara = AnalisData('Aksara', 25, 8500000)\r\n",
        "aksara.lembur()\r\n",
        "print(aksara.total_pendapatan())"
      ],
      "execution_count": 64,
      "outputs": [
        {
          "output_type": "stream",
          "text": [
            "9350000\n"
          ],
          "name": "stdout"
        }
      ]
    },
    {
      "cell_type": "markdown",
      "metadata": {
        "id": "HQz4RffpKQwZ"
      },
      "source": [
        "### Polymorphism pada Python - Part 2\r\n",
        "Pada konsep inheritance, melalui fungsi super(), selain dapat mengakses constructor milik parent class, child class juga dapat mengakses atribut/fungsi yang dimiliki oleh parent class."
      ]
    },
    {
      "cell_type": "code",
      "metadata": {
        "colab": {
          "base_uri": "https://localhost:8080/"
        },
        "id": "cQAyBNI8KJtG",
        "outputId": "2b28c406-a077-4d05-a2ff-95c616395722"
      },
      "source": [
        "# Definisikan class Karyawan (sebagai base class)\r\n",
        "class Karyawan: \r\n",
        "    nama_perusahaan = 'ABC' \r\n",
        "    insentif_lembur = 250000\r\n",
        "    def __init__(self, nama, usia, pendapatan): \r\n",
        "        self.nama = nama\r\n",
        "        self.usia = usia \r\n",
        "        self.pendapatan = pendapatan \r\n",
        "        self.pendapatan_tambahan = 0\r\n",
        "    def lembur(self):\r\n",
        "        self.pendapatan_tambahan += self.insentif_lembur \r\n",
        "    def tambahan_proyek(self, insentif_proyek):\r\n",
        "        self.pendapatan_tambahan += insentif_proyek \r\n",
        "    def total_pendapatan(self):\r\n",
        "        return self.pendapatan + self.pendapatan_tambahan\r\n",
        "# Buat class turunan (sebagai inherit class) dari class karyawan, \r\n",
        "# yaitu class AnalisData\r\n",
        "class AnalisData(Karyawan):\r\n",
        "    def __init__(self, nama, usia, pendapatan): \r\n",
        "        super().__init__ (nama, usia, pendapatan)\r\n",
        "    # mendefinisikan kembali fungsi lembur() pada class AnalisData \r\n",
        "    def lembur(self):\r\n",
        "        # memanggil fungsi lembur pada class Karyawan \r\n",
        "        super().lembur()\r\n",
        "        # pendapatan tambahan pada class AnalisData sebesar\r\n",
        "        # 5 % dari pendapatannya.\r\n",
        "        self.pendapatan_tambahan += int(self.pendapatan * 0.05)\r\n",
        "# Buat objek karyawan yang bekerja sebagai AnalisData\r\n",
        "aksara = AnalisData('Aksara', 25, 8500000)\r\n",
        "aksara.lembur()\r\n",
        "print(aksara.total_pendapatan())"
      ],
      "execution_count": 65,
      "outputs": [
        {
          "output_type": "stream",
          "text": [
            "9175000\n"
          ],
          "name": "stdout"
        }
      ]
    },
    {
      "cell_type": "markdown",
      "metadata": {
        "id": "3oDQnLzrK-nD"
      },
      "source": [
        "### PRAKTEK"
      ]
    },
    {
      "cell_type": "code",
      "metadata": {
        "id": "Ywrt9wq8KjUV"
      },
      "source": [
        "# Definisikan class Karyawan\r\n",
        "class Karyawan:\r\n",
        "    def __init__(self, nama, usia, pendapatan, insentif_lembur): \r\n",
        "        self.nama = nama\r\n",
        "        self.usia = usia \r\n",
        "        self.pendapatan = pendapatan \r\n",
        "        self.pendapatan_tambahan = 0\r\n",
        "        self.insentif_lembur = insentif_lembur \r\n",
        "    def lembur(self):\r\n",
        "        self.pendapatan_tambahan += self.insentif_lembur \r\n",
        "    def tambahan_proyek(self,jumlah_tambahan):\r\n",
        "        self.pendapatan_tambahan += jumlah_tambahan \r\n",
        "    def total_pendapatan(self):\r\n",
        "        return self.pendapatan + self.pendapatan_tambahan\r\n",
        "# Definisikan class TenagaLepas sebagai child class dari\r\n",
        "# class Karyawan\r\n",
        "class TenagaLepas(karyawan):\r\n",
        "    def __init__(self, nama, usia, pendapatan):\r\n",
        "        super().__init__(nama, usia, pendapatan, 0)\r\n",
        "    def tambahan_proyek(self, nilai_proyek):\r\n",
        "        self.pendapatan_tambahan += nilai_proyek * 0.01"
      ],
      "execution_count": 67,
      "outputs": []
    },
    {
      "cell_type": "code",
      "metadata": {
        "id": "hNShtr47K74b"
      },
      "source": [
        "# Definisikan class Karyawan sebagai parent class\r\n",
        "class Karyawan:\r\n",
        "    def __init__(self, nama, usia, pendapatan, insentif_lembur): \r\n",
        "        self.nama = nama\r\n",
        "        self.usia = usia \r\n",
        "        self.pendapatan = pendapatan \r\n",
        "        self.pendapatan_tambahan = 0\r\n",
        "        self.insentif_lembur = insentif_lembur \r\n",
        "    def lembur(self):\r\n",
        "        self.pendapatan_tambahan += self.insentif_lembur \r\n",
        "    def tambahan_proyek(self,jumlah_tambahan):\r\n",
        "        self.pendapatan_tambahan += jumlah_tambahan \r\n",
        "    def total_pendapatan(self):\r\n",
        "        return self.pendapatan + self.pendapatan_tambahan\r\n",
        "# Definisikan class TenagaLepas sebagai child class dari\r\n",
        "# class Karyawan\r\n",
        "class TenagaLepas(Karyawan):\r\n",
        "    def __init__(self, nama, usia, pendapatan):\r\n",
        "        super().__init__(nama, usia, pendapatan, 0)\r\n",
        "    def tambahan_proyek(self, nilai_proyek):\r\n",
        "        self.pendapatan_tambahan += nilai_proyek * 0.01\r\n",
        "# Definisikan class AnalisData sebagai child class dari\r\n",
        "# class Karyawan\r\n",
        "class AnalisData(Karyawan):\r\n",
        "    pass\r\n",
        "# Definisikan class IlmuwanData sebagai child class dari\r\n",
        "# class Karyawan\r\n",
        "class IlmuwanData(Karyawan):\r\n",
        "    def tambahan_proyek(self, nilai_proyek): \r\n",
        "        self.pendapatan_tambahan += 0.1 * nilai_proyek\r\n",
        "# Definisikan class PembersihData sebagai child class dari\r\n",
        "# class TenagaLepas\r\n",
        "class PembersihData(TenagaLepas):\r\n",
        "    pass\r\n",
        "# Definisikan class DokumenterTeknis sebagai child class dari\r\n",
        "# class TenagaLepas\r\n",
        "class DokumenterTeknis(TenagaLepas):\r\n",
        "    def tambahan_proyek(self, jumlah_tambahan): \r\n",
        "        return"
      ],
      "execution_count": 68,
      "outputs": []
    },
    {
      "cell_type": "markdown",
      "metadata": {
        "id": "bDvdTVglMkep"
      },
      "source": [
        "### Overloading\r\n",
        "Pada bahasa pemrograman lain yang mendukung paradigma OO seperti C# ataupun Java, polymorphism juga dapat diterapkan melalui sebuah fitur yang dikenal dengan istilah method overloading.\r\n",
        "\r\n",
        "Metode overloading mengizinkan sebuah class untuk memiliki sekumpulan fungsi dengan nama yang sama dan parameter yang berbeda. Berkaitan dengan hal ini, Python tidak mengizinkan pendeklarasian fungsi (baik pada class ataupun tidak) dengan nama yang sama.\r\n",
        "\r\n",
        "Untuk mengimplementasikan method overloading pada Python, dapat menggunakan sebuah teknik yang dikenal dengan function default parameters."
      ]
    },
    {
      "cell_type": "code",
      "metadata": {
        "colab": {
          "base_uri": "https://localhost:8080/"
        },
        "id": "ay2CIg4pMev7",
        "outputId": "21ae517d-8632-4e35-e417-2276a6cf8f75"
      },
      "source": [
        "class Karyawan:\r\n",
        "  nama_perusahaan = 'ABC'\r\n",
        "  insentif_lembur = 250000\r\n",
        "  # usia akan di-set nilainya menjadi 21 saat tidak\r\n",
        "  # dispesifikasikan dan pendapatan akan di-set nilainya\r\n",
        "  # menjadi 5000000 saat tidak dispesifikasikan\r\n",
        "  def __init__(self, nama, usia=21, pendapatan=5000000):\r\n",
        "    self.nama = nama\r\n",
        "    self.usia = usia\r\n",
        "    self.pendapatan = pendapatan\r\n",
        "    self.pendapatan_tambahan = 0\r\n",
        "  def lembur(self):\r\n",
        "    self.pendapatan_tambahan += self.insentif_lembur\r\n",
        "  def tambahan_proyek(self, insentif_proyek):\r\n",
        "    self.pendapatan_tambahan += insentif_proyek\r\n",
        "  def total_pendapatan(self):\r\n",
        "    return self.pendapatan + self.pendapatan_tambahan\r\n",
        "# Karyawan baru pertama yang bernama Budi\r\n",
        "karyawan_baru1 = Karyawan('Budi')\r\n",
        "print(karyawan_baru1.nama)\r\n",
        "print(karyawan_baru1.usia)\r\n",
        "print(karyawan_baru1.total_pendapatan())\r\n",
        "# Karyawan baru ke-2 yang bernama Didi, umur 25\r\n",
        "karyawan_baru2 = Karyawan('Didi', 25)\r\n",
        "print(karyawan_baru2.nama)\r\n",
        "print(karyawan_baru2.usia)\r\n",
        "print(karyawan_baru2.total_pendapatan())\r\n",
        "# Karyawan baru ke-3 yang bernama Hadi, pendapatan 8000000\r\n",
        "karyawan_baru3 = Karyawan('Hadi', pendapatan=8000000)\r\n",
        "print(karyawan_baru3.nama)\r\n",
        "print(karyawan_baru3.usia)\r\n",
        "print(karyawan_baru3.total_pendapatan())"
      ],
      "execution_count": 69,
      "outputs": [
        {
          "output_type": "stream",
          "text": [
            "Budi\n",
            "21\n",
            "5000000\n",
            "Didi\n",
            "25\n",
            "5000000\n",
            "Hadi\n",
            "21\n",
            "8000000\n"
          ],
          "name": "stdout"
        }
      ]
    },
    {
      "cell_type": "markdown",
      "metadata": {
        "id": "EwdRWp6vN35l"
      },
      "source": [
        "### PRAKTEK"
      ]
    },
    {
      "cell_type": "code",
      "metadata": {
        "colab": {
          "base_uri": "https://localhost:8080/"
        },
        "id": "jl7FDNjeNS8C",
        "outputId": "a3a66cd0-7f24-42ff-faa1-a19cd6c9d10b"
      },
      "source": [
        "# Definisikan class Karyawan sebagai parent class\r\n",
        "class Karyawan:\r\n",
        "  def __init__(self, nama, usia, pendapatan, insentif_lembur):\r\n",
        "    self.nama = nama\r\n",
        "    self.usia = usia\r\n",
        "    self.pendapatan = pendapatan\r\n",
        "    self.pendapatan_tambahan = 0\r\n",
        "    self.insentif_lembur = insentif_lembur\r\n",
        "  def lembur(self):\r\n",
        "    self.pendapatan_tambahan += self.insentif_lembur\r\n",
        "  def tambahan_proyek(self,jumlah_tambahan):\r\n",
        "    self.pendapatan_tambahan += jumlah_tambahan\r\n",
        "  def total_pendapatan(self):\r\n",
        "    return self.pendapatan + self.pendapatan_tambahan\r\n",
        "\r\n",
        "# Definisikan class TenagaLepas sebagai child class dari class Karyawan\r\n",
        "class TenagaLepas(Karyawan):\r\n",
        "  def __init__(self, nama, usia, pendapatan):\r\n",
        "    super().__init__(nama, usia, pendapatan, 0)\r\n",
        "  def tambahan_proyek(self, nilai_proyek):\r\n",
        "    self.pendapatan_tambahan += nilai_proyek * 0.01\r\n",
        "\r\n",
        "# Definisikan class AnalisData sebagai child class dari class Karyawan\r\n",
        "class AnalisData(Karyawan):\r\n",
        "  def __init__(self, nama, usia = 21, pendapatan = 6500000, insentif_lembur = 100000):\r\n",
        "    super().__init__(nama, usia, pendapatan, insentif_lembur)\r\n",
        "\r\n",
        "# Definisikan class IlmuwanData sebagai child class dari class Karyawan\r\n",
        "class IlmuwanData(Karyawan):\r\n",
        "  def __init__(self, nama, usia = 25, pendapatan = 12000000, insentif_lembur = 150000):\r\n",
        "    super().__init__(nama, usia, pendapatan,insentif_lembur)\r\n",
        "  def tambahan_proyek(self, nilai_proyek):\r\n",
        "    self.pendapatan_tambahan += 0.1 * nilai_proyek\r\n",
        "\r\n",
        "# Definisikan class PembersihData sebagai child class dari class TenagaLepas\r\n",
        "class PembersihData(TenagaLepas):\r\n",
        "  def __init__(self, nama, usia, pendapatan = 4000000):\r\n",
        "    super().__init__(nama, usia, pendapatan)\r\n",
        "\r\n",
        "# Definisikan class DokumenterTeknis sebagai child class dari class TenagaLepas\r\n",
        "class DokumenterTeknis(TenagaLepas):\r\n",
        "  def __init__(self, nama, usia, pendapatan = 2500000):\r\n",
        "    super().__init__(nama, usia, pendapatan)\r\n",
        "  def tambahan_proyek(self, jumlah_tambahan):\r\n",
        "    return\r\n",
        "\r\n",
        "# Definisikan class Perusahaan\r\n",
        "class Perusahaan:\r\n",
        "  def __init__(self, nama, alamat, nomor_telepon):\r\n",
        "    self.nama = nama\r\n",
        "    self.alamat = alamat\r\n",
        "    self.nomor_telepon = nomor_telepon\r\n",
        "    self.list_karyawan = []\r\n",
        "  def aktifkan_karyawan(self, karyawan):\r\n",
        "    self.list_karyawan.append(karyawan)\r\n",
        "  def nonaktifkan_karyawan(self, nama_karyawan):\r\n",
        "    karyawan_nonaktif = None\r\n",
        "    for karyawan in self.list_karyawan:\r\n",
        "      if karyawan.nama == nama_karyawan:\r\n",
        "        karyawan_nonaktif = karyawan\r\n",
        "        break\r\n",
        "    if karyawan_nonaktif is not None:\r\n",
        "      self.list_karyawan.remove(karyawan_nonaktif)\r\n",
        "  def total_pengeluaran(self):\r\n",
        "    pengeluaran = 0\r\n",
        "    for karyawan in self.list_karyawan:\r\n",
        "      pengeluaran += karyawan.total_pendapatan()\r\n",
        "    return pengeluaran\r\n",
        "  def cari_karyawan(self, nama_karyawan):\r\n",
        "    for karyawan in self.list_karyawan:\r\n",
        "      if karyawan.nama == nama_karyawan:\r\n",
        "        return karyawan\r\n",
        "    return None\r\n",
        "\r\n",
        "# Create object karyawan sesuai dengan tugasnya masing-masing\r\n",
        "# seperti yang dinyatakan dalam tabel.\r\n",
        "ani = PembersihData('Ani', 25)\r\n",
        "budi = DokumenterTeknis('Budi', 18)\r\n",
        "cici = IlmuwanData('Cici')\r\n",
        "didi = IlmuwanData('Didi', 32, 20000000)\r\n",
        "efi = AnalisData('Efi')\r\n",
        "febi = AnalisData('Febi', 28, 12000000)\r\n",
        "\r\n",
        "# Create object perusahaan\r\n",
        "perusahaan = Perusahaan('ABC','Jl. Jendral Sudirman, Blok 11', '(021) 95812XX')\r\n",
        "\r\n",
        "# Aktifkan setiap karyawan yang telah didefinisikan\r\n",
        "perusahaan.aktifkan_karyawan(ani)\r\n",
        "perusahaan.aktifkan_karyawan(budi)\r\n",
        "perusahaan.aktifkan_karyawan(cici)\r\n",
        "perusahaan.aktifkan_karyawan(didi)\r\n",
        "perusahaan.aktifkan_karyawan(efi)\r\n",
        "perusahaan.aktifkan_karyawan(febi)\r\n",
        "\r\n",
        "# Cetak keseluruhan total pengeluaran perusahaan\r\n",
        "print(perusahaan.total_pengeluaran())"
      ],
      "execution_count": 70,
      "outputs": [
        {
          "output_type": "stream",
          "text": [
            "57000000\n"
          ],
          "name": "stdout"
        }
      ]
    },
    {
      "cell_type": "code",
      "metadata": {
        "id": "RTSYTVvTPAZF"
      },
      "source": [
        ""
      ],
      "execution_count": null,
      "outputs": []
    }
  ]
}