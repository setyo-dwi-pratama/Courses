{
  "nbformat": 4,
  "nbformat_minor": 0,
  "metadata": {
    "colab": {
      "name": "8_Data Manipulation with Pandas - Part 1 .ipynb",
      "provenance": [],
      "authorship_tag": "ABX9TyMu8Nj2/UB1lsMN2QDITu18",
      "include_colab_link": true
    },
    "kernelspec": {
      "name": "python3",
      "display_name": "Python 3"
    },
    "accelerator": "GPU"
  },
  "cells": [
    {
      "cell_type": "markdown",
      "metadata": {
        "id": "view-in-github",
        "colab_type": "text"
      },
      "source": [
        "<a href=\"https://colab.research.google.com/github/setyo-dwi-pratama/Courses/blob/main/8_Data_Manipulation_with_Pandas_Part_1_.ipynb\" target=\"_parent\"><img src=\"https://colab.research.google.com/assets/colab-badge.svg\" alt=\"Open In Colab\"/></a>"
      ]
    },
    {
      "cell_type": "markdown",
      "metadata": {
        "id": "EXK4uDC0FiwI"
      },
      "source": [
        "# **Data Manipulation with Pandas - Part 1** "
      ]
    },
    {
      "cell_type": "markdown",
      "metadata": {
        "id": "4y7FbkC3FnIU"
      },
      "source": [
        "## Introduction to Pandas"
      ]
    },
    {
      "cell_type": "markdown",
      "metadata": {
        "id": "UptVzM9qFrLM"
      },
      "source": [
        "### Pendahuluan\r\n",
        "“Apa kegunaan mempelajari Pandas? Aku tahunya Pandas nama hewan,” kelakarku pada Andra. Benar kan! Lagi-lagi aku menemukan istilah umum tapi punya makna berbeda di dunia data.\r\n",
        "\r\n",
        " \r\n",
        "“Itu Panda, Aksara. Kalau Pandas berguna untuk melakukan analisis dan pengolahan data dari menengah sampai besar. Coba dibaca saja dulu modulnya biar lebih jelas. Nanti akan ada praktik yang memperjelas,” tukas Andra.\r\n",
        "\r\n",
        " \r\n",
        "Seperti yang bisa kutebak, aku harus memahami modul dan pembelajaran baru ini sendiri. Karena kulihat Andra sudah melengang pergi setelah memberi intruksi sederhana seperti itu. Tak apa, perlahan aku terbiasa juga belajar mandiri. Walau memang lebih nyaman kalau dbimbing, hehehe."
      ]
    },
    {
      "cell_type": "markdown",
      "metadata": {
        "id": "XRPbFM4BF6H7"
      },
      "source": [
        "## Memanggil Library Pandas\r\n",
        "Pandas adalah library python open source yang biasanya digunakan untuk kebutuhan data analisis. Pandas membuat Python supaya dapat bekerja dengan data yang berbentuk tabular seperti spreadsheet dengan cara pemuatan data yang cepat, manipulasi data, menggabungkan data, serta ada berbagai fungsi yang lain."
      ]
    },
    {
      "cell_type": "code",
      "metadata": {
        "id": "5QyDMeuqFmnG"
      },
      "source": [
        "import pandas as pd\r\n",
        "import numpy as np"
      ],
      "execution_count": 1,
      "outputs": []
    },
    {
      "cell_type": "markdown",
      "metadata": {
        "id": "iTVBXhXTGMuq"
      },
      "source": [
        "### DataFrame & Series\r\n",
        "Di Pandas terdapat 2 kelas data baru yang digunakan sebagai struktur dari spreadsheet:\r\n",
        "\r\n",
        "1. **Series**: satu kolom bagian dari tabel dataframe yang merupakan 1 dimensional numpy array sebagai basis data nya, terdiri dari 1 tipe data (integer, string, float, dll).\r\n",
        "2. **DataFrame**: gabungan dari Series, berbentuk rectangular data yang merupakan tabel spreadsheet itu sendiri (karena dibentuk dari banyak Series, tiap Series biasanya punya 1 tipe data, yang artinya 1 dataframe bisa memiliki banyak tipe data)."
      ]
    },
    {
      "cell_type": "code",
      "metadata": {
        "colab": {
          "base_uri": "https://localhost:8080/"
        },
        "id": "5CPb7D2zGFML",
        "outputId": "52b9df6a-6387-4435-f0ad-57d8e0c9ac9f"
      },
      "source": [
        "import pandas as pd\r\n",
        "# Series\r\n",
        "number_list = pd.Series([1,2,3,4,5,6])\r\n",
        "print(\"Series:\")\r\n",
        "print(number_list)"
      ],
      "execution_count": 1,
      "outputs": [
        {
          "output_type": "stream",
          "text": [
            "Series:\n",
            "0    1\n",
            "1    2\n",
            "2    3\n",
            "3    4\n",
            "4    5\n",
            "5    6\n",
            "dtype: int64\n"
          ],
          "name": "stdout"
        }
      ]
    },
    {
      "cell_type": "code",
      "metadata": {
        "colab": {
          "base_uri": "https://localhost:8080/"
        },
        "id": "SAaZlBMrGzTY",
        "outputId": "d514d701-e50e-4515-f67a-a7284edc8dab"
      },
      "source": [
        "# DataFrame\r\n",
        "matrix = [[1,2,3],\r\n",
        "          ['a','b','c'],\r\n",
        "          [3,4,5],\r\n",
        "          ['d',4,6]]\r\n",
        "matrix_list = pd.DataFrame(matrix)\r\n",
        "print(\"DataFrame:\")\r\n",
        "print(matrix_list)"
      ],
      "execution_count": 2,
      "outputs": [
        {
          "output_type": "stream",
          "text": [
            "DataFrame:\n",
            "   0  1  2\n",
            "0  1  2  3\n",
            "1  a  b  c\n",
            "2  3  4  5\n",
            "3  d  4  6\n"
          ],
          "name": "stdout"
        }
      ]
    },
    {
      "cell_type": "markdown",
      "metadata": {
        "id": "r1X9QmjmHJRx"
      },
      "source": [
        "### Atribut DataFrame & Series - Part 1\r\n",
        "Dataframe dan Series memiliki sangat banyak atribut yang digunakan untuk transformasi data, tetapi ada beberapa attribute yang sering dipakai. Di sini series **number_list** dan data frame **matrix_list** pada subbab sebelumnya digunakan kembali."
      ]
    },
    {
      "cell_type": "code",
      "metadata": {
        "id": "XGe9bf8cG0Bf"
      },
      "source": [
        "import pandas as pd\r\n",
        "# Series\r\n",
        "number_list = pd.Series([1,2,3,4,5,6])\r\n",
        "# DataFrame\r\n",
        "matrix_list = pd.DataFrame([[1,2,3],\r\n",
        "\t\t\t\t            ['a','b','c'],\r\n",
        "\t\t\t\t            [3,4,5],\r\n",
        "\t\t\t\t            ['d',4,6]])"
      ],
      "execution_count": 3,
      "outputs": []
    },
    {
      "cell_type": "markdown",
      "metadata": {
        "id": "LYM9PoTOHUvP"
      },
      "source": [
        "**1. Attribute .info()**\r\n",
        "\r\n",
        "Attribute .info() digunakan untuk mengecek kolom apa yang membentuk dataframe itu, data types, berapa yang non null, dll. Attribute ini tidak dapat digunakan pada series, hanya pada data frame saja"
      ]
    },
    {
      "cell_type": "code",
      "metadata": {
        "colab": {
          "base_uri": "https://localhost:8080/"
        },
        "id": "NCISRnA2HR6n",
        "outputId": "48df7f2a-7998-4ddd-c2f4-cd1ab6eb3f65"
      },
      "source": [
        "# [1] attribute .info()\r\n",
        "print(\"[1] attribute .info()\")\r\n",
        "print(matrix_list.info())"
      ],
      "execution_count": 4,
      "outputs": [
        {
          "output_type": "stream",
          "text": [
            "[1] attribute .info()\n",
            "<class 'pandas.core.frame.DataFrame'>\n",
            "RangeIndex: 4 entries, 0 to 3\n",
            "Data columns (total 3 columns):\n",
            " #   Column  Non-Null Count  Dtype \n",
            "---  ------  --------------  ----- \n",
            " 0   0       4 non-null      object\n",
            " 1   1       4 non-null      object\n",
            " 2   2       4 non-null      object\n",
            "dtypes: object(3)\n",
            "memory usage: 224.0+ bytes\n",
            "None\n"
          ],
          "name": "stdout"
        }
      ]
    },
    {
      "cell_type": "markdown",
      "metadata": {
        "id": "-yumR5u7Hf0f"
      },
      "source": [
        "**2. Attribute .shape**\r\n",
        "\r\n",
        "Attribute .shape digunakan untuk mengetahui berapa baris dan kolom, hasilnya dalam format tuple (baris, kolom)."
      ]
    },
    {
      "cell_type": "code",
      "metadata": {
        "colab": {
          "base_uri": "https://localhost:8080/"
        },
        "id": "IAzqBohBHeFY",
        "outputId": "9f73f46f-ebb9-48fd-de5f-6d868f4cf942"
      },
      "source": [
        "# [2] attribute .shape\r\n",
        "print(\"\\n[2] attribute .shape\")\r\n",
        "print(\"    Shape dari number_list:\", number_list.shape)\r\n",
        "print(\"    Shape dari matrix_list:\", matrix_list.shape)"
      ],
      "execution_count": 5,
      "outputs": [
        {
          "output_type": "stream",
          "text": [
            "\n",
            "[2] attribute .shape\n",
            "    Shape dari number_list: (6,)\n",
            "    Shape dari matrix_list: (4, 3)\n"
          ],
          "name": "stdout"
        }
      ]
    },
    {
      "cell_type": "markdown",
      "metadata": {
        "id": "7lV6Jz_qHuYC"
      },
      "source": [
        "**3. Attribute .dtypes**\r\n",
        "\r\n",
        "Attribute .dtypes digunakan untuk mengetahui tipe data di tiap kolom. Tipe data object: kombinasi untuk berbagai tipe data (number & text, etc)."
      ]
    },
    {
      "cell_type": "code",
      "metadata": {
        "colab": {
          "base_uri": "https://localhost:8080/"
        },
        "id": "wjpL4Q_AHrva",
        "outputId": "814946fc-4fee-478c-8878-f61630e426b2"
      },
      "source": [
        "# [3] attribute .dtypes\r\n",
        "print(\"\\n[3] attribute .dtypes\")\r\n",
        "print(\"    Tipe data number_list:\", number_list.dtypes)\r\n",
        "print(\"    Tipe data matrix_list:\", matrix_list.dtypes)"
      ],
      "execution_count": 7,
      "outputs": [
        {
          "output_type": "stream",
          "text": [
            "\n",
            "[3] attribute .dtypes\n",
            "    Tipe data number_list: int64\n",
            "    Tipe data matrix_list: 0    object\n",
            "1    object\n",
            "2    object\n",
            "dtype: object\n"
          ],
          "name": "stdout"
        }
      ]
    },
    {
      "cell_type": "markdown",
      "metadata": {
        "id": "uJKp5SMFIQ5N"
      },
      "source": [
        "**4. Attribute .astype(nama_tipe_data)**\r\n",
        "\r\n",
        "Attribute .astype(nama_tipe_data) untuk convert tipe data berdasarkan tipe data seperti: **float, int, str, numpy.float, numpy.int** ataupun **numpy.datetime**."
      ]
    },
    {
      "cell_type": "code",
      "metadata": {
        "colab": {
          "base_uri": "https://localhost:8080/"
        },
        "id": "Eoj8Dr-TH-z0",
        "outputId": "2eb66ac2-2a7d-440f-ade8-06ad4a152dd4"
      },
      "source": [
        "# [4] attribute .astype()\r\n",
        "print(\"\\n[4] attribute .astype()\")\r\n",
        "print(\"    Konversi number_list ke str:\", number_list.astype(\"str\"))\r\n",
        "print(\"    Konversi matrix_list ke str:\", matrix_list.astype(\"str\"))"
      ],
      "execution_count": 8,
      "outputs": [
        {
          "output_type": "stream",
          "text": [
            "\n",
            "[4] attribute .astype()\n",
            "    Konversi number_list ke str: 0    1\n",
            "1    2\n",
            "2    3\n",
            "3    4\n",
            "4    5\n",
            "5    6\n",
            "dtype: object\n",
            "    Konversi matrix_list ke str:    0  1  2\n",
            "0  1  2  3\n",
            "1  a  b  c\n",
            "2  3  4  5\n",
            "3  d  4  6\n"
          ],
          "name": "stdout"
        }
      ]
    },
    {
      "cell_type": "markdown",
      "metadata": {
        "id": "FSC2GBafJzIE"
      },
      "source": [
        "### Atribut DataFrame & Series - Part 2\r\n",
        "Dataframe dan Series memiliki sangat banyak atribut yang digunakan untuk transformasi data, tetapi ada beberapa attribute yang sering dipakai. Di sini series **number_list** dan data frame **matrix_list** digunakan kembali.\r\n"
      ]
    },
    {
      "cell_type": "code",
      "metadata": {
        "id": "DUJwUctSIqcO"
      },
      "source": [
        "import pandas as pd\r\n",
        "# Series\r\n",
        "number_list = pd.Series([1,2,3,4,5,6])\r\n",
        "# DataFrame\r\n",
        "matrix_list = pd.DataFrame([[1,2,3],\r\n",
        "\t\t\t\t            ['a','b','c'],\r\n",
        "\t\t\t\t            [3,4,5],\r\n",
        "\t\t\t\t            ['d',4,6]])"
      ],
      "execution_count": 9,
      "outputs": []
    },
    {
      "cell_type": "markdown",
      "metadata": {
        "id": "3Qe4SitEKDik"
      },
      "source": [
        "**5. Attribute .copy()**\r\n",
        "\r\n",
        "Attribute .copy() digunakan melakukan duplikat, untuk disimpan di variable yang berbeda mungkin supaya tidak loading data lagi."
      ]
    },
    {
      "cell_type": "code",
      "metadata": {
        "colab": {
          "base_uri": "https://localhost:8080/"
        },
        "id": "Ek3EH--cKC_2",
        "outputId": "027f3cb8-4c18-4611-cee3-8a6dd9221ec7"
      },
      "source": [
        "# [5] attribute .copy()\r\n",
        "print(\"[5] attribute .copy()\")\r\n",
        "num_list = number_list.copy()\r\n",
        "print(\"    Copy number_list ke num_list:\", num_list)\r\n",
        "mtr_list = matrix_list.copy()\r\n",
        "print(\"    Copy matrix_list ke mtr_list:\", mtr_list)"
      ],
      "execution_count": 10,
      "outputs": [
        {
          "output_type": "stream",
          "text": [
            "[5] attribute .copy()\n",
            "    Copy number_list ke num_list: 0    1\n",
            "1    2\n",
            "2    3\n",
            "3    4\n",
            "4    5\n",
            "5    6\n",
            "dtype: int64\n",
            "    Copy matrix_list ke mtr_list:    0  1  2\n",
            "0  1  2  3\n",
            "1  a  b  c\n",
            "2  3  4  5\n",
            "3  d  4  6\n"
          ],
          "name": "stdout"
        }
      ]
    },
    {
      "cell_type": "markdown",
      "metadata": {
        "id": "_M5_EQM5KYQt"
      },
      "source": [
        "**6. Attribute .to_list()**\r\n",
        "\r\n",
        "Attribute .to_list() digunakan untuk mengubah series menjadi list dan tidak dapat digunakan untuk dataframe."
      ]
    },
    {
      "cell_type": "code",
      "metadata": {
        "colab": {
          "base_uri": "https://localhost:8080/"
        },
        "id": "hdh9A-37KWMV",
        "outputId": "c4ec268b-7dcd-47a2-9e52-9f3e2b1384f5"
      },
      "source": [
        "# [6] attribute .to_list()\r\n",
        "print(\"[6] attribute .to_list()\")\r\n",
        "print(number_list.to_list())"
      ],
      "execution_count": 11,
      "outputs": [
        {
          "output_type": "stream",
          "text": [
            "[6] attribute .to_list()\n",
            "[1, 2, 3, 4, 5, 6]\n"
          ],
          "name": "stdout"
        }
      ]
    },
    {
      "cell_type": "markdown",
      "metadata": {
        "id": "URlKb9VlKmxS"
      },
      "source": [
        "**7. Attribute .unique()**\r\n",
        "\r\n",
        "Attribute .unique() digunakan menghasilkan nilai unik dari suatu kolom, hasilnya dalam bentuk numpy array. Attribute ini hanya digunakan pada series saja."
      ]
    },
    {
      "cell_type": "code",
      "metadata": {
        "colab": {
          "base_uri": "https://localhost:8080/"
        },
        "id": "XnBxfPXpKl5S",
        "outputId": "34d96404-8ccc-4a2a-b060-31ad402d4f44"
      },
      "source": [
        "# [7] attribute .unique()\r\n",
        "print(\"[7] attribute .unique()\")\r\n",
        "print(number_list.unique())"
      ],
      "execution_count": 12,
      "outputs": [
        {
          "output_type": "stream",
          "text": [
            "[7] attribute .unique()\n",
            "[1 2 3 4 5 6]\n"
          ],
          "name": "stdout"
        }
      ]
    },
    {
      "cell_type": "markdown",
      "metadata": {
        "id": "MMCfVxvPLAWd"
      },
      "source": [
        "### Atribut DataFrame & Series - Part 3\r\n",
        "Dataframe dan Series memiliki sangat banyak atribut yang digunakan untuk transformasi data, tetapi ada beberapa attribute yang sering dipakai. Di sini series **number_list** dan data frame **matrix_list** pada subbab sebelumnya digunakan kembali."
      ]
    },
    {
      "cell_type": "code",
      "metadata": {
        "id": "7P_ry-i4KzYO"
      },
      "source": [
        "import pandas as pd\r\n",
        "# Series\r\n",
        "number_list = pd.Series([1,2,3,4,5,6])\r\n",
        "# DataFrame\r\n",
        "matrix_list = pd.DataFrame([[1,2,3],\r\n",
        "\t\t\t\t            ['a','b','c'],\r\n",
        "\t\t\t\t            [3,4,5],\r\n",
        "\t\t\t\t            ['d',4,6]])"
      ],
      "execution_count": 13,
      "outputs": []
    },
    {
      "cell_type": "markdown",
      "metadata": {
        "id": "TBKYasjWLG11"
      },
      "source": [
        "**8. Attribute .index**\r\n",
        "\r\n",
        "Attribute .index digunakan untuk mencari index/key dari Series atau Dataframe."
      ]
    },
    {
      "cell_type": "code",
      "metadata": {
        "colab": {
          "base_uri": "https://localhost:8080/"
        },
        "id": "jwg4kGyFLGHv",
        "outputId": "af80c18a-43f6-4353-ac05-3b228491c177"
      },
      "source": [
        "# [8] attribute .index\r\n",
        "print(\"[8] attribute .index\")\r\n",
        "print(\"    Index number_list:\", number_list.index)\r\n",
        "print(\"    Index matrix_list:\", matrix_list.index)\t"
      ],
      "execution_count": 14,
      "outputs": [
        {
          "output_type": "stream",
          "text": [
            "[8] attribute .index\n",
            "    Index number_list: RangeIndex(start=0, stop=6, step=1)\n",
            "    Index matrix_list: RangeIndex(start=0, stop=4, step=1)\n"
          ],
          "name": "stdout"
        }
      ]
    },
    {
      "cell_type": "markdown",
      "metadata": {
        "id": "NNGbvQ7SLXgT"
      },
      "source": [
        "**9. Attribute .columns**\r\n",
        "\r\n",
        "Attribute .columns digunakan untuk mengetahui apa saja kolom yang tersedia di dataframe tersebut (hanya digunakan untuk dataframe saja). "
      ]
    },
    {
      "cell_type": "code",
      "metadata": {
        "colab": {
          "base_uri": "https://localhost:8080/"
        },
        "id": "bAAdMKmsLSnV",
        "outputId": "b5657bb2-71be-4c5d-e267-4e3350a3ce26"
      },
      "source": [
        "# [9] attribute .columns\r\n",
        "print(\"[9] attribute .columns\")\r\n",
        "print(\"    Column matrix_list:\", matrix_list.columns)"
      ],
      "execution_count": 15,
      "outputs": [
        {
          "output_type": "stream",
          "text": [
            "[9] attribute .columns\n",
            "    Column matrix_list: RangeIndex(start=0, stop=3, step=1)\n"
          ],
          "name": "stdout"
        }
      ]
    },
    {
      "cell_type": "markdown",
      "metadata": {
        "id": "x2e0GKZbLl1O"
      },
      "source": [
        "**10. Attribute .loc**\r\n",
        "\r\n",
        "Attribute .loc digunakan slice dataframe atau series berdasarkan nama kolom dan/atau nama index."
      ]
    },
    {
      "cell_type": "code",
      "metadata": {
        "colab": {
          "base_uri": "https://localhost:8080/"
        },
        "id": "q48h0vwLLfSX",
        "outputId": "435f1395-b4cb-4aa5-87eb-072300f2e877"
      },
      "source": [
        "# [10] attribute .loc\r\n",
        "print(\"[10] attribute .loc\")\r\n",
        "print(\"    .loc[0:1] pada number_list:\", number_list.loc[0:1])\r\n",
        "print(\"    .loc[0:1] pada matrix_list:\", matrix_list.loc[0:1])"
      ],
      "execution_count": 16,
      "outputs": [
        {
          "output_type": "stream",
          "text": [
            "[10] attribute .loc\n",
            "    .loc[0:1] pada number_list: 0    1\n",
            "1    2\n",
            "dtype: int64\n",
            "    .loc[0:1] pada matrix_list:    0  1  2\n",
            "0  1  2  3\n",
            "1  a  b  c\n"
          ],
          "name": "stdout"
        }
      ]
    },
    {
      "cell_type": "markdown",
      "metadata": {
        "id": "Mw2pd5VmL0J8"
      },
      "source": [
        "**11. Attribute .iloc**\r\n",
        "\r\n",
        "Attribute .iloc digunakan untuk slice dataframe atau series berdasarkan index kolom dan/atau index."
      ]
    },
    {
      "cell_type": "code",
      "metadata": {
        "colab": {
          "base_uri": "https://localhost:8080/"
        },
        "id": "l9SGOzcuLyUz",
        "outputId": "cb7f37d9-0193-4522-a2d5-11f37348bf17"
      },
      "source": [
        "# [11] attribute .iloc\r\n",
        "print(\"[11] attribute .iloc\")\r\n",
        "print(\"    iloc[0:1] pada number_list:\", number_list.iloc[0:1])\r\n",
        "print(\"    iloc[0:1] pada matrix_list:\", matrix_list.iloc[0:1])\t"
      ],
      "execution_count": 17,
      "outputs": [
        {
          "output_type": "stream",
          "text": [
            "[11] attribute .iloc\n",
            "    iloc[0:1] pada number_list: 0    1\n",
            "dtype: int64\n",
            "    iloc[0:1] pada matrix_list:    0  1  2\n",
            "0  1  2  3\n"
          ],
          "name": "stdout"
        }
      ]
    },
    {
      "cell_type": "markdown",
      "metadata": {
        "id": "efUaV8JiMqip"
      },
      "source": [
        "### Creating Series & Dataframe from List\r\n",
        "Untuk membuat Series atau Dataframe bisa dari berbagai macam tipe data container/mapping di python, seperti list dan dictionary, maupun dari numpy array.\r\n",
        "\r\n",
        "Pada sub bagian ini, kamu akan membuat Series dan Dataframe yang bersumber dari list. Sekedar meninjau bahwa, list merupakan sebuah kumpulan data berbagai macam tipe data, yang mutable (dapat diganti)."
      ]
    },
    {
      "cell_type": "code",
      "metadata": {
        "colab": {
          "base_uri": "https://localhost:8080/"
        },
        "id": "HTPzgzNCMDWk",
        "outputId": "ff20c2fb-f47c-461f-c7ec-6b46b06521ae"
      },
      "source": [
        "import pandas as pd\r\n",
        "# Creating series from list\r\n",
        "ex_list = ['a',1,3,5,'c','d']\r\n",
        "ex_series = pd.Series(ex_list)\r\n",
        "print(ex_list)"
      ],
      "execution_count": 18,
      "outputs": [
        {
          "output_type": "stream",
          "text": [
            "['a', 1, 3, 5, 'c', 'd']\n"
          ],
          "name": "stdout"
        }
      ]
    },
    {
      "cell_type": "code",
      "metadata": {
        "colab": {
          "base_uri": "https://localhost:8080/"
        },
        "id": "JaoP7-vfM6_e",
        "outputId": "1f1fac90-763d-48de-ccc7-23b5e3338396"
      },
      "source": [
        "# Creating dataframe from list of list\r\n",
        "ex_list_of_list = [[1,'a','b','c'],\r\n",
        "[2.5,'d','e','f'],\r\n",
        "[5,'g','h','i'],\r\n",
        "[7.5,'j',10.5,'l']]\r\n",
        "\r\n",
        "index = ['dq','lab','kar','lan']\r\n",
        "cols = ['float','char','obj','char']\r\n",
        "ex_df = pd.DataFrame(ex_list_of_list, index=index, columns=cols)\r\n",
        "print(ex_df)"
      ],
      "execution_count": 22,
      "outputs": [
        {
          "output_type": "stream",
          "text": [
            "     float char   obj char\n",
            "dq     1.0    a     b    c\n",
            "lab    2.5    d     e    f\n",
            "kar    5.0    g     h    i\n",
            "lan    7.5    j  10.5    l\n"
          ],
          "name": "stdout"
        }
      ]
    },
    {
      "cell_type": "markdown",
      "metadata": {
        "id": "2aEONIgHPSrm"
      },
      "source": [
        "### Creating Series & Dataframe from Dictionary\r\n",
        "Untuk membuat Series atau Dataframe bisa dari berbagai macam tipe data container/mapping di python, seperti list dan dictionary, maupun dari numpy array.\r\n",
        "\r\n",
        "Pada sub bagian ini, akan membuat Series dan Dataframe yang bersumber dari dictionary. Sekedar meninjau bahwa, dictionary merupakan kumpulan data yang strukturnya terdiri dari key dan value."
      ]
    },
    {
      "cell_type": "code",
      "metadata": {
        "colab": {
          "base_uri": "https://localhost:8080/"
        },
        "id": "Zw0gfn8HNkTI",
        "outputId": "ea892911-cf01-436e-857f-1ce7e0feca70"
      },
      "source": [
        "import pandas as pd\r\n",
        "# Creating series from dictionary\r\n",
        "dict_series = {'1':'a',\r\n",
        "\t\t\t   '2':'b',\r\n",
        "\t\t\t   '3':'c'}\r\n",
        "ex_series = pd.Series(dict_series)\r\n",
        "print(ex_series)"
      ],
      "execution_count": 23,
      "outputs": [
        {
          "output_type": "stream",
          "text": [
            "1    a\n",
            "2    b\n",
            "3    c\n",
            "dtype: object\n"
          ],
          "name": "stdout"
        }
      ]
    },
    {
      "cell_type": "code",
      "metadata": {
        "colab": {
          "base_uri": "https://localhost:8080/"
        },
        "id": "JYOpRVv7QThI",
        "outputId": "42955910-e04d-4477-dc33-62373f1eb705"
      },
      "source": [
        "# Creating dataframe from dictionary\r\n",
        "df_series = {'1':['a','b','c'],\r\n",
        "             '2':['b','c','d'],\r\n",
        "             '4':[2,3,'z']}\r\n",
        "ex_df = pd.DataFrame(df_series)\r\n",
        "print(ex_df)"
      ],
      "execution_count": 24,
      "outputs": [
        {
          "output_type": "stream",
          "text": [
            "   1  2  4\n",
            "0  a  b  2\n",
            "1  b  c  3\n",
            "2  c  d  z\n"
          ],
          "name": "stdout"
        }
      ]
    },
    {
      "cell_type": "markdown",
      "metadata": {
        "id": "LurpYmnuV5QG"
      },
      "source": [
        "### Creating Series & Dataframe from Numpy Array\r\n",
        "Untuk membuat Series atau Dataframe bisa dari berbagai macam tipe data container/mapping di python, seperti list dan dictionary, maupun dari numpy array.\r\n",
        "\r\n",
        "\r\n",
        "Pada sub bagian ini, akan membuat Series dan Dataframe yang bersumber dari **numpy array**. Sekedar meninjau bahwa, numpy array kumpulan data yang terdiri atas berbagai macam tipe data, mutable, tapi dibungkus dalam array oleh library Numpy."
      ]
    },
    {
      "cell_type": "code",
      "metadata": {
        "colab": {
          "base_uri": "https://localhost:8080/"
        },
        "id": "AWeStLiUQWze",
        "outputId": "fde340a1-97b9-4776-f5d3-603d549eacfd"
      },
      "source": [
        "import pandas as pd\r\n",
        "import numpy as np\r\n",
        "# Creating series from numpy array (1D)\r\n",
        "arr_series = np.array([1,2,3,4,5,6,6,7])\r\n",
        "ex_series = pd.Series(arr_series)\r\n",
        "print(ex_series)"
      ],
      "execution_count": 25,
      "outputs": [
        {
          "output_type": "stream",
          "text": [
            "0    1\n",
            "1    2\n",
            "2    3\n",
            "3    4\n",
            "4    5\n",
            "5    6\n",
            "6    6\n",
            "7    7\n",
            "dtype: int64\n"
          ],
          "name": "stdout"
        }
      ]
    },
    {
      "cell_type": "code",
      "metadata": {
        "colab": {
          "base_uri": "https://localhost:8080/"
        },
        "id": "HsfHiTcsWEC5",
        "outputId": "f1f612b2-ac32-42c2-b20b-9e91a33bfdb4"
      },
      "source": [
        "# Creating dataframe from numpy array (2D)\r\n",
        "arr_df = np.array([[1 ,2 ,3 ,5],\r\n",
        "                   [5 ,6 ,7 ,8],\r\n",
        "                   ['a','b','c',10]])\r\n",
        "ex_df = pd.DataFrame(arr_df)\r\n",
        "print(ex_df)"
      ],
      "execution_count": 26,
      "outputs": [
        {
          "output_type": "stream",
          "text": [
            "   0  1  2   3\n",
            "0  1  2  3   5\n",
            "1  5  6  7   8\n",
            "2  a  b  c  10\n"
          ],
          "name": "stdout"
        }
      ]
    },
    {
      "cell_type": "code",
      "metadata": {
        "id": "QDjO1nZmWGA4"
      },
      "source": [
        ""
      ],
      "execution_count": null,
      "outputs": []
    }
  ]
}