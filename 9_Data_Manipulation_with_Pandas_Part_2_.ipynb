{
  "nbformat": 4,
  "nbformat_minor": 0,
  "metadata": {
    "colab": {
      "name": "9_Data Manipulation with Pandas_Part_2 .ipynb",
      "provenance": [],
      "authorship_tag": "ABX9TyOJxhj+OghnISIXItKdWKKP",
      "include_colab_link": true
    },
    "kernelspec": {
      "name": "python3",
      "display_name": "Python 3"
    },
    "accelerator": "GPU"
  },
  "cells": [
    {
      "cell_type": "markdown",
      "metadata": {
        "id": "view-in-github",
        "colab_type": "text"
      },
      "source": [
        "<a href=\"https://colab.research.google.com/github/setyo-dwi-pratama/Courses/blob/main/9_Data_Manipulation_with_Pandas_Part_2_.ipynb\" target=\"_parent\"><img src=\"https://colab.research.google.com/assets/colab-badge.svg\" alt=\"Open In Colab\"/></a>"
      ]
    },
    {
      "cell_type": "markdown",
      "metadata": {
        "id": "UG65lMwk6lTs"
      },
      "source": [
        "# **Data Manipulation with Pandas - Part 2** "
      ]
    },
    {
      "cell_type": "markdown",
      "metadata": {
        "id": "go-wOxwA6o1A"
      },
      "source": [
        "## **Penggabungan Series/Dataframe**"
      ]
    },
    {
      "cell_type": "markdown",
      "metadata": {
        "id": "8xh6y_wb7Hw4"
      },
      "source": [
        "### Pendahuluan\r\n",
        "“Aksara, sedang apa?”\r\n",
        "\r\n",
        "\r\n",
        "Aku pun mengalihkan perhatianku dari layar laptop ke Andra. Pagi-pagi sekali ia sudah menghampiriku. Diam-diam aku menebak materi baru apa lagi yang harus kupelajari ataukah ada proyek dadakan lagi yang perlu diselesaikan?\r\n",
        "\r\n",
        " \r\n",
        "\r\n",
        "“Lagi latihan pakai Pandas, Ndra.”\r\n",
        "\r\n",
        "“Oh, masih modul Pandas part 1 kemarin?”\r\n",
        "\r\n",
        "Aku mengangguk.\r\n",
        "\r\n",
        "\r\n",
        "“Pas banget, pagi ini saya mau ngirim ke kamu lanjutan modulnya. Lagipula modul kemarin kamu sudah lulus kok. Sekarang fokus ke Pandas part 2 saja. Kali ini materinya lebih dalam mengenai interaksi dengan tabular data menggunakan Pandas. Nanti kamu baca dan pelajari saja dulu.”\r\n",
        "\r\n",
        " \r\n",
        "“Oh, oke.” \r\n",
        "\r\n",
        "\r\n",
        "Setelah obrolan tadi, aku langsung menerima pesan dengan lampiran materi lanjutan dari Andra. Penasaran dengan apa yang bisa Pandas lakukan lagi, aku pun segera membuka dan mencernanya:\r\n",
        "\r\n",
        "\r\n",
        "Reference: https://pandas.pydata.org/pandas-docs/stable/user_guide/merging.html"
      ]
    },
    {
      "cell_type": "markdown",
      "metadata": {
        "id": "-b-RSU6j7L1m"
      },
      "source": [
        "### Bagaimana Cara Menggabungkan Pandas Series/Dataframe?\r\n",
        "Sebagai seorang praktisi data, pasti sering kali bertemu dengan banyak file sekaligus dan data yang dibutuhkan tersebar di berbagai file tersebut dan membutuhkan metode untuk menggabungkan semua informasi yang dibutuhkan dari setiap file itu.\r\n",
        "\r\n",
        "Dengan menggunakan excel atau tools pengolah spreadsheet lain hal itu bisa terjadi mungkin dengan menggunakan copy paste file satu ke file lainnya atau yang agak canggih menggunakan method importRange di google sheets. Tetapi tentu hal itu tidak bisa diandalkan ketika berurusan dengan big data yang datanya bisa milyaran rows dengan informasi yang tidak terbatas, Python dan Pandas adalah satu-satunya cara untuk mengatasinya.\r\n",
        "\r\n",
        "Terdapat beberapa metode untuk menggabungkan Series/Dataframe di Pandas, yaitu:\r\n",
        "\r\n",
        "1. append\r\n",
        "2. concat\r\n",
        "3. merge\r\n",
        "4. join"
      ]
    },
    {
      "cell_type": "markdown",
      "metadata": {
        "id": "c2dGTcTr7iSz"
      },
      "source": [
        "### Append\r\n",
        "Method **.append()** dapat digunakan pada dataframe/series yang ditujukan untuk menambah row-nya saja. Jika di SQL memiliki 2 tabel atau lebih maka dapat menggabungkannya secara vertikal dengan Union. Jadi **SQL Union** ekuivalen dengan method **.append()** di Pandas."
      ]
    },
    {
      "cell_type": "markdown",
      "metadata": {
        "id": "cuiZO8nG73qz"
      },
      "source": [
        "Perhatikan contoh berikut, mulai dengan method .append pada **series**"
      ]
    },
    {
      "cell_type": "code",
      "metadata": {
        "colab": {
          "base_uri": "https://localhost:8080/"
        },
        "id": "mFtADqPI6oM4",
        "outputId": "b68e06f6-cad8-46bb-a827-c7f63b8834b2"
      },
      "source": [
        "import pandas as pd\r\n",
        "# Buat series of int (s1) dan series of string (s2)\r\n",
        "s1 = pd.Series([1,2,3,4,5,6])\r\n",
        "s2 = pd.Series([\"a\",\"b\",\"c\",\"d\",\"e\",\"f\"])\r\n",
        "# Terapkan method append\r\n",
        "s1_append_s2 = s1.append(s2)\r\n",
        "print(\"Series - append:\\n\", s1_append_s2)"
      ],
      "execution_count": 75,
      "outputs": [
        {
          "output_type": "stream",
          "text": [
            "Series - append:\n",
            " 0    1\n",
            "1    2\n",
            "2    3\n",
            "3    4\n",
            "4    5\n",
            "5    6\n",
            "0    a\n",
            "1    b\n",
            "2    c\n",
            "3    d\n",
            "4    e\n",
            "5    f\n",
            "dtype: object\n"
          ],
          "name": "stdout"
        }
      ]
    },
    {
      "cell_type": "markdown",
      "metadata": {
        "id": "i_u8J2T88s63"
      },
      "source": [
        "Untuk **Dataframe**"
      ]
    },
    {
      "cell_type": "code",
      "metadata": {
        "colab": {
          "base_uri": "https://localhost:8080/"
        },
        "id": "o2FG1zkk8V4q",
        "outputId": "4074dad3-0b74-4055-dec4-41b1b2174b4f"
      },
      "source": [
        "# Buat dataframe df1 dan df2\r\n",
        "df1 = pd.DataFrame({'a':[1,2],\r\n",
        "                    'b':[3,4]})\r\n",
        "print(\"df1:\\n\", df1)\r\n",
        "df2 = pd.DataFrame({'b':[1,2],\r\n",
        "                    'a':[3,4]})\r\n",
        "print(\"df2:\\n\", df2)\r\n",
        "# Terapkan method append\r\n",
        "df1_append_df2 = df1.append(df2)\r\n",
        "print(\"Dataframe - append:\\n\", df1_append_df2)"
      ],
      "execution_count": 76,
      "outputs": [
        {
          "output_type": "stream",
          "text": [
            "df1:\n",
            "    a  b\n",
            "0  1  3\n",
            "1  2  4\n",
            "df2:\n",
            "    b  a\n",
            "0  1  3\n",
            "1  2  4\n",
            "Dataframe - append:\n",
            "    a  b\n",
            "0  1  3\n",
            "1  2  4\n",
            "0  3  1\n",
            "1  4  2\n"
          ],
          "name": "stdout"
        }
      ]
    },
    {
      "cell_type": "markdown",
      "metadata": {
        "id": "uflJHQiA9xVt"
      },
      "source": [
        "**Tugas Praktek:**\r\n",
        "\r\n",
        "Untuk prakteknya terapkanlah method append dengan series s1 dan dataframe df1 ditempatkan setelah series s2 dan dataframe df2 masing-masingnya."
      ]
    },
    {
      "cell_type": "code",
      "metadata": {
        "colab": {
          "base_uri": "https://localhost:8080/"
        },
        "id": "jvyMWR-59Vig",
        "outputId": "79c2634e-bab0-4dcd-a0fc-c97128d61788"
      },
      "source": [
        "# Buat series of int (s1) dan series of string (s2)\r\n",
        "s1 = pd.Series([1,2,3,4,5,6])\r\n",
        "s2 = pd.Series([\"a\",\"b\",\"c\",\"d\",\"e\",\"f\"])\r\n",
        "# Terapkan method append\r\n",
        "s2_append_s1 = s2.append(s1)\r\n",
        "print(\"Series - append:\\n\", s2_append_s1)"
      ],
      "execution_count": 77,
      "outputs": [
        {
          "output_type": "stream",
          "text": [
            "Series - append:\n",
            " 0    a\n",
            "1    b\n",
            "2    c\n",
            "3    d\n",
            "4    e\n",
            "5    f\n",
            "0    1\n",
            "1    2\n",
            "2    3\n",
            "3    4\n",
            "4    5\n",
            "5    6\n",
            "dtype: object\n"
          ],
          "name": "stdout"
        }
      ]
    },
    {
      "cell_type": "code",
      "metadata": {
        "colab": {
          "base_uri": "https://localhost:8080/"
        },
        "id": "HAyE47ED-SUd",
        "outputId": "ea13320f-f0cf-4359-c4fb-8d45ed1df485"
      },
      "source": [
        "# Buat dataframe df1 dan df2\r\n",
        "df1 = pd.DataFrame({'a':[1,2],\r\n",
        "'b':[3,4]})\r\n",
        "df2 = pd.DataFrame({'b':[1,2],\r\n",
        "'a':[3,4]})\r\n",
        "# Terapkan method append\r\n",
        "df2_append_df1 = df2.append(df1)\r\n",
        "print(\"Dataframe - append:\\n\", df2_append_df1)"
      ],
      "execution_count": 78,
      "outputs": [
        {
          "output_type": "stream",
          "text": [
            "Dataframe - append:\n",
            "    b  a\n",
            "0  1  3\n",
            "1  2  4\n",
            "0  3  1\n",
            "1  4  2\n"
          ],
          "name": "stdout"
        }
      ]
    },
    {
      "cell_type": "markdown",
      "metadata": {
        "id": "OMqjeA-DACSV"
      },
      "source": [
        "### Concat\r\n",
        "Method **.concat()** dapat digunakan pada dataframe yang ditujukan untuk penggabungan baik dalam row-wise (dalam arah ) atau column-wise."
      ]
    },
    {
      "cell_type": "markdown",
      "metadata": {
        "id": "WRS17zB8AKrM"
      },
      "source": [
        "Perhatikan contoh berikut, mulai dengan method .concat pada **row-wise**"
      ]
    },
    {
      "cell_type": "code",
      "metadata": {
        "colab": {
          "base_uri": "https://localhost:8080/"
        },
        "id": "nObE4P9uAJ-U",
        "outputId": "23eb8495-7566-41db-d1c4-a2afef2453c9"
      },
      "source": [
        "# Buat dataframe df1 dan df2\r\n",
        "df1 = pd.DataFrame({'a':[1,2],\r\n",
        "                    'b':[3,4]})\r\n",
        "print(\"df1:\\n\", df1)\r\n",
        "df2 = pd.DataFrame({'b':[1,2],\r\n",
        "                    'a':[3,4]})\r\n",
        "print(\"df2:\\n\", df2)\r\n",
        "# Terapkan method concat row-wise\r\n",
        "row_wise_concat = pd.concat([df1,df2])\r\n",
        "print(\"Row-wise - concat:\\n\", row_wise_concat)"
      ],
      "execution_count": 79,
      "outputs": [
        {
          "output_type": "stream",
          "text": [
            "df1:\n",
            "    a  b\n",
            "0  1  3\n",
            "1  2  4\n",
            "df2:\n",
            "    b  a\n",
            "0  1  3\n",
            "1  2  4\n",
            "Row-wise - concat:\n",
            "    a  b\n",
            "0  1  3\n",
            "1  2  4\n",
            "0  3  1\n",
            "1  4  2\n"
          ],
          "name": "stdout"
        }
      ]
    },
    {
      "cell_type": "markdown",
      "metadata": {
        "id": "HYKOGDPqA1J9"
      },
      "source": [
        "Untuk penerapan concat pada **column-wise**"
      ]
    },
    {
      "cell_type": "code",
      "metadata": {
        "colab": {
          "base_uri": "https://localhost:8080/"
        },
        "id": "HtoXHBbFAm5j",
        "outputId": "35533a76-6114-42b9-984d-cd737cf2fea0"
      },
      "source": [
        "# Terapkan method concat column-wise\r\n",
        "col_wise_concat = pd.concat([df1, df2], axis=1)\r\n",
        "print(\"Column-wise - concat:\\n\", col_wise_concat)"
      ],
      "execution_count": 80,
      "outputs": [
        {
          "output_type": "stream",
          "text": [
            "Column-wise - concat:\n",
            "    a  b  b  a\n",
            "0  1  3  1  3\n",
            "1  2  4  2  4\n"
          ],
          "name": "stdout"
        }
      ]
    },
    {
      "cell_type": "markdown",
      "metadata": {
        "id": "smpzEZXzBQ-L"
      },
      "source": [
        "Dapat juga menambahkan identifier dari dataframe untuk data yang ditambahkan"
      ]
    },
    {
      "cell_type": "code",
      "metadata": {
        "colab": {
          "base_uri": "https://localhost:8080/"
        },
        "id": "X3cEPhNqBLt-",
        "outputId": "75526abe-0f9f-4206-d37a-8cca77cb0423"
      },
      "source": [
        "# Penambahan identifier --> membentuh hasil penggabungan multiindex\r\n",
        "multiindex_concat = pd.concat([df1,df2],axis=0,keys=['df1','df2'])\r\n",
        "print(\"Multiindex - concat:\\n\", multiindex_concat)"
      ],
      "execution_count": 81,
      "outputs": [
        {
          "output_type": "stream",
          "text": [
            "Multiindex - concat:\n",
            "        a  b\n",
            "df1 0  1  3\n",
            "    1  2  4\n",
            "df2 0  3  1\n",
            "    1  4  2\n"
          ],
          "name": "stdout"
        }
      ]
    },
    {
      "cell_type": "markdown",
      "metadata": {
        "id": "uh84mcSSByeP"
      },
      "source": [
        "**Tugas Praktek**:\r\n",
        "\r\n",
        "Balikkanlah posisi kedua dataframe yang akan digabungkan dengan concat. "
      ]
    },
    {
      "cell_type": "code",
      "metadata": {
        "colab": {
          "base_uri": "https://localhost:8080/"
        },
        "id": "RGElsPoRCe7r",
        "outputId": "5bdaef5b-cfac-44a9-ccff-4aae0d0d367f"
      },
      "source": [
        "import pandas as pd\r\n",
        "# Buat dataframe df1 dan df2\r\n",
        "df1 = pd.DataFrame({'a':[1,2],\r\n",
        "                    'b':[3,4]})\r\n",
        "df2 = pd.DataFrame({'b':[1,2],\r\n",
        "                    'a':[3,4]})\r\n",
        "\r\n",
        "# Terapkan method concat row-wise\r\n",
        "row_wise_concat = pd.concat([df2, df1])\r\n",
        "print(\"Row-wise - concat:\\n\", row_wise_concat)\r\n",
        "\r\n",
        "# Terapkan method concat column-wise\r\n",
        "col_wise_concat = pd.concat([df2, df1], axis=1)\r\n",
        "print(\"Column-wise - concat:\\n\", col_wise_concat)\r\n",
        "\r\n",
        "# Penambahan identifier --> membentuk hasil penggabungan multiindex\r\n",
        "multiindex_concat = pd.concat([df2,df1], axis=0, keys=['df1','df2'])\r\n",
        "print(\"Multiindex - concat:\\n\", multiindex_concat)"
      ],
      "execution_count": 82,
      "outputs": [
        {
          "output_type": "stream",
          "text": [
            "Row-wise - concat:\n",
            "    b  a\n",
            "0  1  3\n",
            "1  2  4\n",
            "0  3  1\n",
            "1  4  2\n",
            "Column-wise - concat:\n",
            "    b  a  a  b\n",
            "0  1  3  1  3\n",
            "1  2  4  2  4\n",
            "Multiindex - concat:\n",
            "        b  a\n",
            "df1 0  1  3\n",
            "    1  2  4\n",
            "df2 0  3  1\n",
            "    1  4  2\n"
          ],
          "name": "stdout"
        }
      ]
    },
    {
      "cell_type": "markdown",
      "metadata": {
        "id": "yDjAEzpIDhXe"
      },
      "source": [
        "### Merge - Part 1\r\n",
        "Method **.merge()** untuk menggabungkan Series/Dataframe yang bentuknya mirip dengan syntax join di SQL, specify left and right tables, join key dan how to join (left, right, inner, full outer)."
      ]
    },
    {
      "cell_type": "markdown",
      "metadata": {
        "id": "b--Lu3wiEpFV"
      },
      "source": [
        "Mari kita perhatikan contoh berikut:"
      ]
    },
    {
      "cell_type": "code",
      "metadata": {
        "colab": {
          "base_uri": "https://localhost:8080/"
        },
        "id": "lAKzqBJFC7MT",
        "outputId": "ec176996-eb7e-48c7-c5f2-99adec645d98"
      },
      "source": [
        "# Buat dataframe df1 dan df2\r\n",
        "df1 = pd.DataFrame({\r\n",
        "   'key':['k1','k2','k3','k4','k5'],\r\n",
        "   'val1':[200, 500, 0, 500, 100],\r\n",
        "   'val2':[30, 50, 100, 20, 10]\r\n",
        "})\r\n",
        "print(\"df1:\\n\", df1)\r\n",
        "df2 = pd.DataFrame({\r\n",
        "   'key':['k1','k3','k5','k7','k10'],\r\n",
        "   'val3':[1,2,3,4,5],\r\n",
        "   'val4':[6,7,8,8,10]\r\n",
        "})\r\n",
        "print(\"df2:\\n\", df2)"
      ],
      "execution_count": 83,
      "outputs": [
        {
          "output_type": "stream",
          "text": [
            "df1:\n",
            "   key  val1  val2\n",
            "0  k1   200    30\n",
            "1  k2   500    50\n",
            "2  k3     0   100\n",
            "3  k4   500    20\n",
            "4  k5   100    10\n",
            "df2:\n",
            "    key  val3  val4\n",
            "0   k1     1     6\n",
            "1   k3     2     7\n",
            "2   k5     3     8\n",
            "3   k7     4     8\n",
            "4  k10     5    10\n"
          ],
          "name": "stdout"
        }
      ]
    },
    {
      "cell_type": "markdown",
      "metadata": {
        "id": "dS9LY0cvE487"
      },
      "source": [
        "pd.merge yang ekivalen dengan SQL **left join**"
      ]
    },
    {
      "cell_type": "code",
      "metadata": {
        "colab": {
          "base_uri": "https://localhost:8080/"
        },
        "id": "45Vbb8IEEsvp",
        "outputId": "8fe7fb0e-e7d9-4fc4-b901-3e34078fdb74"
      },
      "source": [
        "# Merge yang ekivalen dengan SQL left join\r\n",
        "merge_df_left = pd.merge(left=df1, right=df2, how='left', left_on='key',right_on='key')\r\n",
        "print('Merge - Left:\\n', merge_df_left)"
      ],
      "execution_count": 84,
      "outputs": [
        {
          "output_type": "stream",
          "text": [
            "Merge - Left:\n",
            "   key  val1  val2  val3  val4\n",
            "0  k1   200    30   1.0   6.0\n",
            "1  k2   500    50   NaN   NaN\n",
            "2  k3     0   100   2.0   7.0\n",
            "3  k4   500    20   NaN   NaN\n",
            "4  k5   100    10   3.0   8.0\n"
          ],
          "name": "stdout"
        }
      ]
    },
    {
      "cell_type": "markdown",
      "metadata": {
        "id": "uRmbyjAzFC9k"
      },
      "source": [
        "pd.merge yang ekivalen dengan SQL **right join**"
      ]
    },
    {
      "cell_type": "code",
      "metadata": {
        "colab": {
          "base_uri": "https://localhost:8080/"
        },
        "id": "gN2jpEv9E_rq",
        "outputId": "f5eef5be-eb9a-469e-a759-2c1a0d99e968"
      },
      "source": [
        "# Merge yang ekivalen dengan SQL right join\r\n",
        "merge_df_right = pd.merge(left=df1, right=df2, how='right', left_on='key',right_on='key')\r\n",
        "print('Merge - Right:\\n', merge_df_right)"
      ],
      "execution_count": 85,
      "outputs": [
        {
          "output_type": "stream",
          "text": [
            "Merge - Right:\n",
            "    key   val1   val2  val3  val4\n",
            "0   k1  200.0   30.0     1     6\n",
            "1   k3    0.0  100.0     2     7\n",
            "2   k5  100.0   10.0     3     8\n",
            "3   k7    NaN    NaN     4     8\n",
            "4  k10    NaN    NaN     5    10\n"
          ],
          "name": "stdout"
        }
      ]
    },
    {
      "cell_type": "markdown",
      "metadata": {
        "id": "ViQ0WzAeFaPl"
      },
      "source": [
        "pd.merge yang ekivalen dengan SQL **inner join**"
      ]
    },
    {
      "cell_type": "code",
      "metadata": {
        "colab": {
          "base_uri": "https://localhost:8080/"
        },
        "id": "SO0gaIRiFIN5",
        "outputId": "9f008e9a-60e8-4bc4-bb9c-ff7af2dbc2fa"
      },
      "source": [
        "# Merge yang ekivalen dengan SQL inner join\r\n",
        "merge_df_inner = pd.merge(left=df1, right=df2, how='inner', left_on='key',right_on='key')\r\n",
        "print('Merge - Inner:\\n', merge_df_inner)"
      ],
      "execution_count": 86,
      "outputs": [
        {
          "output_type": "stream",
          "text": [
            "Merge - Inner:\n",
            "   key  val1  val2  val3  val4\n",
            "0  k1   200    30     1     6\n",
            "1  k3     0   100     2     7\n",
            "2  k5   100    10     3     8\n"
          ],
          "name": "stdout"
        }
      ]
    },
    {
      "cell_type": "markdown",
      "metadata": {
        "id": "iZWKyBAtFicO"
      },
      "source": [
        "pd.merge yang ekivalen dengan SQL **outer join**"
      ]
    },
    {
      "cell_type": "code",
      "metadata": {
        "colab": {
          "base_uri": "https://localhost:8080/"
        },
        "id": "9mGhoQcSFfkn",
        "outputId": "c782fb78-4fbe-4641-d0c8-37f1553db651"
      },
      "source": [
        "# Merge yang ekivalen dengan SQL outer join\r\n",
        "merge_df_outer = pd.merge(left=df1, right=df2, how='outer', left_on='key',right_on='key')\r\n",
        "print('Merge - Outer:\\n', merge_df_outer)"
      ],
      "execution_count": 87,
      "outputs": [
        {
          "output_type": "stream",
          "text": [
            "Merge - Outer:\n",
            "    key   val1   val2  val3  val4\n",
            "0   k1  200.0   30.0   1.0   6.0\n",
            "1   k2  500.0   50.0   NaN   NaN\n",
            "2   k3    0.0  100.0   2.0   7.0\n",
            "3   k4  500.0   20.0   NaN   NaN\n",
            "4   k5  100.0   10.0   3.0   8.0\n",
            "5   k7    NaN    NaN   4.0   8.0\n",
            "6  k10    NaN    NaN   5.0  10.0\n"
          ],
          "name": "stdout"
        }
      ]
    },
    {
      "cell_type": "markdown",
      "metadata": {
        "id": "2ancf_v_FqHV"
      },
      "source": [
        "**Tugas Praktek:**\r\n",
        "\r\n",
        "Pada contoh di atas keyword argument left=df1 dan right=df2, untuk praktek gunakanlah keyword argument untuk left dan right masing-masingnya adalah df2 dan df1."
      ]
    },
    {
      "cell_type": "code",
      "metadata": {
        "colab": {
          "base_uri": "https://localhost:8080/"
        },
        "id": "QSX_ns9cFmu1",
        "outputId": "687f1c7d-779e-466e-be30-137bf0ac6fb0"
      },
      "source": [
        "import pandas as pd\r\n",
        "# Buat dataframe df1 dan df2\r\n",
        "df1 = pd.DataFrame({\r\n",
        "   'key':['k1','k2','k3','k4','k5'],\r\n",
        "   'val1':[200, 500, 0, 500, 100],\r\n",
        "   'val2':[30, 50, 100, 20, 10]\r\n",
        "})\r\n",
        "df2 = pd.DataFrame({\r\n",
        "   'key':['k1','k3','k5','k7','k10'],\r\n",
        "   'val3':[1,2,3,4,5],\r\n",
        "   'val4':[6,7,8,8,10]\r\n",
        "})\r\n",
        "# Merge yang ekivalen dengan SQL left join\r\n",
        "merge_df_left = pd.merge(left=df2, right=df1, how='left', left_on='key',right_on='key')\r\n",
        "print('Merge - Left:\\n', merge_df_left)\r\n",
        "\r\n",
        "# Merge yang ekivalen dengan SQL right join\r\n",
        "merge_df_right = pd.merge(left=df2, right=df1, how='right', left_on='key',right_on='key')\r\n",
        "print('Merge - Right:\\n', merge_df_right)\r\n",
        "\r\n",
        "# Merge yang ekivalen dengan SQL inner join\r\n",
        "merge_df_inner = pd.merge(left=df2, right=df1, how='inner', left_on='key',right_on='key')\r\n",
        "print('Merge - Inner:\\n', merge_df_inner)\r\n",
        "\r\n",
        "# Merge yang ekivalen dengan SQL outer join\r\n",
        "merge_df_outer = pd.merge(left=df2, right=df1, how='outer', left_on='key',right_on='key')\r\n",
        "print('Merge - Outer:\\n', merge_df_outer)"
      ],
      "execution_count": 88,
      "outputs": [
        {
          "output_type": "stream",
          "text": [
            "Merge - Left:\n",
            "    key  val3  val4   val1   val2\n",
            "0   k1     1     6  200.0   30.0\n",
            "1   k3     2     7    0.0  100.0\n",
            "2   k5     3     8  100.0   10.0\n",
            "3   k7     4     8    NaN    NaN\n",
            "4  k10     5    10    NaN    NaN\n",
            "Merge - Right:\n",
            "   key  val3  val4  val1  val2\n",
            "0  k1   1.0   6.0   200    30\n",
            "1  k2   NaN   NaN   500    50\n",
            "2  k3   2.0   7.0     0   100\n",
            "3  k4   NaN   NaN   500    20\n",
            "4  k5   3.0   8.0   100    10\n",
            "Merge - Inner:\n",
            "   key  val3  val4  val1  val2\n",
            "0  k1     1     6   200    30\n",
            "1  k3     2     7     0   100\n",
            "2  k5     3     8   100    10\n",
            "Merge - Outer:\n",
            "    key  val3  val4   val1   val2\n",
            "0   k1   1.0   6.0  200.0   30.0\n",
            "1   k3   2.0   7.0    0.0  100.0\n",
            "2   k5   3.0   8.0  100.0   10.0\n",
            "3   k7   4.0   8.0    NaN    NaN\n",
            "4  k10   5.0  10.0    NaN    NaN\n",
            "5   k2   NaN   NaN  500.0   50.0\n",
            "6   k4   NaN   NaN  500.0   20.0\n"
          ],
          "name": "stdout"
        }
      ]
    },
    {
      "cell_type": "markdown",
      "metadata": {
        "id": "4anCZ5zZFxSD"
      },
      "source": [
        "### Merge - Part 2\r\n",
        "Penggunaan method .merge yang telah dipelajari pada part 1 adalah untuk dataframe dengan index tunggal.\r\n",
        "\r\n",
        "Bagaimana jika salah satu dataframe atau keseluruhan dataframe yang akan digabungkan tersebut memiliki multiindex?"
      ]
    },
    {
      "cell_type": "code",
      "metadata": {
        "id": "9y-Ea8zmFuwN",
        "colab": {
          "base_uri": "https://localhost:8080/"
        },
        "outputId": "cf917356-dda6-4397-d5df-38e688cec219"
      },
      "source": [
        "import pandas as pd\r\n",
        "# Buat dataframe df1 dan df2\r\n",
        "df1 = pd.DataFrame({\r\n",
        "   'key':['k1','k2','k3','k4','k5'],\r\n",
        "   'val1':[200, 500, 0, 500, 100],\r\n",
        "   'val2':[30, 50, 100, 20, 10]\r\n",
        "}).set_index(['key','val2'])\r\n",
        "print('Dataframe 1:\\n', df1)\r\n",
        "df2 = pd.DataFrame({\r\n",
        "   'key':['k1','k3','k5','k7','k10'],\r\n",
        "   'val3':[1,2,3,4,5],\r\n",
        "   'val4':[6,7,8,8,10]\r\n",
        "}).set_index(['key','val3'])\r\n",
        "print('Dataframe 2:\\n', df2)"
      ],
      "execution_count": 89,
      "outputs": [
        {
          "output_type": "stream",
          "text": [
            "Dataframe 1:\n",
            "           val1\n",
            "key val2      \n",
            "k1  30     200\n",
            "k2  50     500\n",
            "k3  100      0\n",
            "k4  20     500\n",
            "k5  10     100\n",
            "Dataframe 2:\n",
            "           val4\n",
            "key val3      \n",
            "k1  1        6\n",
            "k3  2        7\n",
            "k5  3        8\n",
            "k7  4        8\n",
            "k10 5       10\n"
          ],
          "name": "stdout"
        }
      ]
    },
    {
      "cell_type": "markdown",
      "metadata": {
        "id": "5KUEuthIHunw"
      },
      "source": [
        "Jika digabungkan secara langsung seperti yang telah dilakukan pada bagian sebelumnya"
      ]
    },
    {
      "cell_type": "code",
      "metadata": {
        "id": "NNvvWztIHtnJ"
      },
      "source": [
        "# Merge dataframe yang memiliki multi index\r\n",
        "# df_merge = pd.merge(df1,df2)\r\n",
        "# print('Merging dataframe:\\n', df_merge)"
      ],
      "execution_count": 90,
      "outputs": []
    },
    {
      "cell_type": "markdown",
      "metadata": {
        "id": "iBQ_1CbNH8Fa"
      },
      "source": [
        "akan menghasilkan terjadi kegagalan dalam merging kedua dataframe yang memiliki multi index.\r\n",
        "\r\n",
        "Cara mengatasinya adalah dengan mereset index pada kedua dataframe, kemudian merge akan mendeteksi common single/multi column di kedua dataframe dan melakukan merge,"
      ]
    },
    {
      "cell_type": "code",
      "metadata": {
        "colab": {
          "base_uri": "https://localhost:8080/"
        },
        "id": "ozs3Yk4yH7aT",
        "outputId": "33615d56-03b8-4219-e9c9-754518394c61"
      },
      "source": [
        "# Merge dataframe yang memiliki multi index\r\n",
        "df_merge = pd.merge(df1.reset_index(),df2.reset_index())\r\n",
        "print('Merging dataframe:\\n', df_merge)"
      ],
      "execution_count": 91,
      "outputs": [
        {
          "output_type": "stream",
          "text": [
            "Merging dataframe:\n",
            "   key  val2  val1  val3  val4\n",
            "0  k1    30   200     1     6\n",
            "1  k3   100     0     2     7\n",
            "2  k5    10   100     3     8\n"
          ],
          "name": "stdout"
        }
      ]
    },
    {
      "cell_type": "markdown",
      "metadata": {
        "id": "XaeKec8tJ7Q-"
      },
      "source": [
        "### Join\r\n",
        "Metthod **.join()** digunakan pada dataframe untuk menggabungkan kedua data dengan set index pada kedua tabel tersebut sebagai join key, tanpa index, hal ini tidak akan berhasil.\r\n"
      ]
    },
    {
      "cell_type": "markdown",
      "metadata": {
        "id": "1SXIfD_uKAI6"
      },
      "source": [
        "Coba  lihat kasusnya"
      ]
    },
    {
      "cell_type": "code",
      "metadata": {
        "id": "CYOFHog9IEVb"
      },
      "source": [
        "import pandas as pd\r\n",
        "# Buat dataframe df1 dan df2\r\n",
        "df1 = pd.DataFrame({\r\n",
        "   'key':['k1','k2','k3','k4','k5'],\r\n",
        "   'val1':[200, 500, 0, 500, 100],\r\n",
        "   'val2':[30, 50, 100, 20, 10]\r\n",
        "})\r\n",
        "df2 = pd.DataFrame({\r\n",
        "   'key':['k1','k3','k5','k7','k10'],\r\n",
        "   'val3':[1,2,3,4,5],\r\n",
        "   'val4':[6,7,8,8,10]\r\n",
        "})\r\n",
        "# Penerapan join dengan menggunakan set_index dan keyword how\r\n",
        "# df1.join(df2) #<-- akan error"
      ],
      "execution_count": 92,
      "outputs": []
    },
    {
      "cell_type": "markdown",
      "metadata": {
        "id": "JqnCDA6NKVFp"
      },
      "source": [
        "Untuk itu, jika dilakukan seperti ini"
      ]
    },
    {
      "cell_type": "code",
      "metadata": {
        "colab": {
          "base_uri": "https://localhost:8080/"
        },
        "id": "FIZ4gv0tKSV1",
        "outputId": "cee986ea-e054-441f-91c1-a915ec7695c1"
      },
      "source": [
        "print(df1.set_index('key').join(df2.set_index('key')))"
      ],
      "execution_count": 93,
      "outputs": [
        {
          "output_type": "stream",
          "text": [
            "     val1  val2  val3  val4\n",
            "key                        \n",
            "k1    200    30   1.0   6.0\n",
            "k2    500    50   NaN   NaN\n",
            "k3      0   100   2.0   7.0\n",
            "k4    500    20   NaN   NaN\n",
            "k5    100    10   3.0   8.0\n"
          ],
          "name": "stdout"
        }
      ]
    },
    {
      "cell_type": "markdown",
      "metadata": {
        "id": "4AJGd9VLKnJb"
      },
      "source": [
        "secara default, fungsi join ini akan mengeksekusi left join."
      ]
    },
    {
      "cell_type": "markdown",
      "metadata": {
        "id": "UVuCe7Q-KqIr"
      },
      "source": [
        "Untuk tipe join yang lain (contoh=inner), harus menspecify keyword how='inner' seperti yang dicontohkan berikut ini"
      ]
    },
    {
      "cell_type": "code",
      "metadata": {
        "colab": {
          "base_uri": "https://localhost:8080/"
        },
        "id": "uZJUfDa8KkYp",
        "outputId": "3d7ca54a-6f2d-46b9-e1ee-de6f300912d7"
      },
      "source": [
        "join_df = df1.set_index('key').join(df2.set_index('key'), how='inner')\r\n",
        "print(join_df)"
      ],
      "execution_count": 94,
      "outputs": [
        {
          "output_type": "stream",
          "text": [
            "     val1  val2  val3  val4\n",
            "key                        \n",
            "k1    200    30     1     6\n",
            "k3      0   100     2     7\n",
            "k5    100    10     3     8\n"
          ],
          "name": "stdout"
        }
      ]
    },
    {
      "cell_type": "markdown",
      "metadata": {
        "id": "1d6HFWT5LAAv"
      },
      "source": [
        "**Tugas Praktek**:\r\n",
        "\r\n",
        "Lakukanlah seperti yang dicontohkan tetapi penggabungan dengan method join berupa outer join.\r\n"
      ]
    },
    {
      "cell_type": "code",
      "metadata": {
        "colab": {
          "base_uri": "https://localhost:8080/"
        },
        "id": "3h5r49nxK84e",
        "outputId": "fca88176-a7f7-4191-b762-1869e62742e0"
      },
      "source": [
        "import pandas as pd\r\n",
        "# Buat dataframe df1 dan df2\r\n",
        "df1 = pd.DataFrame({\r\n",
        "   'key':['k1','k2','k3','k4','k5'],\r\n",
        "   'val1':[200, 500, 0, 500, 100],\r\n",
        "   'val2':[30, 50, 100, 20, 10]\r\n",
        "})\r\n",
        "df2 = pd.DataFrame({\r\n",
        "   'key':['k1','k3','k5','k7','k10'],\r\n",
        "   'val3':[1,2,3,4,5],\r\n",
        "   'val4':[6,7,8,8,10]\r\n",
        "})\r\n",
        "# Penerapan join dengan menggunakan set_index dan keyword how\r\n",
        "join_df = df1.set_index('key').join(df2.set_index('key'), how='outer')\r\n",
        "print(join_df)"
      ],
      "execution_count": 95,
      "outputs": [
        {
          "output_type": "stream",
          "text": [
            "      val1   val2  val3  val4\n",
            "key                          \n",
            "k1   200.0   30.0   1.0   6.0\n",
            "k10    NaN    NaN   5.0  10.0\n",
            "k2   500.0   50.0   NaN   NaN\n",
            "k3     0.0  100.0   2.0   7.0\n",
            "k4   500.0   20.0   NaN   NaN\n",
            "k5   100.0   10.0   3.0   8.0\n",
            "k7     NaN    NaN   4.0   8.0\n"
          ],
          "name": "stdout"
        }
      ]
    },
    {
      "cell_type": "markdown",
      "metadata": {
        "id": "n7ku6uzPMXpj"
      },
      "source": [
        "## **Pivot, Melt, Stack & Unstack**"
      ]
    },
    {
      "cell_type": "markdown",
      "metadata": {
        "id": "7-in9OfyM2N3"
      },
      "source": [
        "### Pendahuluan\r\n",
        "Kotak masuk emailku tak hentinya menerima sejumlah link baru dari Andra untuk bab-bab yang akan kupelajari di modul Pandas part 2 ini. Banyak sekali referensi dari Andra!\r\n",
        "\r\n",
        "“Pivot, Melt, Stack, dan Unstack, apa ini?” gumamku sendiri membaca subject email Andra.\r\n",
        "\r\n",
        "Aku pun bergegas mengaksesnya:\r\n",
        "\r\n",
        "Reference: https://pandas.pydata.org/pandas-docs/stable/user_guide/reshaping.html\r\n",
        "\r\n",
        " \r\n",
        "\r\n",
        "Melakukan format ulang pada dataset itu sangatlah penting, biasanya hal ini dilakukan untuk mengetahui keseluruhan data secara cepat dengan chart atau visualisasi. Untuk orang yang sudah mahir menggunakan spreadsheet pastilah tau banyak tentang fitur pivot ini.\r\n",
        "\r\n",
        "Di Pandas, ada beberapa teknik untuk melakukan pivot atau unpivot yang biasa disebut as melt di Pandas, terdapat pula konsep stack yang artinya menumpuk data dengan kolom yang lebih sedikit (stack) sama seperti konsep melt dan ada pula yang memperluas data dengan kolom yang lebih banyak (unstack) sama seperti konsep pivot.\r\n",
        "\r\n",
        " "
      ]
    },
    {
      "cell_type": "markdown",
      "metadata": {
        "id": "H4iVAn5VQs77"
      },
      "source": [
        "### Dataset\r\n",
        "Untuk memahami konsep pivot, melt, stack, dan unstack pada Pandas mari persiapkan dataset sederhana terlebih dahulu."
      ]
    },
    {
      "cell_type": "code",
      "metadata": {
        "colab": {
          "base_uri": "https://localhost:8080/"
        },
        "id": "bfFA_I6ALjt1",
        "outputId": "6d3e9d2a-d9cc-4c46-fe61-23d26763fa36"
      },
      "source": [
        "import pandas as pd\r\n",
        "# Dataframe\r\n",
        "data = pd.DataFrame({\r\n",
        "  'kelas': 6*['A'] + 6*['B'],\r\n",
        "  'murid': 2*['A1'] + 2*['A2'] + 2*['A3'] + 2*['B1'] + 2*['B2'] + 2*['B3'],\r\n",
        "  'pelajaran': 6*['math','english'],\r\n",
        "  'nilai': [90,60,70,85,50,60,100,40,95,80,60,45]\r\n",
        "}, columns=['kelas','murid','pelajaran','nilai'])\r\n",
        "print(\"Data:\\n\", data)\r\n",
        "# Ukuran dataframe \r\n",
        "print('Data terdiri atas %d baris dan %d kolom.' % data.shape)"
      ],
      "execution_count": 96,
      "outputs": [
        {
          "output_type": "stream",
          "text": [
            "Data:\n",
            "    kelas murid pelajaran  nilai\n",
            "0      A    A1      math     90\n",
            "1      A    A1   english     60\n",
            "2      A    A2      math     70\n",
            "3      A    A2   english     85\n",
            "4      A    A3      math     50\n",
            "5      A    A3   english     60\n",
            "6      B    B1      math    100\n",
            "7      B    B1   english     40\n",
            "8      B    B2      math     95\n",
            "9      B    B2   english     80\n",
            "10     B    B3      math     60\n",
            "11     B    B3   english     45\n",
            "Data terdiri atas 12 baris dan 4 kolom.\n"
          ],
          "name": "stdout"
        }
      ]
    },
    {
      "cell_type": "markdown",
      "metadata": {
        "id": "fKmDW41fRj40"
      },
      "source": [
        "**Tugas Praktek:**\r\n",
        "\r\n",
        "Carilah unique records/value pada keempat kolom dataframe 'data'."
      ]
    },
    {
      "cell_type": "code",
      "metadata": {
        "colab": {
          "base_uri": "https://localhost:8080/"
        },
        "id": "wq3mGYfDRX2c",
        "outputId": "f133853f-0789-4e88-d9b3-64bebccd7607"
      },
      "source": [
        "import pandas as pd\r\n",
        "# Dataframe\r\n",
        "data = pd.DataFrame({\r\n",
        "  'kelas': 6*['A'] + 6*['B'],\r\n",
        "  'murid': 2*['A1'] + 2*['A2'] + 2*['A3'] + 2*['B1'] + 2*['B2'] + 2*['B3'],\r\n",
        "  'pelajaran': 6*['math','english'],\r\n",
        "  'nilai': [90,60,70,85,50,60,100,40,95,80,60,45]\r\n",
        "}, columns=['kelas','murid','pelajaran','nilai'])\r\n",
        "# Unique value pada setiap kolom data\r\n",
        "for column in data.columns:\r\n",
        "\tprint('Unique value %s: %s' % (column, data[column].unique()))"
      ],
      "execution_count": 97,
      "outputs": [
        {
          "output_type": "stream",
          "text": [
            "Unique value kelas: ['A' 'B']\n",
            "Unique value murid: ['A1' 'A2' 'A3' 'B1' 'B2' 'B3']\n",
            "Unique value pelajaran: ['math' 'english']\n",
            "Unique value nilai: [ 90  60  70  85  50 100  40  95  80  45]\n"
          ],
          "name": "stdout"
        }
      ]
    },
    {
      "cell_type": "markdown",
      "metadata": {
        "id": "5HajAArxo58X"
      },
      "source": [
        "### Pivot\r\n",
        "Untuk menerapkan menerapkan method .pivot() pada dataframe dapat dilakukan pada dataframe yang miliki index tunggal ataupun indexnya adalah multiindex.\r\n",
        "\r\n",
        "\r\n",
        "Untuk dataset yang masih sama, yaitu data."
      ]
    },
    {
      "cell_type": "code",
      "metadata": {
        "id": "MKZZNdzSR2tr"
      },
      "source": [
        "import pandas as pd\r\n",
        "# Dataframe\r\n",
        "data = pd.DataFrame({\r\n",
        "  'kelas': 6*['A'] + 6*['B'],\r\n",
        "  'murid': 2*['A1'] + 2*['A2'] + 2*['A3'] + 2*['B1'] + 2*['B2'] + 2*['B3'],\r\n",
        "  'pelajaran': 6*['math','english'],\r\n",
        "  'nilai': [90,60,70,85,50,60,100,40,95,80,60,45]\r\n",
        "}, columns=['kelas','murid','pelajaran','nilai'])"
      ],
      "execution_count": 98,
      "outputs": []
    },
    {
      "cell_type": "code",
      "metadata": {
        "id": "EdRfc-mRpGVA",
        "colab": {
          "base_uri": "https://localhost:8080/",
          "height": 421
        },
        "outputId": "9c2e2ae1-754a-415b-a444-47665e9c3c13"
      },
      "source": [
        "data"
      ],
      "execution_count": 99,
      "outputs": [
        {
          "output_type": "execute_result",
          "data": {
            "text/html": [
              "<div>\n",
              "<style scoped>\n",
              "    .dataframe tbody tr th:only-of-type {\n",
              "        vertical-align: middle;\n",
              "    }\n",
              "\n",
              "    .dataframe tbody tr th {\n",
              "        vertical-align: top;\n",
              "    }\n",
              "\n",
              "    .dataframe thead th {\n",
              "        text-align: right;\n",
              "    }\n",
              "</style>\n",
              "<table border=\"1\" class=\"dataframe\">\n",
              "  <thead>\n",
              "    <tr style=\"text-align: right;\">\n",
              "      <th></th>\n",
              "      <th>kelas</th>\n",
              "      <th>murid</th>\n",
              "      <th>pelajaran</th>\n",
              "      <th>nilai</th>\n",
              "    </tr>\n",
              "  </thead>\n",
              "  <tbody>\n",
              "    <tr>\n",
              "      <th>0</th>\n",
              "      <td>A</td>\n",
              "      <td>A1</td>\n",
              "      <td>math</td>\n",
              "      <td>90</td>\n",
              "    </tr>\n",
              "    <tr>\n",
              "      <th>1</th>\n",
              "      <td>A</td>\n",
              "      <td>A1</td>\n",
              "      <td>english</td>\n",
              "      <td>60</td>\n",
              "    </tr>\n",
              "    <tr>\n",
              "      <th>2</th>\n",
              "      <td>A</td>\n",
              "      <td>A2</td>\n",
              "      <td>math</td>\n",
              "      <td>70</td>\n",
              "    </tr>\n",
              "    <tr>\n",
              "      <th>3</th>\n",
              "      <td>A</td>\n",
              "      <td>A2</td>\n",
              "      <td>english</td>\n",
              "      <td>85</td>\n",
              "    </tr>\n",
              "    <tr>\n",
              "      <th>4</th>\n",
              "      <td>A</td>\n",
              "      <td>A3</td>\n",
              "      <td>math</td>\n",
              "      <td>50</td>\n",
              "    </tr>\n",
              "    <tr>\n",
              "      <th>5</th>\n",
              "      <td>A</td>\n",
              "      <td>A3</td>\n",
              "      <td>english</td>\n",
              "      <td>60</td>\n",
              "    </tr>\n",
              "    <tr>\n",
              "      <th>6</th>\n",
              "      <td>B</td>\n",
              "      <td>B1</td>\n",
              "      <td>math</td>\n",
              "      <td>100</td>\n",
              "    </tr>\n",
              "    <tr>\n",
              "      <th>7</th>\n",
              "      <td>B</td>\n",
              "      <td>B1</td>\n",
              "      <td>english</td>\n",
              "      <td>40</td>\n",
              "    </tr>\n",
              "    <tr>\n",
              "      <th>8</th>\n",
              "      <td>B</td>\n",
              "      <td>B2</td>\n",
              "      <td>math</td>\n",
              "      <td>95</td>\n",
              "    </tr>\n",
              "    <tr>\n",
              "      <th>9</th>\n",
              "      <td>B</td>\n",
              "      <td>B2</td>\n",
              "      <td>english</td>\n",
              "      <td>80</td>\n",
              "    </tr>\n",
              "    <tr>\n",
              "      <th>10</th>\n",
              "      <td>B</td>\n",
              "      <td>B3</td>\n",
              "      <td>math</td>\n",
              "      <td>60</td>\n",
              "    </tr>\n",
              "    <tr>\n",
              "      <th>11</th>\n",
              "      <td>B</td>\n",
              "      <td>B3</td>\n",
              "      <td>english</td>\n",
              "      <td>45</td>\n",
              "    </tr>\n",
              "  </tbody>\n",
              "</table>\n",
              "</div>"
            ],
            "text/plain": [
              "   kelas murid pelajaran  nilai\n",
              "0      A    A1      math     90\n",
              "1      A    A1   english     60\n",
              "2      A    A2      math     70\n",
              "3      A    A2   english     85\n",
              "4      A    A3      math     50\n",
              "5      A    A3   english     60\n",
              "6      B    B1      math    100\n",
              "7      B    B1   english     40\n",
              "8      B    B2      math     95\n",
              "9      B    B2   english     80\n",
              "10     B    B3      math     60\n",
              "11     B    B3   english     45"
            ]
          },
          "metadata": {
            "tags": []
          },
          "execution_count": 99
        }
      ]
    },
    {
      "cell_type": "markdown",
      "metadata": {
        "id": "TDIDwOpIpKRf"
      },
      "source": [
        "**Pivoting** dengan **single column** measurement"
      ]
    },
    {
      "cell_type": "code",
      "metadata": {
        "id": "NN3thP44pINv",
        "colab": {
          "base_uri": "https://localhost:8080/"
        },
        "outputId": "196cca8d-3c01-4598-a59e-4148dd1f4f91"
      },
      "source": [
        "# Pivoting with single column measurement\r\n",
        "pivot1 = data.pivot(index='murid', columns='pelajaran', values='nilai')\r\n",
        "print('Pivoting with single columns measurement:\\n', pivot1)"
      ],
      "execution_count": 100,
      "outputs": [
        {
          "output_type": "stream",
          "text": [
            "Pivoting with single columns measurement:\n",
            " pelajaran  english  math\n",
            "murid                   \n",
            "A1              60    90\n",
            "A2              85    70\n",
            "A3              60    50\n",
            "B1              40   100\n",
            "B2              80    95\n",
            "B3              45    60\n"
          ],
          "name": "stdout"
        }
      ]
    },
    {
      "cell_type": "markdown",
      "metadata": {
        "id": "Cw8NnXSLpzSZ"
      },
      "source": [
        "**Pivoting** dengan **multiple column** measurement"
      ]
    },
    {
      "cell_type": "code",
      "metadata": {
        "id": "uwBwEGrIpomk",
        "colab": {
          "base_uri": "https://localhost:8080/"
        },
        "outputId": "8fa57ecd-9ea2-45ea-e0fa-e4a47b4aa07f"
      },
      "source": [
        "# Pivoting with multiple column measurement\r\n",
        "pivot2 = data.pivot(index='murid', columns='pelajaran')\r\n",
        "print('Pivoting with single columns measurement:\\n', pivot2)"
      ],
      "execution_count": 101,
      "outputs": [
        {
          "output_type": "stream",
          "text": [
            "Pivoting with single columns measurement:\n",
            "             kelas        nilai     \n",
            "pelajaran english math english math\n",
            "murid                              \n",
            "A1              A    A      60   90\n",
            "A2              A    A      85   70\n",
            "A3              A    A      60   50\n",
            "B1              B    B      40  100\n",
            "B2              B    B      80   95\n",
            "B3              B    B      45   60\n"
          ],
          "name": "stdout"
        }
      ]
    },
    {
      "cell_type": "markdown",
      "metadata": {
        "id": "xx_Pw7CSqJH4"
      },
      "source": [
        "**Penjelasan:**\r\n",
        "\r\n",
        "Apa yang berbeda dari kedua code di atas? Pada code pertama di specify values mana yang akan dilakukan pivot sedangkan di kedua tidak specific mana yang akan dilakukan pivot maka Pandas secara default men-treat kolom yang ada selain yang telah di specify as index dan columns as values instead."
      ]
    },
    {
      "cell_type": "markdown",
      "metadata": {
        "id": "-SBQFOSwrH9Q"
      },
      "source": [
        "### Pivot_table\r\n",
        "Apa yang terjadi kalau output pivot tabel memiliki duplicate index? Seperti yang diketahui, index di dataframe adalah unique identifier untuk setiap row, jadi tidak boleh ada duplikat dan setiap membuat pivot tabel, harus specify index as kolom yang mana dan columns nya memakai kolom yang mana.\r\n",
        "\r\n",
        "Perhatikan contoh yang diilustrasikan berikut ini\r\n"
      ]
    },
    {
      "cell_type": "code",
      "metadata": {
        "id": "oiG7Dt_jqD1t"
      },
      "source": [
        "import pandas as pd\r\n",
        "# Dataframe\r\n",
        "data = pd.DataFrame({\r\n",
        "  'kelas': 6*['A'] + 6*['B'],\r\n",
        "  'murid': 2*['A1'] + 2*['A2'] + 2*['A3'] + 2*['B1'] + 2*['B2'] + 2*['B3'],\r\n",
        "  'pelajaran': 6*['math','english'],\r\n",
        "  'nilai': [90,60,70,85,50,60,100,40,95,80,60,45]\r\n",
        "}, columns=['kelas','murid','pelajaran','nilai'])\r\n",
        "# Creating pivot and assign pivot_tab\r\n",
        "#pivot_tab = data.pivot(index='kelas',columns='pelajaran',values='nilai')\r\n",
        "#print('Creating pivot table:\\n', pivot_tab)"
      ],
      "execution_count": 102,
      "outputs": []
    },
    {
      "cell_type": "markdown",
      "metadata": {
        "id": "mC5xKu57saeV"
      },
      "source": [
        "* Code diatas akan menghasilkan error"
      ]
    },
    {
      "cell_type": "markdown",
      "metadata": {
        "id": "bvJRfaXAsWEY"
      },
      "source": [
        "Hal ini dapat diatasi dengan melakukan method **.pivot_table()** pada dataframe. Metode ini sama seperti melakukan pivot pada tabel tapi juga melakukan **groupby** dan **aggregation** (aggfunc) pada level rows sehingga dipastikan tidak ada duplicate index di rows (secara default aggfunc = 'mean').\r\n",
        "\r\n",
        "Perhatikan cuplikan berikut ini"
      ]
    },
    {
      "cell_type": "code",
      "metadata": {
        "id": "zj5_MR0ksBBJ",
        "colab": {
          "base_uri": "https://localhost:8080/"
        },
        "outputId": "39e3d4b6-7f03-4a71-f12f-042890e21053"
      },
      "source": [
        "# Creating pivot and assign pivot_tab dengan menggunakan keyword aggfunc\r\n",
        "pivot_tab = data.pivot_table(index='kelas',columns='pelajaran',values='nilai',aggfunc=sum)\r\n",
        "print('Creating pivot table:\\n', pivot_tab)"
      ],
      "execution_count": 103,
      "outputs": [
        {
          "output_type": "stream",
          "text": [
            "Creating pivot table:\n",
            " pelajaran  english  math\n",
            "kelas                   \n",
            "A              205   210\n",
            "B              165   255\n"
          ],
          "name": "stdout"
        }
      ]
    },
    {
      "cell_type": "markdown",
      "metadata": {
        "id": "u1JVlvk7-exV"
      },
      "source": [
        "Keyword **aggfunc **yang digunakan pada method **.pivot_table()** dapat menggunakan nilai berikut:\r\n",
        "\r\n",
        "* sum\r\n",
        "* 'mean'\r\n",
        "* 'median'"
      ]
    },
    {
      "cell_type": "markdown",
      "metadata": {
        "id": "-emU3cMZ-muV"
      },
      "source": [
        "**Tugas Praktek**:\r\n",
        "\r\n",
        "Seperti yang dicontohkan untuk meng-create pivot tabel dengan method .pivot_table() tetapi aggfunc yang digunakan adalah **'mean'** dan **'median'**."
      ]
    },
    {
      "cell_type": "code",
      "metadata": {
        "id": "xpIZFWQftR5h",
        "outputId": "b6871ea8-72cd-4a22-a1a0-1c05f5a5412e",
        "colab": {
          "base_uri": "https://localhost:8080/"
        }
      },
      "source": [
        "import pandas as pd\r\n",
        "# Dataframe\r\n",
        "data = pd.DataFrame({\r\n",
        "  'kelas': 6*['A'] + 6*['B'],\r\n",
        "  'murid': 2*['A1'] + 2*['A2'] + 2*['A3'] + 2*['B1'] + 2*['B2'] + 2*['B3'],\r\n",
        "  'pelajaran': 6*['math','english'],\r\n",
        "  'nilai': [90,60,70,85,50,60,100,40,95,80,60,45]\r\n",
        "}, columns=['kelas','murid','pelajaran','nilai'])\r\n",
        "# Creating pivot and assign pivot_tab dengan menggunakan keyword aggfunc='mean'\r\n",
        "pivot_tab_mean = data.pivot_table(index='kelas',columns='pelajaran',values='nilai',aggfunc='mean')\r\n",
        "print('Creating pivot table -- aggfunc mean:\\n', pivot_tab_mean)\r\n",
        "# Creating pivot and assign pivot_tab dengan menggunakan keyword aggfunc='median'\r\n",
        "pivot_tab_median = data.pivot_table(index='kelas',columns='pelajaran',values='nilai',aggfunc='median')\r\n",
        "print('Creating pivot table -- aggfunc median:\\n', pivot_tab_median)"
      ],
      "execution_count": 104,
      "outputs": [
        {
          "output_type": "stream",
          "text": [
            "Creating pivot table -- aggfunc mean:\n",
            " pelajaran    english  math\n",
            "kelas                     \n",
            "A          68.333333  70.0\n",
            "B          55.000000  85.0\n",
            "Creating pivot table -- aggfunc median:\n",
            " pelajaran  english  math\n",
            "kelas                   \n",
            "A               60    70\n",
            "B               45    95\n"
          ],
          "name": "stdout"
        }
      ]
    },
    {
      "cell_type": "markdown",
      "metadata": {
        "id": "0tFwEy_I-yx-"
      },
      "source": [
        "### Melt - Part 1\r\n",
        "Teknik melt melalui **pd.melt()** digunakan untuk mengembalikan kondisi data yang sudah dilakukan pivot menjadi sebelum pivot.\r\n",
        "\r\n",
        "Mari diperhatikan kembali dataframe yang telah digunakan sebelumnya dan dataframenya sudah dipivot."
      ]
    },
    {
      "cell_type": "code",
      "metadata": {
        "id": "CwPvheH0-sHH",
        "outputId": "7f1bb622-a679-4a4e-b10a-17ac4e26746b",
        "colab": {
          "base_uri": "https://localhost:8080/"
        }
      },
      "source": [
        "import pandas as pd\r\n",
        "# Dataframe\r\n",
        "data = pd.DataFrame({\r\n",
        "  'kelas': 6*['A'] + 6*['B'],\r\n",
        "  'murid': 2*['A1'] + 2*['A2'] + 2*['A3'] + 2*['B1'] + 2*['B2'] + 2*['B3'],\r\n",
        "  'pelajaran': 6*['math','english'],\r\n",
        "  'nilai': [90,60,70,85,50,60,100,40,95,80,60,45]\r\n",
        "}, columns=['kelas','murid','pelajaran','nilai'])\r\n",
        "# Pivoting dataframe\r\n",
        "data_pivot = data.pivot_table(index='kelas',columns='pelajaran',values='nilai',aggfunc='mean').reset_index()\r\n",
        "print('Pivoting dataframe:\\n', data_pivot)"
      ],
      "execution_count": 105,
      "outputs": [
        {
          "output_type": "stream",
          "text": [
            "Pivoting dataframe:\n",
            " pelajaran kelas    english  math\n",
            "0             A  68.333333  70.0\n",
            "1             B  55.000000  85.0\n"
          ],
          "name": "stdout"
        }
      ]
    },
    {
      "cell_type": "markdown",
      "metadata": {
        "id": "gZSf1HDw-9T5"
      },
      "source": [
        "Akan melakukan teknik melting pada dataframe output di atas.\r\n",
        "\r\n",
        "**[1]** Melting dataframe"
      ]
    },
    {
      "cell_type": "code",
      "metadata": {
        "id": "QtkJWu37-6ci",
        "outputId": "7685fe48-4607-4f7a-c1df-a8d7b5fb4c36",
        "colab": {
          "base_uri": "https://localhost:8080/"
        }
      },
      "source": [
        "# [1] Melting dataframe data_pivot\r\n",
        "data_melt_1 = pd.melt(data_pivot)\r\n",
        "print('Melting dataframe:\\n', data_melt_1)"
      ],
      "execution_count": 106,
      "outputs": [
        {
          "output_type": "stream",
          "text": [
            "Melting dataframe:\n",
            "   pelajaran    value\n",
            "0     kelas        A\n",
            "1     kelas        B\n",
            "2   english  68.3333\n",
            "3   english       55\n",
            "4      math       70\n",
            "5      math       85\n"
          ],
          "name": "stdout"
        }
      ]
    },
    {
      "cell_type": "markdown",
      "metadata": {
        "id": "b5VwKrNC_Cqy"
      },
      "source": [
        "**[2]** Dengan menspesifikasi keyword argument **id_vars** yang ditujukan untuk membuat fix kolom yang sebagai id tiap barisnya"
      ]
    },
    {
      "cell_type": "code",
      "metadata": {
        "id": "5NZfsUfC_B14",
        "outputId": "1738d856-285e-4a8e-feda-c445e92dc9b6",
        "colab": {
          "base_uri": "https://localhost:8080/"
        }
      },
      "source": [
        "# [2] Melting dataframe data_pivot dengan id_vars\r\n",
        "data_melt_2 = pd.melt(data_pivot, id_vars='kelas')\r\n",
        "print('Melting dataframe dengan idvars:\\n', data_melt_2)"
      ],
      "execution_count": 107,
      "outputs": [
        {
          "output_type": "stream",
          "text": [
            "Melting dataframe dengan idvars:\n",
            "   kelas pelajaran      value\n",
            "0     A   english  68.333333\n",
            "1     B   english  55.000000\n",
            "2     A      math  70.000000\n",
            "3     B      math  85.000000\n"
          ],
          "name": "stdout"
        }
      ]
    },
    {
      "cell_type": "markdown",
      "metadata": {
        "id": "25eeJvpg_Ndp"
      },
      "source": [
        "**Tugas Praktek**:\r\n",
        "\r\n",
        "Kerjakanlah di code editor dengan cara mengisi kode yang tidak lengkap (_ _ _) sesuai dengan yang telah dicontohkan."
      ]
    },
    {
      "cell_type": "code",
      "metadata": {
        "id": "_f3kd9L5_J_E",
        "outputId": "deb9895c-c08e-4539-a285-8ad49c1dffc1",
        "colab": {
          "base_uri": "https://localhost:8080/"
        }
      },
      "source": [
        "import pandas as pd\r\n",
        "# Dataframe\r\n",
        "data = pd.DataFrame({\r\n",
        "  'kelas': 6*['A'] + 6*['B'],\r\n",
        "  'murid': 2*['A1'] + 2*['A2'] + 2*['A3'] + 2*['B1'] + 2*['B2'] + 2*['B3'],\r\n",
        "  'pelajaran': 6*['math','english'],\r\n",
        "  'nilai': [90,60,70,85,50,60,100,40,95,80,60,45]\r\n",
        "}, columns=['kelas','murid','pelajaran','nilai'])\r\n",
        "# Pivoting dataframe\r\n",
        "data_pivot = data.pivot_table(index='kelas',columns='pelajaran',values='nilai',aggfunc='mean').reset_index()\r\n",
        "print('Pivoting dataframe:\\n', data_pivot)\r\n",
        "# [1] Melting dataframe data_pivot\r\n",
        "data_melt_1 = pd.melt(data_pivot)\r\n",
        "print('Melting dataframe:\\n', data_melt_1)\r\n",
        "# [2] Melting dataframe data_pivot dengan id_vars\r\n",
        "data_melt_2 = pd.melt(data_pivot, id_vars='kelas')\r\n",
        "print('Melting dataframe dengan idvars:\\n', data_melt_2)"
      ],
      "execution_count": 108,
      "outputs": [
        {
          "output_type": "stream",
          "text": [
            "Pivoting dataframe:\n",
            " pelajaran kelas    english  math\n",
            "0             A  68.333333  70.0\n",
            "1             B  55.000000  85.0\n",
            "Melting dataframe:\n",
            "   pelajaran    value\n",
            "0     kelas        A\n",
            "1     kelas        B\n",
            "2   english  68.3333\n",
            "3   english       55\n",
            "4      math       70\n",
            "5      math       85\n",
            "Melting dataframe dengan idvars:\n",
            "   kelas pelajaran      value\n",
            "0     A   english  68.333333\n",
            "1     B   english  55.000000\n",
            "2     A      math  70.000000\n",
            "3     B      math  85.000000\n"
          ],
          "name": "stdout"
        }
      ]
    },
    {
      "cell_type": "markdown",
      "metadata": {
        "id": "Jyl1_5zB_SH1"
      },
      "source": [
        "### Melt - Part 2\r\n",
        "Mari melanjutkan ke bagian kedua dari penggunaan teknik melt ini. Mari lihat kembali dataframe yang telah diperoleh melalui pivoting"
      ]
    },
    {
      "cell_type": "code",
      "metadata": {
        "id": "MewQjDBm_RD6",
        "outputId": "9bc97871-9a98-492f-a7d5-2f88b329b044",
        "colab": {
          "base_uri": "https://localhost:8080/"
        }
      },
      "source": [
        "import pandas as pd\r\n",
        "# Dataframe\r\n",
        "data = pd.DataFrame({\r\n",
        "  'kelas': 6*['A'] + 6*['B'],\r\n",
        "  'murid': 2*['A1'] + 2*['A2'] + 2*['A3'] + 2*['B1'] + 2*['B2'] + 2*['B3'],\r\n",
        "  'pelajaran': 6*['math','english'],\r\n",
        "  'nilai': [90,60,70,85,50,60,100,40,95,80,60,45]\r\n",
        "}, columns=['kelas','murid','pelajaran','nilai'])\r\n",
        "# Pivoting dataframe\r\n",
        "data_pivot = data.pivot_table(index='kelas',columns='pelajaran',values='nilai', aggfunc='mean').reset_index()\r\n",
        "print('Pivoting dataframe:\\n', data_pivot)"
      ],
      "execution_count": 109,
      "outputs": [
        {
          "output_type": "stream",
          "text": [
            "Pivoting dataframe:\n",
            " pelajaran kelas    english  math\n",
            "0             A  68.333333  70.0\n",
            "1             B  55.000000  85.0\n"
          ],
          "name": "stdout"
        }
      ]
    },
    {
      "cell_type": "markdown",
      "metadata": {
        "id": "N0bFp-Qd_cy4"
      },
      "source": [
        "Lanjutkan dengan melakukan teknik melting pada dataframe output di atas untuk keyword argumen lainnya, yaitu"
      ]
    },
    {
      "cell_type": "markdown",
      "metadata": {
        "id": "ZH8oBnCC_gTN"
      },
      "source": [
        "**[3]** Dengan menspesifikasikan keyword argument **value_vars** yang digunakan untuk menampilkan variasi value apa saja yang perlu dimunculkan di kolom variable. "
      ]
    },
    {
      "cell_type": "code",
      "metadata": {
        "id": "qhKrDWvN_b5_",
        "outputId": "cd226b59-f6a9-4884-ead9-7a27c9fcd64c",
        "colab": {
          "base_uri": "https://localhost:8080/"
        }
      },
      "source": [
        "# [3.a] Melting dataframe data_pivot dengan value_vars\r\n",
        "data_melt_3a = pd.melt(data_pivot, value_vars=['math'])\r\n",
        "print('Melting dataframe dengan value_vars:\\n', data_melt_3a)\r\n",
        "# [3.b] Melting dataframe data_pivot dengan id_vars dan value_vars\r\n",
        "data_melt_3b = pd.melt(data_pivot, id_vars='kelas', value_vars=['math'])\r\n",
        "print('Melting dataframe dengan id_vars dan value_vars:\\n', data_melt_3b)"
      ],
      "execution_count": 110,
      "outputs": [
        {
          "output_type": "stream",
          "text": [
            "Melting dataframe dengan value_vars:\n",
            "   pelajaran  value\n",
            "0      math   70.0\n",
            "1      math   85.0\n",
            "Melting dataframe dengan id_vars dan value_vars:\n",
            "   kelas pelajaran  value\n",
            "0     A      math   70.0\n",
            "1     B      math   85.0\n"
          ],
          "name": "stdout"
        }
      ]
    },
    {
      "cell_type": "markdown",
      "metadata": {
        "id": "OhxOaJsR_nUW"
      },
      "source": [
        "**[4]** Dengan spesifikasikan keyword argument **var_name** dan **value_name** yang digunakan untuk menampilkan nama kolom untuk variable dan value"
      ]
    },
    {
      "cell_type": "code",
      "metadata": {
        "id": "vln7khH__mg1",
        "outputId": "b980a091-c27b-4348-e8ef-b920a4b7737a",
        "colab": {
          "base_uri": "https://localhost:8080/"
        }
      },
      "source": [
        "# [4] Melting dataframe data_pivot dengan id_vars, value_vars, var_name. dan value_name\r\n",
        "data_melt_4 = pd.melt(data_pivot, id_vars='kelas', value_vars=['english','math'], var_name='pelajaran', value_name='nilai')\r\n",
        "print('Melting dataframe dengan id_vars, value_vars, var_name. dan value_name:\\n', data_melt_4)"
      ],
      "execution_count": 111,
      "outputs": [
        {
          "output_type": "stream",
          "text": [
            "Melting dataframe dengan id_vars, value_vars, var_name. dan value_name:\n",
            "   kelas pelajaran      nilai\n",
            "0     A   english  68.333333\n",
            "1     B   english  55.000000\n",
            "2     A      math  70.000000\n",
            "3     B      math  85.000000\n"
          ],
          "name": "stdout"
        }
      ]
    },
    {
      "cell_type": "markdown",
      "metadata": {
        "id": "d_1tK-D7_xA8"
      },
      "source": [
        "**Tugas Praktek**:\r\n",
        "\r\n",
        "Kerjakanlah di code editor dengan jalan mengisi kode yang tidak lengkap (_ _ _) sesuai dengan yang telah dicontohkan."
      ]
    },
    {
      "cell_type": "code",
      "metadata": {
        "id": "dOV1wMg3_vCg",
        "outputId": "49bc1bc1-1d44-4973-ff5b-5aa89c199458",
        "colab": {
          "base_uri": "https://localhost:8080/"
        }
      },
      "source": [
        "import pandas as pd\r\n",
        "# Dataframe\r\n",
        "data = pd.DataFrame({\r\n",
        "  'kelas': 6*['A'] + 6*['B'],\r\n",
        "  'murid': 2*['A1'] + 2*['A2'] + 2*['A3'] + 2*['B1'] + 2*['B2'] + 2*['B3'],\r\n",
        "  'pelajaran': 6*['math','english'],\r\n",
        "  'nilai': [90,60,70,85,50,60,100,40,95,80,60,45]\r\n",
        "}, columns=['kelas','murid','pelajaran','nilai'])\r\n",
        "# Pivoting dataframe\r\n",
        "data_pivot = data.pivot_table(index='kelas',columns='pelajaran',values='nilai', aggfunc='mean').reset_index()\r\n",
        "print('Pivoting dataframe:\\n', data_pivot)\r\n",
        "# [3.a] Melting dataframe data_pivot dengan value_vars\r\n",
        "data_melt_3a = pd.melt(data_pivot, value_vars=['math'])\r\n",
        "print('Melting dataframe dengan value_vars:\\n', data_melt_3a)\r\n",
        "# [3.b] Melting dataframe data_pivot dengan id_vars dan value_vars\r\n",
        "data_melt_3b = pd.melt(data_pivot, id_vars='kelas', value_vars=['math'])\r\n",
        "print('Melting dataframe dengan id_vars dan value_vars:\\n', data_melt_3b)\r\n",
        "# [4] Melting dataframe data_pivot dengan id_vars, value_vars, var_name. dan value_name\r\n",
        "data_melt_4 = pd.melt(data_pivot, id_vars='kelas', value_vars=['english','math'], var_name='pelajaran', value_name='nilai')\r\n",
        "print('Melting dataframe dengan id_vars, value_vars, var_name. dan value_name:\\n', data_melt_4)"
      ],
      "execution_count": 112,
      "outputs": [
        {
          "output_type": "stream",
          "text": [
            "Pivoting dataframe:\n",
            " pelajaran kelas    english  math\n",
            "0             A  68.333333  70.0\n",
            "1             B  55.000000  85.0\n",
            "Melting dataframe dengan value_vars:\n",
            "   pelajaran  value\n",
            "0      math   70.0\n",
            "1      math   85.0\n",
            "Melting dataframe dengan id_vars dan value_vars:\n",
            "   kelas pelajaran  value\n",
            "0     A      math   70.0\n",
            "1     B      math   85.0\n",
            "Melting dataframe dengan id_vars, value_vars, var_name. dan value_name:\n",
            "   kelas pelajaran      nilai\n",
            "0     A   english  68.333333\n",
            "1     B   english  55.000000\n",
            "2     A      math  70.000000\n",
            "3     B      math  85.000000\n"
          ],
          "name": "stdout"
        }
      ]
    },
    {
      "cell_type": "markdown",
      "metadata": {
        "id": "R17RkTX_AcBc"
      },
      "source": [
        "### Stack & Unstack - Part 1\r\n",
        "Konsep **stacking** dan **unstacking** sama dengan **melt dan pivot secara berurutan**, hanya saja tidak memasukkan index sebagai parameter di stack/unstack tapi harus set index terlebih dahulu, baru bisa melakukan stacking/unstacking dengan level yang bisa ditentukan sendiri.\r\n",
        "\r\n",
        "\r\n",
        "Perhatikan kembali dataframe berikut dengan multi index-nya."
      ]
    },
    {
      "cell_type": "code",
      "metadata": {
        "id": "uwO5xMba_0Y6",
        "outputId": "a96a2ecd-79da-433e-aac1-8cdca8d74558",
        "colab": {
          "base_uri": "https://localhost:8080/"
        }
      },
      "source": [
        "import pandas as pd\r\n",
        "# Dataframe\r\n",
        "data = pd.DataFrame({\r\n",
        "  'kelas': 6*['A'] + 6*['B'],\r\n",
        "  'murid': 2*['A1'] + 2*['A2'] + 2*['A3'] + 2*['B1'] + 2*['B2'] + 2*['B3'],\r\n",
        "  'pelajaran': 6*['math','english'],\r\n",
        "  'nilai': [90,60,70,85,50,60,100,40,95,80,60,45]\r\n",
        "}, columns=['kelas','murid','pelajaran','nilai'])\r\n",
        "print('Dataframe:\\n', data)\r\n",
        "# Set index data untuk kolom kelas, murid, dan pelajaran\r\n",
        "data = data.set_index(['kelas','murid','pelajaran'])\r\n",
        "print('Dataframe multi index:\\n', data)"
      ],
      "execution_count": 113,
      "outputs": [
        {
          "output_type": "stream",
          "text": [
            "Dataframe:\n",
            "    kelas murid pelajaran  nilai\n",
            "0      A    A1      math     90\n",
            "1      A    A1   english     60\n",
            "2      A    A2      math     70\n",
            "3      A    A2   english     85\n",
            "4      A    A3      math     50\n",
            "5      A    A3   english     60\n",
            "6      B    B1      math    100\n",
            "7      B    B1   english     40\n",
            "8      B    B2      math     95\n",
            "9      B    B2   english     80\n",
            "10     B    B3      math     60\n",
            "11     B    B3   english     45\n",
            "Dataframe multi index:\n",
            "                        nilai\n",
            "kelas murid pelajaran       \n",
            "A     A1    math          90\n",
            "            english       60\n",
            "      A2    math          70\n",
            "            english       85\n",
            "      A3    math          50\n",
            "            english       60\n",
            "B     B1    math         100\n",
            "            english       40\n",
            "      B2    math          95\n",
            "            english       80\n",
            "      B3    math          60\n",
            "            english       45\n"
          ],
          "name": "stdout"
        }
      ]
    },
    {
      "cell_type": "markdown",
      "metadata": {
        "id": "YDpONJWQApeR"
      },
      "source": [
        "Mari terapkan bagaimana menggunakan teknik stacking dan unstacking ini pada dataframe multi index 'data':\r\n",
        "\r\n",
        "**[1]** Unstackinng dataframe"
      ]
    },
    {
      "cell_type": "code",
      "metadata": {
        "id": "uAlRB4chAoWL",
        "outputId": "e855fbb5-0ef8-4afe-e803-40591f2e4ec9",
        "colab": {
          "base_uri": "https://localhost:8080/"
        }
      },
      "source": [
        "# [1] Unstacking dataframe\r\n",
        "data_unstack_1 = data.unstack()\r\n",
        "print('Unstacking dataframe:\\n', data_unstack_1)"
      ],
      "execution_count": 114,
      "outputs": [
        {
          "output_type": "stream",
          "text": [
            "Unstacking dataframe:\n",
            "               nilai     \n",
            "pelajaran   english math\n",
            "kelas murid             \n",
            "A     A1         60   90\n",
            "      A2         85   70\n",
            "      A3         60   50\n",
            "B     B1         40  100\n",
            "      B2         80   95\n",
            "      B3         45   60\n"
          ],
          "name": "stdout"
        }
      ]
    },
    {
      "cell_type": "markdown",
      "metadata": {
        "id": "VX-AO9x6Av0p"
      },
      "source": [
        "**[2]** Unstacking dengan specify level name"
      ]
    },
    {
      "cell_type": "code",
      "metadata": {
        "id": "WfEMSSWaAu85",
        "outputId": "cf2c8967-a466-49cf-f59e-e59e0077c411",
        "colab": {
          "base_uri": "https://localhost:8080/"
        }
      },
      "source": [
        "# [2] Unstacking dengan specify level name\r\n",
        "data_unstack_2 = data.unstack(level='murid')\r\n",
        "print('Unstacking dataframe dengan level name:\\n', data_unstack_2)"
      ],
      "execution_count": 115,
      "outputs": [
        {
          "output_type": "stream",
          "text": [
            "Unstacking dataframe dengan level name:\n",
            "                 nilai                               \n",
            "murid              A1    A2    A3     B1    B2    B3\n",
            "kelas pelajaran                                     \n",
            "A     english    60.0  85.0  60.0    NaN   NaN   NaN\n",
            "      math       90.0  70.0  50.0    NaN   NaN   NaN\n",
            "B     english     NaN   NaN   NaN   40.0  80.0  45.0\n",
            "      math        NaN   NaN   NaN  100.0  95.0  60.0\n"
          ],
          "name": "stdout"
        }
      ]
    },
    {
      "cell_type": "markdown",
      "metadata": {
        "id": "0nBfngTSA1_P"
      },
      "source": [
        "**[3]** Unstacking dengan specify level position"
      ]
    },
    {
      "cell_type": "code",
      "metadata": {
        "id": "J_HmFzk-A1Dn",
        "outputId": "3c9416ea-0856-4756-ebf6-b607fdccfe07",
        "colab": {
          "base_uri": "https://localhost:8080/"
        }
      },
      "source": [
        "# [3] Unstacking dengan specify level position\r\n",
        "data_unstack_3 = data.unstack(level=1)\r\n",
        "print('Unstacking dataframe dengan level position:\\n', data_unstack_3)"
      ],
      "execution_count": 116,
      "outputs": [
        {
          "output_type": "stream",
          "text": [
            "Unstacking dataframe dengan level position:\n",
            "                 nilai                               \n",
            "murid              A1    A2    A3     B1    B2    B3\n",
            "kelas pelajaran                                     \n",
            "A     english    60.0  85.0  60.0    NaN   NaN   NaN\n",
            "      math       90.0  70.0  50.0    NaN   NaN   NaN\n",
            "B     english     NaN   NaN   NaN   40.0  80.0  45.0\n",
            "      math        NaN   NaN   NaN  100.0  95.0  60.0\n"
          ],
          "name": "stdout"
        }
      ]
    },
    {
      "cell_type": "markdown",
      "metadata": {
        "id": "Q6i-NnCgA-f9"
      },
      "source": [
        "**Tugas Praktek**:\r\n",
        "\r\n",
        "Kerjakanlah di code editor dengan jalan mengisi kode yang tidak lengkap (_ _ _) sesuai dengan yang telah dicontohkan."
      ]
    },
    {
      "cell_type": "code",
      "metadata": {
        "id": "CxXeG8HsA7AB",
        "outputId": "1f3c83f0-baf8-4379-cf04-4cde24fab340",
        "colab": {
          "base_uri": "https://localhost:8080/"
        }
      },
      "source": [
        "import pandas as pd\r\n",
        "# Dataframe\r\n",
        "data = pd.DataFrame({\r\n",
        "  'kelas': 6*['A'] + 6*['B'],\r\n",
        "  'murid': 2*['A1'] + 2*['A2'] + 2*['A3'] + 2*['B1'] + 2*['B2'] + 2*['B3'],\r\n",
        "  'pelajaran': 6*['math','english'],\r\n",
        "  'nilai': [90,60,70,85,50,60,100,40,95,80,60,45]\r\n",
        "}, columns=['kelas','murid','pelajaran','nilai'])\r\n",
        "print('Dataframe:\\n', data)\r\n",
        "# Set index data untuk kolom kelas, murid, dan pelajaran\r\n",
        "data = data.set_index(['kelas','murid','pelajaran'])\r\n",
        "print('Dataframe multi index:\\n', data)\r\n",
        "# [1] Unstacking dataframe\r\n",
        "data_unstack_1 = data.unstack()\r\n",
        "print('Unstacking dataframe:\\n', data_unstack_1)\r\n",
        "# [2] Unstacking dengan specify level name\r\n",
        "data_unstack_2 = data.unstack(level='murid')\r\n",
        "print('Unstacking dataframe dengan level name:\\n', data_unstack_2)\r\n",
        "# [3] Unstacking dengan specify level position\r\n",
        "data_unstack_3 = data.unstack(level=1)\r\n",
        "print('Unstacking dataframe dengan level position:\\n', data_unstack_3)"
      ],
      "execution_count": 117,
      "outputs": [
        {
          "output_type": "stream",
          "text": [
            "Dataframe:\n",
            "    kelas murid pelajaran  nilai\n",
            "0      A    A1      math     90\n",
            "1      A    A1   english     60\n",
            "2      A    A2      math     70\n",
            "3      A    A2   english     85\n",
            "4      A    A3      math     50\n",
            "5      A    A3   english     60\n",
            "6      B    B1      math    100\n",
            "7      B    B1   english     40\n",
            "8      B    B2      math     95\n",
            "9      B    B2   english     80\n",
            "10     B    B3      math     60\n",
            "11     B    B3   english     45\n",
            "Dataframe multi index:\n",
            "                        nilai\n",
            "kelas murid pelajaran       \n",
            "A     A1    math          90\n",
            "            english       60\n",
            "      A2    math          70\n",
            "            english       85\n",
            "      A3    math          50\n",
            "            english       60\n",
            "B     B1    math         100\n",
            "            english       40\n",
            "      B2    math          95\n",
            "            english       80\n",
            "      B3    math          60\n",
            "            english       45\n",
            "Unstacking dataframe:\n",
            "               nilai     \n",
            "pelajaran   english math\n",
            "kelas murid             \n",
            "A     A1         60   90\n",
            "      A2         85   70\n",
            "      A3         60   50\n",
            "B     B1         40  100\n",
            "      B2         80   95\n",
            "      B3         45   60\n",
            "Unstacking dataframe dengan level name:\n",
            "                 nilai                               \n",
            "murid              A1    A2    A3     B1    B2    B3\n",
            "kelas pelajaran                                     \n",
            "A     english    60.0  85.0  60.0    NaN   NaN   NaN\n",
            "      math       90.0  70.0  50.0    NaN   NaN   NaN\n",
            "B     english     NaN   NaN   NaN   40.0  80.0  45.0\n",
            "      math        NaN   NaN   NaN  100.0  95.0  60.0\n",
            "Unstacking dataframe dengan level position:\n",
            "                 nilai                               \n",
            "murid              A1    A2    A3     B1    B2    B3\n",
            "kelas pelajaran                                     \n",
            "A     english    60.0  85.0  60.0    NaN   NaN   NaN\n",
            "      math       90.0  70.0  50.0    NaN   NaN   NaN\n",
            "B     english     NaN   NaN   NaN   40.0  80.0  45.0\n",
            "      math        NaN   NaN   NaN  100.0  95.0  60.0\n"
          ],
          "name": "stdout"
        }
      ]
    },
    {
      "cell_type": "markdown",
      "metadata": {
        "id": "78rrUD_YBDFo"
      },
      "source": [
        "### Stack & Unstack - Part 2\r\n",
        "Dalam bagian kedua dari Stack & Unstack ini akan membahas stacking dataframe. Untuk itu, mari diperhatikan dataframe berikut ini"
      ]
    },
    {
      "cell_type": "code",
      "metadata": {
        "id": "VG9Q79P2BBo3",
        "outputId": "c3ccda32-43f3-400c-ee1e-f4194f104286",
        "colab": {
          "base_uri": "https://localhost:8080/"
        }
      },
      "source": [
        "import pandas as pd\r\n",
        "# Dataframe\r\n",
        "data = pd.DataFrame({\r\n",
        "  'kelas': 6*['A'] + 6*['B'],\r\n",
        "  'murid': 2*['A1'] + 2*['A2'] + 2*['A3'] + 2*['B1'] + 2*['B2'] + 2*['B3'],\r\n",
        "  'pelajaran': 6*['math','english'],\r\n",
        "  'nilai': [90,60,70,85,50,60,100,40,95,80,60,45]\r\n",
        "}, columns=['kelas','murid','pelajaran','nilai'])\r\n",
        "data = data.set_index(['kelas','murid','pelajaran'])\r\n",
        "data_unstack = data.unstack(level=1)\r\n",
        "print('Dataframe:\\n', data_unstack)"
      ],
      "execution_count": 118,
      "outputs": [
        {
          "output_type": "stream",
          "text": [
            "Dataframe:\n",
            "                 nilai                               \n",
            "murid              A1    A2    A3     B1    B2    B3\n",
            "kelas pelajaran                                     \n",
            "A     english    60.0  85.0  60.0    NaN   NaN   NaN\n",
            "      math       90.0  70.0  50.0    NaN   NaN   NaN\n",
            "B     english     NaN   NaN   NaN   40.0  80.0  45.0\n",
            "      math        NaN   NaN   NaN  100.0  95.0  60.0\n"
          ],
          "name": "stdout"
        }
      ]
    },
    {
      "cell_type": "markdown",
      "metadata": {
        "id": "B_9pd9vqBnyV"
      },
      "source": [
        "**[1]** Stacking dataframe "
      ]
    },
    {
      "cell_type": "code",
      "metadata": {
        "id": "Sz7CAac_BnCR",
        "outputId": "27dbb20b-2f21-4453-8afe-1d10de0ab56b",
        "colab": {
          "base_uri": "https://localhost:8080/"
        }
      },
      "source": [
        "# [1] Stacking dataframe\r\n",
        "data_stack = data_unstack.stack()\r\n",
        "print('Stacked dataframe:\\n', data_stack)"
      ],
      "execution_count": 119,
      "outputs": [
        {
          "output_type": "stream",
          "text": [
            "Stacked dataframe:\n",
            "                        nilai\n",
            "kelas pelajaran murid       \n",
            "A     english   A1      60.0\n",
            "                A2      85.0\n",
            "                A3      60.0\n",
            "      math      A1      90.0\n",
            "                A2      70.0\n",
            "                A3      50.0\n",
            "B     english   B1      40.0\n",
            "                B2      80.0\n",
            "                B3      45.0\n",
            "      math      B1     100.0\n",
            "                B2      95.0\n",
            "                B3      60.0\n"
          ],
          "name": "stdout"
        }
      ]
    },
    {
      "cell_type": "markdown",
      "metadata": {
        "id": "ltb1s8EWBtMI"
      },
      "source": [
        "**[2]** Tukar posisi index setelah stacking dataframe"
      ]
    },
    {
      "cell_type": "code",
      "metadata": {
        "id": "_ClnTQz3BsbY",
        "outputId": "a6b44637-f498-445b-8072-e3eb32b167db",
        "colab": {
          "base_uri": "https://localhost:8080/"
        }
      },
      "source": [
        "# [2] Tukar posisi index setelah stacking dataframe\r\n",
        "data_swap = data_stack.swaplevel(1,2)\r\n",
        "print('Swapped data:\\n', data_swap)"
      ],
      "execution_count": 121,
      "outputs": [
        {
          "output_type": "stream",
          "text": [
            "Swapped data:\n",
            "                        nilai\n",
            "kelas murid pelajaran       \n",
            "A     A1    english     60.0\n",
            "      A2    english     85.0\n",
            "      A3    english     60.0\n",
            "      A1    math        90.0\n",
            "      A2    math        70.0\n",
            "      A3    math        50.0\n",
            "B     B1    english     40.0\n",
            "      B2    english     80.0\n",
            "      B3    english     45.0\n",
            "      B1    math       100.0\n",
            "      B2    math        95.0\n",
            "      B3    math        60.0\n"
          ],
          "name": "stdout"
        }
      ]
    },
    {
      "cell_type": "markdown",
      "metadata": {
        "id": "mG_PP0d2CBP1"
      },
      "source": [
        "**[3]** Melakukan **sort_index** pada **stacking** dataframe"
      ]
    },
    {
      "cell_type": "code",
      "metadata": {
        "id": "SMzT9l30Bysv",
        "outputId": "69200dbf-ee13-4a85-cc75-eaa2572f3554",
        "colab": {
          "base_uri": "https://localhost:8080/"
        }
      },
      "source": [
        "# [3] Melakukan sort_index pada stacking dataframe\r\n",
        "data_sort = data_swap.sort_index()\r\n",
        "print('Sorted data:\\n', data_sort)"
      ],
      "execution_count": 123,
      "outputs": [
        {
          "output_type": "stream",
          "text": [
            "Sorted data:\n",
            "                        nilai\n",
            "kelas murid pelajaran       \n",
            "A     A1    english     60.0\n",
            "            math        90.0\n",
            "      A2    english     85.0\n",
            "            math        70.0\n",
            "      A3    english     60.0\n",
            "            math        50.0\n",
            "B     B1    english     40.0\n",
            "            math       100.0\n",
            "      B2    english     80.0\n",
            "            math        95.0\n",
            "      B3    english     45.0\n",
            "            math        60.0\n"
          ],
          "name": "stdout"
        }
      ]
    },
    {
      "cell_type": "markdown",
      "metadata": {
        "id": "4wdOfbuvCOAc"
      },
      "source": [
        "**Tugas Praktek**:\r\n",
        "\r\n",
        "Kerjakanlah di code editor dengan jalan mengisi kode yang tidak lengkap (_ _ _) sesuai dengan yang telah dicontohkan."
      ]
    },
    {
      "cell_type": "code",
      "metadata": {
        "id": "F7NWkHoNCFnT",
        "outputId": "f6ebdc42-28ab-4343-eb15-011f8aa06961",
        "colab": {
          "base_uri": "https://localhost:8080/"
        }
      },
      "source": [
        "import pandas as pd\r\n",
        "# Dataframe\r\n",
        "data = pd.DataFrame({\r\n",
        "  'kelas': 6*['A'] + 6*['B'],\r\n",
        "  'murid': 2*['A1'] + 2*['A2'] + 2*['A3'] + 2*['B1'] + 2*['B2'] + 2*['B3'],\r\n",
        "  'pelajaran': 6*['math','english'],\r\n",
        "  'nilai': [90,60,70,85,50,60,100,40,95,80,60,45]\r\n",
        "}, columns=['kelas','murid','pelajaran','nilai'])\r\n",
        "data = data.set_index(['kelas','murid','pelajaran'])\r\n",
        "data_unstack = data.unstack(level=1)\r\n",
        "print('Dataframe:\\n', data_unstack)\r\n",
        "# [1] Stacking dataframe\r\n",
        "data_stack = data_unstack.stack()\r\n",
        "print('Stacked dataframe:\\n', data_stack)\r\n",
        "# [2] Tukar posisi index setelah stacking dataframe\r\n",
        "data_swap = data_stack.swaplevel(1,2)\r\n",
        "print('Swapped data:\\n', data_swap)\r\n",
        "# [3] Melakukan sort_index pada stacking dataframe\r\n",
        "data_sort = data_swap.sort_index()\r\n",
        "print('Sorted data:\\n', data_sort)"
      ],
      "execution_count": 124,
      "outputs": [
        {
          "output_type": "stream",
          "text": [
            "Dataframe:\n",
            "                 nilai                               \n",
            "murid              A1    A2    A3     B1    B2    B3\n",
            "kelas pelajaran                                     \n",
            "A     english    60.0  85.0  60.0    NaN   NaN   NaN\n",
            "      math       90.0  70.0  50.0    NaN   NaN   NaN\n",
            "B     english     NaN   NaN   NaN   40.0  80.0  45.0\n",
            "      math        NaN   NaN   NaN  100.0  95.0  60.0\n",
            "Stacked dataframe:\n",
            "                        nilai\n",
            "kelas pelajaran murid       \n",
            "A     english   A1      60.0\n",
            "                A2      85.0\n",
            "                A3      60.0\n",
            "      math      A1      90.0\n",
            "                A2      70.0\n",
            "                A3      50.0\n",
            "B     english   B1      40.0\n",
            "                B2      80.0\n",
            "                B3      45.0\n",
            "      math      B1     100.0\n",
            "                B2      95.0\n",
            "                B3      60.0\n",
            "Swapped data:\n",
            "                        nilai\n",
            "kelas murid pelajaran       \n",
            "A     A1    english     60.0\n",
            "      A2    english     85.0\n",
            "      A3    english     60.0\n",
            "      A1    math        90.0\n",
            "      A2    math        70.0\n",
            "      A3    math        50.0\n",
            "B     B1    english     40.0\n",
            "      B2    english     80.0\n",
            "      B3    english     45.0\n",
            "      B1    math       100.0\n",
            "      B2    math        95.0\n",
            "      B3    math        60.0\n",
            "Sorted data:\n",
            "                        nilai\n",
            "kelas murid pelajaran       \n",
            "A     A1    english     60.0\n",
            "            math        90.0\n",
            "      A2    english     85.0\n",
            "            math        70.0\n",
            "      A3    english     60.0\n",
            "            math        50.0\n",
            "B     B1    english     40.0\n",
            "            math       100.0\n",
            "      B2    english     80.0\n",
            "            math        95.0\n",
            "      B3    english     45.0\n",
            "            math        60.0\n"
          ],
          "name": "stdout"
        }
      ]
    },
    {
      "cell_type": "markdown",
      "metadata": {
        "id": "ZhkN934KCsJx"
      },
      "source": [
        "## **Aggregation & GroupBy**"
      ]
    },
    {
      "cell_type": "markdown",
      "metadata": {
        "id": "m1syYyTwCxcv"
      },
      "source": [
        "### Pendahuluan\r\n",
        "Teknik agregasi diperlukan ketika mau melihat dataset dengan view yang berbeda, bisa set data tersebut akan dikelompokkan seperti apa, yang kemudian juga bisa menerapkan beberapa fungsi atau metode statistik ke hasil group dataset itu untuk mengetahui behavior dari data tersebut secara summary/overview."
      ]
    },
    {
      "cell_type": "markdown",
      "metadata": {
        "id": "tKGhMn0OC1Eh"
      },
      "source": [
        "![image.png](data:image/png;base64,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)"
      ]
    },
    {
      "cell_type": "markdown",
      "metadata": {
        "id": "tKtuWDu9C24b"
      },
      "source": [
        "Groupby memiliki konsep untuk\r\n",
        "\r\n",
        "1. **Split**: melakukan indexing/multi-indexing dengan apa yang di specify as groupby menjadi kelompok\r\n",
        "2. **Apply**: menerapkan fungsi pada masing-masing kelompok tersebut\r\n",
        "3. **Combine**: mengumpulkan semua hasil fungsi dari tiap kelompok kembali menjadi dataframe"
      ]
    },
    {
      "cell_type": "markdown",
      "metadata": {
        "id": "fpXQ_wmqFov5"
      },
      "source": [
        "### Review Inspeksi Data\r\n",
        "Mari review kembali terkait dengan inspeksi data yang pernah dilakukan pada modul sebelumnya. Akan menggunakan dataset https://dqlab-dataset.s3-ap-southeast-1.amazonaws.com/LO4/global_air_quality_4000rows.csv"
      ]
    },
    {
      "cell_type": "markdown",
      "metadata": {
        "id": "UEjl1vU-Fthk"
      },
      "source": [
        "**[1]** Load data dari csv"
      ]
    },
    {
      "cell_type": "code",
      "metadata": {
        "id": "5sAFXKXtFZfH",
        "outputId": "0205bcec-0509-4f99-a410-0cde450a22fc",
        "colab": {
          "base_uri": "https://localhost:8080/"
        }
      },
      "source": [
        "import pandas as pd\r\n",
        "# Load data global_air_quality.csv\r\n",
        "global_air_quality = pd.read_csv('https://dqlab-dataset.s3-ap-southeast-1.amazonaws.com/LO4/global_air_quality_4000rows.csv')\r\n",
        "print('Lima data teratas:\\n', global_air_quality.head())"
      ],
      "execution_count": 126,
      "outputs": [
        {
          "output_type": "stream",
          "text": [
            "Lima data teratas:\n",
            "                           location  ... averaged_over_in_hours\n",
            "0                  MOBILE-KICKAPOO  ...                   1.00\n",
            "1                  Oxford St Ebbes  ...                   1.00\n",
            "2                 BROADWAY (South)  ...                   1.00\n",
            "3  Deen Dayal Nagar, Sagar - MPPCB  ...                   0.25\n",
            "4                        Manglerud  ...                   1.00\n",
            "\n",
            "[5 rows x 11 columns]\n"
          ],
          "name": "stdout"
        }
      ]
    },
    {
      "cell_type": "markdown",
      "metadata": {
        "id": "Q7o4RrmTF3u7"
      },
      "source": [
        "**[2]** Melakukan pengecekan terhadap data"
      ]
    },
    {
      "cell_type": "code",
      "metadata": {
        "id": "Oh2sNA4aF0Eh",
        "outputId": "02451b90-2561-4686-9524-2091fd12481e",
        "colab": {
          "base_uri": "https://localhost:8080/"
        }
      },
      "source": [
        "# Melakukan pengecekan terhadap data\r\n",
        "print('Info global_air_quality:\\n', global_air_quality.info())"
      ],
      "execution_count": 127,
      "outputs": [
        {
          "output_type": "stream",
          "text": [
            "<class 'pandas.core.frame.DataFrame'>\n",
            "RangeIndex: 4000 entries, 0 to 3999\n",
            "Data columns (total 11 columns):\n",
            " #   Column                  Non-Null Count  Dtype  \n",
            "---  ------                  --------------  -----  \n",
            " 0   location                3997 non-null   object \n",
            " 1   city                    3966 non-null   object \n",
            " 2   country                 4000 non-null   object \n",
            " 3   pollutant               4000 non-null   object \n",
            " 4   value                   4000 non-null   float64\n",
            " 5   timestamp               4000 non-null   object \n",
            " 6   unit                    4000 non-null   object \n",
            " 7   source_name             4000 non-null   object \n",
            " 8   latitude                4000 non-null   float64\n",
            " 9   longitude               4000 non-null   float64\n",
            " 10  averaged_over_in_hours  3634 non-null   float64\n",
            "dtypes: float64(4), object(7)\n",
            "memory usage: 343.9+ KB\n",
            "Info global_air_quality:\n",
            " None\n"
          ],
          "name": "stdout"
        }
      ]
    },
    {
      "cell_type": "markdown",
      "metadata": {
        "id": "iJHKm_YcF9j_"
      },
      "source": [
        "**[3]** Melakukan count tanpa groupby"
      ]
    },
    {
      "cell_type": "code",
      "metadata": {
        "id": "G4OcHK-OF7BZ",
        "outputId": "577d1552-274d-4dce-f1e1-71dbc270768e",
        "colab": {
          "base_uri": "https://localhost:8080/"
        }
      },
      "source": [
        "# Melakukan count tanpa groupby\r\n",
        "print('Count tanpa groupby:\\n', global_air_quality.count())"
      ],
      "execution_count": 128,
      "outputs": [
        {
          "output_type": "stream",
          "text": [
            "Count tanpa groupby:\n",
            " location                  3997\n",
            "city                      3966\n",
            "country                   4000\n",
            "pollutant                 4000\n",
            "value                     4000\n",
            "timestamp                 4000\n",
            "unit                      4000\n",
            "source_name               4000\n",
            "latitude                  4000\n",
            "longitude                 4000\n",
            "averaged_over_in_hours    3634\n",
            "dtype: int64\n"
          ],
          "name": "stdout"
        }
      ]
    },
    {
      "cell_type": "markdown",
      "metadata": {
        "id": "CnBtpV4JGYpV"
      },
      "source": [
        "**[4]** Melakukan count dengan groupby"
      ]
    },
    {
      "cell_type": "code",
      "metadata": {
        "id": "iZ5H4Y-IGV6Q",
        "outputId": "e192801d-a9ea-4255-d3bb-935a26e99541",
        "colab": {
          "base_uri": "https://localhost:8080/"
        }
      },
      "source": [
        "# Melakukan count dengan groupby \r\n",
        "gaq_groupby_count = global_air_quality.groupby('source_name').count()\r\n",
        "print('Count dengan groupby (5 data teratas):\\n', gaq_groupby_count.head())"
      ],
      "execution_count": 129,
      "outputs": [
        {
          "output_type": "stream",
          "text": [
            "Count dengan groupby (5 data teratas):\n",
            "              location  city  ...  longitude  averaged_over_in_hours\n",
            "source_name                  ...                                   \n",
            "ARPALAZIO          72    72  ...         72                      72\n",
            "Agaar.mn           27    27  ...         27                       0\n",
            "AirNow           1712  1681  ...       1715                    1715\n",
            "Andalucia          71    71  ...         71                      71\n",
            "Anqing              4     4  ...          4                       4\n",
            "\n",
            "[5 rows x 10 columns]\n"
          ],
          "name": "stdout"
        }
      ]
    },
    {
      "cell_type": "code",
      "metadata": {
        "id": "nEeqrHWHGgN3",
        "outputId": "e981ffbf-133f-4693-c26e-12b5081264dc",
        "colab": {
          "base_uri": "https://localhost:8080/",
          "height": 1000
        }
      },
      "source": [
        "gaq_groupby_count"
      ],
      "execution_count": 130,
      "outputs": [
        {
          "output_type": "execute_result",
          "data": {
            "text/html": [
              "<div>\n",
              "<style scoped>\n",
              "    .dataframe tbody tr th:only-of-type {\n",
              "        vertical-align: middle;\n",
              "    }\n",
              "\n",
              "    .dataframe tbody tr th {\n",
              "        vertical-align: top;\n",
              "    }\n",
              "\n",
              "    .dataframe thead th {\n",
              "        text-align: right;\n",
              "    }\n",
              "</style>\n",
              "<table border=\"1\" class=\"dataframe\">\n",
              "  <thead>\n",
              "    <tr style=\"text-align: right;\">\n",
              "      <th></th>\n",
              "      <th>location</th>\n",
              "      <th>city</th>\n",
              "      <th>country</th>\n",
              "      <th>pollutant</th>\n",
              "      <th>value</th>\n",
              "      <th>timestamp</th>\n",
              "      <th>unit</th>\n",
              "      <th>latitude</th>\n",
              "      <th>longitude</th>\n",
              "      <th>averaged_over_in_hours</th>\n",
              "    </tr>\n",
              "    <tr>\n",
              "      <th>source_name</th>\n",
              "      <th></th>\n",
              "      <th></th>\n",
              "      <th></th>\n",
              "      <th></th>\n",
              "      <th></th>\n",
              "      <th></th>\n",
              "      <th></th>\n",
              "      <th></th>\n",
              "      <th></th>\n",
              "      <th></th>\n",
              "    </tr>\n",
              "  </thead>\n",
              "  <tbody>\n",
              "    <tr>\n",
              "      <th>ARPALAZIO</th>\n",
              "      <td>72</td>\n",
              "      <td>72</td>\n",
              "      <td>72</td>\n",
              "      <td>72</td>\n",
              "      <td>72</td>\n",
              "      <td>72</td>\n",
              "      <td>72</td>\n",
              "      <td>72</td>\n",
              "      <td>72</td>\n",
              "      <td>72</td>\n",
              "    </tr>\n",
              "    <tr>\n",
              "      <th>Agaar.mn</th>\n",
              "      <td>27</td>\n",
              "      <td>27</td>\n",
              "      <td>27</td>\n",
              "      <td>27</td>\n",
              "      <td>27</td>\n",
              "      <td>27</td>\n",
              "      <td>27</td>\n",
              "      <td>27</td>\n",
              "      <td>27</td>\n",
              "      <td>0</td>\n",
              "    </tr>\n",
              "    <tr>\n",
              "      <th>AirNow</th>\n",
              "      <td>1712</td>\n",
              "      <td>1681</td>\n",
              "      <td>1715</td>\n",
              "      <td>1715</td>\n",
              "      <td>1715</td>\n",
              "      <td>1715</td>\n",
              "      <td>1715</td>\n",
              "      <td>1715</td>\n",
              "      <td>1715</td>\n",
              "      <td>1715</td>\n",
              "    </tr>\n",
              "    <tr>\n",
              "      <th>Andalucia</th>\n",
              "      <td>71</td>\n",
              "      <td>71</td>\n",
              "      <td>71</td>\n",
              "      <td>71</td>\n",
              "      <td>71</td>\n",
              "      <td>71</td>\n",
              "      <td>71</td>\n",
              "      <td>71</td>\n",
              "      <td>71</td>\n",
              "      <td>71</td>\n",
              "    </tr>\n",
              "    <tr>\n",
              "      <th>Anqing</th>\n",
              "      <td>4</td>\n",
              "      <td>4</td>\n",
              "      <td>4</td>\n",
              "      <td>4</td>\n",
              "      <td>4</td>\n",
              "      <td>4</td>\n",
              "      <td>4</td>\n",
              "      <td>4</td>\n",
              "      <td>4</td>\n",
              "      <td>4</td>\n",
              "    </tr>\n",
              "    <tr>\n",
              "      <th>Bengbu</th>\n",
              "      <td>7</td>\n",
              "      <td>7</td>\n",
              "      <td>7</td>\n",
              "      <td>7</td>\n",
              "      <td>7</td>\n",
              "      <td>7</td>\n",
              "      <td>7</td>\n",
              "      <td>7</td>\n",
              "      <td>7</td>\n",
              "      <td>7</td>\n",
              "    </tr>\n",
              "    <tr>\n",
              "      <th>Bosnia</th>\n",
              "      <td>4</td>\n",
              "      <td>4</td>\n",
              "      <td>4</td>\n",
              "      <td>4</td>\n",
              "      <td>4</td>\n",
              "      <td>4</td>\n",
              "      <td>4</td>\n",
              "      <td>4</td>\n",
              "      <td>4</td>\n",
              "      <td>4</td>\n",
              "    </tr>\n",
              "    <tr>\n",
              "      <th>Bosnia2</th>\n",
              "      <td>21</td>\n",
              "      <td>21</td>\n",
              "      <td>21</td>\n",
              "      <td>21</td>\n",
              "      <td>21</td>\n",
              "      <td>21</td>\n",
              "      <td>21</td>\n",
              "      <td>21</td>\n",
              "      <td>21</td>\n",
              "      <td>21</td>\n",
              "    </tr>\n",
              "    <tr>\n",
              "      <th>CPCB</th>\n",
              "      <td>52</td>\n",
              "      <td>52</td>\n",
              "      <td>52</td>\n",
              "      <td>52</td>\n",
              "      <td>52</td>\n",
              "      <td>52</td>\n",
              "      <td>52</td>\n",
              "      <td>52</td>\n",
              "      <td>52</td>\n",
              "      <td>52</td>\n",
              "    </tr>\n",
              "    <tr>\n",
              "      <th>Chizhou</th>\n",
              "      <td>3</td>\n",
              "      <td>3</td>\n",
              "      <td>3</td>\n",
              "      <td>3</td>\n",
              "      <td>3</td>\n",
              "      <td>3</td>\n",
              "      <td>3</td>\n",
              "      <td>3</td>\n",
              "      <td>3</td>\n",
              "      <td>3</td>\n",
              "    </tr>\n",
              "    <tr>\n",
              "      <th>Chuzhou</th>\n",
              "      <td>6</td>\n",
              "      <td>6</td>\n",
              "      <td>6</td>\n",
              "      <td>6</td>\n",
              "      <td>6</td>\n",
              "      <td>6</td>\n",
              "      <td>6</td>\n",
              "      <td>6</td>\n",
              "      <td>6</td>\n",
              "      <td>6</td>\n",
              "    </tr>\n",
              "    <tr>\n",
              "      <th>DEFRA</th>\n",
              "      <td>155</td>\n",
              "      <td>155</td>\n",
              "      <td>155</td>\n",
              "      <td>155</td>\n",
              "      <td>155</td>\n",
              "      <td>155</td>\n",
              "      <td>155</td>\n",
              "      <td>155</td>\n",
              "      <td>155</td>\n",
              "      <td>155</td>\n",
              "    </tr>\n",
              "    <tr>\n",
              "      <th>EEA Malta</th>\n",
              "      <td>6</td>\n",
              "      <td>6</td>\n",
              "      <td>6</td>\n",
              "      <td>6</td>\n",
              "      <td>6</td>\n",
              "      <td>6</td>\n",
              "      <td>6</td>\n",
              "      <td>6</td>\n",
              "      <td>6</td>\n",
              "      <td>6</td>\n",
              "    </tr>\n",
              "    <tr>\n",
              "      <th>EEA Spain</th>\n",
              "      <td>193</td>\n",
              "      <td>193</td>\n",
              "      <td>193</td>\n",
              "      <td>193</td>\n",
              "      <td>193</td>\n",
              "      <td>193</td>\n",
              "      <td>193</td>\n",
              "      <td>193</td>\n",
              "      <td>193</td>\n",
              "      <td>193</td>\n",
              "    </tr>\n",
              "    <tr>\n",
              "      <th>Fuyang</th>\n",
              "      <td>4</td>\n",
              "      <td>4</td>\n",
              "      <td>4</td>\n",
              "      <td>4</td>\n",
              "      <td>4</td>\n",
              "      <td>4</td>\n",
              "      <td>4</td>\n",
              "      <td>4</td>\n",
              "      <td>4</td>\n",
              "      <td>4</td>\n",
              "    </tr>\n",
              "    <tr>\n",
              "      <th>GIOS</th>\n",
              "      <td>339</td>\n",
              "      <td>339</td>\n",
              "      <td>339</td>\n",
              "      <td>339</td>\n",
              "      <td>339</td>\n",
              "      <td>339</td>\n",
              "      <td>339</td>\n",
              "      <td>339</td>\n",
              "      <td>339</td>\n",
              "      <td>0</td>\n",
              "    </tr>\n",
              "    <tr>\n",
              "      <th>Hefei</th>\n",
              "      <td>19</td>\n",
              "      <td>19</td>\n",
              "      <td>19</td>\n",
              "      <td>19</td>\n",
              "      <td>19</td>\n",
              "      <td>19</td>\n",
              "      <td>19</td>\n",
              "      <td>19</td>\n",
              "      <td>19</td>\n",
              "      <td>19</td>\n",
              "    </tr>\n",
              "    <tr>\n",
              "      <th>Huaibei</th>\n",
              "      <td>9</td>\n",
              "      <td>9</td>\n",
              "      <td>9</td>\n",
              "      <td>9</td>\n",
              "      <td>9</td>\n",
              "      <td>9</td>\n",
              "      <td>9</td>\n",
              "      <td>9</td>\n",
              "      <td>9</td>\n",
              "      <td>9</td>\n",
              "    </tr>\n",
              "    <tr>\n",
              "      <th>Huainan</th>\n",
              "      <td>14</td>\n",
              "      <td>14</td>\n",
              "      <td>14</td>\n",
              "      <td>14</td>\n",
              "      <td>14</td>\n",
              "      <td>14</td>\n",
              "      <td>14</td>\n",
              "      <td>14</td>\n",
              "      <td>14</td>\n",
              "      <td>14</td>\n",
              "    </tr>\n",
              "    <tr>\n",
              "      <th>Israel</th>\n",
              "      <td>117</td>\n",
              "      <td>117</td>\n",
              "      <td>117</td>\n",
              "      <td>117</td>\n",
              "      <td>117</td>\n",
              "      <td>117</td>\n",
              "      <td>117</td>\n",
              "      <td>117</td>\n",
              "      <td>117</td>\n",
              "      <td>117</td>\n",
              "    </tr>\n",
              "    <tr>\n",
              "      <th>Kosovo</th>\n",
              "      <td>24</td>\n",
              "      <td>24</td>\n",
              "      <td>24</td>\n",
              "      <td>24</td>\n",
              "      <td>24</td>\n",
              "      <td>24</td>\n",
              "      <td>24</td>\n",
              "      <td>24</td>\n",
              "      <td>24</td>\n",
              "      <td>24</td>\n",
              "    </tr>\n",
              "    <tr>\n",
              "      <th>Medellin</th>\n",
              "      <td>28</td>\n",
              "      <td>28</td>\n",
              "      <td>28</td>\n",
              "      <td>28</td>\n",
              "      <td>28</td>\n",
              "      <td>28</td>\n",
              "      <td>28</td>\n",
              "      <td>28</td>\n",
              "      <td>28</td>\n",
              "      <td>28</td>\n",
              "    </tr>\n",
              "    <tr>\n",
              "      <th>Norway</th>\n",
              "      <td>96</td>\n",
              "      <td>96</td>\n",
              "      <td>96</td>\n",
              "      <td>96</td>\n",
              "      <td>96</td>\n",
              "      <td>96</td>\n",
              "      <td>96</td>\n",
              "      <td>96</td>\n",
              "      <td>96</td>\n",
              "      <td>96</td>\n",
              "    </tr>\n",
              "    <tr>\n",
              "      <th>Poland</th>\n",
              "      <td>30</td>\n",
              "      <td>30</td>\n",
              "      <td>30</td>\n",
              "      <td>30</td>\n",
              "      <td>30</td>\n",
              "      <td>30</td>\n",
              "      <td>30</td>\n",
              "      <td>30</td>\n",
              "      <td>30</td>\n",
              "      <td>30</td>\n",
              "    </tr>\n",
              "    <tr>\n",
              "      <th>Senamhi</th>\n",
              "      <td>23</td>\n",
              "      <td>23</td>\n",
              "      <td>23</td>\n",
              "      <td>23</td>\n",
              "      <td>23</td>\n",
              "      <td>23</td>\n",
              "      <td>23</td>\n",
              "      <td>23</td>\n",
              "      <td>23</td>\n",
              "      <td>23</td>\n",
              "    </tr>\n",
              "    <tr>\n",
              "      <th>Shenyang</th>\n",
              "      <td>1</td>\n",
              "      <td>1</td>\n",
              "      <td>1</td>\n",
              "      <td>1</td>\n",
              "      <td>1</td>\n",
              "      <td>1</td>\n",
              "      <td>1</td>\n",
              "      <td>1</td>\n",
              "      <td>1</td>\n",
              "      <td>1</td>\n",
              "    </tr>\n",
              "    <tr>\n",
              "      <th>Spartan</th>\n",
              "      <td>7</td>\n",
              "      <td>7</td>\n",
              "      <td>7</td>\n",
              "      <td>7</td>\n",
              "      <td>7</td>\n",
              "      <td>7</td>\n",
              "      <td>7</td>\n",
              "      <td>7</td>\n",
              "      <td>7</td>\n",
              "      <td>7</td>\n",
              "    </tr>\n",
              "    <tr>\n",
              "      <th>Suzhou</th>\n",
              "      <td>6</td>\n",
              "      <td>6</td>\n",
              "      <td>6</td>\n",
              "      <td>6</td>\n",
              "      <td>6</td>\n",
              "      <td>6</td>\n",
              "      <td>6</td>\n",
              "      <td>6</td>\n",
              "      <td>6</td>\n",
              "      <td>6</td>\n",
              "    </tr>\n",
              "    <tr>\n",
              "      <th>Sweden</th>\n",
              "      <td>8</td>\n",
              "      <td>8</td>\n",
              "      <td>8</td>\n",
              "      <td>8</td>\n",
              "      <td>8</td>\n",
              "      <td>8</td>\n",
              "      <td>8</td>\n",
              "      <td>8</td>\n",
              "      <td>8</td>\n",
              "      <td>8</td>\n",
              "    </tr>\n",
              "    <tr>\n",
              "      <th>Taiwan</th>\n",
              "      <td>166</td>\n",
              "      <td>166</td>\n",
              "      <td>166</td>\n",
              "      <td>166</td>\n",
              "      <td>166</td>\n",
              "      <td>166</td>\n",
              "      <td>166</td>\n",
              "      <td>166</td>\n",
              "      <td>166</td>\n",
              "      <td>166</td>\n",
              "    </tr>\n",
              "    <tr>\n",
              "      <th>Texas</th>\n",
              "      <td>31</td>\n",
              "      <td>31</td>\n",
              "      <td>31</td>\n",
              "      <td>31</td>\n",
              "      <td>31</td>\n",
              "      <td>31</td>\n",
              "      <td>31</td>\n",
              "      <td>31</td>\n",
              "      <td>31</td>\n",
              "      <td>31</td>\n",
              "    </tr>\n",
              "    <tr>\n",
              "      <th>Thailand</th>\n",
              "      <td>108</td>\n",
              "      <td>108</td>\n",
              "      <td>108</td>\n",
              "      <td>108</td>\n",
              "      <td>108</td>\n",
              "      <td>108</td>\n",
              "      <td>108</td>\n",
              "      <td>108</td>\n",
              "      <td>108</td>\n",
              "      <td>108</td>\n",
              "    </tr>\n",
              "    <tr>\n",
              "      <th>Tongling</th>\n",
              "      <td>3</td>\n",
              "      <td>3</td>\n",
              "      <td>3</td>\n",
              "      <td>3</td>\n",
              "      <td>3</td>\n",
              "      <td>3</td>\n",
              "      <td>3</td>\n",
              "      <td>3</td>\n",
              "      <td>3</td>\n",
              "      <td>3</td>\n",
              "    </tr>\n",
              "    <tr>\n",
              "      <th>Turkey</th>\n",
              "      <td>202</td>\n",
              "      <td>202</td>\n",
              "      <td>202</td>\n",
              "      <td>202</td>\n",
              "      <td>202</td>\n",
              "      <td>202</td>\n",
              "      <td>202</td>\n",
              "      <td>202</td>\n",
              "      <td>202</td>\n",
              "      <td>202</td>\n",
              "    </tr>\n",
              "    <tr>\n",
              "      <th>Wuhu</th>\n",
              "      <td>10</td>\n",
              "      <td>10</td>\n",
              "      <td>10</td>\n",
              "      <td>10</td>\n",
              "      <td>10</td>\n",
              "      <td>10</td>\n",
              "      <td>10</td>\n",
              "      <td>10</td>\n",
              "      <td>10</td>\n",
              "      <td>10</td>\n",
              "    </tr>\n",
              "    <tr>\n",
              "      <th>caaqm</th>\n",
              "      <td>419</td>\n",
              "      <td>419</td>\n",
              "      <td>419</td>\n",
              "      <td>419</td>\n",
              "      <td>419</td>\n",
              "      <td>419</td>\n",
              "      <td>419</td>\n",
              "      <td>419</td>\n",
              "      <td>419</td>\n",
              "      <td>419</td>\n",
              "    </tr>\n",
              "  </tbody>\n",
              "</table>\n",
              "</div>"
            ],
            "text/plain": [
              "             location  city  ...  longitude  averaged_over_in_hours\n",
              "source_name                  ...                                   \n",
              "ARPALAZIO          72    72  ...         72                      72\n",
              "Agaar.mn           27    27  ...         27                       0\n",
              "AirNow           1712  1681  ...       1715                    1715\n",
              "Andalucia          71    71  ...         71                      71\n",
              "Anqing              4     4  ...          4                       4\n",
              "Bengbu              7     7  ...          7                       7\n",
              "Bosnia              4     4  ...          4                       4\n",
              "Bosnia2            21    21  ...         21                      21\n",
              "CPCB               52    52  ...         52                      52\n",
              "Chizhou             3     3  ...          3                       3\n",
              "Chuzhou             6     6  ...          6                       6\n",
              "DEFRA             155   155  ...        155                     155\n",
              "EEA Malta           6     6  ...          6                       6\n",
              "EEA Spain         193   193  ...        193                     193\n",
              "Fuyang              4     4  ...          4                       4\n",
              "GIOS              339   339  ...        339                       0\n",
              "Hefei              19    19  ...         19                      19\n",
              "Huaibei             9     9  ...          9                       9\n",
              "Huainan            14    14  ...         14                      14\n",
              "Israel            117   117  ...        117                     117\n",
              "Kosovo             24    24  ...         24                      24\n",
              "Medellin           28    28  ...         28                      28\n",
              "Norway             96    96  ...         96                      96\n",
              "Poland             30    30  ...         30                      30\n",
              "Senamhi            23    23  ...         23                      23\n",
              "Shenyang            1     1  ...          1                       1\n",
              "Spartan             7     7  ...          7                       7\n",
              "Suzhou              6     6  ...          6                       6\n",
              "Sweden              8     8  ...          8                       8\n",
              "Taiwan            166   166  ...        166                     166\n",
              "Texas              31    31  ...         31                      31\n",
              "Thailand          108   108  ...        108                     108\n",
              "Tongling            3     3  ...          3                       3\n",
              "Turkey            202   202  ...        202                     202\n",
              "Wuhu               10    10  ...         10                      10\n",
              "caaqm             419   419  ...        419                     419\n",
              "\n",
              "[36 rows x 10 columns]"
            ]
          },
          "metadata": {
            "tags": []
          },
          "execution_count": 130
        }
      ]
    },
    {
      "cell_type": "markdown",
      "metadata": {
        "id": "2I3KevyHGvI5"
      },
      "source": [
        "Terdapat perbedaan antara melakukan count dengan groupby dan tanpa groupby,\r\n",
        "\r\n",
        "1. Terdapat index apa yang di specify as groupby\r\n",
        "2. Perhitungan jadi berdasarkan apa yang di specify as groupby\r\n",
        "3. Overall, lebih mudah untuk membaca data summary yang telah di groupby"
      ]
    },
    {
      "cell_type": "markdown",
      "metadata": {
        "id": "6-nT47D5H8Fk"
      },
      "source": [
        "### Groupby dan Aggregasi dengan Fungsi Statistik Dasar - Part 1\r\n",
        "Pada subbab ini akan menerapkan groupby dan fungsi aggregasi mean dan std untuk menentukan nilai rata-rata dan standar deviasi dari masing-masing kelompok data dari dataset https://dqlab-dataset.s3-ap-southeast-1.amazonaws.com/LO4/global_air_quality_4000rows.csv dan diassign sebagai variabel df_gaq."
      ]
    },
    {
      "cell_type": "markdown",
      "metadata": {
        "id": "Vx-TJKLRH_yD"
      },
      "source": [
        "Akan buat variabel pollutant "
      ]
    },
    {
      "cell_type": "code",
      "metadata": {
        "id": "MoFTz7XNGmhM",
        "outputId": "d0bcaefd-09bc-4f6c-eb39-29a5e387a9f4",
        "colab": {
          "base_uri": "https://localhost:8080/"
        }
      },
      "source": [
        "import pandas as pd\r\n",
        "# Load data global_air_quality.csv\r\n",
        "gaq = pd.read_csv('https://dqlab-dataset.s3-ap-southeast-1.amazonaws.com/LO4/global_air_quality_4000rows.csv')\r\n",
        "# Create variabel pollutant \r\n",
        "pollutant = gaq[['country','city','pollutant','value']].pivot_table(index=['country','city'],columns='pollutant').fillna(0)\r\n",
        "print('Data pollutant (5 teratas):\\n', pollutant.head())"
      ],
      "execution_count": 131,
      "outputs": [
        {
          "output_type": "stream",
          "text": [
            "Data pollutant (5 teratas):\n",
            "                      value                                     \n",
            "pollutant               bc      co   no2   o3   pm10  pm25  so2\n",
            "country city                                                   \n",
            "AR      Buenos Aires   0.0     0.0   0.0  0.0    0.0  18.1  0.0\n",
            "AU      Townsville     0.0     0.0   0.0  0.0    0.0   3.9  0.0\n",
            "BA      Goražde        0.0   141.0  19.0  8.0    0.0   0.0  0.0\n",
            "        Ilijaš         0.0     0.0   0.0  0.0  100.0   0.0  0.0\n",
            "        Jajce          0.0  1508.0  25.0  6.0    9.0   0.0  0.0\n"
          ],
          "name": "stdout"
        }
      ]
    },
    {
      "cell_type": "markdown",
      "metadata": {
        "id": "YBm43FHwIKE9"
      },
      "source": [
        "**[1]** Group berdasarkan country dan terapkan aggregasi mean, method .mean() setelah penerapan method .groupby() digunakan untuk mencari rata-rata dari tiap kelompok"
      ]
    },
    {
      "cell_type": "code",
      "metadata": {
        "id": "HvXGTYBGIFON",
        "outputId": "163886d8-fd3e-4b60-d979-81922f7df680",
        "colab": {
          "base_uri": "https://localhost:8080/"
        }
      },
      "source": [
        "# [1] Group berdasarkan country dan terapkan aggregasi mean\r\n",
        "pollutant_mean = pollutant.groupby('country').mean()\r\n",
        "print('Rata-rata pollutant (5 teratas):\\n', pollutant_mean.head())"
      ],
      "execution_count": 132,
      "outputs": [
        {
          "output_type": "stream",
          "text": [
            "Rata-rata pollutant (5 teratas):\n",
            "           value                         ...                                 \n",
            "pollutant    bc          co        no2  ...       pm10       pm25        so2\n",
            "country                                 ...                                 \n",
            "AR          0.0    0.000000   0.000000  ...   0.000000  18.100000   0.000000\n",
            "AU          0.0    0.000000   0.000000  ...   0.000000   3.900000   0.000000\n",
            "BA          0.0  475.833333  19.500000  ...  40.333333   0.000000  18.000000\n",
            "CA          0.0    0.036818   0.000355  ...   0.836364   3.433601   0.000091\n",
            "CL          0.0    0.000000  21.000000  ...   0.000000   0.000000   0.000000\n",
            "\n",
            "[5 rows x 7 columns]\n"
          ],
          "name": "stdout"
        }
      ]
    },
    {
      "cell_type": "markdown",
      "metadata": {
        "id": "EUY9x_leISLE"
      },
      "source": [
        "**[2]** Group berdasarkan country dan terapkan aggregasi std, method .std() setelah penerapan method .groupby() digunakan untuk mencari standard deviasi (penyimpangan) dari tiap kelompok"
      ]
    },
    {
      "cell_type": "code",
      "metadata": {
        "id": "v_X_bt8LIQPN",
        "outputId": "adebc360-5a6e-47b1-8ed3-16fe3c59d8d4",
        "colab": {
          "base_uri": "https://localhost:8080/"
        }
      },
      "source": [
        "# [2] Group berdasarkan country dan terapkan aggregasi std\r\n",
        "pollutant_std = pollutant.groupby('country').std().fillna(0)\r\n",
        "print('Standar deviasi pollutant (5 teratas):\\n', pollutant_std.head())"
      ],
      "execution_count": 133,
      "outputs": [
        {
          "output_type": "stream",
          "text": [
            "Standar deviasi pollutant (5 teratas):\n",
            "         value                                                                 \n",
            "           bc          co        no2        o3       pm10      pm25        so2\n",
            "country                                                                       \n",
            "AR        0.0    0.000000   0.000000  0.000000   0.000000  0.000000   0.000000\n",
            "AU        0.0    0.000000   0.000000  0.000000   0.000000  0.000000   0.000000\n",
            "BA        0.0  536.925476  11.945711  8.207720  46.701891  0.000000  30.403947\n",
            "CA        0.0    0.089841   0.000750  0.019323   1.713052  2.286509   0.000302\n",
            "CL        0.0    0.000000   0.000000  0.000000   0.000000  0.000000   0.000000\n"
          ],
          "name": "stdout"
        }
      ]
    },
    {
      "cell_type": "markdown",
      "metadata": {
        "id": "la4PPRuzI6k6"
      },
      "source": [
        "### Groupby dan Aggregasi dengan Fungsi Statistik Dasar - Part 2\r\n",
        "Akan melanjutkan untuk fungsi statistik lainnya yaitu **.sum()** dan **.nunique()** untuk mengaggregasi dataset pollutant setelah di groupby."
      ]
    },
    {
      "cell_type": "markdown",
      "metadata": {
        "id": "gUaUxXqwI-nm"
      },
      "source": [
        "**[3]** Group berdasarkan country dan terapkan aggregasi sum, method .sum() setelah penerapan method .groupby() digunakan untuk mencari total nilai dari tiap kelompok"
      ]
    },
    {
      "cell_type": "code",
      "metadata": {
        "id": "fHKWF5YcIZKU",
        "outputId": "e84ffa50-8556-416e-851c-eeb3adfd46ff",
        "colab": {
          "base_uri": "https://localhost:8080/"
        }
      },
      "source": [
        "# [3] Group berdasarkan country dan terapkan aggregasi sum\r\n",
        "pollutant_sum = pollutant.groupby('country').sum()\r\n",
        "print('Total pollutant (5 teratas):\\n', pollutant_sum.head())"
      ],
      "execution_count": 134,
      "outputs": [
        {
          "output_type": "stream",
          "text": [
            "Total pollutant (5 teratas):\n",
            "           value                                                          \n",
            "pollutant    bc        co       no2         o3   pm10       pm25      so2\n",
            "country                                                                  \n",
            "AR          0.0     0.000    0.0000   0.000000    0.0  18.100000    0.000\n",
            "AU          0.0     0.000    0.0000   0.000000    0.0   3.900000    0.000\n",
            "BA          0.0  2855.000  117.0000  35.000000  242.0   0.000000  108.000\n",
            "CA          0.0     0.405    0.0039   0.285593    9.2  37.769608    0.001\n",
            "CL          0.0     0.000   21.0000   0.000000    0.0   0.000000    0.000\n"
          ],
          "name": "stdout"
        }
      ]
    },
    {
      "cell_type": "markdown",
      "metadata": {
        "id": "mwmP7H8-JGmq"
      },
      "source": [
        "**[4]** Group berdasarkan country dan terapkan aggregasi nunique, method .nunique() setelah penerapan method .groupby() digunakan untuk mencari berapakah jumlah unique value dari tiap kelompok."
      ]
    },
    {
      "cell_type": "code",
      "metadata": {
        "id": "5dCSAVNsJDrO",
        "outputId": "86693d13-4a89-490b-f28b-0215160b830b",
        "colab": {
          "base_uri": "https://localhost:8080/"
        }
      },
      "source": [
        "# [4] Group berdasarkan country dan terapkan aggregasi nunique\r\n",
        "pollutant_nunique = pollutant.groupby('country').nunique()\r\n",
        "print('Jumlah unique value pollutant (5 teratas):\\n', pollutant_nunique.head())"
      ],
      "execution_count": 135,
      "outputs": [
        {
          "output_type": "stream",
          "text": [
            "Jumlah unique value pollutant (5 teratas):\n",
            "           value                        \n",
            "pollutant    bc co no2 o3 pm10 pm25 so2\n",
            "country                                \n",
            "AR            1  1   1  1    1    1   1\n",
            "AU            1  1   1  1    1    1   1\n",
            "BA            1  6   6  4    5    1   4\n",
            "CA            1  3   4  9    4   10   2\n",
            "CL            1  1   1  1    1    1   1\n"
          ],
          "name": "stdout"
        }
      ]
    },
    {
      "cell_type": "markdown",
      "metadata": {
        "id": "bysFitJDJ8y-"
      },
      "source": [
        "### Groupby dan Aggregasi dengan Fungsi Statistik Dasar - Part 3\r\n",
        "Akan melanjutkan untuk fungsi statistik **.min()** dan **.max()** untuk mengaggregasi dataset pollutant setelah di groupby."
      ]
    },
    {
      "cell_type": "code",
      "metadata": {
        "id": "1adtx0xvK3q_",
        "outputId": "9fb1478a-5cc4-41d7-c6a1-3b73a372eb5e",
        "colab": {
          "base_uri": "https://localhost:8080/"
        }
      },
      "source": [
        "import pandas as pd\r\n",
        "# Load data https://dqlab-dataset.s3-ap-southeast-1.amazonaws.com/LO4/global_air_quality_4000rows.csv\r\n",
        "gaq = pd.read_csv('https://dqlab-dataset.s3-ap-southeast-1.amazonaws.com/LO4/global_air_quality_4000rows.csv')\r\n",
        "# Create variabel pollutant \r\n",
        "pollutant = gaq[['country','city','pollutant','value']].pivot_table(index=['country','city'],columns='pollutant').fillna(0)\r\n",
        "print('Data pollutant (5 teratas):\\n', pollutant.head())"
      ],
      "execution_count": 136,
      "outputs": [
        {
          "output_type": "stream",
          "text": [
            "Data pollutant (5 teratas):\n",
            "                      value                                     \n",
            "pollutant               bc      co   no2   o3   pm10  pm25  so2\n",
            "country city                                                   \n",
            "AR      Buenos Aires   0.0     0.0   0.0  0.0    0.0  18.1  0.0\n",
            "AU      Townsville     0.0     0.0   0.0  0.0    0.0   3.9  0.0\n",
            "BA      Goražde        0.0   141.0  19.0  8.0    0.0   0.0  0.0\n",
            "        Ilijaš         0.0     0.0   0.0  0.0  100.0   0.0  0.0\n",
            "        Jajce          0.0  1508.0  25.0  6.0    9.0   0.0  0.0\n"
          ],
          "name": "stdout"
        }
      ]
    },
    {
      "cell_type": "markdown",
      "metadata": {
        "id": "4azOPrgSKU42"
      },
      "source": [
        "**[5]** Group berdasarkan country dan terapkan aggregasi min, method **.min()** setelah penerapan method .groupby() digunakan untuk memunculkan nilai terkecil dari tiap kelompok"
      ]
    },
    {
      "cell_type": "code",
      "metadata": {
        "id": "QMKCX0wmJLFC",
        "outputId": "8f0e4103-ac50-4e71-c1e6-707a938e20ab",
        "colab": {
          "base_uri": "https://localhost:8080/"
        }
      },
      "source": [
        "# [5] Group berdasarkan country dan terapkan aggregasi min\r\n",
        "pollutant_min = pollutant.groupby('country').min()\r\n",
        "print('Nilai min pollutant (5 teratas):\\n', pollutant_min.head())"
      ],
      "execution_count": 137,
      "outputs": [
        {
          "output_type": "stream",
          "text": [
            "Nilai min pollutant (5 teratas):\n",
            "           value                                \n",
            "pollutant    bc   co   no2   o3 pm10  pm25  so2\n",
            "country                                        \n",
            "AR          0.0  0.0   0.0  0.0  0.0  18.1  0.0\n",
            "AU          0.0  0.0   0.0  0.0  0.0   3.9  0.0\n",
            "BA          0.0  0.0   0.0  0.0  0.0   0.0  0.0\n",
            "CA          0.0  0.0   0.0  0.0  0.0   0.0  0.0\n",
            "CL          0.0  0.0  21.0  0.0  0.0   0.0  0.0\n"
          ],
          "name": "stdout"
        }
      ]
    },
    {
      "cell_type": "markdown",
      "metadata": {
        "id": "U2id34XQLjxO"
      },
      "source": [
        "**[6]** Group berdasarkan country dan terapkan aggregasi max, method **.max()** setelah penerapan method .groupby() digunakan untuk memunculkan nilai terbesar dari tiap kelompok"
      ]
    },
    {
      "cell_type": "code",
      "metadata": {
        "id": "LpYLGk5yLexc",
        "outputId": "1ccf6755-761c-4cd7-d702-3663405a697b",
        "colab": {
          "base_uri": "https://localhost:8080/"
        }
      },
      "source": [
        "# [5] Group berdasarkan country dan terapkan aggregasi max\r\n",
        "pollutant_max = pollutant.groupby('country').max()\r\n",
        "print('Nilai max pollutant (5 teratas):\\n', pollutant_max.head())"
      ],
      "execution_count": 138,
      "outputs": [
        {
          "output_type": "stream",
          "text": [
            "Nilai max pollutant (5 teratas):\n",
            "           value                                                   \n",
            "pollutant    bc        co      no2         o3   pm10  pm25     so2\n",
            "country                                                           \n",
            "AR          0.0     0.000   0.0000   0.000000    0.0  18.1   0.000\n",
            "AU          0.0     0.000   0.0000   0.000000    0.0   3.9   0.000\n",
            "BA          0.0  1508.000  32.0000  21.000000  100.0   0.0  78.000\n",
            "CA          0.0     0.285   0.0024   0.048333    5.2   6.0   0.001\n",
            "CL          0.0     0.000  21.0000   0.000000    0.0   0.0   0.000\n"
          ],
          "name": "stdout"
        }
      ]
    },
    {
      "cell_type": "markdown",
      "metadata": {
        "id": "KBlArWciL0Dk"
      },
      "source": [
        "**Tugas Praktek**:\r\n",
        "\r\n",
        "Gunakanlah method **.first()** dan **.last()** untuk aggregasi setelah penerapan .groupby() yang masing-masingnya bertujuan untuk memunculkan item pertama dan item terakhir dari tiap kelompok."
      ]
    },
    {
      "cell_type": "code",
      "metadata": {
        "id": "0vAR9KYALvMr",
        "outputId": "c71a1bf0-28e6-42f9-cb68-5bcad7cb6f5b",
        "colab": {
          "base_uri": "https://localhost:8080/"
        }
      },
      "source": [
        "# Group berdasarkan country dan terapkan aggregasi first\r\n",
        "pollutant_first = pollutant.groupby('country').first()\r\n",
        "print('Item pertama pollutant (5 teratas):\\n', pollutant_first.head())\r\n",
        "# Group berdasarkan country dan terapkan aggregasi last\r\n",
        "pollutant_last = pollutant.groupby('country').last()\r\n",
        "print('Item terakhir pollutant (5 teratas):\\n', pollutant_last.head())"
      ],
      "execution_count": 139,
      "outputs": [
        {
          "output_type": "stream",
          "text": [
            "Item pertama pollutant (5 teratas):\n",
            "           value                                            \n",
            "pollutant    bc       co      no2        o3 pm10  pm25  so2\n",
            "country                                                    \n",
            "AR          0.0    0.000   0.0000  0.000000  0.0  18.1  0.0\n",
            "AU          0.0    0.000   0.0000  0.000000  0.0   3.9  0.0\n",
            "BA          0.0  141.000  19.0000  8.000000  0.0   0.0  0.0\n",
            "CA          0.0    0.285   0.0024  0.048333  0.0   3.9  0.0\n",
            "CL          0.0    0.000  21.0000  0.000000  0.0   0.0  0.0\n",
            "Item terakhir pollutant (5 teratas):\n",
            "           value                                      \n",
            "pollutant    bc     co   no2     o3  pm10  pm25   so2\n",
            "country                                              \n",
            "AR          0.0    0.0   0.0  0.000   0.0  18.1   0.0\n",
            "AU          0.0    0.0   0.0  0.000   0.0   3.9   0.0\n",
            "BA          0.0  292.0  29.0  0.000  96.0   0.0  78.0\n",
            "CA          0.0    0.0   0.0  0.036   3.0   0.0   0.0\n",
            "CL          0.0    0.0  21.0  0.000   0.0   0.0   0.0\n"
          ],
          "name": "stdout"
        }
      ]
    },
    {
      "cell_type": "markdown",
      "metadata": {
        "id": "OkFIwdjQMklj"
      },
      "source": [
        "### Groupby dengan Multiple Aggregations\r\n",
        "Kali ini akan menggunakan grouby dengan multiple aggregations yang berupa kombinasi antara beberapa fungsi. Mari perhatikan contoh berikut ini"
      ]
    },
    {
      "cell_type": "markdown",
      "metadata": {
        "id": "DB5wtsyQMttR"
      },
      "source": [
        "Dataset : https://dqlab-dataset.s3-ap-southeast-1.amazonaws.com/LO4/global_air_quality_4000rows.csv"
      ]
    },
    {
      "cell_type": "code",
      "metadata": {
        "id": "4Uo3NuQtL6_f",
        "outputId": "bbba5fda-a78e-4f18-d6f4-592db473a053",
        "colab": {
          "base_uri": "https://localhost:8080/"
        }
      },
      "source": [
        "import pandas as pd\r\n",
        "# Load data https://dqlab-dataset.s3-ap-southeast-1.amazonaws.com/LO4/global_air_quality_4000rows.csv\r\n",
        "gaq = pd.read_csv('https://dqlab-dataset.s3-ap-southeast-1.amazonaws.com/LO4/global_air_quality_4000rows.csv')\r\n",
        "# Create variabel pollutant \r\n",
        "pollutant = gaq[['country','city','pollutant','value']].pivot_table(index=['country','city'],columns='pollutant').fillna(0)\r\n",
        "print('Data pollutant (5 teratas):\\n', pollutant.head())\r\n",
        "# Group berdasarkan country dan terapkan aggregasi: min, median, mean, max\r\n",
        "multiagg = pollutant.groupby('country').agg(['max','first','last'])\r\n",
        "print('Multiple aggregations (5 teratas):\\n', multiagg.head())"
      ],
      "execution_count": 141,
      "outputs": [
        {
          "output_type": "stream",
          "text": [
            "Data pollutant (5 teratas):\n",
            "                      value                                     \n",
            "pollutant               bc      co   no2   o3   pm10  pm25  so2\n",
            "country city                                                   \n",
            "AR      Buenos Aires   0.0     0.0   0.0  0.0    0.0  18.1  0.0\n",
            "AU      Townsville     0.0     0.0   0.0  0.0    0.0   3.9  0.0\n",
            "BA      Goražde        0.0   141.0  19.0  8.0    0.0   0.0  0.0\n",
            "        Ilijaš         0.0     0.0   0.0  0.0  100.0   0.0  0.0\n",
            "        Jajce          0.0  1508.0  25.0  6.0    9.0   0.0  0.0\n",
            "Multiple aggregations (5 teratas):\n",
            "         value                                ...                                \n",
            "           bc                   co           ...  pm25           so2            \n",
            "          max first last       max    first  ... first  last     max first  last\n",
            "country                                      ...                                \n",
            "AR        0.0   0.0  0.0     0.000    0.000  ...  18.1  18.1   0.000   0.0   0.0\n",
            "AU        0.0   0.0  0.0     0.000    0.000  ...   3.9   3.9   0.000   0.0   0.0\n",
            "BA        0.0   0.0  0.0  1508.000  141.000  ...   0.0   0.0  78.000   0.0  78.0\n",
            "CA        0.0   0.0  0.0     0.285    0.285  ...   3.9   0.0   0.001   0.0   0.0\n",
            "CL        0.0   0.0  0.0     0.000    0.000  ...   0.0   0.0   0.000   0.0   0.0\n",
            "\n",
            "[5 rows x 21 columns]\n"
          ],
          "name": "stdout"
        }
      ]
    },
    {
      "cell_type": "markdown",
      "metadata": {
        "id": "FTF74T2ENBsI"
      },
      "source": [
        "**Tugas Praktek**: \r\n",
        "\r\n",
        "Terapkanlah multiple aggregations pada dataframe pollutant dengan fungsi aggregasinya adalah **'min', 'median', 'mean', 'max'**."
      ]
    },
    {
      "cell_type": "code",
      "metadata": {
        "id": "Qk2sS9S1MwGx",
        "outputId": "b4d17e84-35aa-4dfb-d084-ff1a4676aac4",
        "colab": {
          "base_uri": "https://localhost:8080/"
        }
      },
      "source": [
        "# Group berdasarkan country dan terapkan aggregasi: min, median, mean, max\r\n",
        "multiagg_2 = pollutant.groupby('country').agg(['min','median','mean','max'])\r\n",
        "print('Multiple aggregations (5 teratas):\\n', multiagg_2.head())"
      ],
      "execution_count": 143,
      "outputs": [
        {
          "output_type": "stream",
          "text": [
            "Multiple aggregations (5 teratas):\n",
            "         value                        ...                                     \n",
            "           bc                    co  ...  pm25  so2                          \n",
            "          min median mean  max  min  ...   max  min median       mean     max\n",
            "country                              ...                                     \n",
            "AR        0.0    0.0  0.0  0.0  0.0  ...  18.1  0.0    0.0   0.000000   0.000\n",
            "AU        0.0    0.0  0.0  0.0  0.0  ...   3.9  0.0    0.0   0.000000   0.000\n",
            "BA        0.0    0.0  0.0  0.0  0.0  ...   0.0  0.0    5.5  18.000000  78.000\n",
            "CA        0.0    0.0  0.0  0.0  0.0  ...   6.0  0.0    0.0   0.000091   0.001\n",
            "CL        0.0    0.0  0.0  0.0  0.0  ...   0.0  0.0    0.0   0.000000   0.000\n",
            "\n",
            "[5 rows x 28 columns]\n"
          ],
          "name": "stdout"
        }
      ]
    },
    {
      "cell_type": "code",
      "metadata": {
        "id": "eYtnKfpINQgc",
        "outputId": "fda58f8f-d007-4a89-ab55-09f3c014e8c5",
        "colab": {
          "base_uri": "https://localhost:8080/",
          "height": 1000
        }
      },
      "source": [
        "multiagg_2"
      ],
      "execution_count": 144,
      "outputs": [
        {
          "output_type": "execute_result",
          "data": {
            "text/html": [
              "<div>\n",
              "<style scoped>\n",
              "    .dataframe tbody tr th:only-of-type {\n",
              "        vertical-align: middle;\n",
              "    }\n",
              "\n",
              "    .dataframe tbody tr th {\n",
              "        vertical-align: top;\n",
              "    }\n",
              "\n",
              "    .dataframe thead tr th {\n",
              "        text-align: left;\n",
              "    }\n",
              "\n",
              "    .dataframe thead tr:last-of-type th {\n",
              "        text-align: right;\n",
              "    }\n",
              "</style>\n",
              "<table border=\"1\" class=\"dataframe\">\n",
              "  <thead>\n",
              "    <tr>\n",
              "      <th></th>\n",
              "      <th colspan=\"28\" halign=\"left\">value</th>\n",
              "    </tr>\n",
              "    <tr>\n",
              "      <th></th>\n",
              "      <th colspan=\"4\" halign=\"left\">bc</th>\n",
              "      <th colspan=\"4\" halign=\"left\">co</th>\n",
              "      <th colspan=\"4\" halign=\"left\">no2</th>\n",
              "      <th colspan=\"4\" halign=\"left\">o3</th>\n",
              "      <th colspan=\"4\" halign=\"left\">pm10</th>\n",
              "      <th colspan=\"4\" halign=\"left\">pm25</th>\n",
              "      <th colspan=\"4\" halign=\"left\">so2</th>\n",
              "    </tr>\n",
              "    <tr>\n",
              "      <th></th>\n",
              "      <th>min</th>\n",
              "      <th>median</th>\n",
              "      <th>mean</th>\n",
              "      <th>max</th>\n",
              "      <th>min</th>\n",
              "      <th>median</th>\n",
              "      <th>mean</th>\n",
              "      <th>max</th>\n",
              "      <th>min</th>\n",
              "      <th>median</th>\n",
              "      <th>mean</th>\n",
              "      <th>max</th>\n",
              "      <th>min</th>\n",
              "      <th>median</th>\n",
              "      <th>mean</th>\n",
              "      <th>max</th>\n",
              "      <th>min</th>\n",
              "      <th>median</th>\n",
              "      <th>mean</th>\n",
              "      <th>max</th>\n",
              "      <th>min</th>\n",
              "      <th>median</th>\n",
              "      <th>mean</th>\n",
              "      <th>max</th>\n",
              "      <th>min</th>\n",
              "      <th>median</th>\n",
              "      <th>mean</th>\n",
              "      <th>max</th>\n",
              "    </tr>\n",
              "    <tr>\n",
              "      <th>country</th>\n",
              "      <th></th>\n",
              "      <th></th>\n",
              "      <th></th>\n",
              "      <th></th>\n",
              "      <th></th>\n",
              "      <th></th>\n",
              "      <th></th>\n",
              "      <th></th>\n",
              "      <th></th>\n",
              "      <th></th>\n",
              "      <th></th>\n",
              "      <th></th>\n",
              "      <th></th>\n",
              "      <th></th>\n",
              "      <th></th>\n",
              "      <th></th>\n",
              "      <th></th>\n",
              "      <th></th>\n",
              "      <th></th>\n",
              "      <th></th>\n",
              "      <th></th>\n",
              "      <th></th>\n",
              "      <th></th>\n",
              "      <th></th>\n",
              "      <th></th>\n",
              "      <th></th>\n",
              "      <th></th>\n",
              "      <th></th>\n",
              "    </tr>\n",
              "  </thead>\n",
              "  <tbody>\n",
              "    <tr>\n",
              "      <th>AR</th>\n",
              "      <td>0.0</td>\n",
              "      <td>0.0</td>\n",
              "      <td>0.000000</td>\n",
              "      <td>0.0000</td>\n",
              "      <td>0.000000</td>\n",
              "      <td>0.000000</td>\n",
              "      <td>0.000000</td>\n",
              "      <td>0.000000</td>\n",
              "      <td>0.000000</td>\n",
              "      <td>0.000000</td>\n",
              "      <td>0.000000</td>\n",
              "      <td>0.000000</td>\n",
              "      <td>0.000000</td>\n",
              "      <td>0.000000</td>\n",
              "      <td>0.000000</td>\n",
              "      <td>0.000000</td>\n",
              "      <td>0.0000</td>\n",
              "      <td>0.00000</td>\n",
              "      <td>0.000000</td>\n",
              "      <td>0.000000</td>\n",
              "      <td>18.100000</td>\n",
              "      <td>18.100000</td>\n",
              "      <td>18.100000</td>\n",
              "      <td>18.100000</td>\n",
              "      <td>0.000000</td>\n",
              "      <td>0.000000</td>\n",
              "      <td>0.000000</td>\n",
              "      <td>0.000000</td>\n",
              "    </tr>\n",
              "    <tr>\n",
              "      <th>AU</th>\n",
              "      <td>0.0</td>\n",
              "      <td>0.0</td>\n",
              "      <td>0.000000</td>\n",
              "      <td>0.0000</td>\n",
              "      <td>0.000000</td>\n",
              "      <td>0.000000</td>\n",
              "      <td>0.000000</td>\n",
              "      <td>0.000000</td>\n",
              "      <td>0.000000</td>\n",
              "      <td>0.000000</td>\n",
              "      <td>0.000000</td>\n",
              "      <td>0.000000</td>\n",
              "      <td>0.000000</td>\n",
              "      <td>0.000000</td>\n",
              "      <td>0.000000</td>\n",
              "      <td>0.000000</td>\n",
              "      <td>0.0000</td>\n",
              "      <td>0.00000</td>\n",
              "      <td>0.000000</td>\n",
              "      <td>0.000000</td>\n",
              "      <td>3.900000</td>\n",
              "      <td>3.900000</td>\n",
              "      <td>3.900000</td>\n",
              "      <td>3.900000</td>\n",
              "      <td>0.000000</td>\n",
              "      <td>0.000000</td>\n",
              "      <td>0.000000</td>\n",
              "      <td>0.000000</td>\n",
              "    </tr>\n",
              "    <tr>\n",
              "      <th>BA</th>\n",
              "      <td>0.0</td>\n",
              "      <td>0.0</td>\n",
              "      <td>0.000000</td>\n",
              "      <td>0.0000</td>\n",
              "      <td>0.000000</td>\n",
              "      <td>355.000000</td>\n",
              "      <td>475.833333</td>\n",
              "      <td>1508.000000</td>\n",
              "      <td>0.000000</td>\n",
              "      <td>22.000000</td>\n",
              "      <td>19.500000</td>\n",
              "      <td>32.000000</td>\n",
              "      <td>0.000000</td>\n",
              "      <td>3.000000</td>\n",
              "      <td>5.833333</td>\n",
              "      <td>21.000000</td>\n",
              "      <td>0.0000</td>\n",
              "      <td>23.00000</td>\n",
              "      <td>40.333333</td>\n",
              "      <td>100.000000</td>\n",
              "      <td>0.000000</td>\n",
              "      <td>0.000000</td>\n",
              "      <td>0.000000</td>\n",
              "      <td>0.000000</td>\n",
              "      <td>0.000000</td>\n",
              "      <td>5.500000</td>\n",
              "      <td>18.000000</td>\n",
              "      <td>78.000000</td>\n",
              "    </tr>\n",
              "    <tr>\n",
              "      <th>CA</th>\n",
              "      <td>0.0</td>\n",
              "      <td>0.0</td>\n",
              "      <td>0.000000</td>\n",
              "      <td>0.0000</td>\n",
              "      <td>0.000000</td>\n",
              "      <td>0.000000</td>\n",
              "      <td>0.036818</td>\n",
              "      <td>0.285000</td>\n",
              "      <td>0.000000</td>\n",
              "      <td>0.000000</td>\n",
              "      <td>0.000355</td>\n",
              "      <td>0.002400</td>\n",
              "      <td>0.000000</td>\n",
              "      <td>0.035455</td>\n",
              "      <td>0.025963</td>\n",
              "      <td>0.048333</td>\n",
              "      <td>0.0000</td>\n",
              "      <td>0.00000</td>\n",
              "      <td>0.836364</td>\n",
              "      <td>5.200000</td>\n",
              "      <td>0.000000</td>\n",
              "      <td>4.000000</td>\n",
              "      <td>3.433601</td>\n",
              "      <td>6.000000</td>\n",
              "      <td>0.000000</td>\n",
              "      <td>0.000000</td>\n",
              "      <td>0.000091</td>\n",
              "      <td>0.001000</td>\n",
              "    </tr>\n",
              "    <tr>\n",
              "      <th>CL</th>\n",
              "      <td>0.0</td>\n",
              "      <td>0.0</td>\n",
              "      <td>0.000000</td>\n",
              "      <td>0.0000</td>\n",
              "      <td>0.000000</td>\n",
              "      <td>0.000000</td>\n",
              "      <td>0.000000</td>\n",
              "      <td>0.000000</td>\n",
              "      <td>21.000000</td>\n",
              "      <td>21.000000</td>\n",
              "      <td>21.000000</td>\n",
              "      <td>21.000000</td>\n",
              "      <td>0.000000</td>\n",
              "      <td>0.000000</td>\n",
              "      <td>0.000000</td>\n",
              "      <td>0.000000</td>\n",
              "      <td>0.0000</td>\n",
              "      <td>0.00000</td>\n",
              "      <td>0.000000</td>\n",
              "      <td>0.000000</td>\n",
              "      <td>0.000000</td>\n",
              "      <td>0.000000</td>\n",
              "      <td>0.000000</td>\n",
              "      <td>0.000000</td>\n",
              "      <td>0.000000</td>\n",
              "      <td>0.000000</td>\n",
              "      <td>0.000000</td>\n",
              "      <td>0.000000</td>\n",
              "    </tr>\n",
              "    <tr>\n",
              "      <th>CN</th>\n",
              "      <td>0.0</td>\n",
              "      <td>0.0</td>\n",
              "      <td>0.000000</td>\n",
              "      <td>0.0000</td>\n",
              "      <td>0.000000</td>\n",
              "      <td>0.000000</td>\n",
              "      <td>282.589744</td>\n",
              "      <td>759.000000</td>\n",
              "      <td>0.000000</td>\n",
              "      <td>24.500000</td>\n",
              "      <td>20.974359</td>\n",
              "      <td>61.000000</td>\n",
              "      <td>0.000000</td>\n",
              "      <td>41.000000</td>\n",
              "      <td>36.948718</td>\n",
              "      <td>87.500000</td>\n",
              "      <td>0.0000</td>\n",
              "      <td>55.00000</td>\n",
              "      <td>43.141026</td>\n",
              "      <td>89.000000</td>\n",
              "      <td>0.000000</td>\n",
              "      <td>39.000000</td>\n",
              "      <td>47.038462</td>\n",
              "      <td>173.000000</td>\n",
              "      <td>0.000000</td>\n",
              "      <td>8.000000</td>\n",
              "      <td>6.025641</td>\n",
              "      <td>14.000000</td>\n",
              "    </tr>\n",
              "    <tr>\n",
              "      <th>CO</th>\n",
              "      <td>0.0</td>\n",
              "      <td>0.0</td>\n",
              "      <td>0.000000</td>\n",
              "      <td>0.0000</td>\n",
              "      <td>-4999.309637</td>\n",
              "      <td>0.000000</td>\n",
              "      <td>-555.478849</td>\n",
              "      <td>0.000000</td>\n",
              "      <td>-2499.746724</td>\n",
              "      <td>0.000000</td>\n",
              "      <td>-277.749636</td>\n",
              "      <td>0.000000</td>\n",
              "      <td>-7499.240750</td>\n",
              "      <td>0.000000</td>\n",
              "      <td>-833.246417</td>\n",
              "      <td>0.023000</td>\n",
              "      <td>-9999.0000</td>\n",
              "      <td>0.00000</td>\n",
              "      <td>-1107.811233</td>\n",
              "      <td>16.698900</td>\n",
              "      <td>0.000000</td>\n",
              "      <td>7.000000</td>\n",
              "      <td>5.106272</td>\n",
              "      <td>9.915290</td>\n",
              "      <td>0.000000</td>\n",
              "      <td>0.000000</td>\n",
              "      <td>0.000000</td>\n",
              "      <td>0.000000</td>\n",
              "    </tr>\n",
              "    <tr>\n",
              "      <th>ES</th>\n",
              "      <td>0.0</td>\n",
              "      <td>0.0</td>\n",
              "      <td>0.000000</td>\n",
              "      <td>0.0000</td>\n",
              "      <td>0.000000</td>\n",
              "      <td>0.000000</td>\n",
              "      <td>66.121032</td>\n",
              "      <td>538.750000</td>\n",
              "      <td>0.000000</td>\n",
              "      <td>6.750000</td>\n",
              "      <td>10.886710</td>\n",
              "      <td>44.000000</td>\n",
              "      <td>0.000000</td>\n",
              "      <td>0.000000</td>\n",
              "      <td>16.886905</td>\n",
              "      <td>106.000000</td>\n",
              "      <td>0.0000</td>\n",
              "      <td>0.00000</td>\n",
              "      <td>2.794049</td>\n",
              "      <td>24.000000</td>\n",
              "      <td>0.000000</td>\n",
              "      <td>0.000000</td>\n",
              "      <td>0.190476</td>\n",
              "      <td>8.000000</td>\n",
              "      <td>0.000000</td>\n",
              "      <td>3.750000</td>\n",
              "      <td>5.272653</td>\n",
              "      <td>63.000000</td>\n",
              "    </tr>\n",
              "    <tr>\n",
              "      <th>GB</th>\n",
              "      <td>0.0</td>\n",
              "      <td>0.0</td>\n",
              "      <td>0.000000</td>\n",
              "      <td>0.0000</td>\n",
              "      <td>0.000000</td>\n",
              "      <td>0.000000</td>\n",
              "      <td>0.000000</td>\n",
              "      <td>0.000000</td>\n",
              "      <td>0.000000</td>\n",
              "      <td>0.000000</td>\n",
              "      <td>11.102976</td>\n",
              "      <td>106.000000</td>\n",
              "      <td>0.000000</td>\n",
              "      <td>0.000000</td>\n",
              "      <td>32.542857</td>\n",
              "      <td>110.000000</td>\n",
              "      <td>0.0000</td>\n",
              "      <td>0.00000</td>\n",
              "      <td>6.842857</td>\n",
              "      <td>31.000000</td>\n",
              "      <td>0.000000</td>\n",
              "      <td>0.000000</td>\n",
              "      <td>3.921429</td>\n",
              "      <td>62.000000</td>\n",
              "      <td>0.000000</td>\n",
              "      <td>0.000000</td>\n",
              "      <td>0.538095</td>\n",
              "      <td>11.000000</td>\n",
              "    </tr>\n",
              "    <tr>\n",
              "      <th>ID</th>\n",
              "      <td>0.0</td>\n",
              "      <td>0.0</td>\n",
              "      <td>0.000000</td>\n",
              "      <td>0.0000</td>\n",
              "      <td>0.000000</td>\n",
              "      <td>0.000000</td>\n",
              "      <td>0.000000</td>\n",
              "      <td>0.000000</td>\n",
              "      <td>0.000000</td>\n",
              "      <td>0.000000</td>\n",
              "      <td>0.000000</td>\n",
              "      <td>0.000000</td>\n",
              "      <td>0.000000</td>\n",
              "      <td>0.000000</td>\n",
              "      <td>0.000000</td>\n",
              "      <td>0.000000</td>\n",
              "      <td>0.0000</td>\n",
              "      <td>0.00000</td>\n",
              "      <td>0.000000</td>\n",
              "      <td>0.000000</td>\n",
              "      <td>8.800000</td>\n",
              "      <td>8.800000</td>\n",
              "      <td>8.800000</td>\n",
              "      <td>8.800000</td>\n",
              "      <td>0.000000</td>\n",
              "      <td>0.000000</td>\n",
              "      <td>0.000000</td>\n",
              "      <td>0.000000</td>\n",
              "    </tr>\n",
              "    <tr>\n",
              "      <th>IL</th>\n",
              "      <td>0.0</td>\n",
              "      <td>0.0</td>\n",
              "      <td>0.000000</td>\n",
              "      <td>0.0000</td>\n",
              "      <td>0.000000</td>\n",
              "      <td>0.250000</td>\n",
              "      <td>0.271429</td>\n",
              "      <td>0.700000</td>\n",
              "      <td>0.000000</td>\n",
              "      <td>0.018521</td>\n",
              "      <td>0.017532</td>\n",
              "      <td>0.029200</td>\n",
              "      <td>0.000000</td>\n",
              "      <td>0.018652</td>\n",
              "      <td>0.019455</td>\n",
              "      <td>0.052600</td>\n",
              "      <td>0.0000</td>\n",
              "      <td>0.00000</td>\n",
              "      <td>0.000000</td>\n",
              "      <td>0.000000</td>\n",
              "      <td>0.000000</td>\n",
              "      <td>0.000000</td>\n",
              "      <td>1.671429</td>\n",
              "      <td>23.400000</td>\n",
              "      <td>0.000000</td>\n",
              "      <td>0.000538</td>\n",
              "      <td>0.000728</td>\n",
              "      <td>0.002300</td>\n",
              "    </tr>\n",
              "    <tr>\n",
              "      <th>IN</th>\n",
              "      <td>0.0</td>\n",
              "      <td>0.0</td>\n",
              "      <td>0.000000</td>\n",
              "      <td>0.0000</td>\n",
              "      <td>0.000000</td>\n",
              "      <td>0.000000</td>\n",
              "      <td>355.537529</td>\n",
              "      <td>3115.000000</td>\n",
              "      <td>0.000000</td>\n",
              "      <td>0.000000</td>\n",
              "      <td>5.702424</td>\n",
              "      <td>62.600000</td>\n",
              "      <td>0.000000</td>\n",
              "      <td>0.000000</td>\n",
              "      <td>13.717442</td>\n",
              "      <td>102.690000</td>\n",
              "      <td>0.0000</td>\n",
              "      <td>0.00000</td>\n",
              "      <td>43.289545</td>\n",
              "      <td>985.000000</td>\n",
              "      <td>0.000000</td>\n",
              "      <td>0.000000</td>\n",
              "      <td>33.253647</td>\n",
              "      <td>985.000000</td>\n",
              "      <td>0.000000</td>\n",
              "      <td>0.000000</td>\n",
              "      <td>16.122299</td>\n",
              "      <td>1632.650000</td>\n",
              "    </tr>\n",
              "    <tr>\n",
              "      <th>IT</th>\n",
              "      <td>0.0</td>\n",
              "      <td>0.0</td>\n",
              "      <td>0.000000</td>\n",
              "      <td>0.0000</td>\n",
              "      <td>0.000000</td>\n",
              "      <td>300.000000</td>\n",
              "      <td>305.555556</td>\n",
              "      <td>633.333333</td>\n",
              "      <td>0.000000</td>\n",
              "      <td>4.833333</td>\n",
              "      <td>7.333333</td>\n",
              "      <td>24.000000</td>\n",
              "      <td>69.000000</td>\n",
              "      <td>83.500000</td>\n",
              "      <td>83.119048</td>\n",
              "      <td>96.000000</td>\n",
              "      <td>0.0000</td>\n",
              "      <td>17.95000</td>\n",
              "      <td>15.816667</td>\n",
              "      <td>23.000000</td>\n",
              "      <td>0.000000</td>\n",
              "      <td>5.166667</td>\n",
              "      <td>6.400794</td>\n",
              "      <td>14.571429</td>\n",
              "      <td>-248.975000</td>\n",
              "      <td>0.133333</td>\n",
              "      <td>-42.768056</td>\n",
              "      <td>0.800000</td>\n",
              "    </tr>\n",
              "    <tr>\n",
              "      <th>MK</th>\n",
              "      <td>0.0</td>\n",
              "      <td>0.0</td>\n",
              "      <td>0.000000</td>\n",
              "      <td>0.0000</td>\n",
              "      <td>0.000000</td>\n",
              "      <td>0.000000</td>\n",
              "      <td>0.000000</td>\n",
              "      <td>0.000000</td>\n",
              "      <td>0.000000</td>\n",
              "      <td>0.000000</td>\n",
              "      <td>0.000000</td>\n",
              "      <td>0.000000</td>\n",
              "      <td>14.000000</td>\n",
              "      <td>14.000000</td>\n",
              "      <td>14.000000</td>\n",
              "      <td>14.000000</td>\n",
              "      <td>0.0000</td>\n",
              "      <td>0.00000</td>\n",
              "      <td>0.000000</td>\n",
              "      <td>0.000000</td>\n",
              "      <td>0.000000</td>\n",
              "      <td>0.000000</td>\n",
              "      <td>0.000000</td>\n",
              "      <td>0.000000</td>\n",
              "      <td>27.000000</td>\n",
              "      <td>27.000000</td>\n",
              "      <td>27.000000</td>\n",
              "      <td>27.000000</td>\n",
              "    </tr>\n",
              "    <tr>\n",
              "      <th>MN</th>\n",
              "      <td>0.0</td>\n",
              "      <td>0.0</td>\n",
              "      <td>0.000000</td>\n",
              "      <td>0.0000</td>\n",
              "      <td>226.400000</td>\n",
              "      <td>226.400000</td>\n",
              "      <td>226.400000</td>\n",
              "      <td>226.400000</td>\n",
              "      <td>19.250000</td>\n",
              "      <td>19.250000</td>\n",
              "      <td>19.250000</td>\n",
              "      <td>19.250000</td>\n",
              "      <td>41.400000</td>\n",
              "      <td>41.400000</td>\n",
              "      <td>41.400000</td>\n",
              "      <td>41.400000</td>\n",
              "      <td>136.5000</td>\n",
              "      <td>136.50000</td>\n",
              "      <td>136.500000</td>\n",
              "      <td>136.500000</td>\n",
              "      <td>157.750000</td>\n",
              "      <td>157.750000</td>\n",
              "      <td>157.750000</td>\n",
              "      <td>157.750000</td>\n",
              "      <td>15.666667</td>\n",
              "      <td>15.666667</td>\n",
              "      <td>15.666667</td>\n",
              "      <td>15.666667</td>\n",
              "    </tr>\n",
              "    <tr>\n",
              "      <th>MT</th>\n",
              "      <td>0.0</td>\n",
              "      <td>0.0</td>\n",
              "      <td>0.000000</td>\n",
              "      <td>0.0000</td>\n",
              "      <td>0.000000</td>\n",
              "      <td>0.000000</td>\n",
              "      <td>82.076000</td>\n",
              "      <td>328.304000</td>\n",
              "      <td>-3.060000</td>\n",
              "      <td>0.000000</td>\n",
              "      <td>-0.765000</td>\n",
              "      <td>0.000000</td>\n",
              "      <td>0.000000</td>\n",
              "      <td>0.000000</td>\n",
              "      <td>0.000000</td>\n",
              "      <td>0.000000</td>\n",
              "      <td>0.0000</td>\n",
              "      <td>0.00000</td>\n",
              "      <td>5.702500</td>\n",
              "      <td>22.810000</td>\n",
              "      <td>0.000000</td>\n",
              "      <td>7.383500</td>\n",
              "      <td>9.791750</td>\n",
              "      <td>24.400000</td>\n",
              "      <td>0.000000</td>\n",
              "      <td>0.000000</td>\n",
              "      <td>0.177172</td>\n",
              "      <td>0.708690</td>\n",
              "    </tr>\n",
              "    <tr>\n",
              "      <th>MX</th>\n",
              "      <td>0.0</td>\n",
              "      <td>0.0</td>\n",
              "      <td>0.000000</td>\n",
              "      <td>0.0000</td>\n",
              "      <td>0.000000</td>\n",
              "      <td>0.550000</td>\n",
              "      <td>2.463600</td>\n",
              "      <td>10.768000</td>\n",
              "      <td>0.000000</td>\n",
              "      <td>0.005000</td>\n",
              "      <td>0.005971</td>\n",
              "      <td>0.012857</td>\n",
              "      <td>0.000000</td>\n",
              "      <td>0.053875</td>\n",
              "      <td>0.043875</td>\n",
              "      <td>0.081000</td>\n",
              "      <td>0.0000</td>\n",
              "      <td>36.00000</td>\n",
              "      <td>30.006667</td>\n",
              "      <td>43.200000</td>\n",
              "      <td>4.666667</td>\n",
              "      <td>10.500000</td>\n",
              "      <td>12.520000</td>\n",
              "      <td>19.600000</td>\n",
              "      <td>0.000000</td>\n",
              "      <td>0.002600</td>\n",
              "      <td>0.002902</td>\n",
              "      <td>0.008800</td>\n",
              "    </tr>\n",
              "    <tr>\n",
              "      <th>NO</th>\n",
              "      <td>0.0</td>\n",
              "      <td>0.0</td>\n",
              "      <td>0.000000</td>\n",
              "      <td>0.0000</td>\n",
              "      <td>0.000000</td>\n",
              "      <td>0.000000</td>\n",
              "      <td>0.000000</td>\n",
              "      <td>0.000000</td>\n",
              "      <td>0.000000</td>\n",
              "      <td>0.000000</td>\n",
              "      <td>11.320323</td>\n",
              "      <td>53.936337</td>\n",
              "      <td>0.000000</td>\n",
              "      <td>0.000000</td>\n",
              "      <td>16.241379</td>\n",
              "      <td>78.200000</td>\n",
              "      <td>0.0000</td>\n",
              "      <td>3.80000</td>\n",
              "      <td>36.035623</td>\n",
              "      <td>769.845850</td>\n",
              "      <td>0.000000</td>\n",
              "      <td>0.000000</td>\n",
              "      <td>3.454256</td>\n",
              "      <td>12.600000</td>\n",
              "      <td>-1.951338</td>\n",
              "      <td>0.000000</td>\n",
              "      <td>0.496117</td>\n",
              "      <td>13.503581</td>\n",
              "    </tr>\n",
              "    <tr>\n",
              "      <th>PE</th>\n",
              "      <td>0.0</td>\n",
              "      <td>0.0</td>\n",
              "      <td>0.000000</td>\n",
              "      <td>0.0000</td>\n",
              "      <td>954.116667</td>\n",
              "      <td>954.116667</td>\n",
              "      <td>954.116667</td>\n",
              "      <td>954.116667</td>\n",
              "      <td>4.545000</td>\n",
              "      <td>4.545000</td>\n",
              "      <td>4.545000</td>\n",
              "      <td>4.545000</td>\n",
              "      <td>8.773333</td>\n",
              "      <td>8.773333</td>\n",
              "      <td>8.773333</td>\n",
              "      <td>8.773333</td>\n",
              "      <td>33.2025</td>\n",
              "      <td>33.20250</td>\n",
              "      <td>33.202500</td>\n",
              "      <td>33.202500</td>\n",
              "      <td>11.088000</td>\n",
              "      <td>11.088000</td>\n",
              "      <td>11.088000</td>\n",
              "      <td>11.088000</td>\n",
              "      <td>17.231667</td>\n",
              "      <td>17.231667</td>\n",
              "      <td>17.231667</td>\n",
              "      <td>17.231667</td>\n",
              "    </tr>\n",
              "    <tr>\n",
              "      <th>PH</th>\n",
              "      <td>0.0</td>\n",
              "      <td>0.0</td>\n",
              "      <td>0.000000</td>\n",
              "      <td>0.0000</td>\n",
              "      <td>0.000000</td>\n",
              "      <td>0.000000</td>\n",
              "      <td>0.000000</td>\n",
              "      <td>0.000000</td>\n",
              "      <td>0.000000</td>\n",
              "      <td>0.000000</td>\n",
              "      <td>0.000000</td>\n",
              "      <td>0.000000</td>\n",
              "      <td>0.000000</td>\n",
              "      <td>0.000000</td>\n",
              "      <td>0.000000</td>\n",
              "      <td>0.000000</td>\n",
              "      <td>0.0000</td>\n",
              "      <td>0.00000</td>\n",
              "      <td>0.000000</td>\n",
              "      <td>0.000000</td>\n",
              "      <td>9.700000</td>\n",
              "      <td>9.700000</td>\n",
              "      <td>9.700000</td>\n",
              "      <td>9.700000</td>\n",
              "      <td>0.000000</td>\n",
              "      <td>0.000000</td>\n",
              "      <td>0.000000</td>\n",
              "      <td>0.000000</td>\n",
              "    </tr>\n",
              "    <tr>\n",
              "      <th>PL</th>\n",
              "      <td>0.0</td>\n",
              "      <td>0.0</td>\n",
              "      <td>0.492162</td>\n",
              "      <td>11.2705</td>\n",
              "      <td>0.000000</td>\n",
              "      <td>0.000000</td>\n",
              "      <td>197.876695</td>\n",
              "      <td>3566.000000</td>\n",
              "      <td>0.000000</td>\n",
              "      <td>0.000000</td>\n",
              "      <td>11.908483</td>\n",
              "      <td>128.800000</td>\n",
              "      <td>0.000000</td>\n",
              "      <td>0.000000</td>\n",
              "      <td>14.985964</td>\n",
              "      <td>86.753300</td>\n",
              "      <td>0.0000</td>\n",
              "      <td>0.00000</td>\n",
              "      <td>29.206513</td>\n",
              "      <td>153.122500</td>\n",
              "      <td>0.000000</td>\n",
              "      <td>0.000000</td>\n",
              "      <td>12.032507</td>\n",
              "      <td>233.000000</td>\n",
              "      <td>0.000000</td>\n",
              "      <td>0.000000</td>\n",
              "      <td>2.532403</td>\n",
              "      <td>27.812200</td>\n",
              "    </tr>\n",
              "    <tr>\n",
              "      <th>SE</th>\n",
              "      <td>0.0</td>\n",
              "      <td>0.0</td>\n",
              "      <td>0.000000</td>\n",
              "      <td>0.0000</td>\n",
              "      <td>0.000000</td>\n",
              "      <td>0.000000</td>\n",
              "      <td>0.000000</td>\n",
              "      <td>0.000000</td>\n",
              "      <td>17.972062</td>\n",
              "      <td>24.998531</td>\n",
              "      <td>24.998531</td>\n",
              "      <td>32.025000</td>\n",
              "      <td>0.000000</td>\n",
              "      <td>20.236250</td>\n",
              "      <td>20.236250</td>\n",
              "      <td>40.472500</td>\n",
              "      <td>0.0000</td>\n",
              "      <td>18.43125</td>\n",
              "      <td>18.431250</td>\n",
              "      <td>36.862500</td>\n",
              "      <td>0.000000</td>\n",
              "      <td>13.891300</td>\n",
              "      <td>13.891300</td>\n",
              "      <td>27.782600</td>\n",
              "      <td>0.000000</td>\n",
              "      <td>0.000000</td>\n",
              "      <td>0.000000</td>\n",
              "      <td>0.000000</td>\n",
              "    </tr>\n",
              "    <tr>\n",
              "      <th>TH</th>\n",
              "      <td>0.0</td>\n",
              "      <td>0.0</td>\n",
              "      <td>0.000000</td>\n",
              "      <td>0.0000</td>\n",
              "      <td>0.000000</td>\n",
              "      <td>0.035000</td>\n",
              "      <td>0.655962</td>\n",
              "      <td>10.300000</td>\n",
              "      <td>0.000000</td>\n",
              "      <td>0.000000</td>\n",
              "      <td>0.003308</td>\n",
              "      <td>0.020000</td>\n",
              "      <td>0.000000</td>\n",
              "      <td>0.002000</td>\n",
              "      <td>0.006769</td>\n",
              "      <td>0.028500</td>\n",
              "      <td>0.0000</td>\n",
              "      <td>31.00000</td>\n",
              "      <td>37.918269</td>\n",
              "      <td>108.000000</td>\n",
              "      <td>0.000000</td>\n",
              "      <td>0.000000</td>\n",
              "      <td>0.000000</td>\n",
              "      <td>0.000000</td>\n",
              "      <td>0.000000</td>\n",
              "      <td>0.000250</td>\n",
              "      <td>0.004273</td>\n",
              "      <td>0.038000</td>\n",
              "    </tr>\n",
              "    <tr>\n",
              "      <th>TR</th>\n",
              "      <td>0.0</td>\n",
              "      <td>0.0</td>\n",
              "      <td>0.000000</td>\n",
              "      <td>0.0000</td>\n",
              "      <td>-335582.000000</td>\n",
              "      <td>0.000000</td>\n",
              "      <td>-8421.346491</td>\n",
              "      <td>4320.000000</td>\n",
              "      <td>-1.000000</td>\n",
              "      <td>4.000000</td>\n",
              "      <td>15.423977</td>\n",
              "      <td>99.000000</td>\n",
              "      <td>0.000000</td>\n",
              "      <td>7.000000</td>\n",
              "      <td>20.361711</td>\n",
              "      <td>80.000000</td>\n",
              "      <td>0.0000</td>\n",
              "      <td>22.50000</td>\n",
              "      <td>25.942544</td>\n",
              "      <td>112.666667</td>\n",
              "      <td>0.000000</td>\n",
              "      <td>0.000000</td>\n",
              "      <td>0.000000</td>\n",
              "      <td>0.000000</td>\n",
              "      <td>-1.000000</td>\n",
              "      <td>4.000000</td>\n",
              "      <td>7.138158</td>\n",
              "      <td>31.000000</td>\n",
              "    </tr>\n",
              "    <tr>\n",
              "      <th>TW</th>\n",
              "      <td>0.0</td>\n",
              "      <td>0.0</td>\n",
              "      <td>0.000000</td>\n",
              "      <td>0.0000</td>\n",
              "      <td>0.000000</td>\n",
              "      <td>0.135000</td>\n",
              "      <td>0.149659</td>\n",
              "      <td>0.517500</td>\n",
              "      <td>0.000000</td>\n",
              "      <td>0.007500</td>\n",
              "      <td>0.008238</td>\n",
              "      <td>0.032000</td>\n",
              "      <td>0.000000</td>\n",
              "      <td>0.015725</td>\n",
              "      <td>0.017240</td>\n",
              "      <td>0.058000</td>\n",
              "      <td>0.0000</td>\n",
              "      <td>24.75000</td>\n",
              "      <td>23.683333</td>\n",
              "      <td>60.000000</td>\n",
              "      <td>0.000000</td>\n",
              "      <td>10.900000</td>\n",
              "      <td>11.157576</td>\n",
              "      <td>33.000000</td>\n",
              "      <td>0.000000</td>\n",
              "      <td>0.001250</td>\n",
              "      <td>0.001382</td>\n",
              "      <td>0.004200</td>\n",
              "    </tr>\n",
              "    <tr>\n",
              "      <th>US</th>\n",
              "      <td>0.0</td>\n",
              "      <td>0.0</td>\n",
              "      <td>0.523293</td>\n",
              "      <td>273.7350</td>\n",
              "      <td>0.000000</td>\n",
              "      <td>0.000000</td>\n",
              "      <td>0.069514</td>\n",
              "      <td>14.660000</td>\n",
              "      <td>0.000000</td>\n",
              "      <td>0.000000</td>\n",
              "      <td>0.000823</td>\n",
              "      <td>0.026000</td>\n",
              "      <td>0.000000</td>\n",
              "      <td>0.028000</td>\n",
              "      <td>0.022993</td>\n",
              "      <td>0.098000</td>\n",
              "      <td>-3.0000</td>\n",
              "      <td>0.00000</td>\n",
              "      <td>3.049226</td>\n",
              "      <td>92.000000</td>\n",
              "      <td>-3.200000</td>\n",
              "      <td>0.150000</td>\n",
              "      <td>3.371110</td>\n",
              "      <td>58.000000</td>\n",
              "      <td>-0.001000</td>\n",
              "      <td>0.000000</td>\n",
              "      <td>0.000100</td>\n",
              "      <td>0.005000</td>\n",
              "    </tr>\n",
              "    <tr>\n",
              "      <th>VN</th>\n",
              "      <td>0.0</td>\n",
              "      <td>0.0</td>\n",
              "      <td>0.000000</td>\n",
              "      <td>0.0000</td>\n",
              "      <td>0.000000</td>\n",
              "      <td>0.000000</td>\n",
              "      <td>0.000000</td>\n",
              "      <td>0.000000</td>\n",
              "      <td>0.000000</td>\n",
              "      <td>0.000000</td>\n",
              "      <td>0.000000</td>\n",
              "      <td>0.000000</td>\n",
              "      <td>0.000000</td>\n",
              "      <td>0.000000</td>\n",
              "      <td>0.000000</td>\n",
              "      <td>0.000000</td>\n",
              "      <td>0.0000</td>\n",
              "      <td>0.00000</td>\n",
              "      <td>0.000000</td>\n",
              "      <td>0.000000</td>\n",
              "      <td>36.900000</td>\n",
              "      <td>36.900000</td>\n",
              "      <td>36.900000</td>\n",
              "      <td>36.900000</td>\n",
              "      <td>0.000000</td>\n",
              "      <td>0.000000</td>\n",
              "      <td>0.000000</td>\n",
              "      <td>0.000000</td>\n",
              "    </tr>\n",
              "    <tr>\n",
              "      <th>XK</th>\n",
              "      <td>0.0</td>\n",
              "      <td>0.0</td>\n",
              "      <td>0.000000</td>\n",
              "      <td>0.0000</td>\n",
              "      <td>0.000000</td>\n",
              "      <td>56.000000</td>\n",
              "      <td>178.000000</td>\n",
              "      <td>852.000000</td>\n",
              "      <td>0.000000</td>\n",
              "      <td>0.000000</td>\n",
              "      <td>2.131857</td>\n",
              "      <td>6.377000</td>\n",
              "      <td>0.000000</td>\n",
              "      <td>65.391000</td>\n",
              "      <td>48.977429</td>\n",
              "      <td>87.384000</td>\n",
              "      <td>0.0000</td>\n",
              "      <td>0.00000</td>\n",
              "      <td>5.562571</td>\n",
              "      <td>24.414000</td>\n",
              "      <td>0.000000</td>\n",
              "      <td>0.000000</td>\n",
              "      <td>7.145786</td>\n",
              "      <td>19.471000</td>\n",
              "      <td>0.000000</td>\n",
              "      <td>2.704000</td>\n",
              "      <td>7.821571</td>\n",
              "      <td>37.086000</td>\n",
              "    </tr>\n",
              "  </tbody>\n",
              "</table>\n",
              "</div>"
            ],
            "text/plain": [
              "        value                   ...                                   \n",
              "           bc                   ...        so2                        \n",
              "          min median      mean  ...     median       mean          max\n",
              "country                         ...                                   \n",
              "AR        0.0    0.0  0.000000  ...   0.000000   0.000000     0.000000\n",
              "AU        0.0    0.0  0.000000  ...   0.000000   0.000000     0.000000\n",
              "BA        0.0    0.0  0.000000  ...   5.500000  18.000000    78.000000\n",
              "CA        0.0    0.0  0.000000  ...   0.000000   0.000091     0.001000\n",
              "CL        0.0    0.0  0.000000  ...   0.000000   0.000000     0.000000\n",
              "CN        0.0    0.0  0.000000  ...   8.000000   6.025641    14.000000\n",
              "CO        0.0    0.0  0.000000  ...   0.000000   0.000000     0.000000\n",
              "ES        0.0    0.0  0.000000  ...   3.750000   5.272653    63.000000\n",
              "GB        0.0    0.0  0.000000  ...   0.000000   0.538095    11.000000\n",
              "ID        0.0    0.0  0.000000  ...   0.000000   0.000000     0.000000\n",
              "IL        0.0    0.0  0.000000  ...   0.000538   0.000728     0.002300\n",
              "IN        0.0    0.0  0.000000  ...   0.000000  16.122299  1632.650000\n",
              "IT        0.0    0.0  0.000000  ...   0.133333 -42.768056     0.800000\n",
              "MK        0.0    0.0  0.000000  ...  27.000000  27.000000    27.000000\n",
              "MN        0.0    0.0  0.000000  ...  15.666667  15.666667    15.666667\n",
              "MT        0.0    0.0  0.000000  ...   0.000000   0.177172     0.708690\n",
              "MX        0.0    0.0  0.000000  ...   0.002600   0.002902     0.008800\n",
              "NO        0.0    0.0  0.000000  ...   0.000000   0.496117    13.503581\n",
              "PE        0.0    0.0  0.000000  ...  17.231667  17.231667    17.231667\n",
              "PH        0.0    0.0  0.000000  ...   0.000000   0.000000     0.000000\n",
              "PL        0.0    0.0  0.492162  ...   0.000000   2.532403    27.812200\n",
              "SE        0.0    0.0  0.000000  ...   0.000000   0.000000     0.000000\n",
              "TH        0.0    0.0  0.000000  ...   0.000250   0.004273     0.038000\n",
              "TR        0.0    0.0  0.000000  ...   4.000000   7.138158    31.000000\n",
              "TW        0.0    0.0  0.000000  ...   0.001250   0.001382     0.004200\n",
              "US        0.0    0.0  0.523293  ...   0.000000   0.000100     0.005000\n",
              "VN        0.0    0.0  0.000000  ...   0.000000   0.000000     0.000000\n",
              "XK        0.0    0.0  0.000000  ...   2.704000   7.821571    37.086000\n",
              "\n",
              "[28 rows x 28 columns]"
            ]
          },
          "metadata": {
            "tags": []
          },
          "execution_count": 144
        }
      ]
    },
    {
      "cell_type": "markdown",
      "metadata": {
        "id": "HAW70x-tNdNv"
      },
      "source": [
        "### Groupby dengan Custom Aggregations\r\n",
        "Dengan membuat sebuah Python function (user defined) dapat menggunakan sebagai custom aggregation pada dataframe yang telah digroupby.\r\n",
        "\r\n",
        "Perhatikan contoh yang diberikan berikut ini."
      ]
    },
    {
      "cell_type": "markdown",
      "metadata": {
        "id": "tWokARfnOtHu"
      },
      "source": [
        "Dataset : https://dqlab-dataset.s3-ap-southeast-1.amazonaws.com/LO4/global_air_quality_4000rows.csv"
      ]
    },
    {
      "cell_type": "code",
      "metadata": {
        "id": "yCuobQlQNW48",
        "outputId": "89e0c0a2-55b9-4f8e-89dc-d599d2ba8515",
        "colab": {
          "base_uri": "https://localhost:8080/"
        }
      },
      "source": [
        "import pandas as pd\r\n",
        "# Load data https://dqlab-dataset.s3-ap-southeast-1.amazonaws.com/LO4/global_air_quality_4000rows.csv\r\n",
        "gaq = pd.read_csv('https://dqlab-dataset.s3-ap-southeast-1.amazonaws.com/LO4/global_air_quality_4000rows.csv')\r\n",
        "# Create variabel pollutant\r\n",
        "pollutant = gaq[['country','city','pollutant','value']].pivot_table(index=['country','city'],columns='pollutant').fillna(0)\r\n",
        "# Create sebuah function: iqr\r\n",
        "def data_range(series):\r\n",
        "  return series.max() - series.min()\r\n",
        "# Group berdasarkan country dan terapkan aggregasi dari function: data_range\r\n",
        "custom_agg = pollutant.groupby('country').agg(data_range)\r\n",
        "print('Custom aggregation (5 teratas:\\n', custom_agg.head())"
      ],
      "execution_count": 146,
      "outputs": [
        {
          "output_type": "stream",
          "text": [
            "Custom aggregation (5 teratas:\n",
            "         value                                                  \n",
            "           bc        co      no2         o3   pm10 pm25     so2\n",
            "country                                                        \n",
            "AR        0.0     0.000   0.0000   0.000000    0.0  0.0   0.000\n",
            "AU        0.0     0.000   0.0000   0.000000    0.0  0.0   0.000\n",
            "BA        0.0  1508.000  32.0000  21.000000  100.0  0.0  78.000\n",
            "CA        0.0     0.285   0.0024   0.048333    5.2  6.0   0.001\n",
            "CL        0.0     0.000   0.0000   0.000000    0.0  0.0   0.000\n"
          ],
          "name": "stdout"
        }
      ]
    },
    {
      "cell_type": "markdown",
      "metadata": {
        "id": "y_p3B-2uQMnw"
      },
      "source": [
        "**Tugas Praktek**:\r\n",
        "\r\n",
        "Tentukanlah inter quartile range (IQR) pada setiap kelompok data, dan kemudian tampilkanlah 5 data teratas saja."
      ]
    },
    {
      "cell_type": "code",
      "metadata": {
        "id": "todTLIMwP3te",
        "outputId": "d023f9be-8640-449e-f909-7309ec101bc2",
        "colab": {
          "base_uri": "https://localhost:8080/"
        }
      },
      "source": [
        "import pandas as pd\r\n",
        "# Load data https://dqlab-dataset.s3-ap-southeast-1.amazonaws.com/LO4/global_air_quality_4000rows.csv\r\n",
        "gaq = pd.read_csv('https://dqlab-dataset.s3-ap-southeast-1.amazonaws.com/LO4/global_air_quality_4000rows.csv')\r\n",
        "# Create variabel pollutant \r\n",
        "pollutant = gaq[['country','city','pollutant','value']].pivot_table(index=['country','city'],columns='pollutant').fillna(0)\r\n",
        "# Create sebuah function: iqr\r\n",
        "def iqr(series):\r\n",
        "\tQ1 = series.quantile(0.25)\r\n",
        "\tQ3 = series.quantile(0.75)\r\n",
        "\treturn Q3-Q1\r\n",
        "# Group berdasarkan country dan terapkan aggregasi dari function: iqr\r\n",
        "custom_agg = pollutant.groupby('country').agg(iqr)\r\n",
        "print('Custom aggregation (5 teratas):\\n', custom_agg.head())"
      ],
      "execution_count": 147,
      "outputs": [
        {
          "output_type": "stream",
          "text": [
            "Custom aggregation (5 teratas):\n",
            "         value                                                  \n",
            "           bc      co       no2        o3  pm10      pm25   so2\n",
            "country                                                        \n",
            "AR        0.0    0.00   0.00000  0.000000   0.0  0.000000   0.0\n",
            "AU        0.0    0.00   0.00000  0.000000   0.0  0.000000   0.0\n",
            "BA        0.0  297.75  14.25000  7.500000  79.0  0.000000  17.0\n",
            "CA        0.0    0.00   0.00025  0.035708   0.5  3.876471   0.0\n",
            "CL        0.0    0.00   0.00000  0.000000   0.0  0.000000   0.0\n"
          ],
          "name": "stdout"
        }
      ]
    },
    {
      "cell_type": "markdown",
      "metadata": {
        "id": "UKmSY2_ERHDa"
      },
      "source": [
        "### Groupby dengan Custom Aggregations by dict\r\n",
        "Penggunaan custom aggregation lainnya pada dataframe yang telah digroupby dapat dilakukan dengan mempasskan sebuah dict yang berisi 'key' dict sebagai nama kolomnya dan 'value' dict adalah fungsi untuk aggregasi, baik user defined function atau yang telah tersedia.\r\n",
        "\r\n",
        "Berdasarkan kode berikut ini "
      ]
    },
    {
      "cell_type": "markdown",
      "metadata": {
        "id": "bpydLSXtROA6"
      },
      "source": [
        "Dataset: https://dqlab-dataset.s3-ap-southeast-1.amazonaws.com/LO4/global_air_quality_4000rows.csv"
      ]
    },
    {
      "cell_type": "code",
      "metadata": {
        "id": "wBq1DV72QwbR",
        "outputId": "e1af28b2-248d-4eaa-dafe-a415e457a007",
        "colab": {
          "base_uri": "https://localhost:8080/"
        }
      },
      "source": [
        "import pandas as pd\r\n",
        "# Load data https://dqlab-dataset.s3-ap-southeast-1.amazonaws.com/LO4/global_air_quality_4000rows.csv\r\n",
        "gaq = pd.read_csv('https://dqlab-dataset.s3-ap-southeast-1.amazonaws.com/LO4/global_air_quality_4000rows.csv')\r\n",
        "# Create variabel pollutant \r\n",
        "pollutant = gaq[['country','city','pollutant','value']].pivot_table(index=['country','city'],columns='pollutant').fillna(0)\r\n",
        "print('Data pollutant (5 teratas):\\n', pollutant.head())"
      ],
      "execution_count": 148,
      "outputs": [
        {
          "output_type": "stream",
          "text": [
            "Data pollutant (5 teratas):\n",
            "                      value                                     \n",
            "pollutant               bc      co   no2   o3   pm10  pm25  so2\n",
            "country city                                                   \n",
            "AR      Buenos Aires   0.0     0.0   0.0  0.0    0.0  18.1  0.0\n",
            "AU      Townsville     0.0     0.0   0.0  0.0    0.0   3.9  0.0\n",
            "BA      Goražde        0.0   141.0  19.0  8.0    0.0   0.0  0.0\n",
            "        Ilijaš         0.0     0.0   0.0  0.0  100.0   0.0  0.0\n",
            "        Jajce          0.0  1508.0  25.0  6.0    9.0   0.0  0.0\n"
          ],
          "name": "stdout"
        }
      ]
    },
    {
      "cell_type": "markdown",
      "metadata": {
        "id": "fPfObbvQRiJ8"
      },
      "source": [
        "Telah dimiliki dataset yang akan di apply teknik custom aggregation dengan menggunakan dict"
      ]
    },
    {
      "cell_type": "markdown",
      "metadata": {
        "id": "9WE6oKR7Rpqw"
      },
      "source": [
        "Akan apply teknik custom aggregation pada kolom 'o3' dan 'so' dengan fungsi aggregasi masing-masingnya adalah 'max' dan 'data_range'. Fungsi 'data_range' ini merupakan fungsi yang didefinisikan sendiri (user-defined) untuk menentukan jangkauan (range) data."
      ]
    },
    {
      "cell_type": "markdown",
      "metadata": {
        "id": "HdUQcfxIRv_8"
      },
      "source": [
        "![image.png](data:image/png;base64,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)"
      ]
    },
    {
      "cell_type": "code",
      "metadata": {
        "id": "TZdYXXQMRbwS",
        "outputId": "e07b486f-1089-4380-b1de-18ab77857b9d",
        "colab": {
          "base_uri": "https://localhost:8080/"
        }
      },
      "source": [
        "# Function range of data\r\n",
        "def data_range(series):\r\n",
        "  return series.max() - series.min()\r\n",
        "\r\n",
        "# Create custom aggregation using dict\r\n",
        "custom_agg_dict = pollutant['value'][['o3','so2']].groupby('country').agg({\r\n",
        "    'o3':'max',\r\n",
        "    'so2':data_range\r\n",
        "})\r\n",
        "print('\\nCetak 5 data teratas custom_agg_dict:\\n', custom_agg_dict.head())"
      ],
      "execution_count": 150,
      "outputs": [
        {
          "output_type": "stream",
          "text": [
            "\n",
            "Cetak 5 data teratas custom_agg_dict:\n",
            "                 o3     so2\n",
            "country                   \n",
            "AR        0.000000   0.000\n",
            "AU        0.000000   0.000\n",
            "BA       21.000000  78.000\n",
            "CA        0.048333   0.001\n",
            "CL        0.000000   0.000\n"
          ],
          "name": "stdout"
        }
      ]
    },
    {
      "cell_type": "markdown",
      "metadata": {
        "id": "sH1I3-PXSlyD"
      },
      "source": [
        "**Tugas Praktek**:\r\n",
        "\r\n",
        "Dengan dataset yang masih sama seperti tersedia di code editor, tentukanlah median untuk kolom 'pm10' serta iqr untuk kolom 'pm25' dan 'so2'. Tampilkan pula 5 data teratas saja."
      ]
    },
    {
      "cell_type": "code",
      "metadata": {
        "id": "GCxLm2QkScis",
        "outputId": "27f41f79-b4af-4634-e962-ba4772a49c07",
        "colab": {
          "base_uri": "https://localhost:8080/"
        }
      },
      "source": [
        "import pandas as pd\r\n",
        "# Load data https://dqlab-dataset.s3-ap-southeast-1.amazonaws.com/LO4/global_air_quality_4000rows.csv\r\n",
        "gaq = pd.read_csv('https://dqlab-dataset.s3-ap-southeast-1.amazonaws.com/LO4/global_air_quality_4000rows.csv')\r\n",
        "# Create variabel pollutant \r\n",
        "pollutant = gaq[['country','city','pollutant','value']].pivot_table(index=['country','city'],columns='pollutant').fillna(0)\r\n",
        "print('Data pollutant (5 teratas):\\n', pollutant.head())\r\n",
        "# Function IQR\r\n",
        "def iqr(series):\r\n",
        "\treturn series.quantile(0.75) - series.quantile(0.25)\r\n",
        "# Create custom aggregation using dict\r\n",
        "custom_agg_dict = pollutant['value'][['pm10','pm25','so2']].groupby('country').agg({\r\n",
        "   'pm10':'median',\r\n",
        "   'pm25':iqr,\r\n",
        "   'so2':iqr\r\n",
        "})\r\n",
        "print('\\nCetak 5 data teratas custom_agg_dict:\\n', custom_agg_dict.head())"
      ],
      "execution_count": 151,
      "outputs": [
        {
          "output_type": "stream",
          "text": [
            "Data pollutant (5 teratas):\n",
            "                      value                                     \n",
            "pollutant               bc      co   no2   o3   pm10  pm25  so2\n",
            "country city                                                   \n",
            "AR      Buenos Aires   0.0     0.0   0.0  0.0    0.0  18.1  0.0\n",
            "AU      Townsville     0.0     0.0   0.0  0.0    0.0   3.9  0.0\n",
            "BA      Goražde        0.0   141.0  19.0  8.0    0.0   0.0  0.0\n",
            "        Ilijaš         0.0     0.0   0.0  0.0  100.0   0.0  0.0\n",
            "        Jajce          0.0  1508.0  25.0  6.0    9.0   0.0  0.0\n",
            "\n",
            "Cetak 5 data teratas custom_agg_dict:\n",
            "          pm10      pm25   so2\n",
            "country                      \n",
            "AR        0.0  0.000000   0.0\n",
            "AU        0.0  0.000000   0.0\n",
            "BA       23.0  0.000000  17.0\n",
            "CA        0.0  3.876471   0.0\n",
            "CL        0.0  0.000000   0.0\n"
          ],
          "name": "stdout"
        }
      ]
    },
    {
      "cell_type": "markdown",
      "metadata": {
        "id": "EBybcGt7Ts_b"
      },
      "source": [
        "### Quiz\r\n",
        "Diberikan file 'global_air_quality.csv' jika kode berikut dieksekusi"
      ]
    },
    {
      "cell_type": "code",
      "metadata": {
        "id": "iVNNumkNTZYU",
        "outputId": "39051ac4-b12d-49ed-c391-d1882d3061ec",
        "colab": {
          "base_uri": "https://localhost:8080/"
        }
      },
      "source": [
        "import pandas as pd\r\n",
        "# Load data https://dqlab-dataset.s3-ap-southeast-1.amazonaws.com/LO4/global_air_quality_4000rows.csv\r\n",
        "gaq = pd.read_csv('https://dqlab-dataset.s3-ap-southeast-1.amazonaws.com/LO4/global_air_quality_4000rows.csv')\r\n",
        "gaq['timestamp'] = pd.to_datetime(gaq['timestamp'])\r\n",
        "gaq = gaq.set_index('timestamp')\r\n",
        "pollutant = gaq.groupby('pollutant')['value'].mean().sort_values(ascending=False)\r\n",
        "print(pollutant)"
      ],
      "execution_count": 153,
      "outputs": [
        {
          "output_type": "stream",
          "text": [
            "pollutant\n",
            "pm10     28.423373\n",
            "pm25     18.796388\n",
            "bc       13.020309\n",
            "so2       6.117118\n",
            "no2      -2.715310\n",
            "o3      -16.375657\n",
            "co     -482.171492\n",
            "Name: value, dtype: float64\n"
          ],
          "name": "stdout"
        }
      ]
    },
    {
      "cell_type": "markdown",
      "metadata": {
        "id": "jS_OunPDUlt0"
      },
      "source": [
        "## **Time Series in Pandas**"
      ]
    },
    {
      "cell_type": "markdown",
      "metadata": {
        "id": "9KMrKe5FUo13"
      },
      "source": [
        "### Pendahuluan\r\n",
        "Baru saja aku kelar dengan latihan dan kuis-kuis dari Bab 3, link referensi dari Andra untuk materi selanjutnya seputar “Time Series in Pandas” sudah muncul lagi! \r\n",
        "\r\n",
        "\r\n",
        "Tampaknya ini ‘ujian’ baru dari Andra yang ingin menilai kegigihan belajarku. Kutarik napas panjang. Tidak apa-apa, ini demi jadi data analyst profesional. Aku pantang menyerah!\r\n",
        "\r\n",
        "Aku mengklik link dari Andra dan kembali menelusuri isi materinya:\r\n",
        "\r\n",
        "Ketika berurusan dengan big data, biasanya akan selalu terdapat entitas waktu kapan suatu event itu terjadi, waktu ini digunakan untuk mengenali event itu terjadi pada suatu frame tertentu dan dapat dijadikan index yang membuat setiap event menjadi unique.\r\n",
        "\r\n",
        " \r\n",
        "\r\n",
        "**Basic format datetime** menurut ISO 8601 yaitu **YYYY-mm-dd HH:MM:SS**."
      ]
    },
    {
      "cell_type": "markdown",
      "metadata": {
        "id": "Xe5Muyl9U2Ye"
      },
      "source": [
        "### Load Dataset as Time Series\r\n",
        "Terkadang Pandas salah mengenali object datetime menjadi object string dan pandas menjadi tidak bisa memanfaatkan full benefit dari time index.\r\n",
        "\r\n",
        "**Basic format datetime** menurut ISO 8601: **YYYY-mm-dd HH:MM:SS**.\r\n",
        "\r\n",
        "\r\n",
        "Terdapat beberapa cara untuk mengubah kolom waktu menjadi format yang benar as datetime object di Pandas. "
      ]
    },
    {
      "cell_type": "markdown",
      "metadata": {
        "id": "omVEwgSbVcen"
      },
      "source": [
        "**[1] read_csv**, terdapat keyword argument 'parse_dates', yang jika di set True dan set index untuk kolom waktu tersebut maka kolom datetime tersebut akan transform as datetime Pandas dan menjadi index"
      ]
    },
    {
      "cell_type": "code",
      "metadata": {
        "id": "20gkO2qgUU2W",
        "outputId": "f0b92324-5e43-4903-8b3b-a14949e6f75c",
        "colab": {
          "base_uri": "https://localhost:8080/"
        }
      },
      "source": [
        "import pandas as pd\r\n",
        "# Load dataset https://dqlab-dataset.s3-ap-southeast-1.amazonaws.com/LO4/global_air_quality_4000rows.csv\r\n",
        "gaq = pd.read_csv('https://dqlab-dataset.s3-ap-southeast-1.amazonaws.com/LO4/global_air_quality_4000rows.csv', parse_dates=True, index_col='timestamp')\r\n",
        "# Cetak 5 data teratas\r\n",
        "print(gaq.head())\r\n",
        "# Cetak info dari dataframe gaq\r\n",
        "print('info')\r\n",
        "print(gaq.info())"
      ],
      "execution_count": 154,
      "outputs": [
        {
          "output_type": "stream",
          "text": [
            "                                                  location  ... averaged_over_in_hours\n",
            "timestamp                                                   ...                       \n",
            "2017-01-18 16:00:00+00:00                  MOBILE-KICKAPOO  ...                   1.00\n",
            "2020-04-07 20:00:00+00:00                  Oxford St Ebbes  ...                   1.00\n",
            "2020-04-07 19:00:00+00:00                 BROADWAY (South)  ...                   1.00\n",
            "2020-04-07 18:30:00+00:00  Deen Dayal Nagar, Sagar - MPPCB  ...                   0.25\n",
            "2020-04-07 20:00:00+00:00                        Manglerud  ...                   1.00\n",
            "\n",
            "[5 rows x 10 columns]\n",
            "info\n",
            "<class 'pandas.core.frame.DataFrame'>\n",
            "DatetimeIndex: 4000 entries, 2017-01-18 16:00:00+00:00 to 2017-01-08 08:00:00+00:00\n",
            "Data columns (total 10 columns):\n",
            " #   Column                  Non-Null Count  Dtype  \n",
            "---  ------                  --------------  -----  \n",
            " 0   location                3997 non-null   object \n",
            " 1   city                    3966 non-null   object \n",
            " 2   country                 4000 non-null   object \n",
            " 3   pollutant               4000 non-null   object \n",
            " 4   value                   4000 non-null   float64\n",
            " 5   unit                    4000 non-null   object \n",
            " 6   source_name             4000 non-null   object \n",
            " 7   latitude                4000 non-null   float64\n",
            " 8   longitude               4000 non-null   float64\n",
            " 9   averaged_over_in_hours  3634 non-null   float64\n",
            "dtypes: float64(4), object(6)\n",
            "memory usage: 343.8+ KB\n",
            "None\n"
          ],
          "name": "stdout"
        }
      ]
    },
    {
      "cell_type": "markdown",
      "metadata": {
        "id": "ZD-r4mKjVwYC"
      },
      "source": [
        "### Convert to Datetime\r\n",
        "Jika dataset yang telah terlebih dahulu atau telah terlanjur di load dengan pd.read_csv dan Pandas salah mengenali object datetime menjadi object string, maka dapat mengubah kolom tertentu dari dataset tersebut menjadi format datetime."
      ]
    },
    {
      "cell_type": "markdown",
      "metadata": {
        "id": "3gKHtmFWV2hX"
      },
      "source": [
        "**[2] pd.to_datetime** digunakan untuk mentransform salah satu kolom di dataframe menjadi datetime Pandas dan kemudian set menjadi index. Mari perhatikan kembali contoh berikut"
      ]
    },
    {
      "cell_type": "code",
      "metadata": {
        "id": "iK29oQ9cVlbu",
        "outputId": "7940f3a1-9379-487e-8fee-19cff5274348",
        "colab": {
          "base_uri": "https://localhost:8080/"
        }
      },
      "source": [
        "import pandas as pd\r\n",
        "# Load dataset https://dqlab-dataset.s3-ap-southeast-1.amazonaws.com/LO4/global_air_quality_4000rows.csv\r\n",
        "gaq = pd.read_csv('https://dqlab-dataset.s3-ap-southeast-1.amazonaws.com/LO4/global_air_quality_4000rows.csv')\r\n",
        "# Cetak 5 data teratas\r\n",
        "print('Sebelum diubah dalam format datetime:\\n', gaq.head())\r\n",
        "# Ubah menjadi datetime\r\n",
        "gaq['timestamp'] = pd.to_datetime(gaq['timestamp'])\r\n",
        "gaq = gaq.set_index('timestamp')\r\n",
        "# Cetak 5 data teratas\r\n",
        "print('Sesudah diubah dalam format datetime:\\n', gaq.head())"
      ],
      "execution_count": 155,
      "outputs": [
        {
          "output_type": "stream",
          "text": [
            "Sebelum diubah dalam format datetime:\n",
            "                           location  ... averaged_over_in_hours\n",
            "0                  MOBILE-KICKAPOO  ...                   1.00\n",
            "1                  Oxford St Ebbes  ...                   1.00\n",
            "2                 BROADWAY (South)  ...                   1.00\n",
            "3  Deen Dayal Nagar, Sagar - MPPCB  ...                   0.25\n",
            "4                        Manglerud  ...                   1.00\n",
            "\n",
            "[5 rows x 11 columns]\n",
            "Sesudah diubah dalam format datetime:\n",
            "                                                   location  ... averaged_over_in_hours\n",
            "timestamp                                                   ...                       \n",
            "2017-01-18 16:00:00+00:00                  MOBILE-KICKAPOO  ...                   1.00\n",
            "2020-04-07 20:00:00+00:00                  Oxford St Ebbes  ...                   1.00\n",
            "2020-04-07 19:00:00+00:00                 BROADWAY (South)  ...                   1.00\n",
            "2020-04-07 18:30:00+00:00  Deen Dayal Nagar, Sagar - MPPCB  ...                   0.25\n",
            "2020-04-07 20:00:00+00:00                        Manglerud  ...                   1.00\n",
            "\n",
            "[5 rows x 10 columns]\n"
          ],
          "name": "stdout"
        }
      ]
    },
    {
      "cell_type": "markdown",
      "metadata": {
        "id": "UYe22xoQWbOQ"
      },
      "source": [
        "Dataframe awal indexnya masih berupa urutan bilangan bulat dari nol. Kemudian dengan menerapkan pd.to_datetime dan set_index, dataframe sudah memiliki index berupa datetime."
      ]
    },
    {
      "cell_type": "markdown",
      "metadata": {
        "id": "HJhg5PJNWh_0"
      },
      "source": [
        "### Resampling untuk Time Series Data\r\n",
        "Pandas time series juga memiliki fungsi **resampling** yang dapat berguna untuk:"
      ]
    },
    {
      "cell_type": "markdown",
      "metadata": {
        "id": "yyAksInnWpPD"
      },
      "source": [
        "**[1] Downsampling**\r\n",
        "\r\n",
        "Mengurangi baris datetime menjadi frekuensi yang lebih lambat, bisa dibilang juga mengurangi rows dataset menjadi lebih sedikit\r\n",
        "\r\n",
        "Contoh: mengubah kolom datetime yang awalnya **daily** menjadi **monthly**"
      ]
    },
    {
      "cell_type": "markdown",
      "metadata": {
        "id": "kcTRl7juW0v-"
      },
      "source": [
        "**[2] Upsampling**\r\n",
        "\r\n",
        "Kebalikan dari downsampling, menambah baris datetime menjadi frekuensi yang lebih cepat, menambah rows dataset dengan membuat kolom datetime menjadi lebih detail\r\n",
        "\r\n",
        "Contoh: mengubah kolom datetime yang awalnya **daily** menjadi **hourly**"
      ]
    },
    {
      "cell_type": "markdown",
      "metadata": {
        "id": "D6oT04nlW-mD"
      },
      "source": [
        "Dari Resampling ini, kemudian dapat menerapkan metode statistik untuk transform value data yang ada (ex: mean, sum, count, etc)"
      ]
    },
    {
      "cell_type": "markdown",
      "metadata": {
        "id": "X7j37FmyXF5A"
      },
      "source": [
        "**Tabel resampling untuk time series**:\r\n",
        "\r\n",
        "\r\n",
        "* 'Min', 'T' : minute\r\n",
        "\r\n",
        "* 'H' : hour\r\n",
        "\r\n",
        "* 'D' : day\r\n",
        "\r\n",
        "* 'B' : Business day\r\n",
        "\r\n",
        "* 'W' : week\r\n",
        "\r\n",
        "* 'M' : month\r\n",
        "\r\n",
        "* 'Q' : quarter\r\n",
        "\r\n",
        "* 'A' : year"
      ]
    },
    {
      "cell_type": "code",
      "metadata": {
        "id": "Ya514zVbWV2d"
      },
      "source": [
        ""
      ],
      "execution_count": null,
      "outputs": []
    }
  ]
}