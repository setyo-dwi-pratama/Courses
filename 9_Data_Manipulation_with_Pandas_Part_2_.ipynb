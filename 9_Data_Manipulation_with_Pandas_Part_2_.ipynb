{
  "nbformat": 4,
  "nbformat_minor": 0,
  "metadata": {
    "colab": {
      "name": "9_Data Manipulation with Pandas_Part_2 .ipynb",
      "provenance": [],
      "authorship_tag": "ABX9TyMXERlDacjqxmIq0mqWb+Jt",
      "include_colab_link": true
    },
    "kernelspec": {
      "name": "python3",
      "display_name": "Python 3"
    },
    "accelerator": "GPU"
  },
  "cells": [
    {
      "cell_type": "markdown",
      "metadata": {
        "id": "view-in-github",
        "colab_type": "text"
      },
      "source": [
        "<a href=\"https://colab.research.google.com/github/setyo-dwi-pratama/Courses/blob/main/9_Data_Manipulation_with_Pandas_Part_2_.ipynb\" target=\"_parent\"><img src=\"https://colab.research.google.com/assets/colab-badge.svg\" alt=\"Open In Colab\"/></a>"
      ]
    },
    {
      "cell_type": "markdown",
      "metadata": {
        "id": "UG65lMwk6lTs"
      },
      "source": [
        "# **Data Manipulation with Pandas - Part 2** "
      ]
    },
    {
      "cell_type": "markdown",
      "metadata": {
        "id": "go-wOxwA6o1A"
      },
      "source": [
        "## **Penggabungan Series/Dataframe**"
      ]
    },
    {
      "cell_type": "markdown",
      "metadata": {
        "id": "8xh6y_wb7Hw4"
      },
      "source": [
        "### Pendahuluan\r\n",
        "“Aksara, sedang apa?”\r\n",
        "\r\n",
        "\r\n",
        "Aku pun mengalihkan perhatianku dari layar laptop ke Andra. Pagi-pagi sekali ia sudah menghampiriku. Diam-diam aku menebak materi baru apa lagi yang harus kupelajari ataukah ada proyek dadakan lagi yang perlu diselesaikan?\r\n",
        "\r\n",
        " \r\n",
        "\r\n",
        "“Lagi latihan pakai Pandas, Ndra.”\r\n",
        "\r\n",
        "“Oh, masih modul Pandas part 1 kemarin?”\r\n",
        "\r\n",
        "Aku mengangguk.\r\n",
        "\r\n",
        "\r\n",
        "“Pas banget, pagi ini saya mau ngirim ke kamu lanjutan modulnya. Lagipula modul kemarin kamu sudah lulus kok. Sekarang fokus ke Pandas part 2 saja. Kali ini materinya lebih dalam mengenai interaksi dengan tabular data menggunakan Pandas. Nanti kamu baca dan pelajari saja dulu.”\r\n",
        "\r\n",
        " \r\n",
        "“Oh, oke.” \r\n",
        "\r\n",
        "\r\n",
        "Setelah obrolan tadi, aku langsung menerima pesan dengan lampiran materi lanjutan dari Andra. Penasaran dengan apa yang bisa Pandas lakukan lagi, aku pun segera membuka dan mencernanya:\r\n",
        "\r\n",
        "\r\n",
        "Reference: https://pandas.pydata.org/pandas-docs/stable/user_guide/merging.html"
      ]
    },
    {
      "cell_type": "markdown",
      "metadata": {
        "id": "-b-RSU6j7L1m"
      },
      "source": [
        "### Bagaimana Cara Menggabungkan Pandas Series/Dataframe?\r\n",
        "Sebagai seorang praktisi data, pasti sering kali bertemu dengan banyak file sekaligus dan data yang dibutuhkan tersebar di berbagai file tersebut dan membutuhkan metode untuk menggabungkan semua informasi yang dibutuhkan dari setiap file itu.\r\n",
        "\r\n",
        "Dengan menggunakan excel atau tools pengolah spreadsheet lain hal itu bisa terjadi mungkin dengan menggunakan copy paste file satu ke file lainnya atau yang agak canggih menggunakan method importRange di google sheets. Tetapi tentu hal itu tidak bisa diandalkan ketika berurusan dengan big data yang datanya bisa milyaran rows dengan informasi yang tidak terbatas, Python dan Pandas adalah satu-satunya cara untuk mengatasinya.\r\n",
        "\r\n",
        "Terdapat beberapa metode untuk menggabungkan Series/Dataframe di Pandas, yaitu:\r\n",
        "\r\n",
        "1. append\r\n",
        "2. concat\r\n",
        "3. merge\r\n",
        "4. join"
      ]
    },
    {
      "cell_type": "markdown",
      "metadata": {
        "id": "c2dGTcTr7iSz"
      },
      "source": [
        "### Append\r\n",
        "Method **.append()** dapat digunakan pada dataframe/series yang ditujukan untuk menambah row-nya saja. Jika di SQL memiliki 2 tabel atau lebih maka dapat menggabungkannya secara vertikal dengan Union. Jadi **SQL Union** ekuivalen dengan method **.append()** di Pandas."
      ]
    },
    {
      "cell_type": "markdown",
      "metadata": {
        "id": "cuiZO8nG73qz"
      },
      "source": [
        "Perhatikan contoh berikut, mulai dengan method .append pada **series**"
      ]
    },
    {
      "cell_type": "code",
      "metadata": {
        "colab": {
          "base_uri": "https://localhost:8080/"
        },
        "id": "mFtADqPI6oM4",
        "outputId": "d5fc0cff-e195-4c36-d99a-19844381a337"
      },
      "source": [
        "import pandas as pd\r\n",
        "# Buat series of int (s1) dan series of string (s2)\r\n",
        "s1 = pd.Series([1,2,3,4,5,6])\r\n",
        "s2 = pd.Series([\"a\",\"b\",\"c\",\"d\",\"e\",\"f\"])\r\n",
        "# Terapkan method append\r\n",
        "s1_append_s2 = s1.append(s2)\r\n",
        "print(\"Series - append:\\n\", s1_append_s2)"
      ],
      "execution_count": null,
      "outputs": [
        {
          "output_type": "stream",
          "text": [
            "Series - append:\n",
            " 0    1\n",
            "1    2\n",
            "2    3\n",
            "3    4\n",
            "4    5\n",
            "5    6\n",
            "0    a\n",
            "1    b\n",
            "2    c\n",
            "3    d\n",
            "4    e\n",
            "5    f\n",
            "dtype: object\n"
          ],
          "name": "stdout"
        }
      ]
    },
    {
      "cell_type": "markdown",
      "metadata": {
        "id": "i_u8J2T88s63"
      },
      "source": [
        "Untuk **Dataframe**"
      ]
    },
    {
      "cell_type": "code",
      "metadata": {
        "colab": {
          "base_uri": "https://localhost:8080/"
        },
        "id": "o2FG1zkk8V4q",
        "outputId": "9be82a43-0849-44f4-b841-7066c9c7dbf0"
      },
      "source": [
        "# Buat dataframe df1 dan df2\r\n",
        "df1 = pd.DataFrame({'a':[1,2],\r\n",
        "                    'b':[3,4]})\r\n",
        "print(\"df1:\\n\", df1)\r\n",
        "df2 = pd.DataFrame({'b':[1,2],\r\n",
        "                    'a':[3,4]})\r\n",
        "print(\"df2:\\n\", df2)\r\n",
        "# Terapkan method append\r\n",
        "df1_append_df2 = df1.append(df2)\r\n",
        "print(\"Dataframe - append:\\n\", df1_append_df2)"
      ],
      "execution_count": null,
      "outputs": [
        {
          "output_type": "stream",
          "text": [
            "df1:\n",
            "    a  b\n",
            "0  1  3\n",
            "1  2  4\n",
            "df2:\n",
            "    b  a\n",
            "0  1  3\n",
            "1  2  4\n",
            "Dataframe - append:\n",
            "    a  b\n",
            "0  1  3\n",
            "1  2  4\n",
            "0  3  1\n",
            "1  4  2\n"
          ],
          "name": "stdout"
        }
      ]
    },
    {
      "cell_type": "markdown",
      "metadata": {
        "id": "uflJHQiA9xVt"
      },
      "source": [
        "**Tugas Praktek:**\r\n",
        "\r\n",
        "Untuk prakteknya terapkanlah method append dengan series s1 dan dataframe df1 ditempatkan setelah series s2 dan dataframe df2 masing-masingnya."
      ]
    },
    {
      "cell_type": "code",
      "metadata": {
        "colab": {
          "base_uri": "https://localhost:8080/"
        },
        "id": "jvyMWR-59Vig",
        "outputId": "99556ed0-f7ca-44fc-b48e-f631fa5007bf"
      },
      "source": [
        "# Buat series of int (s1) dan series of string (s2)\r\n",
        "s1 = pd.Series([1,2,3,4,5,6])\r\n",
        "s2 = pd.Series([\"a\",\"b\",\"c\",\"d\",\"e\",\"f\"])\r\n",
        "# Terapkan method append\r\n",
        "s2_append_s1 = s2.append(s1)\r\n",
        "print(\"Series - append:\\n\", s2_append_s1)"
      ],
      "execution_count": null,
      "outputs": [
        {
          "output_type": "stream",
          "text": [
            "Series - append:\n",
            " 0    a\n",
            "1    b\n",
            "2    c\n",
            "3    d\n",
            "4    e\n",
            "5    f\n",
            "0    1\n",
            "1    2\n",
            "2    3\n",
            "3    4\n",
            "4    5\n",
            "5    6\n",
            "dtype: object\n"
          ],
          "name": "stdout"
        }
      ]
    },
    {
      "cell_type": "code",
      "metadata": {
        "colab": {
          "base_uri": "https://localhost:8080/"
        },
        "id": "HAyE47ED-SUd",
        "outputId": "5aeb21ff-7efd-4899-ec28-da81a6038ecf"
      },
      "source": [
        "# Buat dataframe df1 dan df2\r\n",
        "df1 = pd.DataFrame({'a':[1,2],\r\n",
        "'b':[3,4]})\r\n",
        "df2 = pd.DataFrame({'b':[1,2],\r\n",
        "'a':[3,4]})\r\n",
        "# Terapkan method append\r\n",
        "df2_append_df1 = df2.append(df1)\r\n",
        "print(\"Dataframe - append:\\n\", df2_append_df1)"
      ],
      "execution_count": null,
      "outputs": [
        {
          "output_type": "stream",
          "text": [
            "Dataframe - append:\n",
            "    b  a\n",
            "0  1  3\n",
            "1  2  4\n",
            "0  3  1\n",
            "1  4  2\n"
          ],
          "name": "stdout"
        }
      ]
    },
    {
      "cell_type": "markdown",
      "metadata": {
        "id": "OMqjeA-DACSV"
      },
      "source": [
        "### Concat\r\n",
        "Method **.concat()** dapat digunakan pada dataframe yang ditujukan untuk penggabungan baik dalam row-wise (dalam arah ) atau column-wise."
      ]
    },
    {
      "cell_type": "markdown",
      "metadata": {
        "id": "WRS17zB8AKrM"
      },
      "source": [
        "Perhatikan contoh berikut, mulai dengan method .concat pada **row-wise**"
      ]
    },
    {
      "cell_type": "code",
      "metadata": {
        "colab": {
          "base_uri": "https://localhost:8080/"
        },
        "id": "nObE4P9uAJ-U",
        "outputId": "a032436c-3985-4f82-9612-4fc917261453"
      },
      "source": [
        "# Buat dataframe df1 dan df2\r\n",
        "df1 = pd.DataFrame({'a':[1,2],\r\n",
        "                    'b':[3,4]})\r\n",
        "print(\"df1:\\n\", df1)\r\n",
        "df2 = pd.DataFrame({'b':[1,2],\r\n",
        "                    'a':[3,4]})\r\n",
        "print(\"df2:\\n\", df2)\r\n",
        "# Terapkan method concat row-wise\r\n",
        "row_wise_concat = pd.concat([df1,df2])\r\n",
        "print(\"Row-wise - concat:\\n\", row_wise_concat)"
      ],
      "execution_count": null,
      "outputs": [
        {
          "output_type": "stream",
          "text": [
            "df1:\n",
            "    a  b\n",
            "0  1  3\n",
            "1  2  4\n",
            "df2:\n",
            "    b  a\n",
            "0  1  3\n",
            "1  2  4\n",
            "Row-wise - concat:\n",
            "    a  b\n",
            "0  1  3\n",
            "1  2  4\n",
            "0  3  1\n",
            "1  4  2\n"
          ],
          "name": "stdout"
        }
      ]
    },
    {
      "cell_type": "markdown",
      "metadata": {
        "id": "HYKOGDPqA1J9"
      },
      "source": [
        "Untuk penerapan concat pada **column-wise**"
      ]
    },
    {
      "cell_type": "code",
      "metadata": {
        "colab": {
          "base_uri": "https://localhost:8080/"
        },
        "id": "HtoXHBbFAm5j",
        "outputId": "06e700c6-bbe1-4d11-d64c-74ef77702f39"
      },
      "source": [
        "# Terapkan method concat column-wise\r\n",
        "col_wise_concat = pd.concat([df1, df2], axis=1)\r\n",
        "print(\"Column-wise - concat:\\n\", col_wise_concat)"
      ],
      "execution_count": null,
      "outputs": [
        {
          "output_type": "stream",
          "text": [
            "Column-wise - concat:\n",
            "    a  b  b  a\n",
            "0  1  3  1  3\n",
            "1  2  4  2  4\n"
          ],
          "name": "stdout"
        }
      ]
    },
    {
      "cell_type": "markdown",
      "metadata": {
        "id": "smpzEZXzBQ-L"
      },
      "source": [
        "Dapat juga menambahkan identifier dari dataframe untuk data yang ditambahkan"
      ]
    },
    {
      "cell_type": "code",
      "metadata": {
        "colab": {
          "base_uri": "https://localhost:8080/"
        },
        "id": "X3cEPhNqBLt-",
        "outputId": "c7c33960-609d-499b-d90a-401eccdff7b0"
      },
      "source": [
        "# Penambahan identifier --> membentuh hasil penggabungan multiindex\r\n",
        "multiindex_concat = pd.concat([df1,df2],axis=0,keys=['df1','df2'])\r\n",
        "print(\"Multiindex - concat:\\n\", multiindex_concat)"
      ],
      "execution_count": null,
      "outputs": [
        {
          "output_type": "stream",
          "text": [
            "Multiindex - concat:\n",
            "        a  b\n",
            "df1 0  1  3\n",
            "    1  2  4\n",
            "df2 0  3  1\n",
            "    1  4  2\n"
          ],
          "name": "stdout"
        }
      ]
    },
    {
      "cell_type": "markdown",
      "metadata": {
        "id": "uh84mcSSByeP"
      },
      "source": [
        "**Tugas Praktek**:\r\n",
        "\r\n",
        "Balikkanlah posisi kedua dataframe yang akan digabungkan dengan concat. "
      ]
    },
    {
      "cell_type": "code",
      "metadata": {
        "colab": {
          "base_uri": "https://localhost:8080/"
        },
        "id": "RGElsPoRCe7r",
        "outputId": "c77ae2c6-d1e1-43be-d3c9-96e67f0c2896"
      },
      "source": [
        "import pandas as pd\r\n",
        "# Buat dataframe df1 dan df2\r\n",
        "df1 = pd.DataFrame({'a':[1,2],\r\n",
        "                    'b':[3,4]})\r\n",
        "df2 = pd.DataFrame({'b':[1,2],\r\n",
        "                    'a':[3,4]})\r\n",
        "\r\n",
        "# Terapkan method concat row-wise\r\n",
        "row_wise_concat = pd.concat([df2, df1])\r\n",
        "print(\"Row-wise - concat:\\n\", row_wise_concat)\r\n",
        "\r\n",
        "# Terapkan method concat column-wise\r\n",
        "col_wise_concat = pd.concat([df2, df1], axis=1)\r\n",
        "print(\"Column-wise - concat:\\n\", col_wise_concat)\r\n",
        "\r\n",
        "# Penambahan identifier --> membentuk hasil penggabungan multiindex\r\n",
        "multiindex_concat = pd.concat([df2,df1], axis=0, keys=['df1','df2'])\r\n",
        "print(\"Multiindex - concat:\\n\", multiindex_concat)"
      ],
      "execution_count": null,
      "outputs": [
        {
          "output_type": "stream",
          "text": [
            "Row-wise - concat:\n",
            "    b  a\n",
            "0  1  3\n",
            "1  2  4\n",
            "0  3  1\n",
            "1  4  2\n",
            "Column-wise - concat:\n",
            "    b  a  a  b\n",
            "0  1  3  1  3\n",
            "1  2  4  2  4\n",
            "Multiindex - concat:\n",
            "        b  a\n",
            "df1 0  1  3\n",
            "    1  2  4\n",
            "df2 0  3  1\n",
            "    1  4  2\n"
          ],
          "name": "stdout"
        }
      ]
    },
    {
      "cell_type": "markdown",
      "metadata": {
        "id": "yDjAEzpIDhXe"
      },
      "source": [
        "### Merge - Part 1\r\n",
        "Method **.merge()** untuk menggabungkan Series/Dataframe yang bentuknya mirip dengan syntax join di SQL, specify left and right tables, join key dan how to join (left, right, inner, full outer)."
      ]
    },
    {
      "cell_type": "markdown",
      "metadata": {
        "id": "b--Lu3wiEpFV"
      },
      "source": [
        "Mari kita perhatikan contoh berikut:"
      ]
    },
    {
      "cell_type": "code",
      "metadata": {
        "colab": {
          "base_uri": "https://localhost:8080/"
        },
        "id": "lAKzqBJFC7MT",
        "outputId": "45278e8d-6f05-45c3-b59a-12e3fef1960b"
      },
      "source": [
        "# Buat dataframe df1 dan df2\r\n",
        "df1 = pd.DataFrame({\r\n",
        "   'key':['k1','k2','k3','k4','k5'],\r\n",
        "   'val1':[200, 500, 0, 500, 100],\r\n",
        "   'val2':[30, 50, 100, 20, 10]\r\n",
        "})\r\n",
        "print(\"df1:\\n\", df1)\r\n",
        "df2 = pd.DataFrame({\r\n",
        "   'key':['k1','k3','k5','k7','k10'],\r\n",
        "   'val3':[1,2,3,4,5],\r\n",
        "   'val4':[6,7,8,8,10]\r\n",
        "})\r\n",
        "print(\"df2:\\n\", df2)"
      ],
      "execution_count": null,
      "outputs": [
        {
          "output_type": "stream",
          "text": [
            "df1:\n",
            "   key  val1  val2\n",
            "0  k1   200    30\n",
            "1  k2   500    50\n",
            "2  k3     0   100\n",
            "3  k4   500    20\n",
            "4  k5   100    10\n",
            "df2:\n",
            "    key  val3  val4\n",
            "0   k1     1     6\n",
            "1   k3     2     7\n",
            "2   k5     3     8\n",
            "3   k7     4     8\n",
            "4  k10     5    10\n"
          ],
          "name": "stdout"
        }
      ]
    },
    {
      "cell_type": "markdown",
      "metadata": {
        "id": "dS9LY0cvE487"
      },
      "source": [
        "pd.merge yang ekivalen dengan SQL **left join**"
      ]
    },
    {
      "cell_type": "code",
      "metadata": {
        "colab": {
          "base_uri": "https://localhost:8080/"
        },
        "id": "45Vbb8IEEsvp",
        "outputId": "ba9a6868-c810-467b-b9fc-ae272cf37192"
      },
      "source": [
        "# Merge yang ekivalen dengan SQL left join\r\n",
        "merge_df_left = pd.merge(left=df1, right=df2, how='left', left_on='key',right_on='key')\r\n",
        "print('Merge - Left:\\n', merge_df_left)"
      ],
      "execution_count": null,
      "outputs": [
        {
          "output_type": "stream",
          "text": [
            "Merge - Left:\n",
            "   key  val1  val2  val3  val4\n",
            "0  k1   200    30   1.0   6.0\n",
            "1  k2   500    50   NaN   NaN\n",
            "2  k3     0   100   2.0   7.0\n",
            "3  k4   500    20   NaN   NaN\n",
            "4  k5   100    10   3.0   8.0\n"
          ],
          "name": "stdout"
        }
      ]
    },
    {
      "cell_type": "markdown",
      "metadata": {
        "id": "uRmbyjAzFC9k"
      },
      "source": [
        "pd.merge yang ekivalen dengan SQL **right join**"
      ]
    },
    {
      "cell_type": "code",
      "metadata": {
        "colab": {
          "base_uri": "https://localhost:8080/"
        },
        "id": "gN2jpEv9E_rq",
        "outputId": "bc134305-c415-4384-b76d-bfa2e810a1ae"
      },
      "source": [
        "# Merge yang ekivalen dengan SQL right join\r\n",
        "merge_df_right = pd.merge(left=df1, right=df2, how='right', left_on='key',right_on='key')\r\n",
        "print('Merge - Right:\\n', merge_df_right)"
      ],
      "execution_count": null,
      "outputs": [
        {
          "output_type": "stream",
          "text": [
            "Merge - Right:\n",
            "    key   val1   val2  val3  val4\n",
            "0   k1  200.0   30.0     1     6\n",
            "1   k3    0.0  100.0     2     7\n",
            "2   k5  100.0   10.0     3     8\n",
            "3   k7    NaN    NaN     4     8\n",
            "4  k10    NaN    NaN     5    10\n"
          ],
          "name": "stdout"
        }
      ]
    },
    {
      "cell_type": "markdown",
      "metadata": {
        "id": "ViQ0WzAeFaPl"
      },
      "source": [
        "pd.merge yang ekivalen dengan SQL **inner join**"
      ]
    },
    {
      "cell_type": "code",
      "metadata": {
        "colab": {
          "base_uri": "https://localhost:8080/"
        },
        "id": "SO0gaIRiFIN5",
        "outputId": "0fec0194-cacc-4d37-c3b7-cd1a9770d205"
      },
      "source": [
        "# Merge yang ekivalen dengan SQL inner join\r\n",
        "merge_df_inner = pd.merge(left=df1, right=df2, how='inner', left_on='key',right_on='key')\r\n",
        "print('Merge - Inner:\\n', merge_df_inner)"
      ],
      "execution_count": null,
      "outputs": [
        {
          "output_type": "stream",
          "text": [
            "Merge - Inner:\n",
            "   key  val1  val2  val3  val4\n",
            "0  k1   200    30     1     6\n",
            "1  k3     0   100     2     7\n",
            "2  k5   100    10     3     8\n"
          ],
          "name": "stdout"
        }
      ]
    },
    {
      "cell_type": "markdown",
      "metadata": {
        "id": "iZWKyBAtFicO"
      },
      "source": [
        "pd.merge yang ekivalen dengan SQL **outer join**"
      ]
    },
    {
      "cell_type": "code",
      "metadata": {
        "colab": {
          "base_uri": "https://localhost:8080/"
        },
        "id": "9mGhoQcSFfkn",
        "outputId": "5dcea53f-6a3e-4c4b-e963-2b2fe4e62ca0"
      },
      "source": [
        "# Merge yang ekivalen dengan SQL outer join\r\n",
        "merge_df_outer = pd.merge(left=df1, right=df2, how='outer', left_on='key',right_on='key')\r\n",
        "print('Merge - Outer:\\n', merge_df_outer)"
      ],
      "execution_count": null,
      "outputs": [
        {
          "output_type": "stream",
          "text": [
            "Merge - Outer:\n",
            "    key   val1   val2  val3  val4\n",
            "0   k1  200.0   30.0   1.0   6.0\n",
            "1   k2  500.0   50.0   NaN   NaN\n",
            "2   k3    0.0  100.0   2.0   7.0\n",
            "3   k4  500.0   20.0   NaN   NaN\n",
            "4   k5  100.0   10.0   3.0   8.0\n",
            "5   k7    NaN    NaN   4.0   8.0\n",
            "6  k10    NaN    NaN   5.0  10.0\n"
          ],
          "name": "stdout"
        }
      ]
    },
    {
      "cell_type": "markdown",
      "metadata": {
        "id": "2ancf_v_FqHV"
      },
      "source": [
        "**Tugas Praktek:**\r\n",
        "\r\n",
        "Pada contoh di atas keyword argument left=df1 dan right=df2, untuk praktek gunakanlah keyword argument untuk left dan right masing-masingnya adalah df2 dan df1."
      ]
    },
    {
      "cell_type": "code",
      "metadata": {
        "colab": {
          "base_uri": "https://localhost:8080/"
        },
        "id": "QSX_ns9cFmu1",
        "outputId": "81b4dbd1-3fb6-499f-e9ee-8fffaecb429c"
      },
      "source": [
        "import pandas as pd\r\n",
        "# Buat dataframe df1 dan df2\r\n",
        "df1 = pd.DataFrame({\r\n",
        "   'key':['k1','k2','k3','k4','k5'],\r\n",
        "   'val1':[200, 500, 0, 500, 100],\r\n",
        "   'val2':[30, 50, 100, 20, 10]\r\n",
        "})\r\n",
        "df2 = pd.DataFrame({\r\n",
        "   'key':['k1','k3','k5','k7','k10'],\r\n",
        "   'val3':[1,2,3,4,5],\r\n",
        "   'val4':[6,7,8,8,10]\r\n",
        "})\r\n",
        "# Merge yang ekivalen dengan SQL left join\r\n",
        "merge_df_left = pd.merge(left=df2, right=df1, how='left', left_on='key',right_on='key')\r\n",
        "print('Merge - Left:\\n', merge_df_left)\r\n",
        "\r\n",
        "# Merge yang ekivalen dengan SQL right join\r\n",
        "merge_df_right = pd.merge(left=df2, right=df1, how='right', left_on='key',right_on='key')\r\n",
        "print('Merge - Right:\\n', merge_df_right)\r\n",
        "\r\n",
        "# Merge yang ekivalen dengan SQL inner join\r\n",
        "merge_df_inner = pd.merge(left=df2, right=df1, how='inner', left_on='key',right_on='key')\r\n",
        "print('Merge - Inner:\\n', merge_df_inner)\r\n",
        "\r\n",
        "# Merge yang ekivalen dengan SQL outer join\r\n",
        "merge_df_outer = pd.merge(left=df2, right=df1, how='outer', left_on='key',right_on='key')\r\n",
        "print('Merge - Outer:\\n', merge_df_outer)"
      ],
      "execution_count": null,
      "outputs": [
        {
          "output_type": "stream",
          "text": [
            "Merge - Left:\n",
            "    key  val3  val4   val1   val2\n",
            "0   k1     1     6  200.0   30.0\n",
            "1   k3     2     7    0.0  100.0\n",
            "2   k5     3     8  100.0   10.0\n",
            "3   k7     4     8    NaN    NaN\n",
            "4  k10     5    10    NaN    NaN\n",
            "Merge - Right:\n",
            "   key  val3  val4  val1  val2\n",
            "0  k1   1.0   6.0   200    30\n",
            "1  k2   NaN   NaN   500    50\n",
            "2  k3   2.0   7.0     0   100\n",
            "3  k4   NaN   NaN   500    20\n",
            "4  k5   3.0   8.0   100    10\n",
            "Merge - Inner:\n",
            "   key  val3  val4  val1  val2\n",
            "0  k1     1     6   200    30\n",
            "1  k3     2     7     0   100\n",
            "2  k5     3     8   100    10\n",
            "Merge - Outer:\n",
            "    key  val3  val4   val1   val2\n",
            "0   k1   1.0   6.0  200.0   30.0\n",
            "1   k3   2.0   7.0    0.0  100.0\n",
            "2   k5   3.0   8.0  100.0   10.0\n",
            "3   k7   4.0   8.0    NaN    NaN\n",
            "4  k10   5.0  10.0    NaN    NaN\n",
            "5   k2   NaN   NaN  500.0   50.0\n",
            "6   k4   NaN   NaN  500.0   20.0\n"
          ],
          "name": "stdout"
        }
      ]
    },
    {
      "cell_type": "markdown",
      "metadata": {
        "id": "4anCZ5zZFxSD"
      },
      "source": [
        "### Merge - Part 2\r\n",
        "Penggunaan method .merge yang telah dipelajari pada part 1 adalah untuk dataframe dengan index tunggal.\r\n",
        "\r\n",
        "Bagaimana jika salah satu dataframe atau keseluruhan dataframe yang akan digabungkan tersebut memiliki multiindex?"
      ]
    },
    {
      "cell_type": "code",
      "metadata": {
        "id": "9y-Ea8zmFuwN",
        "colab": {
          "base_uri": "https://localhost:8080/"
        },
        "outputId": "68daf676-ce9e-4fb4-e3b5-e44a9012ca42"
      },
      "source": [
        "import pandas as pd\r\n",
        "# Buat dataframe df1 dan df2\r\n",
        "df1 = pd.DataFrame({\r\n",
        "   'key':['k1','k2','k3','k4','k5'],\r\n",
        "   'val1':[200, 500, 0, 500, 100],\r\n",
        "   'val2':[30, 50, 100, 20, 10]\r\n",
        "}).set_index(['key','val2'])\r\n",
        "print('Dataframe 1:\\n', df1)\r\n",
        "df2 = pd.DataFrame({\r\n",
        "   'key':['k1','k3','k5','k7','k10'],\r\n",
        "   'val3':[1,2,3,4,5],\r\n",
        "   'val4':[6,7,8,8,10]\r\n",
        "}).set_index(['key','val3'])\r\n",
        "print('Dataframe 2:\\n', df2)"
      ],
      "execution_count": 28,
      "outputs": [
        {
          "output_type": "stream",
          "text": [
            "Dataframe 1:\n",
            "           val1\n",
            "key val2      \n",
            "k1  30     200\n",
            "k2  50     500\n",
            "k3  100      0\n",
            "k4  20     500\n",
            "k5  10     100\n",
            "Dataframe 2:\n",
            "           val4\n",
            "key val3      \n",
            "k1  1        6\n",
            "k3  2        7\n",
            "k5  3        8\n",
            "k7  4        8\n",
            "k10 5       10\n"
          ],
          "name": "stdout"
        }
      ]
    },
    {
      "cell_type": "markdown",
      "metadata": {
        "id": "5KUEuthIHunw"
      },
      "source": [
        "Jika digabungkan secara langsung seperti yang telah dilakukan pada bagian sebelumnya"
      ]
    },
    {
      "cell_type": "code",
      "metadata": {
        "id": "NNvvWztIHtnJ"
      },
      "source": [
        "# Merge dataframe yang memiliki multi index\r\n",
        "# df_merge = pd.merge(df1,df2)\r\n",
        "# print('Merging dataframe:\\n', df_merge)"
      ],
      "execution_count": 29,
      "outputs": []
    },
    {
      "cell_type": "markdown",
      "metadata": {
        "id": "iBQ_1CbNH8Fa"
      },
      "source": [
        "akan menghasilkan terjadi kegagalan dalam merging kedua dataframe yang memiliki multi index.\r\n",
        "\r\n",
        "Cara mengatasinya adalah dengan mereset index pada kedua dataframe, kemudian merge akan mendeteksi common single/multi column di kedua dataframe dan melakukan merge,"
      ]
    },
    {
      "cell_type": "code",
      "metadata": {
        "colab": {
          "base_uri": "https://localhost:8080/"
        },
        "id": "ozs3Yk4yH7aT",
        "outputId": "0483f1f9-eca3-4d90-b9b9-3653ed00d395"
      },
      "source": [
        "# Merge dataframe yang memiliki multi index\r\n",
        "df_merge = pd.merge(df1.reset_index(),df2.reset_index())\r\n",
        "print('Merging dataframe:\\n', df_merge)"
      ],
      "execution_count": 30,
      "outputs": [
        {
          "output_type": "stream",
          "text": [
            "Merging dataframe:\n",
            "   key  val2  val1  val3  val4\n",
            "0  k1    30   200     1     6\n",
            "1  k3   100     0     2     7\n",
            "2  k5    10   100     3     8\n"
          ],
          "name": "stdout"
        }
      ]
    },
    {
      "cell_type": "markdown",
      "metadata": {
        "id": "XaeKec8tJ7Q-"
      },
      "source": [
        "### Join\r\n",
        "Metthod **.join()** digunakan pada dataframe untuk menggabungkan kedua data dengan set index pada kedua tabel tersebut sebagai join key, tanpa index, hal ini tidak akan berhasil.\r\n"
      ]
    },
    {
      "cell_type": "markdown",
      "metadata": {
        "id": "1SXIfD_uKAI6"
      },
      "source": [
        "Coba  lihat kasusnya"
      ]
    },
    {
      "cell_type": "code",
      "metadata": {
        "id": "CYOFHog9IEVb"
      },
      "source": [
        "import pandas as pd\r\n",
        "# Buat dataframe df1 dan df2\r\n",
        "df1 = pd.DataFrame({\r\n",
        "   'key':['k1','k2','k3','k4','k5'],\r\n",
        "   'val1':[200, 500, 0, 500, 100],\r\n",
        "   'val2':[30, 50, 100, 20, 10]\r\n",
        "})\r\n",
        "df2 = pd.DataFrame({\r\n",
        "   'key':['k1','k3','k5','k7','k10'],\r\n",
        "   'val3':[1,2,3,4,5],\r\n",
        "   'val4':[6,7,8,8,10]\r\n",
        "})\r\n",
        "# Penerapan join dengan menggunakan set_index dan keyword how\r\n",
        "# df1.join(df2) #<-- akan error"
      ],
      "execution_count": 31,
      "outputs": []
    },
    {
      "cell_type": "markdown",
      "metadata": {
        "id": "JqnCDA6NKVFp"
      },
      "source": [
        "Untuk itu, jika dilakukan seperti ini"
      ]
    },
    {
      "cell_type": "code",
      "metadata": {
        "colab": {
          "base_uri": "https://localhost:8080/"
        },
        "id": "FIZ4gv0tKSV1",
        "outputId": "5f48872d-3966-4256-f799-1fb9d027f301"
      },
      "source": [
        "print(df1.set_index('key').join(df2.set_index('key')))"
      ],
      "execution_count": 32,
      "outputs": [
        {
          "output_type": "stream",
          "text": [
            "     val1  val2  val3  val4\n",
            "key                        \n",
            "k1    200    30   1.0   6.0\n",
            "k2    500    50   NaN   NaN\n",
            "k3      0   100   2.0   7.0\n",
            "k4    500    20   NaN   NaN\n",
            "k5    100    10   3.0   8.0\n"
          ],
          "name": "stdout"
        }
      ]
    },
    {
      "cell_type": "markdown",
      "metadata": {
        "id": "4AJGd9VLKnJb"
      },
      "source": [
        "secara default, fungsi join ini akan mengeksekusi left join."
      ]
    },
    {
      "cell_type": "markdown",
      "metadata": {
        "id": "UVuCe7Q-KqIr"
      },
      "source": [
        "Untuk tipe join yang lain (contoh=inner), harus menspecify keyword how='inner' seperti yang dicontohkan berikut ini"
      ]
    },
    {
      "cell_type": "code",
      "metadata": {
        "colab": {
          "base_uri": "https://localhost:8080/"
        },
        "id": "uZJUfDa8KkYp",
        "outputId": "24756413-f68b-4372-b6cb-0b7672e8688f"
      },
      "source": [
        "join_df = df1.set_index('key').join(df2.set_index('key'), how='inner')\r\n",
        "print(join_df)"
      ],
      "execution_count": 33,
      "outputs": [
        {
          "output_type": "stream",
          "text": [
            "     val1  val2  val3  val4\n",
            "key                        \n",
            "k1    200    30     1     6\n",
            "k3      0   100     2     7\n",
            "k5    100    10     3     8\n"
          ],
          "name": "stdout"
        }
      ]
    },
    {
      "cell_type": "markdown",
      "metadata": {
        "id": "1d6HFWT5LAAv"
      },
      "source": [
        "**Tugas Praktek**:\r\n",
        "\r\n",
        "Lakukanlah seperti yang dicontohkan tetapi penggabungan dengan method join berupa outer join.\r\n"
      ]
    },
    {
      "cell_type": "code",
      "metadata": {
        "colab": {
          "base_uri": "https://localhost:8080/"
        },
        "id": "3h5r49nxK84e",
        "outputId": "1fbd1714-4b34-4e0d-a020-bc4c05a5cc5f"
      },
      "source": [
        "import pandas as pd\r\n",
        "# Buat dataframe df1 dan df2\r\n",
        "df1 = pd.DataFrame({\r\n",
        "   'key':['k1','k2','k3','k4','k5'],\r\n",
        "   'val1':[200, 500, 0, 500, 100],\r\n",
        "   'val2':[30, 50, 100, 20, 10]\r\n",
        "})\r\n",
        "df2 = pd.DataFrame({\r\n",
        "   'key':['k1','k3','k5','k7','k10'],\r\n",
        "   'val3':[1,2,3,4,5],\r\n",
        "   'val4':[6,7,8,8,10]\r\n",
        "})\r\n",
        "# Penerapan join dengan menggunakan set_index dan keyword how\r\n",
        "join_df = df1.set_index('key').join(df2.set_index('key'), how='outer')\r\n",
        "print(join_df)"
      ],
      "execution_count": 36,
      "outputs": [
        {
          "output_type": "stream",
          "text": [
            "      val1   val2  val3  val4\n",
            "key                          \n",
            "k1   200.0   30.0   1.0   6.0\n",
            "k10    NaN    NaN   5.0  10.0\n",
            "k2   500.0   50.0   NaN   NaN\n",
            "k3     0.0  100.0   2.0   7.0\n",
            "k4   500.0   20.0   NaN   NaN\n",
            "k5   100.0   10.0   3.0   8.0\n",
            "k7     NaN    NaN   4.0   8.0\n"
          ],
          "name": "stdout"
        }
      ]
    },
    {
      "cell_type": "markdown",
      "metadata": {
        "id": "n7ku6uzPMXpj"
      },
      "source": [
        "## **Pivot, Melt, Stack & Unstack**"
      ]
    },
    {
      "cell_type": "markdown",
      "metadata": {
        "id": "7-in9OfyM2N3"
      },
      "source": [
        "### Pendahuluan\r\n",
        "Kotak masuk emailku tak hentinya menerima sejumlah link baru dari Andra untuk bab-bab yang akan kupelajari di modul Pandas part 2 ini. Banyak sekali referensi dari Andra!\r\n",
        "\r\n",
        "“Pivot, Melt, Stack, dan Unstack, apa ini?” gumamku sendiri membaca subject email Andra.\r\n",
        "\r\n",
        "Aku pun bergegas mengaksesnya:\r\n",
        "\r\n",
        "Reference: https://pandas.pydata.org/pandas-docs/stable/user_guide/reshaping.html\r\n",
        "\r\n",
        " \r\n",
        "\r\n",
        "Melakukan format ulang pada dataset itu sangatlah penting, biasanya hal ini dilakukan untuk mengetahui keseluruhan data secara cepat dengan chart atau visualisasi. Untuk orang yang sudah mahir menggunakan spreadsheet pastilah tau banyak tentang fitur pivot ini.\r\n",
        "\r\n",
        "Di Pandas, ada beberapa teknik untuk melakukan pivot atau unpivot yang biasa disebut as melt di Pandas, terdapat pula konsep stack yang artinya menumpuk data dengan kolom yang lebih sedikit (stack) sama seperti konsep melt dan ada pula yang memperluas data dengan kolom yang lebih banyak (unstack) sama seperti konsep pivot.\r\n",
        "\r\n",
        " "
      ]
    },
    {
      "cell_type": "markdown",
      "metadata": {
        "id": "H4iVAn5VQs77"
      },
      "source": [
        "### Dataset\r\n",
        "Untuk memahami konsep pivot, melt, stack, dan unstack pada Pandas mari persiapkan dataset sederhana terlebih dahulu."
      ]
    },
    {
      "cell_type": "code",
      "metadata": {
        "colab": {
          "base_uri": "https://localhost:8080/"
        },
        "id": "bfFA_I6ALjt1",
        "outputId": "e4575f22-241f-4f48-807c-80c4a17d16b9"
      },
      "source": [
        "import pandas as pd\r\n",
        "# Dataframe\r\n",
        "data = pd.DataFrame({\r\n",
        "  'kelas': 6*['A'] + 6*['B'],\r\n",
        "  'murid': 2*['A1'] + 2*['A2'] + 2*['A3'] + 2*['B1'] + 2*['B2'] + 2*['B3'],\r\n",
        "  'pelajaran': 6*['math','english'],\r\n",
        "  'nilai': [90,60,70,85,50,60,100,40,95,80,60,45]\r\n",
        "}, columns=['kelas','murid','pelajaran','nilai'])\r\n",
        "print(\"Data:\\n\", data)\r\n",
        "# Ukuran dataframe \r\n",
        "print('Data terdiri atas %d baris dan %d kolom.' % data.shape)"
      ],
      "execution_count": 38,
      "outputs": [
        {
          "output_type": "stream",
          "text": [
            "Data:\n",
            "    kelas murid pelajaran  nilai\n",
            "0      A    A1      math     90\n",
            "1      A    A1   english     60\n",
            "2      A    A2      math     70\n",
            "3      A    A2   english     85\n",
            "4      A    A3      math     50\n",
            "5      A    A3   english     60\n",
            "6      B    B1      math    100\n",
            "7      B    B1   english     40\n",
            "8      B    B2      math     95\n",
            "9      B    B2   english     80\n",
            "10     B    B3      math     60\n",
            "11     B    B3   english     45\n",
            "Data terdiri atas 12 baris dan 4 kolom.\n"
          ],
          "name": "stdout"
        }
      ]
    },
    {
      "cell_type": "markdown",
      "metadata": {
        "id": "fKmDW41fRj40"
      },
      "source": [
        "**Tugas Praktek:**\r\n",
        "\r\n",
        "Carilah unique records/value pada keempat kolom dataframe 'data'."
      ]
    },
    {
      "cell_type": "code",
      "metadata": {
        "colab": {
          "base_uri": "https://localhost:8080/"
        },
        "id": "wq3mGYfDRX2c",
        "outputId": "8c59f626-4cbd-4d49-c721-af3433eb7e97"
      },
      "source": [
        "import pandas as pd\r\n",
        "# Dataframe\r\n",
        "data = pd.DataFrame({\r\n",
        "  'kelas': 6*['A'] + 6*['B'],\r\n",
        "  'murid': 2*['A1'] + 2*['A2'] + 2*['A3'] + 2*['B1'] + 2*['B2'] + 2*['B3'],\r\n",
        "  'pelajaran': 6*['math','english'],\r\n",
        "  'nilai': [90,60,70,85,50,60,100,40,95,80,60,45]\r\n",
        "}, columns=['kelas','murid','pelajaran','nilai'])\r\n",
        "# Unique value pada setiap kolom data\r\n",
        "for column in data.columns:\r\n",
        "\tprint('Unique value %s: %s' % (column, data[column].unique()))"
      ],
      "execution_count": 39,
      "outputs": [
        {
          "output_type": "stream",
          "text": [
            "Unique value kelas: ['A' 'B']\n",
            "Unique value murid: ['A1' 'A2' 'A3' 'B1' 'B2' 'B3']\n",
            "Unique value pelajaran: ['math' 'english']\n",
            "Unique value nilai: [ 90  60  70  85  50 100  40  95  80  45]\n"
          ],
          "name": "stdout"
        }
      ]
    },
    {
      "cell_type": "code",
      "metadata": {
        "id": "MKZZNdzSR2tr"
      },
      "source": [
        ""
      ],
      "execution_count": null,
      "outputs": []
    }
  ]
}