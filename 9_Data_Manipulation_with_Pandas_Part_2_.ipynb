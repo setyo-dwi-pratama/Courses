{
  "nbformat": 4,
  "nbformat_minor": 0,
  "metadata": {
    "colab": {
      "name": "9_Data Manipulation with Pandas_Part_2 .ipynb",
      "provenance": [],
      "authorship_tag": "ABX9TyODKRA0sYiqrcr5gWChUy1o",
      "include_colab_link": true
    },
    "kernelspec": {
      "name": "python3",
      "display_name": "Python 3"
    },
    "accelerator": "GPU"
  },
  "cells": [
    {
      "cell_type": "markdown",
      "metadata": {
        "id": "view-in-github",
        "colab_type": "text"
      },
      "source": [
        "<a href=\"https://colab.research.google.com/github/setyo-dwi-pratama/Courses/blob/main/9_Data_Manipulation_with_Pandas_Part_2_.ipynb\" target=\"_parent\"><img src=\"https://colab.research.google.com/assets/colab-badge.svg\" alt=\"Open In Colab\"/></a>"
      ]
    },
    {
      "cell_type": "markdown",
      "metadata": {
        "id": "UG65lMwk6lTs"
      },
      "source": [
        "# **Data Manipulation with Pandas - Part 2** "
      ]
    },
    {
      "cell_type": "markdown",
      "metadata": {
        "id": "go-wOxwA6o1A"
      },
      "source": [
        "## **Penggabungan Series/Dataframe**"
      ]
    },
    {
      "cell_type": "markdown",
      "metadata": {
        "id": "8xh6y_wb7Hw4"
      },
      "source": [
        "### Pendahuluan\r\n",
        "“Aksara, sedang apa?”\r\n",
        "\r\n",
        "\r\n",
        "Aku pun mengalihkan perhatianku dari layar laptop ke Andra. Pagi-pagi sekali ia sudah menghampiriku. Diam-diam aku menebak materi baru apa lagi yang harus kupelajari ataukah ada proyek dadakan lagi yang perlu diselesaikan?\r\n",
        "\r\n",
        " \r\n",
        "\r\n",
        "“Lagi latihan pakai Pandas, Ndra.”\r\n",
        "\r\n",
        "“Oh, masih modul Pandas part 1 kemarin?”\r\n",
        "\r\n",
        "Aku mengangguk.\r\n",
        "\r\n",
        "\r\n",
        "“Pas banget, pagi ini saya mau ngirim ke kamu lanjutan modulnya. Lagipula modul kemarin kamu sudah lulus kok. Sekarang fokus ke Pandas part 2 saja. Kali ini materinya lebih dalam mengenai interaksi dengan tabular data menggunakan Pandas. Nanti kamu baca dan pelajari saja dulu.”\r\n",
        "\r\n",
        " \r\n",
        "“Oh, oke.” \r\n",
        "\r\n",
        "\r\n",
        "Setelah obrolan tadi, aku langsung menerima pesan dengan lampiran materi lanjutan dari Andra. Penasaran dengan apa yang bisa Pandas lakukan lagi, aku pun segera membuka dan mencernanya:\r\n",
        "\r\n",
        "\r\n",
        "Reference: https://pandas.pydata.org/pandas-docs/stable/user_guide/merging.html"
      ]
    },
    {
      "cell_type": "markdown",
      "metadata": {
        "id": "-b-RSU6j7L1m"
      },
      "source": [
        "### Bagaimana Cara Menggabungkan Pandas Series/Dataframe?\r\n",
        "Sebagai seorang praktisi data, pasti sering kali bertemu dengan banyak file sekaligus dan data yang dibutuhkan tersebar di berbagai file tersebut dan membutuhkan metode untuk menggabungkan semua informasi yang dibutuhkan dari setiap file itu.\r\n",
        "\r\n",
        "Dengan menggunakan excel atau tools pengolah spreadsheet lain hal itu bisa terjadi mungkin dengan menggunakan copy paste file satu ke file lainnya atau yang agak canggih menggunakan method importRange di google sheets. Tetapi tentu hal itu tidak bisa diandalkan ketika berurusan dengan big data yang datanya bisa milyaran rows dengan informasi yang tidak terbatas, Python dan Pandas adalah satu-satunya cara untuk mengatasinya.\r\n",
        "\r\n",
        "Terdapat beberapa metode untuk menggabungkan Series/Dataframe di Pandas, yaitu:\r\n",
        "\r\n",
        "1. append\r\n",
        "2. concat\r\n",
        "3. merge\r\n",
        "4. join"
      ]
    },
    {
      "cell_type": "markdown",
      "metadata": {
        "id": "c2dGTcTr7iSz"
      },
      "source": [
        "### Append\r\n",
        "Method **.append()** dapat digunakan pada dataframe/series yang ditujukan untuk menambah row-nya saja. Jika di SQL memiliki 2 tabel atau lebih maka dapat menggabungkannya secara vertikal dengan Union. Jadi **SQL Union** ekuivalen dengan method **.append()** di Pandas."
      ]
    },
    {
      "cell_type": "markdown",
      "metadata": {
        "id": "cuiZO8nG73qz"
      },
      "source": [
        "Perhatikan contoh berikut, mulai dengan method .append pada **series**"
      ]
    },
    {
      "cell_type": "code",
      "metadata": {
        "colab": {
          "base_uri": "https://localhost:8080/"
        },
        "id": "mFtADqPI6oM4",
        "outputId": "b68e06f6-cad8-46bb-a827-c7f63b8834b2"
      },
      "source": [
        "import pandas as pd\r\n",
        "# Buat series of int (s1) dan series of string (s2)\r\n",
        "s1 = pd.Series([1,2,3,4,5,6])\r\n",
        "s2 = pd.Series([\"a\",\"b\",\"c\",\"d\",\"e\",\"f\"])\r\n",
        "# Terapkan method append\r\n",
        "s1_append_s2 = s1.append(s2)\r\n",
        "print(\"Series - append:\\n\", s1_append_s2)"
      ],
      "execution_count": 75,
      "outputs": [
        {
          "output_type": "stream",
          "text": [
            "Series - append:\n",
            " 0    1\n",
            "1    2\n",
            "2    3\n",
            "3    4\n",
            "4    5\n",
            "5    6\n",
            "0    a\n",
            "1    b\n",
            "2    c\n",
            "3    d\n",
            "4    e\n",
            "5    f\n",
            "dtype: object\n"
          ],
          "name": "stdout"
        }
      ]
    },
    {
      "cell_type": "markdown",
      "metadata": {
        "id": "i_u8J2T88s63"
      },
      "source": [
        "Untuk **Dataframe**"
      ]
    },
    {
      "cell_type": "code",
      "metadata": {
        "colab": {
          "base_uri": "https://localhost:8080/"
        },
        "id": "o2FG1zkk8V4q",
        "outputId": "4074dad3-0b74-4055-dec4-41b1b2174b4f"
      },
      "source": [
        "# Buat dataframe df1 dan df2\r\n",
        "df1 = pd.DataFrame({'a':[1,2],\r\n",
        "                    'b':[3,4]})\r\n",
        "print(\"df1:\\n\", df1)\r\n",
        "df2 = pd.DataFrame({'b':[1,2],\r\n",
        "                    'a':[3,4]})\r\n",
        "print(\"df2:\\n\", df2)\r\n",
        "# Terapkan method append\r\n",
        "df1_append_df2 = df1.append(df2)\r\n",
        "print(\"Dataframe - append:\\n\", df1_append_df2)"
      ],
      "execution_count": 76,
      "outputs": [
        {
          "output_type": "stream",
          "text": [
            "df1:\n",
            "    a  b\n",
            "0  1  3\n",
            "1  2  4\n",
            "df2:\n",
            "    b  a\n",
            "0  1  3\n",
            "1  2  4\n",
            "Dataframe - append:\n",
            "    a  b\n",
            "0  1  3\n",
            "1  2  4\n",
            "0  3  1\n",
            "1  4  2\n"
          ],
          "name": "stdout"
        }
      ]
    },
    {
      "cell_type": "markdown",
      "metadata": {
        "id": "uflJHQiA9xVt"
      },
      "source": [
        "**Tugas Praktek:**\r\n",
        "\r\n",
        "Untuk prakteknya terapkanlah method append dengan series s1 dan dataframe df1 ditempatkan setelah series s2 dan dataframe df2 masing-masingnya."
      ]
    },
    {
      "cell_type": "code",
      "metadata": {
        "colab": {
          "base_uri": "https://localhost:8080/"
        },
        "id": "jvyMWR-59Vig",
        "outputId": "79c2634e-bab0-4dcd-a0fc-c97128d61788"
      },
      "source": [
        "# Buat series of int (s1) dan series of string (s2)\r\n",
        "s1 = pd.Series([1,2,3,4,5,6])\r\n",
        "s2 = pd.Series([\"a\",\"b\",\"c\",\"d\",\"e\",\"f\"])\r\n",
        "# Terapkan method append\r\n",
        "s2_append_s1 = s2.append(s1)\r\n",
        "print(\"Series - append:\\n\", s2_append_s1)"
      ],
      "execution_count": 77,
      "outputs": [
        {
          "output_type": "stream",
          "text": [
            "Series - append:\n",
            " 0    a\n",
            "1    b\n",
            "2    c\n",
            "3    d\n",
            "4    e\n",
            "5    f\n",
            "0    1\n",
            "1    2\n",
            "2    3\n",
            "3    4\n",
            "4    5\n",
            "5    6\n",
            "dtype: object\n"
          ],
          "name": "stdout"
        }
      ]
    },
    {
      "cell_type": "code",
      "metadata": {
        "colab": {
          "base_uri": "https://localhost:8080/"
        },
        "id": "HAyE47ED-SUd",
        "outputId": "ea13320f-f0cf-4359-c4fb-8d45ed1df485"
      },
      "source": [
        "# Buat dataframe df1 dan df2\r\n",
        "df1 = pd.DataFrame({'a':[1,2],\r\n",
        "'b':[3,4]})\r\n",
        "df2 = pd.DataFrame({'b':[1,2],\r\n",
        "'a':[3,4]})\r\n",
        "# Terapkan method append\r\n",
        "df2_append_df1 = df2.append(df1)\r\n",
        "print(\"Dataframe - append:\\n\", df2_append_df1)"
      ],
      "execution_count": 78,
      "outputs": [
        {
          "output_type": "stream",
          "text": [
            "Dataframe - append:\n",
            "    b  a\n",
            "0  1  3\n",
            "1  2  4\n",
            "0  3  1\n",
            "1  4  2\n"
          ],
          "name": "stdout"
        }
      ]
    },
    {
      "cell_type": "markdown",
      "metadata": {
        "id": "OMqjeA-DACSV"
      },
      "source": [
        "### Concat\r\n",
        "Method **.concat()** dapat digunakan pada dataframe yang ditujukan untuk penggabungan baik dalam row-wise (dalam arah ) atau column-wise."
      ]
    },
    {
      "cell_type": "markdown",
      "metadata": {
        "id": "WRS17zB8AKrM"
      },
      "source": [
        "Perhatikan contoh berikut, mulai dengan method .concat pada **row-wise**"
      ]
    },
    {
      "cell_type": "code",
      "metadata": {
        "colab": {
          "base_uri": "https://localhost:8080/"
        },
        "id": "nObE4P9uAJ-U",
        "outputId": "23eb8495-7566-41db-d1c4-a2afef2453c9"
      },
      "source": [
        "# Buat dataframe df1 dan df2\r\n",
        "df1 = pd.DataFrame({'a':[1,2],\r\n",
        "                    'b':[3,4]})\r\n",
        "print(\"df1:\\n\", df1)\r\n",
        "df2 = pd.DataFrame({'b':[1,2],\r\n",
        "                    'a':[3,4]})\r\n",
        "print(\"df2:\\n\", df2)\r\n",
        "# Terapkan method concat row-wise\r\n",
        "row_wise_concat = pd.concat([df1,df2])\r\n",
        "print(\"Row-wise - concat:\\n\", row_wise_concat)"
      ],
      "execution_count": 79,
      "outputs": [
        {
          "output_type": "stream",
          "text": [
            "df1:\n",
            "    a  b\n",
            "0  1  3\n",
            "1  2  4\n",
            "df2:\n",
            "    b  a\n",
            "0  1  3\n",
            "1  2  4\n",
            "Row-wise - concat:\n",
            "    a  b\n",
            "0  1  3\n",
            "1  2  4\n",
            "0  3  1\n",
            "1  4  2\n"
          ],
          "name": "stdout"
        }
      ]
    },
    {
      "cell_type": "markdown",
      "metadata": {
        "id": "HYKOGDPqA1J9"
      },
      "source": [
        "Untuk penerapan concat pada **column-wise**"
      ]
    },
    {
      "cell_type": "code",
      "metadata": {
        "colab": {
          "base_uri": "https://localhost:8080/"
        },
        "id": "HtoXHBbFAm5j",
        "outputId": "35533a76-6114-42b9-984d-cd737cf2fea0"
      },
      "source": [
        "# Terapkan method concat column-wise\r\n",
        "col_wise_concat = pd.concat([df1, df2], axis=1)\r\n",
        "print(\"Column-wise - concat:\\n\", col_wise_concat)"
      ],
      "execution_count": 80,
      "outputs": [
        {
          "output_type": "stream",
          "text": [
            "Column-wise - concat:\n",
            "    a  b  b  a\n",
            "0  1  3  1  3\n",
            "1  2  4  2  4\n"
          ],
          "name": "stdout"
        }
      ]
    },
    {
      "cell_type": "markdown",
      "metadata": {
        "id": "smpzEZXzBQ-L"
      },
      "source": [
        "Dapat juga menambahkan identifier dari dataframe untuk data yang ditambahkan"
      ]
    },
    {
      "cell_type": "code",
      "metadata": {
        "colab": {
          "base_uri": "https://localhost:8080/"
        },
        "id": "X3cEPhNqBLt-",
        "outputId": "75526abe-0f9f-4206-d37a-8cca77cb0423"
      },
      "source": [
        "# Penambahan identifier --> membentuh hasil penggabungan multiindex\r\n",
        "multiindex_concat = pd.concat([df1,df2],axis=0,keys=['df1','df2'])\r\n",
        "print(\"Multiindex - concat:\\n\", multiindex_concat)"
      ],
      "execution_count": 81,
      "outputs": [
        {
          "output_type": "stream",
          "text": [
            "Multiindex - concat:\n",
            "        a  b\n",
            "df1 0  1  3\n",
            "    1  2  4\n",
            "df2 0  3  1\n",
            "    1  4  2\n"
          ],
          "name": "stdout"
        }
      ]
    },
    {
      "cell_type": "markdown",
      "metadata": {
        "id": "uh84mcSSByeP"
      },
      "source": [
        "**Tugas Praktek**:\r\n",
        "\r\n",
        "Balikkanlah posisi kedua dataframe yang akan digabungkan dengan concat. "
      ]
    },
    {
      "cell_type": "code",
      "metadata": {
        "colab": {
          "base_uri": "https://localhost:8080/"
        },
        "id": "RGElsPoRCe7r",
        "outputId": "5bdaef5b-cfac-44a9-ccff-4aae0d0d367f"
      },
      "source": [
        "import pandas as pd\r\n",
        "# Buat dataframe df1 dan df2\r\n",
        "df1 = pd.DataFrame({'a':[1,2],\r\n",
        "                    'b':[3,4]})\r\n",
        "df2 = pd.DataFrame({'b':[1,2],\r\n",
        "                    'a':[3,4]})\r\n",
        "\r\n",
        "# Terapkan method concat row-wise\r\n",
        "row_wise_concat = pd.concat([df2, df1])\r\n",
        "print(\"Row-wise - concat:\\n\", row_wise_concat)\r\n",
        "\r\n",
        "# Terapkan method concat column-wise\r\n",
        "col_wise_concat = pd.concat([df2, df1], axis=1)\r\n",
        "print(\"Column-wise - concat:\\n\", col_wise_concat)\r\n",
        "\r\n",
        "# Penambahan identifier --> membentuk hasil penggabungan multiindex\r\n",
        "multiindex_concat = pd.concat([df2,df1], axis=0, keys=['df1','df2'])\r\n",
        "print(\"Multiindex - concat:\\n\", multiindex_concat)"
      ],
      "execution_count": 82,
      "outputs": [
        {
          "output_type": "stream",
          "text": [
            "Row-wise - concat:\n",
            "    b  a\n",
            "0  1  3\n",
            "1  2  4\n",
            "0  3  1\n",
            "1  4  2\n",
            "Column-wise - concat:\n",
            "    b  a  a  b\n",
            "0  1  3  1  3\n",
            "1  2  4  2  4\n",
            "Multiindex - concat:\n",
            "        b  a\n",
            "df1 0  1  3\n",
            "    1  2  4\n",
            "df2 0  3  1\n",
            "    1  4  2\n"
          ],
          "name": "stdout"
        }
      ]
    },
    {
      "cell_type": "markdown",
      "metadata": {
        "id": "yDjAEzpIDhXe"
      },
      "source": [
        "### Merge - Part 1\r\n",
        "Method **.merge()** untuk menggabungkan Series/Dataframe yang bentuknya mirip dengan syntax join di SQL, specify left and right tables, join key dan how to join (left, right, inner, full outer)."
      ]
    },
    {
      "cell_type": "markdown",
      "metadata": {
        "id": "b--Lu3wiEpFV"
      },
      "source": [
        "Mari kita perhatikan contoh berikut:"
      ]
    },
    {
      "cell_type": "code",
      "metadata": {
        "colab": {
          "base_uri": "https://localhost:8080/"
        },
        "id": "lAKzqBJFC7MT",
        "outputId": "ec176996-eb7e-48c7-c5f2-99adec645d98"
      },
      "source": [
        "# Buat dataframe df1 dan df2\r\n",
        "df1 = pd.DataFrame({\r\n",
        "   'key':['k1','k2','k3','k4','k5'],\r\n",
        "   'val1':[200, 500, 0, 500, 100],\r\n",
        "   'val2':[30, 50, 100, 20, 10]\r\n",
        "})\r\n",
        "print(\"df1:\\n\", df1)\r\n",
        "df2 = pd.DataFrame({\r\n",
        "   'key':['k1','k3','k5','k7','k10'],\r\n",
        "   'val3':[1,2,3,4,5],\r\n",
        "   'val4':[6,7,8,8,10]\r\n",
        "})\r\n",
        "print(\"df2:\\n\", df2)"
      ],
      "execution_count": 83,
      "outputs": [
        {
          "output_type": "stream",
          "text": [
            "df1:\n",
            "   key  val1  val2\n",
            "0  k1   200    30\n",
            "1  k2   500    50\n",
            "2  k3     0   100\n",
            "3  k4   500    20\n",
            "4  k5   100    10\n",
            "df2:\n",
            "    key  val3  val4\n",
            "0   k1     1     6\n",
            "1   k3     2     7\n",
            "2   k5     3     8\n",
            "3   k7     4     8\n",
            "4  k10     5    10\n"
          ],
          "name": "stdout"
        }
      ]
    },
    {
      "cell_type": "markdown",
      "metadata": {
        "id": "dS9LY0cvE487"
      },
      "source": [
        "pd.merge yang ekivalen dengan SQL **left join**"
      ]
    },
    {
      "cell_type": "code",
      "metadata": {
        "colab": {
          "base_uri": "https://localhost:8080/"
        },
        "id": "45Vbb8IEEsvp",
        "outputId": "8fe7fb0e-e7d9-4fc4-b901-3e34078fdb74"
      },
      "source": [
        "# Merge yang ekivalen dengan SQL left join\r\n",
        "merge_df_left = pd.merge(left=df1, right=df2, how='left', left_on='key',right_on='key')\r\n",
        "print('Merge - Left:\\n', merge_df_left)"
      ],
      "execution_count": 84,
      "outputs": [
        {
          "output_type": "stream",
          "text": [
            "Merge - Left:\n",
            "   key  val1  val2  val3  val4\n",
            "0  k1   200    30   1.0   6.0\n",
            "1  k2   500    50   NaN   NaN\n",
            "2  k3     0   100   2.0   7.0\n",
            "3  k4   500    20   NaN   NaN\n",
            "4  k5   100    10   3.0   8.0\n"
          ],
          "name": "stdout"
        }
      ]
    },
    {
      "cell_type": "markdown",
      "metadata": {
        "id": "uRmbyjAzFC9k"
      },
      "source": [
        "pd.merge yang ekivalen dengan SQL **right join**"
      ]
    },
    {
      "cell_type": "code",
      "metadata": {
        "colab": {
          "base_uri": "https://localhost:8080/"
        },
        "id": "gN2jpEv9E_rq",
        "outputId": "f5eef5be-eb9a-469e-a759-2c1a0d99e968"
      },
      "source": [
        "# Merge yang ekivalen dengan SQL right join\r\n",
        "merge_df_right = pd.merge(left=df1, right=df2, how='right', left_on='key',right_on='key')\r\n",
        "print('Merge - Right:\\n', merge_df_right)"
      ],
      "execution_count": 85,
      "outputs": [
        {
          "output_type": "stream",
          "text": [
            "Merge - Right:\n",
            "    key   val1   val2  val3  val4\n",
            "0   k1  200.0   30.0     1     6\n",
            "1   k3    0.0  100.0     2     7\n",
            "2   k5  100.0   10.0     3     8\n",
            "3   k7    NaN    NaN     4     8\n",
            "4  k10    NaN    NaN     5    10\n"
          ],
          "name": "stdout"
        }
      ]
    },
    {
      "cell_type": "markdown",
      "metadata": {
        "id": "ViQ0WzAeFaPl"
      },
      "source": [
        "pd.merge yang ekivalen dengan SQL **inner join**"
      ]
    },
    {
      "cell_type": "code",
      "metadata": {
        "colab": {
          "base_uri": "https://localhost:8080/"
        },
        "id": "SO0gaIRiFIN5",
        "outputId": "9f008e9a-60e8-4bc4-bb9c-ff7af2dbc2fa"
      },
      "source": [
        "# Merge yang ekivalen dengan SQL inner join\r\n",
        "merge_df_inner = pd.merge(left=df1, right=df2, how='inner', left_on='key',right_on='key')\r\n",
        "print('Merge - Inner:\\n', merge_df_inner)"
      ],
      "execution_count": 86,
      "outputs": [
        {
          "output_type": "stream",
          "text": [
            "Merge - Inner:\n",
            "   key  val1  val2  val3  val4\n",
            "0  k1   200    30     1     6\n",
            "1  k3     0   100     2     7\n",
            "2  k5   100    10     3     8\n"
          ],
          "name": "stdout"
        }
      ]
    },
    {
      "cell_type": "markdown",
      "metadata": {
        "id": "iZWKyBAtFicO"
      },
      "source": [
        "pd.merge yang ekivalen dengan SQL **outer join**"
      ]
    },
    {
      "cell_type": "code",
      "metadata": {
        "colab": {
          "base_uri": "https://localhost:8080/"
        },
        "id": "9mGhoQcSFfkn",
        "outputId": "c782fb78-4fbe-4641-d0c8-37f1553db651"
      },
      "source": [
        "# Merge yang ekivalen dengan SQL outer join\r\n",
        "merge_df_outer = pd.merge(left=df1, right=df2, how='outer', left_on='key',right_on='key')\r\n",
        "print('Merge - Outer:\\n', merge_df_outer)"
      ],
      "execution_count": 87,
      "outputs": [
        {
          "output_type": "stream",
          "text": [
            "Merge - Outer:\n",
            "    key   val1   val2  val3  val4\n",
            "0   k1  200.0   30.0   1.0   6.0\n",
            "1   k2  500.0   50.0   NaN   NaN\n",
            "2   k3    0.0  100.0   2.0   7.0\n",
            "3   k4  500.0   20.0   NaN   NaN\n",
            "4   k5  100.0   10.0   3.0   8.0\n",
            "5   k7    NaN    NaN   4.0   8.0\n",
            "6  k10    NaN    NaN   5.0  10.0\n"
          ],
          "name": "stdout"
        }
      ]
    },
    {
      "cell_type": "markdown",
      "metadata": {
        "id": "2ancf_v_FqHV"
      },
      "source": [
        "**Tugas Praktek:**\r\n",
        "\r\n",
        "Pada contoh di atas keyword argument left=df1 dan right=df2, untuk praktek gunakanlah keyword argument untuk left dan right masing-masingnya adalah df2 dan df1."
      ]
    },
    {
      "cell_type": "code",
      "metadata": {
        "colab": {
          "base_uri": "https://localhost:8080/"
        },
        "id": "QSX_ns9cFmu1",
        "outputId": "687f1c7d-779e-466e-be30-137bf0ac6fb0"
      },
      "source": [
        "import pandas as pd\r\n",
        "# Buat dataframe df1 dan df2\r\n",
        "df1 = pd.DataFrame({\r\n",
        "   'key':['k1','k2','k3','k4','k5'],\r\n",
        "   'val1':[200, 500, 0, 500, 100],\r\n",
        "   'val2':[30, 50, 100, 20, 10]\r\n",
        "})\r\n",
        "df2 = pd.DataFrame({\r\n",
        "   'key':['k1','k3','k5','k7','k10'],\r\n",
        "   'val3':[1,2,3,4,5],\r\n",
        "   'val4':[6,7,8,8,10]\r\n",
        "})\r\n",
        "# Merge yang ekivalen dengan SQL left join\r\n",
        "merge_df_left = pd.merge(left=df2, right=df1, how='left', left_on='key',right_on='key')\r\n",
        "print('Merge - Left:\\n', merge_df_left)\r\n",
        "\r\n",
        "# Merge yang ekivalen dengan SQL right join\r\n",
        "merge_df_right = pd.merge(left=df2, right=df1, how='right', left_on='key',right_on='key')\r\n",
        "print('Merge - Right:\\n', merge_df_right)\r\n",
        "\r\n",
        "# Merge yang ekivalen dengan SQL inner join\r\n",
        "merge_df_inner = pd.merge(left=df2, right=df1, how='inner', left_on='key',right_on='key')\r\n",
        "print('Merge - Inner:\\n', merge_df_inner)\r\n",
        "\r\n",
        "# Merge yang ekivalen dengan SQL outer join\r\n",
        "merge_df_outer = pd.merge(left=df2, right=df1, how='outer', left_on='key',right_on='key')\r\n",
        "print('Merge - Outer:\\n', merge_df_outer)"
      ],
      "execution_count": 88,
      "outputs": [
        {
          "output_type": "stream",
          "text": [
            "Merge - Left:\n",
            "    key  val3  val4   val1   val2\n",
            "0   k1     1     6  200.0   30.0\n",
            "1   k3     2     7    0.0  100.0\n",
            "2   k5     3     8  100.0   10.0\n",
            "3   k7     4     8    NaN    NaN\n",
            "4  k10     5    10    NaN    NaN\n",
            "Merge - Right:\n",
            "   key  val3  val4  val1  val2\n",
            "0  k1   1.0   6.0   200    30\n",
            "1  k2   NaN   NaN   500    50\n",
            "2  k3   2.0   7.0     0   100\n",
            "3  k4   NaN   NaN   500    20\n",
            "4  k5   3.0   8.0   100    10\n",
            "Merge - Inner:\n",
            "   key  val3  val4  val1  val2\n",
            "0  k1     1     6   200    30\n",
            "1  k3     2     7     0   100\n",
            "2  k5     3     8   100    10\n",
            "Merge - Outer:\n",
            "    key  val3  val4   val1   val2\n",
            "0   k1   1.0   6.0  200.0   30.0\n",
            "1   k3   2.0   7.0    0.0  100.0\n",
            "2   k5   3.0   8.0  100.0   10.0\n",
            "3   k7   4.0   8.0    NaN    NaN\n",
            "4  k10   5.0  10.0    NaN    NaN\n",
            "5   k2   NaN   NaN  500.0   50.0\n",
            "6   k4   NaN   NaN  500.0   20.0\n"
          ],
          "name": "stdout"
        }
      ]
    },
    {
      "cell_type": "markdown",
      "metadata": {
        "id": "4anCZ5zZFxSD"
      },
      "source": [
        "### Merge - Part 2\r\n",
        "Penggunaan method .merge yang telah dipelajari pada part 1 adalah untuk dataframe dengan index tunggal.\r\n",
        "\r\n",
        "Bagaimana jika salah satu dataframe atau keseluruhan dataframe yang akan digabungkan tersebut memiliki multiindex?"
      ]
    },
    {
      "cell_type": "code",
      "metadata": {
        "id": "9y-Ea8zmFuwN",
        "colab": {
          "base_uri": "https://localhost:8080/"
        },
        "outputId": "cf917356-dda6-4397-d5df-38e688cec219"
      },
      "source": [
        "import pandas as pd\r\n",
        "# Buat dataframe df1 dan df2\r\n",
        "df1 = pd.DataFrame({\r\n",
        "   'key':['k1','k2','k3','k4','k5'],\r\n",
        "   'val1':[200, 500, 0, 500, 100],\r\n",
        "   'val2':[30, 50, 100, 20, 10]\r\n",
        "}).set_index(['key','val2'])\r\n",
        "print('Dataframe 1:\\n', df1)\r\n",
        "df2 = pd.DataFrame({\r\n",
        "   'key':['k1','k3','k5','k7','k10'],\r\n",
        "   'val3':[1,2,3,4,5],\r\n",
        "   'val4':[6,7,8,8,10]\r\n",
        "}).set_index(['key','val3'])\r\n",
        "print('Dataframe 2:\\n', df2)"
      ],
      "execution_count": 89,
      "outputs": [
        {
          "output_type": "stream",
          "text": [
            "Dataframe 1:\n",
            "           val1\n",
            "key val2      \n",
            "k1  30     200\n",
            "k2  50     500\n",
            "k3  100      0\n",
            "k4  20     500\n",
            "k5  10     100\n",
            "Dataframe 2:\n",
            "           val4\n",
            "key val3      \n",
            "k1  1        6\n",
            "k3  2        7\n",
            "k5  3        8\n",
            "k7  4        8\n",
            "k10 5       10\n"
          ],
          "name": "stdout"
        }
      ]
    },
    {
      "cell_type": "markdown",
      "metadata": {
        "id": "5KUEuthIHunw"
      },
      "source": [
        "Jika digabungkan secara langsung seperti yang telah dilakukan pada bagian sebelumnya"
      ]
    },
    {
      "cell_type": "code",
      "metadata": {
        "id": "NNvvWztIHtnJ"
      },
      "source": [
        "# Merge dataframe yang memiliki multi index\r\n",
        "# df_merge = pd.merge(df1,df2)\r\n",
        "# print('Merging dataframe:\\n', df_merge)"
      ],
      "execution_count": 90,
      "outputs": []
    },
    {
      "cell_type": "markdown",
      "metadata": {
        "id": "iBQ_1CbNH8Fa"
      },
      "source": [
        "akan menghasilkan terjadi kegagalan dalam merging kedua dataframe yang memiliki multi index.\r\n",
        "\r\n",
        "Cara mengatasinya adalah dengan mereset index pada kedua dataframe, kemudian merge akan mendeteksi common single/multi column di kedua dataframe dan melakukan merge,"
      ]
    },
    {
      "cell_type": "code",
      "metadata": {
        "colab": {
          "base_uri": "https://localhost:8080/"
        },
        "id": "ozs3Yk4yH7aT",
        "outputId": "33615d56-03b8-4219-e9c9-754518394c61"
      },
      "source": [
        "# Merge dataframe yang memiliki multi index\r\n",
        "df_merge = pd.merge(df1.reset_index(),df2.reset_index())\r\n",
        "print('Merging dataframe:\\n', df_merge)"
      ],
      "execution_count": 91,
      "outputs": [
        {
          "output_type": "stream",
          "text": [
            "Merging dataframe:\n",
            "   key  val2  val1  val3  val4\n",
            "0  k1    30   200     1     6\n",
            "1  k3   100     0     2     7\n",
            "2  k5    10   100     3     8\n"
          ],
          "name": "stdout"
        }
      ]
    },
    {
      "cell_type": "markdown",
      "metadata": {
        "id": "XaeKec8tJ7Q-"
      },
      "source": [
        "### Join\r\n",
        "Metthod **.join()** digunakan pada dataframe untuk menggabungkan kedua data dengan set index pada kedua tabel tersebut sebagai join key, tanpa index, hal ini tidak akan berhasil.\r\n"
      ]
    },
    {
      "cell_type": "markdown",
      "metadata": {
        "id": "1SXIfD_uKAI6"
      },
      "source": [
        "Coba  lihat kasusnya"
      ]
    },
    {
      "cell_type": "code",
      "metadata": {
        "id": "CYOFHog9IEVb"
      },
      "source": [
        "import pandas as pd\r\n",
        "# Buat dataframe df1 dan df2\r\n",
        "df1 = pd.DataFrame({\r\n",
        "   'key':['k1','k2','k3','k4','k5'],\r\n",
        "   'val1':[200, 500, 0, 500, 100],\r\n",
        "   'val2':[30, 50, 100, 20, 10]\r\n",
        "})\r\n",
        "df2 = pd.DataFrame({\r\n",
        "   'key':['k1','k3','k5','k7','k10'],\r\n",
        "   'val3':[1,2,3,4,5],\r\n",
        "   'val4':[6,7,8,8,10]\r\n",
        "})\r\n",
        "# Penerapan join dengan menggunakan set_index dan keyword how\r\n",
        "# df1.join(df2) #<-- akan error"
      ],
      "execution_count": 92,
      "outputs": []
    },
    {
      "cell_type": "markdown",
      "metadata": {
        "id": "JqnCDA6NKVFp"
      },
      "source": [
        "Untuk itu, jika dilakukan seperti ini"
      ]
    },
    {
      "cell_type": "code",
      "metadata": {
        "colab": {
          "base_uri": "https://localhost:8080/"
        },
        "id": "FIZ4gv0tKSV1",
        "outputId": "cee986ea-e054-441f-91c1-a915ec7695c1"
      },
      "source": [
        "print(df1.set_index('key').join(df2.set_index('key')))"
      ],
      "execution_count": 93,
      "outputs": [
        {
          "output_type": "stream",
          "text": [
            "     val1  val2  val3  val4\n",
            "key                        \n",
            "k1    200    30   1.0   6.0\n",
            "k2    500    50   NaN   NaN\n",
            "k3      0   100   2.0   7.0\n",
            "k4    500    20   NaN   NaN\n",
            "k5    100    10   3.0   8.0\n"
          ],
          "name": "stdout"
        }
      ]
    },
    {
      "cell_type": "markdown",
      "metadata": {
        "id": "4AJGd9VLKnJb"
      },
      "source": [
        "secara default, fungsi join ini akan mengeksekusi left join."
      ]
    },
    {
      "cell_type": "markdown",
      "metadata": {
        "id": "UVuCe7Q-KqIr"
      },
      "source": [
        "Untuk tipe join yang lain (contoh=inner), harus menspecify keyword how='inner' seperti yang dicontohkan berikut ini"
      ]
    },
    {
      "cell_type": "code",
      "metadata": {
        "colab": {
          "base_uri": "https://localhost:8080/"
        },
        "id": "uZJUfDa8KkYp",
        "outputId": "3d7ca54a-6f2d-46b9-e1ee-de6f300912d7"
      },
      "source": [
        "join_df = df1.set_index('key').join(df2.set_index('key'), how='inner')\r\n",
        "print(join_df)"
      ],
      "execution_count": 94,
      "outputs": [
        {
          "output_type": "stream",
          "text": [
            "     val1  val2  val3  val4\n",
            "key                        \n",
            "k1    200    30     1     6\n",
            "k3      0   100     2     7\n",
            "k5    100    10     3     8\n"
          ],
          "name": "stdout"
        }
      ]
    },
    {
      "cell_type": "markdown",
      "metadata": {
        "id": "1d6HFWT5LAAv"
      },
      "source": [
        "**Tugas Praktek**:\r\n",
        "\r\n",
        "Lakukanlah seperti yang dicontohkan tetapi penggabungan dengan method join berupa outer join.\r\n"
      ]
    },
    {
      "cell_type": "code",
      "metadata": {
        "colab": {
          "base_uri": "https://localhost:8080/"
        },
        "id": "3h5r49nxK84e",
        "outputId": "fca88176-a7f7-4191-b762-1869e62742e0"
      },
      "source": [
        "import pandas as pd\r\n",
        "# Buat dataframe df1 dan df2\r\n",
        "df1 = pd.DataFrame({\r\n",
        "   'key':['k1','k2','k3','k4','k5'],\r\n",
        "   'val1':[200, 500, 0, 500, 100],\r\n",
        "   'val2':[30, 50, 100, 20, 10]\r\n",
        "})\r\n",
        "df2 = pd.DataFrame({\r\n",
        "   'key':['k1','k3','k5','k7','k10'],\r\n",
        "   'val3':[1,2,3,4,5],\r\n",
        "   'val4':[6,7,8,8,10]\r\n",
        "})\r\n",
        "# Penerapan join dengan menggunakan set_index dan keyword how\r\n",
        "join_df = df1.set_index('key').join(df2.set_index('key'), how='outer')\r\n",
        "print(join_df)"
      ],
      "execution_count": 95,
      "outputs": [
        {
          "output_type": "stream",
          "text": [
            "      val1   val2  val3  val4\n",
            "key                          \n",
            "k1   200.0   30.0   1.0   6.0\n",
            "k10    NaN    NaN   5.0  10.0\n",
            "k2   500.0   50.0   NaN   NaN\n",
            "k3     0.0  100.0   2.0   7.0\n",
            "k4   500.0   20.0   NaN   NaN\n",
            "k5   100.0   10.0   3.0   8.0\n",
            "k7     NaN    NaN   4.0   8.0\n"
          ],
          "name": "stdout"
        }
      ]
    },
    {
      "cell_type": "markdown",
      "metadata": {
        "id": "n7ku6uzPMXpj"
      },
      "source": [
        "## **Pivot, Melt, Stack & Unstack**"
      ]
    },
    {
      "cell_type": "markdown",
      "metadata": {
        "id": "7-in9OfyM2N3"
      },
      "source": [
        "### Pendahuluan\r\n",
        "Kotak masuk emailku tak hentinya menerima sejumlah link baru dari Andra untuk bab-bab yang akan kupelajari di modul Pandas part 2 ini. Banyak sekali referensi dari Andra!\r\n",
        "\r\n",
        "“Pivot, Melt, Stack, dan Unstack, apa ini?” gumamku sendiri membaca subject email Andra.\r\n",
        "\r\n",
        "Aku pun bergegas mengaksesnya:\r\n",
        "\r\n",
        "Reference: https://pandas.pydata.org/pandas-docs/stable/user_guide/reshaping.html\r\n",
        "\r\n",
        " \r\n",
        "\r\n",
        "Melakukan format ulang pada dataset itu sangatlah penting, biasanya hal ini dilakukan untuk mengetahui keseluruhan data secara cepat dengan chart atau visualisasi. Untuk orang yang sudah mahir menggunakan spreadsheet pastilah tau banyak tentang fitur pivot ini.\r\n",
        "\r\n",
        "Di Pandas, ada beberapa teknik untuk melakukan pivot atau unpivot yang biasa disebut as melt di Pandas, terdapat pula konsep stack yang artinya menumpuk data dengan kolom yang lebih sedikit (stack) sama seperti konsep melt dan ada pula yang memperluas data dengan kolom yang lebih banyak (unstack) sama seperti konsep pivot.\r\n",
        "\r\n",
        " "
      ]
    },
    {
      "cell_type": "markdown",
      "metadata": {
        "id": "H4iVAn5VQs77"
      },
      "source": [
        "### Dataset\r\n",
        "Untuk memahami konsep pivot, melt, stack, dan unstack pada Pandas mari persiapkan dataset sederhana terlebih dahulu."
      ]
    },
    {
      "cell_type": "code",
      "metadata": {
        "colab": {
          "base_uri": "https://localhost:8080/"
        },
        "id": "bfFA_I6ALjt1",
        "outputId": "6d3e9d2a-d9cc-4c46-fe61-23d26763fa36"
      },
      "source": [
        "import pandas as pd\r\n",
        "# Dataframe\r\n",
        "data = pd.DataFrame({\r\n",
        "  'kelas': 6*['A'] + 6*['B'],\r\n",
        "  'murid': 2*['A1'] + 2*['A2'] + 2*['A3'] + 2*['B1'] + 2*['B2'] + 2*['B3'],\r\n",
        "  'pelajaran': 6*['math','english'],\r\n",
        "  'nilai': [90,60,70,85,50,60,100,40,95,80,60,45]\r\n",
        "}, columns=['kelas','murid','pelajaran','nilai'])\r\n",
        "print(\"Data:\\n\", data)\r\n",
        "# Ukuran dataframe \r\n",
        "print('Data terdiri atas %d baris dan %d kolom.' % data.shape)"
      ],
      "execution_count": 96,
      "outputs": [
        {
          "output_type": "stream",
          "text": [
            "Data:\n",
            "    kelas murid pelajaran  nilai\n",
            "0      A    A1      math     90\n",
            "1      A    A1   english     60\n",
            "2      A    A2      math     70\n",
            "3      A    A2   english     85\n",
            "4      A    A3      math     50\n",
            "5      A    A3   english     60\n",
            "6      B    B1      math    100\n",
            "7      B    B1   english     40\n",
            "8      B    B2      math     95\n",
            "9      B    B2   english     80\n",
            "10     B    B3      math     60\n",
            "11     B    B3   english     45\n",
            "Data terdiri atas 12 baris dan 4 kolom.\n"
          ],
          "name": "stdout"
        }
      ]
    },
    {
      "cell_type": "markdown",
      "metadata": {
        "id": "fKmDW41fRj40"
      },
      "source": [
        "**Tugas Praktek:**\r\n",
        "\r\n",
        "Carilah unique records/value pada keempat kolom dataframe 'data'."
      ]
    },
    {
      "cell_type": "code",
      "metadata": {
        "colab": {
          "base_uri": "https://localhost:8080/"
        },
        "id": "wq3mGYfDRX2c",
        "outputId": "f133853f-0789-4e88-d9b3-64bebccd7607"
      },
      "source": [
        "import pandas as pd\r\n",
        "# Dataframe\r\n",
        "data = pd.DataFrame({\r\n",
        "  'kelas': 6*['A'] + 6*['B'],\r\n",
        "  'murid': 2*['A1'] + 2*['A2'] + 2*['A3'] + 2*['B1'] + 2*['B2'] + 2*['B3'],\r\n",
        "  'pelajaran': 6*['math','english'],\r\n",
        "  'nilai': [90,60,70,85,50,60,100,40,95,80,60,45]\r\n",
        "}, columns=['kelas','murid','pelajaran','nilai'])\r\n",
        "# Unique value pada setiap kolom data\r\n",
        "for column in data.columns:\r\n",
        "\tprint('Unique value %s: %s' % (column, data[column].unique()))"
      ],
      "execution_count": 97,
      "outputs": [
        {
          "output_type": "stream",
          "text": [
            "Unique value kelas: ['A' 'B']\n",
            "Unique value murid: ['A1' 'A2' 'A3' 'B1' 'B2' 'B3']\n",
            "Unique value pelajaran: ['math' 'english']\n",
            "Unique value nilai: [ 90  60  70  85  50 100  40  95  80  45]\n"
          ],
          "name": "stdout"
        }
      ]
    },
    {
      "cell_type": "markdown",
      "metadata": {
        "id": "5HajAArxo58X"
      },
      "source": [
        "### Pivot\r\n",
        "Untuk menerapkan menerapkan method .pivot() pada dataframe dapat dilakukan pada dataframe yang miliki index tunggal ataupun indexnya adalah multiindex.\r\n",
        "\r\n",
        "\r\n",
        "Untuk dataset yang masih sama, yaitu data."
      ]
    },
    {
      "cell_type": "code",
      "metadata": {
        "id": "MKZZNdzSR2tr"
      },
      "source": [
        "import pandas as pd\r\n",
        "# Dataframe\r\n",
        "data = pd.DataFrame({\r\n",
        "  'kelas': 6*['A'] + 6*['B'],\r\n",
        "  'murid': 2*['A1'] + 2*['A2'] + 2*['A3'] + 2*['B1'] + 2*['B2'] + 2*['B3'],\r\n",
        "  'pelajaran': 6*['math','english'],\r\n",
        "  'nilai': [90,60,70,85,50,60,100,40,95,80,60,45]\r\n",
        "}, columns=['kelas','murid','pelajaran','nilai'])"
      ],
      "execution_count": 98,
      "outputs": []
    },
    {
      "cell_type": "code",
      "metadata": {
        "id": "EdRfc-mRpGVA",
        "colab": {
          "base_uri": "https://localhost:8080/",
          "height": 421
        },
        "outputId": "9c2e2ae1-754a-415b-a444-47665e9c3c13"
      },
      "source": [
        "data"
      ],
      "execution_count": 99,
      "outputs": [
        {
          "output_type": "execute_result",
          "data": {
            "text/html": [
              "<div>\n",
              "<style scoped>\n",
              "    .dataframe tbody tr th:only-of-type {\n",
              "        vertical-align: middle;\n",
              "    }\n",
              "\n",
              "    .dataframe tbody tr th {\n",
              "        vertical-align: top;\n",
              "    }\n",
              "\n",
              "    .dataframe thead th {\n",
              "        text-align: right;\n",
              "    }\n",
              "</style>\n",
              "<table border=\"1\" class=\"dataframe\">\n",
              "  <thead>\n",
              "    <tr style=\"text-align: right;\">\n",
              "      <th></th>\n",
              "      <th>kelas</th>\n",
              "      <th>murid</th>\n",
              "      <th>pelajaran</th>\n",
              "      <th>nilai</th>\n",
              "    </tr>\n",
              "  </thead>\n",
              "  <tbody>\n",
              "    <tr>\n",
              "      <th>0</th>\n",
              "      <td>A</td>\n",
              "      <td>A1</td>\n",
              "      <td>math</td>\n",
              "      <td>90</td>\n",
              "    </tr>\n",
              "    <tr>\n",
              "      <th>1</th>\n",
              "      <td>A</td>\n",
              "      <td>A1</td>\n",
              "      <td>english</td>\n",
              "      <td>60</td>\n",
              "    </tr>\n",
              "    <tr>\n",
              "      <th>2</th>\n",
              "      <td>A</td>\n",
              "      <td>A2</td>\n",
              "      <td>math</td>\n",
              "      <td>70</td>\n",
              "    </tr>\n",
              "    <tr>\n",
              "      <th>3</th>\n",
              "      <td>A</td>\n",
              "      <td>A2</td>\n",
              "      <td>english</td>\n",
              "      <td>85</td>\n",
              "    </tr>\n",
              "    <tr>\n",
              "      <th>4</th>\n",
              "      <td>A</td>\n",
              "      <td>A3</td>\n",
              "      <td>math</td>\n",
              "      <td>50</td>\n",
              "    </tr>\n",
              "    <tr>\n",
              "      <th>5</th>\n",
              "      <td>A</td>\n",
              "      <td>A3</td>\n",
              "      <td>english</td>\n",
              "      <td>60</td>\n",
              "    </tr>\n",
              "    <tr>\n",
              "      <th>6</th>\n",
              "      <td>B</td>\n",
              "      <td>B1</td>\n",
              "      <td>math</td>\n",
              "      <td>100</td>\n",
              "    </tr>\n",
              "    <tr>\n",
              "      <th>7</th>\n",
              "      <td>B</td>\n",
              "      <td>B1</td>\n",
              "      <td>english</td>\n",
              "      <td>40</td>\n",
              "    </tr>\n",
              "    <tr>\n",
              "      <th>8</th>\n",
              "      <td>B</td>\n",
              "      <td>B2</td>\n",
              "      <td>math</td>\n",
              "      <td>95</td>\n",
              "    </tr>\n",
              "    <tr>\n",
              "      <th>9</th>\n",
              "      <td>B</td>\n",
              "      <td>B2</td>\n",
              "      <td>english</td>\n",
              "      <td>80</td>\n",
              "    </tr>\n",
              "    <tr>\n",
              "      <th>10</th>\n",
              "      <td>B</td>\n",
              "      <td>B3</td>\n",
              "      <td>math</td>\n",
              "      <td>60</td>\n",
              "    </tr>\n",
              "    <tr>\n",
              "      <th>11</th>\n",
              "      <td>B</td>\n",
              "      <td>B3</td>\n",
              "      <td>english</td>\n",
              "      <td>45</td>\n",
              "    </tr>\n",
              "  </tbody>\n",
              "</table>\n",
              "</div>"
            ],
            "text/plain": [
              "   kelas murid pelajaran  nilai\n",
              "0      A    A1      math     90\n",
              "1      A    A1   english     60\n",
              "2      A    A2      math     70\n",
              "3      A    A2   english     85\n",
              "4      A    A3      math     50\n",
              "5      A    A3   english     60\n",
              "6      B    B1      math    100\n",
              "7      B    B1   english     40\n",
              "8      B    B2      math     95\n",
              "9      B    B2   english     80\n",
              "10     B    B3      math     60\n",
              "11     B    B3   english     45"
            ]
          },
          "metadata": {
            "tags": []
          },
          "execution_count": 99
        }
      ]
    },
    {
      "cell_type": "markdown",
      "metadata": {
        "id": "TDIDwOpIpKRf"
      },
      "source": [
        "**Pivoting** dengan **single column** measurement"
      ]
    },
    {
      "cell_type": "code",
      "metadata": {
        "id": "NN3thP44pINv",
        "colab": {
          "base_uri": "https://localhost:8080/"
        },
        "outputId": "196cca8d-3c01-4598-a59e-4148dd1f4f91"
      },
      "source": [
        "# Pivoting with single column measurement\r\n",
        "pivot1 = data.pivot(index='murid', columns='pelajaran', values='nilai')\r\n",
        "print('Pivoting with single columns measurement:\\n', pivot1)"
      ],
      "execution_count": 100,
      "outputs": [
        {
          "output_type": "stream",
          "text": [
            "Pivoting with single columns measurement:\n",
            " pelajaran  english  math\n",
            "murid                   \n",
            "A1              60    90\n",
            "A2              85    70\n",
            "A3              60    50\n",
            "B1              40   100\n",
            "B2              80    95\n",
            "B3              45    60\n"
          ],
          "name": "stdout"
        }
      ]
    },
    {
      "cell_type": "markdown",
      "metadata": {
        "id": "Cw8NnXSLpzSZ"
      },
      "source": [
        "**Pivoting** dengan **multiple column** measurement"
      ]
    },
    {
      "cell_type": "code",
      "metadata": {
        "id": "uwBwEGrIpomk",
        "colab": {
          "base_uri": "https://localhost:8080/"
        },
        "outputId": "8fa57ecd-9ea2-45ea-e0fa-e4a47b4aa07f"
      },
      "source": [
        "# Pivoting with multiple column measurement\r\n",
        "pivot2 = data.pivot(index='murid', columns='pelajaran')\r\n",
        "print('Pivoting with single columns measurement:\\n', pivot2)"
      ],
      "execution_count": 101,
      "outputs": [
        {
          "output_type": "stream",
          "text": [
            "Pivoting with single columns measurement:\n",
            "             kelas        nilai     \n",
            "pelajaran english math english math\n",
            "murid                              \n",
            "A1              A    A      60   90\n",
            "A2              A    A      85   70\n",
            "A3              A    A      60   50\n",
            "B1              B    B      40  100\n",
            "B2              B    B      80   95\n",
            "B3              B    B      45   60\n"
          ],
          "name": "stdout"
        }
      ]
    },
    {
      "cell_type": "markdown",
      "metadata": {
        "id": "xx_Pw7CSqJH4"
      },
      "source": [
        "**Penjelasan:**\r\n",
        "\r\n",
        "Apa yang berbeda dari kedua code di atas? Pada code pertama di specify values mana yang akan dilakukan pivot sedangkan di kedua tidak specific mana yang akan dilakukan pivot maka Pandas secara default men-treat kolom yang ada selain yang telah di specify as index dan columns as values instead."
      ]
    },
    {
      "cell_type": "markdown",
      "metadata": {
        "id": "-SBQFOSwrH9Q"
      },
      "source": [
        "### Pivot_table\r\n",
        "Apa yang terjadi kalau output pivot tabel memiliki duplicate index? Seperti yang diketahui, index di dataframe adalah unique identifier untuk setiap row, jadi tidak boleh ada duplikat dan setiap membuat pivot tabel, harus specify index as kolom yang mana dan columns nya memakai kolom yang mana.\r\n",
        "\r\n",
        "Perhatikan contoh yang diilustrasikan berikut ini\r\n"
      ]
    },
    {
      "cell_type": "code",
      "metadata": {
        "id": "oiG7Dt_jqD1t"
      },
      "source": [
        "import pandas as pd\r\n",
        "# Dataframe\r\n",
        "data = pd.DataFrame({\r\n",
        "  'kelas': 6*['A'] + 6*['B'],\r\n",
        "  'murid': 2*['A1'] + 2*['A2'] + 2*['A3'] + 2*['B1'] + 2*['B2'] + 2*['B3'],\r\n",
        "  'pelajaran': 6*['math','english'],\r\n",
        "  'nilai': [90,60,70,85,50,60,100,40,95,80,60,45]\r\n",
        "}, columns=['kelas','murid','pelajaran','nilai'])\r\n",
        "# Creating pivot and assign pivot_tab\r\n",
        "#pivot_tab = data.pivot(index='kelas',columns='pelajaran',values='nilai')\r\n",
        "#print('Creating pivot table:\\n', pivot_tab)"
      ],
      "execution_count": 102,
      "outputs": []
    },
    {
      "cell_type": "markdown",
      "metadata": {
        "id": "mC5xKu57saeV"
      },
      "source": [
        "* Code diatas akan menghasilkan error"
      ]
    },
    {
      "cell_type": "markdown",
      "metadata": {
        "id": "bvJRfaXAsWEY"
      },
      "source": [
        "Hal ini dapat diatasi dengan melakukan method **.pivot_table()** pada dataframe. Metode ini sama seperti melakukan pivot pada tabel tapi juga melakukan **groupby** dan **aggregation** (aggfunc) pada level rows sehingga dipastikan tidak ada duplicate index di rows (secara default aggfunc = 'mean').\r\n",
        "\r\n",
        "Perhatikan cuplikan berikut ini"
      ]
    },
    {
      "cell_type": "code",
      "metadata": {
        "id": "zj5_MR0ksBBJ",
        "colab": {
          "base_uri": "https://localhost:8080/"
        },
        "outputId": "39e3d4b6-7f03-4a71-f12f-042890e21053"
      },
      "source": [
        "# Creating pivot and assign pivot_tab dengan menggunakan keyword aggfunc\r\n",
        "pivot_tab = data.pivot_table(index='kelas',columns='pelajaran',values='nilai',aggfunc=sum)\r\n",
        "print('Creating pivot table:\\n', pivot_tab)"
      ],
      "execution_count": 103,
      "outputs": [
        {
          "output_type": "stream",
          "text": [
            "Creating pivot table:\n",
            " pelajaran  english  math\n",
            "kelas                   \n",
            "A              205   210\n",
            "B              165   255\n"
          ],
          "name": "stdout"
        }
      ]
    },
    {
      "cell_type": "markdown",
      "metadata": {
        "id": "u1JVlvk7-exV"
      },
      "source": [
        "Keyword **aggfunc **yang digunakan pada method **.pivot_table()** dapat menggunakan nilai berikut:\r\n",
        "\r\n",
        "* sum\r\n",
        "* 'mean'\r\n",
        "* 'median'"
      ]
    },
    {
      "cell_type": "markdown",
      "metadata": {
        "id": "-emU3cMZ-muV"
      },
      "source": [
        "**Tugas Praktek**:\r\n",
        "\r\n",
        "Seperti yang dicontohkan untuk meng-create pivot tabel dengan method .pivot_table() tetapi aggfunc yang digunakan adalah **'mean'** dan **'median'**."
      ]
    },
    {
      "cell_type": "code",
      "metadata": {
        "id": "xpIZFWQftR5h",
        "colab": {
          "base_uri": "https://localhost:8080/"
        },
        "outputId": "b6871ea8-72cd-4a22-a1a0-1c05f5a5412e"
      },
      "source": [
        "import pandas as pd\r\n",
        "# Dataframe\r\n",
        "data = pd.DataFrame({\r\n",
        "  'kelas': 6*['A'] + 6*['B'],\r\n",
        "  'murid': 2*['A1'] + 2*['A2'] + 2*['A3'] + 2*['B1'] + 2*['B2'] + 2*['B3'],\r\n",
        "  'pelajaran': 6*['math','english'],\r\n",
        "  'nilai': [90,60,70,85,50,60,100,40,95,80,60,45]\r\n",
        "}, columns=['kelas','murid','pelajaran','nilai'])\r\n",
        "# Creating pivot and assign pivot_tab dengan menggunakan keyword aggfunc='mean'\r\n",
        "pivot_tab_mean = data.pivot_table(index='kelas',columns='pelajaran',values='nilai',aggfunc='mean')\r\n",
        "print('Creating pivot table -- aggfunc mean:\\n', pivot_tab_mean)\r\n",
        "# Creating pivot and assign pivot_tab dengan menggunakan keyword aggfunc='median'\r\n",
        "pivot_tab_median = data.pivot_table(index='kelas',columns='pelajaran',values='nilai',aggfunc='median')\r\n",
        "print('Creating pivot table -- aggfunc median:\\n', pivot_tab_median)"
      ],
      "execution_count": 104,
      "outputs": [
        {
          "output_type": "stream",
          "text": [
            "Creating pivot table -- aggfunc mean:\n",
            " pelajaran    english  math\n",
            "kelas                     \n",
            "A          68.333333  70.0\n",
            "B          55.000000  85.0\n",
            "Creating pivot table -- aggfunc median:\n",
            " pelajaran  english  math\n",
            "kelas                   \n",
            "A               60    70\n",
            "B               45    95\n"
          ],
          "name": "stdout"
        }
      ]
    },
    {
      "cell_type": "markdown",
      "metadata": {
        "id": "0tFwEy_I-yx-"
      },
      "source": [
        "### Melt - Part 1\r\n",
        "Teknik melt melalui **pd.melt()** digunakan untuk mengembalikan kondisi data yang sudah dilakukan pivot menjadi sebelum pivot.\r\n",
        "\r\n",
        "Mari diperhatikan kembali dataframe yang telah digunakan sebelumnya dan dataframenya sudah dipivot."
      ]
    },
    {
      "cell_type": "code",
      "metadata": {
        "colab": {
          "base_uri": "https://localhost:8080/"
        },
        "id": "CwPvheH0-sHH",
        "outputId": "7f1bb622-a679-4a4e-b10a-17ac4e26746b"
      },
      "source": [
        "import pandas as pd\r\n",
        "# Dataframe\r\n",
        "data = pd.DataFrame({\r\n",
        "  'kelas': 6*['A'] + 6*['B'],\r\n",
        "  'murid': 2*['A1'] + 2*['A2'] + 2*['A3'] + 2*['B1'] + 2*['B2'] + 2*['B3'],\r\n",
        "  'pelajaran': 6*['math','english'],\r\n",
        "  'nilai': [90,60,70,85,50,60,100,40,95,80,60,45]\r\n",
        "}, columns=['kelas','murid','pelajaran','nilai'])\r\n",
        "# Pivoting dataframe\r\n",
        "data_pivot = data.pivot_table(index='kelas',columns='pelajaran',values='nilai',aggfunc='mean').reset_index()\r\n",
        "print('Pivoting dataframe:\\n', data_pivot)"
      ],
      "execution_count": 105,
      "outputs": [
        {
          "output_type": "stream",
          "text": [
            "Pivoting dataframe:\n",
            " pelajaran kelas    english  math\n",
            "0             A  68.333333  70.0\n",
            "1             B  55.000000  85.0\n"
          ],
          "name": "stdout"
        }
      ]
    },
    {
      "cell_type": "markdown",
      "metadata": {
        "id": "gZSf1HDw-9T5"
      },
      "source": [
        "Akan melakukan teknik melting pada dataframe output di atas.\r\n",
        "\r\n",
        "**[1]** Melting dataframe"
      ]
    },
    {
      "cell_type": "code",
      "metadata": {
        "colab": {
          "base_uri": "https://localhost:8080/"
        },
        "id": "QtkJWu37-6ci",
        "outputId": "7685fe48-4607-4f7a-c1df-a8d7b5fb4c36"
      },
      "source": [
        "# [1] Melting dataframe data_pivot\r\n",
        "data_melt_1 = pd.melt(data_pivot)\r\n",
        "print('Melting dataframe:\\n', data_melt_1)"
      ],
      "execution_count": 106,
      "outputs": [
        {
          "output_type": "stream",
          "text": [
            "Melting dataframe:\n",
            "   pelajaran    value\n",
            "0     kelas        A\n",
            "1     kelas        B\n",
            "2   english  68.3333\n",
            "3   english       55\n",
            "4      math       70\n",
            "5      math       85\n"
          ],
          "name": "stdout"
        }
      ]
    },
    {
      "cell_type": "markdown",
      "metadata": {
        "id": "b5VwKrNC_Cqy"
      },
      "source": [
        "**[2]** Dengan menspesifikasi keyword argument **id_vars** yang ditujukan untuk membuat fix kolom yang sebagai id tiap barisnya"
      ]
    },
    {
      "cell_type": "code",
      "metadata": {
        "colab": {
          "base_uri": "https://localhost:8080/"
        },
        "id": "5NZfsUfC_B14",
        "outputId": "1738d856-285e-4a8e-feda-c445e92dc9b6"
      },
      "source": [
        "# [2] Melting dataframe data_pivot dengan id_vars\r\n",
        "data_melt_2 = pd.melt(data_pivot, id_vars='kelas')\r\n",
        "print('Melting dataframe dengan idvars:\\n', data_melt_2)"
      ],
      "execution_count": 107,
      "outputs": [
        {
          "output_type": "stream",
          "text": [
            "Melting dataframe dengan idvars:\n",
            "   kelas pelajaran      value\n",
            "0     A   english  68.333333\n",
            "1     B   english  55.000000\n",
            "2     A      math  70.000000\n",
            "3     B      math  85.000000\n"
          ],
          "name": "stdout"
        }
      ]
    },
    {
      "cell_type": "markdown",
      "metadata": {
        "id": "25eeJvpg_Ndp"
      },
      "source": [
        "**Tugas Praktek**:\r\n",
        "\r\n",
        "Kerjakanlah di code editor dengan cara mengisi kode yang tidak lengkap (_ _ _) sesuai dengan yang telah dicontohkan."
      ]
    },
    {
      "cell_type": "code",
      "metadata": {
        "colab": {
          "base_uri": "https://localhost:8080/"
        },
        "id": "_f3kd9L5_J_E",
        "outputId": "deb9895c-c08e-4539-a285-8ad49c1dffc1"
      },
      "source": [
        "import pandas as pd\r\n",
        "# Dataframe\r\n",
        "data = pd.DataFrame({\r\n",
        "  'kelas': 6*['A'] + 6*['B'],\r\n",
        "  'murid': 2*['A1'] + 2*['A2'] + 2*['A3'] + 2*['B1'] + 2*['B2'] + 2*['B3'],\r\n",
        "  'pelajaran': 6*['math','english'],\r\n",
        "  'nilai': [90,60,70,85,50,60,100,40,95,80,60,45]\r\n",
        "}, columns=['kelas','murid','pelajaran','nilai'])\r\n",
        "# Pivoting dataframe\r\n",
        "data_pivot = data.pivot_table(index='kelas',columns='pelajaran',values='nilai',aggfunc='mean').reset_index()\r\n",
        "print('Pivoting dataframe:\\n', data_pivot)\r\n",
        "# [1] Melting dataframe data_pivot\r\n",
        "data_melt_1 = pd.melt(data_pivot)\r\n",
        "print('Melting dataframe:\\n', data_melt_1)\r\n",
        "# [2] Melting dataframe data_pivot dengan id_vars\r\n",
        "data_melt_2 = pd.melt(data_pivot, id_vars='kelas')\r\n",
        "print('Melting dataframe dengan idvars:\\n', data_melt_2)"
      ],
      "execution_count": 108,
      "outputs": [
        {
          "output_type": "stream",
          "text": [
            "Pivoting dataframe:\n",
            " pelajaran kelas    english  math\n",
            "0             A  68.333333  70.0\n",
            "1             B  55.000000  85.0\n",
            "Melting dataframe:\n",
            "   pelajaran    value\n",
            "0     kelas        A\n",
            "1     kelas        B\n",
            "2   english  68.3333\n",
            "3   english       55\n",
            "4      math       70\n",
            "5      math       85\n",
            "Melting dataframe dengan idvars:\n",
            "   kelas pelajaran      value\n",
            "0     A   english  68.333333\n",
            "1     B   english  55.000000\n",
            "2     A      math  70.000000\n",
            "3     B      math  85.000000\n"
          ],
          "name": "stdout"
        }
      ]
    },
    {
      "cell_type": "markdown",
      "metadata": {
        "id": "Jyl1_5zB_SH1"
      },
      "source": [
        "### Melt - Part 2\r\n",
        "Mari melanjutkan ke bagian kedua dari penggunaan teknik melt ini. Mari lihat kembali dataframe yang telah diperoleh melalui pivoting"
      ]
    },
    {
      "cell_type": "code",
      "metadata": {
        "colab": {
          "base_uri": "https://localhost:8080/"
        },
        "id": "MewQjDBm_RD6",
        "outputId": "9bc97871-9a98-492f-a7d5-2f88b329b044"
      },
      "source": [
        "import pandas as pd\r\n",
        "# Dataframe\r\n",
        "data = pd.DataFrame({\r\n",
        "  'kelas': 6*['A'] + 6*['B'],\r\n",
        "  'murid': 2*['A1'] + 2*['A2'] + 2*['A3'] + 2*['B1'] + 2*['B2'] + 2*['B3'],\r\n",
        "  'pelajaran': 6*['math','english'],\r\n",
        "  'nilai': [90,60,70,85,50,60,100,40,95,80,60,45]\r\n",
        "}, columns=['kelas','murid','pelajaran','nilai'])\r\n",
        "# Pivoting dataframe\r\n",
        "data_pivot = data.pivot_table(index='kelas',columns='pelajaran',values='nilai', aggfunc='mean').reset_index()\r\n",
        "print('Pivoting dataframe:\\n', data_pivot)"
      ],
      "execution_count": 109,
      "outputs": [
        {
          "output_type": "stream",
          "text": [
            "Pivoting dataframe:\n",
            " pelajaran kelas    english  math\n",
            "0             A  68.333333  70.0\n",
            "1             B  55.000000  85.0\n"
          ],
          "name": "stdout"
        }
      ]
    },
    {
      "cell_type": "markdown",
      "metadata": {
        "id": "N0bFp-Qd_cy4"
      },
      "source": [
        "Lanjutkan dengan melakukan teknik melting pada dataframe output di atas untuk keyword argumen lainnya, yaitu"
      ]
    },
    {
      "cell_type": "markdown",
      "metadata": {
        "id": "ZH8oBnCC_gTN"
      },
      "source": [
        "**[3]** Dengan menspesifikasikan keyword argument **value_vars** yang digunakan untuk menampilkan variasi value apa saja yang perlu dimunculkan di kolom variable. "
      ]
    },
    {
      "cell_type": "code",
      "metadata": {
        "colab": {
          "base_uri": "https://localhost:8080/"
        },
        "id": "qhKrDWvN_b5_",
        "outputId": "cd226b59-f6a9-4884-ead9-7a27c9fcd64c"
      },
      "source": [
        "# [3.a] Melting dataframe data_pivot dengan value_vars\r\n",
        "data_melt_3a = pd.melt(data_pivot, value_vars=['math'])\r\n",
        "print('Melting dataframe dengan value_vars:\\n', data_melt_3a)\r\n",
        "# [3.b] Melting dataframe data_pivot dengan id_vars dan value_vars\r\n",
        "data_melt_3b = pd.melt(data_pivot, id_vars='kelas', value_vars=['math'])\r\n",
        "print('Melting dataframe dengan id_vars dan value_vars:\\n', data_melt_3b)"
      ],
      "execution_count": 110,
      "outputs": [
        {
          "output_type": "stream",
          "text": [
            "Melting dataframe dengan value_vars:\n",
            "   pelajaran  value\n",
            "0      math   70.0\n",
            "1      math   85.0\n",
            "Melting dataframe dengan id_vars dan value_vars:\n",
            "   kelas pelajaran  value\n",
            "0     A      math   70.0\n",
            "1     B      math   85.0\n"
          ],
          "name": "stdout"
        }
      ]
    },
    {
      "cell_type": "markdown",
      "metadata": {
        "id": "OhxOaJsR_nUW"
      },
      "source": [
        "**[4]** Dengan spesifikasikan keyword argument **var_name** dan **value_name** yang digunakan untuk menampilkan nama kolom untuk variable dan value"
      ]
    },
    {
      "cell_type": "code",
      "metadata": {
        "colab": {
          "base_uri": "https://localhost:8080/"
        },
        "id": "vln7khH__mg1",
        "outputId": "b980a091-c27b-4348-e8ef-b920a4b7737a"
      },
      "source": [
        "# [4] Melting dataframe data_pivot dengan id_vars, value_vars, var_name. dan value_name\r\n",
        "data_melt_4 = pd.melt(data_pivot, id_vars='kelas', value_vars=['english','math'], var_name='pelajaran', value_name='nilai')\r\n",
        "print('Melting dataframe dengan id_vars, value_vars, var_name. dan value_name:\\n', data_melt_4)"
      ],
      "execution_count": 111,
      "outputs": [
        {
          "output_type": "stream",
          "text": [
            "Melting dataframe dengan id_vars, value_vars, var_name. dan value_name:\n",
            "   kelas pelajaran      nilai\n",
            "0     A   english  68.333333\n",
            "1     B   english  55.000000\n",
            "2     A      math  70.000000\n",
            "3     B      math  85.000000\n"
          ],
          "name": "stdout"
        }
      ]
    },
    {
      "cell_type": "markdown",
      "metadata": {
        "id": "d_1tK-D7_xA8"
      },
      "source": [
        "**Tugas Praktek**:\r\n",
        "\r\n",
        "Kerjakanlah di code editor dengan jalan mengisi kode yang tidak lengkap (_ _ _) sesuai dengan yang telah dicontohkan."
      ]
    },
    {
      "cell_type": "code",
      "metadata": {
        "colab": {
          "base_uri": "https://localhost:8080/"
        },
        "id": "dOV1wMg3_vCg",
        "outputId": "49bc1bc1-1d44-4973-ff5b-5aa89c199458"
      },
      "source": [
        "import pandas as pd\r\n",
        "# Dataframe\r\n",
        "data = pd.DataFrame({\r\n",
        "  'kelas': 6*['A'] + 6*['B'],\r\n",
        "  'murid': 2*['A1'] + 2*['A2'] + 2*['A3'] + 2*['B1'] + 2*['B2'] + 2*['B3'],\r\n",
        "  'pelajaran': 6*['math','english'],\r\n",
        "  'nilai': [90,60,70,85,50,60,100,40,95,80,60,45]\r\n",
        "}, columns=['kelas','murid','pelajaran','nilai'])\r\n",
        "# Pivoting dataframe\r\n",
        "data_pivot = data.pivot_table(index='kelas',columns='pelajaran',values='nilai', aggfunc='mean').reset_index()\r\n",
        "print('Pivoting dataframe:\\n', data_pivot)\r\n",
        "# [3.a] Melting dataframe data_pivot dengan value_vars\r\n",
        "data_melt_3a = pd.melt(data_pivot, value_vars=['math'])\r\n",
        "print('Melting dataframe dengan value_vars:\\n', data_melt_3a)\r\n",
        "# [3.b] Melting dataframe data_pivot dengan id_vars dan value_vars\r\n",
        "data_melt_3b = pd.melt(data_pivot, id_vars='kelas', value_vars=['math'])\r\n",
        "print('Melting dataframe dengan id_vars dan value_vars:\\n', data_melt_3b)\r\n",
        "# [4] Melting dataframe data_pivot dengan id_vars, value_vars, var_name. dan value_name\r\n",
        "data_melt_4 = pd.melt(data_pivot, id_vars='kelas', value_vars=['english','math'], var_name='pelajaran', value_name='nilai')\r\n",
        "print('Melting dataframe dengan id_vars, value_vars, var_name. dan value_name:\\n', data_melt_4)"
      ],
      "execution_count": 112,
      "outputs": [
        {
          "output_type": "stream",
          "text": [
            "Pivoting dataframe:\n",
            " pelajaran kelas    english  math\n",
            "0             A  68.333333  70.0\n",
            "1             B  55.000000  85.0\n",
            "Melting dataframe dengan value_vars:\n",
            "   pelajaran  value\n",
            "0      math   70.0\n",
            "1      math   85.0\n",
            "Melting dataframe dengan id_vars dan value_vars:\n",
            "   kelas pelajaran  value\n",
            "0     A      math   70.0\n",
            "1     B      math   85.0\n",
            "Melting dataframe dengan id_vars, value_vars, var_name. dan value_name:\n",
            "   kelas pelajaran      nilai\n",
            "0     A   english  68.333333\n",
            "1     B   english  55.000000\n",
            "2     A      math  70.000000\n",
            "3     B      math  85.000000\n"
          ],
          "name": "stdout"
        }
      ]
    },
    {
      "cell_type": "markdown",
      "metadata": {
        "id": "R17RkTX_AcBc"
      },
      "source": [
        "### Stack & Unstack - Part 1\r\n",
        "Konsep **stacking** dan **unstacking** sama dengan **melt dan pivot secara berurutan**, hanya saja tidak memasukkan index sebagai parameter di stack/unstack tapi harus set index terlebih dahulu, baru bisa melakukan stacking/unstacking dengan level yang bisa ditentukan sendiri.\r\n",
        "\r\n",
        "\r\n",
        "Perhatikan kembali dataframe berikut dengan multi index-nya."
      ]
    },
    {
      "cell_type": "code",
      "metadata": {
        "colab": {
          "base_uri": "https://localhost:8080/"
        },
        "id": "uwO5xMba_0Y6",
        "outputId": "a96a2ecd-79da-433e-aac1-8cdca8d74558"
      },
      "source": [
        "import pandas as pd\r\n",
        "# Dataframe\r\n",
        "data = pd.DataFrame({\r\n",
        "  'kelas': 6*['A'] + 6*['B'],\r\n",
        "  'murid': 2*['A1'] + 2*['A2'] + 2*['A3'] + 2*['B1'] + 2*['B2'] + 2*['B3'],\r\n",
        "  'pelajaran': 6*['math','english'],\r\n",
        "  'nilai': [90,60,70,85,50,60,100,40,95,80,60,45]\r\n",
        "}, columns=['kelas','murid','pelajaran','nilai'])\r\n",
        "print('Dataframe:\\n', data)\r\n",
        "# Set index data untuk kolom kelas, murid, dan pelajaran\r\n",
        "data = data.set_index(['kelas','murid','pelajaran'])\r\n",
        "print('Dataframe multi index:\\n', data)"
      ],
      "execution_count": 113,
      "outputs": [
        {
          "output_type": "stream",
          "text": [
            "Dataframe:\n",
            "    kelas murid pelajaran  nilai\n",
            "0      A    A1      math     90\n",
            "1      A    A1   english     60\n",
            "2      A    A2      math     70\n",
            "3      A    A2   english     85\n",
            "4      A    A3      math     50\n",
            "5      A    A3   english     60\n",
            "6      B    B1      math    100\n",
            "7      B    B1   english     40\n",
            "8      B    B2      math     95\n",
            "9      B    B2   english     80\n",
            "10     B    B3      math     60\n",
            "11     B    B3   english     45\n",
            "Dataframe multi index:\n",
            "                        nilai\n",
            "kelas murid pelajaran       \n",
            "A     A1    math          90\n",
            "            english       60\n",
            "      A2    math          70\n",
            "            english       85\n",
            "      A3    math          50\n",
            "            english       60\n",
            "B     B1    math         100\n",
            "            english       40\n",
            "      B2    math          95\n",
            "            english       80\n",
            "      B3    math          60\n",
            "            english       45\n"
          ],
          "name": "stdout"
        }
      ]
    },
    {
      "cell_type": "markdown",
      "metadata": {
        "id": "YDpONJWQApeR"
      },
      "source": [
        "Mari terapkan bagaimana menggunakan teknik stacking dan unstacking ini pada dataframe multi index 'data':\r\n",
        "\r\n",
        "**[1]** Unstackinng dataframe"
      ]
    },
    {
      "cell_type": "code",
      "metadata": {
        "colab": {
          "base_uri": "https://localhost:8080/"
        },
        "id": "uAlRB4chAoWL",
        "outputId": "e855fbb5-0ef8-4afe-e803-40591f2e4ec9"
      },
      "source": [
        "# [1] Unstacking dataframe\r\n",
        "data_unstack_1 = data.unstack()\r\n",
        "print('Unstacking dataframe:\\n', data_unstack_1)"
      ],
      "execution_count": 114,
      "outputs": [
        {
          "output_type": "stream",
          "text": [
            "Unstacking dataframe:\n",
            "               nilai     \n",
            "pelajaran   english math\n",
            "kelas murid             \n",
            "A     A1         60   90\n",
            "      A2         85   70\n",
            "      A3         60   50\n",
            "B     B1         40  100\n",
            "      B2         80   95\n",
            "      B3         45   60\n"
          ],
          "name": "stdout"
        }
      ]
    },
    {
      "cell_type": "markdown",
      "metadata": {
        "id": "VX-AO9x6Av0p"
      },
      "source": [
        "**[2]** Unstacking dengan specify level name"
      ]
    },
    {
      "cell_type": "code",
      "metadata": {
        "colab": {
          "base_uri": "https://localhost:8080/"
        },
        "id": "WfEMSSWaAu85",
        "outputId": "cf2c8967-a466-49cf-f59e-e59e0077c411"
      },
      "source": [
        "# [2] Unstacking dengan specify level name\r\n",
        "data_unstack_2 = data.unstack(level='murid')\r\n",
        "print('Unstacking dataframe dengan level name:\\n', data_unstack_2)"
      ],
      "execution_count": 115,
      "outputs": [
        {
          "output_type": "stream",
          "text": [
            "Unstacking dataframe dengan level name:\n",
            "                 nilai                               \n",
            "murid              A1    A2    A3     B1    B2    B3\n",
            "kelas pelajaran                                     \n",
            "A     english    60.0  85.0  60.0    NaN   NaN   NaN\n",
            "      math       90.0  70.0  50.0    NaN   NaN   NaN\n",
            "B     english     NaN   NaN   NaN   40.0  80.0  45.0\n",
            "      math        NaN   NaN   NaN  100.0  95.0  60.0\n"
          ],
          "name": "stdout"
        }
      ]
    },
    {
      "cell_type": "markdown",
      "metadata": {
        "id": "0nBfngTSA1_P"
      },
      "source": [
        "**[3]** Unstacking dengan specify level position"
      ]
    },
    {
      "cell_type": "code",
      "metadata": {
        "colab": {
          "base_uri": "https://localhost:8080/"
        },
        "id": "J_HmFzk-A1Dn",
        "outputId": "3c9416ea-0856-4756-ebf6-b607fdccfe07"
      },
      "source": [
        "# [3] Unstacking dengan specify level position\r\n",
        "data_unstack_3 = data.unstack(level=1)\r\n",
        "print('Unstacking dataframe dengan level position:\\n', data_unstack_3)"
      ],
      "execution_count": 116,
      "outputs": [
        {
          "output_type": "stream",
          "text": [
            "Unstacking dataframe dengan level position:\n",
            "                 nilai                               \n",
            "murid              A1    A2    A3     B1    B2    B3\n",
            "kelas pelajaran                                     \n",
            "A     english    60.0  85.0  60.0    NaN   NaN   NaN\n",
            "      math       90.0  70.0  50.0    NaN   NaN   NaN\n",
            "B     english     NaN   NaN   NaN   40.0  80.0  45.0\n",
            "      math        NaN   NaN   NaN  100.0  95.0  60.0\n"
          ],
          "name": "stdout"
        }
      ]
    },
    {
      "cell_type": "markdown",
      "metadata": {
        "id": "Q6i-NnCgA-f9"
      },
      "source": [
        "**Tugas Praktek**:\r\n",
        "\r\n",
        "Kerjakanlah di code editor dengan jalan mengisi kode yang tidak lengkap (_ _ _) sesuai dengan yang telah dicontohkan."
      ]
    },
    {
      "cell_type": "code",
      "metadata": {
        "colab": {
          "base_uri": "https://localhost:8080/"
        },
        "id": "CxXeG8HsA7AB",
        "outputId": "1f3c83f0-baf8-4379-cf04-4cde24fab340"
      },
      "source": [
        "import pandas as pd\r\n",
        "# Dataframe\r\n",
        "data = pd.DataFrame({\r\n",
        "  'kelas': 6*['A'] + 6*['B'],\r\n",
        "  'murid': 2*['A1'] + 2*['A2'] + 2*['A3'] + 2*['B1'] + 2*['B2'] + 2*['B3'],\r\n",
        "  'pelajaran': 6*['math','english'],\r\n",
        "  'nilai': [90,60,70,85,50,60,100,40,95,80,60,45]\r\n",
        "}, columns=['kelas','murid','pelajaran','nilai'])\r\n",
        "print('Dataframe:\\n', data)\r\n",
        "# Set index data untuk kolom kelas, murid, dan pelajaran\r\n",
        "data = data.set_index(['kelas','murid','pelajaran'])\r\n",
        "print('Dataframe multi index:\\n', data)\r\n",
        "# [1] Unstacking dataframe\r\n",
        "data_unstack_1 = data.unstack()\r\n",
        "print('Unstacking dataframe:\\n', data_unstack_1)\r\n",
        "# [2] Unstacking dengan specify level name\r\n",
        "data_unstack_2 = data.unstack(level='murid')\r\n",
        "print('Unstacking dataframe dengan level name:\\n', data_unstack_2)\r\n",
        "# [3] Unstacking dengan specify level position\r\n",
        "data_unstack_3 = data.unstack(level=1)\r\n",
        "print('Unstacking dataframe dengan level position:\\n', data_unstack_3)"
      ],
      "execution_count": 117,
      "outputs": [
        {
          "output_type": "stream",
          "text": [
            "Dataframe:\n",
            "    kelas murid pelajaran  nilai\n",
            "0      A    A1      math     90\n",
            "1      A    A1   english     60\n",
            "2      A    A2      math     70\n",
            "3      A    A2   english     85\n",
            "4      A    A3      math     50\n",
            "5      A    A3   english     60\n",
            "6      B    B1      math    100\n",
            "7      B    B1   english     40\n",
            "8      B    B2      math     95\n",
            "9      B    B2   english     80\n",
            "10     B    B3      math     60\n",
            "11     B    B3   english     45\n",
            "Dataframe multi index:\n",
            "                        nilai\n",
            "kelas murid pelajaran       \n",
            "A     A1    math          90\n",
            "            english       60\n",
            "      A2    math          70\n",
            "            english       85\n",
            "      A3    math          50\n",
            "            english       60\n",
            "B     B1    math         100\n",
            "            english       40\n",
            "      B2    math          95\n",
            "            english       80\n",
            "      B3    math          60\n",
            "            english       45\n",
            "Unstacking dataframe:\n",
            "               nilai     \n",
            "pelajaran   english math\n",
            "kelas murid             \n",
            "A     A1         60   90\n",
            "      A2         85   70\n",
            "      A3         60   50\n",
            "B     B1         40  100\n",
            "      B2         80   95\n",
            "      B3         45   60\n",
            "Unstacking dataframe dengan level name:\n",
            "                 nilai                               \n",
            "murid              A1    A2    A3     B1    B2    B3\n",
            "kelas pelajaran                                     \n",
            "A     english    60.0  85.0  60.0    NaN   NaN   NaN\n",
            "      math       90.0  70.0  50.0    NaN   NaN   NaN\n",
            "B     english     NaN   NaN   NaN   40.0  80.0  45.0\n",
            "      math        NaN   NaN   NaN  100.0  95.0  60.0\n",
            "Unstacking dataframe dengan level position:\n",
            "                 nilai                               \n",
            "murid              A1    A2    A3     B1    B2    B3\n",
            "kelas pelajaran                                     \n",
            "A     english    60.0  85.0  60.0    NaN   NaN   NaN\n",
            "      math       90.0  70.0  50.0    NaN   NaN   NaN\n",
            "B     english     NaN   NaN   NaN   40.0  80.0  45.0\n",
            "      math        NaN   NaN   NaN  100.0  95.0  60.0\n"
          ],
          "name": "stdout"
        }
      ]
    },
    {
      "cell_type": "markdown",
      "metadata": {
        "id": "78rrUD_YBDFo"
      },
      "source": [
        "### Stack & Unstack - Part 2\r\n",
        "Dalam bagian kedua dari Stack & Unstack ini akan membahas stacking dataframe. Untuk itu, mari diperhatikan dataframe berikut ini"
      ]
    },
    {
      "cell_type": "code",
      "metadata": {
        "colab": {
          "base_uri": "https://localhost:8080/"
        },
        "id": "VG9Q79P2BBo3",
        "outputId": "c3ccda32-43f3-400c-ee1e-f4194f104286"
      },
      "source": [
        "import pandas as pd\r\n",
        "# Dataframe\r\n",
        "data = pd.DataFrame({\r\n",
        "  'kelas': 6*['A'] + 6*['B'],\r\n",
        "  'murid': 2*['A1'] + 2*['A2'] + 2*['A3'] + 2*['B1'] + 2*['B2'] + 2*['B3'],\r\n",
        "  'pelajaran': 6*['math','english'],\r\n",
        "  'nilai': [90,60,70,85,50,60,100,40,95,80,60,45]\r\n",
        "}, columns=['kelas','murid','pelajaran','nilai'])\r\n",
        "data = data.set_index(['kelas','murid','pelajaran'])\r\n",
        "data_unstack = data.unstack(level=1)\r\n",
        "print('Dataframe:\\n', data_unstack)"
      ],
      "execution_count": 118,
      "outputs": [
        {
          "output_type": "stream",
          "text": [
            "Dataframe:\n",
            "                 nilai                               \n",
            "murid              A1    A2    A3     B1    B2    B3\n",
            "kelas pelajaran                                     \n",
            "A     english    60.0  85.0  60.0    NaN   NaN   NaN\n",
            "      math       90.0  70.0  50.0    NaN   NaN   NaN\n",
            "B     english     NaN   NaN   NaN   40.0  80.0  45.0\n",
            "      math        NaN   NaN   NaN  100.0  95.0  60.0\n"
          ],
          "name": "stdout"
        }
      ]
    },
    {
      "cell_type": "markdown",
      "metadata": {
        "id": "B_9pd9vqBnyV"
      },
      "source": [
        "**[1]** Stacking dataframe "
      ]
    },
    {
      "cell_type": "code",
      "metadata": {
        "colab": {
          "base_uri": "https://localhost:8080/"
        },
        "id": "Sz7CAac_BnCR",
        "outputId": "27dbb20b-2f21-4453-8afe-1d10de0ab56b"
      },
      "source": [
        "# [1] Stacking dataframe\r\n",
        "data_stack = data_unstack.stack()\r\n",
        "print('Stacked dataframe:\\n', data_stack)"
      ],
      "execution_count": 119,
      "outputs": [
        {
          "output_type": "stream",
          "text": [
            "Stacked dataframe:\n",
            "                        nilai\n",
            "kelas pelajaran murid       \n",
            "A     english   A1      60.0\n",
            "                A2      85.0\n",
            "                A3      60.0\n",
            "      math      A1      90.0\n",
            "                A2      70.0\n",
            "                A3      50.0\n",
            "B     english   B1      40.0\n",
            "                B2      80.0\n",
            "                B3      45.0\n",
            "      math      B1     100.0\n",
            "                B2      95.0\n",
            "                B3      60.0\n"
          ],
          "name": "stdout"
        }
      ]
    },
    {
      "cell_type": "markdown",
      "metadata": {
        "id": "ltb1s8EWBtMI"
      },
      "source": [
        "**[2]** Tukar posisi index setelah stacking dataframe"
      ]
    },
    {
      "cell_type": "code",
      "metadata": {
        "colab": {
          "base_uri": "https://localhost:8080/"
        },
        "id": "_ClnTQz3BsbY",
        "outputId": "a6b44637-f498-445b-8072-e3eb32b167db"
      },
      "source": [
        "# [2] Tukar posisi index setelah stacking dataframe\r\n",
        "data_swap = data_stack.swaplevel(1,2)\r\n",
        "print('Swapped data:\\n', data_swap)"
      ],
      "execution_count": 121,
      "outputs": [
        {
          "output_type": "stream",
          "text": [
            "Swapped data:\n",
            "                        nilai\n",
            "kelas murid pelajaran       \n",
            "A     A1    english     60.0\n",
            "      A2    english     85.0\n",
            "      A3    english     60.0\n",
            "      A1    math        90.0\n",
            "      A2    math        70.0\n",
            "      A3    math        50.0\n",
            "B     B1    english     40.0\n",
            "      B2    english     80.0\n",
            "      B3    english     45.0\n",
            "      B1    math       100.0\n",
            "      B2    math        95.0\n",
            "      B3    math        60.0\n"
          ],
          "name": "stdout"
        }
      ]
    },
    {
      "cell_type": "markdown",
      "metadata": {
        "id": "mG_PP0d2CBP1"
      },
      "source": [
        "**[3]** Melakukan **sort_index** pada **stacking** dataframe"
      ]
    },
    {
      "cell_type": "code",
      "metadata": {
        "colab": {
          "base_uri": "https://localhost:8080/"
        },
        "id": "SMzT9l30Bysv",
        "outputId": "69200dbf-ee13-4a85-cc75-eaa2572f3554"
      },
      "source": [
        "# [3] Melakukan sort_index pada stacking dataframe\r\n",
        "data_sort = data_swap.sort_index()\r\n",
        "print('Sorted data:\\n', data_sort)"
      ],
      "execution_count": 123,
      "outputs": [
        {
          "output_type": "stream",
          "text": [
            "Sorted data:\n",
            "                        nilai\n",
            "kelas murid pelajaran       \n",
            "A     A1    english     60.0\n",
            "            math        90.0\n",
            "      A2    english     85.0\n",
            "            math        70.0\n",
            "      A3    english     60.0\n",
            "            math        50.0\n",
            "B     B1    english     40.0\n",
            "            math       100.0\n",
            "      B2    english     80.0\n",
            "            math        95.0\n",
            "      B3    english     45.0\n",
            "            math        60.0\n"
          ],
          "name": "stdout"
        }
      ]
    },
    {
      "cell_type": "markdown",
      "metadata": {
        "id": "4wdOfbuvCOAc"
      },
      "source": [
        "**Tugas Praktek**:\r\n",
        "\r\n",
        "Kerjakanlah di code editor dengan jalan mengisi kode yang tidak lengkap (_ _ _) sesuai dengan yang telah dicontohkan."
      ]
    },
    {
      "cell_type": "code",
      "metadata": {
        "colab": {
          "base_uri": "https://localhost:8080/"
        },
        "id": "F7NWkHoNCFnT",
        "outputId": "f6ebdc42-28ab-4343-eb15-011f8aa06961"
      },
      "source": [
        "import pandas as pd\r\n",
        "# Dataframe\r\n",
        "data = pd.DataFrame({\r\n",
        "  'kelas': 6*['A'] + 6*['B'],\r\n",
        "  'murid': 2*['A1'] + 2*['A2'] + 2*['A3'] + 2*['B1'] + 2*['B2'] + 2*['B3'],\r\n",
        "  'pelajaran': 6*['math','english'],\r\n",
        "  'nilai': [90,60,70,85,50,60,100,40,95,80,60,45]\r\n",
        "}, columns=['kelas','murid','pelajaran','nilai'])\r\n",
        "data = data.set_index(['kelas','murid','pelajaran'])\r\n",
        "data_unstack = data.unstack(level=1)\r\n",
        "print('Dataframe:\\n', data_unstack)\r\n",
        "# [1] Stacking dataframe\r\n",
        "data_stack = data_unstack.stack()\r\n",
        "print('Stacked dataframe:\\n', data_stack)\r\n",
        "# [2] Tukar posisi index setelah stacking dataframe\r\n",
        "data_swap = data_stack.swaplevel(1,2)\r\n",
        "print('Swapped data:\\n', data_swap)\r\n",
        "# [3] Melakukan sort_index pada stacking dataframe\r\n",
        "data_sort = data_swap.sort_index()\r\n",
        "print('Sorted data:\\n', data_sort)"
      ],
      "execution_count": 124,
      "outputs": [
        {
          "output_type": "stream",
          "text": [
            "Dataframe:\n",
            "                 nilai                               \n",
            "murid              A1    A2    A3     B1    B2    B3\n",
            "kelas pelajaran                                     \n",
            "A     english    60.0  85.0  60.0    NaN   NaN   NaN\n",
            "      math       90.0  70.0  50.0    NaN   NaN   NaN\n",
            "B     english     NaN   NaN   NaN   40.0  80.0  45.0\n",
            "      math        NaN   NaN   NaN  100.0  95.0  60.0\n",
            "Stacked dataframe:\n",
            "                        nilai\n",
            "kelas pelajaran murid       \n",
            "A     english   A1      60.0\n",
            "                A2      85.0\n",
            "                A3      60.0\n",
            "      math      A1      90.0\n",
            "                A2      70.0\n",
            "                A3      50.0\n",
            "B     english   B1      40.0\n",
            "                B2      80.0\n",
            "                B3      45.0\n",
            "      math      B1     100.0\n",
            "                B2      95.0\n",
            "                B3      60.0\n",
            "Swapped data:\n",
            "                        nilai\n",
            "kelas murid pelajaran       \n",
            "A     A1    english     60.0\n",
            "      A2    english     85.0\n",
            "      A3    english     60.0\n",
            "      A1    math        90.0\n",
            "      A2    math        70.0\n",
            "      A3    math        50.0\n",
            "B     B1    english     40.0\n",
            "      B2    english     80.0\n",
            "      B3    english     45.0\n",
            "      B1    math       100.0\n",
            "      B2    math        95.0\n",
            "      B3    math        60.0\n",
            "Sorted data:\n",
            "                        nilai\n",
            "kelas murid pelajaran       \n",
            "A     A1    english     60.0\n",
            "            math        90.0\n",
            "      A2    english     85.0\n",
            "            math        70.0\n",
            "      A3    english     60.0\n",
            "            math        50.0\n",
            "B     B1    english     40.0\n",
            "            math       100.0\n",
            "      B2    english     80.0\n",
            "            math        95.0\n",
            "      B3    english     45.0\n",
            "            math        60.0\n"
          ],
          "name": "stdout"
        }
      ]
    },
    {
      "cell_type": "markdown",
      "metadata": {
        "id": "ZhkN934KCsJx"
      },
      "source": [
        "## **Aggregation & GroupBy**"
      ]
    },
    {
      "cell_type": "markdown",
      "metadata": {
        "id": "m1syYyTwCxcv"
      },
      "source": [
        "### Pendahuluan\r\n",
        "Teknik agregasi diperlukan ketika mau melihat dataset dengan view yang berbeda, bisa set data tersebut akan dikelompokkan seperti apa, yang kemudian juga bisa menerapkan beberapa fungsi atau metode statistik ke hasil group dataset itu untuk mengetahui behavior dari data tersebut secara summary/overview."
      ]
    },
    {
      "cell_type": "markdown",
      "metadata": {
        "id": "tKGhMn0OC1Eh"
      },
      "source": [
        "![image.png](data:image/png;base64,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)"
      ]
    },
    {
      "cell_type": "markdown",
      "metadata": {
        "id": "tKtuWDu9C24b"
      },
      "source": [
        "Groupby memiliki konsep untuk\r\n",
        "\r\n",
        "1. **Split**: melakukan indexing/multi-indexing dengan apa yang di specify as groupby menjadi kelompok\r\n",
        "2. **Apply**: menerapkan fungsi pada masing-masing kelompok tersebut\r\n",
        "3. **Combine**: mengumpulkan semua hasil fungsi dari tiap kelompok kembali menjadi dataframe"
      ]
    },
    {
      "cell_type": "markdown",
      "metadata": {
        "id": "fpXQ_wmqFov5"
      },
      "source": [
        "### Review Inspeksi Data\r\n",
        "Mari review kembali terkait dengan inspeksi data yang pernah dilakukan pada modul sebelumnya. Akan menggunakan dataset https://dqlab-dataset.s3-ap-southeast-1.amazonaws.com/LO4/global_air_quality_4000rows.csv"
      ]
    },
    {
      "cell_type": "markdown",
      "metadata": {
        "id": "UEjl1vU-Fthk"
      },
      "source": [
        "**[1]** Load data dari csv"
      ]
    },
    {
      "cell_type": "code",
      "metadata": {
        "colab": {
          "base_uri": "https://localhost:8080/"
        },
        "id": "5sAFXKXtFZfH",
        "outputId": "0205bcec-0509-4f99-a410-0cde450a22fc"
      },
      "source": [
        "import pandas as pd\r\n",
        "# Load data global_air_quality.csv\r\n",
        "global_air_quality = pd.read_csv('https://dqlab-dataset.s3-ap-southeast-1.amazonaws.com/LO4/global_air_quality_4000rows.csv')\r\n",
        "print('Lima data teratas:\\n', global_air_quality.head())"
      ],
      "execution_count": 126,
      "outputs": [
        {
          "output_type": "stream",
          "text": [
            "Lima data teratas:\n",
            "                           location  ... averaged_over_in_hours\n",
            "0                  MOBILE-KICKAPOO  ...                   1.00\n",
            "1                  Oxford St Ebbes  ...                   1.00\n",
            "2                 BROADWAY (South)  ...                   1.00\n",
            "3  Deen Dayal Nagar, Sagar - MPPCB  ...                   0.25\n",
            "4                        Manglerud  ...                   1.00\n",
            "\n",
            "[5 rows x 11 columns]\n"
          ],
          "name": "stdout"
        }
      ]
    },
    {
      "cell_type": "markdown",
      "metadata": {
        "id": "Q7o4RrmTF3u7"
      },
      "source": [
        "**[2]** Melakukan pengecekan terhadap data"
      ]
    },
    {
      "cell_type": "code",
      "metadata": {
        "colab": {
          "base_uri": "https://localhost:8080/"
        },
        "id": "Oh2sNA4aF0Eh",
        "outputId": "02451b90-2561-4686-9524-2091fd12481e"
      },
      "source": [
        "# Melakukan pengecekan terhadap data\r\n",
        "print('Info global_air_quality:\\n', global_air_quality.info())"
      ],
      "execution_count": 127,
      "outputs": [
        {
          "output_type": "stream",
          "text": [
            "<class 'pandas.core.frame.DataFrame'>\n",
            "RangeIndex: 4000 entries, 0 to 3999\n",
            "Data columns (total 11 columns):\n",
            " #   Column                  Non-Null Count  Dtype  \n",
            "---  ------                  --------------  -----  \n",
            " 0   location                3997 non-null   object \n",
            " 1   city                    3966 non-null   object \n",
            " 2   country                 4000 non-null   object \n",
            " 3   pollutant               4000 non-null   object \n",
            " 4   value                   4000 non-null   float64\n",
            " 5   timestamp               4000 non-null   object \n",
            " 6   unit                    4000 non-null   object \n",
            " 7   source_name             4000 non-null   object \n",
            " 8   latitude                4000 non-null   float64\n",
            " 9   longitude               4000 non-null   float64\n",
            " 10  averaged_over_in_hours  3634 non-null   float64\n",
            "dtypes: float64(4), object(7)\n",
            "memory usage: 343.9+ KB\n",
            "Info global_air_quality:\n",
            " None\n"
          ],
          "name": "stdout"
        }
      ]
    },
    {
      "cell_type": "markdown",
      "metadata": {
        "id": "iJHKm_YcF9j_"
      },
      "source": [
        "**[3]** Melakukan count tanpa groupby"
      ]
    },
    {
      "cell_type": "code",
      "metadata": {
        "colab": {
          "base_uri": "https://localhost:8080/"
        },
        "id": "G4OcHK-OF7BZ",
        "outputId": "577d1552-274d-4dce-f1e1-71dbc270768e"
      },
      "source": [
        "# Melakukan count tanpa groupby\r\n",
        "print('Count tanpa groupby:\\n', global_air_quality.count())"
      ],
      "execution_count": 128,
      "outputs": [
        {
          "output_type": "stream",
          "text": [
            "Count tanpa groupby:\n",
            " location                  3997\n",
            "city                      3966\n",
            "country                   4000\n",
            "pollutant                 4000\n",
            "value                     4000\n",
            "timestamp                 4000\n",
            "unit                      4000\n",
            "source_name               4000\n",
            "latitude                  4000\n",
            "longitude                 4000\n",
            "averaged_over_in_hours    3634\n",
            "dtype: int64\n"
          ],
          "name": "stdout"
        }
      ]
    },
    {
      "cell_type": "markdown",
      "metadata": {
        "id": "CnBtpV4JGYpV"
      },
      "source": [
        "**[4]** Melakukan count dengan groupby"
      ]
    },
    {
      "cell_type": "code",
      "metadata": {
        "colab": {
          "base_uri": "https://localhost:8080/"
        },
        "id": "iZ5H4Y-IGV6Q",
        "outputId": "e192801d-a9ea-4255-d3bb-935a26e99541"
      },
      "source": [
        "# Melakukan count dengan groupby \r\n",
        "gaq_groupby_count = global_air_quality.groupby('source_name').count()\r\n",
        "print('Count dengan groupby (5 data teratas):\\n', gaq_groupby_count.head())"
      ],
      "execution_count": 129,
      "outputs": [
        {
          "output_type": "stream",
          "text": [
            "Count dengan groupby (5 data teratas):\n",
            "              location  city  ...  longitude  averaged_over_in_hours\n",
            "source_name                  ...                                   \n",
            "ARPALAZIO          72    72  ...         72                      72\n",
            "Agaar.mn           27    27  ...         27                       0\n",
            "AirNow           1712  1681  ...       1715                    1715\n",
            "Andalucia          71    71  ...         71                      71\n",
            "Anqing              4     4  ...          4                       4\n",
            "\n",
            "[5 rows x 10 columns]\n"
          ],
          "name": "stdout"
        }
      ]
    },
    {
      "cell_type": "code",
      "metadata": {
        "colab": {
          "base_uri": "https://localhost:8080/",
          "height": 1000
        },
        "id": "nEeqrHWHGgN3",
        "outputId": "e981ffbf-133f-4693-c26e-12b5081264dc"
      },
      "source": [
        "gaq_groupby_count"
      ],
      "execution_count": 130,
      "outputs": [
        {
          "output_type": "execute_result",
          "data": {
            "text/html": [
              "<div>\n",
              "<style scoped>\n",
              "    .dataframe tbody tr th:only-of-type {\n",
              "        vertical-align: middle;\n",
              "    }\n",
              "\n",
              "    .dataframe tbody tr th {\n",
              "        vertical-align: top;\n",
              "    }\n",
              "\n",
              "    .dataframe thead th {\n",
              "        text-align: right;\n",
              "    }\n",
              "</style>\n",
              "<table border=\"1\" class=\"dataframe\">\n",
              "  <thead>\n",
              "    <tr style=\"text-align: right;\">\n",
              "      <th></th>\n",
              "      <th>location</th>\n",
              "      <th>city</th>\n",
              "      <th>country</th>\n",
              "      <th>pollutant</th>\n",
              "      <th>value</th>\n",
              "      <th>timestamp</th>\n",
              "      <th>unit</th>\n",
              "      <th>latitude</th>\n",
              "      <th>longitude</th>\n",
              "      <th>averaged_over_in_hours</th>\n",
              "    </tr>\n",
              "    <tr>\n",
              "      <th>source_name</th>\n",
              "      <th></th>\n",
              "      <th></th>\n",
              "      <th></th>\n",
              "      <th></th>\n",
              "      <th></th>\n",
              "      <th></th>\n",
              "      <th></th>\n",
              "      <th></th>\n",
              "      <th></th>\n",
              "      <th></th>\n",
              "    </tr>\n",
              "  </thead>\n",
              "  <tbody>\n",
              "    <tr>\n",
              "      <th>ARPALAZIO</th>\n",
              "      <td>72</td>\n",
              "      <td>72</td>\n",
              "      <td>72</td>\n",
              "      <td>72</td>\n",
              "      <td>72</td>\n",
              "      <td>72</td>\n",
              "      <td>72</td>\n",
              "      <td>72</td>\n",
              "      <td>72</td>\n",
              "      <td>72</td>\n",
              "    </tr>\n",
              "    <tr>\n",
              "      <th>Agaar.mn</th>\n",
              "      <td>27</td>\n",
              "      <td>27</td>\n",
              "      <td>27</td>\n",
              "      <td>27</td>\n",
              "      <td>27</td>\n",
              "      <td>27</td>\n",
              "      <td>27</td>\n",
              "      <td>27</td>\n",
              "      <td>27</td>\n",
              "      <td>0</td>\n",
              "    </tr>\n",
              "    <tr>\n",
              "      <th>AirNow</th>\n",
              "      <td>1712</td>\n",
              "      <td>1681</td>\n",
              "      <td>1715</td>\n",
              "      <td>1715</td>\n",
              "      <td>1715</td>\n",
              "      <td>1715</td>\n",
              "      <td>1715</td>\n",
              "      <td>1715</td>\n",
              "      <td>1715</td>\n",
              "      <td>1715</td>\n",
              "    </tr>\n",
              "    <tr>\n",
              "      <th>Andalucia</th>\n",
              "      <td>71</td>\n",
              "      <td>71</td>\n",
              "      <td>71</td>\n",
              "      <td>71</td>\n",
              "      <td>71</td>\n",
              "      <td>71</td>\n",
              "      <td>71</td>\n",
              "      <td>71</td>\n",
              "      <td>71</td>\n",
              "      <td>71</td>\n",
              "    </tr>\n",
              "    <tr>\n",
              "      <th>Anqing</th>\n",
              "      <td>4</td>\n",
              "      <td>4</td>\n",
              "      <td>4</td>\n",
              "      <td>4</td>\n",
              "      <td>4</td>\n",
              "      <td>4</td>\n",
              "      <td>4</td>\n",
              "      <td>4</td>\n",
              "      <td>4</td>\n",
              "      <td>4</td>\n",
              "    </tr>\n",
              "    <tr>\n",
              "      <th>Bengbu</th>\n",
              "      <td>7</td>\n",
              "      <td>7</td>\n",
              "      <td>7</td>\n",
              "      <td>7</td>\n",
              "      <td>7</td>\n",
              "      <td>7</td>\n",
              "      <td>7</td>\n",
              "      <td>7</td>\n",
              "      <td>7</td>\n",
              "      <td>7</td>\n",
              "    </tr>\n",
              "    <tr>\n",
              "      <th>Bosnia</th>\n",
              "      <td>4</td>\n",
              "      <td>4</td>\n",
              "      <td>4</td>\n",
              "      <td>4</td>\n",
              "      <td>4</td>\n",
              "      <td>4</td>\n",
              "      <td>4</td>\n",
              "      <td>4</td>\n",
              "      <td>4</td>\n",
              "      <td>4</td>\n",
              "    </tr>\n",
              "    <tr>\n",
              "      <th>Bosnia2</th>\n",
              "      <td>21</td>\n",
              "      <td>21</td>\n",
              "      <td>21</td>\n",
              "      <td>21</td>\n",
              "      <td>21</td>\n",
              "      <td>21</td>\n",
              "      <td>21</td>\n",
              "      <td>21</td>\n",
              "      <td>21</td>\n",
              "      <td>21</td>\n",
              "    </tr>\n",
              "    <tr>\n",
              "      <th>CPCB</th>\n",
              "      <td>52</td>\n",
              "      <td>52</td>\n",
              "      <td>52</td>\n",
              "      <td>52</td>\n",
              "      <td>52</td>\n",
              "      <td>52</td>\n",
              "      <td>52</td>\n",
              "      <td>52</td>\n",
              "      <td>52</td>\n",
              "      <td>52</td>\n",
              "    </tr>\n",
              "    <tr>\n",
              "      <th>Chizhou</th>\n",
              "      <td>3</td>\n",
              "      <td>3</td>\n",
              "      <td>3</td>\n",
              "      <td>3</td>\n",
              "      <td>3</td>\n",
              "      <td>3</td>\n",
              "      <td>3</td>\n",
              "      <td>3</td>\n",
              "      <td>3</td>\n",
              "      <td>3</td>\n",
              "    </tr>\n",
              "    <tr>\n",
              "      <th>Chuzhou</th>\n",
              "      <td>6</td>\n",
              "      <td>6</td>\n",
              "      <td>6</td>\n",
              "      <td>6</td>\n",
              "      <td>6</td>\n",
              "      <td>6</td>\n",
              "      <td>6</td>\n",
              "      <td>6</td>\n",
              "      <td>6</td>\n",
              "      <td>6</td>\n",
              "    </tr>\n",
              "    <tr>\n",
              "      <th>DEFRA</th>\n",
              "      <td>155</td>\n",
              "      <td>155</td>\n",
              "      <td>155</td>\n",
              "      <td>155</td>\n",
              "      <td>155</td>\n",
              "      <td>155</td>\n",
              "      <td>155</td>\n",
              "      <td>155</td>\n",
              "      <td>155</td>\n",
              "      <td>155</td>\n",
              "    </tr>\n",
              "    <tr>\n",
              "      <th>EEA Malta</th>\n",
              "      <td>6</td>\n",
              "      <td>6</td>\n",
              "      <td>6</td>\n",
              "      <td>6</td>\n",
              "      <td>6</td>\n",
              "      <td>6</td>\n",
              "      <td>6</td>\n",
              "      <td>6</td>\n",
              "      <td>6</td>\n",
              "      <td>6</td>\n",
              "    </tr>\n",
              "    <tr>\n",
              "      <th>EEA Spain</th>\n",
              "      <td>193</td>\n",
              "      <td>193</td>\n",
              "      <td>193</td>\n",
              "      <td>193</td>\n",
              "      <td>193</td>\n",
              "      <td>193</td>\n",
              "      <td>193</td>\n",
              "      <td>193</td>\n",
              "      <td>193</td>\n",
              "      <td>193</td>\n",
              "    </tr>\n",
              "    <tr>\n",
              "      <th>Fuyang</th>\n",
              "      <td>4</td>\n",
              "      <td>4</td>\n",
              "      <td>4</td>\n",
              "      <td>4</td>\n",
              "      <td>4</td>\n",
              "      <td>4</td>\n",
              "      <td>4</td>\n",
              "      <td>4</td>\n",
              "      <td>4</td>\n",
              "      <td>4</td>\n",
              "    </tr>\n",
              "    <tr>\n",
              "      <th>GIOS</th>\n",
              "      <td>339</td>\n",
              "      <td>339</td>\n",
              "      <td>339</td>\n",
              "      <td>339</td>\n",
              "      <td>339</td>\n",
              "      <td>339</td>\n",
              "      <td>339</td>\n",
              "      <td>339</td>\n",
              "      <td>339</td>\n",
              "      <td>0</td>\n",
              "    </tr>\n",
              "    <tr>\n",
              "      <th>Hefei</th>\n",
              "      <td>19</td>\n",
              "      <td>19</td>\n",
              "      <td>19</td>\n",
              "      <td>19</td>\n",
              "      <td>19</td>\n",
              "      <td>19</td>\n",
              "      <td>19</td>\n",
              "      <td>19</td>\n",
              "      <td>19</td>\n",
              "      <td>19</td>\n",
              "    </tr>\n",
              "    <tr>\n",
              "      <th>Huaibei</th>\n",
              "      <td>9</td>\n",
              "      <td>9</td>\n",
              "      <td>9</td>\n",
              "      <td>9</td>\n",
              "      <td>9</td>\n",
              "      <td>9</td>\n",
              "      <td>9</td>\n",
              "      <td>9</td>\n",
              "      <td>9</td>\n",
              "      <td>9</td>\n",
              "    </tr>\n",
              "    <tr>\n",
              "      <th>Huainan</th>\n",
              "      <td>14</td>\n",
              "      <td>14</td>\n",
              "      <td>14</td>\n",
              "      <td>14</td>\n",
              "      <td>14</td>\n",
              "      <td>14</td>\n",
              "      <td>14</td>\n",
              "      <td>14</td>\n",
              "      <td>14</td>\n",
              "      <td>14</td>\n",
              "    </tr>\n",
              "    <tr>\n",
              "      <th>Israel</th>\n",
              "      <td>117</td>\n",
              "      <td>117</td>\n",
              "      <td>117</td>\n",
              "      <td>117</td>\n",
              "      <td>117</td>\n",
              "      <td>117</td>\n",
              "      <td>117</td>\n",
              "      <td>117</td>\n",
              "      <td>117</td>\n",
              "      <td>117</td>\n",
              "    </tr>\n",
              "    <tr>\n",
              "      <th>Kosovo</th>\n",
              "      <td>24</td>\n",
              "      <td>24</td>\n",
              "      <td>24</td>\n",
              "      <td>24</td>\n",
              "      <td>24</td>\n",
              "      <td>24</td>\n",
              "      <td>24</td>\n",
              "      <td>24</td>\n",
              "      <td>24</td>\n",
              "      <td>24</td>\n",
              "    </tr>\n",
              "    <tr>\n",
              "      <th>Medellin</th>\n",
              "      <td>28</td>\n",
              "      <td>28</td>\n",
              "      <td>28</td>\n",
              "      <td>28</td>\n",
              "      <td>28</td>\n",
              "      <td>28</td>\n",
              "      <td>28</td>\n",
              "      <td>28</td>\n",
              "      <td>28</td>\n",
              "      <td>28</td>\n",
              "    </tr>\n",
              "    <tr>\n",
              "      <th>Norway</th>\n",
              "      <td>96</td>\n",
              "      <td>96</td>\n",
              "      <td>96</td>\n",
              "      <td>96</td>\n",
              "      <td>96</td>\n",
              "      <td>96</td>\n",
              "      <td>96</td>\n",
              "      <td>96</td>\n",
              "      <td>96</td>\n",
              "      <td>96</td>\n",
              "    </tr>\n",
              "    <tr>\n",
              "      <th>Poland</th>\n",
              "      <td>30</td>\n",
              "      <td>30</td>\n",
              "      <td>30</td>\n",
              "      <td>30</td>\n",
              "      <td>30</td>\n",
              "      <td>30</td>\n",
              "      <td>30</td>\n",
              "      <td>30</td>\n",
              "      <td>30</td>\n",
              "      <td>30</td>\n",
              "    </tr>\n",
              "    <tr>\n",
              "      <th>Senamhi</th>\n",
              "      <td>23</td>\n",
              "      <td>23</td>\n",
              "      <td>23</td>\n",
              "      <td>23</td>\n",
              "      <td>23</td>\n",
              "      <td>23</td>\n",
              "      <td>23</td>\n",
              "      <td>23</td>\n",
              "      <td>23</td>\n",
              "      <td>23</td>\n",
              "    </tr>\n",
              "    <tr>\n",
              "      <th>Shenyang</th>\n",
              "      <td>1</td>\n",
              "      <td>1</td>\n",
              "      <td>1</td>\n",
              "      <td>1</td>\n",
              "      <td>1</td>\n",
              "      <td>1</td>\n",
              "      <td>1</td>\n",
              "      <td>1</td>\n",
              "      <td>1</td>\n",
              "      <td>1</td>\n",
              "    </tr>\n",
              "    <tr>\n",
              "      <th>Spartan</th>\n",
              "      <td>7</td>\n",
              "      <td>7</td>\n",
              "      <td>7</td>\n",
              "      <td>7</td>\n",
              "      <td>7</td>\n",
              "      <td>7</td>\n",
              "      <td>7</td>\n",
              "      <td>7</td>\n",
              "      <td>7</td>\n",
              "      <td>7</td>\n",
              "    </tr>\n",
              "    <tr>\n",
              "      <th>Suzhou</th>\n",
              "      <td>6</td>\n",
              "      <td>6</td>\n",
              "      <td>6</td>\n",
              "      <td>6</td>\n",
              "      <td>6</td>\n",
              "      <td>6</td>\n",
              "      <td>6</td>\n",
              "      <td>6</td>\n",
              "      <td>6</td>\n",
              "      <td>6</td>\n",
              "    </tr>\n",
              "    <tr>\n",
              "      <th>Sweden</th>\n",
              "      <td>8</td>\n",
              "      <td>8</td>\n",
              "      <td>8</td>\n",
              "      <td>8</td>\n",
              "      <td>8</td>\n",
              "      <td>8</td>\n",
              "      <td>8</td>\n",
              "      <td>8</td>\n",
              "      <td>8</td>\n",
              "      <td>8</td>\n",
              "    </tr>\n",
              "    <tr>\n",
              "      <th>Taiwan</th>\n",
              "      <td>166</td>\n",
              "      <td>166</td>\n",
              "      <td>166</td>\n",
              "      <td>166</td>\n",
              "      <td>166</td>\n",
              "      <td>166</td>\n",
              "      <td>166</td>\n",
              "      <td>166</td>\n",
              "      <td>166</td>\n",
              "      <td>166</td>\n",
              "    </tr>\n",
              "    <tr>\n",
              "      <th>Texas</th>\n",
              "      <td>31</td>\n",
              "      <td>31</td>\n",
              "      <td>31</td>\n",
              "      <td>31</td>\n",
              "      <td>31</td>\n",
              "      <td>31</td>\n",
              "      <td>31</td>\n",
              "      <td>31</td>\n",
              "      <td>31</td>\n",
              "      <td>31</td>\n",
              "    </tr>\n",
              "    <tr>\n",
              "      <th>Thailand</th>\n",
              "      <td>108</td>\n",
              "      <td>108</td>\n",
              "      <td>108</td>\n",
              "      <td>108</td>\n",
              "      <td>108</td>\n",
              "      <td>108</td>\n",
              "      <td>108</td>\n",
              "      <td>108</td>\n",
              "      <td>108</td>\n",
              "      <td>108</td>\n",
              "    </tr>\n",
              "    <tr>\n",
              "      <th>Tongling</th>\n",
              "      <td>3</td>\n",
              "      <td>3</td>\n",
              "      <td>3</td>\n",
              "      <td>3</td>\n",
              "      <td>3</td>\n",
              "      <td>3</td>\n",
              "      <td>3</td>\n",
              "      <td>3</td>\n",
              "      <td>3</td>\n",
              "      <td>3</td>\n",
              "    </tr>\n",
              "    <tr>\n",
              "      <th>Turkey</th>\n",
              "      <td>202</td>\n",
              "      <td>202</td>\n",
              "      <td>202</td>\n",
              "      <td>202</td>\n",
              "      <td>202</td>\n",
              "      <td>202</td>\n",
              "      <td>202</td>\n",
              "      <td>202</td>\n",
              "      <td>202</td>\n",
              "      <td>202</td>\n",
              "    </tr>\n",
              "    <tr>\n",
              "      <th>Wuhu</th>\n",
              "      <td>10</td>\n",
              "      <td>10</td>\n",
              "      <td>10</td>\n",
              "      <td>10</td>\n",
              "      <td>10</td>\n",
              "      <td>10</td>\n",
              "      <td>10</td>\n",
              "      <td>10</td>\n",
              "      <td>10</td>\n",
              "      <td>10</td>\n",
              "    </tr>\n",
              "    <tr>\n",
              "      <th>caaqm</th>\n",
              "      <td>419</td>\n",
              "      <td>419</td>\n",
              "      <td>419</td>\n",
              "      <td>419</td>\n",
              "      <td>419</td>\n",
              "      <td>419</td>\n",
              "      <td>419</td>\n",
              "      <td>419</td>\n",
              "      <td>419</td>\n",
              "      <td>419</td>\n",
              "    </tr>\n",
              "  </tbody>\n",
              "</table>\n",
              "</div>"
            ],
            "text/plain": [
              "             location  city  ...  longitude  averaged_over_in_hours\n",
              "source_name                  ...                                   \n",
              "ARPALAZIO          72    72  ...         72                      72\n",
              "Agaar.mn           27    27  ...         27                       0\n",
              "AirNow           1712  1681  ...       1715                    1715\n",
              "Andalucia          71    71  ...         71                      71\n",
              "Anqing              4     4  ...          4                       4\n",
              "Bengbu              7     7  ...          7                       7\n",
              "Bosnia              4     4  ...          4                       4\n",
              "Bosnia2            21    21  ...         21                      21\n",
              "CPCB               52    52  ...         52                      52\n",
              "Chizhou             3     3  ...          3                       3\n",
              "Chuzhou             6     6  ...          6                       6\n",
              "DEFRA             155   155  ...        155                     155\n",
              "EEA Malta           6     6  ...          6                       6\n",
              "EEA Spain         193   193  ...        193                     193\n",
              "Fuyang              4     4  ...          4                       4\n",
              "GIOS              339   339  ...        339                       0\n",
              "Hefei              19    19  ...         19                      19\n",
              "Huaibei             9     9  ...          9                       9\n",
              "Huainan            14    14  ...         14                      14\n",
              "Israel            117   117  ...        117                     117\n",
              "Kosovo             24    24  ...         24                      24\n",
              "Medellin           28    28  ...         28                      28\n",
              "Norway             96    96  ...         96                      96\n",
              "Poland             30    30  ...         30                      30\n",
              "Senamhi            23    23  ...         23                      23\n",
              "Shenyang            1     1  ...          1                       1\n",
              "Spartan             7     7  ...          7                       7\n",
              "Suzhou              6     6  ...          6                       6\n",
              "Sweden              8     8  ...          8                       8\n",
              "Taiwan            166   166  ...        166                     166\n",
              "Texas              31    31  ...         31                      31\n",
              "Thailand          108   108  ...        108                     108\n",
              "Tongling            3     3  ...          3                       3\n",
              "Turkey            202   202  ...        202                     202\n",
              "Wuhu               10    10  ...         10                      10\n",
              "caaqm             419   419  ...        419                     419\n",
              "\n",
              "[36 rows x 10 columns]"
            ]
          },
          "metadata": {
            "tags": []
          },
          "execution_count": 130
        }
      ]
    },
    {
      "cell_type": "markdown",
      "metadata": {
        "id": "2I3KevyHGvI5"
      },
      "source": [
        "Terdapat perbedaan antara melakukan count dengan groupby dan tanpa groupby,\r\n",
        "\r\n",
        "1. Terdapat index apa yang di specify as groupby\r\n",
        "2. Perhitungan jadi berdasarkan apa yang di specify as groupby\r\n",
        "3. Overall, lebih mudah untuk membaca data summary yang telah di groupby"
      ]
    },
    {
      "cell_type": "markdown",
      "metadata": {
        "id": "6-nT47D5H8Fk"
      },
      "source": [
        "### Groupby dan Aggregasi dengan Fungsi Statistik Dasar - Part 1\r\n",
        "Pada subbab ini akan menerapkan groupby dan fungsi aggregasi mean dan std untuk menentukan nilai rata-rata dan standar deviasi dari masing-masing kelompok data dari dataset https://dqlab-dataset.s3-ap-southeast-1.amazonaws.com/LO4/global_air_quality_4000rows.csv dan diassign sebagai variabel df_gaq."
      ]
    },
    {
      "cell_type": "markdown",
      "metadata": {
        "id": "Vx-TJKLRH_yD"
      },
      "source": [
        "Akan buat variabel pollutant "
      ]
    },
    {
      "cell_type": "code",
      "metadata": {
        "colab": {
          "base_uri": "https://localhost:8080/"
        },
        "id": "MoFTz7XNGmhM",
        "outputId": "d0bcaefd-09bc-4f6c-eb39-29a5e387a9f4"
      },
      "source": [
        "import pandas as pd\r\n",
        "# Load data global_air_quality.csv\r\n",
        "gaq = pd.read_csv('https://dqlab-dataset.s3-ap-southeast-1.amazonaws.com/LO4/global_air_quality_4000rows.csv')\r\n",
        "# Create variabel pollutant \r\n",
        "pollutant = gaq[['country','city','pollutant','value']].pivot_table(index=['country','city'],columns='pollutant').fillna(0)\r\n",
        "print('Data pollutant (5 teratas):\\n', pollutant.head())"
      ],
      "execution_count": 131,
      "outputs": [
        {
          "output_type": "stream",
          "text": [
            "Data pollutant (5 teratas):\n",
            "                      value                                     \n",
            "pollutant               bc      co   no2   o3   pm10  pm25  so2\n",
            "country city                                                   \n",
            "AR      Buenos Aires   0.0     0.0   0.0  0.0    0.0  18.1  0.0\n",
            "AU      Townsville     0.0     0.0   0.0  0.0    0.0   3.9  0.0\n",
            "BA      Goražde        0.0   141.0  19.0  8.0    0.0   0.0  0.0\n",
            "        Ilijaš         0.0     0.0   0.0  0.0  100.0   0.0  0.0\n",
            "        Jajce          0.0  1508.0  25.0  6.0    9.0   0.0  0.0\n"
          ],
          "name": "stdout"
        }
      ]
    },
    {
      "cell_type": "markdown",
      "metadata": {
        "id": "YBm43FHwIKE9"
      },
      "source": [
        "**[1]** Group berdasarkan country dan terapkan aggregasi mean, method .mean() setelah penerapan method .groupby() digunakan untuk mencari rata-rata dari tiap kelompok"
      ]
    },
    {
      "cell_type": "code",
      "metadata": {
        "colab": {
          "base_uri": "https://localhost:8080/"
        },
        "id": "HvXGTYBGIFON",
        "outputId": "163886d8-fd3e-4b60-d979-81922f7df680"
      },
      "source": [
        "# [1] Group berdasarkan country dan terapkan aggregasi mean\r\n",
        "pollutant_mean = pollutant.groupby('country').mean()\r\n",
        "print('Rata-rata pollutant (5 teratas):\\n', pollutant_mean.head())"
      ],
      "execution_count": 132,
      "outputs": [
        {
          "output_type": "stream",
          "text": [
            "Rata-rata pollutant (5 teratas):\n",
            "           value                         ...                                 \n",
            "pollutant    bc          co        no2  ...       pm10       pm25        so2\n",
            "country                                 ...                                 \n",
            "AR          0.0    0.000000   0.000000  ...   0.000000  18.100000   0.000000\n",
            "AU          0.0    0.000000   0.000000  ...   0.000000   3.900000   0.000000\n",
            "BA          0.0  475.833333  19.500000  ...  40.333333   0.000000  18.000000\n",
            "CA          0.0    0.036818   0.000355  ...   0.836364   3.433601   0.000091\n",
            "CL          0.0    0.000000  21.000000  ...   0.000000   0.000000   0.000000\n",
            "\n",
            "[5 rows x 7 columns]\n"
          ],
          "name": "stdout"
        }
      ]
    },
    {
      "cell_type": "markdown",
      "metadata": {
        "id": "EUY9x_leISLE"
      },
      "source": [
        "**[2]** Group berdasarkan country dan terapkan aggregasi std, method .std() setelah penerapan method .groupby() digunakan untuk mencari standard deviasi (penyimpangan) dari tiap kelompok"
      ]
    },
    {
      "cell_type": "code",
      "metadata": {
        "colab": {
          "base_uri": "https://localhost:8080/"
        },
        "id": "v_X_bt8LIQPN",
        "outputId": "adebc360-5a6e-47b1-8ed3-16fe3c59d8d4"
      },
      "source": [
        "# [2] Group berdasarkan country dan terapkan aggregasi std\r\n",
        "pollutant_std = pollutant.groupby('country').std().fillna(0)\r\n",
        "print('Standar deviasi pollutant (5 teratas):\\n', pollutant_std.head())"
      ],
      "execution_count": 133,
      "outputs": [
        {
          "output_type": "stream",
          "text": [
            "Standar deviasi pollutant (5 teratas):\n",
            "         value                                                                 \n",
            "           bc          co        no2        o3       pm10      pm25        so2\n",
            "country                                                                       \n",
            "AR        0.0    0.000000   0.000000  0.000000   0.000000  0.000000   0.000000\n",
            "AU        0.0    0.000000   0.000000  0.000000   0.000000  0.000000   0.000000\n",
            "BA        0.0  536.925476  11.945711  8.207720  46.701891  0.000000  30.403947\n",
            "CA        0.0    0.089841   0.000750  0.019323   1.713052  2.286509   0.000302\n",
            "CL        0.0    0.000000   0.000000  0.000000   0.000000  0.000000   0.000000\n"
          ],
          "name": "stdout"
        }
      ]
    },
    {
      "cell_type": "markdown",
      "metadata": {
        "id": "la4PPRuzI6k6"
      },
      "source": [
        "### Groupby dan Aggregasi dengan Fungsi Statistik Dasar - Part 2\r\n",
        "Akan melanjutkan untuk fungsi statistik lainnya yaitu **.sum()** dan **.nunique()** untuk mengaggregasi dataset pollutant setelah di groupby."
      ]
    },
    {
      "cell_type": "markdown",
      "metadata": {
        "id": "gUaUxXqwI-nm"
      },
      "source": [
        "**[3]** Group berdasarkan country dan terapkan aggregasi sum, method .sum() setelah penerapan method .groupby() digunakan untuk mencari total nilai dari tiap kelompok"
      ]
    },
    {
      "cell_type": "code",
      "metadata": {
        "colab": {
          "base_uri": "https://localhost:8080/"
        },
        "id": "fHKWF5YcIZKU",
        "outputId": "e84ffa50-8556-416e-851c-eeb3adfd46ff"
      },
      "source": [
        "# [3] Group berdasarkan country dan terapkan aggregasi sum\r\n",
        "pollutant_sum = pollutant.groupby('country').sum()\r\n",
        "print('Total pollutant (5 teratas):\\n', pollutant_sum.head())"
      ],
      "execution_count": 134,
      "outputs": [
        {
          "output_type": "stream",
          "text": [
            "Total pollutant (5 teratas):\n",
            "           value                                                          \n",
            "pollutant    bc        co       no2         o3   pm10       pm25      so2\n",
            "country                                                                  \n",
            "AR          0.0     0.000    0.0000   0.000000    0.0  18.100000    0.000\n",
            "AU          0.0     0.000    0.0000   0.000000    0.0   3.900000    0.000\n",
            "BA          0.0  2855.000  117.0000  35.000000  242.0   0.000000  108.000\n",
            "CA          0.0     0.405    0.0039   0.285593    9.2  37.769608    0.001\n",
            "CL          0.0     0.000   21.0000   0.000000    0.0   0.000000    0.000\n"
          ],
          "name": "stdout"
        }
      ]
    },
    {
      "cell_type": "markdown",
      "metadata": {
        "id": "mwmP7H8-JGmq"
      },
      "source": [
        "**[4]** Group berdasarkan country dan terapkan aggregasi nunique, method .nunique() setelah penerapan method .groupby() digunakan untuk mencari berapakah jumlah unique value dari tiap kelompok."
      ]
    },
    {
      "cell_type": "code",
      "metadata": {
        "colab": {
          "base_uri": "https://localhost:8080/"
        },
        "id": "5dCSAVNsJDrO",
        "outputId": "86693d13-4a89-490b-f28b-0215160b830b"
      },
      "source": [
        "# [4] Group berdasarkan country dan terapkan aggregasi nunique\r\n",
        "pollutant_nunique = pollutant.groupby('country').nunique()\r\n",
        "print('Jumlah unique value pollutant (5 teratas):\\n', pollutant_nunique.head())"
      ],
      "execution_count": 135,
      "outputs": [
        {
          "output_type": "stream",
          "text": [
            "Jumlah unique value pollutant (5 teratas):\n",
            "           value                        \n",
            "pollutant    bc co no2 o3 pm10 pm25 so2\n",
            "country                                \n",
            "AR            1  1   1  1    1    1   1\n",
            "AU            1  1   1  1    1    1   1\n",
            "BA            1  6   6  4    5    1   4\n",
            "CA            1  3   4  9    4   10   2\n",
            "CL            1  1   1  1    1    1   1\n"
          ],
          "name": "stdout"
        }
      ]
    },
    {
      "cell_type": "markdown",
      "metadata": {
        "id": "bysFitJDJ8y-"
      },
      "source": [
        "### Groupby dan Aggregasi dengan Fungsi Statistik Dasar - Part 3\r\n",
        "Akan melanjutkan untuk fungsi statistik **.min()** dan **.max()** untuk mengaggregasi dataset pollutant setelah di groupby."
      ]
    },
    {
      "cell_type": "code",
      "metadata": {
        "colab": {
          "base_uri": "https://localhost:8080/"
        },
        "id": "1adtx0xvK3q_",
        "outputId": "9fb1478a-5cc4-41d7-c6a1-3b73a372eb5e"
      },
      "source": [
        "import pandas as pd\r\n",
        "# Load data https://dqlab-dataset.s3-ap-southeast-1.amazonaws.com/LO4/global_air_quality_4000rows.csv\r\n",
        "gaq = pd.read_csv('https://dqlab-dataset.s3-ap-southeast-1.amazonaws.com/LO4/global_air_quality_4000rows.csv')\r\n",
        "# Create variabel pollutant \r\n",
        "pollutant = gaq[['country','city','pollutant','value']].pivot_table(index=['country','city'],columns='pollutant').fillna(0)\r\n",
        "print('Data pollutant (5 teratas):\\n', pollutant.head())"
      ],
      "execution_count": 136,
      "outputs": [
        {
          "output_type": "stream",
          "text": [
            "Data pollutant (5 teratas):\n",
            "                      value                                     \n",
            "pollutant               bc      co   no2   o3   pm10  pm25  so2\n",
            "country city                                                   \n",
            "AR      Buenos Aires   0.0     0.0   0.0  0.0    0.0  18.1  0.0\n",
            "AU      Townsville     0.0     0.0   0.0  0.0    0.0   3.9  0.0\n",
            "BA      Goražde        0.0   141.0  19.0  8.0    0.0   0.0  0.0\n",
            "        Ilijaš         0.0     0.0   0.0  0.0  100.0   0.0  0.0\n",
            "        Jajce          0.0  1508.0  25.0  6.0    9.0   0.0  0.0\n"
          ],
          "name": "stdout"
        }
      ]
    },
    {
      "cell_type": "markdown",
      "metadata": {
        "id": "4azOPrgSKU42"
      },
      "source": [
        "**[5]** Group berdasarkan country dan terapkan aggregasi min, method **.min()** setelah penerapan method .groupby() digunakan untuk memunculkan nilai terkecil dari tiap kelompok"
      ]
    },
    {
      "cell_type": "code",
      "metadata": {
        "colab": {
          "base_uri": "https://localhost:8080/"
        },
        "id": "QMKCX0wmJLFC",
        "outputId": "8f0e4103-ac50-4e71-c1e6-707a938e20ab"
      },
      "source": [
        "# [5] Group berdasarkan country dan terapkan aggregasi min\r\n",
        "pollutant_min = pollutant.groupby('country').min()\r\n",
        "print('Nilai min pollutant (5 teratas):\\n', pollutant_min.head())"
      ],
      "execution_count": 137,
      "outputs": [
        {
          "output_type": "stream",
          "text": [
            "Nilai min pollutant (5 teratas):\n",
            "           value                                \n",
            "pollutant    bc   co   no2   o3 pm10  pm25  so2\n",
            "country                                        \n",
            "AR          0.0  0.0   0.0  0.0  0.0  18.1  0.0\n",
            "AU          0.0  0.0   0.0  0.0  0.0   3.9  0.0\n",
            "BA          0.0  0.0   0.0  0.0  0.0   0.0  0.0\n",
            "CA          0.0  0.0   0.0  0.0  0.0   0.0  0.0\n",
            "CL          0.0  0.0  21.0  0.0  0.0   0.0  0.0\n"
          ],
          "name": "stdout"
        }
      ]
    },
    {
      "cell_type": "markdown",
      "metadata": {
        "id": "U2id34XQLjxO"
      },
      "source": [
        "**[6]** Group berdasarkan country dan terapkan aggregasi max, method **.max()** setelah penerapan method .groupby() digunakan untuk memunculkan nilai terbesar dari tiap kelompok"
      ]
    },
    {
      "cell_type": "code",
      "metadata": {
        "colab": {
          "base_uri": "https://localhost:8080/"
        },
        "id": "LpYLGk5yLexc",
        "outputId": "1ccf6755-761c-4cd7-d702-3663405a697b"
      },
      "source": [
        "# [5] Group berdasarkan country dan terapkan aggregasi max\r\n",
        "pollutant_max = pollutant.groupby('country').max()\r\n",
        "print('Nilai max pollutant (5 teratas):\\n', pollutant_max.head())"
      ],
      "execution_count": 138,
      "outputs": [
        {
          "output_type": "stream",
          "text": [
            "Nilai max pollutant (5 teratas):\n",
            "           value                                                   \n",
            "pollutant    bc        co      no2         o3   pm10  pm25     so2\n",
            "country                                                           \n",
            "AR          0.0     0.000   0.0000   0.000000    0.0  18.1   0.000\n",
            "AU          0.0     0.000   0.0000   0.000000    0.0   3.9   0.000\n",
            "BA          0.0  1508.000  32.0000  21.000000  100.0   0.0  78.000\n",
            "CA          0.0     0.285   0.0024   0.048333    5.2   6.0   0.001\n",
            "CL          0.0     0.000  21.0000   0.000000    0.0   0.0   0.000\n"
          ],
          "name": "stdout"
        }
      ]
    },
    {
      "cell_type": "markdown",
      "metadata": {
        "id": "KBlArWciL0Dk"
      },
      "source": [
        "**Tugas Praktek**:\r\n",
        "\r\n",
        "Gunakanlah method **.first()** dan **.last()** untuk aggregasi setelah penerapan .groupby() yang masing-masingnya bertujuan untuk memunculkan item pertama dan item terakhir dari tiap kelompok."
      ]
    },
    {
      "cell_type": "code",
      "metadata": {
        "colab": {
          "base_uri": "https://localhost:8080/"
        },
        "id": "0vAR9KYALvMr",
        "outputId": "c71a1bf0-28e6-42f9-cb68-5bcad7cb6f5b"
      },
      "source": [
        "# Group berdasarkan country dan terapkan aggregasi first\r\n",
        "pollutant_first = pollutant.groupby('country').first()\r\n",
        "print('Item pertama pollutant (5 teratas):\\n', pollutant_first.head())\r\n",
        "# Group berdasarkan country dan terapkan aggregasi last\r\n",
        "pollutant_last = pollutant.groupby('country').last()\r\n",
        "print('Item terakhir pollutant (5 teratas):\\n', pollutant_last.head())"
      ],
      "execution_count": 139,
      "outputs": [
        {
          "output_type": "stream",
          "text": [
            "Item pertama pollutant (5 teratas):\n",
            "           value                                            \n",
            "pollutant    bc       co      no2        o3 pm10  pm25  so2\n",
            "country                                                    \n",
            "AR          0.0    0.000   0.0000  0.000000  0.0  18.1  0.0\n",
            "AU          0.0    0.000   0.0000  0.000000  0.0   3.9  0.0\n",
            "BA          0.0  141.000  19.0000  8.000000  0.0   0.0  0.0\n",
            "CA          0.0    0.285   0.0024  0.048333  0.0   3.9  0.0\n",
            "CL          0.0    0.000  21.0000  0.000000  0.0   0.0  0.0\n",
            "Item terakhir pollutant (5 teratas):\n",
            "           value                                      \n",
            "pollutant    bc     co   no2     o3  pm10  pm25   so2\n",
            "country                                              \n",
            "AR          0.0    0.0   0.0  0.000   0.0  18.1   0.0\n",
            "AU          0.0    0.0   0.0  0.000   0.0   3.9   0.0\n",
            "BA          0.0  292.0  29.0  0.000  96.0   0.0  78.0\n",
            "CA          0.0    0.0   0.0  0.036   3.0   0.0   0.0\n",
            "CL          0.0    0.0  21.0  0.000   0.0   0.0   0.0\n"
          ],
          "name": "stdout"
        }
      ]
    },
    {
      "cell_type": "markdown",
      "metadata": {
        "id": "OkFIwdjQMklj"
      },
      "source": [
        "### Groupby dengan Multiple Aggregations\r\n",
        "Kali ini akan menggunakan grouby dengan multiple aggregations yang berupa kombinasi antara beberapa fungsi. Mari perhatikan contoh berikut ini"
      ]
    },
    {
      "cell_type": "markdown",
      "metadata": {
        "id": "DB5wtsyQMttR"
      },
      "source": [
        "Dataset : https://dqlab-dataset.s3-ap-southeast-1.amazonaws.com/LO4/global_air_quality_4000rows.csv"
      ]
    },
    {
      "cell_type": "code",
      "metadata": {
        "colab": {
          "base_uri": "https://localhost:8080/"
        },
        "id": "4Uo3NuQtL6_f",
        "outputId": "bbba5fda-a78e-4f18-d6f4-592db473a053"
      },
      "source": [
        "import pandas as pd\r\n",
        "# Load data https://dqlab-dataset.s3-ap-southeast-1.amazonaws.com/LO4/global_air_quality_4000rows.csv\r\n",
        "gaq = pd.read_csv('https://dqlab-dataset.s3-ap-southeast-1.amazonaws.com/LO4/global_air_quality_4000rows.csv')\r\n",
        "# Create variabel pollutant \r\n",
        "pollutant = gaq[['country','city','pollutant','value']].pivot_table(index=['country','city'],columns='pollutant').fillna(0)\r\n",
        "print('Data pollutant (5 teratas):\\n', pollutant.head())\r\n",
        "# Group berdasarkan country dan terapkan aggregasi: min, median, mean, max\r\n",
        "multiagg = pollutant.groupby('country').agg(['max','first','last'])\r\n",
        "print('Multiple aggregations (5 teratas):\\n', multiagg.head())"
      ],
      "execution_count": 141,
      "outputs": [
        {
          "output_type": "stream",
          "text": [
            "Data pollutant (5 teratas):\n",
            "                      value                                     \n",
            "pollutant               bc      co   no2   o3   pm10  pm25  so2\n",
            "country city                                                   \n",
            "AR      Buenos Aires   0.0     0.0   0.0  0.0    0.0  18.1  0.0\n",
            "AU      Townsville     0.0     0.0   0.0  0.0    0.0   3.9  0.0\n",
            "BA      Goražde        0.0   141.0  19.0  8.0    0.0   0.0  0.0\n",
            "        Ilijaš         0.0     0.0   0.0  0.0  100.0   0.0  0.0\n",
            "        Jajce          0.0  1508.0  25.0  6.0    9.0   0.0  0.0\n",
            "Multiple aggregations (5 teratas):\n",
            "         value                                ...                                \n",
            "           bc                   co           ...  pm25           so2            \n",
            "          max first last       max    first  ... first  last     max first  last\n",
            "country                                      ...                                \n",
            "AR        0.0   0.0  0.0     0.000    0.000  ...  18.1  18.1   0.000   0.0   0.0\n",
            "AU        0.0   0.0  0.0     0.000    0.000  ...   3.9   3.9   0.000   0.0   0.0\n",
            "BA        0.0   0.0  0.0  1508.000  141.000  ...   0.0   0.0  78.000   0.0  78.0\n",
            "CA        0.0   0.0  0.0     0.285    0.285  ...   3.9   0.0   0.001   0.0   0.0\n",
            "CL        0.0   0.0  0.0     0.000    0.000  ...   0.0   0.0   0.000   0.0   0.0\n",
            "\n",
            "[5 rows x 21 columns]\n"
          ],
          "name": "stdout"
        }
      ]
    },
    {
      "cell_type": "markdown",
      "metadata": {
        "id": "FTF74T2ENBsI"
      },
      "source": [
        "**Tugas Praktek**: \r\n",
        "\r\n",
        "Terapkanlah multiple aggregations pada dataframe pollutant dengan fungsi aggregasinya adalah **'min', 'median', 'mean', 'max'**."
      ]
    },
    {
      "cell_type": "code",
      "metadata": {
        "colab": {
          "base_uri": "https://localhost:8080/"
        },
        "id": "Qk2sS9S1MwGx",
        "outputId": "b4d17e84-35aa-4dfb-d084-ff1a4676aac4"
      },
      "source": [
        "# Group berdasarkan country dan terapkan aggregasi: min, median, mean, max\r\n",
        "multiagg_2 = pollutant.groupby('country').agg(['min','median','mean','max'])\r\n",
        "print('Multiple aggregations (5 teratas):\\n', multiagg_2.head())"
      ],
      "execution_count": 143,
      "outputs": [
        {
          "output_type": "stream",
          "text": [
            "Multiple aggregations (5 teratas):\n",
            "         value                        ...                                     \n",
            "           bc                    co  ...  pm25  so2                          \n",
            "          min median mean  max  min  ...   max  min median       mean     max\n",
            "country                              ...                                     \n",
            "AR        0.0    0.0  0.0  0.0  0.0  ...  18.1  0.0    0.0   0.000000   0.000\n",
            "AU        0.0    0.0  0.0  0.0  0.0  ...   3.9  0.0    0.0   0.000000   0.000\n",
            "BA        0.0    0.0  0.0  0.0  0.0  ...   0.0  0.0    5.5  18.000000  78.000\n",
            "CA        0.0    0.0  0.0  0.0  0.0  ...   6.0  0.0    0.0   0.000091   0.001\n",
            "CL        0.0    0.0  0.0  0.0  0.0  ...   0.0  0.0    0.0   0.000000   0.000\n",
            "\n",
            "[5 rows x 28 columns]\n"
          ],
          "name": "stdout"
        }
      ]
    },
    {
      "cell_type": "code",
      "metadata": {
        "colab": {
          "base_uri": "https://localhost:8080/",
          "height": 1000
        },
        "id": "eYtnKfpINQgc",
        "outputId": "fda58f8f-d007-4a89-ab55-09f3c014e8c5"
      },
      "source": [
        "multiagg_2"
      ],
      "execution_count": 144,
      "outputs": [
        {
          "output_type": "execute_result",
          "data": {
            "text/html": [
              "<div>\n",
              "<style scoped>\n",
              "    .dataframe tbody tr th:only-of-type {\n",
              "        vertical-align: middle;\n",
              "    }\n",
              "\n",
              "    .dataframe tbody tr th {\n",
              "        vertical-align: top;\n",
              "    }\n",
              "\n",
              "    .dataframe thead tr th {\n",
              "        text-align: left;\n",
              "    }\n",
              "\n",
              "    .dataframe thead tr:last-of-type th {\n",
              "        text-align: right;\n",
              "    }\n",
              "</style>\n",
              "<table border=\"1\" class=\"dataframe\">\n",
              "  <thead>\n",
              "    <tr>\n",
              "      <th></th>\n",
              "      <th colspan=\"28\" halign=\"left\">value</th>\n",
              "    </tr>\n",
              "    <tr>\n",
              "      <th></th>\n",
              "      <th colspan=\"4\" halign=\"left\">bc</th>\n",
              "      <th colspan=\"4\" halign=\"left\">co</th>\n",
              "      <th colspan=\"4\" halign=\"left\">no2</th>\n",
              "      <th colspan=\"4\" halign=\"left\">o3</th>\n",
              "      <th colspan=\"4\" halign=\"left\">pm10</th>\n",
              "      <th colspan=\"4\" halign=\"left\">pm25</th>\n",
              "      <th colspan=\"4\" halign=\"left\">so2</th>\n",
              "    </tr>\n",
              "    <tr>\n",
              "      <th></th>\n",
              "      <th>min</th>\n",
              "      <th>median</th>\n",
              "      <th>mean</th>\n",
              "      <th>max</th>\n",
              "      <th>min</th>\n",
              "      <th>median</th>\n",
              "      <th>mean</th>\n",
              "      <th>max</th>\n",
              "      <th>min</th>\n",
              "      <th>median</th>\n",
              "      <th>mean</th>\n",
              "      <th>max</th>\n",
              "      <th>min</th>\n",
              "      <th>median</th>\n",
              "      <th>mean</th>\n",
              "      <th>max</th>\n",
              "      <th>min</th>\n",
              "      <th>median</th>\n",
              "      <th>mean</th>\n",
              "      <th>max</th>\n",
              "      <th>min</th>\n",
              "      <th>median</th>\n",
              "      <th>mean</th>\n",
              "      <th>max</th>\n",
              "      <th>min</th>\n",
              "      <th>median</th>\n",
              "      <th>mean</th>\n",
              "      <th>max</th>\n",
              "    </tr>\n",
              "    <tr>\n",
              "      <th>country</th>\n",
              "      <th></th>\n",
              "      <th></th>\n",
              "      <th></th>\n",
              "      <th></th>\n",
              "      <th></th>\n",
              "      <th></th>\n",
              "      <th></th>\n",
              "      <th></th>\n",
              "      <th></th>\n",
              "      <th></th>\n",
              "      <th></th>\n",
              "      <th></th>\n",
              "      <th></th>\n",
              "      <th></th>\n",
              "      <th></th>\n",
              "      <th></th>\n",
              "      <th></th>\n",
              "      <th></th>\n",
              "      <th></th>\n",
              "      <th></th>\n",
              "      <th></th>\n",
              "      <th></th>\n",
              "      <th></th>\n",
              "      <th></th>\n",
              "      <th></th>\n",
              "      <th></th>\n",
              "      <th></th>\n",
              "      <th></th>\n",
              "    </tr>\n",
              "  </thead>\n",
              "  <tbody>\n",
              "    <tr>\n",
              "      <th>AR</th>\n",
              "      <td>0.0</td>\n",
              "      <td>0.0</td>\n",
              "      <td>0.000000</td>\n",
              "      <td>0.0000</td>\n",
              "      <td>0.000000</td>\n",
              "      <td>0.000000</td>\n",
              "      <td>0.000000</td>\n",
              "      <td>0.000000</td>\n",
              "      <td>0.000000</td>\n",
              "      <td>0.000000</td>\n",
              "      <td>0.000000</td>\n",
              "      <td>0.000000</td>\n",
              "      <td>0.000000</td>\n",
              "      <td>0.000000</td>\n",
              "      <td>0.000000</td>\n",
              "      <td>0.000000</td>\n",
              "      <td>0.0000</td>\n",
              "      <td>0.00000</td>\n",
              "      <td>0.000000</td>\n",
              "      <td>0.000000</td>\n",
              "      <td>18.100000</td>\n",
              "      <td>18.100000</td>\n",
              "      <td>18.100000</td>\n",
              "      <td>18.100000</td>\n",
              "      <td>0.000000</td>\n",
              "      <td>0.000000</td>\n",
              "      <td>0.000000</td>\n",
              "      <td>0.000000</td>\n",
              "    </tr>\n",
              "    <tr>\n",
              "      <th>AU</th>\n",
              "      <td>0.0</td>\n",
              "      <td>0.0</td>\n",
              "      <td>0.000000</td>\n",
              "      <td>0.0000</td>\n",
              "      <td>0.000000</td>\n",
              "      <td>0.000000</td>\n",
              "      <td>0.000000</td>\n",
              "      <td>0.000000</td>\n",
              "      <td>0.000000</td>\n",
              "      <td>0.000000</td>\n",
              "      <td>0.000000</td>\n",
              "      <td>0.000000</td>\n",
              "      <td>0.000000</td>\n",
              "      <td>0.000000</td>\n",
              "      <td>0.000000</td>\n",
              "      <td>0.000000</td>\n",
              "      <td>0.0000</td>\n",
              "      <td>0.00000</td>\n",
              "      <td>0.000000</td>\n",
              "      <td>0.000000</td>\n",
              "      <td>3.900000</td>\n",
              "      <td>3.900000</td>\n",
              "      <td>3.900000</td>\n",
              "      <td>3.900000</td>\n",
              "      <td>0.000000</td>\n",
              "      <td>0.000000</td>\n",
              "      <td>0.000000</td>\n",
              "      <td>0.000000</td>\n",
              "    </tr>\n",
              "    <tr>\n",
              "      <th>BA</th>\n",
              "      <td>0.0</td>\n",
              "      <td>0.0</td>\n",
              "      <td>0.000000</td>\n",
              "      <td>0.0000</td>\n",
              "      <td>0.000000</td>\n",
              "      <td>355.000000</td>\n",
              "      <td>475.833333</td>\n",
              "      <td>1508.000000</td>\n",
              "      <td>0.000000</td>\n",
              "      <td>22.000000</td>\n",
              "      <td>19.500000</td>\n",
              "      <td>32.000000</td>\n",
              "      <td>0.000000</td>\n",
              "      <td>3.000000</td>\n",
              "      <td>5.833333</td>\n",
              "      <td>21.000000</td>\n",
              "      <td>0.0000</td>\n",
              "      <td>23.00000</td>\n",
              "      <td>40.333333</td>\n",
              "      <td>100.000000</td>\n",
              "      <td>0.000000</td>\n",
              "      <td>0.000000</td>\n",
              "      <td>0.000000</td>\n",
              "      <td>0.000000</td>\n",
              "      <td>0.000000</td>\n",
              "      <td>5.500000</td>\n",
              "      <td>18.000000</td>\n",
              "      <td>78.000000</td>\n",
              "    </tr>\n",
              "    <tr>\n",
              "      <th>CA</th>\n",
              "      <td>0.0</td>\n",
              "      <td>0.0</td>\n",
              "      <td>0.000000</td>\n",
              "      <td>0.0000</td>\n",
              "      <td>0.000000</td>\n",
              "      <td>0.000000</td>\n",
              "      <td>0.036818</td>\n",
              "      <td>0.285000</td>\n",
              "      <td>0.000000</td>\n",
              "      <td>0.000000</td>\n",
              "      <td>0.000355</td>\n",
              "      <td>0.002400</td>\n",
              "      <td>0.000000</td>\n",
              "      <td>0.035455</td>\n",
              "      <td>0.025963</td>\n",
              "      <td>0.048333</td>\n",
              "      <td>0.0000</td>\n",
              "      <td>0.00000</td>\n",
              "      <td>0.836364</td>\n",
              "      <td>5.200000</td>\n",
              "      <td>0.000000</td>\n",
              "      <td>4.000000</td>\n",
              "      <td>3.433601</td>\n",
              "      <td>6.000000</td>\n",
              "      <td>0.000000</td>\n",
              "      <td>0.000000</td>\n",
              "      <td>0.000091</td>\n",
              "      <td>0.001000</td>\n",
              "    </tr>\n",
              "    <tr>\n",
              "      <th>CL</th>\n",
              "      <td>0.0</td>\n",
              "      <td>0.0</td>\n",
              "      <td>0.000000</td>\n",
              "      <td>0.0000</td>\n",
              "      <td>0.000000</td>\n",
              "      <td>0.000000</td>\n",
              "      <td>0.000000</td>\n",
              "      <td>0.000000</td>\n",
              "      <td>21.000000</td>\n",
              "      <td>21.000000</td>\n",
              "      <td>21.000000</td>\n",
              "      <td>21.000000</td>\n",
              "      <td>0.000000</td>\n",
              "      <td>0.000000</td>\n",
              "      <td>0.000000</td>\n",
              "      <td>0.000000</td>\n",
              "      <td>0.0000</td>\n",
              "      <td>0.00000</td>\n",
              "      <td>0.000000</td>\n",
              "      <td>0.000000</td>\n",
              "      <td>0.000000</td>\n",
              "      <td>0.000000</td>\n",
              "      <td>0.000000</td>\n",
              "      <td>0.000000</td>\n",
              "      <td>0.000000</td>\n",
              "      <td>0.000000</td>\n",
              "      <td>0.000000</td>\n",
              "      <td>0.000000</td>\n",
              "    </tr>\n",
              "    <tr>\n",
              "      <th>CN</th>\n",
              "      <td>0.0</td>\n",
              "      <td>0.0</td>\n",
              "      <td>0.000000</td>\n",
              "      <td>0.0000</td>\n",
              "      <td>0.000000</td>\n",
              "      <td>0.000000</td>\n",
              "      <td>282.589744</td>\n",
              "      <td>759.000000</td>\n",
              "      <td>0.000000</td>\n",
              "      <td>24.500000</td>\n",
              "      <td>20.974359</td>\n",
              "      <td>61.000000</td>\n",
              "      <td>0.000000</td>\n",
              "      <td>41.000000</td>\n",
              "      <td>36.948718</td>\n",
              "      <td>87.500000</td>\n",
              "      <td>0.0000</td>\n",
              "      <td>55.00000</td>\n",
              "      <td>43.141026</td>\n",
              "      <td>89.000000</td>\n",
              "      <td>0.000000</td>\n",
              "      <td>39.000000</td>\n",
              "      <td>47.038462</td>\n",
              "      <td>173.000000</td>\n",
              "      <td>0.000000</td>\n",
              "      <td>8.000000</td>\n",
              "      <td>6.025641</td>\n",
              "      <td>14.000000</td>\n",
              "    </tr>\n",
              "    <tr>\n",
              "      <th>CO</th>\n",
              "      <td>0.0</td>\n",
              "      <td>0.0</td>\n",
              "      <td>0.000000</td>\n",
              "      <td>0.0000</td>\n",
              "      <td>-4999.309637</td>\n",
              "      <td>0.000000</td>\n",
              "      <td>-555.478849</td>\n",
              "      <td>0.000000</td>\n",
              "      <td>-2499.746724</td>\n",
              "      <td>0.000000</td>\n",
              "      <td>-277.749636</td>\n",
              "      <td>0.000000</td>\n",
              "      <td>-7499.240750</td>\n",
              "      <td>0.000000</td>\n",
              "      <td>-833.246417</td>\n",
              "      <td>0.023000</td>\n",
              "      <td>-9999.0000</td>\n",
              "      <td>0.00000</td>\n",
              "      <td>-1107.811233</td>\n",
              "      <td>16.698900</td>\n",
              "      <td>0.000000</td>\n",
              "      <td>7.000000</td>\n",
              "      <td>5.106272</td>\n",
              "      <td>9.915290</td>\n",
              "      <td>0.000000</td>\n",
              "      <td>0.000000</td>\n",
              "      <td>0.000000</td>\n",
              "      <td>0.000000</td>\n",
              "    </tr>\n",
              "    <tr>\n",
              "      <th>ES</th>\n",
              "      <td>0.0</td>\n",
              "      <td>0.0</td>\n",
              "      <td>0.000000</td>\n",
              "      <td>0.0000</td>\n",
              "      <td>0.000000</td>\n",
              "      <td>0.000000</td>\n",
              "      <td>66.121032</td>\n",
              "      <td>538.750000</td>\n",
              "      <td>0.000000</td>\n",
              "      <td>6.750000</td>\n",
              "      <td>10.886710</td>\n",
              "      <td>44.000000</td>\n",
              "      <td>0.000000</td>\n",
              "      <td>0.000000</td>\n",
              "      <td>16.886905</td>\n",
              "      <td>106.000000</td>\n",
              "      <td>0.0000</td>\n",
              "      <td>0.00000</td>\n",
              "      <td>2.794049</td>\n",
              "      <td>24.000000</td>\n",
              "      <td>0.000000</td>\n",
              "      <td>0.000000</td>\n",
              "      <td>0.190476</td>\n",
              "      <td>8.000000</td>\n",
              "      <td>0.000000</td>\n",
              "      <td>3.750000</td>\n",
              "      <td>5.272653</td>\n",
              "      <td>63.000000</td>\n",
              "    </tr>\n",
              "    <tr>\n",
              "      <th>GB</th>\n",
              "      <td>0.0</td>\n",
              "      <td>0.0</td>\n",
              "      <td>0.000000</td>\n",
              "      <td>0.0000</td>\n",
              "      <td>0.000000</td>\n",
              "      <td>0.000000</td>\n",
              "      <td>0.000000</td>\n",
              "      <td>0.000000</td>\n",
              "      <td>0.000000</td>\n",
              "      <td>0.000000</td>\n",
              "      <td>11.102976</td>\n",
              "      <td>106.000000</td>\n",
              "      <td>0.000000</td>\n",
              "      <td>0.000000</td>\n",
              "      <td>32.542857</td>\n",
              "      <td>110.000000</td>\n",
              "      <td>0.0000</td>\n",
              "      <td>0.00000</td>\n",
              "      <td>6.842857</td>\n",
              "      <td>31.000000</td>\n",
              "      <td>0.000000</td>\n",
              "      <td>0.000000</td>\n",
              "      <td>3.921429</td>\n",
              "      <td>62.000000</td>\n",
              "      <td>0.000000</td>\n",
              "      <td>0.000000</td>\n",
              "      <td>0.538095</td>\n",
              "      <td>11.000000</td>\n",
              "    </tr>\n",
              "    <tr>\n",
              "      <th>ID</th>\n",
              "      <td>0.0</td>\n",
              "      <td>0.0</td>\n",
              "      <td>0.000000</td>\n",
              "      <td>0.0000</td>\n",
              "      <td>0.000000</td>\n",
              "      <td>0.000000</td>\n",
              "      <td>0.000000</td>\n",
              "      <td>0.000000</td>\n",
              "      <td>0.000000</td>\n",
              "      <td>0.000000</td>\n",
              "      <td>0.000000</td>\n",
              "      <td>0.000000</td>\n",
              "      <td>0.000000</td>\n",
              "      <td>0.000000</td>\n",
              "      <td>0.000000</td>\n",
              "      <td>0.000000</td>\n",
              "      <td>0.0000</td>\n",
              "      <td>0.00000</td>\n",
              "      <td>0.000000</td>\n",
              "      <td>0.000000</td>\n",
              "      <td>8.800000</td>\n",
              "      <td>8.800000</td>\n",
              "      <td>8.800000</td>\n",
              "      <td>8.800000</td>\n",
              "      <td>0.000000</td>\n",
              "      <td>0.000000</td>\n",
              "      <td>0.000000</td>\n",
              "      <td>0.000000</td>\n",
              "    </tr>\n",
              "    <tr>\n",
              "      <th>IL</th>\n",
              "      <td>0.0</td>\n",
              "      <td>0.0</td>\n",
              "      <td>0.000000</td>\n",
              "      <td>0.0000</td>\n",
              "      <td>0.000000</td>\n",
              "      <td>0.250000</td>\n",
              "      <td>0.271429</td>\n",
              "      <td>0.700000</td>\n",
              "      <td>0.000000</td>\n",
              "      <td>0.018521</td>\n",
              "      <td>0.017532</td>\n",
              "      <td>0.029200</td>\n",
              "      <td>0.000000</td>\n",
              "      <td>0.018652</td>\n",
              "      <td>0.019455</td>\n",
              "      <td>0.052600</td>\n",
              "      <td>0.0000</td>\n",
              "      <td>0.00000</td>\n",
              "      <td>0.000000</td>\n",
              "      <td>0.000000</td>\n",
              "      <td>0.000000</td>\n",
              "      <td>0.000000</td>\n",
              "      <td>1.671429</td>\n",
              "      <td>23.400000</td>\n",
              "      <td>0.000000</td>\n",
              "      <td>0.000538</td>\n",
              "      <td>0.000728</td>\n",
              "      <td>0.002300</td>\n",
              "    </tr>\n",
              "    <tr>\n",
              "      <th>IN</th>\n",
              "      <td>0.0</td>\n",
              "      <td>0.0</td>\n",
              "      <td>0.000000</td>\n",
              "      <td>0.0000</td>\n",
              "      <td>0.000000</td>\n",
              "      <td>0.000000</td>\n",
              "      <td>355.537529</td>\n",
              "      <td>3115.000000</td>\n",
              "      <td>0.000000</td>\n",
              "      <td>0.000000</td>\n",
              "      <td>5.702424</td>\n",
              "      <td>62.600000</td>\n",
              "      <td>0.000000</td>\n",
              "      <td>0.000000</td>\n",
              "      <td>13.717442</td>\n",
              "      <td>102.690000</td>\n",
              "      <td>0.0000</td>\n",
              "      <td>0.00000</td>\n",
              "      <td>43.289545</td>\n",
              "      <td>985.000000</td>\n",
              "      <td>0.000000</td>\n",
              "      <td>0.000000</td>\n",
              "      <td>33.253647</td>\n",
              "      <td>985.000000</td>\n",
              "      <td>0.000000</td>\n",
              "      <td>0.000000</td>\n",
              "      <td>16.122299</td>\n",
              "      <td>1632.650000</td>\n",
              "    </tr>\n",
              "    <tr>\n",
              "      <th>IT</th>\n",
              "      <td>0.0</td>\n",
              "      <td>0.0</td>\n",
              "      <td>0.000000</td>\n",
              "      <td>0.0000</td>\n",
              "      <td>0.000000</td>\n",
              "      <td>300.000000</td>\n",
              "      <td>305.555556</td>\n",
              "      <td>633.333333</td>\n",
              "      <td>0.000000</td>\n",
              "      <td>4.833333</td>\n",
              "      <td>7.333333</td>\n",
              "      <td>24.000000</td>\n",
              "      <td>69.000000</td>\n",
              "      <td>83.500000</td>\n",
              "      <td>83.119048</td>\n",
              "      <td>96.000000</td>\n",
              "      <td>0.0000</td>\n",
              "      <td>17.95000</td>\n",
              "      <td>15.816667</td>\n",
              "      <td>23.000000</td>\n",
              "      <td>0.000000</td>\n",
              "      <td>5.166667</td>\n",
              "      <td>6.400794</td>\n",
              "      <td>14.571429</td>\n",
              "      <td>-248.975000</td>\n",
              "      <td>0.133333</td>\n",
              "      <td>-42.768056</td>\n",
              "      <td>0.800000</td>\n",
              "    </tr>\n",
              "    <tr>\n",
              "      <th>MK</th>\n",
              "      <td>0.0</td>\n",
              "      <td>0.0</td>\n",
              "      <td>0.000000</td>\n",
              "      <td>0.0000</td>\n",
              "      <td>0.000000</td>\n",
              "      <td>0.000000</td>\n",
              "      <td>0.000000</td>\n",
              "      <td>0.000000</td>\n",
              "      <td>0.000000</td>\n",
              "      <td>0.000000</td>\n",
              "      <td>0.000000</td>\n",
              "      <td>0.000000</td>\n",
              "      <td>14.000000</td>\n",
              "      <td>14.000000</td>\n",
              "      <td>14.000000</td>\n",
              "      <td>14.000000</td>\n",
              "      <td>0.0000</td>\n",
              "      <td>0.00000</td>\n",
              "      <td>0.000000</td>\n",
              "      <td>0.000000</td>\n",
              "      <td>0.000000</td>\n",
              "      <td>0.000000</td>\n",
              "      <td>0.000000</td>\n",
              "      <td>0.000000</td>\n",
              "      <td>27.000000</td>\n",
              "      <td>27.000000</td>\n",
              "      <td>27.000000</td>\n",
              "      <td>27.000000</td>\n",
              "    </tr>\n",
              "    <tr>\n",
              "      <th>MN</th>\n",
              "      <td>0.0</td>\n",
              "      <td>0.0</td>\n",
              "      <td>0.000000</td>\n",
              "      <td>0.0000</td>\n",
              "      <td>226.400000</td>\n",
              "      <td>226.400000</td>\n",
              "      <td>226.400000</td>\n",
              "      <td>226.400000</td>\n",
              "      <td>19.250000</td>\n",
              "      <td>19.250000</td>\n",
              "      <td>19.250000</td>\n",
              "      <td>19.250000</td>\n",
              "      <td>41.400000</td>\n",
              "      <td>41.400000</td>\n",
              "      <td>41.400000</td>\n",
              "      <td>41.400000</td>\n",
              "      <td>136.5000</td>\n",
              "      <td>136.50000</td>\n",
              "      <td>136.500000</td>\n",
              "      <td>136.500000</td>\n",
              "      <td>157.750000</td>\n",
              "      <td>157.750000</td>\n",
              "      <td>157.750000</td>\n",
              "      <td>157.750000</td>\n",
              "      <td>15.666667</td>\n",
              "      <td>15.666667</td>\n",
              "      <td>15.666667</td>\n",
              "      <td>15.666667</td>\n",
              "    </tr>\n",
              "    <tr>\n",
              "      <th>MT</th>\n",
              "      <td>0.0</td>\n",
              "      <td>0.0</td>\n",
              "      <td>0.000000</td>\n",
              "      <td>0.0000</td>\n",
              "      <td>0.000000</td>\n",
              "      <td>0.000000</td>\n",
              "      <td>82.076000</td>\n",
              "      <td>328.304000</td>\n",
              "      <td>-3.060000</td>\n",
              "      <td>0.000000</td>\n",
              "      <td>-0.765000</td>\n",
              "      <td>0.000000</td>\n",
              "      <td>0.000000</td>\n",
              "      <td>0.000000</td>\n",
              "      <td>0.000000</td>\n",
              "      <td>0.000000</td>\n",
              "      <td>0.0000</td>\n",
              "      <td>0.00000</td>\n",
              "      <td>5.702500</td>\n",
              "      <td>22.810000</td>\n",
              "      <td>0.000000</td>\n",
              "      <td>7.383500</td>\n",
              "      <td>9.791750</td>\n",
              "      <td>24.400000</td>\n",
              "      <td>0.000000</td>\n",
              "      <td>0.000000</td>\n",
              "      <td>0.177172</td>\n",
              "      <td>0.708690</td>\n",
              "    </tr>\n",
              "    <tr>\n",
              "      <th>MX</th>\n",
              "      <td>0.0</td>\n",
              "      <td>0.0</td>\n",
              "      <td>0.000000</td>\n",
              "      <td>0.0000</td>\n",
              "      <td>0.000000</td>\n",
              "      <td>0.550000</td>\n",
              "      <td>2.463600</td>\n",
              "      <td>10.768000</td>\n",
              "      <td>0.000000</td>\n",
              "      <td>0.005000</td>\n",
              "      <td>0.005971</td>\n",
              "      <td>0.012857</td>\n",
              "      <td>0.000000</td>\n",
              "      <td>0.053875</td>\n",
              "      <td>0.043875</td>\n",
              "      <td>0.081000</td>\n",
              "      <td>0.0000</td>\n",
              "      <td>36.00000</td>\n",
              "      <td>30.006667</td>\n",
              "      <td>43.200000</td>\n",
              "      <td>4.666667</td>\n",
              "      <td>10.500000</td>\n",
              "      <td>12.520000</td>\n",
              "      <td>19.600000</td>\n",
              "      <td>0.000000</td>\n",
              "      <td>0.002600</td>\n",
              "      <td>0.002902</td>\n",
              "      <td>0.008800</td>\n",
              "    </tr>\n",
              "    <tr>\n",
              "      <th>NO</th>\n",
              "      <td>0.0</td>\n",
              "      <td>0.0</td>\n",
              "      <td>0.000000</td>\n",
              "      <td>0.0000</td>\n",
              "      <td>0.000000</td>\n",
              "      <td>0.000000</td>\n",
              "      <td>0.000000</td>\n",
              "      <td>0.000000</td>\n",
              "      <td>0.000000</td>\n",
              "      <td>0.000000</td>\n",
              "      <td>11.320323</td>\n",
              "      <td>53.936337</td>\n",
              "      <td>0.000000</td>\n",
              "      <td>0.000000</td>\n",
              "      <td>16.241379</td>\n",
              "      <td>78.200000</td>\n",
              "      <td>0.0000</td>\n",
              "      <td>3.80000</td>\n",
              "      <td>36.035623</td>\n",
              "      <td>769.845850</td>\n",
              "      <td>0.000000</td>\n",
              "      <td>0.000000</td>\n",
              "      <td>3.454256</td>\n",
              "      <td>12.600000</td>\n",
              "      <td>-1.951338</td>\n",
              "      <td>0.000000</td>\n",
              "      <td>0.496117</td>\n",
              "      <td>13.503581</td>\n",
              "    </tr>\n",
              "    <tr>\n",
              "      <th>PE</th>\n",
              "      <td>0.0</td>\n",
              "      <td>0.0</td>\n",
              "      <td>0.000000</td>\n",
              "      <td>0.0000</td>\n",
              "      <td>954.116667</td>\n",
              "      <td>954.116667</td>\n",
              "      <td>954.116667</td>\n",
              "      <td>954.116667</td>\n",
              "      <td>4.545000</td>\n",
              "      <td>4.545000</td>\n",
              "      <td>4.545000</td>\n",
              "      <td>4.545000</td>\n",
              "      <td>8.773333</td>\n",
              "      <td>8.773333</td>\n",
              "      <td>8.773333</td>\n",
              "      <td>8.773333</td>\n",
              "      <td>33.2025</td>\n",
              "      <td>33.20250</td>\n",
              "      <td>33.202500</td>\n",
              "      <td>33.202500</td>\n",
              "      <td>11.088000</td>\n",
              "      <td>11.088000</td>\n",
              "      <td>11.088000</td>\n",
              "      <td>11.088000</td>\n",
              "      <td>17.231667</td>\n",
              "      <td>17.231667</td>\n",
              "      <td>17.231667</td>\n",
              "      <td>17.231667</td>\n",
              "    </tr>\n",
              "    <tr>\n",
              "      <th>PH</th>\n",
              "      <td>0.0</td>\n",
              "      <td>0.0</td>\n",
              "      <td>0.000000</td>\n",
              "      <td>0.0000</td>\n",
              "      <td>0.000000</td>\n",
              "      <td>0.000000</td>\n",
              "      <td>0.000000</td>\n",
              "      <td>0.000000</td>\n",
              "      <td>0.000000</td>\n",
              "      <td>0.000000</td>\n",
              "      <td>0.000000</td>\n",
              "      <td>0.000000</td>\n",
              "      <td>0.000000</td>\n",
              "      <td>0.000000</td>\n",
              "      <td>0.000000</td>\n",
              "      <td>0.000000</td>\n",
              "      <td>0.0000</td>\n",
              "      <td>0.00000</td>\n",
              "      <td>0.000000</td>\n",
              "      <td>0.000000</td>\n",
              "      <td>9.700000</td>\n",
              "      <td>9.700000</td>\n",
              "      <td>9.700000</td>\n",
              "      <td>9.700000</td>\n",
              "      <td>0.000000</td>\n",
              "      <td>0.000000</td>\n",
              "      <td>0.000000</td>\n",
              "      <td>0.000000</td>\n",
              "    </tr>\n",
              "    <tr>\n",
              "      <th>PL</th>\n",
              "      <td>0.0</td>\n",
              "      <td>0.0</td>\n",
              "      <td>0.492162</td>\n",
              "      <td>11.2705</td>\n",
              "      <td>0.000000</td>\n",
              "      <td>0.000000</td>\n",
              "      <td>197.876695</td>\n",
              "      <td>3566.000000</td>\n",
              "      <td>0.000000</td>\n",
              "      <td>0.000000</td>\n",
              "      <td>11.908483</td>\n",
              "      <td>128.800000</td>\n",
              "      <td>0.000000</td>\n",
              "      <td>0.000000</td>\n",
              "      <td>14.985964</td>\n",
              "      <td>86.753300</td>\n",
              "      <td>0.0000</td>\n",
              "      <td>0.00000</td>\n",
              "      <td>29.206513</td>\n",
              "      <td>153.122500</td>\n",
              "      <td>0.000000</td>\n",
              "      <td>0.000000</td>\n",
              "      <td>12.032507</td>\n",
              "      <td>233.000000</td>\n",
              "      <td>0.000000</td>\n",
              "      <td>0.000000</td>\n",
              "      <td>2.532403</td>\n",
              "      <td>27.812200</td>\n",
              "    </tr>\n",
              "    <tr>\n",
              "      <th>SE</th>\n",
              "      <td>0.0</td>\n",
              "      <td>0.0</td>\n",
              "      <td>0.000000</td>\n",
              "      <td>0.0000</td>\n",
              "      <td>0.000000</td>\n",
              "      <td>0.000000</td>\n",
              "      <td>0.000000</td>\n",
              "      <td>0.000000</td>\n",
              "      <td>17.972062</td>\n",
              "      <td>24.998531</td>\n",
              "      <td>24.998531</td>\n",
              "      <td>32.025000</td>\n",
              "      <td>0.000000</td>\n",
              "      <td>20.236250</td>\n",
              "      <td>20.236250</td>\n",
              "      <td>40.472500</td>\n",
              "      <td>0.0000</td>\n",
              "      <td>18.43125</td>\n",
              "      <td>18.431250</td>\n",
              "      <td>36.862500</td>\n",
              "      <td>0.000000</td>\n",
              "      <td>13.891300</td>\n",
              "      <td>13.891300</td>\n",
              "      <td>27.782600</td>\n",
              "      <td>0.000000</td>\n",
              "      <td>0.000000</td>\n",
              "      <td>0.000000</td>\n",
              "      <td>0.000000</td>\n",
              "    </tr>\n",
              "    <tr>\n",
              "      <th>TH</th>\n",
              "      <td>0.0</td>\n",
              "      <td>0.0</td>\n",
              "      <td>0.000000</td>\n",
              "      <td>0.0000</td>\n",
              "      <td>0.000000</td>\n",
              "      <td>0.035000</td>\n",
              "      <td>0.655962</td>\n",
              "      <td>10.300000</td>\n",
              "      <td>0.000000</td>\n",
              "      <td>0.000000</td>\n",
              "      <td>0.003308</td>\n",
              "      <td>0.020000</td>\n",
              "      <td>0.000000</td>\n",
              "      <td>0.002000</td>\n",
              "      <td>0.006769</td>\n",
              "      <td>0.028500</td>\n",
              "      <td>0.0000</td>\n",
              "      <td>31.00000</td>\n",
              "      <td>37.918269</td>\n",
              "      <td>108.000000</td>\n",
              "      <td>0.000000</td>\n",
              "      <td>0.000000</td>\n",
              "      <td>0.000000</td>\n",
              "      <td>0.000000</td>\n",
              "      <td>0.000000</td>\n",
              "      <td>0.000250</td>\n",
              "      <td>0.004273</td>\n",
              "      <td>0.038000</td>\n",
              "    </tr>\n",
              "    <tr>\n",
              "      <th>TR</th>\n",
              "      <td>0.0</td>\n",
              "      <td>0.0</td>\n",
              "      <td>0.000000</td>\n",
              "      <td>0.0000</td>\n",
              "      <td>-335582.000000</td>\n",
              "      <td>0.000000</td>\n",
              "      <td>-8421.346491</td>\n",
              "      <td>4320.000000</td>\n",
              "      <td>-1.000000</td>\n",
              "      <td>4.000000</td>\n",
              "      <td>15.423977</td>\n",
              "      <td>99.000000</td>\n",
              "      <td>0.000000</td>\n",
              "      <td>7.000000</td>\n",
              "      <td>20.361711</td>\n",
              "      <td>80.000000</td>\n",
              "      <td>0.0000</td>\n",
              "      <td>22.50000</td>\n",
              "      <td>25.942544</td>\n",
              "      <td>112.666667</td>\n",
              "      <td>0.000000</td>\n",
              "      <td>0.000000</td>\n",
              "      <td>0.000000</td>\n",
              "      <td>0.000000</td>\n",
              "      <td>-1.000000</td>\n",
              "      <td>4.000000</td>\n",
              "      <td>7.138158</td>\n",
              "      <td>31.000000</td>\n",
              "    </tr>\n",
              "    <tr>\n",
              "      <th>TW</th>\n",
              "      <td>0.0</td>\n",
              "      <td>0.0</td>\n",
              "      <td>0.000000</td>\n",
              "      <td>0.0000</td>\n",
              "      <td>0.000000</td>\n",
              "      <td>0.135000</td>\n",
              "      <td>0.149659</td>\n",
              "      <td>0.517500</td>\n",
              "      <td>0.000000</td>\n",
              "      <td>0.007500</td>\n",
              "      <td>0.008238</td>\n",
              "      <td>0.032000</td>\n",
              "      <td>0.000000</td>\n",
              "      <td>0.015725</td>\n",
              "      <td>0.017240</td>\n",
              "      <td>0.058000</td>\n",
              "      <td>0.0000</td>\n",
              "      <td>24.75000</td>\n",
              "      <td>23.683333</td>\n",
              "      <td>60.000000</td>\n",
              "      <td>0.000000</td>\n",
              "      <td>10.900000</td>\n",
              "      <td>11.157576</td>\n",
              "      <td>33.000000</td>\n",
              "      <td>0.000000</td>\n",
              "      <td>0.001250</td>\n",
              "      <td>0.001382</td>\n",
              "      <td>0.004200</td>\n",
              "    </tr>\n",
              "    <tr>\n",
              "      <th>US</th>\n",
              "      <td>0.0</td>\n",
              "      <td>0.0</td>\n",
              "      <td>0.523293</td>\n",
              "      <td>273.7350</td>\n",
              "      <td>0.000000</td>\n",
              "      <td>0.000000</td>\n",
              "      <td>0.069514</td>\n",
              "      <td>14.660000</td>\n",
              "      <td>0.000000</td>\n",
              "      <td>0.000000</td>\n",
              "      <td>0.000823</td>\n",
              "      <td>0.026000</td>\n",
              "      <td>0.000000</td>\n",
              "      <td>0.028000</td>\n",
              "      <td>0.022993</td>\n",
              "      <td>0.098000</td>\n",
              "      <td>-3.0000</td>\n",
              "      <td>0.00000</td>\n",
              "      <td>3.049226</td>\n",
              "      <td>92.000000</td>\n",
              "      <td>-3.200000</td>\n",
              "      <td>0.150000</td>\n",
              "      <td>3.371110</td>\n",
              "      <td>58.000000</td>\n",
              "      <td>-0.001000</td>\n",
              "      <td>0.000000</td>\n",
              "      <td>0.000100</td>\n",
              "      <td>0.005000</td>\n",
              "    </tr>\n",
              "    <tr>\n",
              "      <th>VN</th>\n",
              "      <td>0.0</td>\n",
              "      <td>0.0</td>\n",
              "      <td>0.000000</td>\n",
              "      <td>0.0000</td>\n",
              "      <td>0.000000</td>\n",
              "      <td>0.000000</td>\n",
              "      <td>0.000000</td>\n",
              "      <td>0.000000</td>\n",
              "      <td>0.000000</td>\n",
              "      <td>0.000000</td>\n",
              "      <td>0.000000</td>\n",
              "      <td>0.000000</td>\n",
              "      <td>0.000000</td>\n",
              "      <td>0.000000</td>\n",
              "      <td>0.000000</td>\n",
              "      <td>0.000000</td>\n",
              "      <td>0.0000</td>\n",
              "      <td>0.00000</td>\n",
              "      <td>0.000000</td>\n",
              "      <td>0.000000</td>\n",
              "      <td>36.900000</td>\n",
              "      <td>36.900000</td>\n",
              "      <td>36.900000</td>\n",
              "      <td>36.900000</td>\n",
              "      <td>0.000000</td>\n",
              "      <td>0.000000</td>\n",
              "      <td>0.000000</td>\n",
              "      <td>0.000000</td>\n",
              "    </tr>\n",
              "    <tr>\n",
              "      <th>XK</th>\n",
              "      <td>0.0</td>\n",
              "      <td>0.0</td>\n",
              "      <td>0.000000</td>\n",
              "      <td>0.0000</td>\n",
              "      <td>0.000000</td>\n",
              "      <td>56.000000</td>\n",
              "      <td>178.000000</td>\n",
              "      <td>852.000000</td>\n",
              "      <td>0.000000</td>\n",
              "      <td>0.000000</td>\n",
              "      <td>2.131857</td>\n",
              "      <td>6.377000</td>\n",
              "      <td>0.000000</td>\n",
              "      <td>65.391000</td>\n",
              "      <td>48.977429</td>\n",
              "      <td>87.384000</td>\n",
              "      <td>0.0000</td>\n",
              "      <td>0.00000</td>\n",
              "      <td>5.562571</td>\n",
              "      <td>24.414000</td>\n",
              "      <td>0.000000</td>\n",
              "      <td>0.000000</td>\n",
              "      <td>7.145786</td>\n",
              "      <td>19.471000</td>\n",
              "      <td>0.000000</td>\n",
              "      <td>2.704000</td>\n",
              "      <td>7.821571</td>\n",
              "      <td>37.086000</td>\n",
              "    </tr>\n",
              "  </tbody>\n",
              "</table>\n",
              "</div>"
            ],
            "text/plain": [
              "        value                   ...                                   \n",
              "           bc                   ...        so2                        \n",
              "          min median      mean  ...     median       mean          max\n",
              "country                         ...                                   \n",
              "AR        0.0    0.0  0.000000  ...   0.000000   0.000000     0.000000\n",
              "AU        0.0    0.0  0.000000  ...   0.000000   0.000000     0.000000\n",
              "BA        0.0    0.0  0.000000  ...   5.500000  18.000000    78.000000\n",
              "CA        0.0    0.0  0.000000  ...   0.000000   0.000091     0.001000\n",
              "CL        0.0    0.0  0.000000  ...   0.000000   0.000000     0.000000\n",
              "CN        0.0    0.0  0.000000  ...   8.000000   6.025641    14.000000\n",
              "CO        0.0    0.0  0.000000  ...   0.000000   0.000000     0.000000\n",
              "ES        0.0    0.0  0.000000  ...   3.750000   5.272653    63.000000\n",
              "GB        0.0    0.0  0.000000  ...   0.000000   0.538095    11.000000\n",
              "ID        0.0    0.0  0.000000  ...   0.000000   0.000000     0.000000\n",
              "IL        0.0    0.0  0.000000  ...   0.000538   0.000728     0.002300\n",
              "IN        0.0    0.0  0.000000  ...   0.000000  16.122299  1632.650000\n",
              "IT        0.0    0.0  0.000000  ...   0.133333 -42.768056     0.800000\n",
              "MK        0.0    0.0  0.000000  ...  27.000000  27.000000    27.000000\n",
              "MN        0.0    0.0  0.000000  ...  15.666667  15.666667    15.666667\n",
              "MT        0.0    0.0  0.000000  ...   0.000000   0.177172     0.708690\n",
              "MX        0.0    0.0  0.000000  ...   0.002600   0.002902     0.008800\n",
              "NO        0.0    0.0  0.000000  ...   0.000000   0.496117    13.503581\n",
              "PE        0.0    0.0  0.000000  ...  17.231667  17.231667    17.231667\n",
              "PH        0.0    0.0  0.000000  ...   0.000000   0.000000     0.000000\n",
              "PL        0.0    0.0  0.492162  ...   0.000000   2.532403    27.812200\n",
              "SE        0.0    0.0  0.000000  ...   0.000000   0.000000     0.000000\n",
              "TH        0.0    0.0  0.000000  ...   0.000250   0.004273     0.038000\n",
              "TR        0.0    0.0  0.000000  ...   4.000000   7.138158    31.000000\n",
              "TW        0.0    0.0  0.000000  ...   0.001250   0.001382     0.004200\n",
              "US        0.0    0.0  0.523293  ...   0.000000   0.000100     0.005000\n",
              "VN        0.0    0.0  0.000000  ...   0.000000   0.000000     0.000000\n",
              "XK        0.0    0.0  0.000000  ...   2.704000   7.821571    37.086000\n",
              "\n",
              "[28 rows x 28 columns]"
            ]
          },
          "metadata": {
            "tags": []
          },
          "execution_count": 144
        }
      ]
    },
    {
      "cell_type": "markdown",
      "metadata": {
        "id": "HAW70x-tNdNv"
      },
      "source": [
        "### Groupby dengan Custom Aggregations\r\n",
        "Dengan membuat sebuah Python function (user defined) dapat menggunakan sebagai custom aggregation pada dataframe yang telah digroupby.\r\n",
        "\r\n",
        "Perhatikan contoh yang diberikan berikut ini."
      ]
    },
    {
      "cell_type": "markdown",
      "metadata": {
        "id": "tWokARfnOtHu"
      },
      "source": [
        "Dataset : https://dqlab-dataset.s3-ap-southeast-1.amazonaws.com/LO4/global_air_quality_4000rows.csv"
      ]
    },
    {
      "cell_type": "code",
      "metadata": {
        "colab": {
          "base_uri": "https://localhost:8080/"
        },
        "id": "yCuobQlQNW48",
        "outputId": "89e0c0a2-55b9-4f8e-89dc-d599d2ba8515"
      },
      "source": [
        "import pandas as pd\r\n",
        "# Load data https://dqlab-dataset.s3-ap-southeast-1.amazonaws.com/LO4/global_air_quality_4000rows.csv\r\n",
        "gaq = pd.read_csv('https://dqlab-dataset.s3-ap-southeast-1.amazonaws.com/LO4/global_air_quality_4000rows.csv')\r\n",
        "# Create variabel pollutant\r\n",
        "pollutant = gaq[['country','city','pollutant','value']].pivot_table(index=['country','city'],columns='pollutant').fillna(0)\r\n",
        "# Create sebuah function: iqr\r\n",
        "def data_range(series):\r\n",
        "  return series.max() - series.min()\r\n",
        "# Group berdasarkan country dan terapkan aggregasi dari function: data_range\r\n",
        "custom_agg = pollutant.groupby('country').agg(data_range)\r\n",
        "print('Custom aggregation (5 teratas:\\n', custom_agg.head())"
      ],
      "execution_count": 146,
      "outputs": [
        {
          "output_type": "stream",
          "text": [
            "Custom aggregation (5 teratas:\n",
            "         value                                                  \n",
            "           bc        co      no2         o3   pm10 pm25     so2\n",
            "country                                                        \n",
            "AR        0.0     0.000   0.0000   0.000000    0.0  0.0   0.000\n",
            "AU        0.0     0.000   0.0000   0.000000    0.0  0.0   0.000\n",
            "BA        0.0  1508.000  32.0000  21.000000  100.0  0.0  78.000\n",
            "CA        0.0     0.285   0.0024   0.048333    5.2  6.0   0.001\n",
            "CL        0.0     0.000   0.0000   0.000000    0.0  0.0   0.000\n"
          ],
          "name": "stdout"
        }
      ]
    },
    {
      "cell_type": "markdown",
      "metadata": {
        "id": "y_p3B-2uQMnw"
      },
      "source": [
        "**Tugas Praktek**:\r\n",
        "\r\n",
        "Tentukanlah inter quartile range (IQR) pada setiap kelompok data, dan kemudian tampilkanlah 5 data teratas saja."
      ]
    },
    {
      "cell_type": "code",
      "metadata": {
        "colab": {
          "base_uri": "https://localhost:8080/"
        },
        "id": "todTLIMwP3te",
        "outputId": "d023f9be-8640-449e-f909-7309ec101bc2"
      },
      "source": [
        "import pandas as pd\r\n",
        "# Load data https://dqlab-dataset.s3-ap-southeast-1.amazonaws.com/LO4/global_air_quality_4000rows.csv\r\n",
        "gaq = pd.read_csv('https://dqlab-dataset.s3-ap-southeast-1.amazonaws.com/LO4/global_air_quality_4000rows.csv')\r\n",
        "# Create variabel pollutant \r\n",
        "pollutant = gaq[['country','city','pollutant','value']].pivot_table(index=['country','city'],columns='pollutant').fillna(0)\r\n",
        "# Create sebuah function: iqr\r\n",
        "def iqr(series):\r\n",
        "\tQ1 = series.quantile(0.25)\r\n",
        "\tQ3 = series.quantile(0.75)\r\n",
        "\treturn Q3-Q1\r\n",
        "# Group berdasarkan country dan terapkan aggregasi dari function: iqr\r\n",
        "custom_agg = pollutant.groupby('country').agg(iqr)\r\n",
        "print('Custom aggregation (5 teratas):\\n', custom_agg.head())"
      ],
      "execution_count": 147,
      "outputs": [
        {
          "output_type": "stream",
          "text": [
            "Custom aggregation (5 teratas):\n",
            "         value                                                  \n",
            "           bc      co       no2        o3  pm10      pm25   so2\n",
            "country                                                        \n",
            "AR        0.0    0.00   0.00000  0.000000   0.0  0.000000   0.0\n",
            "AU        0.0    0.00   0.00000  0.000000   0.0  0.000000   0.0\n",
            "BA        0.0  297.75  14.25000  7.500000  79.0  0.000000  17.0\n",
            "CA        0.0    0.00   0.00025  0.035708   0.5  3.876471   0.0\n",
            "CL        0.0    0.00   0.00000  0.000000   0.0  0.000000   0.0\n"
          ],
          "name": "stdout"
        }
      ]
    },
    {
      "cell_type": "markdown",
      "metadata": {
        "id": "UKmSY2_ERHDa"
      },
      "source": [
        "### Groupby dengan Custom Aggregations by dict\r\n",
        "Penggunaan custom aggregation lainnya pada dataframe yang telah digroupby dapat dilakukan dengan mempasskan sebuah dict yang berisi 'key' dict sebagai nama kolomnya dan 'value' dict adalah fungsi untuk aggregasi, baik user defined function atau yang telah tersedia.\r\n",
        "\r\n",
        "Berdasarkan kode berikut ini "
      ]
    },
    {
      "cell_type": "markdown",
      "metadata": {
        "id": "bpydLSXtROA6"
      },
      "source": [
        "Dataset: https://dqlab-dataset.s3-ap-southeast-1.amazonaws.com/LO4/global_air_quality_4000rows.csv"
      ]
    },
    {
      "cell_type": "code",
      "metadata": {
        "colab": {
          "base_uri": "https://localhost:8080/"
        },
        "id": "wBq1DV72QwbR",
        "outputId": "e1af28b2-248d-4eaa-dafe-a415e457a007"
      },
      "source": [
        "import pandas as pd\r\n",
        "# Load data https://dqlab-dataset.s3-ap-southeast-1.amazonaws.com/LO4/global_air_quality_4000rows.csv\r\n",
        "gaq = pd.read_csv('https://dqlab-dataset.s3-ap-southeast-1.amazonaws.com/LO4/global_air_quality_4000rows.csv')\r\n",
        "# Create variabel pollutant \r\n",
        "pollutant = gaq[['country','city','pollutant','value']].pivot_table(index=['country','city'],columns='pollutant').fillna(0)\r\n",
        "print('Data pollutant (5 teratas):\\n', pollutant.head())"
      ],
      "execution_count": 148,
      "outputs": [
        {
          "output_type": "stream",
          "text": [
            "Data pollutant (5 teratas):\n",
            "                      value                                     \n",
            "pollutant               bc      co   no2   o3   pm10  pm25  so2\n",
            "country city                                                   \n",
            "AR      Buenos Aires   0.0     0.0   0.0  0.0    0.0  18.1  0.0\n",
            "AU      Townsville     0.0     0.0   0.0  0.0    0.0   3.9  0.0\n",
            "BA      Goražde        0.0   141.0  19.0  8.0    0.0   0.0  0.0\n",
            "        Ilijaš         0.0     0.0   0.0  0.0  100.0   0.0  0.0\n",
            "        Jajce          0.0  1508.0  25.0  6.0    9.0   0.0  0.0\n"
          ],
          "name": "stdout"
        }
      ]
    },
    {
      "cell_type": "markdown",
      "metadata": {
        "id": "fPfObbvQRiJ8"
      },
      "source": [
        "Telah dimiliki dataset yang akan di apply teknik custom aggregation dengan menggunakan dict"
      ]
    },
    {
      "cell_type": "markdown",
      "metadata": {
        "id": "9WE6oKR7Rpqw"
      },
      "source": [
        "Akan apply teknik custom aggregation pada kolom 'o3' dan 'so' dengan fungsi aggregasi masing-masingnya adalah 'max' dan 'data_range'. Fungsi 'data_range' ini merupakan fungsi yang didefinisikan sendiri (user-defined) untuk menentukan jangkauan (range) data."
      ]
    },
    {
      "cell_type": "markdown",
      "metadata": {
        "id": "HdUQcfxIRv_8"
      },
      "source": [
        "![image.png](data:image/png;base64,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)"
      ]
    },
    {
      "cell_type": "code",
      "metadata": {
        "colab": {
          "base_uri": "https://localhost:8080/"
        },
        "id": "TZdYXXQMRbwS",
        "outputId": "e07b486f-1089-4380-b1de-18ab77857b9d"
      },
      "source": [
        "# Function range of data\r\n",
        "def data_range(series):\r\n",
        "  return series.max() - series.min()\r\n",
        "\r\n",
        "# Create custom aggregation using dict\r\n",
        "custom_agg_dict = pollutant['value'][['o3','so2']].groupby('country').agg({\r\n",
        "    'o3':'max',\r\n",
        "    'so2':data_range\r\n",
        "})\r\n",
        "print('\\nCetak 5 data teratas custom_agg_dict:\\n', custom_agg_dict.head())"
      ],
      "execution_count": 150,
      "outputs": [
        {
          "output_type": "stream",
          "text": [
            "\n",
            "Cetak 5 data teratas custom_agg_dict:\n",
            "                 o3     so2\n",
            "country                   \n",
            "AR        0.000000   0.000\n",
            "AU        0.000000   0.000\n",
            "BA       21.000000  78.000\n",
            "CA        0.048333   0.001\n",
            "CL        0.000000   0.000\n"
          ],
          "name": "stdout"
        }
      ]
    },
    {
      "cell_type": "markdown",
      "metadata": {
        "id": "sH1I3-PXSlyD"
      },
      "source": [
        "**Tugas Praktek**:\r\n",
        "\r\n",
        "Dengan dataset yang masih sama seperti tersedia di code editor, tentukanlah median untuk kolom 'pm10' serta iqr untuk kolom 'pm25' dan 'so2'. Tampilkan pula 5 data teratas saja."
      ]
    },
    {
      "cell_type": "code",
      "metadata": {
        "colab": {
          "base_uri": "https://localhost:8080/"
        },
        "id": "GCxLm2QkScis",
        "outputId": "27f41f79-b4af-4634-e962-ba4772a49c07"
      },
      "source": [
        "import pandas as pd\r\n",
        "# Load data https://dqlab-dataset.s3-ap-southeast-1.amazonaws.com/LO4/global_air_quality_4000rows.csv\r\n",
        "gaq = pd.read_csv('https://dqlab-dataset.s3-ap-southeast-1.amazonaws.com/LO4/global_air_quality_4000rows.csv')\r\n",
        "# Create variabel pollutant \r\n",
        "pollutant = gaq[['country','city','pollutant','value']].pivot_table(index=['country','city'],columns='pollutant').fillna(0)\r\n",
        "print('Data pollutant (5 teratas):\\n', pollutant.head())\r\n",
        "# Function IQR\r\n",
        "def iqr(series):\r\n",
        "\treturn series.quantile(0.75) - series.quantile(0.25)\r\n",
        "# Create custom aggregation using dict\r\n",
        "custom_agg_dict = pollutant['value'][['pm10','pm25','so2']].groupby('country').agg({\r\n",
        "   'pm10':'median',\r\n",
        "   'pm25':iqr,\r\n",
        "   'so2':iqr\r\n",
        "})\r\n",
        "print('\\nCetak 5 data teratas custom_agg_dict:\\n', custom_agg_dict.head())"
      ],
      "execution_count": 151,
      "outputs": [
        {
          "output_type": "stream",
          "text": [
            "Data pollutant (5 teratas):\n",
            "                      value                                     \n",
            "pollutant               bc      co   no2   o3   pm10  pm25  so2\n",
            "country city                                                   \n",
            "AR      Buenos Aires   0.0     0.0   0.0  0.0    0.0  18.1  0.0\n",
            "AU      Townsville     0.0     0.0   0.0  0.0    0.0   3.9  0.0\n",
            "BA      Goražde        0.0   141.0  19.0  8.0    0.0   0.0  0.0\n",
            "        Ilijaš         0.0     0.0   0.0  0.0  100.0   0.0  0.0\n",
            "        Jajce          0.0  1508.0  25.0  6.0    9.0   0.0  0.0\n",
            "\n",
            "Cetak 5 data teratas custom_agg_dict:\n",
            "          pm10      pm25   so2\n",
            "country                      \n",
            "AR        0.0  0.000000   0.0\n",
            "AU        0.0  0.000000   0.0\n",
            "BA       23.0  0.000000  17.0\n",
            "CA        0.0  3.876471   0.0\n",
            "CL        0.0  0.000000   0.0\n"
          ],
          "name": "stdout"
        }
      ]
    },
    {
      "cell_type": "markdown",
      "metadata": {
        "id": "EBybcGt7Ts_b"
      },
      "source": [
        "### Quiz\r\n",
        "Diberikan file 'global_air_quality.csv' jika kode berikut dieksekusi"
      ]
    },
    {
      "cell_type": "code",
      "metadata": {
        "colab": {
          "base_uri": "https://localhost:8080/"
        },
        "id": "iVNNumkNTZYU",
        "outputId": "39051ac4-b12d-49ed-c391-d1882d3061ec"
      },
      "source": [
        "import pandas as pd\r\n",
        "# Load data https://dqlab-dataset.s3-ap-southeast-1.amazonaws.com/LO4/global_air_quality_4000rows.csv\r\n",
        "gaq = pd.read_csv('https://dqlab-dataset.s3-ap-southeast-1.amazonaws.com/LO4/global_air_quality_4000rows.csv')\r\n",
        "gaq['timestamp'] = pd.to_datetime(gaq['timestamp'])\r\n",
        "gaq = gaq.set_index('timestamp')\r\n",
        "pollutant = gaq.groupby('pollutant')['value'].mean().sort_values(ascending=False)\r\n",
        "print(pollutant)"
      ],
      "execution_count": 153,
      "outputs": [
        {
          "output_type": "stream",
          "text": [
            "pollutant\n",
            "pm10     28.423373\n",
            "pm25     18.796388\n",
            "bc       13.020309\n",
            "so2       6.117118\n",
            "no2      -2.715310\n",
            "o3      -16.375657\n",
            "co     -482.171492\n",
            "Name: value, dtype: float64\n"
          ],
          "name": "stdout"
        }
      ]
    },
    {
      "cell_type": "markdown",
      "metadata": {
        "id": "jS_OunPDUlt0"
      },
      "source": [
        "## **Time Series in Pandas**"
      ]
    },
    {
      "cell_type": "markdown",
      "metadata": {
        "id": "9KMrKe5FUo13"
      },
      "source": [
        "### Pendahuluan\r\n",
        "Baru saja aku kelar dengan latihan dan kuis-kuis dari Bab 3, link referensi dari Andra untuk materi selanjutnya seputar “Time Series in Pandas” sudah muncul lagi! \r\n",
        "\r\n",
        "\r\n",
        "Tampaknya ini ‘ujian’ baru dari Andra yang ingin menilai kegigihan belajarku. Kutarik napas panjang. Tidak apa-apa, ini demi jadi data analyst profesional. Aku pantang menyerah!\r\n",
        "\r\n",
        "Aku mengklik link dari Andra dan kembali menelusuri isi materinya:\r\n",
        "\r\n",
        "Ketika berurusan dengan big data, biasanya akan selalu terdapat entitas waktu kapan suatu event itu terjadi, waktu ini digunakan untuk mengenali event itu terjadi pada suatu frame tertentu dan dapat dijadikan index yang membuat setiap event menjadi unique.\r\n",
        "\r\n",
        " \r\n",
        "\r\n",
        "**Basic format datetime** menurut ISO 8601 yaitu **YYYY-mm-dd HH:MM:SS**."
      ]
    },
    {
      "cell_type": "markdown",
      "metadata": {
        "id": "Xe5Muyl9U2Ye"
      },
      "source": [
        "### Load Dataset as Time Series\r\n",
        "Terkadang Pandas salah mengenali object datetime menjadi object string dan pandas menjadi tidak bisa memanfaatkan full benefit dari time index.\r\n",
        "\r\n",
        "**Basic format datetime** menurut ISO 8601: **YYYY-mm-dd HH:MM:SS**.\r\n",
        "\r\n",
        "\r\n",
        "Terdapat beberapa cara untuk mengubah kolom waktu menjadi format yang benar as datetime object di Pandas. "
      ]
    },
    {
      "cell_type": "markdown",
      "metadata": {
        "id": "omVEwgSbVcen"
      },
      "source": [
        "**[1] read_csv**, terdapat keyword argument 'parse_dates', yang jika di set True dan set index untuk kolom waktu tersebut maka kolom datetime tersebut akan transform as datetime Pandas dan menjadi index"
      ]
    },
    {
      "cell_type": "code",
      "metadata": {
        "colab": {
          "base_uri": "https://localhost:8080/"
        },
        "id": "20gkO2qgUU2W",
        "outputId": "f0b92324-5e43-4903-8b3b-a14949e6f75c"
      },
      "source": [
        "import pandas as pd\r\n",
        "# Load dataset https://dqlab-dataset.s3-ap-southeast-1.amazonaws.com/LO4/global_air_quality_4000rows.csv\r\n",
        "gaq = pd.read_csv('https://dqlab-dataset.s3-ap-southeast-1.amazonaws.com/LO4/global_air_quality_4000rows.csv', parse_dates=True, index_col='timestamp')\r\n",
        "# Cetak 5 data teratas\r\n",
        "print(gaq.head())\r\n",
        "# Cetak info dari dataframe gaq\r\n",
        "print('info')\r\n",
        "print(gaq.info())"
      ],
      "execution_count": 154,
      "outputs": [
        {
          "output_type": "stream",
          "text": [
            "                                                  location  ... averaged_over_in_hours\n",
            "timestamp                                                   ...                       \n",
            "2017-01-18 16:00:00+00:00                  MOBILE-KICKAPOO  ...                   1.00\n",
            "2020-04-07 20:00:00+00:00                  Oxford St Ebbes  ...                   1.00\n",
            "2020-04-07 19:00:00+00:00                 BROADWAY (South)  ...                   1.00\n",
            "2020-04-07 18:30:00+00:00  Deen Dayal Nagar, Sagar - MPPCB  ...                   0.25\n",
            "2020-04-07 20:00:00+00:00                        Manglerud  ...                   1.00\n",
            "\n",
            "[5 rows x 10 columns]\n",
            "info\n",
            "<class 'pandas.core.frame.DataFrame'>\n",
            "DatetimeIndex: 4000 entries, 2017-01-18 16:00:00+00:00 to 2017-01-08 08:00:00+00:00\n",
            "Data columns (total 10 columns):\n",
            " #   Column                  Non-Null Count  Dtype  \n",
            "---  ------                  --------------  -----  \n",
            " 0   location                3997 non-null   object \n",
            " 1   city                    3966 non-null   object \n",
            " 2   country                 4000 non-null   object \n",
            " 3   pollutant               4000 non-null   object \n",
            " 4   value                   4000 non-null   float64\n",
            " 5   unit                    4000 non-null   object \n",
            " 6   source_name             4000 non-null   object \n",
            " 7   latitude                4000 non-null   float64\n",
            " 8   longitude               4000 non-null   float64\n",
            " 9   averaged_over_in_hours  3634 non-null   float64\n",
            "dtypes: float64(4), object(6)\n",
            "memory usage: 343.8+ KB\n",
            "None\n"
          ],
          "name": "stdout"
        }
      ]
    },
    {
      "cell_type": "markdown",
      "metadata": {
        "id": "ZD-r4mKjVwYC"
      },
      "source": [
        "### Convert to Datetime\r\n",
        "Jika dataset yang telah terlebih dahulu atau telah terlanjur di load dengan pd.read_csv dan Pandas salah mengenali object datetime menjadi object string, maka dapat mengubah kolom tertentu dari dataset tersebut menjadi format datetime."
      ]
    },
    {
      "cell_type": "markdown",
      "metadata": {
        "id": "3gKHtmFWV2hX"
      },
      "source": [
        "**[2] pd.to_datetime** digunakan untuk mentransform salah satu kolom di dataframe menjadi datetime Pandas dan kemudian set menjadi index. Mari perhatikan kembali contoh berikut"
      ]
    },
    {
      "cell_type": "code",
      "metadata": {
        "colab": {
          "base_uri": "https://localhost:8080/"
        },
        "id": "iK29oQ9cVlbu",
        "outputId": "7940f3a1-9379-487e-8fee-19cff5274348"
      },
      "source": [
        "import pandas as pd\r\n",
        "# Load dataset https://dqlab-dataset.s3-ap-southeast-1.amazonaws.com/LO4/global_air_quality_4000rows.csv\r\n",
        "gaq = pd.read_csv('https://dqlab-dataset.s3-ap-southeast-1.amazonaws.com/LO4/global_air_quality_4000rows.csv')\r\n",
        "# Cetak 5 data teratas\r\n",
        "print('Sebelum diubah dalam format datetime:\\n', gaq.head())\r\n",
        "# Ubah menjadi datetime\r\n",
        "gaq['timestamp'] = pd.to_datetime(gaq['timestamp'])\r\n",
        "gaq = gaq.set_index('timestamp')\r\n",
        "# Cetak 5 data teratas\r\n",
        "print('Sesudah diubah dalam format datetime:\\n', gaq.head())"
      ],
      "execution_count": 155,
      "outputs": [
        {
          "output_type": "stream",
          "text": [
            "Sebelum diubah dalam format datetime:\n",
            "                           location  ... averaged_over_in_hours\n",
            "0                  MOBILE-KICKAPOO  ...                   1.00\n",
            "1                  Oxford St Ebbes  ...                   1.00\n",
            "2                 BROADWAY (South)  ...                   1.00\n",
            "3  Deen Dayal Nagar, Sagar - MPPCB  ...                   0.25\n",
            "4                        Manglerud  ...                   1.00\n",
            "\n",
            "[5 rows x 11 columns]\n",
            "Sesudah diubah dalam format datetime:\n",
            "                                                   location  ... averaged_over_in_hours\n",
            "timestamp                                                   ...                       \n",
            "2017-01-18 16:00:00+00:00                  MOBILE-KICKAPOO  ...                   1.00\n",
            "2020-04-07 20:00:00+00:00                  Oxford St Ebbes  ...                   1.00\n",
            "2020-04-07 19:00:00+00:00                 BROADWAY (South)  ...                   1.00\n",
            "2020-04-07 18:30:00+00:00  Deen Dayal Nagar, Sagar - MPPCB  ...                   0.25\n",
            "2020-04-07 20:00:00+00:00                        Manglerud  ...                   1.00\n",
            "\n",
            "[5 rows x 10 columns]\n"
          ],
          "name": "stdout"
        }
      ]
    },
    {
      "cell_type": "markdown",
      "metadata": {
        "id": "UYe22xoQWbOQ"
      },
      "source": [
        "Dataframe awal indexnya masih berupa urutan bilangan bulat dari nol. Kemudian dengan menerapkan pd.to_datetime dan set_index, dataframe sudah memiliki index berupa datetime."
      ]
    },
    {
      "cell_type": "markdown",
      "metadata": {
        "id": "HJhg5PJNWh_0"
      },
      "source": [
        "### Resampling untuk Time Series Data\r\n",
        "Pandas time series juga memiliki fungsi **resampling** yang dapat berguna untuk:"
      ]
    },
    {
      "cell_type": "markdown",
      "metadata": {
        "id": "yyAksInnWpPD"
      },
      "source": [
        "**[1] Downsampling**\r\n",
        "\r\n",
        "Mengurangi baris datetime menjadi frekuensi yang lebih lambat, bisa dibilang juga mengurangi rows dataset menjadi lebih sedikit\r\n",
        "\r\n",
        "Contoh: mengubah kolom datetime yang awalnya **daily** menjadi **monthly**"
      ]
    },
    {
      "cell_type": "markdown",
      "metadata": {
        "id": "kcTRl7juW0v-"
      },
      "source": [
        "**[2] Upsampling**\r\n",
        "\r\n",
        "Kebalikan dari downsampling, menambah baris datetime menjadi frekuensi yang lebih cepat, menambah rows dataset dengan membuat kolom datetime menjadi lebih detail\r\n",
        "\r\n",
        "Contoh: mengubah kolom datetime yang awalnya **daily** menjadi **hourly**"
      ]
    },
    {
      "cell_type": "markdown",
      "metadata": {
        "id": "D6oT04nlW-mD"
      },
      "source": [
        "Dari Resampling ini, kemudian dapat menerapkan metode statistik untuk transform value data yang ada (ex: mean, sum, count, etc)"
      ]
    },
    {
      "cell_type": "markdown",
      "metadata": {
        "id": "X7j37FmyXF5A"
      },
      "source": [
        "**Tabel resampling untuk time series**:\r\n",
        "\r\n",
        "\r\n",
        "* 'Min', 'T' : minute\r\n",
        "\r\n",
        "* 'H' : hour\r\n",
        "\r\n",
        "* 'D' : day\r\n",
        "\r\n",
        "* 'B' : Business day\r\n",
        "\r\n",
        "* 'W' : week\r\n",
        "\r\n",
        "* 'M' : month\r\n",
        "\r\n",
        "* 'Q' : quarter\r\n",
        "\r\n",
        "* 'A' : year"
      ]
    },
    {
      "cell_type": "markdown",
      "metadata": {
        "id": "psE594-WdV_8"
      },
      "source": [
        "### Downsampling Data\r\n",
        "Sekarang akan dicoba melakukan proses downsampling pada dataset 'https://dqlab-dataset.s3-ap-southeast-1.amazonaws.com/LO4/global_air_quality_4000rows.csv' yang telah di load sebelumnya."
      ]
    },
    {
      "cell_type": "markdown",
      "metadata": {
        "id": "UqVFhOfKdas0"
      },
      "source": [
        "Perhatikan dataset awal:"
      ]
    },
    {
      "cell_type": "code",
      "metadata": {
        "colab": {
          "base_uri": "https://localhost:8080/"
        },
        "id": "Ya514zVbWV2d",
        "outputId": "52b49494-dd56-4741-a509-86074d700d9f"
      },
      "source": [
        "import pandas as pd\r\n",
        "# Load dataset https://dqlab-dataset.s3-ap-southeast-1.amazonaws.com/LO4/global_air_quality_4000rows.csv\r\n",
        "gaq = pd.read_csv('https://dqlab-dataset.s3-ap-southeast-1.amazonaws.com/LO4/global_air_quality_4000rows.csv')\r\n",
        "gaq['timestamp'] = pd.to_datetime(gaq['timestamp'])\r\n",
        "gaq = gaq.set_index('timestamp')\r\n",
        "print('Dataset sebelum di-downsampling (5 teratas):\\n', gaq.head())"
      ],
      "execution_count": 168,
      "outputs": [
        {
          "output_type": "stream",
          "text": [
            "Dataset sebelum di-downsampling (5 teratas):\n",
            "                                                   location  ... averaged_over_in_hours\n",
            "timestamp                                                   ...                       \n",
            "2017-01-18 16:00:00+00:00                  MOBILE-KICKAPOO  ...                   1.00\n",
            "2020-04-07 20:00:00+00:00                  Oxford St Ebbes  ...                   1.00\n",
            "2020-04-07 19:00:00+00:00                 BROADWAY (South)  ...                   1.00\n",
            "2020-04-07 18:30:00+00:00  Deen Dayal Nagar, Sagar - MPPCB  ...                   0.25\n",
            "2020-04-07 20:00:00+00:00                        Manglerud  ...                   1.00\n",
            "\n",
            "[5 rows x 10 columns]\n"
          ],
          "name": "stdout"
        }
      ]
    },
    {
      "cell_type": "markdown",
      "metadata": {
        "id": "j8emojMfd48t"
      },
      "source": [
        "Dengan men-downsampling dari\r\n",
        "\r\n",
        "**[1] Daily to monthly**"
      ]
    },
    {
      "cell_type": "code",
      "metadata": {
        "colab": {
          "base_uri": "https://localhost:8080/"
        },
        "id": "sE8PE4ebdzis",
        "outputId": "92151546-437a-4e55-8344-1fed70763a78"
      },
      "source": [
        "# [1] Downsampling dari daily to monthly dan kita hitung rata-rata untuk sebulan\r\n",
        "gaq_monthly = gaq.resample('M').mean()\r\n",
        "print('Downsampling daily to monthly - mean (5 teratas):\\n', gaq_monthly.head())"
      ],
      "execution_count": 169,
      "outputs": [
        {
          "output_type": "stream",
          "text": [
            "Downsampling daily to monthly - mean (5 teratas):\n",
            "                            value  latitude  longitude  averaged_over_in_hours\n",
            "timestamp                                                                    \n",
            "2014-05-31 00:00:00+00:00    9.7    14.635    121.080                     1.0\n",
            "2014-06-30 00:00:00+00:00    NaN       NaN        NaN                     NaN\n",
            "2014-07-31 00:00:00+00:00    NaN       NaN        NaN                     NaN\n",
            "2014-08-31 00:00:00+00:00    7.1    37.132    -86.148                     1.0\n",
            "2014-09-30 00:00:00+00:00    NaN       NaN        NaN                     NaN\n"
          ],
          "name": "stdout"
        }
      ]
    },
    {
      "cell_type": "markdown",
      "metadata": {
        "id": "-qTTBpTWeq1L"
      },
      "source": [
        "**[2] Daily to yearly**"
      ]
    },
    {
      "cell_type": "code",
      "metadata": {
        "colab": {
          "base_uri": "https://localhost:8080/"
        },
        "id": "9eW8yS4befTj",
        "outputId": "0f2d8586-359f-4711-afba-ae037fbec45e"
      },
      "source": [
        "# [2] Downsampling dari daily to yearly dan kita hitung total untuk setahun\r\n",
        "gaq_yearly = gaq.resample('A').sum()\r\n",
        "print('Downsampling daily to yearly - sum (5 teratas):\\n', gaq_yearly.head())"
      ],
      "execution_count": 170,
      "outputs": [
        {
          "output_type": "stream",
          "text": [
            "Downsampling daily to yearly - sum (5 teratas):\n",
            "                                    value  ...  averaged_over_in_hours\n",
            "timestamp                                 ...                        \n",
            "2014-12-31 00:00:00+00:00      16.800000  ...                    2.00\n",
            "2015-12-31 00:00:00+00:00     319.209800  ...                   30.00\n",
            "2016-12-31 00:00:00+00:00   11356.389400  ...                  172.25\n",
            "2017-12-31 00:00:00+00:00   20181.246425  ...                  147.75\n",
            "2018-12-31 00:00:00+00:00 -282811.729944  ...                 1284.50\n",
            "\n",
            "[5 rows x 4 columns]\n"
          ],
          "name": "stdout"
        }
      ]
    },
    {
      "cell_type": "markdown",
      "metadata": {
        "id": "KwN0GeccislO"
      },
      "source": [
        "### Upsampling Data\r\n",
        "Di bagian sebelumnya kita telah melakukan proses downsampling. Proses upsampling akan kita bahas dalam bagian untuk dataset yang masih sama."
      ]
    },
    {
      "cell_type": "code",
      "metadata": {
        "colab": {
          "base_uri": "https://localhost:8080/"
        },
        "id": "mcmYiqjcg5hn",
        "outputId": "d9a0a4f5-17bf-4444-a64a-4c01e8691458"
      },
      "source": [
        "import pandas as pd\r\n",
        "# Load dataset https://dqlab-dataset.s3-ap-southeast-1.amazonaws.com/LO4/global_air_quality_4000rows.csv\r\n",
        "gaq = pd.read_csv('https://dqlab-dataset.s3-ap-southeast-1.amazonaws.com/LO4/global_air_quality_4000rows.csv')\r\n",
        "gaq['timestamp'] = pd.to_datetime(gaq['timestamp'])\r\n",
        "gaq = gaq.set_index('timestamp')\r\n",
        "print('Dataset sebelum di-upsampling (5 teratas):\\n', gaq.head())\r\n",
        "# Upsampling dari daily to hourly dan kita hitung reratanya\r\n",
        "gaq_hourly = gaq.resample('H').sum()\r\n",
        "print('Upsampling daily to hourly - count (5 teratas):\\n', gaq_hourly.head())"
      ],
      "execution_count": 172,
      "outputs": [
        {
          "output_type": "stream",
          "text": [
            "Dataset sebelum di-upsampling (5 teratas):\n",
            "                                                   location  ... averaged_over_in_hours\n",
            "timestamp                                                   ...                       \n",
            "2017-01-18 16:00:00+00:00                  MOBILE-KICKAPOO  ...                   1.00\n",
            "2020-04-07 20:00:00+00:00                  Oxford St Ebbes  ...                   1.00\n",
            "2020-04-07 19:00:00+00:00                 BROADWAY (South)  ...                   1.00\n",
            "2020-04-07 18:30:00+00:00  Deen Dayal Nagar, Sagar - MPPCB  ...                   0.25\n",
            "2020-04-07 20:00:00+00:00                        Manglerud  ...                   1.00\n",
            "\n",
            "[5 rows x 10 columns]\n",
            "Upsampling daily to hourly - count (5 teratas):\n",
            "                            value  latitude  longitude  averaged_over_in_hours\n",
            "timestamp                                                                    \n",
            "2014-05-13 03:00:00+00:00    9.7    14.635     121.08                     1.0\n",
            "2014-05-13 04:00:00+00:00    0.0     0.000       0.00                     0.0\n",
            "2014-05-13 05:00:00+00:00    0.0     0.000       0.00                     0.0\n",
            "2014-05-13 06:00:00+00:00    0.0     0.000       0.00                     0.0\n",
            "2014-05-13 07:00:00+00:00    0.0     0.000       0.00                     0.0\n"
          ],
          "name": "stdout"
        }
      ]
    },
    {
      "cell_type": "markdown",
      "metadata": {
        "id": "nd7yi8hhjFnX"
      },
      "source": [
        "**Tugas Praktek**:\r\n",
        "\r\n",
        "Kerjakanlah proses upsampling daily to hourly dan apply **mean** di code editor dengan jalan mengisi kode yang tidak lengkap (___)."
      ]
    },
    {
      "cell_type": "code",
      "metadata": {
        "colab": {
          "base_uri": "https://localhost:8080/"
        },
        "id": "-D4eS6kNi91r",
        "outputId": "afdb6053-7cc1-4328-b9a9-88eec07ed949"
      },
      "source": [
        "import pandas as pd\r\n",
        "# Load dataset https://dqlab-dataset.s3-ap-southeast-1.amazonaws.com/LO4/global_air_quality_4000rows.csv\r\n",
        "gaq = pd.read_csv('https://dqlab-dataset.s3-ap-southeast-1.amazonaws.com/LO4/global_air_quality_4000rows.csv')\r\n",
        "gaq['timestamp'] = pd.to_datetime(gaq['timestamp'])\r\n",
        "gaq = gaq.set_index('timestamp')\r\n",
        "print('Dataset sebelum di-upsampling (5 teratas):\\n', gaq.head())\r\n",
        "# Upsampling dari daily to hourly dan kita hitung reratanya\r\n",
        "gaq_hourly = gaq.resample('H').mean()\r\n",
        "print('Upsampling daily to hourly - mean (5 teratas):\\n', gaq_hourly.head())"
      ],
      "execution_count": 173,
      "outputs": [
        {
          "output_type": "stream",
          "text": [
            "Dataset sebelum di-upsampling (5 teratas):\n",
            "                                                   location  ... averaged_over_in_hours\n",
            "timestamp                                                   ...                       \n",
            "2017-01-18 16:00:00+00:00                  MOBILE-KICKAPOO  ...                   1.00\n",
            "2020-04-07 20:00:00+00:00                  Oxford St Ebbes  ...                   1.00\n",
            "2020-04-07 19:00:00+00:00                 BROADWAY (South)  ...                   1.00\n",
            "2020-04-07 18:30:00+00:00  Deen Dayal Nagar, Sagar - MPPCB  ...                   0.25\n",
            "2020-04-07 20:00:00+00:00                        Manglerud  ...                   1.00\n",
            "\n",
            "[5 rows x 10 columns]\n",
            "Upsampling daily to hourly - mean (5 teratas):\n",
            "                            value  latitude  longitude  averaged_over_in_hours\n",
            "timestamp                                                                    \n",
            "2014-05-13 03:00:00+00:00    9.7    14.635     121.08                     1.0\n",
            "2014-05-13 04:00:00+00:00    NaN       NaN        NaN                     NaN\n",
            "2014-05-13 05:00:00+00:00    NaN       NaN        NaN                     NaN\n",
            "2014-05-13 06:00:00+00:00    NaN       NaN        NaN                     NaN\n",
            "2014-05-13 07:00:00+00:00    NaN       NaN        NaN                     NaN\n"
          ],
          "name": "stdout"
        }
      ]
    },
    {
      "cell_type": "markdown",
      "metadata": {
        "id": "4GZxgPHtjnBD"
      },
      "source": [
        "### Resampling by Frequency\r\n",
        "Pada bagian ini akan mempelajari bagaimanakah caranya me-resampling data (baik upsampling atau downsampling) berdasarkan frekuensi, misalnya sekali 2 minggu, tiap 12 jam, dsb.\r\n",
        "\r\n",
        "Kondisi awal data yang dimiliki :"
      ]
    },
    {
      "cell_type": "code",
      "metadata": {
        "colab": {
          "base_uri": "https://localhost:8080/"
        },
        "id": "nGpxQBQUjUHo",
        "outputId": "f7c1b3a0-7d26-4a99-f15a-81051b65ab20"
      },
      "source": [
        "import pandas as pd\r\n",
        "# Load dataset https://dqlab-dataset.s3-ap-southeast-1.amazonaws.com/LO4/global_air_quality_4000rows.csv\r\n",
        "gaq = pd.read_csv('https://dqlab-dataset.s3-ap-southeast-1.amazonaws.com/LO4/global_air_quality_4000rows.csv')\r\n",
        "gaq['timestamp'] = pd.to_datetime(gaq['timestamp'])\r\n",
        "gaq = gaq.set_index('timestamp')\r\n",
        "print('Dataset sebelum di-resampling (5 teratas):\\n', gaq.head())"
      ],
      "execution_count": 174,
      "outputs": [
        {
          "output_type": "stream",
          "text": [
            "Dataset sebelum di-resampling (5 teratas):\n",
            "                                                   location  ... averaged_over_in_hours\n",
            "timestamp                                                   ...                       \n",
            "2017-01-18 16:00:00+00:00                  MOBILE-KICKAPOO  ...                   1.00\n",
            "2020-04-07 20:00:00+00:00                  Oxford St Ebbes  ...                   1.00\n",
            "2020-04-07 19:00:00+00:00                 BROADWAY (South)  ...                   1.00\n",
            "2020-04-07 18:30:00+00:00  Deen Dayal Nagar, Sagar - MPPCB  ...                   0.25\n",
            "2020-04-07 20:00:00+00:00                        Manglerud  ...                   1.00\n",
            "\n",
            "[5 rows x 10 columns]\n"
          ],
          "name": "stdout"
        }
      ]
    },
    {
      "cell_type": "markdown",
      "metadata": {
        "id": "lMS8VTjykDO8"
      },
      "source": [
        "Untuk memahaminya silakan perhatikan contoh berikut ini:\r\n",
        "\r\n",
        "**[1]** Data ini downsampling dari daily to 2 weekly, kemudian dihitung rata-ratanya, jika ada nilai NaN maka dapat diisi dengan fillna method = 'ffill'"
      ]
    },
    {
      "cell_type": "code",
      "metadata": {
        "colab": {
          "base_uri": "https://localhost:8080/"
        },
        "id": "AEfnZfG_j9Ol",
        "outputId": "10885eb9-f8b2-42da-f4e0-a115838ca54f"
      },
      "source": [
        "# [1] Downsampling dari daily to 2 weekly, hitung reratanya dan fillna = 'ffill'\r\n",
        "gaq_2weekly = gaq.resample('2W').mean().fillna(method='ffill')\r\n",
        "print('Downsampling daily to 2 weekly - mean - ffill (5 teratas):\\n', gaq_2weekly.head())"
      ],
      "execution_count": 176,
      "outputs": [
        {
          "output_type": "stream",
          "text": [
            "Downsampling daily to 2 weekly - mean - ffill (5 teratas):\n",
            "                            value  latitude  longitude  averaged_over_in_hours\n",
            "timestamp                                                                    \n",
            "2014-05-18 00:00:00+00:00    9.7    14.635     121.08                     1.0\n",
            "2014-06-01 00:00:00+00:00    9.7    14.635     121.08                     1.0\n",
            "2014-06-15 00:00:00+00:00    9.7    14.635     121.08                     1.0\n",
            "2014-06-29 00:00:00+00:00    9.7    14.635     121.08                     1.0\n",
            "2014-07-13 00:00:00+00:00    9.7    14.635     121.08                     1.0\n"
          ],
          "name": "stdout"
        }
      ]
    },
    {
      "cell_type": "markdown",
      "metadata": {
        "id": "EsvnS7hmlD-z"
      },
      "source": [
        "**[2]** Selanjutnya, data awal di upsampling dari daily to 8 hourly, kemudian hitung rata-ratanya, jika ada nilai NaN maka dapat di isi dengan fillna method = 'bfill'"
      ]
    },
    {
      "cell_type": "code",
      "metadata": {
        "colab": {
          "base_uri": "https://localhost:8080/"
        },
        "id": "OJ8BVHHTk9ZP",
        "outputId": "6b968638-7fea-4527-e4f0-19cf6f4bdd14"
      },
      "source": [
        "# [2] Upsampling dari daily to 8 hourly, hitung rereatanya, dan fillna = 'bfill'\r\n",
        "gaq_8hourly = gaq.resample('8H').mean().fillna(method='bfill')\r\n",
        "print('Upsampling daily to 8 hourly - mean - bfill (5 teratas):\\n', gaq_8hourly.head())"
      ],
      "execution_count": 178,
      "outputs": [
        {
          "output_type": "stream",
          "text": [
            "Upsampling daily to 8 hourly - mean - bfill (5 teratas):\n",
            "                            value  latitude  longitude  averaged_over_in_hours\n",
            "timestamp                                                                    \n",
            "2014-05-13 00:00:00+00:00    9.7    14.635    121.080                     1.0\n",
            "2014-05-13 08:00:00+00:00    7.1    37.132    -86.148                     1.0\n",
            "2014-05-13 16:00:00+00:00    7.1    37.132    -86.148                     1.0\n",
            "2014-05-14 00:00:00+00:00    7.1    37.132    -86.148                     1.0\n",
            "2014-05-14 08:00:00+00:00    7.1    37.132    -86.148                     1.0\n"
          ],
          "name": "stdout"
        }
      ]
    },
    {
      "cell_type": "markdown",
      "metadata": {
        "id": "ISD_0WXOl20j"
      },
      "source": [
        "**Tugas Praktek**:\r\n",
        "\r\n",
        "Kerjakanlah proses data awal resampling dari daily to bi-monthly, kemudian hitung rata-ratanya, jika ada nilai NaN maka dapat diisi dengan fillna method = 'bfill' serta mengisi kode yang tidak lengkap (___) di code editor."
      ]
    },
    {
      "cell_type": "code",
      "metadata": {
        "colab": {
          "base_uri": "https://localhost:8080/"
        },
        "id": "ar6ErYoblkgP",
        "outputId": "f9bdb1eb-4633-42c9-c1dc-a17261a08308"
      },
      "source": [
        "import pandas as pd\r\n",
        "# Load dataset https://dqlab-dataset.s3-ap-southeast-1.amazonaws.com/LO4/global_air_quality_4000rows.csv\r\n",
        "gaq = pd.read_csv('https://dqlab-dataset.s3-ap-southeast-1.amazonaws.com/LO4/global_air_quality_4000rows.csv')\r\n",
        "gaq['timestamp'] = pd.to_datetime(gaq['timestamp'])\r\n",
        "gaq = gaq.set_index('timestamp')\r\n",
        "print('Dataset sebelum di-resampling (5 teratas):\\n', gaq.head())\r\n",
        "# Resample dari daily to 2 monthly, hitung reratanya, dan fillna = 'bfill'\r\n",
        "gaq_2monthly = gaq.resample('2M').mean().fillna(method='bfill')\r\n",
        "print('Resampling daily to 2 monthly - mean - ffill (5 teratas):\\n', gaq_2monthly.head())"
      ],
      "execution_count": 179,
      "outputs": [
        {
          "output_type": "stream",
          "text": [
            "Dataset sebelum di-resampling (5 teratas):\n",
            "                                                   location  ... averaged_over_in_hours\n",
            "timestamp                                                   ...                       \n",
            "2017-01-18 16:00:00+00:00                  MOBILE-KICKAPOO  ...                   1.00\n",
            "2020-04-07 20:00:00+00:00                  Oxford St Ebbes  ...                   1.00\n",
            "2020-04-07 19:00:00+00:00                 BROADWAY (South)  ...                   1.00\n",
            "2020-04-07 18:30:00+00:00  Deen Dayal Nagar, Sagar - MPPCB  ...                   0.25\n",
            "2020-04-07 20:00:00+00:00                        Manglerud  ...                   1.00\n",
            "\n",
            "[5 rows x 10 columns]\n",
            "Resampling daily to 2 monthly - mean - ffill (5 teratas):\n",
            "                            value  latitude  longitude  averaged_over_in_hours\n",
            "timestamp                                                                    \n",
            "2014-05-31 00:00:00+00:00    9.7    14.635    121.080                     1.0\n",
            "2014-07-31 00:00:00+00:00    7.1    37.132    -86.148                     1.0\n",
            "2014-09-30 00:00:00+00:00    7.1    37.132    -86.148                     1.0\n",
            "2014-11-30 00:00:00+00:00   18.1   -34.560    -58.506                     1.0\n",
            "2015-01-31 00:00:00+00:00   18.1   -34.560    -58.506                     1.0\n"
          ],
          "name": "stdout"
        }
      ]
    },
    {
      "cell_type": "markdown",
      "metadata": {
        "id": "0cUA3m-eoQgZ"
      },
      "source": [
        "### Visualisasi\r\n",
        "Selanjutnya untuk memvisualisasikan dengan menggunakan library matplotlib dataframe yang telah diolah (seperti yang telah dipelajari dari bab pertama hingga subbab sebelumnya di bab ini)."
      ]
    },
    {
      "cell_type": "markdown",
      "metadata": {
        "id": "aP4pux6RoYgC"
      },
      "source": [
        "Visualisasi tentang average jumlah masing-masing polutan berdasarkan bulan waktunya."
      ]
    },
    {
      "cell_type": "code",
      "metadata": {
        "id": "RtTbMZ2VmnOB"
      },
      "source": [
        "import pandas as pd\r\n",
        "import matplotlib.pyplot as plt\r\n",
        "# Load dataset https://dqlab-dataset.s3-ap-southeast-1.amazonaws.com/LO4/global_air_quality_4000rows.csv\r\n",
        "gaq = pd.read_csv('https://dqlab-dataset.s3-ap-southeast-1.amazonaws.com/LO4/global_air_quality_4000rows.csv')\r\n",
        "gaq['timestamp'] = pd.to_datetime(gaq['timestamp'])\r\n",
        "gaq = gaq.set_index('timestamp')"
      ],
      "execution_count": 180,
      "outputs": []
    },
    {
      "cell_type": "markdown",
      "metadata": {
        "id": "j0rfih_6odT_"
      },
      "source": [
        "**[1]** Membuat pivot table yang menunjukkan waktu di baris nya dan masing-masing value dari pollutant nya dalam kolom"
      ]
    },
    {
      "cell_type": "code",
      "metadata": {
        "colab": {
          "base_uri": "https://localhost:8080/"
        },
        "id": "nD-qEo5socCt",
        "outputId": "14d6281c-1fd8-4cd0-d694-0a87a525f273"
      },
      "source": [
        "# [1] Membuat pivot table yang menunjukkan waktu di baris nya dan masing-masing value dari pollutant nya dalam kolom\r\n",
        "gaq_viz = gaq[['pollutant','value']].reset_index().set_index(['timestamp','pollutant'])\r\n",
        "gaq_viz = gaq_viz.pivot_table(index='timestamp', columns='pollutant', aggfunc='mean').fillna(0)\r\n",
        "gaq_viz.columns = gaq_viz.columns.droplevel(0)\r\n",
        "print('Data (5 teratas):\\n', gaq_viz.head())"
      ],
      "execution_count": 181,
      "outputs": [
        {
          "output_type": "stream",
          "text": [
            "Data (5 teratas):\n",
            " pollutant                   bc   co  no2   o3  pm10  pm25  so2\n",
            "timestamp                                                     \n",
            "2014-05-13 03:00:00+00:00  0.0  0.0  0.0  0.0   0.0   9.7  0.0\n",
            "2014-08-12 20:00:00+00:00  0.0  0.0  0.0  0.0   0.0   7.1  0.0\n",
            "2015-04-15 00:00:00+00:00  0.0  0.0  0.0  0.0   0.0  18.1  0.0\n",
            "2015-08-21 01:00:00+00:00  0.0  0.0  0.0  0.0   0.0  36.9  0.0\n",
            "2015-09-13 01:00:00+00:00  0.0  0.0  0.0  0.0   0.0   8.8  0.0\n"
          ],
          "name": "stdout"
        }
      ]
    },
    {
      "cell_type": "markdown",
      "metadata": {
        "id": "FYvFmZetooJm"
      },
      "source": [
        "**[2]** Membuat fungsi yang memberikan default value 0 ketika value nya di bawah 0 dan apply ke setiap elemen dari dataset tersebut, kemudian menampilkannya sebagai chart"
      ]
    },
    {
      "cell_type": "code",
      "metadata": {
        "colab": {
          "base_uri": "https://localhost:8080/",
          "height": 635
        },
        "id": "ZePSj0oWoj1L",
        "outputId": "74bbeb04-ec21-4ba5-d5e1-f2b93c201b35"
      },
      "source": [
        "# [2] Membuat fungsi yang memberikan default value 0 ketika value nya di bawah 0 dan apply ke setiap elemen dari dataset tersebut, kemudian menampilkannya sebagai chart\r\n",
        "def default_val(val):\r\n",
        " if val < 0:\r\n",
        "   return 0\r\n",
        " else:\r\n",
        "   return val\r\n",
        "line1 = gaq_viz.resample('M').mean().ffill().applymap(lambda x: default_val(x)).apply(lambda x: x/x.max()) # default value if value < 0 then 0, kemudian menghasilkan % value = value/max(value)\r\n",
        "line1.plot(\r\n",
        "   title = 'average value of each pollutant over months',\r\n",
        "   figsize = (10,10), #ukuran canvas 10px x 10px\r\n",
        "   ylim = (0,1.25), #memberikan batas tampilan y-axis hanya 0 sampai 125%\r\n",
        "   subplots = True #memecah plot menjadi beberapa bagian sesuai dengan jumlah kolom\r\n",
        ")\r\n",
        "plt.ylabel('avg pollutant (%)')\r\n",
        "plt.xlabel('month')\r\n",
        "plt.show()"
      ],
      "execution_count": 182,
      "outputs": [
        {
          "output_type": "display_data",
          "data": {
            "image/png": "[encoded data removed]",
            "text/plain": [
              "<Figure size 720x720 with 7 Axes>"
            ]
          },
          "metadata": {
            "tags": [],
            "needs_background": "light"
          }
        }
      ]
    },
    {
      "cell_type": "markdown",
      "metadata": {
        "id": "ox-QXE0OpGpI"
      },
      "source": [
        "### Penutup\r\n",
        "Aku sedang asik mempraktikkan beberapa fungsi dan mengerjakan latihan soal di modul saat Andra memanggilku.\r\n",
        "\r\n",
        "“Sudah cukup paham dengan modul Pandas part 2 ini, Aksara? Kalau saya perhatikan, kamu serius banget dari tadi. Sudah belajar apa saja?”\r\n",
        "\r\n",
        "\r\n",
        "“Iya, aku tadi lagi nyoba nyelesein project end to end dari extracting data, load dataset, sampai manipulating data. Kalau sekarang lagi latihan menyimpan data ke dalam output yang sesuai. Lebih rumit dari yang kemarin, tapi masih ngerti, Ndra,” jelasku bersemangat.\r\n",
        "\r\n",
        "Tak kusangka materi tentang Pandas ini seru sekali walau cukup padat. Seru karena aku tahu Pandas sangat implementatif dalam mengerjakan proyek-proyek data perusahaan. Banyaknya materi yang sempat kukeluhkan di awal jadi enggak terasa!\r\n",
        "Aku mendapati Andra tersenyum tipis mendengar poin-poin yang sudah berhasil kupelajari.\r\n",
        "Kalau dari responsnya, mungkinkah bakal ada proyek baru untukku?\r\n",
        "\r\n",
        "\r\n",
        "“Apa yang kamu pelajari barusan akan sangat berguna dalam proyek analisis data nantinya dan jadi bekal kamu mempelajari machine learning nanti. Keep learning, Aksara. Saya sedang mempertimbangkan satu proyek untuk dipercayakan padamu lagi.”\r\n",
        "\r\n",
        "\r\n",
        "“My pleasure!” sahutku langsung. Tak ada yang penerapan ilmu yang lebih baik daripada praktik kerja langsung bukan?"
      ]
    },
    {
      "cell_type": "markdown",
      "metadata": {
        "id": "PbvlTfXwpPXh"
      },
      "source": [
        "## **Mini Project**"
      ]
    },
    {
      "cell_type": "markdown",
      "metadata": {
        "id": "pW4XC9PCpR2N"
      },
      "source": [
        "### Pendahuluan\r\n",
        "“Aksara, coba ikut saya ke ruangan rapat sebentar. Ada yang mau saya tunjukkan,” pinta Andra.\r\n",
        "\r\n",
        "Baru kali ini Andra mengajakku ke ruang rapat. Biasanya aku hanya mendengar ia mau rapat, dan sering kali ia sendiri juga yang menghampiriku. Aku pun segera beranjak. Ini pasti berkaitan dengan proyek yang dijanjikannya. Sesampaiku di ruang rapat, laptop Andra sudah terbuka dan menampilkan pantulan layar berupa data angka-angka. \r\n",
        "\r\n",
        "\r\n",
        "“Begini, Aksara. Perusahaan kita lagi butuh perbandingan performa dari setiap cabang di berbagai kota. Nanti ambil saja lima kota terbesar di Pulau Jawa untuk dianalisis dari segi order size, customer count, product count, brand count, dan GMV dalam basis bulanan. Sampai sini apakah cukup paham?”\r\n",
        "\r\n",
        "\r\n",
        "Sebenarnya aku cukup paham, tapi untuk memastikannya aku pun bertanya, “Jadi, ini aku perlu pivot ya untuk setiap measure yang dibutuhkan, lalu mencari angkanya per bulan?”\r\n",
        "\r\n",
        "\r\n",
        "“Benar. Sebelum saya beri deadline, dari kamu bisa selesai kapan?” tawar Andra. \r\n",
        "\r\n",
        "\r\n",
        "“Hmmm, datanya sendiri sudah bersih atau perlu aku cleaning lagi, Ndra?” tanyaku sembari menimbang-nimbang. \r\n",
        "\r\n",
        "\r\n",
        "“Datanya sudah bersih. Nanti akan coba saya kirimkan yang versi lengkapnya dalam tahun 2019 agar bisa kamu pertimbangkan estimasi waktu pengerjaan.”\r\n",
        "\r\n",
        "\r\n",
        "“Oke, Ndra. Soalnya, kalau datanya sudah bersih, dua hari cukup sih. Tapi aku cek dulu deh data lengkap yang nanti dikirim.”\r\n",
        "\r\n",
        "\r\n",
        "“Selamat bekerja, Aksara.”"
      ]
    },
    {
      "cell_type": "markdown",
      "metadata": {
        "id": "-IwkqwswpyoX"
      },
      "source": [
        "### Performa Penjualan di Setiap Cabang - Part 1\r\n",
        "Diberikan 4 csv files yang isinya retail data untuk tiap Quarter:\r\n",
        "\r\n",
        "1. csv (data dari bulan January - March)       --> https://dqlab-dataset.s3-ap-southeast-1.amazonaws.com/LO4/retail_data_from_1_until_3.csv\r\n",
        "2. csv (data dari bulan April - June)              --> https://dqlab-dataset.s3-ap-southeast-1.amazonaws.com/LO4/retail_data_from_4_until_6.csv\r\n",
        "3. csv (data dari bulan July - September)      --> https://dqlab-dataset.s3-ap-southeast-1.amazonaws.com/LO4/retail_data_from_7_until_9.csv\r\n",
        "4. csv (data dari bulan October - December)  --> https://dqlab-dataset.s3-ap-southeast-1.amazonaws.com/LO4/retail_data_from_10_until_12.csv\r\n",
        " \r\n",
        "\r\n",
        "**Goal**: Automation untuk pembuatan grafik dari measurement yang dibutuhkan.\r\n",
        "\r\n",
        " \r\n",
        "\r\n",
        "Untuk part 1 ini yang perlu dilakukan:\r\n",
        "\r\n",
        "**[1]**. Load masing-masing data *.csv dengan Pandas\r\n",
        "\r\n",
        "**[2]**. Pengecekan dan Transformasi Data \r\n",
        "\r\n",
        "* Cek data sekilas (melihat bentuk data biasanya 5 data teratas)\r\n",
        "* Cek list kolom untuk semua dataframe apakah seluruh kolom dari keempat dataframe yang terpisah itu sama\r\n",
        "* Jika sama digabungkan.\r\n",
        "* Cek informasi dataframe yang telah digabungkan\r\n",
        "* Statistik deskriptif dari dataframe yang telah digabungkan.\r\n",
        "\r\n",
        "**Untuk representasi string gunakan kutip satu, misalnya: 'contoh string'.**"
      ]
    },
    {
      "cell_type": "code",
      "metadata": {
        "colab": {
          "base_uri": "https://localhost:8080/"
        },
        "id": "ptMCqDheou48",
        "outputId": "86b4460e-3059-4ed8-860b-5299ade486fd"
      },
      "source": [
        "import pandas as pd\r\n",
        "import matplotlib.pyplot as plt\r\n",
        "\r\n",
        "# [1]. Load masing-masing data dengan pandas\r\n",
        "retail_data1 = pd.read_csv('https://dqlab-dataset.s3-ap-southeast-1.amazonaws.com/LO4/retail_data_from_1_until_3.csv')\r\n",
        "retail_data2 = pd.read_csv('https://dqlab-dataset.s3-ap-southeast-1.amazonaws.com/LO4/retail_data_from_4_until_6.csv')\r\n",
        "retail_data3 = pd.read_csv('https://dqlab-dataset.s3-ap-southeast-1.amazonaws.com/LO4/retail_data_from_7_until_9.csv')\r\n",
        "retail_data4 = pd.read_csv('https://dqlab-dataset.s3-ap-southeast-1.amazonaws.com/LO4/retail_data_from_10_until_12.csv')\r\n",
        "\r\n",
        "# [2]. Pengecekan Data\r\n",
        "print('PENGECEKAN DATA\\n\\n')\r\n",
        "# Cek data sekilas (tampilkan 5 baris teratas)\r\n",
        "print(retail_data1.head())\r\n",
        "# Cek list kolom untuk semua dataframe\r\n",
        "print('Kolom retail_data1: %s' %retail_data1.columns)\r\n",
        "print('Kolom retail_data2: %s' %retail_data2.columns)\r\n",
        "print('Kolom retail_data3: %s' %retail_data3.columns)\r\n",
        "print('Kolom retail_data4: %s' %retail_data4.columns)\r\n",
        "# Concat multiple dataframe menjadi 1 dataframe\r\n",
        "retail_table = pd.concat([retail_data1, retail_data2, retail_data3, retail_data4])\r\n",
        "print('\\nJumlah baris:', retail_table.shape[0])\r\n",
        "# Pengecekan dataframe info\r\n",
        "print('\\nInfo:')\r\n",
        "print(retail_table.info())\r\n",
        "# Pengecekan statistik deskriptif\r\n",
        "print('\\nStatistik deskriptif:\\n', retail_table.describe())"
      ],
      "execution_count": 183,
      "outputs": [
        {
          "output_type": "stream",
          "text": [
            "/usr/local/lib/python3.6/dist-packages/IPython/core/interactiveshell.py:2718: DtypeWarning: Columns (1) have mixed types.Specify dtype option on import or set low_memory=False.\n",
            "  interactivity=interactivity, compiler=compiler, result=result)\n"
          ],
          "name": "stderr"
        },
        {
          "output_type": "stream",
          "text": [
            "PENGECEKAN DATA\n",
            "\n",
            "\n",
            "   Unnamed: 0  order_id  order_date  ...  quantity item_price total_price\n",
            "0           0   1612339  2019-01-01  ...         4    1934000     7736000\n",
            "1           1   1612339  2019-01-01  ...         8     604000     4832000\n",
            "2           2   1612339  2019-01-01  ...        12     747000     8964000\n",
            "3           3   1612339  2019-01-01  ...        12     450000     5400000\n",
            "4           4   1612339  2019-01-01  ...         3    1500000     4500000\n",
            "\n",
            "[5 rows x 11 columns]\n",
            "Kolom retail_data1: Index(['Unnamed: 0', 'order_id', 'order_date', 'customer_id', 'city',\n",
            "       'province', 'product_id', 'brand', 'quantity', 'item_price',\n",
            "       'total_price'],\n",
            "      dtype='object')\n",
            "Kolom retail_data2: Index(['Unnamed: 0', 'order_id', 'order_date', 'customer_id', 'city',\n",
            "       'province', 'product_id', 'brand', 'quantity', 'item_price',\n",
            "       'total_price'],\n",
            "      dtype='object')\n",
            "Kolom retail_data3: Index(['Unnamed: 0', 'order_id', 'order_date', 'customer_id', 'city',\n",
            "       'province', 'product_id', 'brand', 'quantity', 'item_price',\n",
            "       'total_price'],\n",
            "      dtype='object')\n",
            "Kolom retail_data4: Index(['Unnamed: 0', 'order_id', 'order_date', 'customer_id', 'city',\n",
            "       'province', 'product_id', 'brand', 'quantity', 'item_price',\n",
            "       'total_price'],\n",
            "      dtype='object')\n",
            "\n",
            "Jumlah baris: 508557\n",
            "\n",
            "Info:\n",
            "<class 'pandas.core.frame.DataFrame'>\n",
            "Int64Index: 508557 entries, 0 to 201825\n",
            "Data columns (total 11 columns):\n",
            " #   Column       Non-Null Count   Dtype \n",
            "---  ------       --------------   ----- \n",
            " 0   Unnamed: 0   508557 non-null  int64 \n",
            " 1   order_id     508557 non-null  object\n",
            " 2   order_date   508557 non-null  object\n",
            " 3   customer_id  508557 non-null  int64 \n",
            " 4   city         508557 non-null  object\n",
            " 5   province     508557 non-null  object\n",
            " 6   product_id   508557 non-null  object\n",
            " 7   brand        508557 non-null  object\n",
            " 8   quantity     508557 non-null  int64 \n",
            " 9   item_price   508557 non-null  int64 \n",
            " 10  total_price  508557 non-null  int64 \n",
            "dtypes: int64(5), object(6)\n",
            "memory usage: 46.6+ MB\n",
            "None\n",
            "\n",
            "Statistik deskriptif:\n",
            "           Unnamed: 0    customer_id       quantity    item_price   total_price\n",
            "count  508557.000000  508557.000000  508557.000000  5.085570e+05  5.085570e+05\n",
            "mean    71004.479982   11509.957582      10.571326  1.357347e+06  7.043305e+06\n",
            "std     49737.328863    6758.489806     112.805119  1.481544e+07  5.135112e+07\n",
            "min         0.000000       0.000000       1.000000 -3.871709e+09 -3.871709e+09\n",
            "25%     31784.000000   12370.000000       1.000000  4.500000e+05  1.356000e+06\n",
            "50%     63569.000000   14388.000000       4.000000  7.400000e+05  3.498000e+06\n",
            "75%     95509.000000   16261.000000      11.000000  1.458000e+06  6.270000e+06\n",
            "max    201825.000000   18287.000000   74215.000000  4.739478e+09  2.790484e+10\n"
          ],
          "name": "stdout"
        }
      ]
    },
    {
      "cell_type": "markdown",
      "metadata": {
        "id": "Rd65zSqPqx1t"
      },
      "source": [
        "### Performa Penjualan di setiap Cabang - Part 2\r\n",
        "Melanjutkan penyelesaian persoalan ke langkah berikutnya\r\n",
        "\r\n",
        "**[3]** Transformasi Data \r\n",
        "\r\n",
        "* Jika ada data yang tidak seharusnya maka dapat dibuang\r\n",
        "* Jika ada kolom yang seharusnya bertipe datetime64 ubahlah\r\n",
        "* Cek kembali informasi dataframe \r\n",
        "* Tampilkan kembali statistik deskriptif dari dataframe\r\n",
        "\r\n",
        "**Untuk representasi string gunakan kutip satu, misalnya: 'contoh string'.**\r\n",
        "\r\n",
        "\r\n",
        "Sebagai kontrol, informasi terakhir (baris 22) berikut dengan statistik deskriptif (baris 24) adalah:"
      ]
    },
    {
      "cell_type": "markdown",
      "metadata": {
        "id": "Z9iKme_lrDxv"
      },
      "source": [
        "![image.png](data:image/png;base64,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)"
      ]
    },
    {
      "cell_type": "code",
      "metadata": {
        "colab": {
          "base_uri": "https://localhost:8080/"
        },
        "id": "rHFh69WfqVSi",
        "outputId": "67877c9b-3191-4639-d653-25f81fdad557"
      },
      "source": [
        "# [3]. Transformasi Data\r\n",
        "print('TRANSFORMASI DATA\\n\\n')\r\n",
        "# Memastikan data yang memiliki item_price < 0 atau total_price < 0\r\n",
        "cek = retail_table.loc[(retail_table['item_price'] < 0) | (retail_table['total_price'] < 0)]\r\n",
        "print('\\nitem_price < 0 atau total_price < 0:\\n', cek)\r\n",
        "# Jika tidak masuk akal datanya dapat dibuang\r\n",
        "if cek.shape[0] != 0:\r\n",
        "  retail_table = retail_table.loc[(retail_table['item_price'] > 0) & (retail_table['total_price'] > 0)]\r\n",
        "# Cek apakah masih ada order_id yang bernilai undefined dan delete row tersebut\r\n",
        "cek = retail_table.loc[retail_table['order_id'] == 'undefined']\r\n",
        "print('\\norder_id yang bernilai undefined:\\n', cek)\r\n",
        "# Jika ada maka buang baris tersebut\r\n",
        "if cek.shape[0] != 0:\r\n",
        "  retail_table = retail_table.loc[retail_table['order_id'] != 'undefined']\r\n",
        "\r\n",
        "# Transform order_id menjadi int64\r\n",
        "retail_table['order_id'] = retail_table['order_id'].astype('int64')\r\n",
        "# Transform order_date menjadi datetime Pandas\r\n",
        "retail_table['order_date'] = pd.to_datetime(retail_table['order_date'])\r\n",
        "# Cek dataframe info kembali untuk memastikan\r\n",
        "print('\\nInfo:')\r\n",
        "print(retail_table.info())\r\n",
        "# Cek statistik deskriptif kembali, untuk memastikan\r\n",
        "print('\\nStatistik deskriptif:\\n', retail_table.describe())"
      ],
      "execution_count": 185,
      "outputs": [
        {
          "output_type": "stream",
          "text": [
            "TRANSFORMASI DATA\n",
            "\n",
            "\n",
            "\n",
            "item_price < 0 atau total_price < 0:\n",
            "        Unnamed: 0   order_id  order_date  ...  quantity  item_price total_price\n",
            "83664       83664  undefined  2019-09-06  ...         1 -3871709000 -3871709000\n",
            "83665       83665  undefined  2019-09-06  ...         1 -3871709000 -3871709000\n",
            "\n",
            "[2 rows x 11 columns]\n",
            "\n",
            "order_id yang bernilai undefined:\n",
            "        Unnamed: 0   order_id  order_date  ...  quantity  item_price total_price\n",
            "83663       83663  undefined  2019-09-06  ...         1  3871733000  3871733000\n",
            "\n",
            "[1 rows x 11 columns]\n",
            "\n",
            "Info:\n",
            "<class 'pandas.core.frame.DataFrame'>\n",
            "Int64Index: 508554 entries, 0 to 201825\n",
            "Data columns (total 11 columns):\n",
            " #   Column       Non-Null Count   Dtype         \n",
            "---  ------       --------------   -----         \n",
            " 0   Unnamed: 0   508554 non-null  int64         \n",
            " 1   order_id     508554 non-null  int64         \n",
            " 2   order_date   508554 non-null  datetime64[ns]\n",
            " 3   customer_id  508554 non-null  int64         \n",
            " 4   city         508554 non-null  object        \n",
            " 5   province     508554 non-null  object        \n",
            " 6   product_id   508554 non-null  object        \n",
            " 7   brand        508554 non-null  object        \n",
            " 8   quantity     508554 non-null  int64         \n",
            " 9   item_price   508554 non-null  int64         \n",
            " 10  total_price  508554 non-null  int64         \n",
            "dtypes: datetime64[ns](1), int64(6), object(4)\n",
            "memory usage: 46.6+ MB\n",
            "None\n",
            "\n",
            "Statistik deskriptif:\n",
            "           Unnamed: 0      order_id  ...    item_price   total_price\n",
            "count  508554.000000  5.085540e+05  ...  5.085540e+05  5.085540e+05\n",
            "mean    71004.405302  1.680676e+06  ...  1.364968e+06  7.050960e+06\n",
            "std     49737.466061  3.865433e+04  ...  1.144767e+07  5.048185e+07\n",
            "min         0.000000  1.612339e+06  ...  1.200000e+04  1.200000e+04\n",
            "25%     31784.000000  1.646143e+06  ...  4.500000e+05  1.356000e+06\n",
            "50%     63569.000000  1.682617e+06  ...  7.400000e+05  3.498000e+06\n",
            "75%     95509.750000  1.714960e+06  ...  1.458000e+06  6.270000e+06\n",
            "max    201825.000000  1.742998e+06  ...  4.739478e+09  2.790484e+10\n",
            "\n",
            "[8 rows x 6 columns]\n"
          ],
          "name": "stdout"
        }
      ]
    },
    {
      "cell_type": "markdown",
      "metadata": {
        "id": "aCugSgyLr49j"
      },
      "source": [
        "### Performa Penjualan di setiap Cabang - Part 3\r\n",
        "Mari lanjutkan ke langkah berikutnya\r\n",
        "\r\n",
        "**[4]**. Filter province yang hanya termasuk 5 provinsi besar di Jawa (DKI Jakarta, Jawa Barat, Jawa Tengah, Jawa Timur, dan Yogyakarta)\r\n",
        "\r\n",
        "**[5]**. Mengelompokkan data berdasarkan **order_date** dan **province** yang sudah difilter dan menghitung order unique count, customer unique count, product unique count, brand unique count, dan GMV (Gross Merchandise Volume = total_price untuk semua penjualan)\r\n",
        "\r\n",
        "**[6]**. Melakukan unstack untuk mendapatkan **order_date** di bagian baris dan **province** di bagian column\r\n",
        "\r\n",
        "\r\n",
        "**Untuk string direpresentasikan dengan kutip satu, misalnya 'contoh string'.**\r\n",
        " \r\n",
        "\r\n",
        "\r\n",
        "**Sebagai kontrol, bahwa output langkah ke [5]**"
      ]
    },
    {
      "cell_type": "markdown",
      "metadata": {
        "id": "6l1n6wY7sM8Y"
      },
      "source": [
        "![image.png](data:image/png;base64,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)"
      ]
    },
    {
      "cell_type": "markdown",
      "metadata": {
        "id": "rFr2_bttsOgG"
      },
      "source": [
        "**dan output langkah [6]** "
      ]
    },
    {
      "cell_type": "markdown",
      "metadata": {
        "id": "TnFJMbXlsW7M"
      },
      "source": [
        "![image.png](data:image/png;base64,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)"
      ]
    },
    {
      "cell_type": "code",
      "metadata": {
        "colab": {
          "base_uri": "https://localhost:8080/"
        },
        "id": "f300CJ7krQVX",
        "outputId": "1b927387-e319-462c-916f-05f0c48bb655"
      },
      "source": [
        "# [4]. Filter hanya 5 province terbesar di pulau Jawa\r\n",
        "print('\\nFILTER 5 PROVINCE TERBESAR DI PULAU JAWA\\n')\r\n",
        "java = ['DKI Jakarta','Jawa Barat','Jawa Tengah','Jawa Timur','Yogyakarta']\r\n",
        "retail_table = retail_table.loc[retail_table['province'].isin(java)]\r\n",
        "# Untuk memastikan kolom provinsi isinya sudah sama dengan java\r\n",
        "print(retail_table['province'].unique())\r\n",
        "\r\n",
        "# [5]. Kelompokkan sesuai dengan order_date dan province kemudian aggregasikan\r\n",
        "groupby_city_province = retail_table.groupby(['order_date','province']).agg({\r\n",
        "'order_id': 'nunique',\r\n",
        "'customer_id': 'nunique',\r\n",
        "'product_id': 'nunique',\r\n",
        "'brand': 'nunique',\r\n",
        "'total_price': sum\r\n",
        "})\r\n",
        "# Ubah nama kolomnya menjadi 'order','customer','product','brand','GMV'\r\n",
        "groupby_city_province.columns = ['order','customer','product','brand','GMV']\r\n",
        "print('\\ngroupby_city_province (10 data teratas):\\n', groupby_city_province.head(10))\r\n",
        "\r\n",
        "# [6]. Unstack untuk mendapatkan order_date di bagian baris dan province di bagian column\r\n",
        "unstack_city_province = groupby_city_province.unstack('province').fillna(0)\r\n",
        "print('\\nunstack_city_province (5 data teratas):\\n', unstack_city_province.head())"
      ],
      "execution_count": 186,
      "outputs": [
        {
          "output_type": "stream",
          "text": [
            "\n",
            "FILTER 5 PROVINCE TERBESAR DI PULAU JAWA\n",
            "\n",
            "['DKI Jakarta' 'Jawa Barat' 'Jawa Timur' 'Yogyakarta' 'Jawa Tengah']\n",
            "\n",
            "groupby_city_province (10 data teratas):\n",
            "                         order  customer  product  brand         GMV\n",
            "order_date province                                                \n",
            "2019-01-01 DKI Jakarta     34        33      328     22  4717083000\n",
            "           Jawa Barat      11         9      136     18  1557289000\n",
            "           Jawa Tengah      4         4      116     20   352052000\n",
            "           Jawa Timur       6         6       83     15  1106603000\n",
            "           Yogyakarta       7         4       88     16  9454007000\n",
            "2019-01-02 DKI Jakarta     58        50      590     25  6218886000\n",
            "           Jawa Barat      17        14      246     21  1458207000\n",
            "           Jawa Tengah      8         7       67     18   968273000\n",
            "           Jawa Timur       6         6       69     17   901676000\n",
            "           Yogyakarta      12        12      238     23  1509057000\n",
            "\n",
            "unstack_city_province (5 data teratas):\n",
            "                  order             ...           GMV              \n",
            "province   DKI Jakarta Jawa Barat  ...    Jawa Timur    Yogyakarta\n",
            "order_date                         ...                            \n",
            "2019-01-01        34.0       11.0  ...  1.106603e+09  9.454007e+09\n",
            "2019-01-02        58.0       17.0  ...  9.016760e+08  1.509057e+09\n",
            "2019-01-03        43.0       13.0  ...  1.189519e+09  1.582902e+09\n",
            "2019-01-04        39.0        9.0  ...  2.418780e+08  5.945680e+08\n",
            "2019-01-06        22.0        9.0  ...  2.157180e+08  1.221680e+08\n",
            "\n",
            "[5 rows x 25 columns]\n"
          ],
          "name": "stdout"
        }
      ]
    },
    {
      "cell_type": "markdown",
      "metadata": {
        "id": "X5Wtm2Ofs_1Z"
      },
      "source": [
        "### Performa Penjualan di setiap Cabang - Part 4\r\n",
        "Ayo lanjutkan ke langkah berikutnya:\r\n",
        "\r\n",
        "**[7]**. Slicing data untuk masing-masing measurement (kolom), misal: kolom order\r\n",
        "\r\n",
        "**[8]**. Lakukan resampling pada data tersebut untuk dilakukan perhitungan secara bulanan\r\n",
        "\r\n",
        "\r\n",
        "Untuk string direpresentasikan dengan kutip satu, misalnya 'contoh string'."
      ]
    },
    {
      "cell_type": "code",
      "metadata": {
        "colab": {
          "base_uri": "https://localhost:8080/"
        },
        "id": "CuEtg239shes",
        "outputId": "6f388e9f-2c6d-45f8-ba92-f239ba9d5c54"
      },
      "source": [
        "# [7]. Slicing data untuk masing-masing measurement, misal: order\r\n",
        "idx = pd.IndexSlice\r\n",
        "by_order = unstack_city_province.loc[:,idx['order']]\r\n",
        "print('\\nby order (5 data teratas):\\n', by_order.head())\r\n",
        "\r\n",
        "# [8]. Lakukan resampling pada data tersebut untuk dilakukan perhitungan rata-rata bulanan\r\n",
        "by_order_monthly_mean = by_order.resample('M').mean()\r\n",
        "print('\\nby_order_monthly_mean (5 data teratas):\\n', by_order_monthly_mean.head())"
      ],
      "execution_count": 187,
      "outputs": [
        {
          "output_type": "stream",
          "text": [
            "\n",
            "by order (5 data teratas):\n",
            " province    DKI Jakarta  Jawa Barat  Jawa Tengah  Jawa Timur  Yogyakarta\n",
            "order_date                                                              \n",
            "2019-01-01         34.0        11.0          4.0         6.0         7.0\n",
            "2019-01-02         58.0        17.0          8.0         6.0        12.0\n",
            "2019-01-03         43.0        13.0          8.0         8.0        10.0\n",
            "2019-01-04         39.0         9.0         11.0         2.0         3.0\n",
            "2019-01-06         22.0         9.0          3.0         4.0         2.0\n",
            "\n",
            "by_order_monthly_mean (5 data teratas):\n",
            " province    DKI Jakarta  Jawa Barat  Jawa Tengah  Jawa Timur  Yogyakarta\n",
            "order_date                                                              \n",
            "2019-01-31    27.222222   10.500000     5.111111    3.500000    4.555556\n",
            "2019-02-28    19.083333    7.458333     3.250000    3.208333    2.833333\n",
            "2019-03-31    18.576923    6.615385     3.615385    3.192308    3.038462\n",
            "2019-04-30    22.923077    8.000000     4.038462    3.730769    3.807692\n",
            "2019-05-31    27.318182    9.181818     4.318182    5.181818    5.000000\n"
          ],
          "name": "stdout"
        }
      ]
    },
    {
      "cell_type": "markdown",
      "metadata": {
        "id": "CZGFm1AAtpz4"
      },
      "source": [
        "### Performa Penjualan di setiap Cabang - Part 5\r\n",
        "Sekarang dilanjutkan untuk langkah #[9] yaitu menampilkan grafik dari langkah #[8] yang telah dilakukan.\r\n",
        "\r\n",
        "**[9]**. Plot untuk hasil pada langkah #[8]\r\n",
        "\r\n",
        "**Untuk string direpresentasikan dengan kutip satu, misalnya 'contoh string'**."
      ]
    },
    {
      "cell_type": "code",
      "metadata": {
        "colab": {
          "base_uri": "https://localhost:8080/",
          "height": 361
        },
        "id": "8vo_wXRetSM7",
        "outputId": "c00e94f9-a711-464e-963f-b273f20391d0"
      },
      "source": [
        "import matplotlib.pyplot as plt\r\n",
        "\r\n",
        "# [9]. Plot untuk hasil pada langkah #[8]\r\n",
        "by_order_monthly_mean.plot(\r\n",
        "figsize = (8,5),\r\n",
        "title = 'Average Daily order Size in Month View for all Province'\r\n",
        ")\r\n",
        "plt.ylabel('avg order size')\r\n",
        "plt.xlabel('month')\r\n",
        "plt.show()"
      ],
      "execution_count": 188,
      "outputs": [
        {
          "output_type": "display_data",
          "data": {
            "image/png": "[encoded data removed]",
            "text/plain": [
              "<Figure size 576x360 with 1 Axes>"
            ]
          },
          "metadata": {
            "tags": [],
            "needs_background": "light"
          }
        }
      ]
    },
    {
      "cell_type": "markdown",
      "metadata": {
        "id": "cwUBXXGft-r8"
      },
      "source": [
        "Dapat dilihat bahwa avg order size untuk DKI Jakarta tertinggi dan terus memiliki kenaikan, disusul oleh Jawa Barat dan kemudian 3 sisanya hampir berada dalam angka yang rata-rata sama"
      ]
    },
    {
      "cell_type": "markdown",
      "metadata": {
        "id": "NLn73ZcXuHGV"
      },
      "source": [
        "### Performa Penjualan di setiap Cabang - Part 6\r\n",
        "Langah 7 s/d 9 yang telah dilakukan baru untuk satu measurement yaitu order. Berarti ada empat kali lagi kode seperti ini harus dibuat. Karena struktur code masih sama, dapat menggunakan perulangan sesuai dengan jumlah measurement yaitu 5, sehingga kelima measurement dapat ditampilkan grafiknya dalam satu canvas figure.\r\n",
        "\r\n",
        "Mari memulai dengan membuat sebuah perulangan dengan dataframe **unstack_city_province** yang digunakan (hasil dari langkah ke 5 di part 2)."
      ]
    },
    {
      "cell_type": "code",
      "metadata": {
        "colab": {
          "base_uri": "https://localhost:8080/",
          "height": 1000
        },
        "id": "yw7LoeNtuWia",
        "outputId": "f2999046-6003-48ea-a4f2-b6086d5a1498"
      },
      "source": [
        "import matplotlib.pyplot as plt\r\n",
        "\r\n",
        "# Create figure canvas dan axes for 5 line plots\r\n",
        "fig, axes = plt.subplots(5, 1, figsize=(8, 25))\r\n",
        "\r\n",
        "# Slicing index\r\n",
        "idx = pd.IndexSlice\r\n",
        "for i, measurement in enumerate(groupby_city_province.columns):\r\n",
        "  # Slicing data untuk masing-masing measurement\r\n",
        "  by_measurement = unstack_city_province.loc[:,idx[measurement]]\r\n",
        "  # Lakukan resampling pada data tersebut untuk dilakukan perhitungan rata-rata bulanan\r\n",
        "  by_measurement_monthly_mean = by_measurement.resample('M').mean()\r\n",
        "  # Plot by_measurement_monthly_mean\r\n",
        "  by_measurement_monthly_mean.plot(\r\n",
        "      title = 'Average Daily ' + measurement + ' Size in Month View for all Province',\r\n",
        "      ax = axes[i]\r\n",
        "      )\r\n",
        "  axes[i].set_ylabel('avg ' + measurement + ' size')\r\n",
        "  axes[i].set_xlabel('month')\r\n",
        "\r\n",
        "# Adjust the layout and show the plot\r\n",
        "plt.tight_layout()\r\n",
        "plt.show()"
      ],
      "execution_count": 199,
      "outputs": [
        {
          "output_type": "display_data",
          "data": {
            "image/png": "[encoded data removed]",
            "text/plain": [
              "<Figure size 576x1800 with 5 Axes>"
            ]
          },
          "metadata": {
            "tags": [],
            "needs_background": "light"
          }
        }
      ]
    },
    {
      "cell_type": "markdown",
      "metadata": {
        "id": "UmSq0vo1xgGJ"
      },
      "source": [
        "### Evaluasi Andra untuk Project yang Telah Disubmit\r\n",
        "Aku baru selesai mengecek ulang hasil kerjaku sebelum kuberikan pada Andra. Sejauh pemeriksaanku semua tampak baik-baik saja. Aku pun menutup laptopku dan membawanya ke ruangan Andra. Harus kuakui, aku cukup berdebar-debar! Walaupun proyek pertama berjalan lancar, tetap saja rasanya tegang membayangkan tanggapan Andra terhadap hasil kerjaku. Semoga tidak mengecewakan. \r\n",
        "\r\n",
        "\r\n",
        "“Ndra, maaf ganggu. Ini hasil proyek kemarin sudah selesai. Aku menganalisis rata-rata jumlah order, customer, produk, brand, dan GMV per hari dalam bulanan untuk 5 provinsi besar di Pulau Jawa sesuai rikues. Mau dicek dulu?”\r\n",
        "\r\n",
        "\r\n",
        "“Boleh, coba tolong dibawa ke mari laptop kamu.” \r\n",
        "\r\n",
        "\r\n",
        "Selang beberapa menit, Andra menyahut “Saya mau tanya. Kamu pakai define function di kodemu, gunanya untuk apa?”\r\n",
        "\r\n",
        "\r\n",
        "“Buat automate pembuatan dan penyimapanan grafik, Ndra. Jadi tinggal state saja dataframe-nya yang mana dan pengelompokkannya seperti apa.” jelasku. Ujian tanya jawab telah dimulai! Andra memang tipikal mentor yang akan menguji hasil pekerjaan. Perlahan cara ini melatihku untuk mengambil keputusan dan langkah yang benar-benar matang.\r\n",
        "\r\n",
        "\r\n",
        "“Oke. Kenapa kamu enggak pakai command saja yang diulang sampai 5 kali kepada 5 measurement yang berbeda?” \r\n",
        "\r\n",
        "\r\n",
        "“Soalnya pakai looping akan lebih mudah, Ndra. Aku tinggal mengganti order pada Part 3 menjadi sebuah variable bernama measurement, lalu lakukan for loop untuk diulang ke semua measurement yang ada,” jawabku mantap.\r\n",
        "\r\n",
        "\r\n",
        "Andra tersenyum. “Oke, sepertinya kamu benar-benar tahu apa yang kamu lakukan. Akan saya bawa ke rapat nanti untuk dibahas dengan kepala cabang, saya akan undang kamu ke rapat juga.”\r\n",
        "\r\n",
        "\r\n",
        "Aku mengangguk antusias. \r\n",
        "\r\n",
        " "
      ]
    },
    {
      "cell_type": "markdown",
      "metadata": {
        "id": "HEHJ1YR-xvpE"
      },
      "source": [
        "## **Hasil**\r\n",
        "Modul **Data Manipulation with Pandas - Part 2**. Materi-materi yang telah dipelajari dan praktekkan dalam modul ini, telah mendapatkan pengetahuan (knowledge) dan praktek (skill) untuk:\r\n",
        "\r\n",
        "* Dapat menerapkan teknik **penggabungan data** antar Series dan Dataframe dengan menggunakan **concat, merge dan join**.\r\n",
        "* Dapat memahami konsep dan menerapkan teknik **pivot, melt, stack** dan **unstack** pada dataframe untuk memformat ulang bentuk data.\r\n",
        "* Dapat memahami konsep dan menerapkan teknik **groupby** dan **aggregation** untuk mengurangi jumlah data.\r\n",
        "* Mengenal dan memahami konsep **time series** di Pandas\r\n",
        "Latihan dalam mengerjakan project bisnis sederhana menggunakan pandas\r\n",
        " \r\n",
        "\r\n",
        "Ada juga sejumlah catatan yang perlu diingat, yaitu\r\n",
        "\r\n",
        "1. Jikalau terdapat berbagai multiple source untuk extract 1 informasi, maka pastikan struktur datanya adalah sama, list column dan data types.\r\n",
        "2. Mengerti business understanding nya sehingga jika diperlukan melakukan join maka bisa melakukan join dengan efektif dan tepat\r\n",
        "3. Mengerti tujuan analisisnya sehingga bisa melakukan aggregation dan transform data (pivot, melt, etc) data dengan tepat dan efektif\r\n",
        "4. Sebisa mungkin selalu set index pada kolom datetime sehingga slicing menjadi lebih mudah dan melakukan hal lain seperti downsampling ataupun upsampling\r\n",
        "5. Selalu gunakan automation jika memungkinkan karena itu akan mempermudah hidupmu dan menghemat waktu"
      ]
    },
    {
      "cell_type": "code",
      "metadata": {
        "id": "QFfoTkUZwsAd"
      },
      "source": [
        ""
      ],
      "execution_count": null,
      "outputs": []
    }
  ]
}