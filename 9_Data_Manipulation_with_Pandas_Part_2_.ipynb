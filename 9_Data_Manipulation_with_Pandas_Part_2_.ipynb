{
  "nbformat": 4,
  "nbformat_minor": 0,
  "metadata": {
    "colab": {
      "name": "9_Data Manipulation with Pandas_Part_2 .ipynb",
      "provenance": [],
      "authorship_tag": "ABX9TyNnb7wvyWU68xULwDVNwBVt",
      "include_colab_link": true
    },
    "kernelspec": {
      "name": "python3",
      "display_name": "Python 3"
    },
    "accelerator": "GPU"
  },
  "cells": [
    {
      "cell_type": "markdown",
      "metadata": {
        "id": "view-in-github",
        "colab_type": "text"
      },
      "source": [
        "<a href=\"https://colab.research.google.com/github/setyo-dwi-pratama/Courses/blob/main/9_Data_Manipulation_with_Pandas_Part_2_.ipynb\" target=\"_parent\"><img src=\"https://colab.research.google.com/assets/colab-badge.svg\" alt=\"Open In Colab\"/></a>"
      ]
    },
    {
      "cell_type": "markdown",
      "metadata": {
        "id": "UG65lMwk6lTs"
      },
      "source": [
        "# **Data Manipulation with Pandas - Part 2** "
      ]
    },
    {
      "cell_type": "markdown",
      "metadata": {
        "id": "go-wOxwA6o1A"
      },
      "source": [
        "## **Penggabungan Series/Dataframe**"
      ]
    },
    {
      "cell_type": "markdown",
      "metadata": {
        "id": "8xh6y_wb7Hw4"
      },
      "source": [
        "### Pendahuluan\r\n",
        "“Aksara, sedang apa?”\r\n",
        "\r\n",
        "\r\n",
        "Aku pun mengalihkan perhatianku dari layar laptop ke Andra. Pagi-pagi sekali ia sudah menghampiriku. Diam-diam aku menebak materi baru apa lagi yang harus kupelajari ataukah ada proyek dadakan lagi yang perlu diselesaikan?\r\n",
        "\r\n",
        " \r\n",
        "\r\n",
        "“Lagi latihan pakai Pandas, Ndra.”\r\n",
        "\r\n",
        "“Oh, masih modul Pandas part 1 kemarin?”\r\n",
        "\r\n",
        "Aku mengangguk.\r\n",
        "\r\n",
        "\r\n",
        "“Pas banget, pagi ini saya mau ngirim ke kamu lanjutan modulnya. Lagipula modul kemarin kamu sudah lulus kok. Sekarang fokus ke Pandas part 2 saja. Kali ini materinya lebih dalam mengenai interaksi dengan tabular data menggunakan Pandas. Nanti kamu baca dan pelajari saja dulu.”\r\n",
        "\r\n",
        " \r\n",
        "“Oh, oke.” \r\n",
        "\r\n",
        "\r\n",
        "Setelah obrolan tadi, aku langsung menerima pesan dengan lampiran materi lanjutan dari Andra. Penasaran dengan apa yang bisa Pandas lakukan lagi, aku pun segera membuka dan mencernanya:\r\n",
        "\r\n",
        "\r\n",
        "Reference: https://pandas.pydata.org/pandas-docs/stable/user_guide/merging.html"
      ]
    },
    {
      "cell_type": "markdown",
      "metadata": {
        "id": "-b-RSU6j7L1m"
      },
      "source": [
        "### Bagaimana Cara Menggabungkan Pandas Series/Dataframe?\r\n",
        "Sebagai seorang praktisi data, pasti sering kali bertemu dengan banyak file sekaligus dan data yang dibutuhkan tersebar di berbagai file tersebut dan membutuhkan metode untuk menggabungkan semua informasi yang dibutuhkan dari setiap file itu.\r\n",
        "\r\n",
        "Dengan menggunakan excel atau tools pengolah spreadsheet lain hal itu bisa terjadi mungkin dengan menggunakan copy paste file satu ke file lainnya atau yang agak canggih menggunakan method importRange di google sheets. Tetapi tentu hal itu tidak bisa diandalkan ketika berurusan dengan big data yang datanya bisa milyaran rows dengan informasi yang tidak terbatas, Python dan Pandas adalah satu-satunya cara untuk mengatasinya.\r\n",
        "\r\n",
        "Terdapat beberapa metode untuk menggabungkan Series/Dataframe di Pandas, yaitu:\r\n",
        "\r\n",
        "1. append\r\n",
        "2. concat\r\n",
        "3. merge\r\n",
        "4. join"
      ]
    },
    {
      "cell_type": "markdown",
      "metadata": {
        "id": "c2dGTcTr7iSz"
      },
      "source": [
        "### Append\r\n",
        "Method **.append()** dapat digunakan pada dataframe/series yang ditujukan untuk menambah row-nya saja. Jika di SQL memiliki 2 tabel atau lebih maka dapat menggabungkannya secara vertikal dengan Union. Jadi **SQL Union** ekuivalen dengan method **.append()** di Pandas."
      ]
    },
    {
      "cell_type": "markdown",
      "metadata": {
        "id": "cuiZO8nG73qz"
      },
      "source": [
        "Perhatikan contoh berikut, mulai dengan method .append pada **series**"
      ]
    },
    {
      "cell_type": "code",
      "metadata": {
        "colab": {
          "base_uri": "https://localhost:8080/"
        },
        "id": "mFtADqPI6oM4",
        "outputId": "e3eae410-2d5e-4a33-cdd2-a957d4ef5ff5"
      },
      "source": [
        "import pandas as pd\r\n",
        "# Buat series of int (s1) dan series of string (s2)\r\n",
        "s1 = pd.Series([1,2,3,4,5,6])\r\n",
        "s2 = pd.Series([\"a\",\"b\",\"c\",\"d\",\"e\",\"f\"])\r\n",
        "# Terapkan method append\r\n",
        "s1_append_s2 = s1.append(s2)\r\n",
        "print(\"Series - append:\\n\", s1_append_s2)"
      ],
      "execution_count": 1,
      "outputs": [
        {
          "output_type": "stream",
          "text": [
            "Series - append:\n",
            " 0    1\n",
            "1    2\n",
            "2    3\n",
            "3    4\n",
            "4    5\n",
            "5    6\n",
            "0    a\n",
            "1    b\n",
            "2    c\n",
            "3    d\n",
            "4    e\n",
            "5    f\n",
            "dtype: object\n"
          ],
          "name": "stdout"
        }
      ]
    },
    {
      "cell_type": "markdown",
      "metadata": {
        "id": "i_u8J2T88s63"
      },
      "source": [
        "Untuk **Dataframe**"
      ]
    },
    {
      "cell_type": "code",
      "metadata": {
        "colab": {
          "base_uri": "https://localhost:8080/"
        },
        "id": "o2FG1zkk8V4q",
        "outputId": "545e4f5d-3a15-4cf8-d6a2-c1df7d1672ca"
      },
      "source": [
        "# Buat dataframe df1 dan df2\r\n",
        "df1 = pd.DataFrame({'a':[1,2],\r\n",
        "                    'b':[3,4]})\r\n",
        "print(\"df1:\\n\", df1)\r\n",
        "df2 = pd.DataFrame({'b':[1,2],\r\n",
        "                    'a':[3,4]})\r\n",
        "print(\"df2:\\n\", df2)\r\n",
        "# Terapkan method append\r\n",
        "df1_append_df2 = df1.append(df2)\r\n",
        "print(\"Dataframe - append:\\n\", df1_append_df2)"
      ],
      "execution_count": 2,
      "outputs": [
        {
          "output_type": "stream",
          "text": [
            "df1:\n",
            "    a  b\n",
            "0  1  3\n",
            "1  2  4\n",
            "df2:\n",
            "    b  a\n",
            "0  1  3\n",
            "1  2  4\n",
            "Dataframe - append:\n",
            "    a  b\n",
            "0  1  3\n",
            "1  2  4\n",
            "0  3  1\n",
            "1  4  2\n"
          ],
          "name": "stdout"
        }
      ]
    },
    {
      "cell_type": "markdown",
      "metadata": {
        "id": "uflJHQiA9xVt"
      },
      "source": [
        "**Tugas Praktek:**\r\n",
        "\r\n",
        "Untuk prakteknya terapkanlah method append dengan series s1 dan dataframe df1 ditempatkan setelah series s2 dan dataframe df2 masing-masingnya."
      ]
    },
    {
      "cell_type": "code",
      "metadata": {
        "colab": {
          "base_uri": "https://localhost:8080/"
        },
        "id": "jvyMWR-59Vig",
        "outputId": "85478411-18ef-4a32-f551-e2f01f450657"
      },
      "source": [
        "# Buat series of int (s1) dan series of string (s2)\r\n",
        "s1 = pd.Series([1,2,3,4,5,6])\r\n",
        "s2 = pd.Series([\"a\",\"b\",\"c\",\"d\",\"e\",\"f\"])\r\n",
        "# Terapkan method append\r\n",
        "s2_append_s1 = s2.append(s1)\r\n",
        "print(\"Series - append:\\n\", s2_append_s1)"
      ],
      "execution_count": 3,
      "outputs": [
        {
          "output_type": "stream",
          "text": [
            "Series - append:\n",
            " 0    a\n",
            "1    b\n",
            "2    c\n",
            "3    d\n",
            "4    e\n",
            "5    f\n",
            "0    1\n",
            "1    2\n",
            "2    3\n",
            "3    4\n",
            "4    5\n",
            "5    6\n",
            "dtype: object\n"
          ],
          "name": "stdout"
        }
      ]
    },
    {
      "cell_type": "code",
      "metadata": {
        "colab": {
          "base_uri": "https://localhost:8080/"
        },
        "id": "HAyE47ED-SUd",
        "outputId": "e72e739f-75a9-42a5-a049-c470b2faceb3"
      },
      "source": [
        "# Buat dataframe df1 dan df2\r\n",
        "df1 = pd.DataFrame({'a':[1,2],\r\n",
        "'b':[3,4]})\r\n",
        "df2 = pd.DataFrame({'b':[1,2],\r\n",
        "'a':[3,4]})\r\n",
        "# Terapkan method append\r\n",
        "df2_append_df1 = df2.append(df1)\r\n",
        "print(\"Dataframe - append:\\n\", df2_append_df1)"
      ],
      "execution_count": 4,
      "outputs": [
        {
          "output_type": "stream",
          "text": [
            "Dataframe - append:\n",
            "    b  a\n",
            "0  1  3\n",
            "1  2  4\n",
            "0  3  1\n",
            "1  4  2\n"
          ],
          "name": "stdout"
        }
      ]
    },
    {
      "cell_type": "markdown",
      "metadata": {
        "id": "OMqjeA-DACSV"
      },
      "source": [
        "### Concat\r\n",
        "Method **.concat()** dapat digunakan pada dataframe yang ditujukan untuk penggabungan baik dalam row-wise (dalam arah ) atau column-wise."
      ]
    },
    {
      "cell_type": "markdown",
      "metadata": {
        "id": "WRS17zB8AKrM"
      },
      "source": [
        "Perhatikan contoh berikut, mulai dengan method .concat pada **row-wise**"
      ]
    },
    {
      "cell_type": "code",
      "metadata": {
        "colab": {
          "base_uri": "https://localhost:8080/"
        },
        "id": "nObE4P9uAJ-U",
        "outputId": "b185e7a5-b3fb-442f-e920-284ae8234bc2"
      },
      "source": [
        "# Buat dataframe df1 dan df2\r\n",
        "df1 = pd.DataFrame({'a':[1,2],\r\n",
        "                    'b':[3,4]})\r\n",
        "print(\"df1:\\n\", df1)\r\n",
        "df2 = pd.DataFrame({'b':[1,2],\r\n",
        "                    'a':[3,4]})\r\n",
        "print(\"df2:\\n\", df2)\r\n",
        "# Terapkan method concat row-wise\r\n",
        "row_wise_concat = pd.concat([df1,df2])\r\n",
        "print(\"Row-wise - concat:\\n\", row_wise_concat)"
      ],
      "execution_count": 5,
      "outputs": [
        {
          "output_type": "stream",
          "text": [
            "df1:\n",
            "    a  b\n",
            "0  1  3\n",
            "1  2  4\n",
            "df2:\n",
            "    b  a\n",
            "0  1  3\n",
            "1  2  4\n",
            "Row-wise - concat:\n",
            "    a  b\n",
            "0  1  3\n",
            "1  2  4\n",
            "0  3  1\n",
            "1  4  2\n"
          ],
          "name": "stdout"
        }
      ]
    },
    {
      "cell_type": "markdown",
      "metadata": {
        "id": "HYKOGDPqA1J9"
      },
      "source": [
        "Untuk penerapan concat pada **column-wise**"
      ]
    },
    {
      "cell_type": "code",
      "metadata": {
        "colab": {
          "base_uri": "https://localhost:8080/"
        },
        "id": "HtoXHBbFAm5j",
        "outputId": "79c812d6-406f-44f9-efe0-2d94b587d795"
      },
      "source": [
        "# Terapkan method concat column-wise\r\n",
        "col_wise_concat = pd.concat([df1, df2], axis=1)\r\n",
        "print(\"Column-wise - concat:\\n\", col_wise_concat)"
      ],
      "execution_count": 6,
      "outputs": [
        {
          "output_type": "stream",
          "text": [
            "Column-wise - concat:\n",
            "    a  b  b  a\n",
            "0  1  3  1  3\n",
            "1  2  4  2  4\n"
          ],
          "name": "stdout"
        }
      ]
    },
    {
      "cell_type": "markdown",
      "metadata": {
        "id": "smpzEZXzBQ-L"
      },
      "source": [
        "Dapat juga menambahkan identifier dari dataframe untuk data yang ditambahkan"
      ]
    },
    {
      "cell_type": "code",
      "metadata": {
        "colab": {
          "base_uri": "https://localhost:8080/"
        },
        "id": "X3cEPhNqBLt-",
        "outputId": "1348d6fd-c4a7-41dd-b460-8c354686ddbb"
      },
      "source": [
        "# Penambahan identifier --> membentuh hasil penggabungan multiindex\r\n",
        "multiindex_concat = pd.concat([df1,df2],axis=0,keys=['df1','df2'])\r\n",
        "print(\"Multiindex - concat:\\n\", multiindex_concat)"
      ],
      "execution_count": 7,
      "outputs": [
        {
          "output_type": "stream",
          "text": [
            "Multiindex - concat:\n",
            "        a  b\n",
            "df1 0  1  3\n",
            "    1  2  4\n",
            "df2 0  3  1\n",
            "    1  4  2\n"
          ],
          "name": "stdout"
        }
      ]
    },
    {
      "cell_type": "markdown",
      "metadata": {
        "id": "uh84mcSSByeP"
      },
      "source": [
        "**Tugas Praktek**:\r\n",
        "\r\n",
        "Balikkanlah posisi kedua dataframe yang akan digabungkan dengan concat. "
      ]
    },
    {
      "cell_type": "code",
      "metadata": {
        "colab": {
          "base_uri": "https://localhost:8080/"
        },
        "id": "RGElsPoRCe7r",
        "outputId": "471d3e8c-a10a-4d6c-bcbf-479cccdcd0be"
      },
      "source": [
        "import pandas as pd\r\n",
        "# Buat dataframe df1 dan df2\r\n",
        "df1 = pd.DataFrame({'a':[1,2],\r\n",
        "                    'b':[3,4]})\r\n",
        "df2 = pd.DataFrame({'b':[1,2],\r\n",
        "                    'a':[3,4]})\r\n",
        "\r\n",
        "# Terapkan method concat row-wise\r\n",
        "row_wise_concat = pd.concat([df2, df1])\r\n",
        "print(\"Row-wise - concat:\\n\", row_wise_concat)\r\n",
        "\r\n",
        "# Terapkan method concat column-wise\r\n",
        "col_wise_concat = pd.concat([df2, df1], axis=1)\r\n",
        "print(\"Column-wise - concat:\\n\", col_wise_concat)\r\n",
        "\r\n",
        "# Penambahan identifier --> membentuk hasil penggabungan multiindex\r\n",
        "multiindex_concat = pd.concat([df2,df1], axis=0, keys=['df1','df2'])\r\n",
        "print(\"Multiindex - concat:\\n\", multiindex_concat)"
      ],
      "execution_count": 8,
      "outputs": [
        {
          "output_type": "stream",
          "text": [
            "Row-wise - concat:\n",
            "    b  a\n",
            "0  1  3\n",
            "1  2  4\n",
            "0  3  1\n",
            "1  4  2\n",
            "Column-wise - concat:\n",
            "    b  a  a  b\n",
            "0  1  3  1  3\n",
            "1  2  4  2  4\n",
            "Multiindex - concat:\n",
            "        b  a\n",
            "df1 0  1  3\n",
            "    1  2  4\n",
            "df2 0  3  1\n",
            "    1  4  2\n"
          ],
          "name": "stdout"
        }
      ]
    },
    {
      "cell_type": "markdown",
      "metadata": {
        "id": "yDjAEzpIDhXe"
      },
      "source": [
        "### Merge - Part 1\r\n",
        "Method **.merge()** untuk menggabungkan Series/Dataframe yang bentuknya mirip dengan syntax join di SQL, specify left and right tables, join key dan how to join (left, right, inner, full outer)."
      ]
    },
    {
      "cell_type": "markdown",
      "metadata": {
        "id": "b--Lu3wiEpFV"
      },
      "source": [
        "Mari kita perhatikan contoh berikut:"
      ]
    },
    {
      "cell_type": "code",
      "metadata": {
        "colab": {
          "base_uri": "https://localhost:8080/"
        },
        "id": "lAKzqBJFC7MT",
        "outputId": "3d0b5946-038f-41ed-803f-4b3432da5323"
      },
      "source": [
        "# Buat dataframe df1 dan df2\r\n",
        "df1 = pd.DataFrame({\r\n",
        "   'key':['k1','k2','k3','k4','k5'],\r\n",
        "   'val1':[200, 500, 0, 500, 100],\r\n",
        "   'val2':[30, 50, 100, 20, 10]\r\n",
        "})\r\n",
        "print(\"df1:\\n\", df1)\r\n",
        "df2 = pd.DataFrame({\r\n",
        "   'key':['k1','k3','k5','k7','k10'],\r\n",
        "   'val3':[1,2,3,4,5],\r\n",
        "   'val4':[6,7,8,8,10]\r\n",
        "})\r\n",
        "print(\"df2:\\n\", df2)"
      ],
      "execution_count": 9,
      "outputs": [
        {
          "output_type": "stream",
          "text": [
            "df1:\n",
            "   key  val1  val2\n",
            "0  k1   200    30\n",
            "1  k2   500    50\n",
            "2  k3     0   100\n",
            "3  k4   500    20\n",
            "4  k5   100    10\n",
            "df2:\n",
            "    key  val3  val4\n",
            "0   k1     1     6\n",
            "1   k3     2     7\n",
            "2   k5     3     8\n",
            "3   k7     4     8\n",
            "4  k10     5    10\n"
          ],
          "name": "stdout"
        }
      ]
    },
    {
      "cell_type": "markdown",
      "metadata": {
        "id": "dS9LY0cvE487"
      },
      "source": [
        "pd.merge yang ekivalen dengan SQL **left join**"
      ]
    },
    {
      "cell_type": "code",
      "metadata": {
        "colab": {
          "base_uri": "https://localhost:8080/"
        },
        "id": "45Vbb8IEEsvp",
        "outputId": "34525f13-f63f-4c96-e69e-268b8d9d5e44"
      },
      "source": [
        "# Merge yang ekivalen dengan SQL left join\r\n",
        "merge_df_left = pd.merge(left=df1, right=df2, how='left', left_on='key',right_on='key')\r\n",
        "print('Merge - Left:\\n', merge_df_left)"
      ],
      "execution_count": 10,
      "outputs": [
        {
          "output_type": "stream",
          "text": [
            "Merge - Left:\n",
            "   key  val1  val2  val3  val4\n",
            "0  k1   200    30   1.0   6.0\n",
            "1  k2   500    50   NaN   NaN\n",
            "2  k3     0   100   2.0   7.0\n",
            "3  k4   500    20   NaN   NaN\n",
            "4  k5   100    10   3.0   8.0\n"
          ],
          "name": "stdout"
        }
      ]
    },
    {
      "cell_type": "markdown",
      "metadata": {
        "id": "uRmbyjAzFC9k"
      },
      "source": [
        "pd.merge yang ekivalen dengan SQL **right join**"
      ]
    },
    {
      "cell_type": "code",
      "metadata": {
        "colab": {
          "base_uri": "https://localhost:8080/"
        },
        "id": "gN2jpEv9E_rq",
        "outputId": "8b48191e-e966-4fc2-f793-102771a75a5b"
      },
      "source": [
        "# Merge yang ekivalen dengan SQL right join\r\n",
        "merge_df_right = pd.merge(left=df1, right=df2, how='right', left_on='key',right_on='key')\r\n",
        "print('Merge - Right:\\n', merge_df_right)"
      ],
      "execution_count": 11,
      "outputs": [
        {
          "output_type": "stream",
          "text": [
            "Merge - Right:\n",
            "    key   val1   val2  val3  val4\n",
            "0   k1  200.0   30.0     1     6\n",
            "1   k3    0.0  100.0     2     7\n",
            "2   k5  100.0   10.0     3     8\n",
            "3   k7    NaN    NaN     4     8\n",
            "4  k10    NaN    NaN     5    10\n"
          ],
          "name": "stdout"
        }
      ]
    },
    {
      "cell_type": "markdown",
      "metadata": {
        "id": "ViQ0WzAeFaPl"
      },
      "source": [
        "pd.merge yang ekivalen dengan SQL **inner join**"
      ]
    },
    {
      "cell_type": "code",
      "metadata": {
        "colab": {
          "base_uri": "https://localhost:8080/"
        },
        "id": "SO0gaIRiFIN5",
        "outputId": "cf0c1e17-090a-442a-82e1-8a47e47564db"
      },
      "source": [
        "# Merge yang ekivalen dengan SQL inner join\r\n",
        "merge_df_inner = pd.merge(left=df1, right=df2, how='inner', left_on='key',right_on='key')\r\n",
        "print('Merge - Inner:\\n', merge_df_inner)"
      ],
      "execution_count": 12,
      "outputs": [
        {
          "output_type": "stream",
          "text": [
            "Merge - Inner:\n",
            "   key  val1  val2  val3  val4\n",
            "0  k1   200    30     1     6\n",
            "1  k3     0   100     2     7\n",
            "2  k5   100    10     3     8\n"
          ],
          "name": "stdout"
        }
      ]
    },
    {
      "cell_type": "markdown",
      "metadata": {
        "id": "iZWKyBAtFicO"
      },
      "source": [
        "pd.merge yang ekivalen dengan SQL **outer join**"
      ]
    },
    {
      "cell_type": "code",
      "metadata": {
        "colab": {
          "base_uri": "https://localhost:8080/"
        },
        "id": "9mGhoQcSFfkn",
        "outputId": "0a09ab31-b52b-4b89-9eec-c497e4c37503"
      },
      "source": [
        "# Merge yang ekivalen dengan SQL outer join\r\n",
        "merge_df_outer = pd.merge(left=df1, right=df2, how='outer', left_on='key',right_on='key')\r\n",
        "print('Merge - Outer:\\n', merge_df_outer)"
      ],
      "execution_count": 13,
      "outputs": [
        {
          "output_type": "stream",
          "text": [
            "Merge - Outer:\n",
            "    key   val1   val2  val3  val4\n",
            "0   k1  200.0   30.0   1.0   6.0\n",
            "1   k2  500.0   50.0   NaN   NaN\n",
            "2   k3    0.0  100.0   2.0   7.0\n",
            "3   k4  500.0   20.0   NaN   NaN\n",
            "4   k5  100.0   10.0   3.0   8.0\n",
            "5   k7    NaN    NaN   4.0   8.0\n",
            "6  k10    NaN    NaN   5.0  10.0\n"
          ],
          "name": "stdout"
        }
      ]
    },
    {
      "cell_type": "markdown",
      "metadata": {
        "id": "2ancf_v_FqHV"
      },
      "source": [
        "**Tugas Praktek:**\r\n",
        "\r\n",
        "Pada contoh di atas keyword argument left=df1 dan right=df2, untuk praktek gunakanlah keyword argument untuk left dan right masing-masingnya adalah df2 dan df1."
      ]
    },
    {
      "cell_type": "code",
      "metadata": {
        "colab": {
          "base_uri": "https://localhost:8080/"
        },
        "id": "QSX_ns9cFmu1",
        "outputId": "6f04b6fb-55aa-4967-cdf5-4b6bd33c4a08"
      },
      "source": [
        "import pandas as pd\r\n",
        "# Buat dataframe df1 dan df2\r\n",
        "df1 = pd.DataFrame({\r\n",
        "   'key':['k1','k2','k3','k4','k5'],\r\n",
        "   'val1':[200, 500, 0, 500, 100],\r\n",
        "   'val2':[30, 50, 100, 20, 10]\r\n",
        "})\r\n",
        "df2 = pd.DataFrame({\r\n",
        "   'key':['k1','k3','k5','k7','k10'],\r\n",
        "   'val3':[1,2,3,4,5],\r\n",
        "   'val4':[6,7,8,8,10]\r\n",
        "})\r\n",
        "# Merge yang ekivalen dengan SQL left join\r\n",
        "merge_df_left = pd.merge(left=df2, right=df1, how='left', left_on='key',right_on='key')\r\n",
        "print('Merge - Left:\\n', merge_df_left)\r\n",
        "\r\n",
        "# Merge yang ekivalen dengan SQL right join\r\n",
        "merge_df_right = pd.merge(left=df2, right=df1, how='right', left_on='key',right_on='key')\r\n",
        "print('Merge - Right:\\n', merge_df_right)\r\n",
        "\r\n",
        "# Merge yang ekivalen dengan SQL inner join\r\n",
        "merge_df_inner = pd.merge(left=df2, right=df1, how='inner', left_on='key',right_on='key')\r\n",
        "print('Merge - Inner:\\n', merge_df_inner)\r\n",
        "\r\n",
        "# Merge yang ekivalen dengan SQL outer join\r\n",
        "merge_df_outer = pd.merge(left=df2, right=df1, how='outer', left_on='key',right_on='key')\r\n",
        "print('Merge - Outer:\\n', merge_df_outer)"
      ],
      "execution_count": 14,
      "outputs": [
        {
          "output_type": "stream",
          "text": [
            "Merge - Left:\n",
            "    key  val3  val4   val1   val2\n",
            "0   k1     1     6  200.0   30.0\n",
            "1   k3     2     7    0.0  100.0\n",
            "2   k5     3     8  100.0   10.0\n",
            "3   k7     4     8    NaN    NaN\n",
            "4  k10     5    10    NaN    NaN\n",
            "Merge - Right:\n",
            "   key  val3  val4  val1  val2\n",
            "0  k1   1.0   6.0   200    30\n",
            "1  k2   NaN   NaN   500    50\n",
            "2  k3   2.0   7.0     0   100\n",
            "3  k4   NaN   NaN   500    20\n",
            "4  k5   3.0   8.0   100    10\n",
            "Merge - Inner:\n",
            "   key  val3  val4  val1  val2\n",
            "0  k1     1     6   200    30\n",
            "1  k3     2     7     0   100\n",
            "2  k5     3     8   100    10\n",
            "Merge - Outer:\n",
            "    key  val3  val4   val1   val2\n",
            "0   k1   1.0   6.0  200.0   30.0\n",
            "1   k3   2.0   7.0    0.0  100.0\n",
            "2   k5   3.0   8.0  100.0   10.0\n",
            "3   k7   4.0   8.0    NaN    NaN\n",
            "4  k10   5.0  10.0    NaN    NaN\n",
            "5   k2   NaN   NaN  500.0   50.0\n",
            "6   k4   NaN   NaN  500.0   20.0\n"
          ],
          "name": "stdout"
        }
      ]
    },
    {
      "cell_type": "markdown",
      "metadata": {
        "id": "4anCZ5zZFxSD"
      },
      "source": [
        "### Merge - Part 2\r\n",
        "Penggunaan method .merge yang telah dipelajari pada part 1 adalah untuk dataframe dengan index tunggal.\r\n",
        "\r\n",
        "Bagaimana jika salah satu dataframe atau keseluruhan dataframe yang akan digabungkan tersebut memiliki multiindex?"
      ]
    },
    {
      "cell_type": "code",
      "metadata": {
        "id": "9y-Ea8zmFuwN",
        "colab": {
          "base_uri": "https://localhost:8080/"
        },
        "outputId": "17b33809-f501-4aff-f90e-cf5411ed3256"
      },
      "source": [
        "import pandas as pd\r\n",
        "# Buat dataframe df1 dan df2\r\n",
        "df1 = pd.DataFrame({\r\n",
        "   'key':['k1','k2','k3','k4','k5'],\r\n",
        "   'val1':[200, 500, 0, 500, 100],\r\n",
        "   'val2':[30, 50, 100, 20, 10]\r\n",
        "}).set_index(['key','val2'])\r\n",
        "print('Dataframe 1:\\n', df1)\r\n",
        "df2 = pd.DataFrame({\r\n",
        "   'key':['k1','k3','k5','k7','k10'],\r\n",
        "   'val3':[1,2,3,4,5],\r\n",
        "   'val4':[6,7,8,8,10]\r\n",
        "}).set_index(['key','val3'])\r\n",
        "print('Dataframe 2:\\n', df2)"
      ],
      "execution_count": 15,
      "outputs": [
        {
          "output_type": "stream",
          "text": [
            "Dataframe 1:\n",
            "           val1\n",
            "key val2      \n",
            "k1  30     200\n",
            "k2  50     500\n",
            "k3  100      0\n",
            "k4  20     500\n",
            "k5  10     100\n",
            "Dataframe 2:\n",
            "           val4\n",
            "key val3      \n",
            "k1  1        6\n",
            "k3  2        7\n",
            "k5  3        8\n",
            "k7  4        8\n",
            "k10 5       10\n"
          ],
          "name": "stdout"
        }
      ]
    },
    {
      "cell_type": "markdown",
      "metadata": {
        "id": "5KUEuthIHunw"
      },
      "source": [
        "Jika digabungkan secara langsung seperti yang telah dilakukan pada bagian sebelumnya"
      ]
    },
    {
      "cell_type": "code",
      "metadata": {
        "id": "NNvvWztIHtnJ"
      },
      "source": [
        "# Merge dataframe yang memiliki multi index\r\n",
        "# df_merge = pd.merge(df1,df2)\r\n",
        "# print('Merging dataframe:\\n', df_merge)"
      ],
      "execution_count": 16,
      "outputs": []
    },
    {
      "cell_type": "markdown",
      "metadata": {
        "id": "iBQ_1CbNH8Fa"
      },
      "source": [
        "akan menghasilkan terjadi kegagalan dalam merging kedua dataframe yang memiliki multi index.\r\n",
        "\r\n",
        "Cara mengatasinya adalah dengan mereset index pada kedua dataframe, kemudian merge akan mendeteksi common single/multi column di kedua dataframe dan melakukan merge,"
      ]
    },
    {
      "cell_type": "code",
      "metadata": {
        "colab": {
          "base_uri": "https://localhost:8080/"
        },
        "id": "ozs3Yk4yH7aT",
        "outputId": "a300fcd8-46c5-4867-ee09-f951ea9a276a"
      },
      "source": [
        "# Merge dataframe yang memiliki multi index\r\n",
        "df_merge = pd.merge(df1.reset_index(),df2.reset_index())\r\n",
        "print('Merging dataframe:\\n', df_merge)"
      ],
      "execution_count": 17,
      "outputs": [
        {
          "output_type": "stream",
          "text": [
            "Merging dataframe:\n",
            "   key  val2  val1  val3  val4\n",
            "0  k1    30   200     1     6\n",
            "1  k3   100     0     2     7\n",
            "2  k5    10   100     3     8\n"
          ],
          "name": "stdout"
        }
      ]
    },
    {
      "cell_type": "markdown",
      "metadata": {
        "id": "XaeKec8tJ7Q-"
      },
      "source": [
        "### Join\r\n",
        "Metthod **.join()** digunakan pada dataframe untuk menggabungkan kedua data dengan set index pada kedua tabel tersebut sebagai join key, tanpa index, hal ini tidak akan berhasil.\r\n"
      ]
    },
    {
      "cell_type": "markdown",
      "metadata": {
        "id": "1SXIfD_uKAI6"
      },
      "source": [
        "Coba  lihat kasusnya"
      ]
    },
    {
      "cell_type": "code",
      "metadata": {
        "id": "CYOFHog9IEVb"
      },
      "source": [
        "import pandas as pd\r\n",
        "# Buat dataframe df1 dan df2\r\n",
        "df1 = pd.DataFrame({\r\n",
        "   'key':['k1','k2','k3','k4','k5'],\r\n",
        "   'val1':[200, 500, 0, 500, 100],\r\n",
        "   'val2':[30, 50, 100, 20, 10]\r\n",
        "})\r\n",
        "df2 = pd.DataFrame({\r\n",
        "   'key':['k1','k3','k5','k7','k10'],\r\n",
        "   'val3':[1,2,3,4,5],\r\n",
        "   'val4':[6,7,8,8,10]\r\n",
        "})\r\n",
        "# Penerapan join dengan menggunakan set_index dan keyword how\r\n",
        "# df1.join(df2) #<-- akan error"
      ],
      "execution_count": 18,
      "outputs": []
    },
    {
      "cell_type": "markdown",
      "metadata": {
        "id": "JqnCDA6NKVFp"
      },
      "source": [
        "Untuk itu, jika dilakukan seperti ini"
      ]
    },
    {
      "cell_type": "code",
      "metadata": {
        "colab": {
          "base_uri": "https://localhost:8080/"
        },
        "id": "FIZ4gv0tKSV1",
        "outputId": "676674e9-dfab-4b1d-ebd9-e1da1433370e"
      },
      "source": [
        "print(df1.set_index('key').join(df2.set_index('key')))"
      ],
      "execution_count": 19,
      "outputs": [
        {
          "output_type": "stream",
          "text": [
            "     val1  val2  val3  val4\n",
            "key                        \n",
            "k1    200    30   1.0   6.0\n",
            "k2    500    50   NaN   NaN\n",
            "k3      0   100   2.0   7.0\n",
            "k4    500    20   NaN   NaN\n",
            "k5    100    10   3.0   8.0\n"
          ],
          "name": "stdout"
        }
      ]
    },
    {
      "cell_type": "markdown",
      "metadata": {
        "id": "4AJGd9VLKnJb"
      },
      "source": [
        "secara default, fungsi join ini akan mengeksekusi left join."
      ]
    },
    {
      "cell_type": "markdown",
      "metadata": {
        "id": "UVuCe7Q-KqIr"
      },
      "source": [
        "Untuk tipe join yang lain (contoh=inner), harus menspecify keyword how='inner' seperti yang dicontohkan berikut ini"
      ]
    },
    {
      "cell_type": "code",
      "metadata": {
        "colab": {
          "base_uri": "https://localhost:8080/"
        },
        "id": "uZJUfDa8KkYp",
        "outputId": "f6a7c164-77f3-45c4-9483-2f728a6f0721"
      },
      "source": [
        "join_df = df1.set_index('key').join(df2.set_index('key'), how='inner')\r\n",
        "print(join_df)"
      ],
      "execution_count": 20,
      "outputs": [
        {
          "output_type": "stream",
          "text": [
            "     val1  val2  val3  val4\n",
            "key                        \n",
            "k1    200    30     1     6\n",
            "k3      0   100     2     7\n",
            "k5    100    10     3     8\n"
          ],
          "name": "stdout"
        }
      ]
    },
    {
      "cell_type": "markdown",
      "metadata": {
        "id": "1d6HFWT5LAAv"
      },
      "source": [
        "**Tugas Praktek**:\r\n",
        "\r\n",
        "Lakukanlah seperti yang dicontohkan tetapi penggabungan dengan method join berupa outer join.\r\n"
      ]
    },
    {
      "cell_type": "code",
      "metadata": {
        "colab": {
          "base_uri": "https://localhost:8080/"
        },
        "id": "3h5r49nxK84e",
        "outputId": "5ca133fb-7467-4866-ece5-110561b01878"
      },
      "source": [
        "import pandas as pd\r\n",
        "# Buat dataframe df1 dan df2\r\n",
        "df1 = pd.DataFrame({\r\n",
        "   'key':['k1','k2','k3','k4','k5'],\r\n",
        "   'val1':[200, 500, 0, 500, 100],\r\n",
        "   'val2':[30, 50, 100, 20, 10]\r\n",
        "})\r\n",
        "df2 = pd.DataFrame({\r\n",
        "   'key':['k1','k3','k5','k7','k10'],\r\n",
        "   'val3':[1,2,3,4,5],\r\n",
        "   'val4':[6,7,8,8,10]\r\n",
        "})\r\n",
        "# Penerapan join dengan menggunakan set_index dan keyword how\r\n",
        "join_df = df1.set_index('key').join(df2.set_index('key'), how='outer')\r\n",
        "print(join_df)"
      ],
      "execution_count": 21,
      "outputs": [
        {
          "output_type": "stream",
          "text": [
            "      val1   val2  val3  val4\n",
            "key                          \n",
            "k1   200.0   30.0   1.0   6.0\n",
            "k10    NaN    NaN   5.0  10.0\n",
            "k2   500.0   50.0   NaN   NaN\n",
            "k3     0.0  100.0   2.0   7.0\n",
            "k4   500.0   20.0   NaN   NaN\n",
            "k5   100.0   10.0   3.0   8.0\n",
            "k7     NaN    NaN   4.0   8.0\n"
          ],
          "name": "stdout"
        }
      ]
    },
    {
      "cell_type": "markdown",
      "metadata": {
        "id": "n7ku6uzPMXpj"
      },
      "source": [
        "## **Pivot, Melt, Stack & Unstack**"
      ]
    },
    {
      "cell_type": "markdown",
      "metadata": {
        "id": "7-in9OfyM2N3"
      },
      "source": [
        "### Pendahuluan\r\n",
        "Kotak masuk emailku tak hentinya menerima sejumlah link baru dari Andra untuk bab-bab yang akan kupelajari di modul Pandas part 2 ini. Banyak sekali referensi dari Andra!\r\n",
        "\r\n",
        "“Pivot, Melt, Stack, dan Unstack, apa ini?” gumamku sendiri membaca subject email Andra.\r\n",
        "\r\n",
        "Aku pun bergegas mengaksesnya:\r\n",
        "\r\n",
        "Reference: https://pandas.pydata.org/pandas-docs/stable/user_guide/reshaping.html\r\n",
        "\r\n",
        " \r\n",
        "\r\n",
        "Melakukan format ulang pada dataset itu sangatlah penting, biasanya hal ini dilakukan untuk mengetahui keseluruhan data secara cepat dengan chart atau visualisasi. Untuk orang yang sudah mahir menggunakan spreadsheet pastilah tau banyak tentang fitur pivot ini.\r\n",
        "\r\n",
        "Di Pandas, ada beberapa teknik untuk melakukan pivot atau unpivot yang biasa disebut as melt di Pandas, terdapat pula konsep stack yang artinya menumpuk data dengan kolom yang lebih sedikit (stack) sama seperti konsep melt dan ada pula yang memperluas data dengan kolom yang lebih banyak (unstack) sama seperti konsep pivot.\r\n",
        "\r\n",
        " "
      ]
    },
    {
      "cell_type": "markdown",
      "metadata": {
        "id": "H4iVAn5VQs77"
      },
      "source": [
        "### Dataset\r\n",
        "Untuk memahami konsep pivot, melt, stack, dan unstack pada Pandas mari persiapkan dataset sederhana terlebih dahulu."
      ]
    },
    {
      "cell_type": "code",
      "metadata": {
        "colab": {
          "base_uri": "https://localhost:8080/"
        },
        "id": "bfFA_I6ALjt1",
        "outputId": "736aa9ec-1cf1-405f-a16e-152744f7b175"
      },
      "source": [
        "import pandas as pd\r\n",
        "# Dataframe\r\n",
        "data = pd.DataFrame({\r\n",
        "  'kelas': 6*['A'] + 6*['B'],\r\n",
        "  'murid': 2*['A1'] + 2*['A2'] + 2*['A3'] + 2*['B1'] + 2*['B2'] + 2*['B3'],\r\n",
        "  'pelajaran': 6*['math','english'],\r\n",
        "  'nilai': [90,60,70,85,50,60,100,40,95,80,60,45]\r\n",
        "}, columns=['kelas','murid','pelajaran','nilai'])\r\n",
        "print(\"Data:\\n\", data)\r\n",
        "# Ukuran dataframe \r\n",
        "print('Data terdiri atas %d baris dan %d kolom.' % data.shape)"
      ],
      "execution_count": 22,
      "outputs": [
        {
          "output_type": "stream",
          "text": [
            "Data:\n",
            "    kelas murid pelajaran  nilai\n",
            "0      A    A1      math     90\n",
            "1      A    A1   english     60\n",
            "2      A    A2      math     70\n",
            "3      A    A2   english     85\n",
            "4      A    A3      math     50\n",
            "5      A    A3   english     60\n",
            "6      B    B1      math    100\n",
            "7      B    B1   english     40\n",
            "8      B    B2      math     95\n",
            "9      B    B2   english     80\n",
            "10     B    B3      math     60\n",
            "11     B    B3   english     45\n",
            "Data terdiri atas 12 baris dan 4 kolom.\n"
          ],
          "name": "stdout"
        }
      ]
    },
    {
      "cell_type": "markdown",
      "metadata": {
        "id": "fKmDW41fRj40"
      },
      "source": [
        "**Tugas Praktek:**\r\n",
        "\r\n",
        "Carilah unique records/value pada keempat kolom dataframe 'data'."
      ]
    },
    {
      "cell_type": "code",
      "metadata": {
        "colab": {
          "base_uri": "https://localhost:8080/"
        },
        "id": "wq3mGYfDRX2c",
        "outputId": "fb95b70f-d007-4e4e-fd52-421b1900cf52"
      },
      "source": [
        "import pandas as pd\r\n",
        "# Dataframe\r\n",
        "data = pd.DataFrame({\r\n",
        "  'kelas': 6*['A'] + 6*['B'],\r\n",
        "  'murid': 2*['A1'] + 2*['A2'] + 2*['A3'] + 2*['B1'] + 2*['B2'] + 2*['B3'],\r\n",
        "  'pelajaran': 6*['math','english'],\r\n",
        "  'nilai': [90,60,70,85,50,60,100,40,95,80,60,45]\r\n",
        "}, columns=['kelas','murid','pelajaran','nilai'])\r\n",
        "# Unique value pada setiap kolom data\r\n",
        "for column in data.columns:\r\n",
        "\tprint('Unique value %s: %s' % (column, data[column].unique()))"
      ],
      "execution_count": 23,
      "outputs": [
        {
          "output_type": "stream",
          "text": [
            "Unique value kelas: ['A' 'B']\n",
            "Unique value murid: ['A1' 'A2' 'A3' 'B1' 'B2' 'B3']\n",
            "Unique value pelajaran: ['math' 'english']\n",
            "Unique value nilai: [ 90  60  70  85  50 100  40  95  80  45]\n"
          ],
          "name": "stdout"
        }
      ]
    },
    {
      "cell_type": "markdown",
      "metadata": {
        "id": "5HajAArxo58X"
      },
      "source": [
        "### Pivot\r\n",
        "Untuk menerapkan menerapkan method .pivot() pada dataframe dapat dilakukan pada dataframe yang miliki index tunggal ataupun indexnya adalah multiindex.\r\n",
        "\r\n",
        "\r\n",
        "Untuk dataset yang masih sama, yaitu data."
      ]
    },
    {
      "cell_type": "code",
      "metadata": {
        "id": "MKZZNdzSR2tr"
      },
      "source": [
        "import pandas as pd\r\n",
        "# Dataframe\r\n",
        "data = pd.DataFrame({\r\n",
        "  'kelas': 6*['A'] + 6*['B'],\r\n",
        "  'murid': 2*['A1'] + 2*['A2'] + 2*['A3'] + 2*['B1'] + 2*['B2'] + 2*['B3'],\r\n",
        "  'pelajaran': 6*['math','english'],\r\n",
        "  'nilai': [90,60,70,85,50,60,100,40,95,80,60,45]\r\n",
        "}, columns=['kelas','murid','pelajaran','nilai'])"
      ],
      "execution_count": 24,
      "outputs": []
    },
    {
      "cell_type": "code",
      "metadata": {
        "id": "EdRfc-mRpGVA",
        "outputId": "d349f577-7d91-47e7-abb7-b19772408b10",
        "colab": {
          "base_uri": "https://localhost:8080/",
          "height": 417
        }
      },
      "source": [
        "data"
      ],
      "execution_count": 25,
      "outputs": [
        {
          "output_type": "execute_result",
          "data": {
            "text/html": [
              "<div>\n",
              "<style scoped>\n",
              "    .dataframe tbody tr th:only-of-type {\n",
              "        vertical-align: middle;\n",
              "    }\n",
              "\n",
              "    .dataframe tbody tr th {\n",
              "        vertical-align: top;\n",
              "    }\n",
              "\n",
              "    .dataframe thead th {\n",
              "        text-align: right;\n",
              "    }\n",
              "</style>\n",
              "<table border=\"1\" class=\"dataframe\">\n",
              "  <thead>\n",
              "    <tr style=\"text-align: right;\">\n",
              "      <th></th>\n",
              "      <th>kelas</th>\n",
              "      <th>murid</th>\n",
              "      <th>pelajaran</th>\n",
              "      <th>nilai</th>\n",
              "    </tr>\n",
              "  </thead>\n",
              "  <tbody>\n",
              "    <tr>\n",
              "      <th>0</th>\n",
              "      <td>A</td>\n",
              "      <td>A1</td>\n",
              "      <td>math</td>\n",
              "      <td>90</td>\n",
              "    </tr>\n",
              "    <tr>\n",
              "      <th>1</th>\n",
              "      <td>A</td>\n",
              "      <td>A1</td>\n",
              "      <td>english</td>\n",
              "      <td>60</td>\n",
              "    </tr>\n",
              "    <tr>\n",
              "      <th>2</th>\n",
              "      <td>A</td>\n",
              "      <td>A2</td>\n",
              "      <td>math</td>\n",
              "      <td>70</td>\n",
              "    </tr>\n",
              "    <tr>\n",
              "      <th>3</th>\n",
              "      <td>A</td>\n",
              "      <td>A2</td>\n",
              "      <td>english</td>\n",
              "      <td>85</td>\n",
              "    </tr>\n",
              "    <tr>\n",
              "      <th>4</th>\n",
              "      <td>A</td>\n",
              "      <td>A3</td>\n",
              "      <td>math</td>\n",
              "      <td>50</td>\n",
              "    </tr>\n",
              "    <tr>\n",
              "      <th>5</th>\n",
              "      <td>A</td>\n",
              "      <td>A3</td>\n",
              "      <td>english</td>\n",
              "      <td>60</td>\n",
              "    </tr>\n",
              "    <tr>\n",
              "      <th>6</th>\n",
              "      <td>B</td>\n",
              "      <td>B1</td>\n",
              "      <td>math</td>\n",
              "      <td>100</td>\n",
              "    </tr>\n",
              "    <tr>\n",
              "      <th>7</th>\n",
              "      <td>B</td>\n",
              "      <td>B1</td>\n",
              "      <td>english</td>\n",
              "      <td>40</td>\n",
              "    </tr>\n",
              "    <tr>\n",
              "      <th>8</th>\n",
              "      <td>B</td>\n",
              "      <td>B2</td>\n",
              "      <td>math</td>\n",
              "      <td>95</td>\n",
              "    </tr>\n",
              "    <tr>\n",
              "      <th>9</th>\n",
              "      <td>B</td>\n",
              "      <td>B2</td>\n",
              "      <td>english</td>\n",
              "      <td>80</td>\n",
              "    </tr>\n",
              "    <tr>\n",
              "      <th>10</th>\n",
              "      <td>B</td>\n",
              "      <td>B3</td>\n",
              "      <td>math</td>\n",
              "      <td>60</td>\n",
              "    </tr>\n",
              "    <tr>\n",
              "      <th>11</th>\n",
              "      <td>B</td>\n",
              "      <td>B3</td>\n",
              "      <td>english</td>\n",
              "      <td>45</td>\n",
              "    </tr>\n",
              "  </tbody>\n",
              "</table>\n",
              "</div>"
            ],
            "text/plain": [
              "   kelas murid pelajaran  nilai\n",
              "0      A    A1      math     90\n",
              "1      A    A1   english     60\n",
              "2      A    A2      math     70\n",
              "3      A    A2   english     85\n",
              "4      A    A3      math     50\n",
              "5      A    A3   english     60\n",
              "6      B    B1      math    100\n",
              "7      B    B1   english     40\n",
              "8      B    B2      math     95\n",
              "9      B    B2   english     80\n",
              "10     B    B3      math     60\n",
              "11     B    B3   english     45"
            ]
          },
          "metadata": {
            "tags": []
          },
          "execution_count": 25
        }
      ]
    },
    {
      "cell_type": "markdown",
      "metadata": {
        "id": "TDIDwOpIpKRf"
      },
      "source": [
        "**Pivoting** dengan **single column** measurement"
      ]
    },
    {
      "cell_type": "code",
      "metadata": {
        "id": "NN3thP44pINv",
        "outputId": "d956e39d-5618-46fc-c7c3-e01109dbae89",
        "colab": {
          "base_uri": "https://localhost:8080/"
        }
      },
      "source": [
        "# Pivoting with single column measurement\r\n",
        "pivot1 = data.pivot(index='murid', columns='pelajaran', values='nilai')\r\n",
        "print('Pivoting with single columns measurement:\\n', pivot1)"
      ],
      "execution_count": 26,
      "outputs": [
        {
          "output_type": "stream",
          "text": [
            "Pivoting with single columns measurement:\n",
            " pelajaran  english  math\n",
            "murid                   \n",
            "A1              60    90\n",
            "A2              85    70\n",
            "A3              60    50\n",
            "B1              40   100\n",
            "B2              80    95\n",
            "B3              45    60\n"
          ],
          "name": "stdout"
        }
      ]
    },
    {
      "cell_type": "markdown",
      "metadata": {
        "id": "Cw8NnXSLpzSZ"
      },
      "source": [
        "**Pivoting** dengan **multiple column** measurement"
      ]
    },
    {
      "cell_type": "code",
      "metadata": {
        "id": "uwBwEGrIpomk",
        "outputId": "20878b43-736e-41f5-926f-19ac2ff63ded",
        "colab": {
          "base_uri": "https://localhost:8080/"
        }
      },
      "source": [
        "# Pivoting with multiple column measurement\r\n",
        "pivot2 = data.pivot(index='murid', columns='pelajaran')\r\n",
        "print('Pivoting with single columns measurement:\\n', pivot2)"
      ],
      "execution_count": 27,
      "outputs": [
        {
          "output_type": "stream",
          "text": [
            "Pivoting with single columns measurement:\n",
            "             kelas        nilai     \n",
            "pelajaran english math english math\n",
            "murid                              \n",
            "A1              A    A      60   90\n",
            "A2              A    A      85   70\n",
            "A3              A    A      60   50\n",
            "B1              B    B      40  100\n",
            "B2              B    B      80   95\n",
            "B3              B    B      45   60\n"
          ],
          "name": "stdout"
        }
      ]
    },
    {
      "cell_type": "markdown",
      "metadata": {
        "id": "xx_Pw7CSqJH4"
      },
      "source": [
        "**Penjelasan:**\r\n",
        "\r\n",
        "Apa yang berbeda dari kedua code di atas? Pada code pertama di specify values mana yang akan dilakukan pivot sedangkan di kedua tidak specific mana yang akan dilakukan pivot maka Pandas secara default men-treat kolom yang ada selain yang telah di specify as index dan columns as values instead."
      ]
    },
    {
      "cell_type": "markdown",
      "metadata": {
        "id": "-SBQFOSwrH9Q"
      },
      "source": [
        "### Pivot_table\r\n",
        "Apa yang terjadi kalau output pivot tabel memiliki duplicate index? Seperti yang diketahui, index di dataframe adalah unique identifier untuk setiap row, jadi tidak boleh ada duplikat dan setiap membuat pivot tabel, harus specify index as kolom yang mana dan columns nya memakai kolom yang mana.\r\n",
        "\r\n",
        "Perhatikan contoh yang diilustrasikan berikut ini\r\n"
      ]
    },
    {
      "cell_type": "code",
      "metadata": {
        "id": "oiG7Dt_jqD1t"
      },
      "source": [
        "import pandas as pd\r\n",
        "# Dataframe\r\n",
        "data = pd.DataFrame({\r\n",
        "  'kelas': 6*['A'] + 6*['B'],\r\n",
        "  'murid': 2*['A1'] + 2*['A2'] + 2*['A3'] + 2*['B1'] + 2*['B2'] + 2*['B3'],\r\n",
        "  'pelajaran': 6*['math','english'],\r\n",
        "  'nilai': [90,60,70,85,50,60,100,40,95,80,60,45]\r\n",
        "}, columns=['kelas','murid','pelajaran','nilai'])\r\n",
        "# Creating pivot and assign pivot_tab\r\n",
        "#pivot_tab = data.pivot(index='kelas',columns='pelajaran',values='nilai')\r\n",
        "#print('Creating pivot table:\\n', pivot_tab)"
      ],
      "execution_count": 29,
      "outputs": []
    },
    {
      "cell_type": "markdown",
      "metadata": {
        "id": "mC5xKu57saeV"
      },
      "source": [
        "* Code diatas akan menghasilkan error"
      ]
    },
    {
      "cell_type": "markdown",
      "metadata": {
        "id": "bvJRfaXAsWEY"
      },
      "source": [
        "Hal ini dapat diatasi dengan melakukan method **.pivot_table()** pada dataframe. Metode ini sama seperti melakukan pivot pada tabel tapi juga melakukan **groupby** dan **aggregation** (aggfunc) pada level rows sehingga dipastikan tidak ada duplicate index di rows (secara default aggfunc = 'mean').\r\n",
        "\r\n",
        "Perhatikan cuplikan berikut ini"
      ]
    },
    {
      "cell_type": "markdown",
      "metadata": {
        "id": "B7gkWMgtssXn"
      },
      "source": [
        "![image.png](data:image/png;base64,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)"
      ]
    },
    {
      "cell_type": "code",
      "metadata": {
        "id": "zj5_MR0ksBBJ",
        "outputId": "dc4ef78b-7582-4572-ac07-42492c22e41f",
        "colab": {
          "base_uri": "https://localhost:8080/"
        }
      },
      "source": [
        "# Creating pivot and assign pivot_tab dengan menggunakan keyword aggfunc\r\n",
        "pivot_tab = data.pivot_table(index='kelas',columns='pelajaran',values='nilai',aggfunc=sum)\r\n",
        "print('Creating pivot table:\\n', pivot_tab)"
      ],
      "execution_count": 30,
      "outputs": [
        {
          "output_type": "stream",
          "text": [
            "Creating pivot table:\n",
            " pelajaran  english  math\n",
            "kelas                   \n",
            "A              205   210\n",
            "B              165   255\n"
          ],
          "name": "stdout"
        }
      ]
    },
    {
      "cell_type": "code",
      "metadata": {
        "id": "xpIZFWQftR5h"
      },
      "source": [
        ""
      ],
      "execution_count": null,
      "outputs": []
    }
  ]
}